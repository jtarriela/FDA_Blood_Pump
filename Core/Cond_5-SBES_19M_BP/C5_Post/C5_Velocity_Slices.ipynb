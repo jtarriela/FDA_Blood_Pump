{
 "cells": [
  {
   "cell_type": "code",
   "execution_count": 1,
   "metadata": {
    "collapsed": true
   },
   "outputs": [],
   "source": [
    "from postpro.TecPlot.postpro_scripts.extract_points_through_time import Point_Extraction as PET\n",
    "from postpro.ASCII_time_avg import ascii_averaging\n",
    "import pandas as pd\n",
    "import numpy as np\n",
    "import glob\n",
    "import os\n",
    "import math\n",
    "\n",
    "# pd.options.plotting.backend = \"plotly\"\n",
    "import plotly.express as px\n",
    "from plotly.subplots import make_subplots\n",
    "import plotly.graph_objects as go\n",
    "\n",
    "from pint import UnitRegistry\n",
    "\n",
    "ureg = UnitRegistry()\n",
    "Q_ = ureg.Quantity"
   ]
  },
  {
   "cell_type": "code",
   "execution_count": 2,
   "outputs": [
    {
     "name": "stdout",
     "output_type": "stream",
     "text": [
      "D1 DF Conversion Complete\n",
      "\n",
      "Connecting to Tecplot 360 TecUtil Server on:\n",
      "    tcp://localhost:7600\n",
      "Connection established.\n",
      "Elapsed:  88.37646007537842\n",
      "D1 TecPlot Extraction Complete\n",
      "\n",
      "D2 DF Conversion Complete\n",
      "\n",
      "Connecting to Tecplot 360 TecUtil Server on:\n",
      "    tcp://localhost:7600\n",
      "Connection established.\n",
      "Elapsed:  119.87453126907349\n",
      "D2 TecPlot Extraction Complete\n",
      "\n",
      "D3 DF Conversion Complete\n",
      "\n",
      "Connecting to Tecplot 360 TecUtil Server on:\n",
      "    tcp://localhost:7600\n",
      "Connection established.\n",
      "Elapsed:  148.4270956516266\n",
      "D3 TecPlot Extraction Complete\n",
      "\n",
      "D4 DF Conversion Complete\n",
      "\n",
      "Connecting to Tecplot 360 TecUtil Server on:\n",
      "    tcp://localhost:7600\n",
      "Connection established.\n",
      "Elapsed:  182.6810302734375\n",
      "D4 TecPlot Extraction Complete\n",
      "\n",
      "Q1 DF Conversion Complete\n",
      "\n",
      "Connecting to Tecplot 360 TecUtil Server on:\n",
      "    tcp://localhost:7600\n",
      "Connection established.\n",
      "Elapsed:  148.7422378063202\n",
      "Q1 TecPlot Extraction Complete\n",
      "\n",
      "Q2 DF Conversion Complete\n",
      "\n",
      "Connecting to Tecplot 360 TecUtil Server on:\n",
      "    tcp://localhost:7600\n",
      "Connection established.\n",
      "Elapsed:  138.01011991500854\n",
      "Q2 TecPlot Extraction Complete\n",
      "\n"
     ]
    }
   ],
   "source": [
    "C5_coordinates = {\n",
    "    'D1': r'C:\\Users\\Joseph Tarriela\\Documents\\GitHub\\FDA_Blood_Pump\\postpro\\C5_sampling_coordinates\\C5_D1_Coordinates.txt',\n",
    "    'D2': r'C:\\Users\\Joseph Tarriela\\Documents\\GitHub\\FDA_Blood_Pump\\postpro\\C5_sampling_coordinates\\C5_D2_Coordinates.txt',\n",
    "    'D3': r'C:\\Users\\Joseph Tarriela\\Documents\\GitHub\\FDA_Blood_Pump\\postpro\\C5_sampling_coordinates\\C5_D3_Coordinates.txt',\n",
    "    'D4': r'C:\\Users\\Joseph Tarriela\\Documents\\GitHub\\FDA_Blood_Pump\\postpro\\C5_sampling_coordinates\\C5_D4_Coordinates.txt',\n",
    "    'Q1': r'C:\\Users\\Joseph Tarriela\\Documents\\GitHub\\FDA_Blood_Pump\\postpro\\C5_sampling_coordinates\\C5_Q1_Coordinates.txt',\n",
    "    'Q2': r'C:\\Users\\Joseph Tarriela\\Documents\\GitHub\\FDA_Blood_Pump\\postpro\\C5_sampling_coordinates\\C5_Q2_Coordinates.txt'}\n",
    "C5_header = [\"x-coord\", \"y-coord\", \"z-coord\"]\n",
    "C5_pd = {}\n",
    "\n",
    "zones_to_search = \"blade-passage Step 1 Incr 0\"\n",
    "vars_to_retrieve = \"Magnitude Velocity\"\n",
    "\n",
    "for i in enumerate(C5_coordinates):\n",
    "    C5_pd[i[1]] = pd.read_csv(C5_coordinates[i[1]], delim_whitespace=True, header=None)\n",
    "    C5_pd[i[1]].columns = C5_header\n",
    "    C5_pd[i[1]]['radial_position'] = np.sqrt(C5_pd[i[1]]['x-coord'] ** 2 + C5_pd[i[1]]['y-coord'] ** 2)\n",
    "    print(str(i[1]) + \" DF Conversion Complete\\n\")\n",
    "\n",
    "    points_file = C5_coordinates[i[1]]\n",
    "    # print(points_file)\n",
    "    test_class = PET(points_file_location=points_file,\n",
    "                     zones_to_search=zones_to_search,\n",
    "                     vars_to_retrieve=vars_to_retrieve)\n",
    "    df = test_class.df_points()\n",
    "    print(str(i[1]) + \" TecPlot Extraction Complete\\n\")\n",
    "\n",
    "    df = df.drop([0])\n",
    "    df = df.reset_index()\n",
    "    df['Mean'] = df.mean(axis=1)\n",
    "    C5_pd[i[1]][\"Velocity Magnitude Average\"] = df['Mean']"
   ],
   "metadata": {
    "collapsed": false,
    "pycharm": {
     "name": "#%% Extract TecPlot Blade Passage Slices\n"
    }
   }
  },
  {
   "cell_type": "code",
   "execution_count": 3,
   "outputs": [],
   "source": [
    "C5_Experimental = {\n",
    "    'D1': r'C:\\Users\\Joseph Tarriela\\Documents\\GitHub\\FDA_Blood_Pump\\postpro\\C5_sampling_coordinates\\C5_Experimental_Slice_Data\\C5_D1.csv',\n",
    "    'D2': r'C:\\Users\\Joseph Tarriela\\Documents\\GitHub\\FDA_Blood_Pump\\postpro\\C5_sampling_coordinates\\C5_Experimental_Slice_Data\\C5_D2.csv',\n",
    "    'D3': r'C:\\Users\\Joseph Tarriela\\Documents\\GitHub\\FDA_Blood_Pump\\postpro\\C5_sampling_coordinates\\C5_Experimental_Slice_Data\\C5_D3.csv',\n",
    "    'D4': r'C:\\Users\\Joseph Tarriela\\Documents\\GitHub\\FDA_Blood_Pump\\postpro\\C5_sampling_coordinates\\C5_Experimental_Slice_Data\\C5_D4.csv',\n",
    "    'Q1': r'C:\\Users\\Joseph Tarriela\\Documents\\GitHub\\FDA_Blood_Pump\\postpro\\C5_sampling_coordinates\\C5_Experimental_Slice_Data\\C5_Q1.csv',\n",
    "    'Q2': r'C:\\Users\\Joseph Tarriela\\Documents\\GitHub\\FDA_Blood_Pump\\postpro\\C5_sampling_coordinates\\C5_Experimental_Slice_Data\\C5_Q2.csv'}\n",
    "\n",
    "for i in enumerate(C5_Experimental):\n",
    "    C5_Experimental[i[1]] = pd.read_csv(C5_Experimental[i[1]])"
   ],
   "metadata": {
    "collapsed": false,
    "pycharm": {
     "name": "#%% Experimental Data\n"
    }
   }
  },
  {
   "cell_type": "code",
   "execution_count": 14,
   "outputs": [],
   "source": [
    "diff_ascii = {\n",
    "    'D1': r\"C:\\Users\\Joseph Tarriela\\Documents\\GitHub\\FDA_Blood_Pump\\Core\\Cond_5-SBES_19M_BP\\Velocity_slices\\D1\\*\",\n",
    "    'D2': r\"C:\\Users\\Joseph Tarriela\\Documents\\GitHub\\FDA_Blood_Pump\\Core\\Cond_5-SBES_19M_BP\\Velocity_slices\\D2\\*\",\n",
    "    'D3': r\"C:\\Users\\Joseph Tarriela\\Documents\\GitHub\\FDA_Blood_Pump\\Core\\Cond_5-SBES_19M_BP\\Velocity_slices\\D3\\*\",\n",
    "    'D4': r\"C:\\Users\\Joseph Tarriela\\Documents\\GitHub\\FDA_Blood_Pump\\Core\\Cond_5-SBES_19M_BP\\Velocity_slices\\D4\\*\"}\n",
    "quad_ascii = {\n",
    "    'Q1': r\"C:\\Users\\Joseph Tarriela\\Documents\\GitHub\\FDA_Blood_Pump\\Core\\Cond_5-SBES_19M_BP\\Velocity_slices\\Q1\\*\",\n",
    "    'Q2': r\"C:\\Users\\Joseph Tarriela\\Documents\\GitHub\\FDA_Blood_Pump\\Core\\Cond_5-SBES_19M_BP\\Velocity_slices\\Q2\\*\"}\n",
    "\n",
    "for key in diff_ascii:\n",
    "    file_paths = glob.glob(diff_ascii[key])\n",
    "    diff_avg_obj = ascii_averaging(file_paths)\n",
    "    #overwrite path in dict with df paired to correct key\n",
    "    diff_ascii[key] = diff_avg_obj.diffuser_ave()\n",
    "\n",
    "for key in quad_ascii:\n",
    "    file_paths = glob.glob(quad_ascii[key])\n",
    "    diff_avg_obj = ascii_averaging(file_paths)\n",
    "    #overwrite path in dict with df paired to correct key\n",
    "    quad_ascii[key] = diff_avg_obj.blade_quadrant_ave()"
   ],
   "metadata": {
    "collapsed": false,
    "pycharm": {
     "name": "#%% ASCII Export Data\n"
    }
   }
  },
  {
   "cell_type": "code",
   "execution_count": 41,
   "outputs": [
    {
     "name": "stdout",
     "output_type": "stream",
     "text": [
      "D1 DF Conversion Complete\n",
      "\n",
      "Connecting to Tecplot 360 TecUtil Server on:\n",
      "    tcp://localhost:7600\n",
      "Connection established.\n",
      "Elapsed:  3.1768908500671387\n",
      "D1 TecPlot Extraction Complete\n",
      "\n",
      "Connecting to Tecplot 360 TecUtil Server on:\n",
      "    tcp://localhost:7600\n",
      "Connection established.\n",
      "Elapsed:  3.091813802719116\n",
      "D1 TecPlot Extraction Complete\n",
      "\n",
      "Connecting to Tecplot 360 TecUtil Server on:\n",
      "    tcp://localhost:7600\n",
      "Connection established.\n",
      "Elapsed:  3.294999122619629\n",
      "D1 TecPlot Extraction Complete\n",
      "\n",
      "D2 DF Conversion Complete\n",
      "\n",
      "Connecting to Tecplot 360 TecUtil Server on:\n",
      "    tcp://localhost:7600\n",
      "Connection established.\n",
      "Elapsed:  4.0877203941345215\n",
      "D2 TecPlot Extraction Complete\n",
      "\n",
      "Connecting to Tecplot 360 TecUtil Server on:\n",
      "    tcp://localhost:7600\n",
      "Connection established.\n",
      "Elapsed:  4.107738494873047\n",
      "D2 TecPlot Extraction Complete\n",
      "\n",
      "Connecting to Tecplot 360 TecUtil Server on:\n",
      "    tcp://localhost:7600\n",
      "Connection established.\n",
      "Elapsed:  4.271888017654419\n",
      "D2 TecPlot Extraction Complete\n",
      "\n",
      "D3 DF Conversion Complete\n",
      "\n",
      "Connecting to Tecplot 360 TecUtil Server on:\n",
      "    tcp://localhost:7600\n",
      "Connection established.\n",
      "Elapsed:  5.100642204284668\n",
      "D3 TecPlot Extraction Complete\n",
      "\n",
      "Connecting to Tecplot 360 TecUtil Server on:\n",
      "    tcp://localhost:7600\n",
      "Connection established.\n",
      "Elapsed:  5.272799015045166\n",
      "D3 TecPlot Extraction Complete\n",
      "\n",
      "Connecting to Tecplot 360 TecUtil Server on:\n",
      "    tcp://localhost:7600\n",
      "Connection established.\n",
      "Elapsed:  5.1506876945495605\n",
      "D3 TecPlot Extraction Complete\n",
      "\n",
      "D4 DF Conversion Complete\n",
      "\n",
      "Connecting to Tecplot 360 TecUtil Server on:\n",
      "    tcp://localhost:7600\n",
      "Connection established.\n",
      "Elapsed:  6.201644420623779\n",
      "D4 TecPlot Extraction Complete\n",
      "\n",
      "Connecting to Tecplot 360 TecUtil Server on:\n",
      "    tcp://localhost:7600\n",
      "Connection established.\n",
      "Elapsed:  6.227668285369873\n",
      "D4 TecPlot Extraction Complete\n",
      "\n",
      "Connecting to Tecplot 360 TecUtil Server on:\n",
      "    tcp://localhost:7600\n",
      "Connection established.\n",
      "Elapsed:  6.177622318267822\n",
      "D4 TecPlot Extraction Complete\n",
      "\n",
      "Q1 DF Conversion Complete\n",
      "\n",
      "Connecting to Tecplot 360 TecUtil Server on:\n",
      "    tcp://localhost:7600\n",
      "Connection established.\n",
      "Elapsed:  5.048594951629639\n",
      "Q1 TecPlot Extraction Complete\n",
      "\n",
      "Connecting to Tecplot 360 TecUtil Server on:\n",
      "    tcp://localhost:7600\n",
      "Connection established.\n",
      "Elapsed:  5.1046459674835205\n",
      "Q1 TecPlot Extraction Complete\n",
      "\n",
      "Connecting to Tecplot 360 TecUtil Server on:\n",
      "    tcp://localhost:7600\n",
      "Connection established.\n",
      "Elapsed:  5.0726165771484375\n",
      "Q1 TecPlot Extraction Complete\n",
      "\n",
      "Q2 DF Conversion Complete\n",
      "\n",
      "Connecting to Tecplot 360 TecUtil Server on:\n",
      "    tcp://localhost:7600\n",
      "Connection established.\n",
      "Elapsed:  4.730305194854736\n",
      "Q2 TecPlot Extraction Complete\n",
      "\n",
      "Connecting to Tecplot 360 TecUtil Server on:\n",
      "    tcp://localhost:7600\n",
      "Connection established.\n",
      "Elapsed:  4.786356449127197\n",
      "Q2 TecPlot Extraction Complete\n",
      "\n",
      "Connecting to Tecplot 360 TecUtil Server on:\n",
      "    tcp://localhost:7600\n",
      "Connection established.\n",
      "Elapsed:  4.732306718826294\n",
      "Q2 TecPlot Extraction Complete\n",
      "\n"
     ]
    }
   ],
   "source": [
    "C5_cas_dat = {}\n",
    "\n",
    "zones_to_search = \"Slice: Z=0.006562\"\n",
    "vars_to_retrieve = [\"Mean Y Velocity\",'Mean X Velocity','Mean Z Velocity']\n",
    "\n",
    "\n",
    "for i in enumerate(C5_coordinates):\n",
    "    C5_cas_dat[i[1]] = pd.read_csv(C5_coordinates[i[1]], delim_whitespace=True, header=None)\n",
    "    C5_cas_dat[i[1]].columns = C5_header\n",
    "    C5_cas_dat[i[1]]['radial_position'] = np.sqrt(C5_cas_dat[i[1]]['x-coord'] ** 2 + C5_cas_dat[i[1]]['y-coord'] ** 2)\n",
    "    print(str(i[1]) + \" DF Conversion Complete\\n\")\n",
    "\n",
    "    points_file = C5_coordinates[i[1]]\n",
    "    # print(points_file)\n",
    "    for var in enumerate(vars_to_retrieve):\n",
    "        test_class = PET(points_file_location=points_file,\n",
    "                         zones_to_search=zones_to_search,\n",
    "                         vars_to_retrieve=vars_to_retrieve[var[0]])\n",
    "\n",
    "        df = test_class.df_points_center()\n",
    "        print(str(i[1]) + \" TecPlot Extraction Complete\\n\")\n",
    "\n",
    "        df = df.drop([0])\n",
    "        df = df.reset_index()\n",
    "        C5_cas_dat[i[1]][var[1]] = df[0].copy()\n",
    "    C5_cas_dat[i[1]]['Mean Velocity Magnitude'] = np.sqrt(C5_cas_dat[i[1]][\"Mean Y Velocity\"] ** 2 + C5_cas_dat[i[1]][\"Mean X Velocity\"] ** 2 + C5_cas_dat[i[1]][\"Mean Z Velocity\"]**2)"
   ],
   "metadata": {
    "collapsed": false,
    "pycharm": {
     "name": "#%% Tecplot Extract Fluent Case\n"
    }
   }
  },
  {
   "cell_type": "code",
   "execution_count": 42,
   "outputs": [
    {
     "data": {
      "application/vnd.plotly.v1+json": {
       "config": {
        "plotlyServerURL": "https://plot.ly"
       },
       "data": [
        {
         "line": {
          "color": "#636EFA"
         },
         "mode": "markers",
         "name": "SBES-Tecplot",
         "type": "scatter",
         "x": [
          5.954383492469788,
          6.3258148550987245,
          6.494245934486389,
          6.740101182460785,
          6.843485748767852,
          6.882552719116211,
          6.894032287597656,
          6.907587742805481,
          6.928030943870544,
          6.947801661491394,
          7.0020646214485165,
          7.079619908332825,
          7.17362687587738,
          7.250316083431244,
          7.312066328525543,
          7.366073477268219,
          7.407488167285919,
          7.460097670555115,
          7.532102560997009,
          7.607996273040771,
          7.697934675216675,
          7.806873643398285,
          7.881038022041321,
          7.902795040607453,
          7.871531319618225,
          7.634485983848572,
          7.141638588905335,
          5.326792907714844
         ],
         "xaxis": "x",
         "y": [
          -0.025810000000000003,
          -0.025960000000000004,
          -0.02611,
          -0.026260000000000002,
          -0.026410000000000003,
          -0.026560000000000004,
          -0.02671,
          -0.026860000000000002,
          -0.027010000000000003,
          -0.027160000000000004,
          -0.02731,
          -0.027460000000000002,
          -0.027610000000000003,
          -0.027760000000000003,
          -0.02791,
          -0.02806,
          -0.028210000000000002,
          -0.028360000000000003,
          -0.02851,
          -0.02866,
          -0.028810000000000002,
          -0.028960000000000003,
          -0.029110000000000004,
          -0.02926,
          -0.029410000000000002,
          -0.029560000000000003,
          -0.029710000000000004,
          -0.02986
         ],
         "yaxis": "y"
        },
        {
         "line": {
          "color": "#19D3F3"
         },
         "mode": "markers",
         "name": "SBES-ASCII",
         "type": "scatter",
         "x": [
          7.055875022804879,
          7.112698330170733,
          7.135153414243901,
          7.163062741609756,
          7.19282755412195,
          7.198662185658537,
          7.2344077794390245,
          7.278102606219513,
          7.330721318024389,
          7.406854305390244,
          7.493953960390246,
          7.509945454682926,
          6.050686653463416,
          6.28739734897561,
          6.582129368317073,
          6.254975787512194,
          6.678669499243903,
          6.884800713682928,
          6.959015448121954,
          6.945872132048781,
          6.93496112617073,
          6.926784627536583,
          6.928058675292682,
          6.925518025512194,
          6.949717427414636,
          6.985381251756099,
          7.5083570238536606,
          7.414009725121953,
          6.9901875908048785,
          6.386797659268293,
          5.599494638658536,
          5.022676667268293
         ],
         "xaxis": "x",
         "y": [
          -0.02759704366000001,
          -0.027741042900000006,
          -0.027885043037317085,
          -0.028029043230000012,
          -0.028173043276585354,
          -0.028317043559999984,
          -0.02846104278999998,
          -0.02860504289195123,
          -0.028749043119999998,
          -0.028893042949756087,
          -0.029037043450000015,
          -0.02918104269000001,
          -0.025833211839999988,
          -0.025924596940000013,
          -0.026027008889999995,
          -0.026073144750000006,
          -0.026157043688536562,
          -0.026301043110000002,
          -0.026445043065853668,
          -0.02658904344000001,
          -0.02673304267,
          -0.026877043769999994,
          -0.027021042999999988,
          -0.027165043011219515,
          -0.027309043329999984,
          -0.027453042706097556,
          -0.02932504323560974,
          -0.02946904301999998,
          -0.029591044364634167,
          -0.029711691614634137,
          -0.029808914289999995,
          -0.029847745122195127
         ],
         "yaxis": "y"
        },
        {
         "line": {
          "color": "#AB63FA"
         },
         "mode": "markers",
         "name": "SBES-Tecplot .h5",
         "type": "scatter",
         "x": [
          6.020374469966538,
          6.45947088562089,
          6.800964005031231,
          6.958460424823466,
          6.919108381563874,
          6.881985380116822,
          6.831562176748841,
          6.769503529895797,
          6.733213371967689,
          6.721861669036651,
          6.7266508410695085,
          6.759242651638449,
          6.831311596793597,
          6.91531848225118,
          6.985072201690984,
          7.04079626568494,
          7.090069784934791,
          7.144707472661285,
          7.194838476925395,
          7.246046235022904,
          7.332933786741589,
          7.451186537733608,
          7.541403496101308,
          7.558210631088674,
          7.475173026646814,
          7.108786410697053,
          6.3071124473240765,
          4.720917673721089
         ],
         "xaxis": "x",
         "y": [
          -0.025810000000000003,
          -0.025960000000000004,
          -0.02611,
          -0.026260000000000002,
          -0.026410000000000003,
          -0.026560000000000004,
          -0.02671,
          -0.026860000000000002,
          -0.027010000000000003,
          -0.027160000000000004,
          -0.02731,
          -0.027460000000000002,
          -0.027610000000000003,
          -0.027760000000000003,
          -0.02791,
          -0.02806,
          -0.028210000000000002,
          -0.028360000000000003,
          -0.02851,
          -0.02866,
          -0.028810000000000002,
          -0.028960000000000003,
          -0.029110000000000004,
          -0.02926,
          -0.029410000000000002,
          -0.029560000000000003,
          -0.029710000000000004,
          -0.02986
         ],
         "yaxis": "y"
        },
        {
         "line": {
          "color": "#EF553B"
         },
         "mode": "markers",
         "name": "Experimental",
         "type": "scatter",
         "x": [
          5.76135,
          6.0525400000000005,
          6.24821,
          6.42276,
          6.54204,
          6.65583,
          6.716260000000001,
          6.784689999999999,
          6.8434,
          6.8890899999999995,
          6.945539999999999,
          7.005539999999999,
          7.05202,
          7.104760000000001,
          7.16242,
          7.22129,
          7.2785,
          7.3442300000000005,
          7.38743,
          7.4172899999999995,
          7.428610000000001,
          7.38213,
          7.26461,
          7.0327,
          6.6322,
          6.01384,
          5.61002,
          4.53867
         ],
         "xaxis": "x",
         "y": [
          -0.025810000000000003,
          -0.025960000000000004,
          -0.02611,
          -0.026260000000000002,
          -0.026410000000000003,
          -0.026560000000000004,
          -0.02671,
          -0.026860000000000002,
          -0.027010000000000003,
          -0.027160000000000004,
          -0.02731,
          -0.027460000000000002,
          -0.027610000000000003,
          -0.027760000000000003,
          -0.02791,
          -0.02806,
          -0.028210000000000002,
          -0.028360000000000003,
          -0.02851,
          -0.02866,
          -0.028810000000000002,
          -0.028960000000000003,
          -0.029110000000000004,
          -0.02926,
          -0.029410000000000002,
          -0.029560000000000003,
          -0.029710000000000004,
          -0.02986
         ],
         "yaxis": "y"
        },
        {
         "line": {
          "color": "#636EFA"
         },
         "mode": "markers",
         "name": "SBES-Tecplot",
         "showlegend": false,
         "type": "scatter",
         "x": [
          0.7098925219848752,
          1.43215554356575,
          1.885328821837902,
          2.2815029665827753,
          2.857354572415352,
          3.539988386631012,
          4.297189944982529,
          4.955249726772308,
          5.376871150732041,
          5.760718697309494,
          6.052021956443786,
          6.212957680225372,
          6.332723987102509,
          6.429347968101501,
          6.536345291137695,
          6.65711225271225,
          6.739726197719574,
          6.776749467849731,
          6.831477355957031,
          6.883110511302948,
          6.934414184093475,
          7.006773006916046,
          7.098180818557739,
          7.186748313903808,
          7.270423722267151,
          7.3546630859375,
          7.44282648563385,
          7.532518434524536,
          7.599288141727447,
          7.637642168998719,
          7.6435052990913395,
          7.543121385574341,
          7.210576683282852,
          6.5843855947256085,
          5.505206274986267,
          4.267050647735596,
          3.3950937524437905,
          2.8180152282118796,
          2.4096449956297876,
          2.3941171571612356
         ],
         "xaxis": "x2",
         "y": [
          -0.02476,
          -0.024909999999999998,
          -0.02506,
          -0.02521,
          -0.02536,
          -0.025509999999999998,
          -0.025660000000000002,
          -0.025810000000000003,
          -0.025960000000000004,
          -0.02611,
          -0.026260000000000002,
          -0.026410000000000003,
          -0.026560000000000004,
          -0.02671,
          -0.026860000000000002,
          -0.027010000000000003,
          -0.027160000000000004,
          -0.02731,
          -0.027460000000000002,
          -0.027610000000000003,
          -0.027760000000000003,
          -0.02791,
          -0.02806,
          -0.028210000000000002,
          -0.028360000000000003,
          -0.02851,
          -0.02866,
          -0.028810000000000002,
          -0.028960000000000003,
          -0.029110000000000004,
          -0.02926,
          -0.029410000000000002,
          -0.029560000000000003,
          -0.029710000000000004,
          -0.02986,
          -0.030010000000000002,
          -0.030160000000000003,
          -0.030310000000000004,
          -0.03046,
          -0.030610000000000002
         ],
         "yaxis": "y2"
        },
        {
         "line": {
          "color": "#19D3F3"
         },
         "mode": "markers",
         "name": "SBES-ASCII",
         "showlegend": false,
         "type": "scatter",
         "x": [
          6.5027148252439035,
          6.562188419390244,
          6.597922812560976,
          6.620194008390243,
          6.666519641414634,
          6.73849280202439,
          6.806813070463415,
          6.878059757731705,
          6.940687042951221,
          7.017008025195121,
          7.07762678063415,
          7.0921555146829265,
          7.095605062390244,
          7.032958365195124,
          6.82544716817073,
          6.2937367423902435,
          5.543236769512194,
          4.126975318885367,
          2.899596293251219,
          2.156549370687806,
          1.5225183922048777,
          1.3048725490585364,
          1.3538979180439024,
          6.452408712682928,
          6.478434697365853,
          6.462993447390244,
          0.7815461179492684,
          0.9175877542256099,
          1.0413558186219511,
          1.1520203358463417,
          1.2554370600707319,
          1.3359318610243902,
          1.4785941469292683,
          1.6983906488146343,
          2.0015849714,
          2.5271907215756095,
          3.212550180919513,
          3.822225665817073,
          6.360340107292683,
          6.2604129756341464,
          6.195449944195121,
          6.115843436585367,
          5.996738286024391,
          5.829900748097561,
          5.4837198159756095,
          5.1363721205121955,
          4.693291967804878
         ],
         "xaxis": "x2",
         "y": [
          -0.027453043114390237,
          -0.02759704366000001,
          -0.02774104348975611,
          -0.027885043990000018,
          -0.02802904368365855,
          -0.028173043049756083,
          -0.028317043559999984,
          -0.02846104315292682,
          -0.02860504389,
          -0.028749043392195115,
          -0.02889304421999997,
          -0.029037043450000015,
          -0.02918104296219514,
          -0.029325043779999987,
          -0.029469043156097545,
          -0.029613044109999993,
          -0.029757043758292683,
          -0.02990104298829268,
          -0.030045043680000008,
          -0.03018904300073172,
          -0.030333044010000015,
          -0.03046895749999998,
          -0.030571436192439048,
          -0.02702104331926828,
          -0.027165044099999987,
          -0.027309043329999984,
          -0.024765787650000017,
          -0.024779907588780476,
          -0.024798190219999985,
          -0.02482001110999999,
          -0.02484604807219513,
          -0.024877091779268282,
          -0.024924717840000027,
          -0.025018064309999984,
          -0.025150854139999988,
          -0.025293043974634156,
          -0.02543704398000001,
          -0.0255810436204878,
          -0.026877043769999994,
          -0.026733043305121953,
          -0.02658904344000001,
          -0.02644504420000001,
          -0.02630104347292683,
          -0.026157043869999983,
          -0.026013043778048788,
          -0.02586904353999999,
          -0.025725043629512185
         ],
         "yaxis": "y2"
        },
        {
         "line": {
          "color": "#EF553B"
         },
         "mode": "markers",
         "name": "Experimental",
         "showlegend": false,
         "type": "scatter",
         "x": [
          0.20137,
          0.34029,
          0.5137,
          0.82304,
          1.17134,
          1.65088,
          2.12154,
          2.64039,
          3.20254,
          3.67476,
          4.15416,
          4.53342,
          4.8545300000000005,
          5.12106,
          5.31349,
          5.47245,
          5.59622,
          5.71496,
          5.81745,
          5.90495,
          5.9839400000000005,
          6.047619999999999,
          6.10723,
          6.1679699999999995,
          6.229019999999999,
          6.26167,
          6.29969,
          6.30115,
          6.27441,
          6.19451,
          6.0191300000000005,
          5.76691,
          5.30549,
          4.72914,
          3.9385199999999996,
          3.1562099999999997,
          2.32908,
          1.71845,
          1.17292,
          0.9531299999999999
         ],
         "xaxis": "x2",
         "y": [
          -0.02476,
          -0.024909999999999998,
          -0.02506,
          -0.02521,
          -0.02536,
          -0.025509999999999998,
          -0.025660000000000002,
          -0.025810000000000003,
          -0.025960000000000004,
          -0.02611,
          -0.026260000000000002,
          -0.026410000000000003,
          -0.026560000000000004,
          -0.02671,
          -0.026860000000000002,
          -0.027010000000000003,
          -0.027160000000000004,
          -0.02731,
          -0.027460000000000002,
          -0.027610000000000003,
          -0.027760000000000003,
          -0.02791,
          -0.02806,
          -0.028210000000000002,
          -0.028360000000000003,
          -0.02851,
          -0.02866,
          -0.028810000000000002,
          -0.028960000000000003,
          -0.029110000000000004,
          -0.02926,
          -0.029410000000000002,
          -0.029560000000000003,
          -0.029710000000000004,
          -0.02986,
          -0.030010000000000002,
          -0.030160000000000003,
          -0.030310000000000004,
          -0.03046,
          -0.030610000000000002
         ],
         "yaxis": "y2"
        },
        {
         "line": {
          "color": "#AB63FA"
         },
         "mode": "markers",
         "name": "SBES-Tecplot .h5",
         "showlegend": false,
         "type": "scatter",
         "x": [
          0.19008639474342373,
          0.7914299179974446,
          1.2746707066189962,
          1.8189314900465374,
          2.550672001970345,
          3.243441252076245,
          4.026188088122758,
          4.932981737599899,
          5.529938053026707,
          5.852477583707471,
          6.029696742908166,
          6.176221993000391,
          6.295264919769461,
          6.361314814872788,
          6.441670960012914,
          6.540603359049398,
          6.602972884673722,
          6.610001754144749,
          6.608537825820112,
          6.624398023890205,
          6.662137569112603,
          6.731375414122721,
          6.814991983280702,
          6.892171944702374,
          6.9557957206462,
          7.021959601426419,
          7.090556861008725,
          7.132519278383646,
          7.1291646363371655,
          7.07580324842452,
          6.937485314806557,
          6.557177383763325,
          5.8315520964498475,
          4.892168743770911,
          3.735752449198658,
          2.4480700313950785,
          1.3918086614026421,
          0.7368337806778529,
          0.6115512211949568,
          1.029189496785947
         ],
         "xaxis": "x2",
         "y": [
          -0.02476,
          -0.024909999999999998,
          -0.02506,
          -0.02521,
          -0.02536,
          -0.025509999999999998,
          -0.025660000000000002,
          -0.025810000000000003,
          -0.025960000000000004,
          -0.02611,
          -0.026260000000000002,
          -0.026410000000000003,
          -0.026560000000000004,
          -0.02671,
          -0.026860000000000002,
          -0.027010000000000003,
          -0.027160000000000004,
          -0.02731,
          -0.027460000000000002,
          -0.027610000000000003,
          -0.027760000000000003,
          -0.02791,
          -0.02806,
          -0.028210000000000002,
          -0.028360000000000003,
          -0.02851,
          -0.02866,
          -0.028810000000000002,
          -0.028960000000000003,
          -0.029110000000000004,
          -0.02926,
          -0.029410000000000002,
          -0.029560000000000003,
          -0.029710000000000004,
          -0.02986,
          -0.030010000000000002,
          -0.030160000000000003,
          -0.030310000000000004,
          -0.03046,
          -0.030610000000000002
         ],
         "yaxis": "y2"
        },
        {
         "line": {
          "color": "#636EFA"
         },
         "mode": "markers",
         "name": "SBES-Tecplot",
         "showlegend": false,
         "type": "scatter",
         "x": [
          1.6600054912269115,
          1.9593582525849342,
          2.106166850030422,
          2.2695653468370436,
          2.3589297220110894,
          2.450456663966179,
          2.6105330377817153,
          2.838891991972923,
          3.116156031191349,
          3.4500554248690607,
          3.7595464870333672,
          4.036144509911537,
          4.363685980439186,
          4.741557717323303,
          5.133141595125198,
          5.410387086868286,
          5.563596731424331,
          5.701447296142578,
          5.813512665033341,
          5.913576495647431,
          6.01006264090538,
          6.088025104999542,
          6.165408635139466,
          6.233332294225693,
          6.266775643825531,
          6.246053022146225,
          6.193566870689392,
          6.1268126428127285,
          6.087759274244308,
          6.072247034311294,
          6.051750725507736,
          6.013517528772354,
          5.969452637434006,
          5.891181337833404,
          5.755890592932701,
          5.646183335781098,
          5.537087476253509,
          5.363757666945458,
          5.174830225110054,
          4.9537250936031345,
          4.648959317803383,
          4.321535596251488,
          4.054906617105007,
          3.812725119292736,
          3.5936873614788056,
          3.384973908960819,
          2.9375234261155128,
          2.8071615412831306,
          2.708191764354706,
          2.570701775699854,
          2.526750100404024
         ],
         "xaxis": "x3",
         "y": [
          -0.02401,
          -0.02416,
          -0.02431,
          -0.02446,
          -0.02461,
          -0.02476,
          -0.024909999999999998,
          -0.02506,
          -0.02521,
          -0.02536,
          -0.025509999999999998,
          -0.025660000000000002,
          -0.025810000000000003,
          -0.025960000000000004,
          -0.02611,
          -0.026260000000000002,
          -0.026410000000000003,
          -0.026560000000000004,
          -0.02671,
          -0.026860000000000002,
          -0.027010000000000003,
          -0.027160000000000004,
          -0.02731,
          -0.027460000000000002,
          -0.027610000000000003,
          -0.027760000000000003,
          -0.02791,
          -0.02806,
          -0.028210000000000002,
          -0.028360000000000003,
          -0.02851,
          -0.02866,
          -0.028810000000000002,
          -0.028960000000000003,
          -0.029110000000000004,
          -0.02926,
          -0.029410000000000002,
          -0.029560000000000003,
          -0.029710000000000004,
          -0.02986,
          -0.030010000000000002,
          -0.030160000000000003,
          -0.030310000000000004,
          -0.03046,
          -0.030610000000000002,
          -0.030760000000000003,
          -0.030910000000000003,
          -0.03106,
          -0.03121,
          -0.03136,
          -0.03151
         ],
         "yaxis": "y3"
        },
        {
         "line": {
          "color": "#19D3F3"
         },
         "mode": "markers",
         "name": "SBES-ASCII",
         "showlegend": false,
         "type": "scatter",
         "x": [
          1.6386184778146342,
          1.8181586836121948,
          2.004079554085366,
          2.0279624142170727,
          2.1434279628390245,
          2.224583287648781,
          2.2203898387146346,
          2.2619144453073163,
          2.398291222619512,
          2.6140621699804876,
          2.8602078872195125,
          3.083748327743902,
          3.3991489910560975,
          3.6516523160170724,
          3.9205863385609754,
          4.223469295512195,
          4.631309747048782,
          5.000701864926831,
          5.135937078463416,
          5.276202126536584,
          5.411263558000001,
          5.517645817756098,
          5.646861475,
          5.789859031097562,
          4.182038889512195,
          3.968859869195122,
          3.630826085253659,
          3.276031327268293,
          2.9306080079121957,
          2.652975041717074,
          2.459593777192683,
          2.1953376399000004,
          1.8936195372682925,
          1.6591699728585365,
          1.5516645714487804,
          1.4573413369560977,
          1.35422375857561,
          4.366931880317074,
          4.629290139682928,
          4.906635765878049,
          5.0040172543170724,
          5.154846099365855,
          5.322656362390243,
          5.422602985317073,
          5.530857251292684,
          5.573397300414634,
          5.618360603,
          5.677641074414635,
          5.71106859809756,
          5.735369175170732,
          5.769324768463416,
          5.802761379024387,
          5.782545652682927,
          5.802842286121951,
          5.840555302780488
         ],
         "xaxis": "x3",
         "y": [
          -0.02401195839000001,
          -0.024040918800000012,
          -0.024124248679756106,
          -0.02420346625000002,
          -0.024291699750000003,
          -0.024429043749999994,
          -0.024573042989999988,
          -0.024717044089999984,
          -0.024861043320000026,
          -0.025005042550000016,
          -0.02514904365000001,
          -0.025293042879999998,
          -0.02543704398000001,
          -0.025581043209999994,
          -0.025725042586097546,
          -0.02586904353999999,
          -0.026013042780000023,
          -0.026157043869999983,
          -0.026301043110000002,
          -0.02644504420000001,
          -0.02658904344000001,
          -0.02673304267,
          -0.026877043769999994,
          -0.027021042999999988,
          -0.029757043349999998,
          -0.029901042579999995,
          -0.030045043680000008,
          -0.030189042910000012,
          -0.030333044010000015,
          -0.030477043239999977,
          -0.03062104293365853,
          -0.03076504356999999,
          -0.03090904281,
          -0.031053043900000007,
          -0.031197043140000002,
          -0.031335849310000004,
          -0.03145632629170732,
          -0.029613044109999993,
          -0.02946904301999998,
          -0.029325043779999987,
          -0.02918104269000001,
          -0.029037043450000015,
          -0.02889304421999997,
          -0.028749043119999998,
          -0.02860504389,
          -0.02846104278999998,
          -0.028317043559999984,
          -0.028173042777560966,
          -0.028029043230000012,
          -0.027885043990000018,
          -0.027741042900000006,
          -0.02759704366000001,
          -0.02745304257,
          -0.027309043329999984,
          -0.027165044099999987
         ],
         "yaxis": "y3"
        },
        {
         "line": {
          "color": "#EF553B"
         },
         "mode": "markers",
         "name": "Experimental",
         "showlegend": false,
         "type": "scatter",
         "x": [
          0.53052,
          0.5423100000000001,
          0.54068,
          0.52653,
          0.50625,
          0.53947,
          0.61387,
          0.6914899999999999,
          0.7943100000000001,
          0.905,
          1.09103,
          1.2746899999999999,
          1.4747299999999999,
          1.6854799999999999,
          1.89868,
          2.15576,
          2.3910299999999998,
          2.65804,
          2.88821,
          3.12508,
          3.3778,
          3.61164,
          3.82251,
          4.02064,
          4.20383,
          4.3649,
          4.49949,
          4.60637,
          4.66247,
          4.72149,
          4.71364,
          4.68845,
          4.61461,
          4.57943,
          4.50087,
          4.39011,
          4.26685,
          4.08652,
          3.9104099999999997,
          3.70051,
          3.480932488,
          3.219334996,
          2.9405598569999998,
          2.671257492,
          2.3899760430000003,
          2.130672852,
          1.8796939069999998,
          1.6295049169999998,
          1.408515499,
          1.255905636,
          1.024761094
         ],
         "xaxis": "x3",
         "y": [
          -0.02401,
          -0.02416,
          -0.02431,
          -0.02446,
          -0.02461,
          -0.02476,
          -0.024909999999999998,
          -0.02506,
          -0.02521,
          -0.02536,
          -0.025509999999999998,
          -0.025660000000000002,
          -0.025810000000000003,
          -0.025960000000000004,
          -0.02611,
          -0.026260000000000002,
          -0.026410000000000003,
          -0.026560000000000004,
          -0.02671,
          -0.026860000000000002,
          -0.027010000000000003,
          -0.027160000000000004,
          -0.02731,
          -0.027460000000000002,
          -0.027610000000000003,
          -0.027760000000000003,
          -0.02791,
          -0.02806,
          -0.028210000000000002,
          -0.028360000000000003,
          -0.02851,
          -0.02866,
          -0.028810000000000002,
          -0.028960000000000003,
          -0.029110000000000004,
          -0.02926,
          -0.029410000000000002,
          -0.029560000000000003,
          -0.029710000000000004,
          -0.02986,
          -0.030010000000000002,
          -0.030160000000000003,
          -0.030310000000000004,
          -0.03046,
          -0.030610000000000002,
          -0.030760000000000003,
          -0.030910000000000003,
          -0.03106,
          -0.03121,
          -0.03136,
          -0.03151
         ],
         "yaxis": "y3"
        },
        {
         "line": {
          "color": "#AB63FA"
         },
         "mode": "markers",
         "name": "SBES-Tecplot .h5",
         "showlegend": false,
         "type": "scatter",
         "x": [
          0.1646141820314696,
          0.6250526601803339,
          0.9031156588761666,
          1.079338481705158,
          1.205198439944593,
          1.511396523889006,
          1.9859262150937096,
          2.399903551199206,
          2.8076324213680404,
          3.128305754218203,
          3.3426382523031655,
          3.703644971458458,
          4.300932818825639,
          4.802481086023199,
          5.0624534521266735,
          5.244310684027239,
          5.463555420466996,
          5.654336614985174,
          5.753970187206804,
          5.8061487898543485,
          5.806284600890318,
          5.811971059251079,
          5.843097790621435,
          5.840745492119258,
          5.773646766709117,
          5.620076227801023,
          5.346405974674826,
          4.975664196020801,
          4.66365812273673,
          4.555663810867627,
          4.5642240442374655,
          4.534646473748063,
          4.477357831437586,
          4.370044653242281,
          4.224222212748659,
          4.083912833930086,
          3.8342040562436597,
          3.52115451348819,
          3.165034529566737,
          2.7420689858221436,
          2.301253525129233,
          1.8888563037692996,
          1.642914124802061,
          1.590534871573965,
          1.4626959957219172,
          1.0537608528167015,
          0.5413285788097929,
          0.17154294163898676,
          0.04391591932923035,
          0.19837837901086527,
          0.3230251546503649
         ],
         "xaxis": "x3",
         "y": [
          -0.02401,
          -0.02416,
          -0.02431,
          -0.02446,
          -0.02461,
          -0.02476,
          -0.024909999999999998,
          -0.02506,
          -0.02521,
          -0.02536,
          -0.025509999999999998,
          -0.025660000000000002,
          -0.025810000000000003,
          -0.025960000000000004,
          -0.02611,
          -0.026260000000000002,
          -0.026410000000000003,
          -0.026560000000000004,
          -0.02671,
          -0.026860000000000002,
          -0.027010000000000003,
          -0.027160000000000004,
          -0.02731,
          -0.027460000000000002,
          -0.027610000000000003,
          -0.027760000000000003,
          -0.02791,
          -0.02806,
          -0.028210000000000002,
          -0.028360000000000003,
          -0.02851,
          -0.02866,
          -0.028810000000000002,
          -0.028960000000000003,
          -0.029110000000000004,
          -0.02926,
          -0.029410000000000002,
          -0.029560000000000003,
          -0.029710000000000004,
          -0.02986,
          -0.030010000000000002,
          -0.030160000000000003,
          -0.030310000000000004,
          -0.03046,
          -0.030610000000000002,
          -0.030760000000000003,
          -0.030910000000000003,
          -0.03106,
          -0.03121,
          -0.03136,
          -0.03151
         ],
         "yaxis": "y3"
        },
        {
         "line": {
          "color": "#636EFA"
         },
         "mode": "markers",
         "name": "SBES-Tecplot",
         "showlegend": false,
         "type": "scatter",
         "x": [
          0.14482753896154463,
          1.3550971642136573,
          1.4783980883657932,
          1.6099907033145429,
          1.6626374758780003,
          1.7563729621469975,
          1.7844744868576528,
          1.8626346841454506,
          2.0201553337275984,
          2.153934043645859,
          2.237360271811485,
          2.343746031820774,
          2.449995091557503,
          2.5474575743079186,
          2.6792058452963827,
          2.8570547699928284,
          3.077049233019352,
          3.3464285388588904,
          3.61183612793684,
          3.7950299181044103,
          3.9208157896995544,
          4.043999089300632,
          4.198530426621437,
          4.394639010727405,
          4.555669695138931,
          4.64848584830761,
          4.726816907525063,
          4.784956139326096,
          4.799092578887939,
          4.936035218834877,
          5.015727651119232,
          5.061263319849968,
          5.052380749583245,
          4.994576802849769,
          5.001713979244232,
          5.07088939845562,
          5.136656281352043,
          5.129587778449059,
          5.037269780039788,
          4.930603975057602,
          4.82725815474987,
          4.719340473413467,
          4.598600599169731,
          4.45194382071495,
          4.31876023709774,
          4.2354684844613075,
          4.200451841950416,
          4.091604465246201,
          3.8932319462299345,
          3.7237012177705764,
          3.6393905878067017,
          3.572425279021263,
          3.491218614578247,
          3.303488740324974,
          3.2601436987519263,
          3.2581558614969253,
          3.241729827225208,
          3.229356999695301,
          3.1936542108654975,
          3.1146422795951367,
          3.0440052188932896,
          3.0143839165568354,
          3.0093365028500556,
          2.8969619169831278
         ],
         "xaxis": "x4",
         "y": [
          -0.022959999999999998,
          -0.02311,
          -0.02326,
          -0.02341,
          -0.02356,
          -0.02371,
          -0.02386,
          -0.02401,
          -0.02416,
          -0.02431,
          -0.02446,
          -0.02461,
          -0.02476,
          -0.024909999999999998,
          -0.02506,
          -0.02521,
          -0.02536,
          -0.025509999999999998,
          -0.025660000000000002,
          -0.025810000000000003,
          -0.025960000000000004,
          -0.02611,
          -0.026260000000000002,
          -0.026410000000000003,
          -0.026560000000000004,
          -0.02671,
          -0.026860000000000002,
          -0.027010000000000003,
          -0.027160000000000004,
          -0.02731,
          -0.027460000000000002,
          -0.027610000000000003,
          -0.027760000000000003,
          -0.02791,
          -0.02806,
          -0.028210000000000002,
          -0.028360000000000003,
          -0.02851,
          -0.02866,
          -0.028810000000000002,
          -0.028960000000000003,
          -0.029110000000000004,
          -0.02926,
          -0.029410000000000002,
          -0.029560000000000003,
          -0.029710000000000004,
          -0.02986,
          -0.030010000000000002,
          -0.030160000000000003,
          -0.030310000000000004,
          -0.03046,
          -0.030610000000000002,
          -0.030760000000000003,
          -0.030910000000000003,
          -0.03106,
          -0.03121,
          -0.03136,
          -0.03151,
          -0.03166,
          -0.031810000000000005,
          -0.03196,
          -0.03211,
          -0.032260000000000004,
          -0.03241
         ],
         "yaxis": "y4"
        },
        {
         "line": {
          "color": "#19D3F3"
         },
         "mode": "markers",
         "name": "SBES-ASCII",
         "showlegend": false,
         "type": "scatter",
         "x": [
          1.4185047960658541,
          1.558300834419512,
          1.5896262019317073,
          1.627421340495122,
          1.719103009080488,
          1.8533420532707316,
          1.9075219619682924,
          1.9154433648902438,
          1.9210442314000007,
          1.9331052076146338,
          2.018357105980488,
          2.1731141023414637,
          2.2764387265902446,
          2.373391351187805,
          2.39879604962439,
          2.5920467245219507,
          2.8108862230926825,
          3.043505803129268,
          3.089073519731708,
          3.1598035252731704,
          3.292805462804878,
          3.4438042722951216,
          3.620147491756097,
          3.7144567398926833,
          3.8603376068634163,
          4.024348448431708,
          0.07204008364182925,
          0.20586794097195124,
          0.3524276112446341,
          0.5086027839295122,
          0.6684586099473169,
          0.8227530939482929,
          0.9652775989048779,
          1.0960495877902439,
          1.206810583358537,
          1.297172262507317,
          1.3595707985975607,
          1.4011715397951219,
          1.5000291504756096,
          1.577753078526829,
          1.597213338314634,
          1.6391400574536583,
          1.639850478602439,
          1.6381639607878051,
          1.7254591547439027,
          1.9344450710512193,
          1.998561786217073,
          2.015461243280488,
          2.0937264472487804,
          2.1895429291439026,
          2.2417595526170735,
          2.4371292559878044,
          2.632632587160976,
          2.860237470773171,
          3.148053251068293,
          3.3481394800609756,
          3.446226924487805,
          3.5947594743707314,
          3.70393591497561,
          3.859418069707318,
          4.042121293982926,
          4.116939473821953,
          4.118739691170732,
          4.17843537604878,
          4.162733759926829,
          4.157919758902439,
          4.203506020146341,
          4.325704237902439,
          4.371823553243902,
          4.417103892780489,
          4.3265270832926825,
          4.270319170414634,
          4.258560455463414,
          4.330623008000001,
          4.3447510571463415,
          4.241976702268293
         ],
         "xaxis": "x4",
         "y": [
          -0.03232943267000002,
          -0.032190952450000004,
          -0.03206104039999999,
          -0.03191704302999999,
          -0.03177304192999998,
          -0.031629040839999976,
          -0.03148504347000002,
          -0.03134104237000001,
          -0.031197043140000002,
          -0.031053042039999992,
          -0.03090904281,
          -0.03076504198219514,
          -0.03062104247999999,
          -0.030477043239999977,
          -0.030333042140000013,
          -0.030189042910000012,
          -0.03004504231170732,
          -0.029901042579999995,
          -0.029757043349999998,
          -0.029613042250000034,
          -0.02946904301999998,
          -0.029325041919999982,
          -0.02918104269000001,
          -0.029037043450000015,
          -0.028893042360000003,
          -0.028749043119999998,
          -0.022960955097560964,
          -0.022965853349512184,
          -0.02297452859682928,
          -0.02298492847268293,
          -0.02299739442804879,
          -0.023012333209756097,
          -0.02303021586999999,
          -0.02305160834999998,
          -0.02307719550999999,
          -0.023107765240000015,
          -0.02314046061487806,
          -0.023206995799999987,
          -0.023329157379999986,
          -0.023446941749999978,
          -0.023565042760000016,
          -0.02370904200000001,
          -0.02385304309000002,
          -0.02399704233,
          -0.024141043420000004,
          -0.024285042659999985,
          -0.024429042479756087,
          -0.024573042989999988,
          -0.024717042220000013,
          -0.024861043320000026,
          -0.025005042550000016,
          -0.02514904365000001,
          -0.025293042879999998,
          -0.025437042119999982,
          -0.025581043209999994,
          -0.025725042449999985,
          -0.02586904353999999,
          -0.026013042780000023,
          -0.026157042010000006,
          -0.026301043110000002,
          -0.026445042340000002,
          -0.02658904344000001,
          -0.02673304267,
          -0.026877041909999982,
          -0.027021042999999988,
          -0.02716504224000002,
          -0.027309043329999984,
          -0.02745304257,
          -0.027597042299024398,
          -0.027741042900000006,
          -0.02788504213,
          -0.028029043230000012,
          -0.028173042459999985,
          -0.028317043559999984,
          -0.02846104278999998,
          -0.028605042030000003
         ],
         "yaxis": "y4"
        },
        {
         "line": {
          "color": "#EF553B"
         },
         "mode": "markers",
         "name": "Experimental",
         "showlegend": false,
         "type": "scatter",
         "x": [
          0.41795,
          0.52378,
          0.59565,
          0.65658,
          0.68386,
          0.69463,
          0.68501,
          0.66505,
          0.62883,
          0.58722,
          0.54471,
          0.50016,
          0.47103999999999996,
          0.47143,
          0.48163999999999996,
          0.52347,
          0.5574,
          0.59887,
          0.6369600000000001,
          0.70467,
          0.7752899999999999,
          0.88512,
          0.99026,
          1.09935,
          1.21812,
          1.35601,
          1.49881,
          1.63943,
          1.7975700000000001,
          1.9565599999999999,
          2.1099099999999997,
          2.2758700000000003,
          2.46693,
          2.61374,
          2.7631200000000002,
          2.91666,
          3.05487,
          3.1775599999999997,
          3.27506,
          3.39086,
          3.47436,
          3.53249,
          3.57085,
          3.60192,
          3.5931300000000004,
          3.55105,
          3.49307,
          3.42675,
          3.33155,
          3.22487,
          3.10339,
          2.97713,
          2.87305,
          2.72107,
          2.58712,
          2.4488,
          2.32017,
          2.1817599999999997,
          2.02643,
          1.88579,
          1.75509,
          1.60782,
          1.66924,
          1.54247
         ],
         "xaxis": "x4",
         "y": [
          -0.022959999999999998,
          -0.02311,
          -0.02326,
          -0.02341,
          -0.02356,
          -0.02371,
          -0.02386,
          -0.02401,
          -0.02416,
          -0.02431,
          -0.02446,
          -0.02461,
          -0.02476,
          -0.024909999999999998,
          -0.02506,
          -0.02521,
          -0.02536,
          -0.025509999999999998,
          -0.025660000000000002,
          -0.025810000000000003,
          -0.025960000000000004,
          -0.02611,
          -0.026260000000000002,
          -0.026410000000000003,
          -0.026560000000000004,
          -0.02671,
          -0.026860000000000002,
          -0.027010000000000003,
          -0.027160000000000004,
          -0.02731,
          -0.027460000000000002,
          -0.027610000000000003,
          -0.027760000000000003,
          -0.02791,
          -0.02806,
          -0.028210000000000002,
          -0.028360000000000003,
          -0.02851,
          -0.02866,
          -0.028810000000000002,
          -0.028960000000000003,
          -0.029110000000000004,
          -0.02926,
          -0.029410000000000002,
          -0.029560000000000003,
          -0.029710000000000004,
          -0.02986,
          -0.030010000000000002,
          -0.030160000000000003,
          -0.030310000000000004,
          -0.03046,
          -0.030610000000000002,
          -0.030760000000000003,
          -0.030910000000000003,
          -0.03106,
          -0.03121,
          -0.03136,
          -0.03151,
          -0.03166,
          -0.031810000000000005,
          -0.03196,
          -0.03211,
          -0.032260000000000004,
          -0.03241
         ],
         "yaxis": "y4"
        },
        {
         "line": {
          "color": "#AB63FA"
         },
         "mode": "markers",
         "name": "SBES-Tecplot .h5",
         "showlegend": false,
         "type": "scatter",
         "x": [
          0.04810509402959217,
          0.7072743147456043,
          0.7501223488682717,
          0.6559673454741951,
          0.632833679986618,
          0.796189083272171,
          0.9888312425554171,
          1.1912826509831214,
          1.385750200398584,
          1.4433559210647808,
          1.4260378188298628,
          1.4950827833082658,
          1.6168064415459993,
          1.7460620470422956,
          1.897617096972411,
          2.0804910218667265,
          2.366161866447553,
          2.8509481154834426,
          3.2966441307369885,
          3.438271244975397,
          3.4355059328864934,
          3.4472255089454946,
          3.5768157707406423,
          3.832611818140626,
          3.9822784927295816,
          3.948195868385403,
          3.952954096095584,
          4.036102984828854,
          4.084831388492252,
          4.153276797940433,
          4.228063735508867,
          4.207633528941491,
          4.07723350095898,
          3.8584680023767164,
          3.603367773147035,
          3.4428723862157504,
          3.4533970020108002,
          3.502052608181764,
          3.473075490890626,
          3.3939082962447373,
          3.2990151539817503,
          3.2345071724397623,
          3.158237544980693,
          2.9905606260449256,
          2.76833924760581,
          2.6101652097893857,
          2.5101641993893717,
          2.355292014412879,
          2.0808444964795108,
          1.8006716576335364,
          1.614218856670573,
          1.4050127701939987,
          1.091757399133026,
          0.8253989512375387,
          0.7423840177140005,
          0.7356350127165047,
          0.705987028645986,
          0.6108320987717276,
          0.4934084305826616,
          0.40108834591937137,
          0.3706977091928791,
          0.3503329557450056,
          0.31435913014800304,
          0.35190694181995075
         ],
         "xaxis": "x4",
         "y": [
          -0.022959999999999998,
          -0.02311,
          -0.02326,
          -0.02341,
          -0.02356,
          -0.02371,
          -0.02386,
          -0.02401,
          -0.02416,
          -0.02431,
          -0.02446,
          -0.02461,
          -0.02476,
          -0.024909999999999998,
          -0.02506,
          -0.02521,
          -0.02536,
          -0.025509999999999998,
          -0.025660000000000002,
          -0.025810000000000003,
          -0.025960000000000004,
          -0.02611,
          -0.026260000000000002,
          -0.026410000000000003,
          -0.026560000000000004,
          -0.02671,
          -0.026860000000000002,
          -0.027010000000000003,
          -0.027160000000000004,
          -0.02731,
          -0.027460000000000002,
          -0.027610000000000003,
          -0.027760000000000003,
          -0.02791,
          -0.02806,
          -0.028210000000000002,
          -0.028360000000000003,
          -0.02851,
          -0.02866,
          -0.028810000000000002,
          -0.028960000000000003,
          -0.029110000000000004,
          -0.02926,
          -0.029410000000000002,
          -0.029560000000000003,
          -0.029710000000000004,
          -0.02986,
          -0.030010000000000002,
          -0.030160000000000003,
          -0.030310000000000004,
          -0.03046,
          -0.030610000000000002,
          -0.030760000000000003,
          -0.030910000000000003,
          -0.03106,
          -0.03121,
          -0.03136,
          -0.03151,
          -0.03166,
          -0.031810000000000005,
          -0.03196,
          -0.03211,
          -0.032260000000000004,
          -0.03241
         ],
         "yaxis": "y4"
        }
       ],
       "layout": {
        "annotations": [
         {
          "font": {
           "size": 16
          },
          "showarrow": false,
          "text": "X = 0.020m",
          "x": 0.5,
          "xanchor": "center",
          "xref": "paper",
          "y": 1.0,
          "yanchor": "bottom",
          "yref": "paper"
         },
         {
          "font": {
           "size": 16
          },
          "showarrow": false,
          "text": "X = 0.025m",
          "x": 0.5,
          "xanchor": "center",
          "xref": "paper",
          "y": 0.71875,
          "yanchor": "bottom",
          "yref": "paper"
         },
         {
          "font": {
           "size": 16
          },
          "showarrow": false,
          "text": "X = 0.030m",
          "x": 0.5,
          "xanchor": "center",
          "xref": "paper",
          "y": 0.4375,
          "yanchor": "bottom",
          "yref": "paper"
         },
         {
          "font": {
           "size": 16
          },
          "showarrow": false,
          "text": "X = 0.035m",
          "x": 0.5,
          "xanchor": "center",
          "xref": "paper",
          "y": 0.15625,
          "yanchor": "bottom",
          "yref": "paper"
         },
         {
          "font": {
           "size": 16
          },
          "showarrow": false,
          "text": "Velocity Magnitude (m/s)",
          "x": 0.5,
          "xanchor": "center",
          "xref": "paper",
          "y": 0,
          "yanchor": "top",
          "yref": "paper",
          "yshift": -30
         },
         {
          "font": {
           "size": 16
          },
          "showarrow": false,
          "text": "Y-Coordinate from Origin",
          "textangle": -90,
          "x": 0,
          "xanchor": "right",
          "xref": "paper",
          "xshift": -40,
          "y": 0.5,
          "yanchor": "middle",
          "yref": "paper"
         }
        ],
        "height": 1000,
        "template": {
         "data": {
          "bar": [
           {
            "error_x": {
             "color": "#2a3f5f"
            },
            "error_y": {
             "color": "#2a3f5f"
            },
            "marker": {
             "line": {
              "color": "#E5ECF6",
              "width": 0.5
             }
            },
            "type": "bar"
           }
          ],
          "barpolar": [
           {
            "marker": {
             "line": {
              "color": "#E5ECF6",
              "width": 0.5
             }
            },
            "type": "barpolar"
           }
          ],
          "carpet": [
           {
            "aaxis": {
             "endlinecolor": "#2a3f5f",
             "gridcolor": "white",
             "linecolor": "white",
             "minorgridcolor": "white",
             "startlinecolor": "#2a3f5f"
            },
            "baxis": {
             "endlinecolor": "#2a3f5f",
             "gridcolor": "white",
             "linecolor": "white",
             "minorgridcolor": "white",
             "startlinecolor": "#2a3f5f"
            },
            "type": "carpet"
           }
          ],
          "choropleth": [
           {
            "colorbar": {
             "outlinewidth": 0,
             "ticks": ""
            },
            "type": "choropleth"
           }
          ],
          "contour": [
           {
            "colorbar": {
             "outlinewidth": 0,
             "ticks": ""
            },
            "colorscale": [
             [
              0.0,
              "#0d0887"
             ],
             [
              0.1111111111111111,
              "#46039f"
             ],
             [
              0.2222222222222222,
              "#7201a8"
             ],
             [
              0.3333333333333333,
              "#9c179e"
             ],
             [
              0.4444444444444444,
              "#bd3786"
             ],
             [
              0.5555555555555556,
              "#d8576b"
             ],
             [
              0.6666666666666666,
              "#ed7953"
             ],
             [
              0.7777777777777778,
              "#fb9f3a"
             ],
             [
              0.8888888888888888,
              "#fdca26"
             ],
             [
              1.0,
              "#f0f921"
             ]
            ],
            "type": "contour"
           }
          ],
          "contourcarpet": [
           {
            "colorbar": {
             "outlinewidth": 0,
             "ticks": ""
            },
            "type": "contourcarpet"
           }
          ],
          "heatmap": [
           {
            "colorbar": {
             "outlinewidth": 0,
             "ticks": ""
            },
            "colorscale": [
             [
              0.0,
              "#0d0887"
             ],
             [
              0.1111111111111111,
              "#46039f"
             ],
             [
              0.2222222222222222,
              "#7201a8"
             ],
             [
              0.3333333333333333,
              "#9c179e"
             ],
             [
              0.4444444444444444,
              "#bd3786"
             ],
             [
              0.5555555555555556,
              "#d8576b"
             ],
             [
              0.6666666666666666,
              "#ed7953"
             ],
             [
              0.7777777777777778,
              "#fb9f3a"
             ],
             [
              0.8888888888888888,
              "#fdca26"
             ],
             [
              1.0,
              "#f0f921"
             ]
            ],
            "type": "heatmap"
           }
          ],
          "heatmapgl": [
           {
            "colorbar": {
             "outlinewidth": 0,
             "ticks": ""
            },
            "colorscale": [
             [
              0.0,
              "#0d0887"
             ],
             [
              0.1111111111111111,
              "#46039f"
             ],
             [
              0.2222222222222222,
              "#7201a8"
             ],
             [
              0.3333333333333333,
              "#9c179e"
             ],
             [
              0.4444444444444444,
              "#bd3786"
             ],
             [
              0.5555555555555556,
              "#d8576b"
             ],
             [
              0.6666666666666666,
              "#ed7953"
             ],
             [
              0.7777777777777778,
              "#fb9f3a"
             ],
             [
              0.8888888888888888,
              "#fdca26"
             ],
             [
              1.0,
              "#f0f921"
             ]
            ],
            "type": "heatmapgl"
           }
          ],
          "histogram": [
           {
            "marker": {
             "colorbar": {
              "outlinewidth": 0,
              "ticks": ""
             }
            },
            "type": "histogram"
           }
          ],
          "histogram2d": [
           {
            "colorbar": {
             "outlinewidth": 0,
             "ticks": ""
            },
            "colorscale": [
             [
              0.0,
              "#0d0887"
             ],
             [
              0.1111111111111111,
              "#46039f"
             ],
             [
              0.2222222222222222,
              "#7201a8"
             ],
             [
              0.3333333333333333,
              "#9c179e"
             ],
             [
              0.4444444444444444,
              "#bd3786"
             ],
             [
              0.5555555555555556,
              "#d8576b"
             ],
             [
              0.6666666666666666,
              "#ed7953"
             ],
             [
              0.7777777777777778,
              "#fb9f3a"
             ],
             [
              0.8888888888888888,
              "#fdca26"
             ],
             [
              1.0,
              "#f0f921"
             ]
            ],
            "type": "histogram2d"
           }
          ],
          "histogram2dcontour": [
           {
            "colorbar": {
             "outlinewidth": 0,
             "ticks": ""
            },
            "colorscale": [
             [
              0.0,
              "#0d0887"
             ],
             [
              0.1111111111111111,
              "#46039f"
             ],
             [
              0.2222222222222222,
              "#7201a8"
             ],
             [
              0.3333333333333333,
              "#9c179e"
             ],
             [
              0.4444444444444444,
              "#bd3786"
             ],
             [
              0.5555555555555556,
              "#d8576b"
             ],
             [
              0.6666666666666666,
              "#ed7953"
             ],
             [
              0.7777777777777778,
              "#fb9f3a"
             ],
             [
              0.8888888888888888,
              "#fdca26"
             ],
             [
              1.0,
              "#f0f921"
             ]
            ],
            "type": "histogram2dcontour"
           }
          ],
          "mesh3d": [
           {
            "colorbar": {
             "outlinewidth": 0,
             "ticks": ""
            },
            "type": "mesh3d"
           }
          ],
          "parcoords": [
           {
            "line": {
             "colorbar": {
              "outlinewidth": 0,
              "ticks": ""
             }
            },
            "type": "parcoords"
           }
          ],
          "pie": [
           {
            "automargin": true,
            "type": "pie"
           }
          ],
          "scatter": [
           {
            "marker": {
             "colorbar": {
              "outlinewidth": 0,
              "ticks": ""
             }
            },
            "type": "scatter"
           }
          ],
          "scatter3d": [
           {
            "line": {
             "colorbar": {
              "outlinewidth": 0,
              "ticks": ""
             }
            },
            "marker": {
             "colorbar": {
              "outlinewidth": 0,
              "ticks": ""
             }
            },
            "type": "scatter3d"
           }
          ],
          "scattercarpet": [
           {
            "marker": {
             "colorbar": {
              "outlinewidth": 0,
              "ticks": ""
             }
            },
            "type": "scattercarpet"
           }
          ],
          "scattergeo": [
           {
            "marker": {
             "colorbar": {
              "outlinewidth": 0,
              "ticks": ""
             }
            },
            "type": "scattergeo"
           }
          ],
          "scattergl": [
           {
            "marker": {
             "colorbar": {
              "outlinewidth": 0,
              "ticks": ""
             }
            },
            "type": "scattergl"
           }
          ],
          "scattermapbox": [
           {
            "marker": {
             "colorbar": {
              "outlinewidth": 0,
              "ticks": ""
             }
            },
            "type": "scattermapbox"
           }
          ],
          "scatterpolar": [
           {
            "marker": {
             "colorbar": {
              "outlinewidth": 0,
              "ticks": ""
             }
            },
            "type": "scatterpolar"
           }
          ],
          "scatterpolargl": [
           {
            "marker": {
             "colorbar": {
              "outlinewidth": 0,
              "ticks": ""
             }
            },
            "type": "scatterpolargl"
           }
          ],
          "scatterternary": [
           {
            "marker": {
             "colorbar": {
              "outlinewidth": 0,
              "ticks": ""
             }
            },
            "type": "scatterternary"
           }
          ],
          "surface": [
           {
            "colorbar": {
             "outlinewidth": 0,
             "ticks": ""
            },
            "colorscale": [
             [
              0.0,
              "#0d0887"
             ],
             [
              0.1111111111111111,
              "#46039f"
             ],
             [
              0.2222222222222222,
              "#7201a8"
             ],
             [
              0.3333333333333333,
              "#9c179e"
             ],
             [
              0.4444444444444444,
              "#bd3786"
             ],
             [
              0.5555555555555556,
              "#d8576b"
             ],
             [
              0.6666666666666666,
              "#ed7953"
             ],
             [
              0.7777777777777778,
              "#fb9f3a"
             ],
             [
              0.8888888888888888,
              "#fdca26"
             ],
             [
              1.0,
              "#f0f921"
             ]
            ],
            "type": "surface"
           }
          ],
          "table": [
           {
            "cells": {
             "fill": {
              "color": "#EBF0F8"
             },
             "line": {
              "color": "white"
             }
            },
            "header": {
             "fill": {
              "color": "#C8D4E3"
             },
             "line": {
              "color": "white"
             }
            },
            "type": "table"
           }
          ]
         },
         "layout": {
          "annotationdefaults": {
           "arrowcolor": "#2a3f5f",
           "arrowhead": 0,
           "arrowwidth": 1
          },
          "coloraxis": {
           "colorbar": {
            "outlinewidth": 0,
            "ticks": ""
           }
          },
          "colorscale": {
           "diverging": [
            [
             0,
             "#8e0152"
            ],
            [
             0.1,
             "#c51b7d"
            ],
            [
             0.2,
             "#de77ae"
            ],
            [
             0.3,
             "#f1b6da"
            ],
            [
             0.4,
             "#fde0ef"
            ],
            [
             0.5,
             "#f7f7f7"
            ],
            [
             0.6,
             "#e6f5d0"
            ],
            [
             0.7,
             "#b8e186"
            ],
            [
             0.8,
             "#7fbc41"
            ],
            [
             0.9,
             "#4d9221"
            ],
            [
             1,
             "#276419"
            ]
           ],
           "sequential": [
            [
             0.0,
             "#0d0887"
            ],
            [
             0.1111111111111111,
             "#46039f"
            ],
            [
             0.2222222222222222,
             "#7201a8"
            ],
            [
             0.3333333333333333,
             "#9c179e"
            ],
            [
             0.4444444444444444,
             "#bd3786"
            ],
            [
             0.5555555555555556,
             "#d8576b"
            ],
            [
             0.6666666666666666,
             "#ed7953"
            ],
            [
             0.7777777777777778,
             "#fb9f3a"
            ],
            [
             0.8888888888888888,
             "#fdca26"
            ],
            [
             1.0,
             "#f0f921"
            ]
           ],
           "sequentialminus": [
            [
             0.0,
             "#0d0887"
            ],
            [
             0.1111111111111111,
             "#46039f"
            ],
            [
             0.2222222222222222,
             "#7201a8"
            ],
            [
             0.3333333333333333,
             "#9c179e"
            ],
            [
             0.4444444444444444,
             "#bd3786"
            ],
            [
             0.5555555555555556,
             "#d8576b"
            ],
            [
             0.6666666666666666,
             "#ed7953"
            ],
            [
             0.7777777777777778,
             "#fb9f3a"
            ],
            [
             0.8888888888888888,
             "#fdca26"
            ],
            [
             1.0,
             "#f0f921"
            ]
           ]
          },
          "colorway": [
           "#636efa",
           "#EF553B",
           "#00cc96",
           "#ab63fa",
           "#FFA15A",
           "#19d3f3",
           "#FF6692",
           "#B6E880",
           "#FF97FF",
           "#FECB52"
          ],
          "font": {
           "color": "#2a3f5f"
          },
          "geo": {
           "bgcolor": "white",
           "lakecolor": "white",
           "landcolor": "#E5ECF6",
           "showlakes": true,
           "showland": true,
           "subunitcolor": "white"
          },
          "hoverlabel": {
           "align": "left"
          },
          "hovermode": "closest",
          "mapbox": {
           "style": "light"
          },
          "paper_bgcolor": "white",
          "plot_bgcolor": "#E5ECF6",
          "polar": {
           "angularaxis": {
            "gridcolor": "white",
            "linecolor": "white",
            "ticks": ""
           },
           "bgcolor": "#E5ECF6",
           "radialaxis": {
            "gridcolor": "white",
            "linecolor": "white",
            "ticks": ""
           }
          },
          "scene": {
           "xaxis": {
            "backgroundcolor": "#E5ECF6",
            "gridcolor": "white",
            "gridwidth": 2,
            "linecolor": "white",
            "showbackground": true,
            "ticks": "",
            "zerolinecolor": "white"
           },
           "yaxis": {
            "backgroundcolor": "#E5ECF6",
            "gridcolor": "white",
            "gridwidth": 2,
            "linecolor": "white",
            "showbackground": true,
            "ticks": "",
            "zerolinecolor": "white"
           },
           "zaxis": {
            "backgroundcolor": "#E5ECF6",
            "gridcolor": "white",
            "gridwidth": 2,
            "linecolor": "white",
            "showbackground": true,
            "ticks": "",
            "zerolinecolor": "white"
           }
          },
          "shapedefaults": {
           "line": {
            "color": "#2a3f5f"
           }
          },
          "ternary": {
           "aaxis": {
            "gridcolor": "white",
            "linecolor": "white",
            "ticks": ""
           },
           "baxis": {
            "gridcolor": "white",
            "linecolor": "white",
            "ticks": ""
           },
           "bgcolor": "#E5ECF6",
           "caxis": {
            "gridcolor": "white",
            "linecolor": "white",
            "ticks": ""
           }
          },
          "title": {
           "x": 0.05
          },
          "xaxis": {
           "automargin": true,
           "gridcolor": "white",
           "linecolor": "white",
           "ticks": "",
           "title": {
            "standoff": 15
           },
           "zerolinecolor": "white",
           "zerolinewidth": 2
          },
          "yaxis": {
           "automargin": true,
           "gridcolor": "white",
           "linecolor": "white",
           "ticks": "",
           "title": {
            "standoff": 15
           },
           "zerolinecolor": "white",
           "zerolinewidth": 2
          }
         }
        },
        "title": {
         "text": "Diffuser Velocity Magnitude"
        },
        "width": 700,
        "xaxis": {
         "anchor": "y",
         "domain": [
          0.0,
          1.0
         ],
         "dtick": 0.75,
         "matches": "x4",
         "showticklabels": false,
         "tick0": 0,
         "tickmode": "linear"
        },
        "xaxis2": {
         "anchor": "y2",
         "domain": [
          0.0,
          1.0
         ],
         "matches": "x4",
         "showticklabels": false
        },
        "xaxis3": {
         "anchor": "y3",
         "domain": [
          0.0,
          1.0
         ],
         "matches": "x4",
         "showticklabels": false
        },
        "xaxis4": {
         "anchor": "y4",
         "domain": [
          0.0,
          1.0
         ]
        },
        "yaxis": {
         "anchor": "x",
         "domain": [
          0.84375,
          1.0
         ]
        },
        "yaxis2": {
         "anchor": "x2",
         "domain": [
          0.5625,
          0.71875
         ]
        },
        "yaxis3": {
         "anchor": "x3",
         "domain": [
          0.28125,
          0.4375
         ]
        },
        "yaxis4": {
         "anchor": "x4",
         "domain": [
          0.0,
          0.15625
         ]
        }
       }
      },
      "text/html": "<div>\n        \n        \n            <div id=\"b53b85d3-ec4c-4f6d-bf37-8b0fb9dec185\" class=\"plotly-graph-div\" style=\"height:1000px; width:700px;\"></div>\n            <script type=\"text/javascript\">\n                require([\"plotly\"], function(Plotly) {\n                    window.PLOTLYENV=window.PLOTLYENV || {};\n                    \n                if (document.getElementById(\"b53b85d3-ec4c-4f6d-bf37-8b0fb9dec185\")) {\n                    Plotly.newPlot(\n                        'b53b85d3-ec4c-4f6d-bf37-8b0fb9dec185',\n                        [{\"line\": {\"color\": \"#636EFA\"}, \"mode\": \"markers\", \"name\": \"SBES-Tecplot\", \"type\": \"scatter\", \"x\": [5.954383492469788, 6.3258148550987245, 6.494245934486389, 6.740101182460785, 6.843485748767852, 6.882552719116211, 6.894032287597656, 6.907587742805481, 6.928030943870544, 6.947801661491394, 7.0020646214485165, 7.079619908332825, 7.17362687587738, 7.250316083431244, 7.312066328525543, 7.366073477268219, 7.407488167285919, 7.460097670555115, 7.532102560997009, 7.607996273040771, 7.697934675216675, 7.806873643398285, 7.881038022041321, 7.902795040607453, 7.871531319618225, 7.634485983848572, 7.141638588905335, 5.326792907714844], \"xaxis\": \"x\", \"y\": [-0.025810000000000003, -0.025960000000000004, -0.02611, -0.026260000000000002, -0.026410000000000003, -0.026560000000000004, -0.02671, -0.026860000000000002, -0.027010000000000003, -0.027160000000000004, -0.02731, -0.027460000000000002, -0.027610000000000003, -0.027760000000000003, -0.02791, -0.02806, -0.028210000000000002, -0.028360000000000003, -0.02851, -0.02866, -0.028810000000000002, -0.028960000000000003, -0.029110000000000004, -0.02926, -0.029410000000000002, -0.029560000000000003, -0.029710000000000004, -0.02986], \"yaxis\": \"y\"}, {\"line\": {\"color\": \"#19D3F3\"}, \"mode\": \"markers\", \"name\": \"SBES-ASCII\", \"type\": \"scatter\", \"x\": [7.055875022804879, 7.112698330170733, 7.135153414243901, 7.163062741609756, 7.19282755412195, 7.198662185658537, 7.2344077794390245, 7.278102606219513, 7.330721318024389, 7.406854305390244, 7.493953960390246, 7.509945454682926, 6.050686653463416, 6.28739734897561, 6.582129368317073, 6.254975787512194, 6.678669499243903, 6.884800713682928, 6.959015448121954, 6.945872132048781, 6.93496112617073, 6.926784627536583, 6.928058675292682, 6.925518025512194, 6.949717427414636, 6.985381251756099, 7.5083570238536606, 7.414009725121953, 6.9901875908048785, 6.386797659268293, 5.599494638658536, 5.022676667268293], \"xaxis\": \"x\", \"y\": [-0.02759704366000001, -0.027741042900000006, -0.027885043037317085, -0.028029043230000012, -0.028173043276585354, -0.028317043559999984, -0.02846104278999998, -0.02860504289195123, -0.028749043119999998, -0.028893042949756087, -0.029037043450000015, -0.02918104269000001, -0.025833211839999988, -0.025924596940000013, -0.026027008889999995, -0.026073144750000006, -0.026157043688536562, -0.026301043110000002, -0.026445043065853668, -0.02658904344000001, -0.02673304267, -0.026877043769999994, -0.027021042999999988, -0.027165043011219515, -0.027309043329999984, -0.027453042706097556, -0.02932504323560974, -0.02946904301999998, -0.029591044364634167, -0.029711691614634137, -0.029808914289999995, -0.029847745122195127], \"yaxis\": \"y\"}, {\"line\": {\"color\": \"#AB63FA\"}, \"mode\": \"markers\", \"name\": \"SBES-Tecplot .h5\", \"type\": \"scatter\", \"x\": [6.020374469966538, 6.45947088562089, 6.800964005031231, 6.958460424823466, 6.919108381563874, 6.881985380116822, 6.831562176748841, 6.769503529895797, 6.733213371967689, 6.721861669036651, 6.7266508410695085, 6.759242651638449, 6.831311596793597, 6.91531848225118, 6.985072201690984, 7.04079626568494, 7.090069784934791, 7.144707472661285, 7.194838476925395, 7.246046235022904, 7.332933786741589, 7.451186537733608, 7.541403496101308, 7.558210631088674, 7.475173026646814, 7.108786410697053, 6.3071124473240765, 4.720917673721089], \"xaxis\": \"x\", \"y\": [-0.025810000000000003, -0.025960000000000004, -0.02611, -0.026260000000000002, -0.026410000000000003, -0.026560000000000004, -0.02671, -0.026860000000000002, -0.027010000000000003, -0.027160000000000004, -0.02731, -0.027460000000000002, -0.027610000000000003, -0.027760000000000003, -0.02791, -0.02806, -0.028210000000000002, -0.028360000000000003, -0.02851, -0.02866, -0.028810000000000002, -0.028960000000000003, -0.029110000000000004, -0.02926, -0.029410000000000002, -0.029560000000000003, -0.029710000000000004, -0.02986], \"yaxis\": \"y\"}, {\"line\": {\"color\": \"#EF553B\"}, \"mode\": \"markers\", \"name\": \"Experimental\", \"type\": \"scatter\", \"x\": [5.76135, 6.0525400000000005, 6.24821, 6.42276, 6.54204, 6.65583, 6.716260000000001, 6.784689999999999, 6.8434, 6.8890899999999995, 6.945539999999999, 7.005539999999999, 7.05202, 7.104760000000001, 7.16242, 7.22129, 7.2785, 7.3442300000000005, 7.38743, 7.4172899999999995, 7.428610000000001, 7.38213, 7.26461, 7.0327, 6.6322, 6.01384, 5.61002, 4.53867], \"xaxis\": \"x\", \"y\": [-0.025810000000000003, -0.025960000000000004, -0.02611, -0.026260000000000002, -0.026410000000000003, -0.026560000000000004, -0.02671, -0.026860000000000002, -0.027010000000000003, -0.027160000000000004, -0.02731, -0.027460000000000002, -0.027610000000000003, -0.027760000000000003, -0.02791, -0.02806, -0.028210000000000002, -0.028360000000000003, -0.02851, -0.02866, -0.028810000000000002, -0.028960000000000003, -0.029110000000000004, -0.02926, -0.029410000000000002, -0.029560000000000003, -0.029710000000000004, -0.02986], \"yaxis\": \"y\"}, {\"line\": {\"color\": \"#636EFA\"}, \"mode\": \"markers\", \"name\": \"SBES-Tecplot\", \"showlegend\": false, \"type\": \"scatter\", \"x\": [0.7098925219848752, 1.43215554356575, 1.885328821837902, 2.2815029665827753, 2.857354572415352, 3.539988386631012, 4.297189944982529, 4.955249726772308, 5.376871150732041, 5.760718697309494, 6.052021956443786, 6.212957680225372, 6.332723987102509, 6.429347968101501, 6.536345291137695, 6.65711225271225, 6.739726197719574, 6.776749467849731, 6.831477355957031, 6.883110511302948, 6.934414184093475, 7.006773006916046, 7.098180818557739, 7.186748313903808, 7.270423722267151, 7.3546630859375, 7.44282648563385, 7.532518434524536, 7.599288141727447, 7.637642168998719, 7.6435052990913395, 7.543121385574341, 7.210576683282852, 6.5843855947256085, 5.505206274986267, 4.267050647735596, 3.3950937524437905, 2.8180152282118796, 2.4096449956297876, 2.3941171571612356], \"xaxis\": \"x2\", \"y\": [-0.02476, -0.024909999999999998, -0.02506, -0.02521, -0.02536, -0.025509999999999998, -0.025660000000000002, -0.025810000000000003, -0.025960000000000004, -0.02611, -0.026260000000000002, -0.026410000000000003, -0.026560000000000004, -0.02671, -0.026860000000000002, -0.027010000000000003, -0.027160000000000004, -0.02731, -0.027460000000000002, -0.027610000000000003, -0.027760000000000003, -0.02791, -0.02806, -0.028210000000000002, -0.028360000000000003, -0.02851, -0.02866, -0.028810000000000002, -0.028960000000000003, -0.029110000000000004, -0.02926, -0.029410000000000002, -0.029560000000000003, -0.029710000000000004, -0.02986, -0.030010000000000002, -0.030160000000000003, -0.030310000000000004, -0.03046, -0.030610000000000002], \"yaxis\": \"y2\"}, {\"line\": {\"color\": \"#19D3F3\"}, \"mode\": \"markers\", \"name\": \"SBES-ASCII\", \"showlegend\": false, \"type\": \"scatter\", \"x\": [6.5027148252439035, 6.562188419390244, 6.597922812560976, 6.620194008390243, 6.666519641414634, 6.73849280202439, 6.806813070463415, 6.878059757731705, 6.940687042951221, 7.017008025195121, 7.07762678063415, 7.0921555146829265, 7.095605062390244, 7.032958365195124, 6.82544716817073, 6.2937367423902435, 5.543236769512194, 4.126975318885367, 2.899596293251219, 2.156549370687806, 1.5225183922048777, 1.3048725490585364, 1.3538979180439024, 6.452408712682928, 6.478434697365853, 6.462993447390244, 0.7815461179492684, 0.9175877542256099, 1.0413558186219511, 1.1520203358463417, 1.2554370600707319, 1.3359318610243902, 1.4785941469292683, 1.6983906488146343, 2.0015849714, 2.5271907215756095, 3.212550180919513, 3.822225665817073, 6.360340107292683, 6.2604129756341464, 6.195449944195121, 6.115843436585367, 5.996738286024391, 5.829900748097561, 5.4837198159756095, 5.1363721205121955, 4.693291967804878], \"xaxis\": \"x2\", \"y\": [-0.027453043114390237, -0.02759704366000001, -0.02774104348975611, -0.027885043990000018, -0.02802904368365855, -0.028173043049756083, -0.028317043559999984, -0.02846104315292682, -0.02860504389, -0.028749043392195115, -0.02889304421999997, -0.029037043450000015, -0.02918104296219514, -0.029325043779999987, -0.029469043156097545, -0.029613044109999993, -0.029757043758292683, -0.02990104298829268, -0.030045043680000008, -0.03018904300073172, -0.030333044010000015, -0.03046895749999998, -0.030571436192439048, -0.02702104331926828, -0.027165044099999987, -0.027309043329999984, -0.024765787650000017, -0.024779907588780476, -0.024798190219999985, -0.02482001110999999, -0.02484604807219513, -0.024877091779268282, -0.024924717840000027, -0.025018064309999984, -0.025150854139999988, -0.025293043974634156, -0.02543704398000001, -0.0255810436204878, -0.026877043769999994, -0.026733043305121953, -0.02658904344000001, -0.02644504420000001, -0.02630104347292683, -0.026157043869999983, -0.026013043778048788, -0.02586904353999999, -0.025725043629512185], \"yaxis\": \"y2\"}, {\"line\": {\"color\": \"#EF553B\"}, \"mode\": \"markers\", \"name\": \"Experimental\", \"showlegend\": false, \"type\": \"scatter\", \"x\": [0.20137, 0.34029, 0.5137, 0.82304, 1.17134, 1.65088, 2.12154, 2.64039, 3.20254, 3.67476, 4.15416, 4.53342, 4.8545300000000005, 5.12106, 5.31349, 5.47245, 5.59622, 5.71496, 5.81745, 5.90495, 5.9839400000000005, 6.047619999999999, 6.10723, 6.1679699999999995, 6.229019999999999, 6.26167, 6.29969, 6.30115, 6.27441, 6.19451, 6.0191300000000005, 5.76691, 5.30549, 4.72914, 3.9385199999999996, 3.1562099999999997, 2.32908, 1.71845, 1.17292, 0.9531299999999999], \"xaxis\": \"x2\", \"y\": [-0.02476, -0.024909999999999998, -0.02506, -0.02521, -0.02536, -0.025509999999999998, -0.025660000000000002, -0.025810000000000003, -0.025960000000000004, -0.02611, -0.026260000000000002, -0.026410000000000003, -0.026560000000000004, -0.02671, -0.026860000000000002, -0.027010000000000003, -0.027160000000000004, -0.02731, -0.027460000000000002, -0.027610000000000003, -0.027760000000000003, -0.02791, -0.02806, -0.028210000000000002, -0.028360000000000003, -0.02851, -0.02866, -0.028810000000000002, -0.028960000000000003, -0.029110000000000004, -0.02926, -0.029410000000000002, -0.029560000000000003, -0.029710000000000004, -0.02986, -0.030010000000000002, -0.030160000000000003, -0.030310000000000004, -0.03046, -0.030610000000000002], \"yaxis\": \"y2\"}, {\"line\": {\"color\": \"#AB63FA\"}, \"mode\": \"markers\", \"name\": \"SBES-Tecplot .h5\", \"showlegend\": false, \"type\": \"scatter\", \"x\": [0.19008639474342373, 0.7914299179974446, 1.2746707066189962, 1.8189314900465374, 2.550672001970345, 3.243441252076245, 4.026188088122758, 4.932981737599899, 5.529938053026707, 5.852477583707471, 6.029696742908166, 6.176221993000391, 6.295264919769461, 6.361314814872788, 6.441670960012914, 6.540603359049398, 6.602972884673722, 6.610001754144749, 6.608537825820112, 6.624398023890205, 6.662137569112603, 6.731375414122721, 6.814991983280702, 6.892171944702374, 6.9557957206462, 7.021959601426419, 7.090556861008725, 7.132519278383646, 7.1291646363371655, 7.07580324842452, 6.937485314806557, 6.557177383763325, 5.8315520964498475, 4.892168743770911, 3.735752449198658, 2.4480700313950785, 1.3918086614026421, 0.7368337806778529, 0.6115512211949568, 1.029189496785947], \"xaxis\": \"x2\", \"y\": [-0.02476, -0.024909999999999998, -0.02506, -0.02521, -0.02536, -0.025509999999999998, -0.025660000000000002, -0.025810000000000003, -0.025960000000000004, -0.02611, -0.026260000000000002, -0.026410000000000003, -0.026560000000000004, -0.02671, -0.026860000000000002, -0.027010000000000003, -0.027160000000000004, -0.02731, -0.027460000000000002, -0.027610000000000003, -0.027760000000000003, -0.02791, -0.02806, -0.028210000000000002, -0.028360000000000003, -0.02851, -0.02866, -0.028810000000000002, -0.028960000000000003, -0.029110000000000004, -0.02926, -0.029410000000000002, -0.029560000000000003, -0.029710000000000004, -0.02986, -0.030010000000000002, -0.030160000000000003, -0.030310000000000004, -0.03046, -0.030610000000000002], \"yaxis\": \"y2\"}, {\"line\": {\"color\": \"#636EFA\"}, \"mode\": \"markers\", \"name\": \"SBES-Tecplot\", \"showlegend\": false, \"type\": \"scatter\", \"x\": [1.6600054912269115, 1.9593582525849342, 2.106166850030422, 2.2695653468370436, 2.3589297220110894, 2.450456663966179, 2.6105330377817153, 2.838891991972923, 3.116156031191349, 3.4500554248690607, 3.7595464870333672, 4.036144509911537, 4.363685980439186, 4.741557717323303, 5.133141595125198, 5.410387086868286, 5.563596731424331, 5.701447296142578, 5.813512665033341, 5.913576495647431, 6.01006264090538, 6.088025104999542, 6.165408635139466, 6.233332294225693, 6.266775643825531, 6.246053022146225, 6.193566870689392, 6.1268126428127285, 6.087759274244308, 6.072247034311294, 6.051750725507736, 6.013517528772354, 5.969452637434006, 5.891181337833404, 5.755890592932701, 5.646183335781098, 5.537087476253509, 5.363757666945458, 5.174830225110054, 4.9537250936031345, 4.648959317803383, 4.321535596251488, 4.054906617105007, 3.812725119292736, 3.5936873614788056, 3.384973908960819, 2.9375234261155128, 2.8071615412831306, 2.708191764354706, 2.570701775699854, 2.526750100404024], \"xaxis\": \"x3\", \"y\": [-0.02401, -0.02416, -0.02431, -0.02446, -0.02461, -0.02476, -0.024909999999999998, -0.02506, -0.02521, -0.02536, -0.025509999999999998, -0.025660000000000002, -0.025810000000000003, -0.025960000000000004, -0.02611, -0.026260000000000002, -0.026410000000000003, -0.026560000000000004, -0.02671, -0.026860000000000002, -0.027010000000000003, -0.027160000000000004, -0.02731, -0.027460000000000002, -0.027610000000000003, -0.027760000000000003, -0.02791, -0.02806, -0.028210000000000002, -0.028360000000000003, -0.02851, -0.02866, -0.028810000000000002, -0.028960000000000003, -0.029110000000000004, -0.02926, -0.029410000000000002, -0.029560000000000003, -0.029710000000000004, -0.02986, -0.030010000000000002, -0.030160000000000003, -0.030310000000000004, -0.03046, -0.030610000000000002, -0.030760000000000003, -0.030910000000000003, -0.03106, -0.03121, -0.03136, -0.03151], \"yaxis\": \"y3\"}, {\"line\": {\"color\": \"#19D3F3\"}, \"mode\": \"markers\", \"name\": \"SBES-ASCII\", \"showlegend\": false, \"type\": \"scatter\", \"x\": [1.6386184778146342, 1.8181586836121948, 2.004079554085366, 2.0279624142170727, 2.1434279628390245, 2.224583287648781, 2.2203898387146346, 2.2619144453073163, 2.398291222619512, 2.6140621699804876, 2.8602078872195125, 3.083748327743902, 3.3991489910560975, 3.6516523160170724, 3.9205863385609754, 4.223469295512195, 4.631309747048782, 5.000701864926831, 5.135937078463416, 5.276202126536584, 5.411263558000001, 5.517645817756098, 5.646861475, 5.789859031097562, 4.182038889512195, 3.968859869195122, 3.630826085253659, 3.276031327268293, 2.9306080079121957, 2.652975041717074, 2.459593777192683, 2.1953376399000004, 1.8936195372682925, 1.6591699728585365, 1.5516645714487804, 1.4573413369560977, 1.35422375857561, 4.366931880317074, 4.629290139682928, 4.906635765878049, 5.0040172543170724, 5.154846099365855, 5.322656362390243, 5.422602985317073, 5.530857251292684, 5.573397300414634, 5.618360603, 5.677641074414635, 5.71106859809756, 5.735369175170732, 5.769324768463416, 5.802761379024387, 5.782545652682927, 5.802842286121951, 5.840555302780488], \"xaxis\": \"x3\", \"y\": [-0.02401195839000001, -0.024040918800000012, -0.024124248679756106, -0.02420346625000002, -0.024291699750000003, -0.024429043749999994, -0.024573042989999988, -0.024717044089999984, -0.024861043320000026, -0.025005042550000016, -0.02514904365000001, -0.025293042879999998, -0.02543704398000001, -0.025581043209999994, -0.025725042586097546, -0.02586904353999999, -0.026013042780000023, -0.026157043869999983, -0.026301043110000002, -0.02644504420000001, -0.02658904344000001, -0.02673304267, -0.026877043769999994, -0.027021042999999988, -0.029757043349999998, -0.029901042579999995, -0.030045043680000008, -0.030189042910000012, -0.030333044010000015, -0.030477043239999977, -0.03062104293365853, -0.03076504356999999, -0.03090904281, -0.031053043900000007, -0.031197043140000002, -0.031335849310000004, -0.03145632629170732, -0.029613044109999993, -0.02946904301999998, -0.029325043779999987, -0.02918104269000001, -0.029037043450000015, -0.02889304421999997, -0.028749043119999998, -0.02860504389, -0.02846104278999998, -0.028317043559999984, -0.028173042777560966, -0.028029043230000012, -0.027885043990000018, -0.027741042900000006, -0.02759704366000001, -0.02745304257, -0.027309043329999984, -0.027165044099999987], \"yaxis\": \"y3\"}, {\"line\": {\"color\": \"#EF553B\"}, \"mode\": \"markers\", \"name\": \"Experimental\", \"showlegend\": false, \"type\": \"scatter\", \"x\": [0.53052, 0.5423100000000001, 0.54068, 0.52653, 0.50625, 0.53947, 0.61387, 0.6914899999999999, 0.7943100000000001, 0.905, 1.09103, 1.2746899999999999, 1.4747299999999999, 1.6854799999999999, 1.89868, 2.15576, 2.3910299999999998, 2.65804, 2.88821, 3.12508, 3.3778, 3.61164, 3.82251, 4.02064, 4.20383, 4.3649, 4.49949, 4.60637, 4.66247, 4.72149, 4.71364, 4.68845, 4.61461, 4.57943, 4.50087, 4.39011, 4.26685, 4.08652, 3.9104099999999997, 3.70051, 3.480932488, 3.219334996, 2.9405598569999998, 2.671257492, 2.3899760430000003, 2.130672852, 1.8796939069999998, 1.6295049169999998, 1.408515499, 1.255905636, 1.024761094], \"xaxis\": \"x3\", \"y\": [-0.02401, -0.02416, -0.02431, -0.02446, -0.02461, -0.02476, -0.024909999999999998, -0.02506, -0.02521, -0.02536, -0.025509999999999998, -0.025660000000000002, -0.025810000000000003, -0.025960000000000004, -0.02611, -0.026260000000000002, -0.026410000000000003, -0.026560000000000004, -0.02671, -0.026860000000000002, -0.027010000000000003, -0.027160000000000004, -0.02731, -0.027460000000000002, -0.027610000000000003, -0.027760000000000003, -0.02791, -0.02806, -0.028210000000000002, -0.028360000000000003, -0.02851, -0.02866, -0.028810000000000002, -0.028960000000000003, -0.029110000000000004, -0.02926, -0.029410000000000002, -0.029560000000000003, -0.029710000000000004, -0.02986, -0.030010000000000002, -0.030160000000000003, -0.030310000000000004, -0.03046, -0.030610000000000002, -0.030760000000000003, -0.030910000000000003, -0.03106, -0.03121, -0.03136, -0.03151], \"yaxis\": \"y3\"}, {\"line\": {\"color\": \"#AB63FA\"}, \"mode\": \"markers\", \"name\": \"SBES-Tecplot .h5\", \"showlegend\": false, \"type\": \"scatter\", \"x\": [0.1646141820314696, 0.6250526601803339, 0.9031156588761666, 1.079338481705158, 1.205198439944593, 1.511396523889006, 1.9859262150937096, 2.399903551199206, 2.8076324213680404, 3.128305754218203, 3.3426382523031655, 3.703644971458458, 4.300932818825639, 4.802481086023199, 5.0624534521266735, 5.244310684027239, 5.463555420466996, 5.654336614985174, 5.753970187206804, 5.8061487898543485, 5.806284600890318, 5.811971059251079, 5.843097790621435, 5.840745492119258, 5.773646766709117, 5.620076227801023, 5.346405974674826, 4.975664196020801, 4.66365812273673, 4.555663810867627, 4.5642240442374655, 4.534646473748063, 4.477357831437586, 4.370044653242281, 4.224222212748659, 4.083912833930086, 3.8342040562436597, 3.52115451348819, 3.165034529566737, 2.7420689858221436, 2.301253525129233, 1.8888563037692996, 1.642914124802061, 1.590534871573965, 1.4626959957219172, 1.0537608528167015, 0.5413285788097929, 0.17154294163898676, 0.04391591932923035, 0.19837837901086527, 0.3230251546503649], \"xaxis\": \"x3\", \"y\": [-0.02401, -0.02416, -0.02431, -0.02446, -0.02461, -0.02476, -0.024909999999999998, -0.02506, -0.02521, -0.02536, -0.025509999999999998, -0.025660000000000002, -0.025810000000000003, -0.025960000000000004, -0.02611, -0.026260000000000002, -0.026410000000000003, -0.026560000000000004, -0.02671, -0.026860000000000002, -0.027010000000000003, -0.027160000000000004, -0.02731, -0.027460000000000002, -0.027610000000000003, -0.027760000000000003, -0.02791, -0.02806, -0.028210000000000002, -0.028360000000000003, -0.02851, -0.02866, -0.028810000000000002, -0.028960000000000003, -0.029110000000000004, -0.02926, -0.029410000000000002, -0.029560000000000003, -0.029710000000000004, -0.02986, -0.030010000000000002, -0.030160000000000003, -0.030310000000000004, -0.03046, -0.030610000000000002, -0.030760000000000003, -0.030910000000000003, -0.03106, -0.03121, -0.03136, -0.03151], \"yaxis\": \"y3\"}, {\"line\": {\"color\": \"#636EFA\"}, \"mode\": \"markers\", \"name\": \"SBES-Tecplot\", \"showlegend\": false, \"type\": \"scatter\", \"x\": [0.14482753896154463, 1.3550971642136573, 1.4783980883657932, 1.6099907033145429, 1.6626374758780003, 1.7563729621469975, 1.7844744868576528, 1.8626346841454506, 2.0201553337275984, 2.153934043645859, 2.237360271811485, 2.343746031820774, 2.449995091557503, 2.5474575743079186, 2.6792058452963827, 2.8570547699928284, 3.077049233019352, 3.3464285388588904, 3.61183612793684, 3.7950299181044103, 3.9208157896995544, 4.043999089300632, 4.198530426621437, 4.394639010727405, 4.555669695138931, 4.64848584830761, 4.726816907525063, 4.784956139326096, 4.799092578887939, 4.936035218834877, 5.015727651119232, 5.061263319849968, 5.052380749583245, 4.994576802849769, 5.001713979244232, 5.07088939845562, 5.136656281352043, 5.129587778449059, 5.037269780039788, 4.930603975057602, 4.82725815474987, 4.719340473413467, 4.598600599169731, 4.45194382071495, 4.31876023709774, 4.2354684844613075, 4.200451841950416, 4.091604465246201, 3.8932319462299345, 3.7237012177705764, 3.6393905878067017, 3.572425279021263, 3.491218614578247, 3.303488740324974, 3.2601436987519263, 3.2581558614969253, 3.241729827225208, 3.229356999695301, 3.1936542108654975, 3.1146422795951367, 3.0440052188932896, 3.0143839165568354, 3.0093365028500556, 2.8969619169831278], \"xaxis\": \"x4\", \"y\": [-0.022959999999999998, -0.02311, -0.02326, -0.02341, -0.02356, -0.02371, -0.02386, -0.02401, -0.02416, -0.02431, -0.02446, -0.02461, -0.02476, -0.024909999999999998, -0.02506, -0.02521, -0.02536, -0.025509999999999998, -0.025660000000000002, -0.025810000000000003, -0.025960000000000004, -0.02611, -0.026260000000000002, -0.026410000000000003, -0.026560000000000004, -0.02671, -0.026860000000000002, -0.027010000000000003, -0.027160000000000004, -0.02731, -0.027460000000000002, -0.027610000000000003, -0.027760000000000003, -0.02791, -0.02806, -0.028210000000000002, -0.028360000000000003, -0.02851, -0.02866, -0.028810000000000002, -0.028960000000000003, -0.029110000000000004, -0.02926, -0.029410000000000002, -0.029560000000000003, -0.029710000000000004, -0.02986, -0.030010000000000002, -0.030160000000000003, -0.030310000000000004, -0.03046, -0.030610000000000002, -0.030760000000000003, -0.030910000000000003, -0.03106, -0.03121, -0.03136, -0.03151, -0.03166, -0.031810000000000005, -0.03196, -0.03211, -0.032260000000000004, -0.03241], \"yaxis\": \"y4\"}, {\"line\": {\"color\": \"#19D3F3\"}, \"mode\": \"markers\", \"name\": \"SBES-ASCII\", \"showlegend\": false, \"type\": \"scatter\", \"x\": [1.4185047960658541, 1.558300834419512, 1.5896262019317073, 1.627421340495122, 1.719103009080488, 1.8533420532707316, 1.9075219619682924, 1.9154433648902438, 1.9210442314000007, 1.9331052076146338, 2.018357105980488, 2.1731141023414637, 2.2764387265902446, 2.373391351187805, 2.39879604962439, 2.5920467245219507, 2.8108862230926825, 3.043505803129268, 3.089073519731708, 3.1598035252731704, 3.292805462804878, 3.4438042722951216, 3.620147491756097, 3.7144567398926833, 3.8603376068634163, 4.024348448431708, 0.07204008364182925, 0.20586794097195124, 0.3524276112446341, 0.5086027839295122, 0.6684586099473169, 0.8227530939482929, 0.9652775989048779, 1.0960495877902439, 1.206810583358537, 1.297172262507317, 1.3595707985975607, 1.4011715397951219, 1.5000291504756096, 1.577753078526829, 1.597213338314634, 1.6391400574536583, 1.639850478602439, 1.6381639607878051, 1.7254591547439027, 1.9344450710512193, 1.998561786217073, 2.015461243280488, 2.0937264472487804, 2.1895429291439026, 2.2417595526170735, 2.4371292559878044, 2.632632587160976, 2.860237470773171, 3.148053251068293, 3.3481394800609756, 3.446226924487805, 3.5947594743707314, 3.70393591497561, 3.859418069707318, 4.042121293982926, 4.116939473821953, 4.118739691170732, 4.17843537604878, 4.162733759926829, 4.157919758902439, 4.203506020146341, 4.325704237902439, 4.371823553243902, 4.417103892780489, 4.3265270832926825, 4.270319170414634, 4.258560455463414, 4.330623008000001, 4.3447510571463415, 4.241976702268293], \"xaxis\": \"x4\", \"y\": [-0.03232943267000002, -0.032190952450000004, -0.03206104039999999, -0.03191704302999999, -0.03177304192999998, -0.031629040839999976, -0.03148504347000002, -0.03134104237000001, -0.031197043140000002, -0.031053042039999992, -0.03090904281, -0.03076504198219514, -0.03062104247999999, -0.030477043239999977, -0.030333042140000013, -0.030189042910000012, -0.03004504231170732, -0.029901042579999995, -0.029757043349999998, -0.029613042250000034, -0.02946904301999998, -0.029325041919999982, -0.02918104269000001, -0.029037043450000015, -0.028893042360000003, -0.028749043119999998, -0.022960955097560964, -0.022965853349512184, -0.02297452859682928, -0.02298492847268293, -0.02299739442804879, -0.023012333209756097, -0.02303021586999999, -0.02305160834999998, -0.02307719550999999, -0.023107765240000015, -0.02314046061487806, -0.023206995799999987, -0.023329157379999986, -0.023446941749999978, -0.023565042760000016, -0.02370904200000001, -0.02385304309000002, -0.02399704233, -0.024141043420000004, -0.024285042659999985, -0.024429042479756087, -0.024573042989999988, -0.024717042220000013, -0.024861043320000026, -0.025005042550000016, -0.02514904365000001, -0.025293042879999998, -0.025437042119999982, -0.025581043209999994, -0.025725042449999985, -0.02586904353999999, -0.026013042780000023, -0.026157042010000006, -0.026301043110000002, -0.026445042340000002, -0.02658904344000001, -0.02673304267, -0.026877041909999982, -0.027021042999999988, -0.02716504224000002, -0.027309043329999984, -0.02745304257, -0.027597042299024398, -0.027741042900000006, -0.02788504213, -0.028029043230000012, -0.028173042459999985, -0.028317043559999984, -0.02846104278999998, -0.028605042030000003], \"yaxis\": \"y4\"}, {\"line\": {\"color\": \"#EF553B\"}, \"mode\": \"markers\", \"name\": \"Experimental\", \"showlegend\": false, \"type\": \"scatter\", \"x\": [0.41795, 0.52378, 0.59565, 0.65658, 0.68386, 0.69463, 0.68501, 0.66505, 0.62883, 0.58722, 0.54471, 0.50016, 0.47103999999999996, 0.47143, 0.48163999999999996, 0.52347, 0.5574, 0.59887, 0.6369600000000001, 0.70467, 0.7752899999999999, 0.88512, 0.99026, 1.09935, 1.21812, 1.35601, 1.49881, 1.63943, 1.7975700000000001, 1.9565599999999999, 2.1099099999999997, 2.2758700000000003, 2.46693, 2.61374, 2.7631200000000002, 2.91666, 3.05487, 3.1775599999999997, 3.27506, 3.39086, 3.47436, 3.53249, 3.57085, 3.60192, 3.5931300000000004, 3.55105, 3.49307, 3.42675, 3.33155, 3.22487, 3.10339, 2.97713, 2.87305, 2.72107, 2.58712, 2.4488, 2.32017, 2.1817599999999997, 2.02643, 1.88579, 1.75509, 1.60782, 1.66924, 1.54247], \"xaxis\": \"x4\", \"y\": [-0.022959999999999998, -0.02311, -0.02326, -0.02341, -0.02356, -0.02371, -0.02386, -0.02401, -0.02416, -0.02431, -0.02446, -0.02461, -0.02476, -0.024909999999999998, -0.02506, -0.02521, -0.02536, -0.025509999999999998, -0.025660000000000002, -0.025810000000000003, -0.025960000000000004, -0.02611, -0.026260000000000002, -0.026410000000000003, -0.026560000000000004, -0.02671, -0.026860000000000002, -0.027010000000000003, -0.027160000000000004, -0.02731, -0.027460000000000002, -0.027610000000000003, -0.027760000000000003, -0.02791, -0.02806, -0.028210000000000002, -0.028360000000000003, -0.02851, -0.02866, -0.028810000000000002, -0.028960000000000003, -0.029110000000000004, -0.02926, -0.029410000000000002, -0.029560000000000003, -0.029710000000000004, -0.02986, -0.030010000000000002, -0.030160000000000003, -0.030310000000000004, -0.03046, -0.030610000000000002, -0.030760000000000003, -0.030910000000000003, -0.03106, -0.03121, -0.03136, -0.03151, -0.03166, -0.031810000000000005, -0.03196, -0.03211, -0.032260000000000004, -0.03241], \"yaxis\": \"y4\"}, {\"line\": {\"color\": \"#AB63FA\"}, \"mode\": \"markers\", \"name\": \"SBES-Tecplot .h5\", \"showlegend\": false, \"type\": \"scatter\", \"x\": [0.04810509402959217, 0.7072743147456043, 0.7501223488682717, 0.6559673454741951, 0.632833679986618, 0.796189083272171, 0.9888312425554171, 1.1912826509831214, 1.385750200398584, 1.4433559210647808, 1.4260378188298628, 1.4950827833082658, 1.6168064415459993, 1.7460620470422956, 1.897617096972411, 2.0804910218667265, 2.366161866447553, 2.8509481154834426, 3.2966441307369885, 3.438271244975397, 3.4355059328864934, 3.4472255089454946, 3.5768157707406423, 3.832611818140626, 3.9822784927295816, 3.948195868385403, 3.952954096095584, 4.036102984828854, 4.084831388492252, 4.153276797940433, 4.228063735508867, 4.207633528941491, 4.07723350095898, 3.8584680023767164, 3.603367773147035, 3.4428723862157504, 3.4533970020108002, 3.502052608181764, 3.473075490890626, 3.3939082962447373, 3.2990151539817503, 3.2345071724397623, 3.158237544980693, 2.9905606260449256, 2.76833924760581, 2.6101652097893857, 2.5101641993893717, 2.355292014412879, 2.0808444964795108, 1.8006716576335364, 1.614218856670573, 1.4050127701939987, 1.091757399133026, 0.8253989512375387, 0.7423840177140005, 0.7356350127165047, 0.705987028645986, 0.6108320987717276, 0.4934084305826616, 0.40108834591937137, 0.3706977091928791, 0.3503329557450056, 0.31435913014800304, 0.35190694181995075], \"xaxis\": \"x4\", \"y\": [-0.022959999999999998, -0.02311, -0.02326, -0.02341, -0.02356, -0.02371, -0.02386, -0.02401, -0.02416, -0.02431, -0.02446, -0.02461, -0.02476, -0.024909999999999998, -0.02506, -0.02521, -0.02536, -0.025509999999999998, -0.025660000000000002, -0.025810000000000003, -0.025960000000000004, -0.02611, -0.026260000000000002, -0.026410000000000003, -0.026560000000000004, -0.02671, -0.026860000000000002, -0.027010000000000003, -0.027160000000000004, -0.02731, -0.027460000000000002, -0.027610000000000003, -0.027760000000000003, -0.02791, -0.02806, -0.028210000000000002, -0.028360000000000003, -0.02851, -0.02866, -0.028810000000000002, -0.028960000000000003, -0.029110000000000004, -0.02926, -0.029410000000000002, -0.029560000000000003, -0.029710000000000004, -0.02986, -0.030010000000000002, -0.030160000000000003, -0.030310000000000004, -0.03046, -0.030610000000000002, -0.030760000000000003, -0.030910000000000003, -0.03106, -0.03121, -0.03136, -0.03151, -0.03166, -0.031810000000000005, -0.03196, -0.03211, -0.032260000000000004, -0.03241], \"yaxis\": \"y4\"}],\n                        {\"annotations\": [{\"font\": {\"size\": 16}, \"showarrow\": false, \"text\": \"X = 0.020m\", \"x\": 0.5, \"xanchor\": \"center\", \"xref\": \"paper\", \"y\": 1.0, \"yanchor\": \"bottom\", \"yref\": \"paper\"}, {\"font\": {\"size\": 16}, \"showarrow\": false, \"text\": \"X = 0.025m\", \"x\": 0.5, \"xanchor\": \"center\", \"xref\": \"paper\", \"y\": 0.71875, \"yanchor\": \"bottom\", \"yref\": \"paper\"}, {\"font\": {\"size\": 16}, \"showarrow\": false, \"text\": \"X = 0.030m\", \"x\": 0.5, \"xanchor\": \"center\", \"xref\": \"paper\", \"y\": 0.4375, \"yanchor\": \"bottom\", \"yref\": \"paper\"}, {\"font\": {\"size\": 16}, \"showarrow\": false, \"text\": \"X = 0.035m\", \"x\": 0.5, \"xanchor\": \"center\", \"xref\": \"paper\", \"y\": 0.15625, \"yanchor\": \"bottom\", \"yref\": \"paper\"}, {\"font\": {\"size\": 16}, \"showarrow\": false, \"text\": \"Velocity Magnitude (m/s)\", \"x\": 0.5, \"xanchor\": \"center\", \"xref\": \"paper\", \"y\": 0, \"yanchor\": \"top\", \"yref\": \"paper\", \"yshift\": -30}, {\"font\": {\"size\": 16}, \"showarrow\": false, \"text\": \"Y-Coordinate from Origin\", \"textangle\": -90, \"x\": 0, \"xanchor\": \"right\", \"xref\": \"paper\", \"xshift\": -40, \"y\": 0.5, \"yanchor\": \"middle\", \"yref\": \"paper\"}], \"height\": 1000, \"template\": {\"data\": {\"bar\": [{\"error_x\": {\"color\": \"#2a3f5f\"}, \"error_y\": {\"color\": \"#2a3f5f\"}, \"marker\": {\"line\": {\"color\": \"#E5ECF6\", \"width\": 0.5}}, \"type\": \"bar\"}], \"barpolar\": [{\"marker\": {\"line\": {\"color\": \"#E5ECF6\", \"width\": 0.5}}, \"type\": \"barpolar\"}], \"carpet\": [{\"aaxis\": {\"endlinecolor\": \"#2a3f5f\", \"gridcolor\": \"white\", \"linecolor\": \"white\", \"minorgridcolor\": \"white\", \"startlinecolor\": \"#2a3f5f\"}, \"baxis\": {\"endlinecolor\": \"#2a3f5f\", \"gridcolor\": \"white\", \"linecolor\": \"white\", \"minorgridcolor\": \"white\", \"startlinecolor\": \"#2a3f5f\"}, \"type\": \"carpet\"}], \"choropleth\": [{\"colorbar\": {\"outlinewidth\": 0, \"ticks\": \"\"}, \"type\": \"choropleth\"}], \"contour\": [{\"colorbar\": {\"outlinewidth\": 0, \"ticks\": \"\"}, \"colorscale\": [[0.0, \"#0d0887\"], [0.1111111111111111, \"#46039f\"], [0.2222222222222222, \"#7201a8\"], [0.3333333333333333, \"#9c179e\"], [0.4444444444444444, \"#bd3786\"], [0.5555555555555556, \"#d8576b\"], [0.6666666666666666, \"#ed7953\"], [0.7777777777777778, \"#fb9f3a\"], [0.8888888888888888, \"#fdca26\"], [1.0, \"#f0f921\"]], \"type\": \"contour\"}], \"contourcarpet\": [{\"colorbar\": {\"outlinewidth\": 0, \"ticks\": \"\"}, \"type\": \"contourcarpet\"}], \"heatmap\": [{\"colorbar\": {\"outlinewidth\": 0, \"ticks\": \"\"}, \"colorscale\": [[0.0, \"#0d0887\"], [0.1111111111111111, \"#46039f\"], [0.2222222222222222, \"#7201a8\"], [0.3333333333333333, \"#9c179e\"], [0.4444444444444444, \"#bd3786\"], [0.5555555555555556, \"#d8576b\"], [0.6666666666666666, \"#ed7953\"], [0.7777777777777778, \"#fb9f3a\"], [0.8888888888888888, \"#fdca26\"], [1.0, \"#f0f921\"]], \"type\": \"heatmap\"}], \"heatmapgl\": [{\"colorbar\": {\"outlinewidth\": 0, \"ticks\": \"\"}, \"colorscale\": [[0.0, \"#0d0887\"], [0.1111111111111111, \"#46039f\"], [0.2222222222222222, \"#7201a8\"], [0.3333333333333333, \"#9c179e\"], [0.4444444444444444, \"#bd3786\"], [0.5555555555555556, \"#d8576b\"], [0.6666666666666666, \"#ed7953\"], [0.7777777777777778, \"#fb9f3a\"], [0.8888888888888888, \"#fdca26\"], [1.0, \"#f0f921\"]], \"type\": \"heatmapgl\"}], \"histogram\": [{\"marker\": {\"colorbar\": {\"outlinewidth\": 0, \"ticks\": \"\"}}, \"type\": \"histogram\"}], \"histogram2d\": [{\"colorbar\": {\"outlinewidth\": 0, \"ticks\": \"\"}, \"colorscale\": [[0.0, \"#0d0887\"], [0.1111111111111111, \"#46039f\"], [0.2222222222222222, \"#7201a8\"], [0.3333333333333333, \"#9c179e\"], [0.4444444444444444, \"#bd3786\"], [0.5555555555555556, \"#d8576b\"], [0.6666666666666666, \"#ed7953\"], [0.7777777777777778, \"#fb9f3a\"], [0.8888888888888888, \"#fdca26\"], [1.0, \"#f0f921\"]], \"type\": \"histogram2d\"}], \"histogram2dcontour\": [{\"colorbar\": {\"outlinewidth\": 0, \"ticks\": \"\"}, \"colorscale\": [[0.0, \"#0d0887\"], [0.1111111111111111, \"#46039f\"], [0.2222222222222222, \"#7201a8\"], [0.3333333333333333, \"#9c179e\"], [0.4444444444444444, \"#bd3786\"], [0.5555555555555556, \"#d8576b\"], [0.6666666666666666, \"#ed7953\"], [0.7777777777777778, \"#fb9f3a\"], [0.8888888888888888, \"#fdca26\"], [1.0, \"#f0f921\"]], \"type\": \"histogram2dcontour\"}], \"mesh3d\": [{\"colorbar\": {\"outlinewidth\": 0, \"ticks\": \"\"}, \"type\": \"mesh3d\"}], \"parcoords\": [{\"line\": {\"colorbar\": {\"outlinewidth\": 0, \"ticks\": \"\"}}, \"type\": \"parcoords\"}], \"pie\": [{\"automargin\": true, \"type\": \"pie\"}], \"scatter\": [{\"marker\": {\"colorbar\": {\"outlinewidth\": 0, \"ticks\": \"\"}}, \"type\": \"scatter\"}], \"scatter3d\": [{\"line\": {\"colorbar\": {\"outlinewidth\": 0, \"ticks\": \"\"}}, \"marker\": {\"colorbar\": {\"outlinewidth\": 0, \"ticks\": \"\"}}, \"type\": \"scatter3d\"}], \"scattercarpet\": [{\"marker\": {\"colorbar\": {\"outlinewidth\": 0, \"ticks\": \"\"}}, \"type\": \"scattercarpet\"}], \"scattergeo\": [{\"marker\": {\"colorbar\": {\"outlinewidth\": 0, \"ticks\": \"\"}}, \"type\": \"scattergeo\"}], \"scattergl\": [{\"marker\": {\"colorbar\": {\"outlinewidth\": 0, \"ticks\": \"\"}}, \"type\": \"scattergl\"}], \"scattermapbox\": [{\"marker\": {\"colorbar\": {\"outlinewidth\": 0, \"ticks\": \"\"}}, \"type\": \"scattermapbox\"}], \"scatterpolar\": [{\"marker\": {\"colorbar\": {\"outlinewidth\": 0, \"ticks\": \"\"}}, \"type\": \"scatterpolar\"}], \"scatterpolargl\": [{\"marker\": {\"colorbar\": {\"outlinewidth\": 0, \"ticks\": \"\"}}, \"type\": \"scatterpolargl\"}], \"scatterternary\": [{\"marker\": {\"colorbar\": {\"outlinewidth\": 0, \"ticks\": \"\"}}, \"type\": \"scatterternary\"}], \"surface\": [{\"colorbar\": {\"outlinewidth\": 0, \"ticks\": \"\"}, \"colorscale\": [[0.0, \"#0d0887\"], [0.1111111111111111, \"#46039f\"], [0.2222222222222222, \"#7201a8\"], [0.3333333333333333, \"#9c179e\"], [0.4444444444444444, \"#bd3786\"], [0.5555555555555556, \"#d8576b\"], [0.6666666666666666, \"#ed7953\"], [0.7777777777777778, \"#fb9f3a\"], [0.8888888888888888, \"#fdca26\"], [1.0, \"#f0f921\"]], \"type\": \"surface\"}], \"table\": [{\"cells\": {\"fill\": {\"color\": \"#EBF0F8\"}, \"line\": {\"color\": \"white\"}}, \"header\": {\"fill\": {\"color\": \"#C8D4E3\"}, \"line\": {\"color\": \"white\"}}, \"type\": \"table\"}]}, \"layout\": {\"annotationdefaults\": {\"arrowcolor\": \"#2a3f5f\", \"arrowhead\": 0, \"arrowwidth\": 1}, \"coloraxis\": {\"colorbar\": {\"outlinewidth\": 0, \"ticks\": \"\"}}, \"colorscale\": {\"diverging\": [[0, \"#8e0152\"], [0.1, \"#c51b7d\"], [0.2, \"#de77ae\"], [0.3, \"#f1b6da\"], [0.4, \"#fde0ef\"], [0.5, \"#f7f7f7\"], [0.6, \"#e6f5d0\"], [0.7, \"#b8e186\"], [0.8, \"#7fbc41\"], [0.9, \"#4d9221\"], [1, \"#276419\"]], \"sequential\": [[0.0, \"#0d0887\"], [0.1111111111111111, \"#46039f\"], [0.2222222222222222, \"#7201a8\"], [0.3333333333333333, \"#9c179e\"], [0.4444444444444444, \"#bd3786\"], [0.5555555555555556, \"#d8576b\"], [0.6666666666666666, \"#ed7953\"], [0.7777777777777778, \"#fb9f3a\"], [0.8888888888888888, \"#fdca26\"], [1.0, \"#f0f921\"]], \"sequentialminus\": [[0.0, \"#0d0887\"], [0.1111111111111111, \"#46039f\"], [0.2222222222222222, \"#7201a8\"], [0.3333333333333333, \"#9c179e\"], [0.4444444444444444, \"#bd3786\"], [0.5555555555555556, \"#d8576b\"], [0.6666666666666666, \"#ed7953\"], [0.7777777777777778, \"#fb9f3a\"], [0.8888888888888888, \"#fdca26\"], [1.0, \"#f0f921\"]]}, \"colorway\": [\"#636efa\", \"#EF553B\", \"#00cc96\", \"#ab63fa\", \"#FFA15A\", \"#19d3f3\", \"#FF6692\", \"#B6E880\", \"#FF97FF\", \"#FECB52\"], \"font\": {\"color\": \"#2a3f5f\"}, \"geo\": {\"bgcolor\": \"white\", \"lakecolor\": \"white\", \"landcolor\": \"#E5ECF6\", \"showlakes\": true, \"showland\": true, \"subunitcolor\": \"white\"}, \"hoverlabel\": {\"align\": \"left\"}, \"hovermode\": \"closest\", \"mapbox\": {\"style\": \"light\"}, \"paper_bgcolor\": \"white\", \"plot_bgcolor\": \"#E5ECF6\", \"polar\": {\"angularaxis\": {\"gridcolor\": \"white\", \"linecolor\": \"white\", \"ticks\": \"\"}, \"bgcolor\": \"#E5ECF6\", \"radialaxis\": {\"gridcolor\": \"white\", \"linecolor\": \"white\", \"ticks\": \"\"}}, \"scene\": {\"xaxis\": {\"backgroundcolor\": \"#E5ECF6\", \"gridcolor\": \"white\", \"gridwidth\": 2, \"linecolor\": \"white\", \"showbackground\": true, \"ticks\": \"\", \"zerolinecolor\": \"white\"}, \"yaxis\": {\"backgroundcolor\": \"#E5ECF6\", \"gridcolor\": \"white\", \"gridwidth\": 2, \"linecolor\": \"white\", \"showbackground\": true, \"ticks\": \"\", \"zerolinecolor\": \"white\"}, \"zaxis\": {\"backgroundcolor\": \"#E5ECF6\", \"gridcolor\": \"white\", \"gridwidth\": 2, \"linecolor\": \"white\", \"showbackground\": true, \"ticks\": \"\", \"zerolinecolor\": \"white\"}}, \"shapedefaults\": {\"line\": {\"color\": \"#2a3f5f\"}}, \"ternary\": {\"aaxis\": {\"gridcolor\": \"white\", \"linecolor\": \"white\", \"ticks\": \"\"}, \"baxis\": {\"gridcolor\": \"white\", \"linecolor\": \"white\", \"ticks\": \"\"}, \"bgcolor\": \"#E5ECF6\", \"caxis\": {\"gridcolor\": \"white\", \"linecolor\": \"white\", \"ticks\": \"\"}}, \"title\": {\"x\": 0.05}, \"xaxis\": {\"automargin\": true, \"gridcolor\": \"white\", \"linecolor\": \"white\", \"ticks\": \"\", \"title\": {\"standoff\": 15}, \"zerolinecolor\": \"white\", \"zerolinewidth\": 2}, \"yaxis\": {\"automargin\": true, \"gridcolor\": \"white\", \"linecolor\": \"white\", \"ticks\": \"\", \"title\": {\"standoff\": 15}, \"zerolinecolor\": \"white\", \"zerolinewidth\": 2}}}, \"title\": {\"text\": \"Diffuser Velocity Magnitude\"}, \"width\": 700, \"xaxis\": {\"anchor\": \"y\", \"domain\": [0.0, 1.0], \"dtick\": 0.75, \"matches\": \"x4\", \"showticklabels\": false, \"tick0\": 0, \"tickmode\": \"linear\"}, \"xaxis2\": {\"anchor\": \"y2\", \"domain\": [0.0, 1.0], \"matches\": \"x4\", \"showticklabels\": false}, \"xaxis3\": {\"anchor\": \"y3\", \"domain\": [0.0, 1.0], \"matches\": \"x4\", \"showticklabels\": false}, \"xaxis4\": {\"anchor\": \"y4\", \"domain\": [0.0, 1.0]}, \"yaxis\": {\"anchor\": \"x\", \"domain\": [0.84375, 1.0]}, \"yaxis2\": {\"anchor\": \"x2\", \"domain\": [0.5625, 0.71875]}, \"yaxis3\": {\"anchor\": \"x3\", \"domain\": [0.28125, 0.4375]}, \"yaxis4\": {\"anchor\": \"x4\", \"domain\": [0.0, 0.15625]}},\n                        {\"responsive\": true}\n                    ).then(function(){\n                            \nvar gd = document.getElementById('b53b85d3-ec4c-4f6d-bf37-8b0fb9dec185');\nvar x = new MutationObserver(function (mutations, observer) {{\n        var display = window.getComputedStyle(gd).display;\n        if (!display || display === 'none') {{\n            console.log([gd, 'removed!']);\n            Plotly.purge(gd);\n            observer.disconnect();\n        }}\n}});\n\n// Listen for the removal of the full notebook cells\nvar notebookContainer = gd.closest('#notebook-container');\nif (notebookContainer) {{\n    x.observe(notebookContainer, {childList: true});\n}}\n\n// Listen for the clearing of the current output cell\nvar outputEl = gd.closest('.output');\nif (outputEl) {{\n    x.observe(outputEl, {childList: true});\n}}\n\n                        })\n                };\n                });\n            </script>\n        </div>"
     },
     "metadata": {},
     "output_type": "display_data"
    }
   ],
   "source": [
    "color10_16 = ['#636EFA', '#EF553B', '#00CC96', '#AB63FA', '#FFA15A', '#19D3F3', '#FF6692', '#B6E880', '#FF97FF',\n",
    "              '#FECB52']\n",
    "fig1 = make_subplots(\n",
    "    rows=4,\n",
    "    cols=1,\n",
    "    shared_xaxes=True,\n",
    "    x_title=\"Velocity Magnitude (m/s)\",\n",
    "    y_title=\"Y-Coordinate from Origin\",\n",
    "    subplot_titles=(\"X = 0.020m\", \"X = 0.025m\", \"X = 0.030m\", \"X = 0.035m\"))\n",
    "\n",
    "fig1.add_trace(go.Scatter(x=C5_pd[\"D1\"]['Velocity Magnitude Average'],\n",
    "                          y=C5_pd[\"D1\"]['y-coord'],\n",
    "                          mode='markers',\n",
    "                          name='SBES-Tecplot',\n",
    "                          line=dict(color=color10_16[0])\n",
    "                          # error_x_array=d4_df['velocity-magnitude_std'],\n",
    "                          # error_x_array=d1_df['y-coordinate_std']\n",
    "                          ),\n",
    "               row=1, col=1)\n",
    "\n",
    "fig1.add_trace(go.Scatter(x=diff_ascii[\"D1\"]['velocity-magnitude_bin_mean'],\n",
    "                          y=diff_ascii[\"D1\"]['y-coordinate_bin_mean'],\n",
    "                          mode='markers',\n",
    "                          name='SBES-ASCII',\n",
    "                          line=dict(color=color10_16[5])),\n",
    "               row=1, col=1)\n",
    "\n",
    "fig1.add_trace(go.Scatter(x=C5_cas_dat[\"D1\"]['Mean Velocity Magnitude'],\n",
    "                          y=C5_cas_dat[\"D1\"]['y-coord'],\n",
    "                          mode='markers',\n",
    "                          name='SBES-Tecplot .h5',\n",
    "                          line=dict(color=color10_16[3])),\n",
    "               row=1, col=1)\n",
    "\n",
    "fig1.add_trace(go.Scatter(x=C5_Experimental[\"D1\"]['Velocity_Magnitude'],\n",
    "                          y=C5_Experimental[\"D1\"]['y-coord'],\n",
    "                          mode='markers',\n",
    "                          name='Experimental',\n",
    "                          line=dict(color=color10_16[1])),\n",
    "               row=1, col=1)\n",
    "\n",
    "\n",
    "fig1.add_trace(go.Scatter(x=C5_pd[\"D2\"]['Velocity Magnitude Average'],\n",
    "                          y=C5_pd[\"D2\"]['y-coord'],\n",
    "                          mode='markers',\n",
    "                          name='SBES-Tecplot',\n",
    "                          line=dict(color=color10_16[0]),\n",
    "                          showlegend=False\n",
    "                          # error_x_array=d4_df['velocity-magnitude_std'],\n",
    "                          # error_x_array=d2_df['y-coordinate_std']\n",
    "                          ),\n",
    "               row=2, col=1)\n",
    "\n",
    "fig1.add_trace(go.Scatter(x=diff_ascii[\"D2\"]['velocity-magnitude_bin_mean'],\n",
    "                          y=diff_ascii[\"D2\"]['y-coordinate_bin_mean'],\n",
    "                          mode='markers',\n",
    "                          name='SBES-ASCII',\n",
    "                          line=dict(color=color10_16[5]),\n",
    "                          showlegend=False),\n",
    "               row=2, col=1)\n",
    "\n",
    "fig1.add_trace(go.Scatter(x=C5_Experimental[\"D2\"]['Velocity_Magnitude'],\n",
    "                          y=C5_Experimental[\"D2\"]['y-coord'],\n",
    "                          mode='markers',\n",
    "                          name='Experimental',\n",
    "                          line=dict(color=color10_16[1]),\n",
    "                          showlegend=False),\n",
    "               row=2, col=1)\n",
    "\n",
    "fig1.add_trace(go.Scatter(x=C5_cas_dat[\"D2\"]['Mean Velocity Magnitude'],\n",
    "                          y=C5_cas_dat[\"D2\"]['y-coord'],\n",
    "                          mode='markers',\n",
    "                          name='SBES-Tecplot .h5',\n",
    "                          line=dict(color=color10_16[3]),\n",
    "                          showlegend=False),\n",
    "               row=2, col=1)\n",
    "\n",
    "fig1.add_trace(go.Scatter(x=C5_pd[\"D3\"]['Velocity Magnitude Average'],\n",
    "                          y=C5_pd[\"D3\"]['y-coord'],\n",
    "                          mode='markers',\n",
    "                          name='SBES-Tecplot',\n",
    "                          line=dict(color=color10_16[0]),\n",
    "                          showlegend=False\n",
    "                          # error_x_array=d4_df['velocity-magnitude_std'],\n",
    "                          # error_x_array=d3_df['y-coordinate_std']\n",
    "                          ),\n",
    "               row=3, col=1)\n",
    "\n",
    "fig1.add_trace(go.Scatter(x=diff_ascii[\"D3\"]['velocity-magnitude_bin_mean'],\n",
    "                          y=diff_ascii[\"D3\"]['y-coordinate_bin_mean'],\n",
    "                          mode='markers',\n",
    "                          name='SBES-ASCII',\n",
    "                          line=dict(color=color10_16[5]),\n",
    "                          showlegend=False),\n",
    "               row=3, col=1)\n",
    "\n",
    "fig1.add_trace(go.Scatter(x=C5_Experimental[\"D3\"]['Velocity_Magnitude'],\n",
    "                          y=C5_Experimental[\"D3\"]['y-coord'],\n",
    "                          mode='markers',\n",
    "                          name='Experimental',\n",
    "                          line=dict(color=color10_16[1]),\n",
    "                          showlegend=False),\n",
    "               row=3, col=1)\n",
    "\n",
    "fig1.add_trace(go.Scatter(x=C5_cas_dat[\"D3\"]['Mean Velocity Magnitude'],\n",
    "                          y=C5_cas_dat[\"D3\"]['y-coord'],\n",
    "                          mode='markers',\n",
    "                          name='SBES-Tecplot .h5',\n",
    "                          line=dict(color=color10_16[3]),\n",
    "                          showlegend=False),\n",
    "               row=3, col=1)\n",
    "\n",
    "fig1.add_trace(go.Scatter(x=C5_pd[\"D4\"]['Velocity Magnitude Average'],\n",
    "                          y=C5_pd[\"D4\"]['y-coord'],\n",
    "                          mode='markers',\n",
    "                          name='SBES-Tecplot',\n",
    "                          line=dict(color=color10_16[0]),\n",
    "                          showlegend=False\n",
    "                          # error_x_array=d4_df['velocity-magnitude_std']\n",
    "                          # error_x_array=d4_df['y-coordinate_std']\n",
    "                          ),\n",
    "               row=4, col=1)\n",
    "\n",
    "fig1.add_trace(go.Scatter(x=diff_ascii[\"D4\"]['velocity-magnitude_bin_mean'],\n",
    "                          y=diff_ascii[\"D4\"]['y-coordinate_bin_mean'],\n",
    "                          mode='markers',\n",
    "                          name='SBES-ASCII',\n",
    "                          line=dict(color=color10_16[5]),\n",
    "                          showlegend=False),\n",
    "               row=4, col=1)\n",
    "\n",
    "fig1.add_trace(go.Scatter(x=C5_Experimental[\"D4\"]['Velocity_Magnitude'],\n",
    "                          y=C5_Experimental[\"D4\"]['y-coord'],\n",
    "                          mode='markers',\n",
    "                          name='Experimental',\n",
    "                          line=dict(color=color10_16[1]),\n",
    "                          showlegend=False),\n",
    "               row=4, col=1)\n",
    "\n",
    "fig1.add_trace(go.Scatter(x=C5_cas_dat[\"D4\"]['Mean Velocity Magnitude'],\n",
    "                          y=C5_cas_dat[\"D4\"]['y-coord'],\n",
    "                          mode='markers',\n",
    "                          name='SBES-Tecplot .h5',\n",
    "                          line=dict(color=color10_16[3]),\n",
    "                          showlegend=False),\n",
    "               row=4, col=1)\n",
    "\n",
    "fig1.update_layout(height=1000, width=700,\n",
    "                   title_text=\"Diffuser Velocity Magnitude\",\n",
    "                   xaxis=dict(\n",
    "                       tickmode='linear',\n",
    "                       tick0=0,\n",
    "                       dtick=0.75\n",
    "                   ))\n",
    "\n",
    "fig1.show()"
   ],
   "metadata": {
    "collapsed": false,
    "pycharm": {
     "name": "#%%\n"
    }
   }
  },
  {
   "cell_type": "code",
   "execution_count": 56,
   "outputs": [
    {
     "data": {
      "application/vnd.plotly.v1+json": {
       "config": {
        "plotlyServerURL": "https://plot.ly"
       },
       "data": [
        {
         "line": {
          "color": "#636EFA"
         },
         "mode": "markers",
         "name": "SBES-Tecplot",
         "type": "scatter",
         "x": [
          0.00848528137423857,
          0.008909545442950499,
          0.009333809511662426,
          0.009758073580374355,
          0.010182337649086284,
          0.010606601717798213,
          0.01103086578651014,
          0.011455129855222068,
          0.011879393923933997,
          0.012303657992645926,
          0.012727922061357857,
          0.013152186130069783,
          0.013576450198781712,
          0.014000714267493643,
          0.01442497833620557,
          0.0148492424049175,
          0.015273506473629427,
          0.015697770542341356,
          0.016122034611053285,
          0.01654629867976521,
          0.01697056274847714,
          0.01739482681718907,
          0.017819090885900998,
          0.018243354954612927,
          0.018667619023324852,
          0.01909188309203678,
          0.01951614716074871,
          0.01994041122946064,
          0.02036467529817257,
          0.020788939366884498,
          0.021213203435596427,
          0.021637467504308353,
          0.02206173157302028,
          0.02248599564173221,
          0.022910259710444136,
          0.02333452377915607,
          0.023758787847867995,
          0.024183051916579927,
          0.024607315985291853,
          0.025031580054003785,
          0.025455844122715714,
          0.02588010819142764,
          0.026304372260139566,
          0.026728636328851498,
          0.027152900397563424,
          0.027577164466275353,
          0.028001428534987285,
          0.02842569260369921,
          0.02884995667241114,
          0.02927422074112307,
          0.029698484809835
         ],
         "xaxis": "x",
         "y": [
          1.4950221642851829,
          1.5737977936863898,
          1.632843127846718,
          1.6686297416687013,
          1.713070522248745,
          1.6816926583647729,
          1.8733525276184082,
          2.1985844284296037,
          2.3757701560854914,
          2.868196702003479,
          3.2180213004350664,
          3.4105863124132156,
          3.760188329219818,
          3.9557575315237044,
          4.167673766613007,
          4.314770603179932,
          4.561387175321579,
          4.899482905864716,
          5.043447989225387,
          5.334168744087219,
          5.4857019782066345,
          5.610564196109772,
          5.763099730014801,
          5.867906939983368,
          6.040041506290436,
          6.1760223507881165,
          6.346775150299072,
          6.51866729259491,
          6.657303416728974,
          6.851936781406403,
          6.99843122959137,
          7.128444528579712,
          7.281655311584473,
          7.460054433345794,
          7.681130373477936,
          7.835151505470276,
          7.96886134147644,
          8.09249768257141,
          8.201230394840241,
          8.286240816116333,
          8.312800347805023,
          8.363736510276794,
          8.360326659679412,
          8.418101584911346,
          8.366701924800873,
          8.351047956943512,
          8.257947409152985,
          8.173847222328186,
          8.068184518814087,
          7.927779412269592,
          7.8279228687286375
         ],
         "yaxis": "y"
        },
        {
         "line": {
          "color": "#19D3F3"
         },
         "mode": "markers",
         "name": "SBES-ASCII",
         "type": "scatter",
         "x": [
          0.025544232164583857,
          0.025721008767439227,
          0.0258977855325842,
          0.026074562330325048,
          0.02625133896491398,
          0.026428115664694725,
          0.026590804445332634,
          0.0267287899665984,
          0.026805878798243157,
          0.02933372188171377,
          0.029231897727405434,
          0.029130074214667137,
          0.029028252049225996,
          0.028926427894917707,
          0.028824603754751495,
          0.028722782230880407,
          0.02862095807657208,
          0.02851913392226376,
          0.028417311386022708,
          0.028315488258226478,
          0.02821366410391813,
          0.02811184001411178,
          0.028010018439880845,
          0.027908194285572556,
          0.027806370131264226,
          0.027704548621535256,
          0.027602724467226926,
          0.027500900312918616,
          0.02739907651147383,
          0.027297254648881344,
          0.02720748185686614,
          0.027068215493397312,
          0.026945710417353975,
          0.026859393666300392,
          0.007159456172656776,
          0.007336232872851374,
          0.00751300958103113,
          0.0076897862571668725,
          0.007866562965329385,
          0.008043339657400912,
          0.008220116349506914,
          0.00839689305779016,
          0.008573669741859294,
          0.008750446433999807,
          0.008927223150250931,
          0.009103999818229073,
          0.009280776518423704,
          0.009457553218463123,
          0.009634329910793334,
          0.00981110661083276,
          0.009987883303145727,
          0.01016466001924164,
          0.010341436695498125,
          0.010518213395554784,
          0.010694990087833273,
          0.010871766787907168,
          0.011048543367721163,
          0.011225320268596187,
          0.011402096920707573,
          0.006982679480533486,
          0.006805902796395415,
          0.006629126112257261,
          0.006452349396006182,
          0.0062755727199221584,
          0.006098796011673445,
          0.005922019319550216,
          0.005745242635343111,
          0.005568465814750639,
          0.005391689070353259,
          0.005214912374159848,
          0.005038135682140096,
          0.0048613589778753385,
          0.004684582273714052,
          0.004507801913979152,
          0.004329752011403331,
          0.004206311860924561,
          0.004153872578805948,
          0.004122420412127324,
          0.004096291466419693,
          0.004074573491790207,
          0.0040565139287200205,
          0.004035238218890343,
          0.0040185809216407,
          0.004006315132596501,
          0.025367455432034773,
          0.025190678763470198,
          0.025013902096630302,
          0.024837125491532854,
          0.024660348726905305,
          0.024483571899155513,
          0.02430679519902987,
          0.024130018528568203,
          0.023953241895014066,
          0.023776465291296348,
          0.023599688652568226,
          0.023422911826715544,
          0.023246135061398127,
          0.023069358265381916,
          0.02289258159629995,
          0.022715804993617063,
          0.022539028454056365,
          0.022362251848614005,
          0.022185475054839827,
          0.02200869859392324,
          0.02183192192673841,
          0.02165514522540549,
          0.02147836850993044,
          0.021301591826188966,
          0.021124815188323206,
          0.02094803845715384,
          0.020771261741161392,
          0.020594485024479095,
          0.020417708372471206,
          0.020240931656651213,
          0.020064154957042963,
          0.01988737827140437,
          0.019710601603874597,
          0.01953382487236031,
          0.019357048186894182,
          0.019180271470901743,
          0.019003494786987808,
          0.011578873540602438,
          0.011755650288949307,
          0.011932427021205248,
          0.012109203657208375,
          0.012285980341380964,
          0.012462757089710636,
          0.01263953375777505,
          0.012816310457814435,
          0.01299308712601677,
          0.013169863890316727,
          0.013346640526388849,
          0.013523417242467485,
          0.013700193942679378,
          0.013876970610743805,
          0.014053747326994931,
          0.01423052402898318,
          0.014407300710655081,
          0.014584077427682331,
          0.014760854127980422,
          0.014937630811376971,
          0.015114407496153242,
          0.01529118416523518,
          0.015467960929345364,
          0.015644737579456156,
          0.01582151428044415,
          0.015998290965737794,
          0.016175067679488175,
          0.016351844349604922,
          0.01652862101765207,
          0.01670539774951129,
          0.016882174464986344,
          0.01705895114907275,
          0.01723572783557367,
          0.017412504549324043,
          0.017589281233927858,
          0.017766057918359186,
          0.017942834634006696,
          0.0181196112849798,
          0.01829638800304183,
          0.018473164719724128,
          0.01864994140312067,
          0.018826718103246327,
          0.02999299341948308,
          0.029980615989729825,
          0.029970134021963427,
          0.029957561083566373,
          0.02994247251380029,
          0.02992437308335991,
          0.029902659545308095,
          0.029876612800332627,
          0.02984537145095264,
          0.029810239416214815,
          0.029726147455922655,
          0.02960912545108218,
          0.029537151538771476,
          0.029435545059524844,
          0.02659632068968136,
          0.004197247054001896,
          0.0042745938302670376,
          0.00438376319033238,
          0.004515195445259067,
          0.004417587188540779,
          0.004326620294697583
         ],
         "xaxis": "x",
         "y": [
          7.464035470609758,
          7.475499451317072,
          7.510572636682928,
          7.493008811804877,
          7.467946250390243,
          7.469843451268292,
          7.49169389755,
          7.509652648707318,
          7.513510112073171,
          6.8810814298780505,
          6.938751359707319,
          7.0137092512195105,
          7.0481057179268305,
          7.0731037752439025,
          7.053236733682928,
          7.077735858682926,
          7.096373258243903,
          7.149996574243902,
          7.181617778512196,
          7.226418979073171,
          7.2331237806829245,
          7.273737673292683,
          7.270675224414632,
          7.31587989914634,
          7.332548478463416,
          7.361641723292682,
          7.3915850835853645,
          7.408125419341462,
          7.451399226707318,
          7.449890669780487,
          7.464463470756099,
          7.4195841352195115,
          7.454430863268295,
          7.480265423365853,
          1.3446511333878048,
          1.3650941738878049,
          1.4105076392170732,
          1.456928177114634,
          1.4922786399829269,
          1.4655175432073173,
          1.4749638734756094,
          1.4996402996902438,
          1.5250777072634145,
          1.5510641578682929,
          1.5810405087682924,
          1.5907408132682923,
          1.6033321691414633,
          1.5968799444658532,
          1.593909786085366,
          1.6228864937829268,
          1.6323651262414636,
          1.6383658564585366,
          1.6324875851073168,
          1.601577998453658,
          1.6453581619951219,
          1.7585925752609755,
          1.8513904390219516,
          1.930207731880488,
          2.0454323308756104,
          1.3421460372,
          1.359698773887805,
          1.3775069492756098,
          1.36187631097561,
          1.3602831521048782,
          1.375557654595122,
          1.4096023381000005,
          1.4180874685634142,
          1.4280992283146339,
          1.4540717236975607,
          1.4824032856682925,
          1.5405997697414633,
          1.5633025828902436,
          1.5534322603804878,
          1.5793840679714284,
          1.5079820372571424,
          1.4166877253612902,
          1.420292005712195,
          1.4281485948195116,
          1.428101933195122,
          1.427704306885366,
          1.426662977912195,
          1.430457808232927,
          1.4396894711463415,
          1.4534934373902435,
          7.49815381895122,
          7.488365503585363,
          7.492016027756098,
          7.460903652585366,
          7.444624149585366,
          7.406451569390244,
          7.356160265707316,
          7.3060306014390255,
          7.282419909243902,
          7.2420347408536605,
          7.1853391945853655,
          7.130252068195123,
          7.079176327560975,
          7.013302651731706,
          6.949728274390242,
          6.88331544292683,
          6.813164614756097,
          6.73564936609756,
          6.659102190878049,
          6.591930510902439,
          6.548099394341462,
          6.50706783395122,
          6.456093045536588,
          6.399588420000001,
          6.3360290865121955,
          6.278289031902439,
          6.216607195097562,
          6.15786050314634,
          6.11055287587805,
          6.0551937694390245,
          5.991698654682929,
          5.934929482487805,
          5.895679974,
          5.84877493095122,
          5.779067207317072,
          5.70814705082927,
          5.636357871780487,
          2.15496629892683,
          2.1887876839170737,
          2.2549564831780486,
          2.3932509479926827,
          2.5819944535439023,
          2.7530040890243903,
          2.90580790404878,
          3.0342559612926823,
          3.091292197707318,
          3.166314035170732,
          3.317338060048779,
          3.4423092672926825,
          3.5429570059512203,
          3.6394245254146327,
          3.7689322815365855,
          3.830104051243903,
          3.8597139289268276,
          3.929373999829268,
          3.984460481219512,
          4.056982544585367,
          4.1922316816829275,
          4.323036263317073,
          4.460075785536586,
          4.540083806487805,
          4.60761368787805,
          4.664870337097559,
          4.730116812902438,
          4.815162564634147,
          4.906697876951219,
          4.988050602365854,
          5.052669819560977,
          5.10831844787805,
          5.16594733804878,
          5.220702089536585,
          5.267154506048781,
          5.308363246731705,
          5.34487888104878,
          5.3859310002926835,
          5.429154612414633,
          5.473646590853661,
          5.527193439195122,
          5.581273170146343,
          0.6111111827365854,
          1.633338138878049,
          2.4631967579756093,
          3.3870289937073164,
          4.348142835780488,
          5.237850153243902,
          5.918045251219512,
          6.349117282073172,
          6.573913233804877,
          6.686314674731707,
          6.735406629756097,
          6.772519662853659,
          6.815023737512196,
          6.81415904087805,
          7.483640971285715,
          1.4016789931,
          1.4948798026999999,
          1.4833612133899998,
          1.38826533147,
          1.25395503437,
          1.24654197697
         ],
         "yaxis": "y"
        },
        {
         "line": {
          "color": "#AB63FA"
         },
         "mode": "markers",
         "name": "SBES Tecplot .h5",
         "showlegend": true,
         "type": "scatter",
         "x": [
          0.00848528137423857,
          0.008909545442950499,
          0.009333809511662426,
          0.009758073580374355,
          0.010182337649086284,
          0.010606601717798213,
          0.01103086578651014,
          0.011455129855222068,
          0.011879393923933997,
          0.012303657992645926,
          0.012727922061357857,
          0.013152186130069783,
          0.013576450198781712,
          0.014000714267493643,
          0.01442497833620557,
          0.0148492424049175,
          0.015273506473629427,
          0.015697770542341356,
          0.016122034611053285,
          0.01654629867976521,
          0.01697056274847714,
          0.01739482681718907,
          0.017819090885900998,
          0.018243354954612927,
          0.018667619023324852,
          0.01909188309203678,
          0.01951614716074871,
          0.01994041122946064,
          0.02036467529817257,
          0.020788939366884498,
          0.021213203435596427,
          0.021637467504308353,
          0.02206173157302028,
          0.02248599564173221,
          0.022910259710444136,
          0.02333452377915607,
          0.023758787847867995,
          0.024183051916579927,
          0.024607315985291853,
          0.025031580054003785,
          0.025455844122715714,
          0.02588010819142764,
          0.026304372260139566,
          0.026728636328851498,
          0.027152900397563424,
          0.027577164466275353,
          0.028001428534987285,
          0.02842569260369921,
          0.02884995667241114,
          0.02927422074112307,
          0.029698484809835
         ],
         "xaxis": "x",
         "y": [
          1.366235279416017,
          1.4110872449625569,
          1.3629362411510735,
          1.3289289028444684,
          1.37184270604303,
          1.2400660422680618,
          1.4586426516465512,
          1.699448737299961,
          1.871559140463105,
          2.6054912299492923,
          2.88580995207164,
          3.3127307702326387,
          3.445389086786207,
          3.55335439204505,
          3.7352925577275475,
          4.03316085408134,
          4.3332413808391514,
          4.535220965441499,
          4.590454042394409,
          4.798834948494654,
          5.076211359354364,
          5.245205500936812,
          5.365298737283836,
          5.416399710057232,
          5.503739623200716,
          5.615552400508773,
          5.787204350646547,
          5.905161865666982,
          6.053960514365488,
          6.1951616254058655,
          6.372021546975576,
          6.467366816985691,
          6.5858193023898774,
          6.82141371792025,
          7.041687992582024,
          7.131232957869755,
          7.217123746521222,
          7.232815267197294,
          7.336038290448196,
          7.411976654656662,
          7.468036520740245,
          7.55123986119691,
          7.4607654408026045,
          7.503358803170355,
          7.428152759262763,
          7.462955543781764,
          7.355487877629337,
          7.207634111432169,
          6.858762927507449,
          6.722621393058868,
          6.676421568531013
         ],
         "yaxis": "y"
        },
        {
         "line": {
          "color": "#EF553B"
         },
         "mode": "markers+lines",
         "name": "Experimental",
         "type": "scatter",
         "x": [
          0.008485280999999999,
          0.008909545,
          0.00933381,
          0.009758074,
          0.010182338,
          0.010606602,
          0.011030866,
          0.01145513,
          0.011879394,
          0.012303658,
          0.012727922,
          0.013152186000000001,
          0.01357645,
          0.014000714,
          0.014424978,
          0.014849242,
          0.015273506000000001,
          0.015697771,
          0.016122035,
          0.016546299,
          0.016970563,
          0.017394826999999998,
          0.017819091000000002,
          0.018243355,
          0.018667619,
          0.019091883,
          0.019516147,
          0.019940411,
          0.020364675,
          0.020788939,
          0.021213202999999996,
          0.021637467999999997,
          0.022061732,
          0.022485996,
          0.02291026,
          0.023334524,
          0.023758788,
          0.024183052000000003,
          0.024607316,
          0.02503158,
          0.025455844,
          0.025880108,
          0.026304372000000003,
          0.026728636,
          0.0271529,
          0.027577163999999998,
          0.028001428999999998,
          0.028425693,
          0.028849957000000002,
          0.029274221,
          0.029698485
         ],
         "xaxis": "x",
         "y": [
          1.4290862030000002,
          1.304956016,
          1.3677885269999999,
          1.365288274,
          1.3631626680000002,
          1.395536198,
          1.503998937,
          1.7666735740000001,
          2.131084059,
          2.564652634,
          2.9573649,
          3.3135953910000002,
          3.610486085,
          3.8213131160000002,
          3.910514019,
          3.976263163,
          4.05031181,
          4.175811106,
          4.3381123939999995,
          4.565736372,
          4.794594996,
          4.987590166,
          5.179486734,
          5.34828983,
          5.556650452,
          5.721097751,
          5.866459835,
          5.9713360710000005,
          6.013008043999999,
          6.125078276,
          6.274260795,
          6.40723831,
          6.39907134,
          6.551348589,
          6.702272034,
          6.849695643,
          7.020861637,
          7.16965677,
          7.317306884,
          7.444685165,
          7.514078225,
          7.479776027000001,
          7.249534935,
          6.987652804,
          6.696612743999999,
          6.4708195470000005,
          6.36717822,
          6.338974905,
          6.350509296,
          6.098506782,
          4.525339649
         ],
         "yaxis": "y"
        },
        {
         "line": {
          "color": "#636EFA"
         },
         "mode": "markers",
         "name": "SBES-Tecplot",
         "showlegend": false,
         "type": "scatter",
         "x": [
          0.010606601717798213,
          0.01103086578651014,
          0.011455129855222068,
          0.011879393923933997,
          0.012303657992645926,
          0.012727922061357857,
          0.013152186130069783,
          0.013576450198781712,
          0.014000714267493643,
          0.01442497833620557,
          0.0148492424049175,
          0.015273506473629427,
          0.015697770542341356,
          0.016122034611053285,
          0.01654629867976521,
          0.01697056274847714,
          0.01739482681718907,
          0.017819090885900998,
          0.018243354954612927,
          0.018667619023324852,
          0.01909188309203678,
          0.01951614716074871,
          0.01994041122946064,
          0.02036467529817257,
          0.020788939366884498,
          0.021213203435596427,
          0.021637467504308353,
          0.02206173157302028,
          0.02248599564173221,
          0.022910259710444136,
          0.02333452377915607,
          0.023758787847867995,
          0.024183051916579927,
          0.024607315985291853,
          0.025031580054003785,
          0.025455844122715714,
          0.02588010819142764,
          0.026304372260139566,
          0.026728636328851498,
          0.027152900397563424,
          0.027577164466275353,
          0.028001428534987285,
          0.02842569260369921,
          0.02884995667241114,
          0.02927422074112307,
          0.029698484809835,
          0.030122748878546924
         ],
         "xaxis": "x2",
         "y": [
          3.2068427443504333,
          3.3757221400737762,
          3.7228034853935243,
          3.933299922943115,
          4.229683178663254,
          4.438207513093948,
          4.601971167325973,
          4.835929429531097,
          4.988474261760712,
          5.230018162727356,
          5.402490961551666,
          5.544271063804627,
          5.806799912452698,
          6.006355881690979,
          6.272414553165436,
          6.433036673069,
          6.603079628944397,
          6.813033604621888,
          6.973614490032196,
          7.194289112091065,
          7.379196774959564,
          7.54465012550354,
          7.890979599952698,
          8.050253856182099,
          8.153876197338104,
          8.25846037864685,
          8.373264920711517,
          8.386705505847932,
          8.384364795684814,
          8.452202701568604,
          8.52470350265503,
          8.528310906887054,
          8.592025911808014,
          8.491780304908753,
          8.418583750724792,
          8.319091057777404,
          8.316397511959076,
          7.933802092075348,
          7.6065658807754515,
          7.15900696516037,
          6.868873274326324,
          6.840863347053528,
          6.837105071544647,
          6.994695854187012,
          7.072756683826446,
          6.927078282833099,
          1.175
         ],
         "yaxis": "y2"
        },
        {
         "line": {
          "color": "#19D3F3"
         },
         "mode": "markers",
         "name": "SBES-ASCII",
         "showlegend": false,
         "type": "scatter",
         "x": [
          0.0040063162649331555,
          0.0040185816122943144,
          0.004035238361475839,
          0.0040565132862531465,
          0.004074572190748222,
          0.004096289350256055,
          0.004122417263949961,
          0.00415386815373171,
          0.004197246955148369,
          0.004274593846671915,
          0.004383763256234732,
          0.004515195453496856,
          0.004684582358032298,
          0.004861359054173952,
          0.0050381357463834065,
          0.005214912446440027,
          0.005391689142616193,
          0.025544232228913357,
          0.025367455528442766,
          0.025190678859878204,
          0.025013902193038298,
          0.02483712555568991,
          0.024660348791234795,
          0.02448357199556351,
          0.02430679526335936,
          0.02413001862497619,
          0.02395324195934355,
          0.02377646535562584,
          0.02359968868464676,
          0.00556846588703081,
          0.005745242707640525,
          0.0059220193998500165,
          0.0060987960839363675,
          0.006275572800221956,
          0.006452349484325601,
          0.006629126184537434,
          0.00680590286865834,
          0.006982679552813659,
          0.007159456244936937,
          0.007336232945114287,
          0.007513009645274426,
          0.00768978632946428,
          0.00786656304562917,
          0.00804333973768345,
          0.008220116413750193,
          0.008396893114013811,
          0.008573669814122204,
          0.008750446522336459,
          0.008927223198454959,
          0.00910399989050923,
          0.009280776614814478,
          0.009457553282706407,
          0.009634329991110357,
          0.009811106683095658,
          0.009987883383462754,
          0.01016466006744567,
          0.010341436767778284,
          0.014053747407311946,
          0.013876970723156567,
          0.013700193974775163,
          0.013523417338823757,
          0.013346640606705876,
          0.013169863954577253,
          0.01299308719026006,
          0.012816310522057716,
          0.012639533854148568,
          0.012462757153971164,
          0.012285980405641477,
          0.012109203753581889,
          0.011932427117578765,
          0.011755650337153332,
          0.011578873636975963,
          0.011402097001007352,
          0.01122532033283946,
          0.011048543431964444,
          0.010871766836111192,
          0.010694990160113427,
          0.01051821347585456,
          0.018119611381387804,
          0.01794283468212448,
          0.017766057998727946,
          0.0175892813301634,
          0.0174125046296928,
          0.01723572789990317,
          0.017058951213229794,
          0.016882174529315848,
          0.016705397813840797,
          0.01652862111406008,
          0.01635184444601293,
          0.01617506774381769,
          0.01599829104593408,
          0.015821514344601186,
          0.01564473767586416,
          0.015467960961423902,
          0.015291184213352974,
          0.015114407560482749,
          0.014937630891745726,
          0.01476085420817671,
          0.01458407745976086,
          0.014407300791023842,
          0.01423052406106172,
          0.023422911955202057,
          0.023246135189712164,
          0.02306935839386842,
          0.022892581692707952,
          0.022715805057774072,
          0.0225390284861349,
          0.022362251880692546,
          0.022185475119169323,
          0.022008698690331237,
          0.021831922007107166,
          0.02165514530577424,
          0.021478368590299186,
          0.021301591858267497,
          0.021124815236440997,
          0.020948038537522588,
          0.020771261789279183,
          0.02059448510467538,
          0.020417708436800703,
          0.020240931752886753,
          0.020064155037411702,
          0.019887378335906338,
          0.0197106016682041,
          0.01953382496859585,
          0.01935704823501197,
          0.01918027153505879,
          0.019003494883395807,
          0.01882671816757583,
          0.01864994146745017,
          0.018473164832171384,
          0.018296388083238118,
          0.02680606608185536,
          0.026728740430491546,
          0.026596132596752187,
          0.026428115696945725,
          0.026251339029071015,
          0.0260745624265606,
          0.025897785661243164,
          0.025721008863847223,
          0.029992959174301694,
          0.029980528491646872,
          0.029969999671674994,
          0.029957368792948278,
          0.029942214363256614,
          0.02992403346859618,
          0.02990222491505399,
          0.029876062118678763,
          0.02984467865601271,
          0.029792550913809272,
          0.02973804976769476,
          0.029709742883172442,
          0.029629969443713454,
          0.02955019072923793,
          0.02944812454366112,
          0.029346302326480445,
          0.029244478557114185,
          0.029142655301003916,
          0.029040831538536222,
          0.028939008738768552,
          0.028837184776931254,
          0.028735362803961106,
          0.02863353853341134,
          0.02853171483027162,
          0.028429892215731452,
          0.028328068831307188,
          0.02822624456075742,
          0.028124421050088715,
          0.028022598243077512,
          0.02792077511528126,
          0.02781895097511509,
          0.02771712739821982,
          0.02761530478367964,
          0.02751348140063509,
          0.02741165724632677,
          0.027309835221962064,
          0.02720801132428176,
          0.027105896770186568,
          0.027042867060864208,
          0.02692680800714573,
          0.026844913590203794,
          0.004417587254443131,
          0.004326620294697583,
          0.0042063634610610915,
          0.02659078295834419,
          0.004329833239789786,
          0.004507802062943135
         ],
         "xaxis": "x2",
         "y": [
          1.4635560642804877,
          1.4689400702195121,
          1.4858983468292686,
          1.5066556346756097,
          1.5153943927000002,
          1.5140404241463419,
          1.5002980564560982,
          1.4750145941268291,
          1.4828923437000001,
          1.4486643370000003,
          1.37709317713,
          1.37821169412,
          1.4397311607365855,
          1.4688764603804878,
          1.5077459856634148,
          1.5028744736609756,
          1.4884323463146336,
          7.623605867658538,
          7.641166086121952,
          7.708428176439026,
          7.744324689585365,
          7.759455811000002,
          7.80772418512195,
          7.864764694585369,
          7.933032996878048,
          7.986941312292683,
          7.971871759243901,
          7.913984830317074,
          7.91380255695122,
          1.4576781428414634,
          1.3372286194951222,
          1.2458654439756098,
          1.2222686529414633,
          1.2332297044048781,
          1.2642715509951221,
          1.335948496163415,
          1.3808942408439024,
          1.41069339587561,
          1.4232077889585368,
          1.4507828281341464,
          1.4796783546512193,
          1.475372578317073,
          1.4695539872439023,
          1.454362231302439,
          1.4832945447756098,
          1.5838948319048778,
          1.7196289032146341,
          1.8428639905439024,
          2.0085772752682924,
          2.1788536681707322,
          2.3617602506829263,
          2.50323151604878,
          2.59702532395122,
          2.7787177837560972,
          3.003334895170732,
          3.121297600487805,
          3.1865834370975605,
          4.926249410560976,
          4.852995161682927,
          4.782781970048779,
          4.730810348341462,
          4.644286501243904,
          4.571204041756098,
          4.4903227409512185,
          4.435330443804877,
          4.37287855809756,
          4.263697425829268,
          4.193437525073172,
          4.1533479475609765,
          4.020561133878049,
          3.8731219392682927,
          3.8055228018292686,
          3.685344971243902,
          3.5152777391463426,
          3.4732066094634138,
          3.406968473585366,
          3.3235201940243897,
          3.268693342414634,
          6.646221937585366,
          6.572310389609756,
          6.502093975707317,
          6.439738255390244,
          6.380218220000001,
          6.3127694492195126,
          6.2322361309756085,
          6.156370562707315,
          6.081334455219513,
          6.0055285067804896,
          5.931919219024391,
          5.841590450487806,
          5.7444518101219515,
          5.654813440487805,
          5.5773869555121935,
          5.513518722804879,
          5.4297137108292715,
          5.3443077802682915,
          5.287831242878048,
          5.227341701560975,
          5.151448232097561,
          5.06387126304878,
          4.987481937804878,
          7.942919614487807,
          7.911640258756098,
          7.8584777582195136,
          7.8987226257073155,
          7.9175771372926835,
          7.869618741634146,
          7.846673606585366,
          7.837683246121952,
          7.870174199121953,
          7.888282657146343,
          7.882569824609756,
          7.887469159170732,
          7.844081001585363,
          7.740382234731708,
          7.703518582341464,
          7.694468963170735,
          7.681855079731707,
          7.65825748902439,
          7.617738555536586,
          7.567982814414635,
          7.466705746341465,
          7.341224271317071,
          7.232012085390243,
          7.158875473073171,
          7.085172102414635,
          7.011717978878049,
          6.928741412731709,
          6.834559670878049,
          6.756984894512194,
          6.70853283339024,
          6.7749808155609745,
          6.873762558731708,
          6.916061525650001,
          7.055025149292683,
          7.250426476,
          7.457534747585367,
          7.599337456024392,
          7.600884760902439,
          0.3791103996387804,
          1.018793427190244,
          1.5467563818878052,
          2.1485880146097562,
          2.7995546681463415,
          3.459866208146341,
          4.089306705682926,
          4.647790846585365,
          5.11908609685366,
          5.60457084497561,
          5.881384278317073,
          5.945874964999998,
          6.034093441317073,
          6.129683613682928,
          6.126234852024391,
          6.13075046773171,
          6.092395829487804,
          6.088114508463414,
          6.060501828024389,
          6.052215664512194,
          6.041883678707318,
          6.015228111926829,
          6.00611709309756,
          5.950079944024389,
          5.938540061146343,
          5.914125568926829,
          5.9252391747804865,
          5.931999248658538,
          5.949040626,
          5.951970125975608,
          5.9514664897317076,
          5.957992345365855,
          5.9809571629268286,
          6.025576793439025,
          6.07606073202439,
          6.14669466107317,
          6.2216883767317075,
          6.307435273560977,
          6.4325123463902445,
          6.578398445560975,
          6.749013670634148,
          1.3721919305,
          1.3780497185,
          1.4171803575483872,
          6.969971477761905,
          1.3992977157333333,
          1.4213116486619048
         ],
         "yaxis": "y2"
        },
        {
         "line": {
          "color": "#AB63FA"
         },
         "mode": "markers",
         "name": "SBES Tecplot .h5",
         "showlegend": false,
         "type": "scatter",
         "x": [
          0.010606601717798213,
          0.01103086578651014,
          0.011455129855222068,
          0.011879393923933997,
          0.012303657992645926,
          0.012727922061357857,
          0.013152186130069783,
          0.013576450198781712,
          0.014000714267493643,
          0.01442497833620557,
          0.0148492424049175,
          0.015273506473629427,
          0.015697770542341356,
          0.016122034611053285,
          0.01654629867976521,
          0.01697056274847714,
          0.01739482681718907,
          0.017819090885900998,
          0.018243354954612927,
          0.018667619023324852,
          0.01909188309203678,
          0.01951614716074871,
          0.01994041122946064,
          0.02036467529817257,
          0.020788939366884498,
          0.021213203435596427,
          0.021637467504308353,
          0.02206173157302028,
          0.02248599564173221,
          0.022910259710444136,
          0.02333452377915607,
          0.023758787847867995,
          0.024183051916579927,
          0.024607315985291853,
          0.025031580054003785,
          0.025455844122715714,
          0.02588010819142764,
          0.026304372260139566,
          0.026728636328851498,
          0.027152900397563424,
          0.027577164466275353,
          0.028001428534987285,
          0.02842569260369921,
          0.02884995667241114,
          0.02927422074112307,
          0.029698484809835,
          0.030122748878546924
         ],
         "xaxis": "x2",
         "y": [
          3.0932622221259765,
          3.5151051579956576,
          3.6199105852287516,
          3.865498786136792,
          4.156510105352711,
          4.322796037636139,
          4.463421060495931,
          4.560965948944223,
          4.767111055232004,
          5.06711643246285,
          5.288147749934047,
          5.459273398554794,
          5.6143846715088594,
          5.784118779142667,
          5.96109739543841,
          6.149247846584185,
          6.326837345002918,
          6.474791393468785,
          6.6564338999346395,
          6.884620220793995,
          7.092169086772736,
          7.2458992534011255,
          7.48093925105592,
          7.62926785793188,
          7.665829826694034,
          7.809373247573916,
          8.046804943368452,
          7.96724053786007,
          7.73065946968486,
          7.726537669787568,
          7.728295554261829,
          7.87301465828842,
          7.972493713223565,
          7.810389605950065,
          7.7287103195555495,
          7.679567973286533,
          7.44414017997287,
          7.045652913499989,
          6.891459417245672,
          6.597153033949259,
          6.312976099947859,
          5.955881459575784,
          6.04221023966238,
          6.113143828539375,
          6.024376268164909,
          6.000444623775431,
          0.1836931847598532
         ],
         "yaxis": "y2"
        },
        {
         "line": {
          "color": "#EF553B"
         },
         "mode": "markers+lines",
         "name": "Experimental",
         "showlegend": false,
         "type": "scatter",
         "x": [
          0.010606602,
          0.011030866,
          0.01145513,
          0.011879394,
          0.012303658,
          0.012727922,
          0.013152186000000001,
          0.01357645,
          0.014000714,
          0.014424978,
          0.014849242,
          0.015273506000000001,
          0.015697771,
          0.016122035,
          0.016546299,
          0.016970563,
          0.017394826999999998,
          0.017819091000000002,
          0.018243355,
          0.018667619,
          0.019091883,
          0.019516147,
          0.019940411,
          0.020364675,
          0.020788939,
          0.021213202999999996,
          0.021637467999999997,
          0.022061732,
          0.022485996,
          0.02291026,
          0.023334524,
          0.023758788,
          0.024183052000000003,
          0.024607316,
          0.02503158,
          0.025455844,
          0.025880108,
          0.026304372000000003,
          0.026728636,
          0.0271529,
          0.027577163999999998,
          0.028001428999999998,
          0.028425693,
          0.028849957000000002,
          0.029274221,
          0.029698485,
          0.030122749
         ],
         "xaxis": "x2",
         "y": [
          2.388529604,
          2.782821263,
          3.0487308810000004,
          3.300982443,
          3.5220561000000004,
          3.751692116,
          4.034038335,
          4.36277436,
          4.670491803,
          4.891481048999999,
          5.127681626,
          5.296215065,
          5.445017601,
          5.571099212999999,
          5.685633719,
          5.820896966,
          5.940701689,
          6.059609815,
          6.165522533,
          6.272161983999999,
          6.398504795,
          6.5297465820000005,
          6.663091559,
          6.803802676,
          6.942890342,
          7.090152623,
          7.240952375,
          7.397010836000001,
          7.539178199,
          7.633240036,
          7.715486218,
          7.76341337,
          7.76445379,
          7.714246068,
          7.5441227070000005,
          7.320170107,
          7.049112857999999,
          6.7161550320000005,
          6.353321145,
          6.218657845,
          6.1793274910000004,
          6.242483332999999,
          6.310694927,
          6.34820787,
          6.432506486,
          5.761625565,
          0.0
         ],
         "yaxis": "y2"
        }
       ],
       "layout": {
        "annotations": [
         {
          "font": {
           "size": 16
          },
          "showarrow": false,
          "text": "Quadrant 1",
          "x": 0.225,
          "xanchor": "center",
          "xref": "paper",
          "y": 1.0,
          "yanchor": "bottom",
          "yref": "paper"
         },
         {
          "font": {
           "size": 16
          },
          "showarrow": false,
          "text": "Quadrant 2",
          "x": 0.775,
          "xanchor": "center",
          "xref": "paper",
          "y": 1.0,
          "yanchor": "bottom",
          "yref": "paper"
         },
         {
          "font": {
           "size": 16
          },
          "showarrow": false,
          "text": "Radius (m)",
          "x": 0.5,
          "xanchor": "center",
          "xref": "paper",
          "y": 0,
          "yanchor": "top",
          "yref": "paper",
          "yshift": -30
         },
         {
          "font": {
           "size": 16
          },
          "showarrow": false,
          "text": "Velocity Magnitude (m/s)",
          "textangle": -90,
          "x": 0,
          "xanchor": "right",
          "xref": "paper",
          "xshift": -40,
          "y": 0.5,
          "yanchor": "middle",
          "yref": "paper"
         }
        ],
        "height": 400,
        "template": {
         "data": {
          "bar": [
           {
            "error_x": {
             "color": "#2a3f5f"
            },
            "error_y": {
             "color": "#2a3f5f"
            },
            "marker": {
             "line": {
              "color": "#E5ECF6",
              "width": 0.5
             }
            },
            "type": "bar"
           }
          ],
          "barpolar": [
           {
            "marker": {
             "line": {
              "color": "#E5ECF6",
              "width": 0.5
             }
            },
            "type": "barpolar"
           }
          ],
          "carpet": [
           {
            "aaxis": {
             "endlinecolor": "#2a3f5f",
             "gridcolor": "white",
             "linecolor": "white",
             "minorgridcolor": "white",
             "startlinecolor": "#2a3f5f"
            },
            "baxis": {
             "endlinecolor": "#2a3f5f",
             "gridcolor": "white",
             "linecolor": "white",
             "minorgridcolor": "white",
             "startlinecolor": "#2a3f5f"
            },
            "type": "carpet"
           }
          ],
          "choropleth": [
           {
            "colorbar": {
             "outlinewidth": 0,
             "ticks": ""
            },
            "type": "choropleth"
           }
          ],
          "contour": [
           {
            "colorbar": {
             "outlinewidth": 0,
             "ticks": ""
            },
            "colorscale": [
             [
              0.0,
              "#0d0887"
             ],
             [
              0.1111111111111111,
              "#46039f"
             ],
             [
              0.2222222222222222,
              "#7201a8"
             ],
             [
              0.3333333333333333,
              "#9c179e"
             ],
             [
              0.4444444444444444,
              "#bd3786"
             ],
             [
              0.5555555555555556,
              "#d8576b"
             ],
             [
              0.6666666666666666,
              "#ed7953"
             ],
             [
              0.7777777777777778,
              "#fb9f3a"
             ],
             [
              0.8888888888888888,
              "#fdca26"
             ],
             [
              1.0,
              "#f0f921"
             ]
            ],
            "type": "contour"
           }
          ],
          "contourcarpet": [
           {
            "colorbar": {
             "outlinewidth": 0,
             "ticks": ""
            },
            "type": "contourcarpet"
           }
          ],
          "heatmap": [
           {
            "colorbar": {
             "outlinewidth": 0,
             "ticks": ""
            },
            "colorscale": [
             [
              0.0,
              "#0d0887"
             ],
             [
              0.1111111111111111,
              "#46039f"
             ],
             [
              0.2222222222222222,
              "#7201a8"
             ],
             [
              0.3333333333333333,
              "#9c179e"
             ],
             [
              0.4444444444444444,
              "#bd3786"
             ],
             [
              0.5555555555555556,
              "#d8576b"
             ],
             [
              0.6666666666666666,
              "#ed7953"
             ],
             [
              0.7777777777777778,
              "#fb9f3a"
             ],
             [
              0.8888888888888888,
              "#fdca26"
             ],
             [
              1.0,
              "#f0f921"
             ]
            ],
            "type": "heatmap"
           }
          ],
          "heatmapgl": [
           {
            "colorbar": {
             "outlinewidth": 0,
             "ticks": ""
            },
            "colorscale": [
             [
              0.0,
              "#0d0887"
             ],
             [
              0.1111111111111111,
              "#46039f"
             ],
             [
              0.2222222222222222,
              "#7201a8"
             ],
             [
              0.3333333333333333,
              "#9c179e"
             ],
             [
              0.4444444444444444,
              "#bd3786"
             ],
             [
              0.5555555555555556,
              "#d8576b"
             ],
             [
              0.6666666666666666,
              "#ed7953"
             ],
             [
              0.7777777777777778,
              "#fb9f3a"
             ],
             [
              0.8888888888888888,
              "#fdca26"
             ],
             [
              1.0,
              "#f0f921"
             ]
            ],
            "type": "heatmapgl"
           }
          ],
          "histogram": [
           {
            "marker": {
             "colorbar": {
              "outlinewidth": 0,
              "ticks": ""
             }
            },
            "type": "histogram"
           }
          ],
          "histogram2d": [
           {
            "colorbar": {
             "outlinewidth": 0,
             "ticks": ""
            },
            "colorscale": [
             [
              0.0,
              "#0d0887"
             ],
             [
              0.1111111111111111,
              "#46039f"
             ],
             [
              0.2222222222222222,
              "#7201a8"
             ],
             [
              0.3333333333333333,
              "#9c179e"
             ],
             [
              0.4444444444444444,
              "#bd3786"
             ],
             [
              0.5555555555555556,
              "#d8576b"
             ],
             [
              0.6666666666666666,
              "#ed7953"
             ],
             [
              0.7777777777777778,
              "#fb9f3a"
             ],
             [
              0.8888888888888888,
              "#fdca26"
             ],
             [
              1.0,
              "#f0f921"
             ]
            ],
            "type": "histogram2d"
           }
          ],
          "histogram2dcontour": [
           {
            "colorbar": {
             "outlinewidth": 0,
             "ticks": ""
            },
            "colorscale": [
             [
              0.0,
              "#0d0887"
             ],
             [
              0.1111111111111111,
              "#46039f"
             ],
             [
              0.2222222222222222,
              "#7201a8"
             ],
             [
              0.3333333333333333,
              "#9c179e"
             ],
             [
              0.4444444444444444,
              "#bd3786"
             ],
             [
              0.5555555555555556,
              "#d8576b"
             ],
             [
              0.6666666666666666,
              "#ed7953"
             ],
             [
              0.7777777777777778,
              "#fb9f3a"
             ],
             [
              0.8888888888888888,
              "#fdca26"
             ],
             [
              1.0,
              "#f0f921"
             ]
            ],
            "type": "histogram2dcontour"
           }
          ],
          "mesh3d": [
           {
            "colorbar": {
             "outlinewidth": 0,
             "ticks": ""
            },
            "type": "mesh3d"
           }
          ],
          "parcoords": [
           {
            "line": {
             "colorbar": {
              "outlinewidth": 0,
              "ticks": ""
             }
            },
            "type": "parcoords"
           }
          ],
          "pie": [
           {
            "automargin": true,
            "type": "pie"
           }
          ],
          "scatter": [
           {
            "marker": {
             "colorbar": {
              "outlinewidth": 0,
              "ticks": ""
             }
            },
            "type": "scatter"
           }
          ],
          "scatter3d": [
           {
            "line": {
             "colorbar": {
              "outlinewidth": 0,
              "ticks": ""
             }
            },
            "marker": {
             "colorbar": {
              "outlinewidth": 0,
              "ticks": ""
             }
            },
            "type": "scatter3d"
           }
          ],
          "scattercarpet": [
           {
            "marker": {
             "colorbar": {
              "outlinewidth": 0,
              "ticks": ""
             }
            },
            "type": "scattercarpet"
           }
          ],
          "scattergeo": [
           {
            "marker": {
             "colorbar": {
              "outlinewidth": 0,
              "ticks": ""
             }
            },
            "type": "scattergeo"
           }
          ],
          "scattergl": [
           {
            "marker": {
             "colorbar": {
              "outlinewidth": 0,
              "ticks": ""
             }
            },
            "type": "scattergl"
           }
          ],
          "scattermapbox": [
           {
            "marker": {
             "colorbar": {
              "outlinewidth": 0,
              "ticks": ""
             }
            },
            "type": "scattermapbox"
           }
          ],
          "scatterpolar": [
           {
            "marker": {
             "colorbar": {
              "outlinewidth": 0,
              "ticks": ""
             }
            },
            "type": "scatterpolar"
           }
          ],
          "scatterpolargl": [
           {
            "marker": {
             "colorbar": {
              "outlinewidth": 0,
              "ticks": ""
             }
            },
            "type": "scatterpolargl"
           }
          ],
          "scatterternary": [
           {
            "marker": {
             "colorbar": {
              "outlinewidth": 0,
              "ticks": ""
             }
            },
            "type": "scatterternary"
           }
          ],
          "surface": [
           {
            "colorbar": {
             "outlinewidth": 0,
             "ticks": ""
            },
            "colorscale": [
             [
              0.0,
              "#0d0887"
             ],
             [
              0.1111111111111111,
              "#46039f"
             ],
             [
              0.2222222222222222,
              "#7201a8"
             ],
             [
              0.3333333333333333,
              "#9c179e"
             ],
             [
              0.4444444444444444,
              "#bd3786"
             ],
             [
              0.5555555555555556,
              "#d8576b"
             ],
             [
              0.6666666666666666,
              "#ed7953"
             ],
             [
              0.7777777777777778,
              "#fb9f3a"
             ],
             [
              0.8888888888888888,
              "#fdca26"
             ],
             [
              1.0,
              "#f0f921"
             ]
            ],
            "type": "surface"
           }
          ],
          "table": [
           {
            "cells": {
             "fill": {
              "color": "#EBF0F8"
             },
             "line": {
              "color": "white"
             }
            },
            "header": {
             "fill": {
              "color": "#C8D4E3"
             },
             "line": {
              "color": "white"
             }
            },
            "type": "table"
           }
          ]
         },
         "layout": {
          "annotationdefaults": {
           "arrowcolor": "#2a3f5f",
           "arrowhead": 0,
           "arrowwidth": 1
          },
          "coloraxis": {
           "colorbar": {
            "outlinewidth": 0,
            "ticks": ""
           }
          },
          "colorscale": {
           "diverging": [
            [
             0,
             "#8e0152"
            ],
            [
             0.1,
             "#c51b7d"
            ],
            [
             0.2,
             "#de77ae"
            ],
            [
             0.3,
             "#f1b6da"
            ],
            [
             0.4,
             "#fde0ef"
            ],
            [
             0.5,
             "#f7f7f7"
            ],
            [
             0.6,
             "#e6f5d0"
            ],
            [
             0.7,
             "#b8e186"
            ],
            [
             0.8,
             "#7fbc41"
            ],
            [
             0.9,
             "#4d9221"
            ],
            [
             1,
             "#276419"
            ]
           ],
           "sequential": [
            [
             0.0,
             "#0d0887"
            ],
            [
             0.1111111111111111,
             "#46039f"
            ],
            [
             0.2222222222222222,
             "#7201a8"
            ],
            [
             0.3333333333333333,
             "#9c179e"
            ],
            [
             0.4444444444444444,
             "#bd3786"
            ],
            [
             0.5555555555555556,
             "#d8576b"
            ],
            [
             0.6666666666666666,
             "#ed7953"
            ],
            [
             0.7777777777777778,
             "#fb9f3a"
            ],
            [
             0.8888888888888888,
             "#fdca26"
            ],
            [
             1.0,
             "#f0f921"
            ]
           ],
           "sequentialminus": [
            [
             0.0,
             "#0d0887"
            ],
            [
             0.1111111111111111,
             "#46039f"
            ],
            [
             0.2222222222222222,
             "#7201a8"
            ],
            [
             0.3333333333333333,
             "#9c179e"
            ],
            [
             0.4444444444444444,
             "#bd3786"
            ],
            [
             0.5555555555555556,
             "#d8576b"
            ],
            [
             0.6666666666666666,
             "#ed7953"
            ],
            [
             0.7777777777777778,
             "#fb9f3a"
            ],
            [
             0.8888888888888888,
             "#fdca26"
            ],
            [
             1.0,
             "#f0f921"
            ]
           ]
          },
          "colorway": [
           "#636efa",
           "#EF553B",
           "#00cc96",
           "#ab63fa",
           "#FFA15A",
           "#19d3f3",
           "#FF6692",
           "#B6E880",
           "#FF97FF",
           "#FECB52"
          ],
          "font": {
           "color": "#2a3f5f"
          },
          "geo": {
           "bgcolor": "white",
           "lakecolor": "white",
           "landcolor": "#E5ECF6",
           "showlakes": true,
           "showland": true,
           "subunitcolor": "white"
          },
          "hoverlabel": {
           "align": "left"
          },
          "hovermode": "closest",
          "mapbox": {
           "style": "light"
          },
          "paper_bgcolor": "white",
          "plot_bgcolor": "#E5ECF6",
          "polar": {
           "angularaxis": {
            "gridcolor": "white",
            "linecolor": "white",
            "ticks": ""
           },
           "bgcolor": "#E5ECF6",
           "radialaxis": {
            "gridcolor": "white",
            "linecolor": "white",
            "ticks": ""
           }
          },
          "scene": {
           "xaxis": {
            "backgroundcolor": "#E5ECF6",
            "gridcolor": "white",
            "gridwidth": 2,
            "linecolor": "white",
            "showbackground": true,
            "ticks": "",
            "zerolinecolor": "white"
           },
           "yaxis": {
            "backgroundcolor": "#E5ECF6",
            "gridcolor": "white",
            "gridwidth": 2,
            "linecolor": "white",
            "showbackground": true,
            "ticks": "",
            "zerolinecolor": "white"
           },
           "zaxis": {
            "backgroundcolor": "#E5ECF6",
            "gridcolor": "white",
            "gridwidth": 2,
            "linecolor": "white",
            "showbackground": true,
            "ticks": "",
            "zerolinecolor": "white"
           }
          },
          "shapedefaults": {
           "line": {
            "color": "#2a3f5f"
           }
          },
          "ternary": {
           "aaxis": {
            "gridcolor": "white",
            "linecolor": "white",
            "ticks": ""
           },
           "baxis": {
            "gridcolor": "white",
            "linecolor": "white",
            "ticks": ""
           },
           "bgcolor": "#E5ECF6",
           "caxis": {
            "gridcolor": "white",
            "linecolor": "white",
            "ticks": ""
           }
          },
          "title": {
           "x": 0.05
          },
          "xaxis": {
           "automargin": true,
           "gridcolor": "white",
           "linecolor": "white",
           "ticks": "",
           "title": {
            "standoff": 15
           },
           "zerolinecolor": "white",
           "zerolinewidth": 2
          },
          "yaxis": {
           "automargin": true,
           "gridcolor": "white",
           "linecolor": "white",
           "ticks": "",
           "title": {
            "standoff": 15
           },
           "zerolinecolor": "white",
           "zerolinewidth": 2
          }
         }
        },
        "title": {
         "text": "Velocity Magnitude SBES vs Experimental"
        },
        "width": 900,
        "xaxis": {
         "anchor": "y",
         "domain": [
          0.0,
          0.45
         ]
        },
        "xaxis2": {
         "anchor": "y2",
         "domain": [
          0.55,
          1.0
         ]
        },
        "yaxis": {
         "anchor": "x",
         "domain": [
          0.0,
          1.0
         ]
        },
        "yaxis2": {
         "anchor": "x2",
         "domain": [
          0.0,
          1.0
         ],
         "matches": "y",
         "showticklabels": false
        }
       }
      },
      "text/html": "<div>\n        \n        \n            <div id=\"36bd73b4-b68f-4d3e-a4bb-cb1cf7ff2785\" class=\"plotly-graph-div\" style=\"height:400px; width:900px;\"></div>\n            <script type=\"text/javascript\">\n                require([\"plotly\"], function(Plotly) {\n                    window.PLOTLYENV=window.PLOTLYENV || {};\n                    \n                if (document.getElementById(\"36bd73b4-b68f-4d3e-a4bb-cb1cf7ff2785\")) {\n                    Plotly.newPlot(\n                        '36bd73b4-b68f-4d3e-a4bb-cb1cf7ff2785',\n                        [{\"line\": {\"color\": \"#636EFA\"}, \"mode\": \"markers\", \"name\": \"SBES-Tecplot\", \"type\": \"scatter\", \"x\": [0.00848528137423857, 0.008909545442950499, 0.009333809511662426, 0.009758073580374355, 0.010182337649086284, 0.010606601717798213, 0.01103086578651014, 0.011455129855222068, 0.011879393923933997, 0.012303657992645926, 0.012727922061357857, 0.013152186130069783, 0.013576450198781712, 0.014000714267493643, 0.01442497833620557, 0.0148492424049175, 0.015273506473629427, 0.015697770542341356, 0.016122034611053285, 0.01654629867976521, 0.01697056274847714, 0.01739482681718907, 0.017819090885900998, 0.018243354954612927, 0.018667619023324852, 0.01909188309203678, 0.01951614716074871, 0.01994041122946064, 0.02036467529817257, 0.020788939366884498, 0.021213203435596427, 0.021637467504308353, 0.02206173157302028, 0.02248599564173221, 0.022910259710444136, 0.02333452377915607, 0.023758787847867995, 0.024183051916579927, 0.024607315985291853, 0.025031580054003785, 0.025455844122715714, 0.02588010819142764, 0.026304372260139566, 0.026728636328851498, 0.027152900397563424, 0.027577164466275353, 0.028001428534987285, 0.02842569260369921, 0.02884995667241114, 0.02927422074112307, 0.029698484809835], \"xaxis\": \"x\", \"y\": [1.4950221642851829, 1.5737977936863898, 1.632843127846718, 1.6686297416687013, 1.713070522248745, 1.6816926583647729, 1.8733525276184082, 2.1985844284296037, 2.3757701560854914, 2.868196702003479, 3.2180213004350664, 3.4105863124132156, 3.760188329219818, 3.9557575315237044, 4.167673766613007, 4.314770603179932, 4.561387175321579, 4.899482905864716, 5.043447989225387, 5.334168744087219, 5.4857019782066345, 5.610564196109772, 5.763099730014801, 5.867906939983368, 6.040041506290436, 6.1760223507881165, 6.346775150299072, 6.51866729259491, 6.657303416728974, 6.851936781406403, 6.99843122959137, 7.128444528579712, 7.281655311584473, 7.460054433345794, 7.681130373477936, 7.835151505470276, 7.96886134147644, 8.09249768257141, 8.201230394840241, 8.286240816116333, 8.312800347805023, 8.363736510276794, 8.360326659679412, 8.418101584911346, 8.366701924800873, 8.351047956943512, 8.257947409152985, 8.173847222328186, 8.068184518814087, 7.927779412269592, 7.8279228687286375], \"yaxis\": \"y\"}, {\"line\": {\"color\": \"#19D3F3\"}, \"mode\": \"markers\", \"name\": \"SBES-ASCII\", \"type\": \"scatter\", \"x\": [0.025544232164583857, 0.025721008767439227, 0.0258977855325842, 0.026074562330325048, 0.02625133896491398, 0.026428115664694725, 0.026590804445332634, 0.0267287899665984, 0.026805878798243157, 0.02933372188171377, 0.029231897727405434, 0.029130074214667137, 0.029028252049225996, 0.028926427894917707, 0.028824603754751495, 0.028722782230880407, 0.02862095807657208, 0.02851913392226376, 0.028417311386022708, 0.028315488258226478, 0.02821366410391813, 0.02811184001411178, 0.028010018439880845, 0.027908194285572556, 0.027806370131264226, 0.027704548621535256, 0.027602724467226926, 0.027500900312918616, 0.02739907651147383, 0.027297254648881344, 0.02720748185686614, 0.027068215493397312, 0.026945710417353975, 0.026859393666300392, 0.007159456172656776, 0.007336232872851374, 0.00751300958103113, 0.0076897862571668725, 0.007866562965329385, 0.008043339657400912, 0.008220116349506914, 0.00839689305779016, 0.008573669741859294, 0.008750446433999807, 0.008927223150250931, 0.009103999818229073, 0.009280776518423704, 0.009457553218463123, 0.009634329910793334, 0.00981110661083276, 0.009987883303145727, 0.01016466001924164, 0.010341436695498125, 0.010518213395554784, 0.010694990087833273, 0.010871766787907168, 0.011048543367721163, 0.011225320268596187, 0.011402096920707573, 0.006982679480533486, 0.006805902796395415, 0.006629126112257261, 0.006452349396006182, 0.0062755727199221584, 0.006098796011673445, 0.005922019319550216, 0.005745242635343111, 0.005568465814750639, 0.005391689070353259, 0.005214912374159848, 0.005038135682140096, 0.0048613589778753385, 0.004684582273714052, 0.004507801913979152, 0.004329752011403331, 0.004206311860924561, 0.004153872578805948, 0.004122420412127324, 0.004096291466419693, 0.004074573491790207, 0.0040565139287200205, 0.004035238218890343, 0.0040185809216407, 0.004006315132596501, 0.025367455432034773, 0.025190678763470198, 0.025013902096630302, 0.024837125491532854, 0.024660348726905305, 0.024483571899155513, 0.02430679519902987, 0.024130018528568203, 0.023953241895014066, 0.023776465291296348, 0.023599688652568226, 0.023422911826715544, 0.023246135061398127, 0.023069358265381916, 0.02289258159629995, 0.022715804993617063, 0.022539028454056365, 0.022362251848614005, 0.022185475054839827, 0.02200869859392324, 0.02183192192673841, 0.02165514522540549, 0.02147836850993044, 0.021301591826188966, 0.021124815188323206, 0.02094803845715384, 0.020771261741161392, 0.020594485024479095, 0.020417708372471206, 0.020240931656651213, 0.020064154957042963, 0.01988737827140437, 0.019710601603874597, 0.01953382487236031, 0.019357048186894182, 0.019180271470901743, 0.019003494786987808, 0.011578873540602438, 0.011755650288949307, 0.011932427021205248, 0.012109203657208375, 0.012285980341380964, 0.012462757089710636, 0.01263953375777505, 0.012816310457814435, 0.01299308712601677, 0.013169863890316727, 0.013346640526388849, 0.013523417242467485, 0.013700193942679378, 0.013876970610743805, 0.014053747326994931, 0.01423052402898318, 0.014407300710655081, 0.014584077427682331, 0.014760854127980422, 0.014937630811376971, 0.015114407496153242, 0.01529118416523518, 0.015467960929345364, 0.015644737579456156, 0.01582151428044415, 0.015998290965737794, 0.016175067679488175, 0.016351844349604922, 0.01652862101765207, 0.01670539774951129, 0.016882174464986344, 0.01705895114907275, 0.01723572783557367, 0.017412504549324043, 0.017589281233927858, 0.017766057918359186, 0.017942834634006696, 0.0181196112849798, 0.01829638800304183, 0.018473164719724128, 0.01864994140312067, 0.018826718103246327, 0.02999299341948308, 0.029980615989729825, 0.029970134021963427, 0.029957561083566373, 0.02994247251380029, 0.02992437308335991, 0.029902659545308095, 0.029876612800332627, 0.02984537145095264, 0.029810239416214815, 0.029726147455922655, 0.02960912545108218, 0.029537151538771476, 0.029435545059524844, 0.02659632068968136, 0.004197247054001896, 0.0042745938302670376, 0.00438376319033238, 0.004515195445259067, 0.004417587188540779, 0.004326620294697583], \"xaxis\": \"x\", \"y\": [7.464035470609758, 7.475499451317072, 7.510572636682928, 7.493008811804877, 7.467946250390243, 7.469843451268292, 7.49169389755, 7.509652648707318, 7.513510112073171, 6.8810814298780505, 6.938751359707319, 7.0137092512195105, 7.0481057179268305, 7.0731037752439025, 7.053236733682928, 7.077735858682926, 7.096373258243903, 7.149996574243902, 7.181617778512196, 7.226418979073171, 7.2331237806829245, 7.273737673292683, 7.270675224414632, 7.31587989914634, 7.332548478463416, 7.361641723292682, 7.3915850835853645, 7.408125419341462, 7.451399226707318, 7.449890669780487, 7.464463470756099, 7.4195841352195115, 7.454430863268295, 7.480265423365853, 1.3446511333878048, 1.3650941738878049, 1.4105076392170732, 1.456928177114634, 1.4922786399829269, 1.4655175432073173, 1.4749638734756094, 1.4996402996902438, 1.5250777072634145, 1.5510641578682929, 1.5810405087682924, 1.5907408132682923, 1.6033321691414633, 1.5968799444658532, 1.593909786085366, 1.6228864937829268, 1.6323651262414636, 1.6383658564585366, 1.6324875851073168, 1.601577998453658, 1.6453581619951219, 1.7585925752609755, 1.8513904390219516, 1.930207731880488, 2.0454323308756104, 1.3421460372, 1.359698773887805, 1.3775069492756098, 1.36187631097561, 1.3602831521048782, 1.375557654595122, 1.4096023381000005, 1.4180874685634142, 1.4280992283146339, 1.4540717236975607, 1.4824032856682925, 1.5405997697414633, 1.5633025828902436, 1.5534322603804878, 1.5793840679714284, 1.5079820372571424, 1.4166877253612902, 1.420292005712195, 1.4281485948195116, 1.428101933195122, 1.427704306885366, 1.426662977912195, 1.430457808232927, 1.4396894711463415, 1.4534934373902435, 7.49815381895122, 7.488365503585363, 7.492016027756098, 7.460903652585366, 7.444624149585366, 7.406451569390244, 7.356160265707316, 7.3060306014390255, 7.282419909243902, 7.2420347408536605, 7.1853391945853655, 7.130252068195123, 7.079176327560975, 7.013302651731706, 6.949728274390242, 6.88331544292683, 6.813164614756097, 6.73564936609756, 6.659102190878049, 6.591930510902439, 6.548099394341462, 6.50706783395122, 6.456093045536588, 6.399588420000001, 6.3360290865121955, 6.278289031902439, 6.216607195097562, 6.15786050314634, 6.11055287587805, 6.0551937694390245, 5.991698654682929, 5.934929482487805, 5.895679974, 5.84877493095122, 5.779067207317072, 5.70814705082927, 5.636357871780487, 2.15496629892683, 2.1887876839170737, 2.2549564831780486, 2.3932509479926827, 2.5819944535439023, 2.7530040890243903, 2.90580790404878, 3.0342559612926823, 3.091292197707318, 3.166314035170732, 3.317338060048779, 3.4423092672926825, 3.5429570059512203, 3.6394245254146327, 3.7689322815365855, 3.830104051243903, 3.8597139289268276, 3.929373999829268, 3.984460481219512, 4.056982544585367, 4.1922316816829275, 4.323036263317073, 4.460075785536586, 4.540083806487805, 4.60761368787805, 4.664870337097559, 4.730116812902438, 4.815162564634147, 4.906697876951219, 4.988050602365854, 5.052669819560977, 5.10831844787805, 5.16594733804878, 5.220702089536585, 5.267154506048781, 5.308363246731705, 5.34487888104878, 5.3859310002926835, 5.429154612414633, 5.473646590853661, 5.527193439195122, 5.581273170146343, 0.6111111827365854, 1.633338138878049, 2.4631967579756093, 3.3870289937073164, 4.348142835780488, 5.237850153243902, 5.918045251219512, 6.349117282073172, 6.573913233804877, 6.686314674731707, 6.735406629756097, 6.772519662853659, 6.815023737512196, 6.81415904087805, 7.483640971285715, 1.4016789931, 1.4948798026999999, 1.4833612133899998, 1.38826533147, 1.25395503437, 1.24654197697], \"yaxis\": \"y\"}, {\"line\": {\"color\": \"#AB63FA\"}, \"mode\": \"markers\", \"name\": \"SBES Tecplot .h5\", \"showlegend\": true, \"type\": \"scatter\", \"x\": [0.00848528137423857, 0.008909545442950499, 0.009333809511662426, 0.009758073580374355, 0.010182337649086284, 0.010606601717798213, 0.01103086578651014, 0.011455129855222068, 0.011879393923933997, 0.012303657992645926, 0.012727922061357857, 0.013152186130069783, 0.013576450198781712, 0.014000714267493643, 0.01442497833620557, 0.0148492424049175, 0.015273506473629427, 0.015697770542341356, 0.016122034611053285, 0.01654629867976521, 0.01697056274847714, 0.01739482681718907, 0.017819090885900998, 0.018243354954612927, 0.018667619023324852, 0.01909188309203678, 0.01951614716074871, 0.01994041122946064, 0.02036467529817257, 0.020788939366884498, 0.021213203435596427, 0.021637467504308353, 0.02206173157302028, 0.02248599564173221, 0.022910259710444136, 0.02333452377915607, 0.023758787847867995, 0.024183051916579927, 0.024607315985291853, 0.025031580054003785, 0.025455844122715714, 0.02588010819142764, 0.026304372260139566, 0.026728636328851498, 0.027152900397563424, 0.027577164466275353, 0.028001428534987285, 0.02842569260369921, 0.02884995667241114, 0.02927422074112307, 0.029698484809835], \"xaxis\": \"x\", \"y\": [1.366235279416017, 1.4110872449625569, 1.3629362411510735, 1.3289289028444684, 1.37184270604303, 1.2400660422680618, 1.4586426516465512, 1.699448737299961, 1.871559140463105, 2.6054912299492923, 2.88580995207164, 3.3127307702326387, 3.445389086786207, 3.55335439204505, 3.7352925577275475, 4.03316085408134, 4.3332413808391514, 4.535220965441499, 4.590454042394409, 4.798834948494654, 5.076211359354364, 5.245205500936812, 5.365298737283836, 5.416399710057232, 5.503739623200716, 5.615552400508773, 5.787204350646547, 5.905161865666982, 6.053960514365488, 6.1951616254058655, 6.372021546975576, 6.467366816985691, 6.5858193023898774, 6.82141371792025, 7.041687992582024, 7.131232957869755, 7.217123746521222, 7.232815267197294, 7.336038290448196, 7.411976654656662, 7.468036520740245, 7.55123986119691, 7.4607654408026045, 7.503358803170355, 7.428152759262763, 7.462955543781764, 7.355487877629337, 7.207634111432169, 6.858762927507449, 6.722621393058868, 6.676421568531013], \"yaxis\": \"y\"}, {\"line\": {\"color\": \"#EF553B\"}, \"mode\": \"markers+lines\", \"name\": \"Experimental\", \"type\": \"scatter\", \"x\": [0.008485280999999999, 0.008909545, 0.00933381, 0.009758074, 0.010182338, 0.010606602, 0.011030866, 0.01145513, 0.011879394, 0.012303658, 0.012727922, 0.013152186000000001, 0.01357645, 0.014000714, 0.014424978, 0.014849242, 0.015273506000000001, 0.015697771, 0.016122035, 0.016546299, 0.016970563, 0.017394826999999998, 0.017819091000000002, 0.018243355, 0.018667619, 0.019091883, 0.019516147, 0.019940411, 0.020364675, 0.020788939, 0.021213202999999996, 0.021637467999999997, 0.022061732, 0.022485996, 0.02291026, 0.023334524, 0.023758788, 0.024183052000000003, 0.024607316, 0.02503158, 0.025455844, 0.025880108, 0.026304372000000003, 0.026728636, 0.0271529, 0.027577163999999998, 0.028001428999999998, 0.028425693, 0.028849957000000002, 0.029274221, 0.029698485], \"xaxis\": \"x\", \"y\": [1.4290862030000002, 1.304956016, 1.3677885269999999, 1.365288274, 1.3631626680000002, 1.395536198, 1.503998937, 1.7666735740000001, 2.131084059, 2.564652634, 2.9573649, 3.3135953910000002, 3.610486085, 3.8213131160000002, 3.910514019, 3.976263163, 4.05031181, 4.175811106, 4.3381123939999995, 4.565736372, 4.794594996, 4.987590166, 5.179486734, 5.34828983, 5.556650452, 5.721097751, 5.866459835, 5.9713360710000005, 6.013008043999999, 6.125078276, 6.274260795, 6.40723831, 6.39907134, 6.551348589, 6.702272034, 6.849695643, 7.020861637, 7.16965677, 7.317306884, 7.444685165, 7.514078225, 7.479776027000001, 7.249534935, 6.987652804, 6.696612743999999, 6.4708195470000005, 6.36717822, 6.338974905, 6.350509296, 6.098506782, 4.525339649], \"yaxis\": \"y\"}, {\"line\": {\"color\": \"#636EFA\"}, \"mode\": \"markers\", \"name\": \"SBES-Tecplot\", \"showlegend\": false, \"type\": \"scatter\", \"x\": [0.010606601717798213, 0.01103086578651014, 0.011455129855222068, 0.011879393923933997, 0.012303657992645926, 0.012727922061357857, 0.013152186130069783, 0.013576450198781712, 0.014000714267493643, 0.01442497833620557, 0.0148492424049175, 0.015273506473629427, 0.015697770542341356, 0.016122034611053285, 0.01654629867976521, 0.01697056274847714, 0.01739482681718907, 0.017819090885900998, 0.018243354954612927, 0.018667619023324852, 0.01909188309203678, 0.01951614716074871, 0.01994041122946064, 0.02036467529817257, 0.020788939366884498, 0.021213203435596427, 0.021637467504308353, 0.02206173157302028, 0.02248599564173221, 0.022910259710444136, 0.02333452377915607, 0.023758787847867995, 0.024183051916579927, 0.024607315985291853, 0.025031580054003785, 0.025455844122715714, 0.02588010819142764, 0.026304372260139566, 0.026728636328851498, 0.027152900397563424, 0.027577164466275353, 0.028001428534987285, 0.02842569260369921, 0.02884995667241114, 0.02927422074112307, 0.029698484809835, 0.030122748878546924], \"xaxis\": \"x2\", \"y\": [3.2068427443504333, 3.3757221400737762, 3.7228034853935243, 3.933299922943115, 4.229683178663254, 4.438207513093948, 4.601971167325973, 4.835929429531097, 4.988474261760712, 5.230018162727356, 5.402490961551666, 5.544271063804627, 5.806799912452698, 6.006355881690979, 6.272414553165436, 6.433036673069, 6.603079628944397, 6.813033604621888, 6.973614490032196, 7.194289112091065, 7.379196774959564, 7.54465012550354, 7.890979599952698, 8.050253856182099, 8.153876197338104, 8.25846037864685, 8.373264920711517, 8.386705505847932, 8.384364795684814, 8.452202701568604, 8.52470350265503, 8.528310906887054, 8.592025911808014, 8.491780304908753, 8.418583750724792, 8.319091057777404, 8.316397511959076, 7.933802092075348, 7.6065658807754515, 7.15900696516037, 6.868873274326324, 6.840863347053528, 6.837105071544647, 6.994695854187012, 7.072756683826446, 6.927078282833099, 1.175], \"yaxis\": \"y2\"}, {\"line\": {\"color\": \"#19D3F3\"}, \"mode\": \"markers\", \"name\": \"SBES-ASCII\", \"showlegend\": false, \"type\": \"scatter\", \"x\": [0.0040063162649331555, 0.0040185816122943144, 0.004035238361475839, 0.0040565132862531465, 0.004074572190748222, 0.004096289350256055, 0.004122417263949961, 0.00415386815373171, 0.004197246955148369, 0.004274593846671915, 0.004383763256234732, 0.004515195453496856, 0.004684582358032298, 0.004861359054173952, 0.0050381357463834065, 0.005214912446440027, 0.005391689142616193, 0.025544232228913357, 0.025367455528442766, 0.025190678859878204, 0.025013902193038298, 0.02483712555568991, 0.024660348791234795, 0.02448357199556351, 0.02430679526335936, 0.02413001862497619, 0.02395324195934355, 0.02377646535562584, 0.02359968868464676, 0.00556846588703081, 0.005745242707640525, 0.0059220193998500165, 0.0060987960839363675, 0.006275572800221956, 0.006452349484325601, 0.006629126184537434, 0.00680590286865834, 0.006982679552813659, 0.007159456244936937, 0.007336232945114287, 0.007513009645274426, 0.00768978632946428, 0.00786656304562917, 0.00804333973768345, 0.008220116413750193, 0.008396893114013811, 0.008573669814122204, 0.008750446522336459, 0.008927223198454959, 0.00910399989050923, 0.009280776614814478, 0.009457553282706407, 0.009634329991110357, 0.009811106683095658, 0.009987883383462754, 0.01016466006744567, 0.010341436767778284, 0.014053747407311946, 0.013876970723156567, 0.013700193974775163, 0.013523417338823757, 0.013346640606705876, 0.013169863954577253, 0.01299308719026006, 0.012816310522057716, 0.012639533854148568, 0.012462757153971164, 0.012285980405641477, 0.012109203753581889, 0.011932427117578765, 0.011755650337153332, 0.011578873636975963, 0.011402097001007352, 0.01122532033283946, 0.011048543431964444, 0.010871766836111192, 0.010694990160113427, 0.01051821347585456, 0.018119611381387804, 0.01794283468212448, 0.017766057998727946, 0.0175892813301634, 0.0174125046296928, 0.01723572789990317, 0.017058951213229794, 0.016882174529315848, 0.016705397813840797, 0.01652862111406008, 0.01635184444601293, 0.01617506774381769, 0.01599829104593408, 0.015821514344601186, 0.01564473767586416, 0.015467960961423902, 0.015291184213352974, 0.015114407560482749, 0.014937630891745726, 0.01476085420817671, 0.01458407745976086, 0.014407300791023842, 0.01423052406106172, 0.023422911955202057, 0.023246135189712164, 0.02306935839386842, 0.022892581692707952, 0.022715805057774072, 0.0225390284861349, 0.022362251880692546, 0.022185475119169323, 0.022008698690331237, 0.021831922007107166, 0.02165514530577424, 0.021478368590299186, 0.021301591858267497, 0.021124815236440997, 0.020948038537522588, 0.020771261789279183, 0.02059448510467538, 0.020417708436800703, 0.020240931752886753, 0.020064155037411702, 0.019887378335906338, 0.0197106016682041, 0.01953382496859585, 0.01935704823501197, 0.01918027153505879, 0.019003494883395807, 0.01882671816757583, 0.01864994146745017, 0.018473164832171384, 0.018296388083238118, 0.02680606608185536, 0.026728740430491546, 0.026596132596752187, 0.026428115696945725, 0.026251339029071015, 0.0260745624265606, 0.025897785661243164, 0.025721008863847223, 0.029992959174301694, 0.029980528491646872, 0.029969999671674994, 0.029957368792948278, 0.029942214363256614, 0.02992403346859618, 0.02990222491505399, 0.029876062118678763, 0.02984467865601271, 0.029792550913809272, 0.02973804976769476, 0.029709742883172442, 0.029629969443713454, 0.02955019072923793, 0.02944812454366112, 0.029346302326480445, 0.029244478557114185, 0.029142655301003916, 0.029040831538536222, 0.028939008738768552, 0.028837184776931254, 0.028735362803961106, 0.02863353853341134, 0.02853171483027162, 0.028429892215731452, 0.028328068831307188, 0.02822624456075742, 0.028124421050088715, 0.028022598243077512, 0.02792077511528126, 0.02781895097511509, 0.02771712739821982, 0.02761530478367964, 0.02751348140063509, 0.02741165724632677, 0.027309835221962064, 0.02720801132428176, 0.027105896770186568, 0.027042867060864208, 0.02692680800714573, 0.026844913590203794, 0.004417587254443131, 0.004326620294697583, 0.0042063634610610915, 0.02659078295834419, 0.004329833239789786, 0.004507802062943135], \"xaxis\": \"x2\", \"y\": [1.4635560642804877, 1.4689400702195121, 1.4858983468292686, 1.5066556346756097, 1.5153943927000002, 1.5140404241463419, 1.5002980564560982, 1.4750145941268291, 1.4828923437000001, 1.4486643370000003, 1.37709317713, 1.37821169412, 1.4397311607365855, 1.4688764603804878, 1.5077459856634148, 1.5028744736609756, 1.4884323463146336, 7.623605867658538, 7.641166086121952, 7.708428176439026, 7.744324689585365, 7.759455811000002, 7.80772418512195, 7.864764694585369, 7.933032996878048, 7.986941312292683, 7.971871759243901, 7.913984830317074, 7.91380255695122, 1.4576781428414634, 1.3372286194951222, 1.2458654439756098, 1.2222686529414633, 1.2332297044048781, 1.2642715509951221, 1.335948496163415, 1.3808942408439024, 1.41069339587561, 1.4232077889585368, 1.4507828281341464, 1.4796783546512193, 1.475372578317073, 1.4695539872439023, 1.454362231302439, 1.4832945447756098, 1.5838948319048778, 1.7196289032146341, 1.8428639905439024, 2.0085772752682924, 2.1788536681707322, 2.3617602506829263, 2.50323151604878, 2.59702532395122, 2.7787177837560972, 3.003334895170732, 3.121297600487805, 3.1865834370975605, 4.926249410560976, 4.852995161682927, 4.782781970048779, 4.730810348341462, 4.644286501243904, 4.571204041756098, 4.4903227409512185, 4.435330443804877, 4.37287855809756, 4.263697425829268, 4.193437525073172, 4.1533479475609765, 4.020561133878049, 3.8731219392682927, 3.8055228018292686, 3.685344971243902, 3.5152777391463426, 3.4732066094634138, 3.406968473585366, 3.3235201940243897, 3.268693342414634, 6.646221937585366, 6.572310389609756, 6.502093975707317, 6.439738255390244, 6.380218220000001, 6.3127694492195126, 6.2322361309756085, 6.156370562707315, 6.081334455219513, 6.0055285067804896, 5.931919219024391, 5.841590450487806, 5.7444518101219515, 5.654813440487805, 5.5773869555121935, 5.513518722804879, 5.4297137108292715, 5.3443077802682915, 5.287831242878048, 5.227341701560975, 5.151448232097561, 5.06387126304878, 4.987481937804878, 7.942919614487807, 7.911640258756098, 7.8584777582195136, 7.8987226257073155, 7.9175771372926835, 7.869618741634146, 7.846673606585366, 7.837683246121952, 7.870174199121953, 7.888282657146343, 7.882569824609756, 7.887469159170732, 7.844081001585363, 7.740382234731708, 7.703518582341464, 7.694468963170735, 7.681855079731707, 7.65825748902439, 7.617738555536586, 7.567982814414635, 7.466705746341465, 7.341224271317071, 7.232012085390243, 7.158875473073171, 7.085172102414635, 7.011717978878049, 6.928741412731709, 6.834559670878049, 6.756984894512194, 6.70853283339024, 6.7749808155609745, 6.873762558731708, 6.916061525650001, 7.055025149292683, 7.250426476, 7.457534747585367, 7.599337456024392, 7.600884760902439, 0.3791103996387804, 1.018793427190244, 1.5467563818878052, 2.1485880146097562, 2.7995546681463415, 3.459866208146341, 4.089306705682926, 4.647790846585365, 5.11908609685366, 5.60457084497561, 5.881384278317073, 5.945874964999998, 6.034093441317073, 6.129683613682928, 6.126234852024391, 6.13075046773171, 6.092395829487804, 6.088114508463414, 6.060501828024389, 6.052215664512194, 6.041883678707318, 6.015228111926829, 6.00611709309756, 5.950079944024389, 5.938540061146343, 5.914125568926829, 5.9252391747804865, 5.931999248658538, 5.949040626, 5.951970125975608, 5.9514664897317076, 5.957992345365855, 5.9809571629268286, 6.025576793439025, 6.07606073202439, 6.14669466107317, 6.2216883767317075, 6.307435273560977, 6.4325123463902445, 6.578398445560975, 6.749013670634148, 1.3721919305, 1.3780497185, 1.4171803575483872, 6.969971477761905, 1.3992977157333333, 1.4213116486619048], \"yaxis\": \"y2\"}, {\"line\": {\"color\": \"#AB63FA\"}, \"mode\": \"markers\", \"name\": \"SBES Tecplot .h5\", \"showlegend\": false, \"type\": \"scatter\", \"x\": [0.010606601717798213, 0.01103086578651014, 0.011455129855222068, 0.011879393923933997, 0.012303657992645926, 0.012727922061357857, 0.013152186130069783, 0.013576450198781712, 0.014000714267493643, 0.01442497833620557, 0.0148492424049175, 0.015273506473629427, 0.015697770542341356, 0.016122034611053285, 0.01654629867976521, 0.01697056274847714, 0.01739482681718907, 0.017819090885900998, 0.018243354954612927, 0.018667619023324852, 0.01909188309203678, 0.01951614716074871, 0.01994041122946064, 0.02036467529817257, 0.020788939366884498, 0.021213203435596427, 0.021637467504308353, 0.02206173157302028, 0.02248599564173221, 0.022910259710444136, 0.02333452377915607, 0.023758787847867995, 0.024183051916579927, 0.024607315985291853, 0.025031580054003785, 0.025455844122715714, 0.02588010819142764, 0.026304372260139566, 0.026728636328851498, 0.027152900397563424, 0.027577164466275353, 0.028001428534987285, 0.02842569260369921, 0.02884995667241114, 0.02927422074112307, 0.029698484809835, 0.030122748878546924], \"xaxis\": \"x2\", \"y\": [3.0932622221259765, 3.5151051579956576, 3.6199105852287516, 3.865498786136792, 4.156510105352711, 4.322796037636139, 4.463421060495931, 4.560965948944223, 4.767111055232004, 5.06711643246285, 5.288147749934047, 5.459273398554794, 5.6143846715088594, 5.784118779142667, 5.96109739543841, 6.149247846584185, 6.326837345002918, 6.474791393468785, 6.6564338999346395, 6.884620220793995, 7.092169086772736, 7.2458992534011255, 7.48093925105592, 7.62926785793188, 7.665829826694034, 7.809373247573916, 8.046804943368452, 7.96724053786007, 7.73065946968486, 7.726537669787568, 7.728295554261829, 7.87301465828842, 7.972493713223565, 7.810389605950065, 7.7287103195555495, 7.679567973286533, 7.44414017997287, 7.045652913499989, 6.891459417245672, 6.597153033949259, 6.312976099947859, 5.955881459575784, 6.04221023966238, 6.113143828539375, 6.024376268164909, 6.000444623775431, 0.1836931847598532], \"yaxis\": \"y2\"}, {\"line\": {\"color\": \"#EF553B\"}, \"mode\": \"markers+lines\", \"name\": \"Experimental\", \"showlegend\": false, \"type\": \"scatter\", \"x\": [0.010606602, 0.011030866, 0.01145513, 0.011879394, 0.012303658, 0.012727922, 0.013152186000000001, 0.01357645, 0.014000714, 0.014424978, 0.014849242, 0.015273506000000001, 0.015697771, 0.016122035, 0.016546299, 0.016970563, 0.017394826999999998, 0.017819091000000002, 0.018243355, 0.018667619, 0.019091883, 0.019516147, 0.019940411, 0.020364675, 0.020788939, 0.021213202999999996, 0.021637467999999997, 0.022061732, 0.022485996, 0.02291026, 0.023334524, 0.023758788, 0.024183052000000003, 0.024607316, 0.02503158, 0.025455844, 0.025880108, 0.026304372000000003, 0.026728636, 0.0271529, 0.027577163999999998, 0.028001428999999998, 0.028425693, 0.028849957000000002, 0.029274221, 0.029698485, 0.030122749], \"xaxis\": \"x2\", \"y\": [2.388529604, 2.782821263, 3.0487308810000004, 3.300982443, 3.5220561000000004, 3.751692116, 4.034038335, 4.36277436, 4.670491803, 4.891481048999999, 5.127681626, 5.296215065, 5.445017601, 5.571099212999999, 5.685633719, 5.820896966, 5.940701689, 6.059609815, 6.165522533, 6.272161983999999, 6.398504795, 6.5297465820000005, 6.663091559, 6.803802676, 6.942890342, 7.090152623, 7.240952375, 7.397010836000001, 7.539178199, 7.633240036, 7.715486218, 7.76341337, 7.76445379, 7.714246068, 7.5441227070000005, 7.320170107, 7.049112857999999, 6.7161550320000005, 6.353321145, 6.218657845, 6.1793274910000004, 6.242483332999999, 6.310694927, 6.34820787, 6.432506486, 5.761625565, 0.0], \"yaxis\": \"y2\"}],\n                        {\"annotations\": [{\"font\": {\"size\": 16}, \"showarrow\": false, \"text\": \"Quadrant 1\", \"x\": 0.225, \"xanchor\": \"center\", \"xref\": \"paper\", \"y\": 1.0, \"yanchor\": \"bottom\", \"yref\": \"paper\"}, {\"font\": {\"size\": 16}, \"showarrow\": false, \"text\": \"Quadrant 2\", \"x\": 0.775, \"xanchor\": \"center\", \"xref\": \"paper\", \"y\": 1.0, \"yanchor\": \"bottom\", \"yref\": \"paper\"}, {\"font\": {\"size\": 16}, \"showarrow\": false, \"text\": \"Radius (m)\", \"x\": 0.5, \"xanchor\": \"center\", \"xref\": \"paper\", \"y\": 0, \"yanchor\": \"top\", \"yref\": \"paper\", \"yshift\": -30}, {\"font\": {\"size\": 16}, \"showarrow\": false, \"text\": \"Velocity Magnitude (m/s)\", \"textangle\": -90, \"x\": 0, \"xanchor\": \"right\", \"xref\": \"paper\", \"xshift\": -40, \"y\": 0.5, \"yanchor\": \"middle\", \"yref\": \"paper\"}], \"height\": 400, \"template\": {\"data\": {\"bar\": [{\"error_x\": {\"color\": \"#2a3f5f\"}, \"error_y\": {\"color\": \"#2a3f5f\"}, \"marker\": {\"line\": {\"color\": \"#E5ECF6\", \"width\": 0.5}}, \"type\": \"bar\"}], \"barpolar\": [{\"marker\": {\"line\": {\"color\": \"#E5ECF6\", \"width\": 0.5}}, \"type\": \"barpolar\"}], \"carpet\": [{\"aaxis\": {\"endlinecolor\": \"#2a3f5f\", \"gridcolor\": \"white\", \"linecolor\": \"white\", \"minorgridcolor\": \"white\", \"startlinecolor\": \"#2a3f5f\"}, \"baxis\": {\"endlinecolor\": \"#2a3f5f\", \"gridcolor\": \"white\", \"linecolor\": \"white\", \"minorgridcolor\": \"white\", \"startlinecolor\": \"#2a3f5f\"}, \"type\": \"carpet\"}], \"choropleth\": [{\"colorbar\": {\"outlinewidth\": 0, \"ticks\": \"\"}, \"type\": \"choropleth\"}], \"contour\": [{\"colorbar\": {\"outlinewidth\": 0, \"ticks\": \"\"}, \"colorscale\": [[0.0, \"#0d0887\"], [0.1111111111111111, \"#46039f\"], [0.2222222222222222, \"#7201a8\"], [0.3333333333333333, \"#9c179e\"], [0.4444444444444444, \"#bd3786\"], [0.5555555555555556, \"#d8576b\"], [0.6666666666666666, \"#ed7953\"], [0.7777777777777778, \"#fb9f3a\"], [0.8888888888888888, \"#fdca26\"], [1.0, \"#f0f921\"]], \"type\": \"contour\"}], \"contourcarpet\": [{\"colorbar\": {\"outlinewidth\": 0, \"ticks\": \"\"}, \"type\": \"contourcarpet\"}], \"heatmap\": [{\"colorbar\": {\"outlinewidth\": 0, \"ticks\": \"\"}, \"colorscale\": [[0.0, \"#0d0887\"], [0.1111111111111111, \"#46039f\"], [0.2222222222222222, \"#7201a8\"], [0.3333333333333333, \"#9c179e\"], [0.4444444444444444, \"#bd3786\"], [0.5555555555555556, \"#d8576b\"], [0.6666666666666666, \"#ed7953\"], [0.7777777777777778, \"#fb9f3a\"], [0.8888888888888888, \"#fdca26\"], [1.0, \"#f0f921\"]], \"type\": \"heatmap\"}], \"heatmapgl\": [{\"colorbar\": {\"outlinewidth\": 0, \"ticks\": \"\"}, \"colorscale\": [[0.0, \"#0d0887\"], [0.1111111111111111, \"#46039f\"], [0.2222222222222222, \"#7201a8\"], [0.3333333333333333, \"#9c179e\"], [0.4444444444444444, \"#bd3786\"], [0.5555555555555556, \"#d8576b\"], [0.6666666666666666, \"#ed7953\"], [0.7777777777777778, \"#fb9f3a\"], [0.8888888888888888, \"#fdca26\"], [1.0, \"#f0f921\"]], \"type\": \"heatmapgl\"}], \"histogram\": [{\"marker\": {\"colorbar\": {\"outlinewidth\": 0, \"ticks\": \"\"}}, \"type\": \"histogram\"}], \"histogram2d\": [{\"colorbar\": {\"outlinewidth\": 0, \"ticks\": \"\"}, \"colorscale\": [[0.0, \"#0d0887\"], [0.1111111111111111, \"#46039f\"], [0.2222222222222222, \"#7201a8\"], [0.3333333333333333, \"#9c179e\"], [0.4444444444444444, \"#bd3786\"], [0.5555555555555556, \"#d8576b\"], [0.6666666666666666, \"#ed7953\"], [0.7777777777777778, \"#fb9f3a\"], [0.8888888888888888, \"#fdca26\"], [1.0, \"#f0f921\"]], \"type\": \"histogram2d\"}], \"histogram2dcontour\": [{\"colorbar\": {\"outlinewidth\": 0, \"ticks\": \"\"}, \"colorscale\": [[0.0, \"#0d0887\"], [0.1111111111111111, \"#46039f\"], [0.2222222222222222, \"#7201a8\"], [0.3333333333333333, \"#9c179e\"], [0.4444444444444444, \"#bd3786\"], [0.5555555555555556, \"#d8576b\"], [0.6666666666666666, \"#ed7953\"], [0.7777777777777778, \"#fb9f3a\"], [0.8888888888888888, \"#fdca26\"], [1.0, \"#f0f921\"]], \"type\": \"histogram2dcontour\"}], \"mesh3d\": [{\"colorbar\": {\"outlinewidth\": 0, \"ticks\": \"\"}, \"type\": \"mesh3d\"}], \"parcoords\": [{\"line\": {\"colorbar\": {\"outlinewidth\": 0, \"ticks\": \"\"}}, \"type\": \"parcoords\"}], \"pie\": [{\"automargin\": true, \"type\": \"pie\"}], \"scatter\": [{\"marker\": {\"colorbar\": {\"outlinewidth\": 0, \"ticks\": \"\"}}, \"type\": \"scatter\"}], \"scatter3d\": [{\"line\": {\"colorbar\": {\"outlinewidth\": 0, \"ticks\": \"\"}}, \"marker\": {\"colorbar\": {\"outlinewidth\": 0, \"ticks\": \"\"}}, \"type\": \"scatter3d\"}], \"scattercarpet\": [{\"marker\": {\"colorbar\": {\"outlinewidth\": 0, \"ticks\": \"\"}}, \"type\": \"scattercarpet\"}], \"scattergeo\": [{\"marker\": {\"colorbar\": {\"outlinewidth\": 0, \"ticks\": \"\"}}, \"type\": \"scattergeo\"}], \"scattergl\": [{\"marker\": {\"colorbar\": {\"outlinewidth\": 0, \"ticks\": \"\"}}, \"type\": \"scattergl\"}], \"scattermapbox\": [{\"marker\": {\"colorbar\": {\"outlinewidth\": 0, \"ticks\": \"\"}}, \"type\": \"scattermapbox\"}], \"scatterpolar\": [{\"marker\": {\"colorbar\": {\"outlinewidth\": 0, \"ticks\": \"\"}}, \"type\": \"scatterpolar\"}], \"scatterpolargl\": [{\"marker\": {\"colorbar\": {\"outlinewidth\": 0, \"ticks\": \"\"}}, \"type\": \"scatterpolargl\"}], \"scatterternary\": [{\"marker\": {\"colorbar\": {\"outlinewidth\": 0, \"ticks\": \"\"}}, \"type\": \"scatterternary\"}], \"surface\": [{\"colorbar\": {\"outlinewidth\": 0, \"ticks\": \"\"}, \"colorscale\": [[0.0, \"#0d0887\"], [0.1111111111111111, \"#46039f\"], [0.2222222222222222, \"#7201a8\"], [0.3333333333333333, \"#9c179e\"], [0.4444444444444444, \"#bd3786\"], [0.5555555555555556, \"#d8576b\"], [0.6666666666666666, \"#ed7953\"], [0.7777777777777778, \"#fb9f3a\"], [0.8888888888888888, \"#fdca26\"], [1.0, \"#f0f921\"]], \"type\": \"surface\"}], \"table\": [{\"cells\": {\"fill\": {\"color\": \"#EBF0F8\"}, \"line\": {\"color\": \"white\"}}, \"header\": {\"fill\": {\"color\": \"#C8D4E3\"}, \"line\": {\"color\": \"white\"}}, \"type\": \"table\"}]}, \"layout\": {\"annotationdefaults\": {\"arrowcolor\": \"#2a3f5f\", \"arrowhead\": 0, \"arrowwidth\": 1}, \"coloraxis\": {\"colorbar\": {\"outlinewidth\": 0, \"ticks\": \"\"}}, \"colorscale\": {\"diverging\": [[0, \"#8e0152\"], [0.1, \"#c51b7d\"], [0.2, \"#de77ae\"], [0.3, \"#f1b6da\"], [0.4, \"#fde0ef\"], [0.5, \"#f7f7f7\"], [0.6, \"#e6f5d0\"], [0.7, \"#b8e186\"], [0.8, \"#7fbc41\"], [0.9, \"#4d9221\"], [1, \"#276419\"]], \"sequential\": [[0.0, \"#0d0887\"], [0.1111111111111111, \"#46039f\"], [0.2222222222222222, \"#7201a8\"], [0.3333333333333333, \"#9c179e\"], [0.4444444444444444, \"#bd3786\"], [0.5555555555555556, \"#d8576b\"], [0.6666666666666666, \"#ed7953\"], [0.7777777777777778, \"#fb9f3a\"], [0.8888888888888888, \"#fdca26\"], [1.0, \"#f0f921\"]], \"sequentialminus\": [[0.0, \"#0d0887\"], [0.1111111111111111, \"#46039f\"], [0.2222222222222222, \"#7201a8\"], [0.3333333333333333, \"#9c179e\"], [0.4444444444444444, \"#bd3786\"], [0.5555555555555556, \"#d8576b\"], [0.6666666666666666, \"#ed7953\"], [0.7777777777777778, \"#fb9f3a\"], [0.8888888888888888, \"#fdca26\"], [1.0, \"#f0f921\"]]}, \"colorway\": [\"#636efa\", \"#EF553B\", \"#00cc96\", \"#ab63fa\", \"#FFA15A\", \"#19d3f3\", \"#FF6692\", \"#B6E880\", \"#FF97FF\", \"#FECB52\"], \"font\": {\"color\": \"#2a3f5f\"}, \"geo\": {\"bgcolor\": \"white\", \"lakecolor\": \"white\", \"landcolor\": \"#E5ECF6\", \"showlakes\": true, \"showland\": true, \"subunitcolor\": \"white\"}, \"hoverlabel\": {\"align\": \"left\"}, \"hovermode\": \"closest\", \"mapbox\": {\"style\": \"light\"}, \"paper_bgcolor\": \"white\", \"plot_bgcolor\": \"#E5ECF6\", \"polar\": {\"angularaxis\": {\"gridcolor\": \"white\", \"linecolor\": \"white\", \"ticks\": \"\"}, \"bgcolor\": \"#E5ECF6\", \"radialaxis\": {\"gridcolor\": \"white\", \"linecolor\": \"white\", \"ticks\": \"\"}}, \"scene\": {\"xaxis\": {\"backgroundcolor\": \"#E5ECF6\", \"gridcolor\": \"white\", \"gridwidth\": 2, \"linecolor\": \"white\", \"showbackground\": true, \"ticks\": \"\", \"zerolinecolor\": \"white\"}, \"yaxis\": {\"backgroundcolor\": \"#E5ECF6\", \"gridcolor\": \"white\", \"gridwidth\": 2, \"linecolor\": \"white\", \"showbackground\": true, \"ticks\": \"\", \"zerolinecolor\": \"white\"}, \"zaxis\": {\"backgroundcolor\": \"#E5ECF6\", \"gridcolor\": \"white\", \"gridwidth\": 2, \"linecolor\": \"white\", \"showbackground\": true, \"ticks\": \"\", \"zerolinecolor\": \"white\"}}, \"shapedefaults\": {\"line\": {\"color\": \"#2a3f5f\"}}, \"ternary\": {\"aaxis\": {\"gridcolor\": \"white\", \"linecolor\": \"white\", \"ticks\": \"\"}, \"baxis\": {\"gridcolor\": \"white\", \"linecolor\": \"white\", \"ticks\": \"\"}, \"bgcolor\": \"#E5ECF6\", \"caxis\": {\"gridcolor\": \"white\", \"linecolor\": \"white\", \"ticks\": \"\"}}, \"title\": {\"x\": 0.05}, \"xaxis\": {\"automargin\": true, \"gridcolor\": \"white\", \"linecolor\": \"white\", \"ticks\": \"\", \"title\": {\"standoff\": 15}, \"zerolinecolor\": \"white\", \"zerolinewidth\": 2}, \"yaxis\": {\"automargin\": true, \"gridcolor\": \"white\", \"linecolor\": \"white\", \"ticks\": \"\", \"title\": {\"standoff\": 15}, \"zerolinecolor\": \"white\", \"zerolinewidth\": 2}}}, \"title\": {\"text\": \"Velocity Magnitude SBES vs Experimental\"}, \"width\": 900, \"xaxis\": {\"anchor\": \"y\", \"domain\": [0.0, 0.45]}, \"xaxis2\": {\"anchor\": \"y2\", \"domain\": [0.55, 1.0]}, \"yaxis\": {\"anchor\": \"x\", \"domain\": [0.0, 1.0]}, \"yaxis2\": {\"anchor\": \"x2\", \"domain\": [0.0, 1.0], \"matches\": \"y\", \"showticklabels\": false}},\n                        {\"responsive\": true}\n                    ).then(function(){\n                            \nvar gd = document.getElementById('36bd73b4-b68f-4d3e-a4bb-cb1cf7ff2785');\nvar x = new MutationObserver(function (mutations, observer) {{\n        var display = window.getComputedStyle(gd).display;\n        if (!display || display === 'none') {{\n            console.log([gd, 'removed!']);\n            Plotly.purge(gd);\n            observer.disconnect();\n        }}\n}});\n\n// Listen for the removal of the full notebook cells\nvar notebookContainer = gd.closest('#notebook-container');\nif (notebookContainer) {{\n    x.observe(notebookContainer, {childList: true});\n}}\n\n// Listen for the clearing of the current output cell\nvar outputEl = gd.closest('.output');\nif (outputEl) {{\n    x.observe(outputEl, {childList: true});\n}}\n\n                        })\n                };\n                });\n            </script>\n        </div>"
     },
     "metadata": {},
     "output_type": "display_data"
    }
   ],
   "source": [
    "color10_16 = ['#636EFA', '#EF553B', '#00CC96', '#AB63FA', '#FFA15A', '#19D3F3', '#FF6692', '#B6E880', '#FF97FF',\n",
    "              '#FECB52']\n",
    "fig = make_subplots(\n",
    "    rows=1,\n",
    "    cols=2,\n",
    "    shared_yaxes=True,\n",
    "    x_title=\"Radius (m)\",\n",
    "    y_title=\"Velocity Magnitude (m/s)\",\n",
    "    subplot_titles=(\"Quadrant 1\", \"Quadrant 2\"))\n",
    "\n",
    "fig.add_trace(go.Scatter(x=C5_pd[\"Q1\"]['radial_position'],\n",
    "                         y=C5_pd[\"Q1\"]['Velocity Magnitude Average'],\n",
    "                         mode='markers',\n",
    "                         name='SBES-Tecplot',\n",
    "                         line=dict(color=color10_16[0])\n",
    "                         # error_x_array=d4_df['velocity-magnitude_std'],\n",
    "                         # error_x_array=d_df['y-coordinate_std']\n",
    "                         ),\n",
    "              row=1, col=1)\n",
    "\n",
    "fig.add_trace(go.Scatter(x=quad_ascii[\"Q1\"]['radius_bin_mean'],\n",
    "                         y=quad_ascii[\"Q1\"]['velocity-magnitude_bin_mean'],\n",
    "                         mode='markers',\n",
    "                         name='SBES-ASCII',\n",
    "                         line=dict(color=color10_16[5])),\n",
    "              row=1, col=1)\n",
    "\n",
    "fig.add_trace(go.Scatter(x=C5_cas_dat[\"Q1\"]['radial_position'],\n",
    "                         y=C5_cas_dat[\"Q1\"]['Mean Velocity Magnitude'],\n",
    "                         mode='markers',\n",
    "                         name='SBES Tecplot .h5',\n",
    "                         line=dict(color=color10_16[3]),\n",
    "                         showlegend=True),\n",
    "              row=1, col=1)\n",
    "\n",
    "fig.add_trace(go.Scatter(x=C5_Experimental[\"Q1\"]['radius'],\n",
    "                         y=C5_Experimental[\"Q1\"]['Velocity_Magnitude'],\n",
    "                         mode='markers+lines',\n",
    "                         name='Experimental',\n",
    "                         line=dict(color=color10_16[1])),\n",
    "              row=1, col=1)\n",
    "\n",
    "fig.add_trace(go.Scatter(x=C5_pd[\"Q2\"]['radial_position'],\n",
    "                         y=C5_pd[\"Q2\"]['Velocity Magnitude Average'],\n",
    "                         mode='markers',\n",
    "                         name='SBES-Tecplot',\n",
    "                         line=dict(color=color10_16[0]),\n",
    "                         showlegend=False\n",
    "                         # error_x_array=d4_df['velocity-magnitude_std'],\n",
    "                         # error_x_array=d_df['y-coordinate_std']\n",
    "                         ),\n",
    "              row=1, col=2)\n",
    "\n",
    "fig.add_trace(go.Scatter(x=quad_ascii[\"Q2\"]['radius_bin_mean'],\n",
    "                         y=quad_ascii[\"Q2\"]['velocity-magnitude_bin_mean'],\n",
    "                         mode='markers',\n",
    "                         name='SBES-ASCII',\n",
    "                         line=dict(color=color10_16[5]),\n",
    "                         showlegend=False),\n",
    "              row=1, col=2)\n",
    "\n",
    "fig.add_trace(go.Scatter(x=C5_cas_dat[\"Q2\"]['radial_position'],\n",
    "                         y=C5_cas_dat[\"Q2\"]['Mean Velocity Magnitude'],\n",
    "                         mode='markers',\n",
    "                         name='SBES Tecplot .h5',\n",
    "                         line=dict(color=color10_16[3]),\n",
    "                         showlegend=False),\n",
    "              row=1, col=2)\n",
    "\n",
    "\n",
    "fig.add_trace(go.Scatter(x=C5_Experimental[\"Q2\"]['radius'],\n",
    "                         y=C5_Experimental[\"Q2\"]['Velocity_Magnitude'],\n",
    "                         mode='markers+lines',\n",
    "                         name='Experimental',\n",
    "                         line=dict(color=color10_16[1]),\n",
    "                         showlegend=False),\n",
    "              row=1, col=2)\n",
    "\n",
    "\n",
    "\n",
    "\n",
    "fig.update_layout(height=400, width=900,\n",
    "                  title_text=\"Velocity Magnitude SBES vs Experimental\")\n",
    "\n",
    "fig.show()\n"
   ],
   "metadata": {
    "collapsed": false,
    "pycharm": {
     "name": "#%%\n"
    }
   }
  }
 ],
 "metadata": {
  "kernelspec": {
   "display_name": "Python 3",
   "language": "python",
   "name": "python3"
  },
  "language_info": {
   "codemirror_mode": {
    "name": "ipython",
    "version": 2
   },
   "file_extension": ".py",
   "mimetype": "text/x-python",
   "name": "python",
   "nbconvert_exporter": "python",
   "pygments_lexer": "ipython2",
   "version": "2.7.6"
  }
 },
 "nbformat": 4,
 "nbformat_minor": 0
}