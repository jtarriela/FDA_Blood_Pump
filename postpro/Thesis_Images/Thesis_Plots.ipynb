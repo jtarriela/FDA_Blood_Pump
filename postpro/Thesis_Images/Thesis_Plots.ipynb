{
 "cells": [
  {
   "cell_type": "code",
   "execution_count": 1,
   "outputs": [
    {
     "name": "stderr",
     "output_type": "stream",
     "text": [
      "<ipython-input-1-1498ef4f0359>:30: UserWarning: FixedFormatter should only be used together with FixedLocator\n",
      "  ax1.set_xticklabels(tick_labels)\n"
     ]
    },
    {
     "data": {
      "text/plain": "<Figure size 252x189 with 1 Axes>",
      "image/png": "[encoded data removed]"
     },
     "metadata": {
      "needs_background": "light"
     },
     "output_type": "display_data"
    }
   ],
   "source": [
    "import matplotlib.pyplot as plt\n",
    "\n",
    "plt.style.use(['science'])\n",
    "# Style location : C:\\Users\\Joseph Tarriela\\.matplotlib\\stylelib\n",
    "plt.rcParams.update({\n",
    "    \"font.serif\": ['Times New Roman'],  # specify font here\n",
    "    \"font.size\": 10})          # specify font size here\n",
    "\n",
    "sbes_x = [1.2, 2.2, 3.2, 4.2]\n",
    "sbes_y = [174.7893068, 69.75158192, 264.3917632, 223.6217248]\n",
    "iddes_x = [1.4, 2.4, 3.4, 4.4]\n",
    "iddes_y = [177.4867949, 69.66816148, 283.0810207, 234.0348667]\n",
    "kw_x = [1.6, 2.6, 3.6, 4.6]\n",
    "kw_y = [157.5541319, 37.68651136, 236.2279368, 183.9224917]\n",
    "experimental_x = [1, 2, 3, 4]\n",
    "experimental_y = [169.5422535, 63.38028169, 264.6126761, 207.2519084]\n",
    "\n",
    "error_hi = [12.67605634, 17.42957746, 22.18309859, 32.0610687]\n",
    "error_low = [14.26056338, 22.18309859, 22.18309859, 35.49618321]\n",
    "\n",
    "fig = plt.figure()\n",
    "ax1 = fig.add_subplot(111)\n",
    "\n",
    "ax1.scatter(experimental_x, experimental_y, c='b', marker=\"o\", s=18,label='Experimental')\n",
    "ax1.scatter(sbes_x, sbes_y, c='orange', marker=\"s\", s=18, label='SBES')\n",
    "ax1.scatter(iddes_x, iddes_y, c='g', marker=\"^\", s=18,label='IDDES')\n",
    "ax1.scatter(kw_x, kw_y, c='r', marker=\"s\", s=18,label='KW-SST')\n",
    "\n",
    "plt.errorbar(experimental_x, experimental_y, yerr=[error_low, error_hi], ms=4, fmt='o', c='b', capsize=3)\n",
    "\n",
    "tick_labels = ['0', '1', '4', '5', '6']\n",
    "ax1.set_xticklabels(tick_labels)\n",
    "\n",
    "# X bottom/top minor ticks\n",
    "plt.tick_params(\n",
    "    axis='x',  # changes apply to the x-axis\n",
    "    which='minor',  # both major and minor ticks are affected\n",
    "    bottom=False,  # ticks along the bottom edge are off\n",
    "    top=False,  # ticks along the top edge are off\n",
    "    labelbottom=False)  # labels along the bottom edge are off\n",
    "# X Top Major ticks\n",
    "plt.tick_params(\n",
    "    axis='x',  # changes apply to the x-axis\n",
    "    which='major',  # both major and minor ticks are affected\n",
    "    # bottom=False,      # ticks along the bottom edge are off\n",
    "    top=False,  # ticks along the top edge are off\n",
    "    labelbottom=True)  # labels along the bottom edge are off\n",
    "# Y major/minor ticks\n",
    "plt.tick_params(\n",
    "    axis='y',  # changes apply to the x-axis\n",
    "    which='both',  # both major and minor ticks are affected\n",
    "    left=True,  # ticks along the bottom edge are off\n",
    "    right=False,  # ticks along the top edge are off\n",
    "    labelbottom=False)  # labels along the bottom edge are off\n",
    "\n",
    "# plt.legend(loc='best',frameon=True, shadow=False)\n",
    "# bbox_to_anchor=(.55, .425)\n",
    "plt.legend(bbox_to_anchor=(.54, .42),\n",
    "           frameon=False,\n",
    "           fontsize='small',\n",
    "           edgecolor='inherit')\n",
    "\n",
    "plt.xlabel('Flow Condition')\n",
    "plt.ylabel('Pressure Head (mmHg)')\n",
    "plt.subplots_adjust(top=0.925)\n",
    "plt.subplots_adjust(bottom=0.15)\n",
    "plt.subplots_adjust(left=0.15)\n",
    "plt.subplots_adjust(right=0.95)\n",
    "# plt.subplots_adjust(wspace=0.15)\n",
    "plt.savefig(r\"C:\\Users\\Joseph Tarriela\\Downloads\\Pressure_comparison.png\",dpi=600)\n",
    "plt.show()\n"
   ],
   "metadata": {
    "collapsed": false,
    "pycharm": {
     "name": "#%% Pressure\n"
    }
   }
  },
  {
   "cell_type": "code",
   "execution_count": null,
   "outputs": [],
   "source": [],
   "metadata": {
    "collapsed": false,
    "pycharm": {
     "name": "#%% Pressure\n"
    }
   }
  }
 ],
 "metadata": {
  "kernelspec": {
   "display_name": "Python 3",
   "language": "python",
   "name": "python3"
  },
  "language_info": {
   "codemirror_mode": {
    "name": "ipython",
    "version": 2
   },
   "file_extension": ".py",
   "mimetype": "text/x-python",
   "name": "python",
   "nbconvert_exporter": "python",
   "pygments_lexer": "ipython2",
   "version": "2.7.6"
  }
 },
 "nbformat": 4,
 "nbformat_minor": 0
}