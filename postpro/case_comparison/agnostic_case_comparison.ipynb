{
 "cells": [
  {
   "cell_type": "code",
   "execution_count": 107,
   "metadata": {
    "collapsed": true
   },
   "outputs": [],
   "source": [
    "import postpro.fluent_transcript_parser as transcript_parser\n",
    "import pandas as pd\n",
    "from postpro.ASCII_time_avg import ascii_averaging\n",
    "import psutil\n",
    "from plotly.subplots import make_subplots\n",
    "import plotly.graph_objects as go\n",
    "import case_comparison_df_loader as df_loader"
   ]
  },
  {
   "cell_type": "code",
   "execution_count": 108,
   "outputs": [
    {
     "name": "stdout",
     "output_type": "stream",
     "text": [
      "https://raw.githubusercontent.com/jtarriela/FDA_Blood_Pump/main/postpro/C1_sampling_coordinates/C1_Experimental_Slice_Data/C1_D1.csv\n",
      "https://raw.githubusercontent.com/jtarriela/FDA_Blood_Pump/main/postpro/C1_sampling_coordinates/C1_Experimental_Slice_Data/C1_D2.csv\n",
      "https://raw.githubusercontent.com/jtarriela/FDA_Blood_Pump/main/postpro/C1_sampling_coordinates/C1_Experimental_Slice_Data/C1_D3.csv\n",
      "https://raw.githubusercontent.com/jtarriela/FDA_Blood_Pump/main/postpro/C1_sampling_coordinates/C1_Experimental_Slice_Data/C1_D4.csv\n",
      "https://raw.githubusercontent.com/jtarriela/FDA_Blood_Pump/main/postpro/C1_sampling_coordinates/C1_Experimental_Slice_Data/C1_Q1.csv\n",
      "https://raw.githubusercontent.com/jtarriela/FDA_Blood_Pump/main/postpro/C1_sampling_coordinates/C1_Experimental_Slice_Data/C1_Q2.csv\n",
      "https://raw.githubusercontent.com/jtarriela/FDA_Blood_Pump/main/postpro/C4_sampling_coordinates/C4_Experimental_Slice_Data/C4_Q1.csv\n",
      "https://raw.githubusercontent.com/jtarriela/FDA_Blood_Pump/main/postpro/C4_sampling_coordinates/C4_Experimental_Slice_Data/C4_Q2.csv\n",
      "https://raw.githubusercontent.com/jtarriela/FDA_Blood_Pump/main/postpro/C5_sampling_coordinates/C5_Experimental_Slice_Data/C5_D1.csv\n",
      "https://raw.githubusercontent.com/jtarriela/FDA_Blood_Pump/main/postpro/C5_sampling_coordinates/C5_Experimental_Slice_Data/C5_D2.csv\n",
      "https://raw.githubusercontent.com/jtarriela/FDA_Blood_Pump/main/postpro/C5_sampling_coordinates/C5_Experimental_Slice_Data/C5_D3.csv\n",
      "https://raw.githubusercontent.com/jtarriela/FDA_Blood_Pump/main/postpro/C5_sampling_coordinates/C5_Experimental_Slice_Data/C5_D4.csv\n",
      "https://raw.githubusercontent.com/jtarriela/FDA_Blood_Pump/main/postpro/C5_sampling_coordinates/C5_Experimental_Slice_Data/C5_Q1.csv\n",
      "https://raw.githubusercontent.com/jtarriela/FDA_Blood_Pump/main/postpro/C5_sampling_coordinates/C5_Experimental_Slice_Data/C5_Q2.csv\n"
     ]
    }
   ],
   "source": [
    "quad_ascii = df_loader.import_quad_dict()\n",
    "diff_ascii = df_loader.import_diff_dict()\n",
    "C1_Experimental = df_loader.import_experimental_dict('C1')\n",
    "C4_Experimental = df_loader.import_experimental_dict('C4')\n",
    "C5_Experimental = df_loader.import_experimental_dict('C5')"
   ],
   "metadata": {
    "collapsed": false,
    "pycharm": {
     "name": "#%%\n"
    }
   }
  },
  {
   "cell_type": "code",
   "execution_count": 111,
   "outputs": [],
   "source": [
    "C5_Lab_1 = pd.read_csv(r'C:\\Users\\Joseph Tarriela\\Downloads\\C5-Lab-1.csv')\n",
    "C5_Lab_2 = pd.read_csv(r'C:\\Users\\Joseph Tarriela\\Downloads\\C5-Lab-2.csv')"
   ],
   "metadata": {
    "collapsed": false,
    "pycharm": {
     "name": "#%% indiv lab df\n"
    }
   }
  },
  {
   "cell_type": "code",
   "execution_count": 118,
   "outputs": [
    {
     "name": "stdout",
     "output_type": "stream",
     "text": [
      "C1-SBES 195.04750170731708\n",
      "C1-IDDES 197.57877585365853\n",
      "C1-KW 186.35514799999999\n",
      "C4-SBES 91.34657141025642\n",
      "C4-IDDES 94.26957995121951\n",
      "C4-KW 69.7544324\n",
      "C5-SBES 293.088806\n",
      "C5-IDDES 313.28337457142857\n",
      "C5-KW 292.636128\n"
     ]
    }
   ],
   "source": [
    "pressure_file_dict = {'C1-SBES': r\"C:\\Users\\Joseph Tarriela\\Downloads\\Pressure Files\\Pressure-C1-SBES.trn\",\n",
    "                      'C1-IDDES': r\"C:\\Users\\Joseph Tarriela\\Downloads\\Pressure Files\\Pressure-C1-IDDES.trn\",\n",
    "                      'C1-KW': r\"C:\\Users\\Joseph Tarriela\\Downloads\\Pressure Files\\Pressure-C1-KW.trn\",\n",
    "                      'C4-SBES': r\"C:\\Users\\Joseph Tarriela\\Downloads\\Pressure Files\\Pressure-C4-SBES.trn\",\n",
    "                      'C4-IDDES': r\"C:\\Users\\Joseph Tarriela\\Downloads\\Pressure Files\\Pressure-C4-IDDES.trn\",\n",
    "                      'C4-KW': r\"C:\\Users\\Joseph Tarriela\\Downloads\\Pressure Files\\Pressure-C4-KW.trn\",\n",
    "                      'C5-SBES': r\"C:\\Users\\Joseph Tarriela\\Downloads\\Pressure Files\\Pressure-C5-SBES.trn\",\n",
    "                      'C5-IDDES': r\"C:\\Users\\Joseph Tarriela\\Downloads\\Pressure Files\\Pressure-C5-IDDES.trn\",\n",
    "                      'C5-KW': r\"C:\\Users\\Joseph Tarriela\\Downloads\\Pressure Files\\Pressure-C5-KW.trn\"}\n",
    "key_list = pressure_file_dict.keys()\n",
    "extract_string = \"static_phead_mmhg  \"\n",
    "for key in key_list:\n",
    "    extracted_float_list = transcript_parser.search_string_in_file(pressure_file_dict[key],extract_string)\n",
    "    float_avg = transcript_parser.p_average(extracted_float_list)\n",
    "    # print(float_avg)\n",
    "    pressure_file_dict[key] = float_avg\n",
    "\n",
    "for key in key_list:\n",
    "    print(key,pressure_file_dict[key])\n",
    "\n",
    "\n"
   ],
   "metadata": {
    "collapsed": false,
    "pycharm": {
     "name": "#%% extract static pressures\n"
    }
   }
  },
  {
   "cell_type": "code",
   "execution_count": 131,
   "outputs": [
    {
     "data": {
      "application/vnd.plotly.v1+json": {
       "config": {
        "plotlyServerURL": "https://plot.ly"
       },
       "data": [
        {
         "error_y": {
          "array": [
           8.09,
           9.78,
           10.867
          ],
          "arrayminus": [
           7.61,
           7.6053,
           9.783
          ],
          "symmetric": false,
          "thickness": 10,
          "type": "data",
          "width": 13
         },
         "marker": {
          "color": "black",
          "line": {
           "color": "black"
          },
          "size": 30,
          "symbol": "circle"
         },
         "mode": "markers",
         "name": "Experimental",
         "type": "scatter",
         "x": [
          1,
          4,
          5
         ],
         "y": [
          173.91,
          38.04,
          273.913
         ]
        },
        {
         "marker": {
          "color": "purple",
          "line": {
           "color": "black"
          },
          "size": 30,
          "symbol": "cross"
         },
         "mode": "markers",
         "name": "SBES",
         "type": "scatter",
         "x": [
          1.45,
          4.45,
          5.45
         ],
         "y": [
          153.4542686,
          52.65779091,
          301.6907862
         ]
        },
        {
         "marker": {
          "color": "red",
          "line": {
           "color": "black"
          },
          "size": 30,
          "symbol": "triangle-right"
         },
         "mode": "markers",
         "name": "SBES",
         "type": "scatter",
         "x": [
          1.25,
          4.25,
          5.25
         ],
         "y": [
          188.3508009,
          85.30576332,
          293.088806
         ]
        },
        {
         "marker": {
          "color": "blue",
          "line": {
           "color": "black"
          },
          "size": 30,
          "symbol": "x"
         },
         "mode": "markers",
         "name": "IDDES",
         "type": "scatter",
         "x": [
          1.35,
          4.35,
          5.35
         ],
         "y": [
          189.55164,
          87.31923063,
          299.14356
         ]
        },
        {
         "marker": {
          "color": "green",
          "line": {
           "color": "black"
          },
          "size": 30,
          "symbol": "diamond"
         },
         "mode": "markers",
         "name": "KW-SST",
         "type": "scatter",
         "x": [
          1.15,
          4.15,
          5.15
         ],
         "y": [
          179.4164525,
          61.847513,
          284.3971587
         ]
        }
       ],
       "layout": {
        "font": {
         "family": "Arial",
         "size": 50
        },
        "height": 1000,
        "legend": {
         "title": {}
        },
        "template": {
         "data": {
          "bar": [
           {
            "error_x": {
             "color": "#2a3f5f"
            },
            "error_y": {
             "color": "#2a3f5f"
            },
            "marker": {
             "line": {
              "color": "#E5ECF6",
              "width": 0.5
             }
            },
            "type": "bar"
           }
          ],
          "barpolar": [
           {
            "marker": {
             "line": {
              "color": "#E5ECF6",
              "width": 0.5
             }
            },
            "type": "barpolar"
           }
          ],
          "carpet": [
           {
            "aaxis": {
             "endlinecolor": "#2a3f5f",
             "gridcolor": "white",
             "linecolor": "white",
             "minorgridcolor": "white",
             "startlinecolor": "#2a3f5f"
            },
            "baxis": {
             "endlinecolor": "#2a3f5f",
             "gridcolor": "white",
             "linecolor": "white",
             "minorgridcolor": "white",
             "startlinecolor": "#2a3f5f"
            },
            "type": "carpet"
           }
          ],
          "choropleth": [
           {
            "colorbar": {
             "outlinewidth": 0,
             "ticks": ""
            },
            "type": "choropleth"
           }
          ],
          "contour": [
           {
            "colorbar": {
             "outlinewidth": 0,
             "ticks": ""
            },
            "colorscale": [
             [
              0.0,
              "#0d0887"
             ],
             [
              0.1111111111111111,
              "#46039f"
             ],
             [
              0.2222222222222222,
              "#7201a8"
             ],
             [
              0.3333333333333333,
              "#9c179e"
             ],
             [
              0.4444444444444444,
              "#bd3786"
             ],
             [
              0.5555555555555556,
              "#d8576b"
             ],
             [
              0.6666666666666666,
              "#ed7953"
             ],
             [
              0.7777777777777778,
              "#fb9f3a"
             ],
             [
              0.8888888888888888,
              "#fdca26"
             ],
             [
              1.0,
              "#f0f921"
             ]
            ],
            "type": "contour"
           }
          ],
          "contourcarpet": [
           {
            "colorbar": {
             "outlinewidth": 0,
             "ticks": ""
            },
            "type": "contourcarpet"
           }
          ],
          "heatmap": [
           {
            "colorbar": {
             "outlinewidth": 0,
             "ticks": ""
            },
            "colorscale": [
             [
              0.0,
              "#0d0887"
             ],
             [
              0.1111111111111111,
              "#46039f"
             ],
             [
              0.2222222222222222,
              "#7201a8"
             ],
             [
              0.3333333333333333,
              "#9c179e"
             ],
             [
              0.4444444444444444,
              "#bd3786"
             ],
             [
              0.5555555555555556,
              "#d8576b"
             ],
             [
              0.6666666666666666,
              "#ed7953"
             ],
             [
              0.7777777777777778,
              "#fb9f3a"
             ],
             [
              0.8888888888888888,
              "#fdca26"
             ],
             [
              1.0,
              "#f0f921"
             ]
            ],
            "type": "heatmap"
           }
          ],
          "heatmapgl": [
           {
            "colorbar": {
             "outlinewidth": 0,
             "ticks": ""
            },
            "colorscale": [
             [
              0.0,
              "#0d0887"
             ],
             [
              0.1111111111111111,
              "#46039f"
             ],
             [
              0.2222222222222222,
              "#7201a8"
             ],
             [
              0.3333333333333333,
              "#9c179e"
             ],
             [
              0.4444444444444444,
              "#bd3786"
             ],
             [
              0.5555555555555556,
              "#d8576b"
             ],
             [
              0.6666666666666666,
              "#ed7953"
             ],
             [
              0.7777777777777778,
              "#fb9f3a"
             ],
             [
              0.8888888888888888,
              "#fdca26"
             ],
             [
              1.0,
              "#f0f921"
             ]
            ],
            "type": "heatmapgl"
           }
          ],
          "histogram": [
           {
            "marker": {
             "colorbar": {
              "outlinewidth": 0,
              "ticks": ""
             }
            },
            "type": "histogram"
           }
          ],
          "histogram2d": [
           {
            "colorbar": {
             "outlinewidth": 0,
             "ticks": ""
            },
            "colorscale": [
             [
              0.0,
              "#0d0887"
             ],
             [
              0.1111111111111111,
              "#46039f"
             ],
             [
              0.2222222222222222,
              "#7201a8"
             ],
             [
              0.3333333333333333,
              "#9c179e"
             ],
             [
              0.4444444444444444,
              "#bd3786"
             ],
             [
              0.5555555555555556,
              "#d8576b"
             ],
             [
              0.6666666666666666,
              "#ed7953"
             ],
             [
              0.7777777777777778,
              "#fb9f3a"
             ],
             [
              0.8888888888888888,
              "#fdca26"
             ],
             [
              1.0,
              "#f0f921"
             ]
            ],
            "type": "histogram2d"
           }
          ],
          "histogram2dcontour": [
           {
            "colorbar": {
             "outlinewidth": 0,
             "ticks": ""
            },
            "colorscale": [
             [
              0.0,
              "#0d0887"
             ],
             [
              0.1111111111111111,
              "#46039f"
             ],
             [
              0.2222222222222222,
              "#7201a8"
             ],
             [
              0.3333333333333333,
              "#9c179e"
             ],
             [
              0.4444444444444444,
              "#bd3786"
             ],
             [
              0.5555555555555556,
              "#d8576b"
             ],
             [
              0.6666666666666666,
              "#ed7953"
             ],
             [
              0.7777777777777778,
              "#fb9f3a"
             ],
             [
              0.8888888888888888,
              "#fdca26"
             ],
             [
              1.0,
              "#f0f921"
             ]
            ],
            "type": "histogram2dcontour"
           }
          ],
          "mesh3d": [
           {
            "colorbar": {
             "outlinewidth": 0,
             "ticks": ""
            },
            "type": "mesh3d"
           }
          ],
          "parcoords": [
           {
            "line": {
             "colorbar": {
              "outlinewidth": 0,
              "ticks": ""
             }
            },
            "type": "parcoords"
           }
          ],
          "pie": [
           {
            "automargin": true,
            "type": "pie"
           }
          ],
          "scatter": [
           {
            "marker": {
             "colorbar": {
              "outlinewidth": 0,
              "ticks": ""
             }
            },
            "type": "scatter"
           }
          ],
          "scatter3d": [
           {
            "line": {
             "colorbar": {
              "outlinewidth": 0,
              "ticks": ""
             }
            },
            "marker": {
             "colorbar": {
              "outlinewidth": 0,
              "ticks": ""
             }
            },
            "type": "scatter3d"
           }
          ],
          "scattercarpet": [
           {
            "marker": {
             "colorbar": {
              "outlinewidth": 0,
              "ticks": ""
             }
            },
            "type": "scattercarpet"
           }
          ],
          "scattergeo": [
           {
            "marker": {
             "colorbar": {
              "outlinewidth": 0,
              "ticks": ""
             }
            },
            "type": "scattergeo"
           }
          ],
          "scattergl": [
           {
            "marker": {
             "colorbar": {
              "outlinewidth": 0,
              "ticks": ""
             }
            },
            "type": "scattergl"
           }
          ],
          "scattermapbox": [
           {
            "marker": {
             "colorbar": {
              "outlinewidth": 0,
              "ticks": ""
             }
            },
            "type": "scattermapbox"
           }
          ],
          "scatterpolar": [
           {
            "marker": {
             "colorbar": {
              "outlinewidth": 0,
              "ticks": ""
             }
            },
            "type": "scatterpolar"
           }
          ],
          "scatterpolargl": [
           {
            "marker": {
             "colorbar": {
              "outlinewidth": 0,
              "ticks": ""
             }
            },
            "type": "scatterpolargl"
           }
          ],
          "scatterternary": [
           {
            "marker": {
             "colorbar": {
              "outlinewidth": 0,
              "ticks": ""
             }
            },
            "type": "scatterternary"
           }
          ],
          "surface": [
           {
            "colorbar": {
             "outlinewidth": 0,
             "ticks": ""
            },
            "colorscale": [
             [
              0.0,
              "#0d0887"
             ],
             [
              0.1111111111111111,
              "#46039f"
             ],
             [
              0.2222222222222222,
              "#7201a8"
             ],
             [
              0.3333333333333333,
              "#9c179e"
             ],
             [
              0.4444444444444444,
              "#bd3786"
             ],
             [
              0.5555555555555556,
              "#d8576b"
             ],
             [
              0.6666666666666666,
              "#ed7953"
             ],
             [
              0.7777777777777778,
              "#fb9f3a"
             ],
             [
              0.8888888888888888,
              "#fdca26"
             ],
             [
              1.0,
              "#f0f921"
             ]
            ],
            "type": "surface"
           }
          ],
          "table": [
           {
            "cells": {
             "fill": {
              "color": "#EBF0F8"
             },
             "line": {
              "color": "white"
             }
            },
            "header": {
             "fill": {
              "color": "#C8D4E3"
             },
             "line": {
              "color": "white"
             }
            },
            "type": "table"
           }
          ]
         },
         "layout": {
          "annotationdefaults": {
           "arrowcolor": "#2a3f5f",
           "arrowhead": 0,
           "arrowwidth": 1
          },
          "coloraxis": {
           "colorbar": {
            "outlinewidth": 0,
            "ticks": ""
           }
          },
          "colorscale": {
           "diverging": [
            [
             0,
             "#8e0152"
            ],
            [
             0.1,
             "#c51b7d"
            ],
            [
             0.2,
             "#de77ae"
            ],
            [
             0.3,
             "#f1b6da"
            ],
            [
             0.4,
             "#fde0ef"
            ],
            [
             0.5,
             "#f7f7f7"
            ],
            [
             0.6,
             "#e6f5d0"
            ],
            [
             0.7,
             "#b8e186"
            ],
            [
             0.8,
             "#7fbc41"
            ],
            [
             0.9,
             "#4d9221"
            ],
            [
             1,
             "#276419"
            ]
           ],
           "sequential": [
            [
             0.0,
             "#0d0887"
            ],
            [
             0.1111111111111111,
             "#46039f"
            ],
            [
             0.2222222222222222,
             "#7201a8"
            ],
            [
             0.3333333333333333,
             "#9c179e"
            ],
            [
             0.4444444444444444,
             "#bd3786"
            ],
            [
             0.5555555555555556,
             "#d8576b"
            ],
            [
             0.6666666666666666,
             "#ed7953"
            ],
            [
             0.7777777777777778,
             "#fb9f3a"
            ],
            [
             0.8888888888888888,
             "#fdca26"
            ],
            [
             1.0,
             "#f0f921"
            ]
           ],
           "sequentialminus": [
            [
             0.0,
             "#0d0887"
            ],
            [
             0.1111111111111111,
             "#46039f"
            ],
            [
             0.2222222222222222,
             "#7201a8"
            ],
            [
             0.3333333333333333,
             "#9c179e"
            ],
            [
             0.4444444444444444,
             "#bd3786"
            ],
            [
             0.5555555555555556,
             "#d8576b"
            ],
            [
             0.6666666666666666,
             "#ed7953"
            ],
            [
             0.7777777777777778,
             "#fb9f3a"
            ],
            [
             0.8888888888888888,
             "#fdca26"
            ],
            [
             1.0,
             "#f0f921"
            ]
           ]
          },
          "colorway": [
           "#636efa",
           "#EF553B",
           "#00cc96",
           "#ab63fa",
           "#FFA15A",
           "#19d3f3",
           "#FF6692",
           "#B6E880",
           "#FF97FF",
           "#FECB52"
          ],
          "font": {
           "color": "#2a3f5f"
          },
          "geo": {
           "bgcolor": "white",
           "lakecolor": "white",
           "landcolor": "#E5ECF6",
           "showlakes": true,
           "showland": true,
           "subunitcolor": "white"
          },
          "hoverlabel": {
           "align": "left"
          },
          "hovermode": "closest",
          "mapbox": {
           "style": "light"
          },
          "paper_bgcolor": "white",
          "plot_bgcolor": "#E5ECF6",
          "polar": {
           "angularaxis": {
            "gridcolor": "white",
            "linecolor": "white",
            "ticks": ""
           },
           "bgcolor": "#E5ECF6",
           "radialaxis": {
            "gridcolor": "white",
            "linecolor": "white",
            "ticks": ""
           }
          },
          "scene": {
           "xaxis": {
            "backgroundcolor": "#E5ECF6",
            "gridcolor": "white",
            "gridwidth": 2,
            "linecolor": "white",
            "showbackground": true,
            "ticks": "",
            "zerolinecolor": "white"
           },
           "yaxis": {
            "backgroundcolor": "#E5ECF6",
            "gridcolor": "white",
            "gridwidth": 2,
            "linecolor": "white",
            "showbackground": true,
            "ticks": "",
            "zerolinecolor": "white"
           },
           "zaxis": {
            "backgroundcolor": "#E5ECF6",
            "gridcolor": "white",
            "gridwidth": 2,
            "linecolor": "white",
            "showbackground": true,
            "ticks": "",
            "zerolinecolor": "white"
           }
          },
          "shapedefaults": {
           "line": {
            "color": "#2a3f5f"
           }
          },
          "ternary": {
           "aaxis": {
            "gridcolor": "white",
            "linecolor": "white",
            "ticks": ""
           },
           "baxis": {
            "gridcolor": "white",
            "linecolor": "white",
            "ticks": ""
           },
           "bgcolor": "#E5ECF6",
           "caxis": {
            "gridcolor": "white",
            "linecolor": "white",
            "ticks": ""
           }
          },
          "title": {
           "x": 0.05
          },
          "xaxis": {
           "automargin": true,
           "gridcolor": "white",
           "linecolor": "white",
           "ticks": "",
           "title": {
            "standoff": 15
           },
           "zerolinecolor": "white",
           "zerolinewidth": 2
          },
          "yaxis": {
           "automargin": true,
           "gridcolor": "white",
           "linecolor": "white",
           "ticks": "",
           "title": {
            "standoff": 15
           },
           "zerolinecolor": "white",
           "zerolinewidth": 2
          }
         }
        },
        "title": {
         "text": "Case Comparison: Average Pressure Head Rise"
        },
        "width": 1674,
        "xaxis": {
         "title": {
          "text": "Case Condition"
         }
        },
        "yaxis": {
         "title": {
          "text": "Pressure Head (mmHg)"
         }
        }
       }
      },
      "text/html": "<div>\n        \n        \n            <div id=\"ae2bd39c-c557-4f27-82be-bf162b3c9c5b\" class=\"plotly-graph-div\" style=\"height:1000px; width:1674px;\"></div>\n            <script type=\"text/javascript\">\n                require([\"plotly\"], function(Plotly) {\n                    window.PLOTLYENV=window.PLOTLYENV || {};\n                    \n                if (document.getElementById(\"ae2bd39c-c557-4f27-82be-bf162b3c9c5b\")) {\n                    Plotly.newPlot(\n                        'ae2bd39c-c557-4f27-82be-bf162b3c9c5b',\n                        [{\"error_y\": {\"array\": [8.09, 9.78, 10.867], \"arrayminus\": [7.61, 7.6053, 9.783], \"symmetric\": false, \"thickness\": 10, \"type\": \"data\", \"width\": 13}, \"marker\": {\"color\": \"black\", \"line\": {\"color\": \"black\"}, \"size\": 30, \"symbol\": \"circle\"}, \"mode\": \"markers\", \"name\": \"Experimental\", \"type\": \"scatter\", \"x\": [1, 4, 5], \"y\": [173.91, 38.04, 273.913]}, {\"marker\": {\"color\": \"purple\", \"line\": {\"color\": \"black\"}, \"size\": 30, \"symbol\": \"cross\"}, \"mode\": \"markers\", \"name\": \"SBES\", \"type\": \"scatter\", \"x\": [1.45, 4.45, 5.45], \"y\": [153.4542686, 52.65779091, 301.6907862]}, {\"marker\": {\"color\": \"red\", \"line\": {\"color\": \"black\"}, \"size\": 30, \"symbol\": \"triangle-right\"}, \"mode\": \"markers\", \"name\": \"SBES\", \"type\": \"scatter\", \"x\": [1.25, 4.25, 5.25], \"y\": [188.3508009, 85.30576332, 293.088806]}, {\"marker\": {\"color\": \"blue\", \"line\": {\"color\": \"black\"}, \"size\": 30, \"symbol\": \"x\"}, \"mode\": \"markers\", \"name\": \"IDDES\", \"type\": \"scatter\", \"x\": [1.35, 4.35, 5.35], \"y\": [189.55164, 87.31923063, 299.14356]}, {\"marker\": {\"color\": \"green\", \"line\": {\"color\": \"black\"}, \"size\": 30, \"symbol\": \"diamond\"}, \"mode\": \"markers\", \"name\": \"KW-SST\", \"type\": \"scatter\", \"x\": [1.15, 4.15, 5.15], \"y\": [179.4164525, 61.847513, 284.3971587]}],\n                        {\"font\": {\"family\": \"Arial\", \"size\": 50}, \"height\": 1000, \"legend\": {\"title\": {}}, \"template\": {\"data\": {\"bar\": [{\"error_x\": {\"color\": \"#2a3f5f\"}, \"error_y\": {\"color\": \"#2a3f5f\"}, \"marker\": {\"line\": {\"color\": \"#E5ECF6\", \"width\": 0.5}}, \"type\": \"bar\"}], \"barpolar\": [{\"marker\": {\"line\": {\"color\": \"#E5ECF6\", \"width\": 0.5}}, \"type\": \"barpolar\"}], \"carpet\": [{\"aaxis\": {\"endlinecolor\": \"#2a3f5f\", \"gridcolor\": \"white\", \"linecolor\": \"white\", \"minorgridcolor\": \"white\", \"startlinecolor\": \"#2a3f5f\"}, \"baxis\": {\"endlinecolor\": \"#2a3f5f\", \"gridcolor\": \"white\", \"linecolor\": \"white\", \"minorgridcolor\": \"white\", \"startlinecolor\": \"#2a3f5f\"}, \"type\": \"carpet\"}], \"choropleth\": [{\"colorbar\": {\"outlinewidth\": 0, \"ticks\": \"\"}, \"type\": \"choropleth\"}], \"contour\": [{\"colorbar\": {\"outlinewidth\": 0, \"ticks\": \"\"}, \"colorscale\": [[0.0, \"#0d0887\"], [0.1111111111111111, \"#46039f\"], [0.2222222222222222, \"#7201a8\"], [0.3333333333333333, \"#9c179e\"], [0.4444444444444444, \"#bd3786\"], [0.5555555555555556, \"#d8576b\"], [0.6666666666666666, \"#ed7953\"], [0.7777777777777778, \"#fb9f3a\"], [0.8888888888888888, \"#fdca26\"], [1.0, \"#f0f921\"]], \"type\": \"contour\"}], \"contourcarpet\": [{\"colorbar\": {\"outlinewidth\": 0, \"ticks\": \"\"}, \"type\": \"contourcarpet\"}], \"heatmap\": [{\"colorbar\": {\"outlinewidth\": 0, \"ticks\": \"\"}, \"colorscale\": [[0.0, \"#0d0887\"], [0.1111111111111111, \"#46039f\"], [0.2222222222222222, \"#7201a8\"], [0.3333333333333333, \"#9c179e\"], [0.4444444444444444, \"#bd3786\"], [0.5555555555555556, \"#d8576b\"], [0.6666666666666666, \"#ed7953\"], [0.7777777777777778, \"#fb9f3a\"], [0.8888888888888888, \"#fdca26\"], [1.0, \"#f0f921\"]], \"type\": \"heatmap\"}], \"heatmapgl\": [{\"colorbar\": {\"outlinewidth\": 0, \"ticks\": \"\"}, \"colorscale\": [[0.0, \"#0d0887\"], [0.1111111111111111, \"#46039f\"], [0.2222222222222222, \"#7201a8\"], [0.3333333333333333, \"#9c179e\"], [0.4444444444444444, \"#bd3786\"], [0.5555555555555556, \"#d8576b\"], [0.6666666666666666, \"#ed7953\"], [0.7777777777777778, \"#fb9f3a\"], [0.8888888888888888, \"#fdca26\"], [1.0, \"#f0f921\"]], \"type\": \"heatmapgl\"}], \"histogram\": [{\"marker\": {\"colorbar\": {\"outlinewidth\": 0, \"ticks\": \"\"}}, \"type\": \"histogram\"}], \"histogram2d\": [{\"colorbar\": {\"outlinewidth\": 0, \"ticks\": \"\"}, \"colorscale\": [[0.0, \"#0d0887\"], [0.1111111111111111, \"#46039f\"], [0.2222222222222222, \"#7201a8\"], [0.3333333333333333, \"#9c179e\"], [0.4444444444444444, \"#bd3786\"], [0.5555555555555556, \"#d8576b\"], [0.6666666666666666, \"#ed7953\"], [0.7777777777777778, \"#fb9f3a\"], [0.8888888888888888, \"#fdca26\"], [1.0, \"#f0f921\"]], \"type\": \"histogram2d\"}], \"histogram2dcontour\": [{\"colorbar\": {\"outlinewidth\": 0, \"ticks\": \"\"}, \"colorscale\": [[0.0, \"#0d0887\"], [0.1111111111111111, \"#46039f\"], [0.2222222222222222, \"#7201a8\"], [0.3333333333333333, \"#9c179e\"], [0.4444444444444444, \"#bd3786\"], [0.5555555555555556, \"#d8576b\"], [0.6666666666666666, \"#ed7953\"], [0.7777777777777778, \"#fb9f3a\"], [0.8888888888888888, \"#fdca26\"], [1.0, \"#f0f921\"]], \"type\": \"histogram2dcontour\"}], \"mesh3d\": [{\"colorbar\": {\"outlinewidth\": 0, \"ticks\": \"\"}, \"type\": \"mesh3d\"}], \"parcoords\": [{\"line\": {\"colorbar\": {\"outlinewidth\": 0, \"ticks\": \"\"}}, \"type\": \"parcoords\"}], \"pie\": [{\"automargin\": true, \"type\": \"pie\"}], \"scatter\": [{\"marker\": {\"colorbar\": {\"outlinewidth\": 0, \"ticks\": \"\"}}, \"type\": \"scatter\"}], \"scatter3d\": [{\"line\": {\"colorbar\": {\"outlinewidth\": 0, \"ticks\": \"\"}}, \"marker\": {\"colorbar\": {\"outlinewidth\": 0, \"ticks\": \"\"}}, \"type\": \"scatter3d\"}], \"scattercarpet\": [{\"marker\": {\"colorbar\": {\"outlinewidth\": 0, \"ticks\": \"\"}}, \"type\": \"scattercarpet\"}], \"scattergeo\": [{\"marker\": {\"colorbar\": {\"outlinewidth\": 0, \"ticks\": \"\"}}, \"type\": \"scattergeo\"}], \"scattergl\": [{\"marker\": {\"colorbar\": {\"outlinewidth\": 0, \"ticks\": \"\"}}, \"type\": \"scattergl\"}], \"scattermapbox\": [{\"marker\": {\"colorbar\": {\"outlinewidth\": 0, \"ticks\": \"\"}}, \"type\": \"scattermapbox\"}], \"scatterpolar\": [{\"marker\": {\"colorbar\": {\"outlinewidth\": 0, \"ticks\": \"\"}}, \"type\": \"scatterpolar\"}], \"scatterpolargl\": [{\"marker\": {\"colorbar\": {\"outlinewidth\": 0, \"ticks\": \"\"}}, \"type\": \"scatterpolargl\"}], \"scatterternary\": [{\"marker\": {\"colorbar\": {\"outlinewidth\": 0, \"ticks\": \"\"}}, \"type\": \"scatterternary\"}], \"surface\": [{\"colorbar\": {\"outlinewidth\": 0, \"ticks\": \"\"}, \"colorscale\": [[0.0, \"#0d0887\"], [0.1111111111111111, \"#46039f\"], [0.2222222222222222, \"#7201a8\"], [0.3333333333333333, \"#9c179e\"], [0.4444444444444444, \"#bd3786\"], [0.5555555555555556, \"#d8576b\"], [0.6666666666666666, \"#ed7953\"], [0.7777777777777778, \"#fb9f3a\"], [0.8888888888888888, \"#fdca26\"], [1.0, \"#f0f921\"]], \"type\": \"surface\"}], \"table\": [{\"cells\": {\"fill\": {\"color\": \"#EBF0F8\"}, \"line\": {\"color\": \"white\"}}, \"header\": {\"fill\": {\"color\": \"#C8D4E3\"}, \"line\": {\"color\": \"white\"}}, \"type\": \"table\"}]}, \"layout\": {\"annotationdefaults\": {\"arrowcolor\": \"#2a3f5f\", \"arrowhead\": 0, \"arrowwidth\": 1}, \"coloraxis\": {\"colorbar\": {\"outlinewidth\": 0, \"ticks\": \"\"}}, \"colorscale\": {\"diverging\": [[0, \"#8e0152\"], [0.1, \"#c51b7d\"], [0.2, \"#de77ae\"], [0.3, \"#f1b6da\"], [0.4, \"#fde0ef\"], [0.5, \"#f7f7f7\"], [0.6, \"#e6f5d0\"], [0.7, \"#b8e186\"], [0.8, \"#7fbc41\"], [0.9, \"#4d9221\"], [1, \"#276419\"]], \"sequential\": [[0.0, \"#0d0887\"], [0.1111111111111111, \"#46039f\"], [0.2222222222222222, \"#7201a8\"], [0.3333333333333333, \"#9c179e\"], [0.4444444444444444, \"#bd3786\"], [0.5555555555555556, \"#d8576b\"], [0.6666666666666666, \"#ed7953\"], [0.7777777777777778, \"#fb9f3a\"], [0.8888888888888888, \"#fdca26\"], [1.0, \"#f0f921\"]], \"sequentialminus\": [[0.0, \"#0d0887\"], [0.1111111111111111, \"#46039f\"], [0.2222222222222222, \"#7201a8\"], [0.3333333333333333, \"#9c179e\"], [0.4444444444444444, \"#bd3786\"], [0.5555555555555556, \"#d8576b\"], [0.6666666666666666, \"#ed7953\"], [0.7777777777777778, \"#fb9f3a\"], [0.8888888888888888, \"#fdca26\"], [1.0, \"#f0f921\"]]}, \"colorway\": [\"#636efa\", \"#EF553B\", \"#00cc96\", \"#ab63fa\", \"#FFA15A\", \"#19d3f3\", \"#FF6692\", \"#B6E880\", \"#FF97FF\", \"#FECB52\"], \"font\": {\"color\": \"#2a3f5f\"}, \"geo\": {\"bgcolor\": \"white\", \"lakecolor\": \"white\", \"landcolor\": \"#E5ECF6\", \"showlakes\": true, \"showland\": true, \"subunitcolor\": \"white\"}, \"hoverlabel\": {\"align\": \"left\"}, \"hovermode\": \"closest\", \"mapbox\": {\"style\": \"light\"}, \"paper_bgcolor\": \"white\", \"plot_bgcolor\": \"#E5ECF6\", \"polar\": {\"angularaxis\": {\"gridcolor\": \"white\", \"linecolor\": \"white\", \"ticks\": \"\"}, \"bgcolor\": \"#E5ECF6\", \"radialaxis\": {\"gridcolor\": \"white\", \"linecolor\": \"white\", \"ticks\": \"\"}}, \"scene\": {\"xaxis\": {\"backgroundcolor\": \"#E5ECF6\", \"gridcolor\": \"white\", \"gridwidth\": 2, \"linecolor\": \"white\", \"showbackground\": true, \"ticks\": \"\", \"zerolinecolor\": \"white\"}, \"yaxis\": {\"backgroundcolor\": \"#E5ECF6\", \"gridcolor\": \"white\", \"gridwidth\": 2, \"linecolor\": \"white\", \"showbackground\": true, \"ticks\": \"\", \"zerolinecolor\": \"white\"}, \"zaxis\": {\"backgroundcolor\": \"#E5ECF6\", \"gridcolor\": \"white\", \"gridwidth\": 2, \"linecolor\": \"white\", \"showbackground\": true, \"ticks\": \"\", \"zerolinecolor\": \"white\"}}, \"shapedefaults\": {\"line\": {\"color\": \"#2a3f5f\"}}, \"ternary\": {\"aaxis\": {\"gridcolor\": \"white\", \"linecolor\": \"white\", \"ticks\": \"\"}, \"baxis\": {\"gridcolor\": \"white\", \"linecolor\": \"white\", \"ticks\": \"\"}, \"bgcolor\": \"#E5ECF6\", \"caxis\": {\"gridcolor\": \"white\", \"linecolor\": \"white\", \"ticks\": \"\"}}, \"title\": {\"x\": 0.05}, \"xaxis\": {\"automargin\": true, \"gridcolor\": \"white\", \"linecolor\": \"white\", \"ticks\": \"\", \"title\": {\"standoff\": 15}, \"zerolinecolor\": \"white\", \"zerolinewidth\": 2}, \"yaxis\": {\"automargin\": true, \"gridcolor\": \"white\", \"linecolor\": \"white\", \"ticks\": \"\", \"title\": {\"standoff\": 15}, \"zerolinecolor\": \"white\", \"zerolinewidth\": 2}}}, \"title\": {\"text\": \"Case Comparison: Average Pressure Head Rise\"}, \"width\": 1674, \"xaxis\": {\"title\": {\"text\": \"Case Condition\"}}, \"yaxis\": {\"title\": {\"text\": \"Pressure Head (mmHg)\"}}},\n                        {\"responsive\": true}\n                    ).then(function(){\n                            \nvar gd = document.getElementById('ae2bd39c-c557-4f27-82be-bf162b3c9c5b');\nvar x = new MutationObserver(function (mutations, observer) {{\n        var display = window.getComputedStyle(gd).display;\n        if (!display || display === 'none') {{\n            console.log([gd, 'removed!']);\n            Plotly.purge(gd);\n            observer.disconnect();\n        }}\n}});\n\n// Listen for the removal of the full notebook cells\nvar notebookContainer = gd.closest('#notebook-container');\nif (notebookContainer) {{\n    x.observe(notebookContainer, {childList: true});\n}}\n\n// Listen for the clearing of the current output cell\nvar outputEl = gd.closest('.output');\nif (outputEl) {{\n    x.observe(outputEl, {childList: true});\n}}\n\n                        })\n                };\n                });\n            </script>\n        </div>"
     },
     "metadata": {},
     "output_type": "display_data"
    }
   ],
   "source": [
    "color10_16 = ['#636EFA', '#EF553B', '#00CC96', '#AB63FA', '#FFA15A', '#19D3F3', '#FF6692', '#B6E880', '#FF97FF',\n",
    "              '#FECB52']\n",
    "\n",
    "fig = go.Figure()\n",
    "sbes_x = [1.25, 4.25, 5.25]\n",
    "# sbes_y = [195.0517289, 91.26441309, 300.0389234]\n",
    "sbes_y = [188.3508009, 85.30576332, 293.088806]\n",
    "iddes_x = [1.35, 4.35, 5.35]\n",
    "iddes_y = [189.55164, 87.31923063, 299.14356]\n",
    "kw_x = [1.15, 4.15, 5.15]\n",
    "kw_y = [179.4164525, 61.847513, 284.3971587]\n",
    "kwss_x = [1.45, 4.45, 5.45]\n",
    "kwss_y = [153.4542686, 52.65779091,301.6907862]\n",
    "\n",
    "experimental_x = [1, 4, 5]\n",
    "experimental_y = [173.91, 38.04, 273.913]\n",
    "\n",
    "\n",
    "\n",
    "fig.add_trace(go.Scatter(x=experimental_x,\n",
    "                         y=experimental_y,\n",
    "                         mode='markers',\n",
    "                         name='Experimental',\n",
    "                         error_y=dict(\n",
    "                             type='data',\n",
    "                             symmetric=False,\n",
    "                             array=[8.09, 9.78, 10.867],\n",
    "                             width = 13,\n",
    "                             thickness = 10,\n",
    "                             arrayminus=[7.61, 7.6053, 9.783]),\n",
    "                         marker=dict(\n",
    "                             color='black',\n",
    "                             size=30,\n",
    "                             line=dict(color='black'),\n",
    "                             symbol='circle'),\n",
    "\n",
    "                         ))\n",
    "\n",
    "# fig.add_trace(go.Scatter(x=kwss_x,\n",
    "#                          y=kwss_y,\n",
    "#                          mode='markers',\n",
    "#                          name='SBES',\n",
    "#                          marker=dict(\n",
    "#                              color='purple',\n",
    "#                              size=30,\n",
    "#                              line=dict(color='black'),\n",
    "#                              symbol='cross'),\n",
    "#                          ))\n",
    "\n",
    "fig.add_trace(go.Scatter(x=sbes_x,\n",
    "                         y=sbes_y,\n",
    "                         mode='markers',\n",
    "                         name='SBES',\n",
    "                         marker=dict(\n",
    "                             color='red',\n",
    "                             size=30,\n",
    "                             line=dict(color='black'),\n",
    "                             symbol='triangle-right'),\n",
    "                         ))\n",
    "\n",
    "fig.add_trace(go.Scatter(x=iddes_x,\n",
    "                         y=iddes_y,\n",
    "                         mode='markers',\n",
    "                         name='IDDES',\n",
    "                         marker=dict(\n",
    "                             color='blue',\n",
    "                             size=30,\n",
    "                             line=dict(color='black'),\n",
    "                             symbol='x'),\n",
    "                         ))\n",
    "\n",
    "fig.add_trace(go.Scatter(x=kw_x,\n",
    "                         y=kw_y,\n",
    "                         mode='markers',\n",
    "                         name='KW-SST',\n",
    "                         marker=dict(\n",
    "                             color='green',\n",
    "                             size=30,\n",
    "                             line=dict(color='black'),\n",
    "                             symbol='diamond'),\n",
    "                         ))\n",
    "\n",
    "\n",
    "fig.update_layout(height=600, width=1605,\n",
    "                  title_text=\"Velocity Magnitude vs Experimental\",\n",
    "                  font=dict(\n",
    "                      family=\"Arial\",\n",
    "                      size=40),\n",
    "                  )\n",
    "fig.update_annotations(font_size=50)\n",
    "fig.update_layout(\n",
    "    title=\"Case Comparison: Average Pressure Head Rise\",\n",
    "    xaxis_title=\"Case Condition\",\n",
    "    yaxis_title=\"Pressure Head (mmHg)\",\n",
    "    legend_title=None, height=1000, width=1674,\n",
    "    font=dict(family=\"Arial\",size=50))\n",
    "fig.show()\n",
    "fig.write_image(r\"C:\\Users\\Joseph Tarriela\\Documents\\GitHub\\FDA_Blood_Pump\\postpro\\images\\pressure_wss.png\")"
   ],
   "metadata": {
    "collapsed": false,
    "pycharm": {
     "name": "#%% Pressure Head Rise Comparison\n"
    }
   }
  },
  {
   "cell_type": "code",
   "execution_count": 42,
   "outputs": [
    {
     "data": {
      "application/vnd.plotly.v1+json": {
       "config": {
        "plotlyServerURL": "https://plot.ly"
       },
       "data": [
        {
         "line": {
          "dash": "dash"
         },
         "marker": {
          "color": "red",
          "line": {
           "color": "red"
          },
          "size": 7,
          "symbol": "triangle-right"
         },
         "mode": "lines",
         "name": "SBES-ASCII",
         "type": "scatter",
         "x": [
          0.004006315132562008,
          0.004035238232972117,
          0.004056513976941254,
          0.004074573523937696,
          0.004096291446327512,
          0.004153872578805947,
          0.004197247054001896,
          0.004206311818406912,
          0.004326620294697583,
          0.004329752003591482,
          0.00438376319033238,
          0.0044175871555896026,
          0.004507801913979152,
          0.004515195437021271,
          0.0048613589778753385,
          0.0050381356821401,
          0.005214912374159849,
          0.0053916890703532595,
          0.005745242635343107,
          0.005922019319550215,
          0.0060987960116734435,
          0.006452349396006181,
          0.006629126112257259,
          0.006805902796395414,
          0.006982679480533487,
          0.0073362328728513735,
          0.00751300958103113,
          0.007689786257166873,
          0.007866562965329386,
          0.008220116349506914,
          0.008396893057790159,
          0.008573669741859294,
          0.008927223150250928,
          0.009103999818229076,
          0.009280776518423704,
          0.009457553218463123,
          0.00981110661083276,
          0.009987883303145728,
          0.010164660019241644,
          0.010341436695498123,
          0.010694990087833277,
          0.010871766787907168,
          0.011048543367721169,
          0.011225320268596194,
          0.011578873540602441,
          0.011755650288949312,
          0.01193242702120525,
          0.01210920365720838,
          0.012462757089710631,
          0.012639533757775049,
          0.012816310457814444,
          0.012993087126016772,
          0.013346640526388854,
          0.013523417242467492,
          0.013700193942679382,
          0.013876970610743809,
          0.014230524028983175,
          0.014407300710655088,
          0.014584077427682338,
          0.014760854127980425,
          0.01511440749615324,
          0.015291184165235184,
          0.015467960929345366,
          0.01564473757945616,
          0.015821514280444142,
          0.015998290965737794,
          0.01635184434960492,
          0.016528621017652068,
          0.016882174464986344,
          0.01705895114907275,
          0.017235727835573658,
          0.01741250454932405,
          0.017589281233927855,
          0.017942834634006696,
          0.018119611284979808,
          0.018296388003041838,
          0.018473164719724128,
          0.018826718103246327,
          0.01900349478698781,
          0.01918027147090174,
          0.019357048186894186,
          0.019710601603874604,
          0.01988737827140436,
          0.020064154957042956,
          0.020417708372471203,
          0.02059448502447909,
          0.020771261741161392,
          0.02094803845715384,
          0.02130159182618897,
          0.021478368509930446,
          0.021655145225405497,
          0.02183192192673841,
          0.022185475054839827,
          0.022362251848614,
          0.02253902845405636,
          0.022715804993617063,
          0.023069358265381902,
          0.02324613506139813,
          0.023422911826715544,
          0.023599688652568226,
          0.02395324189501406,
          0.02413001852856821,
          0.024306795199029882,
          0.024483571899155523,
          0.024837125491532858,
          0.02501390209663029,
          0.025190678763470208,
          0.025367455432034773,
          0.02572100876743922,
          0.025897785532584188,
          0.026074562330325044,
          0.026251338964913988,
          0.026590804313810768,
          0.02659632068968135,
          0.02672879009491241,
          0.02680587886240017,
          0.02685939366630038,
          0.026945710417353986,
          0.0270682154933973,
          0.02729725464888133,
          0.0273990761906888,
          0.027500900312918616,
          0.027602724467226936,
          0.027806370131264226,
          0.027908194285572542,
          0.028010018439880862,
          0.028111839949609824,
          0.02831548825822646,
          0.028417309846254575,
          0.02851913392226375,
          0.02862095807657207,
          0.028824603754751495,
          0.028926427894917683,
          0.029028252049226006,
          0.029130073637254107,
          0.029333721881713737,
          0.029435546021879932,
          0.02953715153877151,
          0.029609125194454168,
          0.02981023941621481,
          0.02984537145095264,
          0.02987661280033262,
          0.0299026595453081,
          0.029942472577957305,
          0.029957561083566377,
          0.029970134021963427,
          0.02998061540921242
         ],
         "xaxis": "x",
         "y": [
          1.0452992086829267,
          1.0377626866280487,
          1.0273166387317074,
          1.0148296744536585,
          0.9961959928756096,
          0.9361975280414634,
          0.9340256218899999,
          0.8645618239806451,
          0.78682861052,
          0.7390801472428572,
          0.79834971951,
          0.75734953366,
          0.6560728911428572,
          0.7254755997600001,
          0.6380296684243904,
          0.6308416509170731,
          0.619883264607317,
          0.6080387442951221,
          0.6032594681512196,
          0.6061787502512195,
          0.6069584240536585,
          0.6080309654609757,
          0.6154426035390244,
          0.6302363392585366,
          0.6483376453390244,
          0.6889963811390244,
          0.7124973573341463,
          0.7215021425170732,
          0.7239385569243902,
          0.7538683046390244,
          0.7729064040682927,
          0.7951577536609755,
          0.8890605822390244,
          0.8849288248999999,
          0.8983559555487804,
          0.9562138667463416,
          1.2041458285487805,
          1.3879374877902442,
          1.5603415168439023,
          1.7587032403414635,
          2.0257468904780493,
          2.1248886474439024,
          2.210172365148781,
          2.250507429365854,
          2.2992291470243904,
          2.3433710808536583,
          2.3918052754146344,
          2.462508040682927,
          2.5533634733902444,
          2.55843203202439,
          2.5954438678536587,
          2.6857927331951217,
          2.811015019609756,
          2.8569697434146337,
          2.9087255969268293,
          2.971458830829268,
          3.0849663927317077,
          3.1283803640487804,
          3.1720263415121948,
          3.2296179442195125,
          3.3323121980487804,
          3.3723750560975607,
          3.4085379614390243,
          3.442101546609756,
          3.484891884268293,
          3.534427275707317,
          3.6506395206585367,
          3.7064673852439034,
          3.7946538030487797,
          3.8402753542682926,
          3.891091587219512,
          3.94482197595122,
          4.001037804390244,
          4.119518002341463,
          4.177939347463414,
          4.231584523195122,
          4.282765777195122,
          4.387938336780486,
          4.4365527665609745,
          4.486141164878049,
          4.53913883395122,
          4.658339380682927,
          4.718150372512195,
          4.77829402897561,
          4.905657898682927,
          4.967386357024392,
          5.026745715365854,
          5.077461295341463,
          5.166346596268292,
          5.223156890487805,
          5.267715308487804,
          5.304853733463414,
          5.345977262414634,
          5.363743110853658,
          5.377593713292684,
          5.404438969902438,
          5.444928305,
          5.458413573585366,
          5.483224539560974,
          5.518787413292682,
          5.5194330826829265,
          5.5234465880731705,
          5.504932774609755,
          5.48402585,
          5.480590460804878,
          5.503343659170731,
          5.491169562463415,
          5.4419704484634135,
          5.467511803317073,
          5.461892769878047,
          5.449522679268292,
          5.39769047597561,
          5.38438630355,
          5.38060730152381,
          5.360930895365853,
          5.354606129146341,
          5.323320509073171,
          5.3056090607560975,
          5.261457548170732,
          5.222481686073171,
          5.188189351804878,
          5.149726878512196,
          5.112556184024389,
          5.032374761804879,
          4.985883832902439,
          4.951138055243902,
          4.916709227878049,
          4.86064080897561,
          4.818005411780488,
          4.790192035317073,
          4.754975245853658,
          4.6882319581951215,
          4.658091996414634,
          4.613843596707317,
          4.602008438658536,
          4.600431048097562,
          4.6035492344878035,
          4.613775693292683,
          4.602177778804878,
          4.423215877243902,
          4.130215493951218,
          3.774657503097561,
          3.3014775279268296,
          2.1955277996829268,
          1.6649317410731703,
          1.1914397144292683,
          0.7830530778390243
         ],
         "yaxis": "y"
        },
        {
         "line": {
          "dash": "dot"
         },
         "marker": {
          "color": "green",
          "line": {
           "color": "green"
          },
          "size": 7,
          "symbol": "x"
         },
         "mode": "lines",
         "name": "IDDES-ASCII",
         "type": "scatter",
         "x": [
          0.004006315132562008,
          0.004035238224935244,
          0.0040565139689043815,
          0.004096291458382821,
          0.004122420412127324,
          0.004197247054001896,
          0.004206311829036324,
          0.004326620294697583,
          0.004329752003591482,
          0.00438376319033238,
          0.004515195437021271,
          0.004684582273714052,
          0.0048613589778753385,
          0.005214912374159849,
          0.0053916890703532595,
          0.005745242635343107,
          0.005922019319550215,
          0.006275572719922158,
          0.006452349396006181,
          0.006805902796395414,
          0.006982679480533487,
          0.0073362328728513735,
          0.00751300958103113,
          0.007866562965329386,
          0.00804333965740091,
          0.008396893057790159,
          0.008750446433999805,
          0.008927223150250928,
          0.009280776518423704,
          0.009457553218463123,
          0.00981110661083276,
          0.009987883303145728,
          0.010341436695498123,
          0.010518213395554782,
          0.010871766787907168,
          0.011048543367721169,
          0.011402096920707571,
          0.011578873540602441,
          0.01193242702120525,
          0.01210920365720838,
          0.012462757089710631,
          0.012639533757775049,
          0.012993087126016772,
          0.013169863890316729,
          0.013523417242467492,
          0.013700193942679382,
          0.014053747326994931,
          0.014230524028983175,
          0.014584077427682338,
          0.014760854127980425,
          0.01511440749615324,
          0.015291184165235184,
          0.01564473757945616,
          0.015821514280444142,
          0.016175067679488175,
          0.01635184434960492,
          0.016705397749511294,
          0.016882174464986344,
          0.017235727835573658,
          0.01741250454932405,
          0.017766057918359182,
          0.017942834634006696,
          0.018296388003041838,
          0.018473164719724128,
          0.018826718103246327,
          0.01900349478698781,
          0.019357048186894186,
          0.01953382487236031,
          0.01988737827140436,
          0.020064154957042956,
          0.020417708372471203,
          0.02059448502447909,
          0.02094803845715384,
          0.021124815188323216,
          0.021478368509930446,
          0.021655145225405497,
          0.02200869859392324,
          0.022185475054839827,
          0.02253902845405636,
          0.022715804993617063,
          0.023069358265381902,
          0.02324613506139813,
          0.023599688652568226,
          0.023776465291296348,
          0.02413001852856821,
          0.024306795199029882,
          0.0246603487269053,
          0.024837125491532858,
          0.025190678763470208,
          0.025367455432034773,
          0.02572100876743922,
          0.025897785532584188,
          0.026251338964913988,
          0.02642811566469473,
          0.026728790030755404,
          0.026805878926557173,
          0.026945710417353986,
          0.0270682154933973,
          0.02729725464888133,
          0.027500900312918616,
          0.027602724467226936,
          0.027806370131264226,
          0.027908194285572542,
          0.028111839949609824,
          0.028213664103918144,
          0.0284173124125348,
          0.02851913392226375,
          0.0287227822308804,
          0.028824603754751495,
          0.028926427894917683,
          0.02913007613937732,
          0.029231897727405424,
          0.029435543391442706,
          0.02953715153877151,
          0.029726148487953626,
          0.02981023941621481,
          0.02987661280033262,
          0.0299026595453081,
          0.029942472513800288,
          0.029957561083566377,
          0.029980615473714355,
          0.029992993419483107
         ],
         "xaxis": "x",
         "y": [
          1.045636644707317,
          1.0400184790097562,
          1.0315560878853658,
          1.0051559121487803,
          0.9824071463219513,
          0.95076125754,
          0.881576957183871,
          0.82138220382,
          0.744401120047619,
          0.75377136333,
          0.6754142114849999,
          0.6001017842634147,
          0.5667411983146342,
          0.5563314636780488,
          0.5482999570243903,
          0.5511764835756098,
          0.5564034093975609,
          0.5629055984439024,
          0.5597226116146342,
          0.5617797745512195,
          0.5789178145560976,
          0.6286457123731707,
          0.6505895084804878,
          0.7115938464878049,
          0.7474935090390245,
          0.785107970497561,
          0.8068515430243903,
          0.8146577241585365,
          0.9562749492243902,
          1.0450911969926828,
          1.2511465556390244,
          1.399134938392683,
          1.7289048863219512,
          1.8919935846146343,
          2.0928113338609755,
          2.176376794912195,
          2.314112920097561,
          2.350475776,
          2.3707813114390244,
          2.407808466,
          2.552852279,
          2.6478877201219517,
          2.7586908735365854,
          2.8059339112439026,
          2.877516901195122,
          2.926960585170732,
          3.046007392707317,
          3.095654623975609,
          3.2009931292439027,
          3.245619531536585,
          3.3325516335121947,
          3.366611194292682,
          3.435868408560976,
          3.479912204512195,
          3.5608592655121947,
          3.6028608547073167,
          3.6858025770731695,
          3.7297558396097563,
          3.8496736312926827,
          3.9169905206829267,
          4.0358162990975615,
          4.092321047292683,
          4.20729075204878,
          4.266868285170732,
          4.3870221614146345,
          4.446512374682927,
          4.5609040324390255,
          4.6141395809512185,
          4.707780972390244,
          4.757386834121951,
          4.862863726634147,
          4.923863129634147,
          5.052073143487805,
          5.101736208195122,
          5.206911540609756,
          5.266784197243903,
          5.3604530413658535,
          5.4006408057560975,
          5.476517809951219,
          5.508855264585367,
          5.498271020853657,
          5.472482395878049,
          5.4839490945121945,
          5.498325660829269,
          5.5329853467317065,
          5.530584207170732,
          5.473172762097561,
          5.435309576536587,
          5.4362809538780485,
          5.441556164,
          5.401432990902438,
          5.378328715853659,
          5.331412680170732,
          5.3006090378536594,
          5.290754457097561,
          5.293730854926829,
          5.259471963243902,
          5.242526665390244,
          5.198569994634147,
          5.176847974439024,
          5.156464830707316,
          5.056828103902438,
          4.974707079804879,
          4.8488562660975605,
          4.836244478853659,
          4.792305502097562,
          4.754835743390244,
          4.710361808634146,
          4.693586132536585,
          4.685953255414634,
          4.6562048690731705,
          4.640323827658537,
          4.656963570512195,
          4.686651692317073,
          4.708201970756098,
          4.629028062268293,
          3.9427341043658535,
          3.4362206219756097,
          2.283000198902439,
          1.7368052206268294,
          0.8229099009780488,
          0.30686585404085365
         ],
         "yaxis": "y"
        },
        {
         "line": {
          "dash": "dashdot"
         },
         "marker": {
          "color": "blue",
          "line": {
           "color": "blue"
          },
          "size": 7,
          "symbol": "circle"
         },
         "mode": "lines",
         "name": "KW-SST-ASCII",
         "type": "scatter",
         "x": [
          0.004006314799649237,
          0.0040352372597983,
          0.0040745715880638675,
          0.0041224168547903855,
          0.004197246922197193,
          0.0043297926523386265,
          0.004383763322137084,
          0.00441758708968725,
          0.004684582411255817,
          0.005038135810475703,
          0.005391689176567628,
          0.005745242764973886,
          0.006098796131242592,
          0.006275572888623232,
          0.006629126304247997,
          0.0069826796704813435,
          0.007336233069559842,
          0.00768978640287743,
          0.00804333978544502,
          0.008396893184629623,
          0.008750446550863036,
          0.009103999950047608,
          0.009457553349055414,
          0.0098111067317644,
          0.010164660147389213,
          0.010518213497182396,
          0.010871766879891406,
          0.011225320509486752,
          0.011755650353192556,
          0.01210920380176863,
          0.012462757250344576,
          0.012816310501178213,
          0.013169864147319823,
          0.01352341723368041,
          0.013876970912631835,
          0.014230524001431863,
          0.014584077711637453,
          0.014937630862875013,
          0.015291184378272682,
          0.0156447376921448,
          0.015998291111022377,
          0.016351844494190988,
          0.016705397842711404,
          0.017058951289873232,
          0.017412504640161367,
          0.017766058089444557,
          0.01811961140473088,
          0.018473164822547832,
          0.01882671826970956,
          0.019180271552469097,
          0.019533825036046875,
          0.019887378384920863,
          0.020240931801677072,
          0.020594485150904583,
          0.02094803853301259,
          0.02130159204841018,
          0.021655145265762312,
          0.022008698814393927,
          0.02253902855839772,
          0.02289258161099391,
          0.02324613512568448,
          0.023599688968472525,
          0.02395324202177581,
          0.02430679507684696,
          0.02466034891963502,
          0.025013902370332342,
          0.025367455488335938,
          0.02572100867280761,
          0.0260745626495924,
          0.02642811589876428,
          0.02659080391924516,
          0.02659613272827404,
          0.026806008097805815,
          0.026945710417353986,
          0.02720748185686613,
          0.027399077473828932,
          0.027602724467226936,
          0.02780637013126422,
          0.02801001843988087,
          0.028213664103918144,
          0.028417312412534795,
          0.02862095807657207,
          0.028824603754751495,
          0.029028252049226003,
          0.02923189772740542,
          0.029435546021879932,
          0.029609125194454168,
          0.02981023941621481,
          0.029876612800332613,
          0.029924373083359924,
          0.029957561083566377,
          0.02998061540921242
         ],
         "xaxis": "x",
         "y": [
          1.0459018368500002,
          1.04127792354,
          1.02372391382,
          0.987566293415,
          0.9615004870799999,
          0.8618913467399999,
          0.86492043688,
          0.8006489535600001,
          0.771301635125,
          0.728237353285,
          0.691037075185,
          0.66026150291,
          0.6388981221600001,
          0.631829067005,
          0.6234825747449999,
          0.622959771155,
          0.6313558435000001,
          0.648130025215,
          0.6683827714249999,
          0.686932298425,
          0.7207910920049999,
          0.71290893902,
          0.872645181165,
          1.19826214329,
          1.508313084,
          1.8540024403,
          2.13053611845,
          2.3010088249000002,
          2.4069811553,
          2.52911183565,
          2.65201284325,
          2.7846105571,
          2.9384921679,
          3.04064571355,
          3.1073741530500003,
          3.1633290725,
          3.2184172130999995,
          3.2782694366000005,
          3.34981539255,
          3.4342912459500003,
          3.5248413336,
          3.61829901085,
          3.7157990199,
          3.81822965125,
          3.9251830914999997,
          4.0364591498,
          4.15558247125,
          4.2836149394000005,
          4.4129457332,
          4.53737386,
          4.6524687181000015,
          4.7613612272,
          4.87045051675,
          4.9734375550499985,
          5.075422113749998,
          5.1721427467500005,
          5.26958757315,
          5.369717970700001,
          5.5163785883,
          5.5750658842,
          5.59275641595,
          5.584305716549999,
          5.5555658459,
          5.5028575144500005,
          5.431056255750001,
          5.3495656705000005,
          5.2697018495000005,
          5.21113297575,
          5.165747952,
          5.131765458349999,
          5.0084031586,
          5.2325394555,
          5.1102734959500005,
          5.10625499255,
          5.1002503032,
          5.09357579035,
          5.07709624005,
          5.049834103,
          5.0116702071,
          4.9611256117,
          4.89504480225,
          4.8120023678,
          4.7133276220499996,
          4.6069133822,
          4.5075506225,
          4.4184974807,
          4.29261037225,
          4.0523844261500015,
          3.6044592232999997,
          2.80758965105,
          1.7821881122,
          0.8490285302749999
         ],
         "yaxis": "y"
        },
        {
         "marker": {
          "color": "black",
          "line": {
           "color": "black"
          },
          "size": 7,
          "symbol": "circle"
         },
         "mode": "markers+lines",
         "name": "Experimental",
         "type": "scatter",
         "x": [
          0.008485280999999999,
          0.008909545,
          0.00933381,
          0.009758074,
          0.010182338,
          0.010606602,
          0.011030866,
          0.01145513,
          0.011879394,
          0.012303658,
          0.012727922,
          0.013152186000000001,
          0.01357645,
          0.014000714,
          0.014424978,
          0.014849242,
          0.015273506000000001,
          0.015697771,
          0.016122035,
          0.016546299,
          0.016970563,
          0.017394826999999998,
          0.017819091000000002,
          0.018243355,
          0.018667619,
          0.019091883,
          0.019516147,
          0.019940411,
          0.020364675,
          0.020788939,
          0.021213202999999996,
          0.021637467999999997,
          0.022061732,
          0.022485996,
          0.02291026,
          0.023334524,
          0.023758788,
          0.024183052000000003,
          0.024607316,
          0.02503158,
          0.025455844,
          0.025880108,
          0.026304372000000003,
          0.026728636,
          0.0271529,
          0.027577163999999998,
          0.028001428999999998,
          0.028425693,
          0.028849957000000002,
          0.029274221,
          0.029698485
         ],
         "xaxis": "x",
         "y": [
          0.772596471,
          0.8215334790000001,
          0.9620875740000001,
          1.145936736,
          1.364265425,
          1.5914059569999999,
          1.838319438,
          2.100484186,
          2.311572186,
          2.45438738,
          2.583415753,
          2.7079352460000004,
          2.836396872,
          2.976140931,
          3.127551713,
          3.2629951910000004,
          3.398366031,
          3.51651674,
          3.626573576,
          3.7459481119999998,
          3.857344414,
          3.946734535,
          4.01807317,
          4.113099691,
          4.231007553,
          4.339557142,
          4.417160236,
          4.4499874319999995,
          4.502662314,
          4.58027178,
          4.673343609,
          4.721134329,
          4.781326548,
          4.839278,
          4.909591092,
          5.02074711,
          5.1493596219999995,
          5.269731581,
          5.357850011,
          5.406321827999999,
          5.40030105,
          5.314902668999999,
          5.1150325610000005,
          4.861499968,
          4.644570132,
          4.497446114,
          4.453832278999999,
          4.480541552,
          4.565164788,
          4.388353222,
          3.277908052
         ],
         "yaxis": "y"
        },
        {
         "marker": {
          "color": "red",
          "line": {
           "color": "red"
          },
          "size": 7,
          "symbol": "triangle-right"
         },
         "mode": "lines",
         "name": "SBES-ASCII",
         "showlegend": false,
         "type": "scatter",
         "x": [
          0.004018581608275877,
          0.004035238347411313,
          0.004056513334474382,
          0.004074572158600734,
          0.004122417296097451,
          0.004153868169736469,
          0.004197247021050721,
          0.004206363439802267,
          0.004274593797457283,
          0.004326620294697583,
          0.004329833239789787,
          0.00438376319033238,
          0.0044175872214919564,
          0.004684582358032298,
          0.004861359054173951,
          0.005038135746383409,
          0.0052149124464400285,
          0.005568465887030811,
          0.005745242707640523,
          0.005922019399850015,
          0.006098796083936366,
          0.006452349484325599,
          0.006629126184537433,
          0.00680590286865834,
          0.006982679552813658,
          0.007336232945114286,
          0.0075130096452744235,
          0.007689786329464279,
          0.007866563045629174,
          0.008220116413750195,
          0.008396893114013811,
          0.008573669814122206,
          0.008750446522336459,
          0.008927223198454955,
          0.009280776614814476,
          0.009457553282706406,
          0.009634329991110364,
          0.009811106683095658,
          0.010164660067445671,
          0.010341436767778284,
          0.010518213475854559,
          0.01069499016011343,
          0.01104854343196445,
          0.011225320332839465,
          0.011402097001007352,
          0.011578873636975963,
          0.011932427117578763,
          0.012109203753581894,
          0.012285980405641486,
          0.012462757153971157,
          0.01281631052205772,
          0.012993087190260063,
          0.013169863954577251,
          0.013346640606705882,
          0.013700193974775166,
          0.013876970723156568,
          0.01405374740731195,
          0.01423052406106172,
          0.014584077459760859,
          0.014760854208176716,
          0.014937630891745724,
          0.015114407560482747,
          0.015467960961423903,
          0.015644737675864166,
          0.015821514344601183,
          0.01599829104593408,
          0.016351844446012932,
          0.01652862111406008,
          0.016705397813840797,
          0.016882174529315848,
          0.01705895121322979,
          0.017235727899903158,
          0.017412504629692804,
          0.0175892813301634,
          0.01794283468212448,
          0.01811961138138781,
          0.018296388083238115,
          0.018473164832171388,
          0.018826718167575838,
          0.01900349488339581,
          0.019180271535058788,
          0.01935704823501197,
          0.019710601668204108,
          0.01988737833590633,
          0.0200641550374117,
          0.02024093175288676,
          0.02059448510467537,
          0.020771261789279183,
          0.020948038537522584,
          0.021124815236441004,
          0.0214783685902992,
          0.02165514530577425,
          0.02183192200710717,
          0.02200869869033123,
          0.02236225188069254,
          0.0225390284861349,
          0.022715805057774083,
          0.02289258169270796,
          0.023246135189712167,
          0.023422911955202057,
          0.02359968868464676,
          0.023776465355625845,
          0.024130018624976192,
          0.024306795263359368,
          0.02448357199556352,
          0.02466034879123479,
          0.02501390219303829,
          0.02536745552844277,
          0.025544232228913367,
          0.025721008863847226,
          0.02589778566124316,
          0.026251339029071025,
          0.026428115696945725,
          0.026590782895714732,
          0.026596132596752173,
          0.026728740430491543,
          0.02684491359020378,
          0.02692681012432692,
          0.027105894845476413,
          0.027208011324281748,
          0.027309835478590068,
          0.02741165698831903,
          0.02761530529693567,
          0.027717126820806768,
          0.02781895097511509,
          0.027920775115281283,
          0.0281244207934607,
          0.028226244947769017,
          0.028328069087935205,
          0.02842989317808652,
          0.028633538920422943,
          0.02873536306058913,
          0.028837184584460232,
          0.02893900873876855,
          0.029142654402805838,
          0.02924447855711415,
          0.02934630271142248,
          0.029448124221151437,
          0.02962996944371349,
          0.02970974288317244,
          0.029738049767694757,
          0.029792550913809262,
          0.029876062246992782,
          0.029902224915053982,
          0.029924033276125164,
          0.029942214363256617,
          0.02996999967167501,
          0.029980528491646875,
          0.029992959174301694
         ],
         "xaxis": "x2",
         "y": [
          1.0005960333463415,
          0.9622259558365852,
          0.9137790479658536,
          0.8735991630609756,
          0.7762943226926828,
          0.7228610088609756,
          0.6499156774,
          0.6542834848322581,
          0.59061874717,
          0.54774902213,
          0.5688087427857142,
          0.5344591830600001,
          0.53290692508,
          0.530936079797561,
          0.5416764878536585,
          0.5389516288560975,
          0.532154490390244,
          0.5316927754390244,
          0.5351510514341463,
          0.5427087157975611,
          0.5512095429585365,
          0.5827331074756098,
          0.5968961711439025,
          0.6041908946,
          0.6093924779658537,
          0.6314778637048779,
          0.6301284894243903,
          0.6547044614609756,
          0.7084230083317072,
          0.95889963817561,
          1.0824918328804878,
          1.2244343716658537,
          1.4103684576365854,
          1.5437920493487804,
          1.8004832532682926,
          1.911855470170732,
          2.0221148107317077,
          2.149525726414634,
          2.33336830095122,
          2.415002962268293,
          2.495646755634146,
          2.572676436634146,
          2.6315667378048784,
          2.6669446861219512,
          2.7253968437804885,
          2.7899492190487805,
          2.879962785731707,
          2.913784604,
          2.933257514317073,
          2.9629825900487807,
          3.0330924855121952,
          3.0859858878536586,
          3.1597793649268286,
          3.238885277756097,
          3.3743122050487804,
          3.424729001463415,
          3.464927844170732,
          3.513153157219512,
          3.624827227219512,
          3.686451408756097,
          3.757599073097561,
          3.826742710268293,
          3.956337698390244,
          4.017707537853658,
          4.078381943707317,
          4.140763179560976,
          4.2594276707560965,
          4.319488455487805,
          4.3784851784146355,
          4.434717999658536,
          4.488444380292684,
          4.5446326660487815,
          4.606984022512195,
          4.673661045365853,
          4.80627077502439,
          4.868961358609756,
          4.929788183341462,
          4.989605897780487,
          5.099519589365854,
          5.154315475853658,
          5.214548253463415,
          5.2739088255365845,
          5.390973911634146,
          5.438657274292684,
          5.463396795292684,
          5.490114767804878,
          5.551704945390243,
          5.588057077609756,
          5.604588086487805,
          5.61650342692683,
          5.672663326292683,
          5.664367485146341,
          5.6530466570487805,
          5.619369704682927,
          5.642001917000001,
          5.642368357951219,
          5.674933602975608,
          5.6760770772682925,
          5.6973999305365846,
          5.673389783756098,
          5.644553679390245,
          5.60683697404878,
          5.551134944878048,
          5.522591491902438,
          5.472950947585366,
          5.434351029853659,
          5.476322887487805,
          5.4896567321951215,
          5.455776010390244,
          5.385084507731707,
          5.34019133102439,
          5.17809343997561,
          5.0929524574146345,
          4.93498057852381,
          4.95613940285,
          4.880130836073171,
          4.8237789334146335,
          4.762051375121953,
          4.63116474714634,
          4.556789644756098,
          4.5264213555853665,
          4.486905327317073,
          4.475069321146342,
          4.472970095609756,
          4.435891665048781,
          4.415360881170731,
          4.3478969429268295,
          4.294739647463413,
          4.259986298634146,
          4.245023441829268,
          4.294696118951219,
          4.333612532121951,
          4.372259588414634,
          4.4093197239999995,
          4.477209272487805,
          4.4940771118536595,
          4.508886930341464,
          4.522282619170731,
          4.394271718560976,
          4.292867243634147,
          4.263128066341464,
          3.9826339948048783,
          3.113988833487805,
          2.660579074,
          2.1911874304634145,
          1.733423574904878,
          0.9363431332414632,
          0.6157776254268293,
          0.2294841369963415
         ],
         "yaxis": "y2"
        },
        {
         "marker": {
          "color": "green",
          "line": {
           "color": "green"
          },
          "size": 7,
          "symbol": "x"
         },
         "mode": "lines",
         "name": "IDDES-ASCII",
         "showlegend": false,
         "type": "scatter",
         "x": [
          0.004006316252929586,
          0.004018581660515546,
          0.004056513334474382,
          0.004074572174674478,
          0.0041224172639499615,
          0.0041538681617340895,
          0.004197246988099546,
          0.004274593764647528,
          0.004326620294697583,
          0.0043298332319442676,
          0.0044175872214919564,
          0.004507802062943135,
          0.004515195437021271,
          0.004861359054173951,
          0.005038135746383409,
          0.005391689142616193,
          0.005568465887030811,
          0.005922019399850015,
          0.006098796083936366,
          0.006452349484325599,
          0.006629126184537433,
          0.006982679552813658,
          0.007159456244936938,
          0.0075130096452744235,
          0.007689786329464279,
          0.008043339737683449,
          0.008220116413750195,
          0.008573669814122206,
          0.008750446522336459,
          0.009103999890509232,
          0.009280776614814476,
          0.009634329991110364,
          0.009811106683095658,
          0.010164660067445671,
          0.010341436767778284,
          0.01069499016011343,
          0.010871766836111194,
          0.011225320332839465,
          0.011402097001007352,
          0.011755650337153338,
          0.011932427117578763,
          0.012285980405641486,
          0.012462757153971157,
          0.01281631052205772,
          0.012993087190260063,
          0.013346640606705882,
          0.013523417338823764,
          0.013876970723156568,
          0.01405374740731195,
          0.014407300791023847,
          0.014584077459760859,
          0.014937630891745724,
          0.015114407560482747,
          0.015467960961423903,
          0.015821514344601183,
          0.01599829104593408,
          0.016351844446012932,
          0.01652862111406008,
          0.016882174529315848,
          0.01705895121322979,
          0.017412504629692804,
          0.0175892813301634,
          0.01794283468212448,
          0.01811961138138781,
          0.018473164832171388,
          0.018649941467450176,
          0.01900349488339581,
          0.019180271535058788,
          0.019533824968595848,
          0.019710601668204108,
          0.0200641550374117,
          0.02024093175288676,
          0.02059448510467537,
          0.020771261789279183,
          0.021124815236441004,
          0.0213015918582675,
          0.02165514530577425,
          0.02183192200710717,
          0.02218547511916932,
          0.02236225188069254,
          0.022715805057774083,
          0.02289258169270796,
          0.023246135189712167,
          0.023422911955202057,
          0.023776465355625845,
          0.023953241959343542,
          0.024306795263359368,
          0.02448357199556352,
          0.02483712555568991,
          0.025190678859878208,
          0.02536745552844277,
          0.025721008863847226,
          0.02589778566124316,
          0.026251339029071025,
          0.026590782895714732,
          0.026728740558805555,
          0.02684491359020378,
          0.02692680755804669,
          0.027105897411756633,
          0.027208011324281748,
          0.02741165698831903,
          0.02751348114262735,
          0.027717126820806768,
          0.02781895097511509,
          0.02802259663915237,
          0.02812442342389793,
          0.028328069087935205,
          0.028429890611806306,
          0.028633538920422943,
          0.02873536306058913,
          0.02893900873876855,
          0.029040832893076875,
          0.02924447855711415,
          0.02934630008098525,
          0.029550190729237938,
          0.02962996944371349,
          0.029738049767694757,
          0.029792550913809262,
          0.029876062246992782,
          0.029902224915053982,
          0.029942214363256617,
          0.0299573687929483,
          0.029980528491646875,
          0.029992959174301694
         ],
         "xaxis": "x2",
         "y": [
          1.0309015739219514,
          1.0049775779902441,
          0.9239456347829268,
          0.8851790002121951,
          0.788203630792683,
          0.7334725698170732,
          0.67347517249,
          0.62432276009,
          0.59959977155,
          0.5537738949952381,
          0.5646161405100001,
          0.5374021000428572,
          0.58060982447,
          0.5715770721853659,
          0.5516703962,
          0.5320844461682928,
          0.5290321338780488,
          0.5388170606780488,
          0.5570813425658536,
          0.5902768142243903,
          0.5951205908243902,
          0.6038152356219512,
          0.6058410783609756,
          0.6289023592926829,
          0.6556083178853659,
          0.8179601309268292,
          0.9355203530097559,
          1.2886196397268297,
          1.4955854058414637,
          1.8173158336341464,
          1.9958075039512195,
          2.068102320390244,
          2.1092396220975607,
          2.3197311250975607,
          2.3756567316585366,
          2.4757683164878053,
          2.5389484325609755,
          2.6630764334390244,
          2.7293166836097558,
          2.849982916512195,
          2.9019649201951223,
          2.986122217975609,
          3.021721099707317,
          3.06660240995122,
          3.1053654123170733,
          3.196102909512196,
          3.2404092290731707,
          3.340295351170732,
          3.4020962308780485,
          3.5293283490731704,
          3.594966676463415,
          3.7144164675365854,
          3.7655800847073166,
          3.89633296397561,
          4.0362483111707315,
          4.09778029490244,
          4.225902992121951,
          4.293270092268293,
          4.4282176898292684,
          4.493015307853658,
          4.611366991219511,
          4.666326569390244,
          4.778777758487805,
          4.839199164,
          4.961220627390244,
          5.0220004786829255,
          5.145646550463415,
          5.214848861804878,
          5.356562780170732,
          5.4178223587317085,
          5.525952009829268,
          5.569660099414634,
          5.6341852090487805,
          5.653296170926829,
          5.67514974407317,
          5.690041572268293,
          5.7219070305365864,
          5.731546985,
          5.730694540268292,
          5.6979224254146335,
          5.704797001439025,
          5.706362784780487,
          5.682573078390244,
          5.672191616439023,
          5.6215744709756095,
          5.587674342219511,
          5.57089815302439,
          5.556964829560976,
          5.531426096463416,
          5.469181921121951,
          5.437833989463416,
          5.3823003389999995,
          5.314112906,
          5.262100822829269,
          5.1535041439523805,
          4.993246062463415,
          4.874817686902438,
          4.823548952487805,
          4.724472318707316,
          4.666079141731708,
          4.578782600268291,
          4.5403791306829255,
          4.4783550862682935,
          4.448319049707316,
          4.414710397487805,
          4.408298470170732,
          4.394925986219514,
          4.3915231632682925,
          4.385012720341464,
          4.373950207560975,
          4.360009978097561,
          4.377997698560975,
          4.428169028268293,
          4.4500241024634155,
          4.509675382097561,
          4.4881824696829264,
          4.3715556648780485,
          4.128200782585366,
          3.10101012497561,
          2.5953544303658536,
          1.6317986729756102,
          1.224074720402439,
          0.5741853246390244,
          0.2141596887536585
         ],
         "yaxis": "y2"
        },
        {
         "marker": {
          "color": "blue",
          "line": {
           "color": "blue"
          },
          "size": 7,
          "symbol": "circle"
         },
         "mode": "lines",
         "name": "KW-SST-ASCII",
         "showlegend": false,
         "type": "scatter",
         "x": [
          0.004018580273522146,
          0.004056512552654007,
          0.0040962888218092856,
          0.00415386775575994,
          0.004197246988099546,
          0.004274593764647528,
          0.004326620294697583,
          0.0043297926358630496,
          0.004383763256234732,
          0.0045151954534969,
          0.004861359102557256,
          0.005214912476993053,
          0.005568465991471341,
          0.005922019440047281,
          0.006275572888623232,
          0.006629126304247997,
          0.0069826796704813435,
          0.007336233053084247,
          0.007689786402912792,
          0.008043339768969442,
          0.008396893151713805,
          0.00875044656730328,
          0.00910399996648785,
          0.009457553349020074,
          0.00981110674820464,
          0.010164660114473405,
          0.010518213497182415,
          0.010871766846975595,
          0.011225320509486752,
          0.011578873629010666,
          0.01210920380176863,
          0.012462757250344576,
          0.012816310501178213,
          0.01316986411440402,
          0.013523417266631588,
          0.013876970912631835,
          0.014230523968551406,
          0.01458407764587654,
          0.01493763082999454,
          0.015291184345392244,
          0.0156447376921448,
          0.015998291143902856,
          0.016351844461310532,
          0.01670539787559188,
          0.017058951256992774,
          0.017412504673041847,
          0.017766058089798115,
          0.01811961143761136,
          0.0184731648554283,
          0.018826718237182672,
          0.019180271618230046,
          0.019533825003166427,
          0.0198873784181549,
          0.02024093176844307,
          0.020594485216665532,
          0.0209480385330126,
          0.021301592015176167,
          0.02165514523288186,
          0.022008698847274404,
          0.02236225209715345,
          0.022715805150456715,
          0.023069358137292068,
          0.0234229121798378,
          0.02377646549724549,
          0.02413001854807395,
          0.02448357186724946,
          0.024837125907673858,
          0.02519067895956294,
          0.025544232081809247,
          0.02589778566120001,
          0.02625133937317329,
          0.02659080391924516,
          0.02680600822932768,
          0.02684491359020378,
          0.027042866804236204,
          0.027208011324281745,
          0.027411656988319037,
          0.02761530266649845,
          0.02781895097511509,
          0.02802259663915237,
          0.028226242303189663,
          0.028429890611806306,
          0.028633538920422943,
          0.028837184584460232,
          0.02904083024849751,
          0.02924447855711416,
          0.029448124221151437,
          0.02962996944371348,
          0.02973804976769476,
          0.029844678656012712,
          0.029902224915053975,
          0.029942214363256617,
          0.029969999671675008,
          0.029992959174301687
         ],
         "xaxis": "x2",
         "y": [
          1.0062417670450001,
          0.921873717535,
          0.832242439265,
          0.731827718425,
          0.65053085768,
          0.62842348328,
          0.6426679239,
          0.6710486074,
          0.61743880964,
          0.62782457464,
          0.612306371385,
          0.5758163642899999,
          0.5440147134300001,
          0.5208705217249999,
          0.514459946115,
          0.530702634395,
          0.565511009575,
          0.5919114695900001,
          0.657035183575,
          0.862965971405,
          1.17980251561,
          1.495529738,
          1.7567362562500002,
          1.97186714415,
          2.1551346886,
          2.30064311625,
          2.4266531998,
          2.54850188345,
          2.67151116915,
          2.8007194145499996,
          2.9608982236,
          3.0547486819,
          3.1464954134500003,
          3.2368877831500003,
          3.3261578725,
          3.4176121166000004,
          3.5139059827,
          3.6172786843,
          3.7288808785,
          3.8469704339999997,
          3.9691792037,
          4.0943609999,
          4.22065521915,
          4.34667661185,
          4.4701491134,
          4.59031345235,
          4.708402647200001,
          4.82542558345,
          4.9410573947500005,
          5.05472991355,
          5.1644363331999985,
          5.2685532313,
          5.369036200449999,
          5.468105617000001,
          5.564498961749999,
          5.651095654600001,
          5.712283307100001,
          5.7467209288,
          5.7509280412,
          5.7284711672,
          5.677952704,
          5.6165088536,
          5.5649200814,
          5.5108895648999985,
          5.4398327716,
          5.38289332335,
          5.3527731332499995,
          5.337468159849999,
          5.31024198195,
          5.2709019585000005,
          5.1962679449,
          5.0449380487,
          5.0315704263,
          4.9917586096,
          4.9672919785500005,
          4.8886184473,
          4.7977629126,
          4.70551717675,
          4.6171708563000005,
          4.5444573008999996,
          4.5001174036,
          4.481576717,
          4.471211192149999,
          4.4583934156,
          4.45215507195,
          4.4590359125,
          4.431349729,
          4.245023341,
          4.10436406625,
          3.5362381005000003,
          2.7870772396,
          1.8852649898500002,
          1.01962139834,
          0.24738993318875
         ],
         "yaxis": "y2"
        },
        {
         "marker": {
          "color": "black",
          "line": {
           "color": "black"
          },
          "size": 7,
          "symbol": "circle"
         },
         "mode": "markers+lines",
         "name": "Experimental",
         "showlegend": false,
         "type": "scatter",
         "x": [
          0.010606602,
          0.011030866,
          0.01145513,
          0.011879394,
          0.012303658,
          0.012727922,
          0.013152186000000001,
          0.01357645,
          0.014000714,
          0.014424978,
          0.014849242,
          0.015273506000000001,
          0.015697771,
          0.016122035,
          0.016546299,
          0.016970563,
          0.017394826999999998,
          0.017819091000000002,
          0.018243355,
          0.018667619,
          0.019091883,
          0.019516147,
          0.019940411,
          0.020364675,
          0.020788939,
          0.021213202999999996,
          0.021637467999999997,
          0.022061732,
          0.022485996,
          0.02291026,
          0.023334524,
          0.023758788,
          0.024183052000000003,
          0.024607316,
          0.02503158,
          0.025455844,
          0.025880108,
          0.026304372000000003,
          0.026728636,
          0.0271529,
          0.027577163999999998,
          0.028001428999999998,
          0.028425693,
          0.028849957000000002,
          0.029274221,
          0.029698485
         ],
         "xaxis": "x2",
         "y": [
          1.904601915,
          2.1410532840000003,
          2.3612684390000003,
          2.64969466,
          2.864849025,
          3.093463991,
          3.2772236919999997,
          3.42025389,
          3.5370279489999996,
          3.6494544280000003,
          3.7265784760000003,
          3.8126290710000004,
          3.9064331930000002,
          3.98884387,
          4.078029232,
          4.165333372,
          4.238932779,
          4.332734868,
          4.401796828,
          4.468630182,
          4.560200138,
          4.652771999,
          4.735189556,
          4.837473074,
          4.926447776,
          5.027142815,
          5.142777497,
          5.260640789,
          5.356033428,
          5.443419115,
          5.526075725,
          5.571616242999999,
          5.576385079,
          5.543400900000001,
          5.428239683999999,
          5.2514070330000004,
          5.0809561080000005,
          4.762468431,
          4.512566527,
          4.3658854719999995,
          4.358267324,
          4.421385995,
          4.495984258,
          4.524589858,
          4.592351896,
          4.148073296000001
         ],
         "yaxis": "y2"
        },
        {
         "line": {
          "color": "red"
         },
         "marker": {
          "size": 7,
          "symbol": "triangle-right"
         },
         "mode": "lines",
         "name": "SBES-ASCII",
         "showlegend": false,
         "type": "scatter",
         "x": [
          0.004006315132562008,
          0.004018580885474775,
          0.0040352382229260275,
          0.004074573523937696,
          0.0040962914342722034,
          0.004122420444274813,
          0.004153872578805947,
          0.004197247054001896,
          0.0042745938302670376,
          0.004326620294697583,
          0.004329752003591482,
          0.0044175871555896026,
          0.004507801913979152,
          0.004515195437021271,
          0.004684582273714052,
          0.0048613589778753385,
          0.005214912374159849,
          0.0053916890703532595,
          0.00556846581475064,
          0.005745242635343107,
          0.005922019319550215,
          0.006275572719922158,
          0.006452349396006181,
          0.006629126112257259,
          0.006805902796395414,
          0.007159456172656777,
          0.0073362328728513735,
          0.00751300958103113,
          0.007689786257166873,
          0.00804333965740091,
          0.008220116349506914,
          0.008396893057790159,
          0.008573669741859294,
          0.008927223150250928,
          0.009103999818229076,
          0.009280776518423704,
          0.00963432991079334,
          0.00981110661083276,
          0.009987883303145728,
          0.010164660019241644,
          0.010518213395554782,
          0.010694990087833277,
          0.010871766787907168,
          0.011048543367721169,
          0.011402096920707571,
          0.011578873540602441,
          0.011755650288949312,
          0.01193242702120525,
          0.01210920365720838,
          0.012285980341380969,
          0.012462757089710631,
          0.012816310457814444,
          0.013169863890316729,
          0.013346640526388854,
          0.013523417242467492,
          0.013700193942679382,
          0.014053747326994931,
          0.014230524028983175,
          0.014407300710655088,
          0.014584077427682338,
          0.014937630811376971,
          0.01511440749615324,
          0.015291184165235184,
          0.015467960929345366,
          0.015821514280444142,
          0.015998290965737794,
          0.016175067679488175,
          0.01635184434960492,
          0.016705397749511294,
          0.016882174464986344,
          0.01705895114907275,
          0.017235727835573658,
          0.017589281233927855,
          0.017766057918359182,
          0.017942834634006696,
          0.018119611284979808,
          0.018473164719724128,
          0.018649941403120672,
          0.01900349478698781,
          0.01918027147090174,
          0.019357048186894186,
          0.01953382487236031,
          0.01988737827140436,
          0.020064154957042956,
          0.020240931656651213,
          0.020417708372471203,
          0.020771261741161392,
          0.02094803845715384,
          0.021124815188323216,
          0.02130159182618897,
          0.021655145225405497,
          0.02183192192673841,
          0.02200869859392324,
          0.022185475054839827,
          0.02253902845405636,
          0.022715804993617063,
          0.02289258159629995,
          0.023069358265381902,
          0.023422911826715544,
          0.023599688652568226,
          0.023776465291296348,
          0.02395324189501406,
          0.024306795199029882,
          0.024483571899155523,
          0.0246603487269053,
          0.024837125491532858,
          0.025190678763470208,
          0.025367455432034773,
          0.025544232164583867,
          0.02572100876743922,
          0.026074562330325044,
          0.026251338964913988,
          0.02642811566469473,
          0.026590804313810768,
          0.02659632068968135,
          0.026805878926557173,
          0.026945710417353986,
          0.0270682154933973,
          0.02720748185686614,
          0.02729725464888133,
          0.027500900312918616,
          0.027602724467226936,
          0.027704546041457837,
          0.027806370131264226,
          0.028010018439880862,
          0.028111839949609824,
          0.028213664103918144,
          0.02831548825822646,
          0.02851913392226375,
          0.02862095807657207,
          0.0287227822308804,
          0.028824603754751495,
          0.029028252049226006,
          0.029130073573097093,
          0.029231897727405424,
          0.029333721881713737,
          0.02953715153877151,
          0.029609125194454168,
          0.029726148487953626,
          0.02981023941621481,
          0.02987661280033262,
          0.0299026595453081,
          0.029924373083359924,
          0.029942472513800288,
          0.029970134021963427,
          0.02998061540921242,
          0.029992993419483107
         ],
         "xaxis": "x3",
         "y": [
          1.035931570390244,
          1.0252786586390243,
          1.0235090454036586,
          1.045862324514634,
          1.0659311542829268,
          1.093864154790244,
          1.1263991562878048,
          1.29498566452,
          1.4649485968599998,
          1.2513293460400001,
          1.2506739404809524,
          1.31927369977,
          1.3801666284904757,
          1.47330422002,
          1.485971538202439,
          1.4999919278512197,
          1.4895440057536586,
          1.4400253156243903,
          1.4176064488365854,
          1.448765216614634,
          1.4566267436073168,
          1.3976376574414633,
          1.3892350484121951,
          1.3577299360414634,
          1.3410070153048779,
          1.372829473868293,
          1.3650539074024388,
          1.3580737432365853,
          1.348700266192683,
          1.3615737688463416,
          1.3745853257536589,
          1.3804158186487805,
          1.397921714853659,
          1.4811817897195119,
          1.5033123497878047,
          1.5267162720073169,
          1.6142441847097557,
          1.667014712407317,
          1.701469385509756,
          1.7250313798536585,
          1.7134258522926828,
          1.7124684731609756,
          1.7219083005097562,
          1.6870322052634146,
          1.6321117687634146,
          1.6231265890317073,
          1.621967149285366,
          1.6235374742170734,
          1.6572485282829268,
          1.7400934175926832,
          1.7659729650219511,
          1.7873923830121952,
          1.7911557855707316,
          1.7853348679560976,
          1.7822164388121953,
          1.8193288422853655,
          1.8938315396341463,
          1.9877604942487803,
          2.0072340033414635,
          2.0612579456731708,
          2.1290800116097564,
          2.2144235200243902,
          2.301236770780488,
          2.3706033109487805,
          2.6181649010243904,
          2.742190334097561,
          2.8135836660487805,
          2.908061781292683,
          3.1742648163658536,
          3.2684606309268296,
          3.3496307782439017,
          3.4338985548536587,
          3.640256335414634,
          3.68699356002439,
          3.7193030310731703,
          3.736655723536585,
          3.7747638045853664,
          3.804227596170732,
          3.8474981355853664,
          3.8744053522195117,
          3.9107007380487806,
          3.9523391093414633,
          4.029372823146342,
          4.058984941780489,
          4.091841736829268,
          4.1248322255365855,
          4.193273440853658,
          4.227543126317073,
          4.261083505268293,
          4.293975987,
          4.34508313497561,
          4.368595380146342,
          4.396944423268293,
          4.423207734439026,
          4.4950320852195125,
          4.527930132658536,
          4.549439513341464,
          4.572345244536585,
          4.674694967853658,
          4.722725687682926,
          4.77303533804878,
          4.837474397634146,
          4.939543764804878,
          4.966814200902439,
          4.982485126756098,
          5.017386277975611,
          5.089154694219513,
          5.1227948076585355,
          5.162864923902438,
          5.1997246698536586,
          5.223547206682927,
          5.2203505001951225,
          5.2266056463658535,
          5.282997915299999,
          5.200472252,
          5.250537270609756,
          5.230643219170731,
          5.219947607195122,
          5.215225037170732,
          5.202187698536585,
          5.188245981195122,
          5.1790101809756095,
          5.178309061756098,
          5.166225939731707,
          5.146209641268293,
          5.144110197365854,
          5.12945043985366,
          5.1306200315609765,
          5.129102016878049,
          5.1144793613170725,
          5.131652067317074,
          5.110481739829268,
          5.069824670634146,
          5.033413788585365,
          5.0160627562926825,
          5.001320324121951,
          4.99058621692683,
          5.004483806829269,
          4.999371497707316,
          4.971403261512196,
          4.6395713910000005,
          4.257768239536585,
          3.6994013042439033,
          3.0339622825365846,
          1.7029332489512194,
          1.1290907595268294,
          0.4229106535536585
         ],
         "yaxis": "y3"
        },
        {
         "line": {
          "color": "green"
         },
         "marker": {
          "size": 7,
          "symbol": "x"
         },
         "mode": "lines",
         "name": "IDDES-ASCII",
         "showlegend": false,
         "type": "scatter",
         "x": [
          0.004018580905566956,
          0.0040352382229260275,
          0.004074573515900824,
          0.004096291450345947,
          0.004153872562732202,
          0.004197246988099546,
          0.004206311882183381,
          0.0042745938302670376,
          0.004417587254443131,
          0.004507801913979152,
          0.004515195453496869,
          0.004684582273714052,
          0.0050381356821401,
          0.005214912374159849,
          0.00556846581475064,
          0.005745242635343107,
          0.0060987960116734435,
          0.006275572719922158,
          0.006629126112257259,
          0.006805902796395414,
          0.007159456172656777,
          0.0073362328728513735,
          0.007689786257166873,
          0.007866562965329386,
          0.00804333965740091,
          0.008396893057790159,
          0.008573669741859294,
          0.008927223150250928,
          0.009103999818229076,
          0.009457553218463123,
          0.00963432991079334,
          0.009987883303145728,
          0.010164660019241644,
          0.010341436695498123,
          0.010518213395554782,
          0.010871766787907168,
          0.011048543367721169,
          0.011402096920707571,
          0.011578873540602441,
          0.01193242702120525,
          0.01210920365720838,
          0.012462757089710631,
          0.012639533757775049,
          0.012993087126016772,
          0.013169863890316729,
          0.013523417242467492,
          0.013700193942679382,
          0.014053747326994931,
          0.014230524028983175,
          0.014584077427682338,
          0.014760854127980425,
          0.01511440749615324,
          0.015291184165235184,
          0.01564473757945616,
          0.015821514280444142,
          0.016175067679488175,
          0.01635184434960492,
          0.016705397749511294,
          0.016882174464986344,
          0.017235727835573658,
          0.01741250454932405,
          0.017766057918359182,
          0.017942834634006696,
          0.018296388003041838,
          0.018473164719724128,
          0.018826718103246327,
          0.01900349478698781,
          0.019357048186894186,
          0.019710601603874604,
          0.01988737827140436,
          0.020240931656651213,
          0.020417708372471203,
          0.020771261741161392,
          0.02094803845715384,
          0.02130159182618897,
          0.021478368509930446,
          0.02183192192673841,
          0.02200869859392324,
          0.022362251848614,
          0.02253902845405636,
          0.02289258159629995,
          0.023069358265381902,
          0.023422911826715544,
          0.023599688652568226,
          0.02395324189501406,
          0.02413001852856821,
          0.024483571899155523,
          0.0246603487269053,
          0.02501390209663029,
          0.025190678763470208,
          0.025544232164583867,
          0.02572100876743922,
          0.026074562330325044,
          0.02642811566469473,
          0.026590804445332638,
          0.026805878413301128,
          0.026945710417353986,
          0.0270682154933973,
          0.02729725464888133,
          0.02739907615861029,
          0.027602724467226936,
          0.027704548621535263,
          0.027908194285572542,
          0.028010018439880862,
          0.028213664103918144,
          0.02831548825822646,
          0.02851913392226375,
          0.02862095807657207,
          0.028824603754751495,
          0.028926427894917683,
          0.029028252049226006,
          0.029231897727405424,
          0.029333721881713737,
          0.02953715153877151,
          0.029609125194454168,
          0.02981023941621481,
          0.02984537145095264,
          0.0299026595453081,
          0.029924373083359924,
          0.029957561083566377,
          0.029970134021963427,
          0.029992993419483107
         ],
         "xaxis": "x3",
         "y": [
          1.038040173990244,
          1.036577933335366,
          1.0495578321707315,
          1.063468436807317,
          1.0991406639121952,
          0.85158492889,
          1.2197104629387097,
          0.95694757289,
          0.95595611275,
          1.5160266361142856,
          1.0106031987150002,
          1.3296658303024391,
          1.4317918145609756,
          1.4459905253,
          1.4665962570317073,
          1.438003917373171,
          1.3540058070512195,
          1.3366988448609756,
          1.3075097143170729,
          1.2982301788463415,
          1.319747065702439,
          1.3518906562878048,
          1.350692883714634,
          1.3698857937146345,
          1.3509050221097558,
          1.3900151377536585,
          1.4375181518268294,
          1.5601749598487804,
          1.5928378520243902,
          1.5989038318536588,
          1.5802124194121951,
          1.5588258851707315,
          1.5388889287682928,
          1.5289395530341463,
          1.5276044636756096,
          1.602816540397561,
          1.6006373195951218,
          1.5053548840804878,
          1.4571879687585367,
          1.5510180196414634,
          1.6079637374878049,
          1.6051792672097558,
          1.6359449340658538,
          1.748893273392683,
          1.7521736620756097,
          1.7665950701390245,
          1.8035060112219512,
          1.9618444548073173,
          2.044983447631707,
          2.1452706107926827,
          2.2092111773341463,
          2.4339111379512195,
          2.4349686986097563,
          2.4705670616829267,
          2.583170871195122,
          2.8922463514390246,
          2.992559280219512,
          3.1528472974146338,
          3.229896307512195,
          3.4524666991219513,
          3.5464262286829267,
          3.6758650933170736,
          3.7153354234146345,
          3.7836616532682927,
          3.8023606711951214,
          3.863746380365853,
          3.8999618853658538,
          3.9574789046341454,
          3.9908913390975607,
          4.005428134731708,
          4.074035080487805,
          4.116617144902439,
          4.180306129073172,
          4.2133476613902445,
          4.284821656560975,
          4.297114817170732,
          4.343410726609757,
          4.3823137726097565,
          4.4886859824146335,
          4.538068597219512,
          4.600492473268293,
          4.634444509585366,
          4.7147006635609765,
          4.761891128268292,
          4.851341783390244,
          4.890644886658538,
          4.976270824390244,
          5.026618941829268,
          5.082271012365854,
          5.1005381055853665,
          5.120464093902438,
          5.144904127317074,
          5.224728249463414,
          5.283352821463415,
          5.24708368005,
          5.316024016268293,
          5.288477834195122,
          5.286920368878048,
          5.270405327756097,
          5.271873499341464,
          5.251170069463416,
          5.241559630999999,
          5.256652562780488,
          5.243891409317073,
          5.223863539317073,
          5.233622788439026,
          5.197608483756097,
          5.1693440412682925,
          5.139987494780487,
          5.1314452332195115,
          5.097338477439026,
          5.048565623195121,
          5.029068948292683,
          5.013519644682926,
          5.012526910439023,
          4.988606109926829,
          4.855791826707319,
          4.153913692414633,
          3.558012059878049,
          2.222476416317073,
          1.606958899902439,
          0.3983221056182927
         ],
         "yaxis": "y3"
        },
        {
         "line": {
          "color": "blue"
         },
         "marker": {
          "color": "blue",
          "line": {
           "color": "blue"
          },
          "size": 7,
          "symbol": "circle"
         },
         "mode": "lines",
         "name": "KW-SST-ASCII",
         "showlegend": false,
         "type": "scatter",
         "x": [
          0.004006314799649237,
          0.0040352372597983,
          0.0040745715880638675,
          0.0041224168547903855,
          0.004197246922197193,
          0.0043297926523386265,
          0.004383763322137084,
          0.00441758708968725,
          0.004684582411255817,
          0.005038135810475703,
          0.005391689176567628,
          0.005745242764973886,
          0.006098796131242592,
          0.006275572888623232,
          0.006629126304247997,
          0.0069826796704813435,
          0.007336233069559842,
          0.00768978640287743,
          0.00804333978544502,
          0.008396893184629623,
          0.008750446550863036,
          0.009103999950047608,
          0.009457553349055414,
          0.0098111067317644,
          0.010164660147389213,
          0.010518213497182396,
          0.010871766879891406,
          0.011225320509486752,
          0.011755650353192556,
          0.01210920380176863,
          0.012462757250344576,
          0.012816310501178213,
          0.013169864147319823,
          0.01352341723368041,
          0.013876970912631835,
          0.014230524001431863,
          0.014584077711637453,
          0.014937630862875013,
          0.015291184378272682,
          0.0156447376921448,
          0.015998291111022377,
          0.016351844494190988,
          0.016705397842711404,
          0.017058951289873232,
          0.017412504640161367,
          0.017766058089444557,
          0.01811961140473088,
          0.018473164822547832,
          0.01882671826970956,
          0.019180271552469097,
          0.019533825036046875,
          0.019887378384920863,
          0.020240931801677072,
          0.020594485150904583,
          0.02094803853301259,
          0.02130159204841018,
          0.021655145265762312,
          0.022008698814393927,
          0.02253902855839772,
          0.02289258161099391,
          0.02324613512568448,
          0.023599688968472525,
          0.02395324202177581,
          0.02430679507684696,
          0.02466034891963502,
          0.025013902370332342,
          0.025367455488335938,
          0.02572100867280761,
          0.0260745626495924,
          0.02642811589876428,
          0.02659080391924516,
          0.02659613272827404,
          0.026806008097805815,
          0.026945710417353986,
          0.02720748185686613,
          0.027399077473828932,
          0.027602724467226936,
          0.02780637013126422,
          0.02801001843988087,
          0.028213664103918144,
          0.028417312412534795,
          0.02862095807657207,
          0.028824603754751495,
          0.029028252049226003,
          0.02923189772740542,
          0.029435546021879932,
          0.029609125194454168,
          0.02981023941621481,
          0.029876612800332613,
          0.029924373083359924,
          0.029957561083566377,
          0.02998061540921242
         ],
         "xaxis": "x3",
         "y": [
          1.0345689760475,
          1.011267974615,
          1.019362537005,
          1.07346041765,
          1.22962813006,
          1.45780808999,
          1.6516044023999998,
          1.6147770257799998,
          1.655105202325,
          1.58139903081,
          1.521283012235,
          1.490507651365,
          1.4435141540749998,
          1.4171487718399998,
          1.3818893522100002,
          1.3743075025799998,
          1.382499557515,
          1.4010088978900002,
          1.42330970136,
          1.44292582635,
          1.46224816965,
          1.4828870163,
          1.50381693795,
          1.5288925106,
          1.5516525154499998,
          1.5514032065999999,
          1.4914711852000002,
          1.4169473457,
          1.30671205889,
          1.248224318375,
          1.2866472855,
          1.41866208865,
          1.5286083270100002,
          1.580045355225,
          1.577822150395,
          1.6193364306700002,
          1.7628400176499999,
          1.9966621821500001,
          2.2600023030500003,
          2.5363084221000003,
          2.81211751625,
          3.06626668895,
          3.28436079635,
          3.46018247415,
          3.5918147945500003,
          3.67820648095,
          3.7424624294,
          3.80142149525,
          3.86236825945,
          3.925938513,
          3.98617468,
          4.041352047149999,
          4.0942364057,
          4.1474931769,
          4.20226411985,
          4.2590934431999985,
          4.3180739361,
          4.3793679356,
          4.4768694173000005,
          4.545524449049999,
          4.6156409122,
          4.6862017699,
          4.75738422335,
          4.82910142875,
          4.899975679500001,
          4.96840595555,
          5.03137968695,
          5.08670762585,
          5.13587032375,
          5.18125002015,
          5.1822832169,
          5.2221675294,
          5.2271802601,
          5.241050281000001,
          5.2638665002,
          5.2796156451,
          5.2917412195,
          5.29875469645,
          5.29888513325,
          5.290709673549999,
          5.2740646048,
          5.250390631549999,
          5.2212376805,
          5.18903398645,
          5.15937030345,
          5.1372670971,
          5.0972075214,
          4.98295757155,
          4.69581517185,
          3.9391831888,
          2.6455393592,
          1.2890431034299998
         ],
         "yaxis": "y3"
        },
        {
         "line": {
          "color": "black"
         },
         "marker": {
          "size": 7
         },
         "mode": "markers+lines",
         "name": "Experimental",
         "showlegend": false,
         "type": "scatter",
         "x": [
          0.008485280999999999,
          0.008909545,
          0.00933381,
          0.009758074,
          0.010182338,
          0.010606602,
          0.011030866,
          0.01145513,
          0.011879394,
          0.012303658,
          0.012727922,
          0.013152186000000001,
          0.01357645,
          0.014000714,
          0.014424978,
          0.014849242,
          0.015273506000000001,
          0.015697771,
          0.016122035,
          0.016546299,
          0.016970563,
          0.017394826999999998,
          0.017819091000000002,
          0.018243355,
          0.018667619,
          0.019091883,
          0.019516147,
          0.019940411,
          0.020364675,
          0.020788939,
          0.021213202999999996,
          0.021637467999999997,
          0.022061732,
          0.022485996,
          0.02291026,
          0.023334524,
          0.023758788,
          0.024183052000000003,
          0.024607316,
          0.02503158,
          0.025455844,
          0.025880108,
          0.026304372000000003,
          0.026728636,
          0.0271529,
          0.027577163999999998,
          0.028001428999999998,
          0.028425693,
          0.028849957000000002,
          0.029274221,
          0.029698485
         ],
         "xaxis": "x3",
         "y": [
          1.046595068,
          1.086692123,
          1.0833851559999998,
          1.0973042179999999,
          1.088244466,
          1.081884321,
          1.0775763040000002,
          1.139926645,
          1.246521391,
          1.3951152930000001,
          1.574554365,
          1.805665369,
          2.045832191,
          2.287213127,
          2.480234896,
          2.625898884,
          2.7399622239999997,
          2.822260586,
          2.94075014,
          3.0339202419999998,
          3.131955356,
          3.276820025,
          3.387018248,
          3.501799975,
          3.656211952,
          3.812492498,
          3.918433678,
          3.9520378110000003,
          4.002921453,
          4.070949939,
          4.154816356,
          4.236161388999999,
          4.299845517,
          4.345570081,
          4.42039053,
          4.4986365930000005,
          4.626595695,
          4.731078957,
          4.84906331,
          4.9675469869999995,
          5.082629926,
          5.161360118999999,
          5.14227611,
          5.075841845,
          4.958755947,
          4.844415142,
          4.765155646,
          4.72697701,
          4.7343781730000005,
          4.532225572,
          3.461324238
         ],
         "yaxis": "y3"
        },
        {
         "line": {
          "color": "red"
         },
         "marker": {
          "size": 7,
          "symbol": "triangle-right"
         },
         "mode": "lines",
         "name": "SBES-ASCII",
         "showlegend": false,
         "type": "scatter",
         "x": [
          0.004006316252929586,
          0.0040352383413836575,
          0.004056513334474382,
          0.004074572182711351,
          0.004096289350256054,
          0.0041538681617340895,
          0.004206363471690502,
          0.004274593764647528,
          0.004326620294697583,
          0.004329833239789787,
          0.004383763256234732,
          0.0044175872214919564,
          0.004507802062943135,
          0.004515195437021271,
          0.004861359054173951,
          0.005038135746383409,
          0.0052149124464400285,
          0.005391689142616193,
          0.005745242707640523,
          0.005922019399850015,
          0.006098796083936366,
          0.006452349484325599,
          0.006629126184537433,
          0.00680590286865834,
          0.006982679552813658,
          0.007336232945114286,
          0.0075130096452744235,
          0.007689786329464279,
          0.007866563045629174,
          0.008396893114013811,
          0.008573669814122206,
          0.008750446522336459,
          0.008927223198454955,
          0.009280776614814476,
          0.009457553282706406,
          0.009634329991110364,
          0.009811106683095658,
          0.010164660067445671,
          0.010341436767778284,
          0.010518213475854559,
          0.01069499016011343,
          0.01104854343196445,
          0.011225320332839465,
          0.011402097001007352,
          0.011578873636975963,
          0.011932427117578763,
          0.012109203753581894,
          0.012285980405641486,
          0.012462757153971157,
          0.012639533854148562,
          0.01281631052205772,
          0.012993087190260063,
          0.013169863954577251,
          0.013523417338823764,
          0.013700193974775166,
          0.013876970723156568,
          0.01405374740731195,
          0.014407300791023847,
          0.014584077459760859,
          0.014760854208176716,
          0.014937630891745724,
          0.015291184213352975,
          0.015467960961423903,
          0.015644737675864166,
          0.015821514344601183,
          0.016175067743817686,
          0.016351844446012932,
          0.01652862111406008,
          0.016705397813840797,
          0.01705895121322979,
          0.017235727899903158,
          0.017412504629692804,
          0.0175892813301634,
          0.01794283468212448,
          0.01811961138138781,
          0.018296388083238115,
          0.018473164832171388,
          0.018649941467450176,
          0.018826718167575838,
          0.01900349488339581,
          0.01935704823501197,
          0.019533824968595848,
          0.019710601668204108,
          0.01988737833590633,
          0.02024093175288676,
          0.0204177084368007,
          0.02059448510467537,
          0.020771261789279183,
          0.021124815236441004,
          0.0213015918582675,
          0.0214783685902992,
          0.02165514530577425,
          0.02200869869033123,
          0.02218547511916932,
          0.02236225188069254,
          0.0225390284861349,
          0.02289258169270796,
          0.023069358393868408,
          0.023246135189712167,
          0.023422911955202057,
          0.023776465355625845,
          0.023953241959343542,
          0.024130018624976192,
          0.024306795263359368,
          0.02466034879123479,
          0.02483712555568991,
          0.02501390219303829,
          0.025190678859878208,
          0.025544232228913367,
          0.025721008863847226,
          0.02589778566124316,
          0.0260745624265606,
          0.026428115696945725,
          0.026590782895714732,
          0.026596132596752173,
          0.026728740558805555,
          0.02680606621051431,
          0.02684491359020378,
          0.02692680755804669,
          0.027042866804236204,
          0.027208011324281748,
          0.027309835478590068,
          0.02741165698831903,
          0.02751348114262735,
          0.027717126820806768,
          0.02781895097511509,
          0.027920775115281283,
          0.02802259670330938,
          0.028226244947769017,
          0.028328069087935205,
          0.028429890611806306,
          0.028531714766114626,
          0.02873536049430891,
          0.02893900873876855,
          0.02904083031299945,
          0.029142654402805838,
          0.02924447855711415,
          0.029448124285653368,
          0.029550190729237938,
          0.02962996944371349,
          0.02970974288317244,
          0.029792550913809262,
          0.029844678656012712,
          0.02987605968071257,
          0.029902224915053982,
          0.029942214363256617,
          0.0299573687929483,
          0.02996999967167501,
          0.029980528491646875
         ],
         "xaxis": "x4",
         "y": [
          1.0666672952182927,
          1.2006775601500002,
          1.3041777431560977,
          1.374704845546341,
          1.437070124309756,
          1.5260640810317074,
          1.6044550415580645,
          1.5140542517,
          1.5448301866,
          1.6421076138238095,
          1.5716623149000002,
          1.5218112338999998,
          1.6284062375238095,
          1.5619338318,
          1.6439831429731708,
          1.6667439298048783,
          1.6473806691707316,
          1.604877574785366,
          1.5524269428926831,
          1.477107936285366,
          1.420010622197561,
          1.351225211187805,
          1.4031476025829268,
          1.4946107854390245,
          1.539179531092683,
          1.4880820273634148,
          1.4628679602634145,
          1.4447698676658536,
          1.4349853676487805,
          1.309322267582927,
          1.2725944243560976,
          1.2488711723219512,
          1.2545254278634146,
          1.419266935192683,
          1.50140659662439,
          1.6068301670073173,
          1.7551130437804878,
          2.0454989363902443,
          2.17882061895122,
          2.278165552146341,
          2.3590941844146345,
          2.4125955469512195,
          2.460621791097561,
          2.5044921740243904,
          2.5659161075853656,
          2.6499586216829267,
          2.708179457560976,
          2.807179959512195,
          2.86891696797561,
          2.9342817518780486,
          3.0141694534634147,
          3.112406530268293,
          3.225055114121952,
          3.3283951987073173,
          3.3977293582195114,
          3.463306765731707,
          3.5226235694390247,
          3.6009460473170734,
          3.6483785249756098,
          3.696784662146341,
          3.752056267512195,
          3.8567391433170735,
          3.890178725439025,
          3.9302526726585367,
          3.969600968829268,
          4.078939260951221,
          4.135846070780488,
          4.176760119902439,
          4.220514748902439,
          4.339089388707317,
          4.397321455707317,
          4.450438339487805,
          4.511750905878048,
          4.644141350390244,
          4.690690066121952,
          4.736821672024392,
          4.786992937365854,
          4.831105620487804,
          4.8767615260487815,
          4.9298872367073185,
          5.038567690365853,
          5.0835983123658535,
          5.134522307097561,
          5.185554857902439,
          5.275950484707316,
          5.3222463968780485,
          5.347745800365853,
          5.379097164536585,
          5.444616393195123,
          5.452692384756098,
          5.459061223390244,
          5.475707545243902,
          5.570489055317073,
          5.597066410365853,
          5.630014143243903,
          5.619940634463415,
          5.573091163341463,
          5.533608734414633,
          5.5643242417317085,
          5.582873966829269,
          5.5707676262682915,
          5.592083169560976,
          5.6422010600731705,
          5.673795046682928,
          5.70669388995122,
          5.6799723146341465,
          5.6566991106097575,
          5.648716888341464,
          5.53160209295122,
          5.487334833682927,
          5.4053373529268285,
          5.327121129780488,
          5.197214646634147,
          5.038822300619048,
          5.1553814942,
          4.991087583512195,
          4.946171343658536,
          4.83867088695122,
          4.776093666731708,
          4.749907127609756,
          4.583845050658537,
          4.504299318731706,
          4.424475565463415,
          4.370456189317073,
          4.303244719341464,
          4.264985047926829,
          4.2246991833902445,
          4.199718995560977,
          4.170720606585366,
          4.171679912609757,
          4.203084346731707,
          4.234800511658538,
          4.299871047609757,
          4.332809005292683,
          4.355907459097561,
          4.357149672682927,
          4.349984712317073,
          4.31533095802439,
          4.282293096121951,
          4.176275013390244,
          4.063592050512194,
          3.751294130487805,
          3.3309798816341467,
          2.9475442017317075,
          2.5241795808536587,
          1.6413404806268292,
          1.2402339408292684,
          0.8872873053634146,
          0.5842574307829269
         ],
         "yaxis": "y4"
        },
        {
         "line": {
          "color": "green"
         },
         "marker": {
          "size": 7,
          "symbol": "x"
         },
         "mode": "lines",
         "name": "IDDES-ASCII",
         "showlegend": false,
         "type": "scatter",
         "x": [
          0.0040063162609319655,
          0.004035238349420532,
          0.004056513278216275,
          0.004096289358292926,
          0.004122417239839346,
          0.0042063634823199135,
          0.004274593764647528,
          0.004326620294697583,
          0.0043298332711045094,
          0.0043837632232835546,
          0.004417587254443131,
          0.004684582358032298,
          0.004861359054173951,
          0.0052149124464400285,
          0.005391689142616193,
          0.005745242707640523,
          0.005922019399850015,
          0.0062755728002219565,
          0.006452349484325599,
          0.00680590286865834,
          0.006982679552813658,
          0.007336232945114286,
          0.0075130096452744235,
          0.007866563045629174,
          0.008220116413750195,
          0.008396893114013811,
          0.008750446522336459,
          0.008927223198454955,
          0.009280776614814476,
          0.009457553282706406,
          0.009811106683095658,
          0.009987883383462756,
          0.010341436767778284,
          0.010518213475854559,
          0.010871766836111194,
          0.01104854343196445,
          0.011402097001007352,
          0.011578873636975963,
          0.011932427117578763,
          0.012109203753581894,
          0.012462757153971157,
          0.012639533854148562,
          0.012993087190260063,
          0.013169863954577251,
          0.013523417338823764,
          0.013700193974775166,
          0.01405374740731195,
          0.01423052406106172,
          0.014584077459760859,
          0.014760854208176716,
          0.015114407560482747,
          0.015291184213352975,
          0.015644737675864166,
          0.015821514344601183,
          0.016175067743817686,
          0.016351844446012932,
          0.016705397813840797,
          0.016882174529315848,
          0.017235727899903158,
          0.017412504629692804,
          0.01776605799872794,
          0.01794283468212448,
          0.018296388083238115,
          0.018473164832171388,
          0.018826718167575838,
          0.01900349488339581,
          0.019180271535058788,
          0.019533824968595848,
          0.01988737833590633,
          0.0200641550374117,
          0.0204177084368007,
          0.02059448510467537,
          0.020948038537522584,
          0.021124815236441004,
          0.0214783685902992,
          0.02165514530577425,
          0.02200869869033123,
          0.02218547511916932,
          0.0225390284861349,
          0.022715805057774083,
          0.023069358393868408,
          0.023246135189712167,
          0.02359968868464676,
          0.023776465355625845,
          0.024130018624976192,
          0.024306795263359368,
          0.02466034879123479,
          0.02483712555568991,
          0.025190678859878208,
          0.02536745552844277,
          0.025721008863847226,
          0.02589778566124316,
          0.026251339029071025,
          0.026428115696945725,
          0.026596132531344786,
          0.026728740558805555,
          0.026806065761415268,
          0.02692680755804669,
          0.027042866804236204,
          0.027208011324281748,
          0.027309835478590068,
          0.027513481207129282,
          0.02761530529693567,
          0.02781895097511509,
          0.027920775115281283,
          0.028124420857617703,
          0.028328069087935205,
          0.028429890611806306,
          0.02863353885592101,
          0.02873536306058913,
          0.02893900873876855,
          0.029040832893076875,
          0.02924447855711415,
          0.02934630014514226,
          0.029550190729237938,
          0.02962996944371349,
          0.029738049767694757,
          0.029792550913809262,
          0.029876062182835776,
          0.029902224915053982,
          0.029942214363256617,
          0.0299573687929483,
          0.029980528491646875,
          0.029992959174301694
         ],
         "xaxis": "x4",
         "y": [
          1.0591711376926831,
          1.1986684195463415,
          1.319983282985366,
          1.4625794494341464,
          1.5038612460390244,
          1.605184820222581,
          1.4019894011,
          1.6721658598000002,
          1.6219943400571428,
          1.4643609468999998,
          1.6873072650999998,
          1.6156424126585367,
          1.5844668399024389,
          1.5421753638170732,
          1.5063737459243902,
          1.4197896837268291,
          1.380943002302439,
          1.4621691227634146,
          1.5107404798926831,
          1.5692185272170731,
          1.5643768817024388,
          1.578250386487805,
          1.5471378360390244,
          1.4563385434268292,
          1.3535187490439025,
          1.2944991026536583,
          1.2779629836756101,
          1.2966751662365854,
          1.4288138497878051,
          1.5576968779317073,
          1.7515092220243902,
          1.8771926023170733,
          2.1596864880243904,
          2.2715544819512195,
          2.3829580115121947,
          2.3966093662195123,
          2.504040841317073,
          2.572833920512195,
          2.7336809438780487,
          2.805650419414634,
          2.9559735631463417,
          3.0300307890731717,
          3.1411861483658536,
          3.184857565390244,
          3.3383027001951224,
          3.401960522195122,
          3.5219133940731706,
          3.5920583135853663,
          3.6918560545121952,
          3.726563168,
          3.8058912,
          3.840695472926829,
          3.894541794780488,
          3.938205161951219,
          4.047456642292683,
          4.09840156902439,
          4.206025741585366,
          4.266276648902439,
          4.386181450073171,
          4.463408568170732,
          4.599613385512195,
          4.6618222984390245,
          4.779995612609756,
          4.830233780463415,
          4.933216419439026,
          4.980527285097561,
          5.027200318609756,
          5.129566368317073,
          5.2167233827073165,
          5.249837692658536,
          5.292680120195122,
          5.312250303731707,
          5.371963970024391,
          5.411105267463415,
          5.4534217553170725,
          5.45646305714634,
          5.488672747097561,
          5.513298893390244,
          5.559189531585367,
          5.5989300625853655,
          5.651623714317073,
          5.65724864602439,
          5.664870238512195,
          5.678794694219513,
          5.669182702585366,
          5.622661212219511,
          5.657034680121951,
          5.6375454396585365,
          5.520302813560977,
          5.497086891243902,
          5.398693749731708,
          5.342776286146342,
          5.247663112121951,
          5.116858113682927,
          4.930035171,
          4.954793916268294,
          4.919917679317074,
          4.81831356502439,
          4.773304195414633,
          4.614140699146342,
          4.545505820853658,
          4.4112663834878045,
          4.3573274445853665,
          4.280406687682927,
          4.254390544585366,
          4.227770388756098,
          4.22139139307317,
          4.225706357,
          4.2567023183658526,
          4.2664698409268285,
          4.263496297878048,
          4.270874841609756,
          4.323822384463415,
          4.368005683731707,
          4.405776021073169,
          4.327320830951218,
          4.200702424780488,
          3.9713420596097566,
          3.0546780973902434,
          2.5697190792926827,
          1.639665561390244,
          1.2375793825097559,
          0.5864551907170732,
          0.22018155208963416
         ],
         "yaxis": "y4"
        },
        {
         "line": {
          "color": "blue"
         },
         "marker": {
          "size": 7
         },
         "mode": "lines",
         "name": "KW-SST-ASCII",
         "showlegend": false,
         "type": "scatter",
         "x": [
          0.004018580273522146,
          0.004056512552654007,
          0.0040962888218092856,
          0.00415386775575994,
          0.004197246988099546,
          0.004274593764647528,
          0.004326620294697583,
          0.0043297926358630496,
          0.004383763256234732,
          0.0045151954534969,
          0.004861359102557256,
          0.005214912476993053,
          0.005568465991471341,
          0.005922019440047281,
          0.006275572888623232,
          0.006629126304247997,
          0.0069826796704813435,
          0.007336233053084247,
          0.007689786402912792,
          0.008043339768969442,
          0.008396893151713805,
          0.00875044656730328,
          0.00910399996648785,
          0.009457553349020074,
          0.00981110674820464,
          0.010164660114473405,
          0.010518213497182415,
          0.010871766846975595,
          0.011225320509486752,
          0.011578873629010666,
          0.01210920380176863,
          0.012462757250344576,
          0.012816310501178213,
          0.01316986411440402,
          0.013523417266631588,
          0.013876970912631835,
          0.014230523968551406,
          0.01458407764587654,
          0.01493763082999454,
          0.015291184345392244,
          0.0156447376921448,
          0.015998291143902856,
          0.016351844461310532,
          0.01670539787559188,
          0.017058951256992774,
          0.017412504673041847,
          0.017766058089798115,
          0.01811961143761136,
          0.0184731648554283,
          0.018826718237182672,
          0.019180271618230046,
          0.019533825003166427,
          0.0198873784181549,
          0.02024093176844307,
          0.020594485216665532,
          0.0209480385330126,
          0.021301592015176167,
          0.02165514523288186,
          0.022008698847274404,
          0.02236225209715345,
          0.022715805150456715,
          0.023069358137292068,
          0.0234229121798378,
          0.02377646549724549,
          0.02413001854807395,
          0.02448357186724946,
          0.024837125907673858,
          0.02519067895956294,
          0.025544232081809247,
          0.02589778566120001,
          0.02625133937317329,
          0.02659080391924516,
          0.02680600822932768,
          0.02684491359020378,
          0.027042866804236204,
          0.027208011324281745,
          0.027411656988319037,
          0.02761530266649845,
          0.02781895097511509,
          0.02802259663915237,
          0.028226242303189663,
          0.028429890611806306,
          0.028633538920422943,
          0.028837184584460232,
          0.02904083024849751,
          0.02924447855711416,
          0.029448124221151437,
          0.02962996944371348,
          0.02973804976769476,
          0.029844678656012712,
          0.029902224915053975,
          0.029942214363256617,
          0.029969999671675008,
          0.029992959174301687
         ],
         "xaxis": "x4",
         "y": [
          1.0918217100799998,
          1.18966804504,
          1.273340874075,
          1.36392987493,
          1.459129005,
          1.5118024582,
          1.5012589778,
          1.5983681240999998,
          1.5632657952000002,
          1.5823939337,
          1.6364078048,
          1.4727598861000002,
          1.2828458009550001,
          1.126647819725,
          1.0489535373999999,
          1.0723821827700002,
          1.1714760749350002,
          1.2973334918000001,
          1.3612701636000002,
          1.24941845009,
          1.0549960000749998,
          1.113253458565,
          1.3208092143,
          1.5888917729499998,
          1.8674519389,
          2.1165905609,
          2.31061091585,
          2.45939285845,
          2.57719970455,
          2.6728835795,
          2.8405353252000003,
          2.9751508906999997,
          3.10350825295,
          3.22761333545,
          3.35289582275,
          3.47350889815,
          3.5841449231999998,
          3.68926112925,
          3.7934225315499996,
          3.89809259175,
          4.0032448293,
          4.1081007285,
          4.2119940164,
          4.3144203689000005,
          4.4148731589,
          4.51329974555,
          4.61009141625,
          4.705637161,
          4.8000532323,
          4.8931292783,
          4.98421623425,
          5.07210902895,
          5.15520827815,
          5.23198765075,
          5.3015453561,
          5.3632056026,
          5.4157768161,
          5.4578151335000005,
          5.48890952015,
          5.510553326599999,
          5.5271210859,
          5.54556455,
          5.56791258095,
          5.594253382050001,
          5.6211601577999994,
          5.63909137685,
          5.636207559600001,
          5.6094791313000005,
          5.5712445588,
          5.52850624255,
          5.4444625126,
          5.3111343679999985,
          5.0520032459,
          4.96757326935,
          4.8666088205500015,
          4.7176283967,
          4.604598827,
          4.520483238300001,
          4.44978032215,
          4.3864261464,
          4.330191773999999,
          4.28320455205,
          4.248117998550001,
          4.22441146115,
          4.208426397799999,
          4.19190885355,
          4.14172031615,
          3.9799712704,
          3.8768803548000004,
          3.45136659545,
          2.8142970637999998,
          1.94053924045,
          1.05968461535,
          0.258259105522
         ],
         "yaxis": "y4"
        },
        {
         "line": {
          "color": "black"
         },
         "marker": {
          "size": 7
         },
         "mode": "markers+lines",
         "name": "Experimental",
         "showlegend": false,
         "type": "scatter",
         "x": [
          0.010606602,
          0.011030866,
          0.01145513,
          0.011879394,
          0.012303658,
          0.012727922,
          0.013152186000000001,
          0.01357645,
          0.014000714,
          0.014424978,
          0.014849242,
          0.015273506000000001,
          0.015697771,
          0.016122035,
          0.016546299,
          0.016970563,
          0.017394826999999998,
          0.017819091000000002,
          0.018243355,
          0.018667619,
          0.019091883,
          0.019516147,
          0.019940411,
          0.020364675,
          0.020788939,
          0.021213202999999996,
          0.021637467999999997,
          0.022061732,
          0.022485996,
          0.02291026,
          0.023334524,
          0.023758788,
          0.024183052000000003,
          0.024607316,
          0.02503158,
          0.025455844,
          0.025880108,
          0.026304372000000003,
          0.026728636,
          0.0271529,
          0.027577163999999998,
          0.028001428999999998,
          0.028425693,
          0.028849957000000002,
          0.029274221,
          0.029698485
         ],
         "xaxis": "x4",
         "y": [
          1.47032772,
          1.689174954,
          1.894064756,
          2.1264871430000003,
          2.272784263,
          2.401318668,
          2.539667012,
          2.702462469,
          2.9061367989999995,
          3.119637635,
          3.3210095739999996,
          3.474365057,
          3.635859025,
          3.738272228,
          3.8512608860000004,
          3.940958453,
          4.027355506,
          4.093390321,
          4.171549409,
          4.233102482,
          4.309599319,
          4.382101112,
          4.472128745,
          4.571983234,
          4.643674635,
          4.753780094,
          4.874157148,
          5.011895485,
          5.137635037,
          5.231361781,
          5.326111497,
          5.411827194,
          5.449271872000001,
          5.471819192000001,
          5.403731552999999,
          5.253643708,
          5.073704115,
          4.867885108,
          4.68587519,
          4.525651246,
          4.473294948,
          4.484477779,
          4.507906786,
          4.520033153,
          4.604753542,
          3.9764802830000003
         ],
         "yaxis": "y4"
        },
        {
         "line": {
          "color": "red"
         },
         "marker": {
          "size": 7,
          "symbol": "triangle-right"
         },
         "mode": "lines",
         "name": "SBES-ASCII",
         "showlegend": false,
         "type": "scatter",
         "x": [
          0.0040063151325965005,
          0.004018580921640699,
          0.004035238218890343,
          0.004056513928720021,
          0.004096291466419692,
          0.004122420412127324,
          0.004153872578805947,
          0.004197247054001896,
          0.004206311860924559,
          0.004326620294697583,
          0.00438376319033238,
          0.004417587188540779,
          0.004507801913979152,
          0.004515195445259068,
          0.004684582273714052,
          0.0048613589778753385,
          0.0050381356821401,
          0.0053916890703532595,
          0.00556846581475064,
          0.005745242635343107,
          0.005922019319550215,
          0.006275572719922158,
          0.006452349396006181,
          0.006629126112257259,
          0.006805902796395414,
          0.007159456172656777,
          0.0073362328728513735,
          0.00751300958103113,
          0.007689786257166873,
          0.00804333965740091,
          0.008220116349506914,
          0.008396893057790159,
          0.008573669741859294,
          0.008927223150250928,
          0.009103999818229076,
          0.009280776518423704,
          0.009457553218463123,
          0.00981110661083276,
          0.009987883303145728,
          0.010164660019241644,
          0.010341436695498123,
          0.010518213395554782,
          0.010871766787907168,
          0.011048543367721169,
          0.011225320268596194,
          0.011402096920707571,
          0.011755650288949312,
          0.01193242702120525,
          0.01210920365720838,
          0.012285980341380969,
          0.012639533757775049,
          0.012816310457814444,
          0.012993087126016772,
          0.013169863890316729,
          0.013523417242467492,
          0.013700193942679382,
          0.013876970610743809,
          0.014053747326994931,
          0.014407300710655088,
          0.014584077427682338,
          0.014760854127980425,
          0.014937630811376971,
          0.015291184165235184,
          0.015467960929345366,
          0.015821514280444142,
          0.015998290965737794,
          0.016175067679488175,
          0.01635184434960492,
          0.016705397749511294,
          0.016882174464986344,
          0.01705895114907275,
          0.017235727835573658,
          0.017589281233927855,
          0.017766057918359182,
          0.017942834634006696,
          0.018119611284979808,
          0.018473164719724128,
          0.018649941403120672,
          0.018826718103246327,
          0.01900349478698781,
          0.019357048186894186,
          0.01953382487236031,
          0.019710601603874604,
          0.01988737827140436,
          0.020240931656651213,
          0.020417708372471203,
          0.02059448502447909,
          0.020771261741161392,
          0.021124815188323216,
          0.02130159182618897,
          0.021478368509930446,
          0.021655145225405497,
          0.02200869859392324,
          0.022185475054839827,
          0.022362251848614,
          0.02253902845405636,
          0.02289258159629995,
          0.023069358265381902,
          0.02324613506139813,
          0.023422911826715544,
          0.023599688652568226,
          0.02395324189501406,
          0.02413001852856821,
          0.024306795199029882,
          0.024483571899155523,
          0.024837125491532858,
          0.025190678763470208,
          0.025367455432034773,
          0.025544232164583867,
          0.02572100876743922,
          0.026074562330325044,
          0.026251338964913988,
          0.02642811566469473,
          0.026590804445332638,
          0.02659632068968135,
          0.02680587879824316,
          0.02685939366630038,
          0.026945710417353986,
          0.0270682154933973,
          0.02729725464888133,
          0.027399076511473837,
          0.027500900312918616,
          0.027602724467226936,
          0.027806370131264226,
          0.027908194285572542,
          0.028010018439880862,
          0.028111840014111763,
          0.02831548825822646,
          0.028417311386022708,
          0.02851913392226375,
          0.0287227822308804,
          0.028824603754751495,
          0.028926427894917683,
          0.029028252049226006,
          0.029231897727405424,
          0.029333721881713737,
          0.029435545059524844,
          0.02953715153877151,
          0.02972614745592265,
          0.02981023941621481,
          0.02984537145095264,
          0.02987661280033262,
          0.029924373083359924,
          0.029942472513800288,
          0.029957561083566377,
          0.029970134021963427,
          0.029992993419483107
         ],
         "xaxis": "x5",
         "y": [
          1.453493437390244,
          1.4396894711463415,
          1.4304578082329267,
          1.426662977912195,
          1.428101933195122,
          1.4281485948195125,
          1.420292005712195,
          1.4016789931,
          1.4166877253612904,
          1.24654197697,
          1.4833612133899998,
          1.25395503437,
          1.5793840679714284,
          1.3882653314700002,
          1.5534322603804878,
          1.563302582890244,
          1.5405997697414633,
          1.4540717236975609,
          1.4280992283146339,
          1.4180874685634146,
          1.4096023381,
          1.3602831521048782,
          1.3618763109756098,
          1.3775069492756096,
          1.359698773887805,
          1.3446511333878048,
          1.3650941738878049,
          1.4105076392170732,
          1.4569281771146338,
          1.465517543207317,
          1.47496387347561,
          1.4996402996902438,
          1.5250777072634147,
          1.5810405087682928,
          1.5907408132682923,
          1.6033321691414637,
          1.5968799444658537,
          1.6228864937829268,
          1.6323651262414631,
          1.6383658564585366,
          1.6324875851073168,
          1.601577998453659,
          1.7585925752609757,
          1.8513904390219516,
          1.930207731880488,
          2.045432330875609,
          2.188787683917073,
          2.2549564831780486,
          2.3932509479926827,
          2.5819944535439023,
          2.9058079040487805,
          3.0342559612926827,
          3.0912921977073173,
          3.166314035170732,
          3.4423092672926834,
          3.5429570059512194,
          3.6394245254146336,
          3.768932281536585,
          3.8597139289268285,
          3.9293739998292687,
          3.9844604812195117,
          4.056982544585367,
          4.323036263317073,
          4.460075785536586,
          4.607613687878049,
          4.664870337097561,
          4.7301168129024385,
          4.8151625646341465,
          4.9880506023658535,
          5.0526698195609745,
          5.108318447878049,
          5.165947338048781,
          5.26715450604878,
          5.308363246731708,
          5.34487888104878,
          5.385931000292684,
          5.473646590853659,
          5.527193439195122,
          5.581273170146341,
          5.636357871780487,
          5.779067207317072,
          5.848774930951219,
          5.895679974,
          5.934929482487805,
          6.0551937694390245,
          6.1105528758780485,
          6.157860503146344,
          6.216607195097562,
          6.336029086512196,
          6.3995884200000015,
          6.456093045536585,
          6.507067833951219,
          6.591930510902438,
          6.659102190878049,
          6.7356493660975625,
          6.813164614756098,
          6.949728274390244,
          7.013302651731707,
          7.079176327560977,
          7.130252068195121,
          7.1853391945853655,
          7.282419909243902,
          7.306030601439023,
          7.3561602657073175,
          7.406451569390245,
          7.460903652585365,
          7.4883655035853645,
          7.498153818951219,
          7.4640354706097565,
          7.4754994513170745,
          7.493008811804877,
          7.467946250390245,
          7.469843451268293,
          7.49169389755,
          7.4836409712857135,
          7.5135101120731695,
          7.480265423365854,
          7.454430863268293,
          7.419584135219511,
          7.449890669780487,
          7.451399226707318,
          7.408125419341463,
          7.391585083585366,
          7.332548478463415,
          7.315879899146342,
          7.270675224414633,
          7.273737673292682,
          7.226418979073171,
          7.181617778512195,
          7.149996574243902,
          7.077735858682928,
          7.053236733682928,
          7.073103775243903,
          7.048105717926829,
          6.938751359707317,
          6.881081429878049,
          6.8141590408780495,
          6.815023737512195,
          6.735406629756098,
          6.686314674731707,
          6.573913233804878,
          6.349117282073171,
          5.237850153243902,
          4.3481428357804885,
          3.387028993707317,
          2.4631967579756098,
          0.6111111827365854
         ],
         "yaxis": "y5"
        },
        {
         "line": {
          "color": "green"
         },
         "marker": {
          "size": 7,
          "symbol": "x"
         },
         "mode": "lines",
         "name": "IDDES-ASCII",
         "showlegend": false,
         "type": "scatter",
         "x": [
          0.004018580905566956,
          0.004035238238982524,
          0.004074573511882389,
          0.004096291454364384,
          0.004153872598811895,
          0.004197247054001896,
          0.0042063118715539695,
          0.0042745938302670376,
          0.0044175871555896026,
          0.004507801913979152,
          0.004515195437021271,
          0.004684582273714052,
          0.0050381356821401,
          0.005214912374159849,
          0.00556846581475064,
          0.005745242635343107,
          0.0060987960116734435,
          0.006275572719922158,
          0.006805902796395414,
          0.006982679480533487,
          0.0073362328728513735,
          0.00751300958103113,
          0.007689786257166873,
          0.007866562965329386,
          0.008220116349506914,
          0.008396893057790159,
          0.008750446433999805,
          0.008927223150250928,
          0.009280776518423704,
          0.009457553218463123,
          0.00981110661083276,
          0.009987883303145728,
          0.010341436695498123,
          0.010518213395554782,
          0.010871766787907168,
          0.011048543367721169,
          0.011402096920707571,
          0.011578873540602441,
          0.01193242702120525,
          0.01210920365720838,
          0.012462757089710631,
          0.012639533757775049,
          0.012993087126016772,
          0.013169863890316729,
          0.013523417242467492,
          0.013700193942679382,
          0.014053747326994931,
          0.014230524028983175,
          0.014584077427682338,
          0.014760854127980425,
          0.01511440749615324,
          0.015291184165235184,
          0.01564473757945616,
          0.015821514280444142,
          0.016175067679488175,
          0.01635184434960492,
          0.016705397749511294,
          0.016882174464986344,
          0.017235727835573658,
          0.01741250454932405,
          0.017766057918359182,
          0.017942834634006696,
          0.018296388003041838,
          0.018473164719724128,
          0.018826718103246327,
          0.01900349478698781,
          0.019357048186894186,
          0.01953382487236031,
          0.01988737827140436,
          0.020064154957042956,
          0.020417708372471203,
          0.02059448502447909,
          0.02094803845715384,
          0.021124815188323216,
          0.021478368509930446,
          0.021655145225405497,
          0.02200869859392324,
          0.022185475054839827,
          0.02253902845405636,
          0.022715804993617063,
          0.023069358265381902,
          0.02324613506139813,
          0.023599688652568226,
          0.023776465291296348,
          0.02413001852856821,
          0.024306795199029882,
          0.0246603487269053,
          0.024837125491532858,
          0.025190678763470208,
          0.025367455432034773,
          0.02572100876743922,
          0.025897785532584188,
          0.026251338964913988,
          0.02642811566469473,
          0.026728790223226426,
          0.02680587886240017,
          0.02685939366630038,
          0.0270682154933973,
          0.02720748185686614,
          0.02739907744175044,
          0.027500900312918616,
          0.027704548621535263,
          0.027908194285572542,
          0.028010018439880862,
          0.028213664103918144,
          0.02831548825822646,
          0.02851913392226375,
          0.02862095807657207,
          0.028824603754751495,
          0.028926427894917683,
          0.02913007613937732,
          0.029231897727405424,
          0.029435543455599705,
          0.02953715153877151,
          0.029726148487953626,
          0.02981023941621481,
          0.02987661280033262,
          0.0299026595453081,
          0.029942472513800288,
          0.029957561083566377,
          0.02998061798928984,
          0.029992993419483107
         ],
         "xaxis": "x5",
         "y": [
          1.4471682668536583,
          1.4415380150853658,
          1.4406835322756095,
          1.4415067301829267,
          1.4459861064536583,
          1.64824156958,
          1.392720750545161,
          1.7784921113499998,
          1.45926781103,
          1.3579761328857145,
          1.61011880372,
          1.4770154983146342,
          1.4318743374707317,
          1.3957344939341465,
          1.3003855908951218,
          1.3122035250512196,
          1.3219292316707316,
          1.2979412376609756,
          1.3329853478292684,
          1.2959365545560977,
          1.2623329582439025,
          1.282859609585366,
          1.3119334798731708,
          1.3454927881414631,
          1.4439281970536586,
          1.5014633543780491,
          1.5809115769512194,
          1.6153092080585365,
          1.6400683216073169,
          1.6258593497634146,
          1.7303717027317072,
          1.7175435474878047,
          1.7049462434146343,
          1.6938503410658536,
          1.719196699014634,
          1.7766375735024391,
          1.9889633937512197,
          2.0896517185317074,
          2.3518750837097557,
          2.440257480260976,
          2.593155483146341,
          2.7375415417073166,
          3.1028010252439024,
          3.2793521148536584,
          3.4797481919268294,
          3.5485273944634153,
          3.707500969512195,
          3.7976789558048782,
          4.03141424097561,
          4.151010311902439,
          4.341048811317073,
          4.442886418195122,
          4.601329402756098,
          4.674769212121951,
          4.870253013414634,
          4.943595922170731,
          5.0600130193658535,
          5.108434309926829,
          5.186248796512196,
          5.2282918235609745,
          5.316609478780489,
          5.350478619512195,
          5.442835256926829,
          5.486586491634146,
          5.555611593975611,
          5.577002770585366,
          5.6795464296585365,
          5.726817522365852,
          5.8490902164634155,
          5.91571120785366,
          6.049204447707317,
          6.1155239347073165,
          6.240437384756098,
          6.315327420073169,
          6.485181323170733,
          6.563186391658538,
          6.696582993243903,
          6.74610396185366,
          6.932585526414634,
          7.036693912780487,
          7.182940619170733,
          7.252468682536587,
          7.4156913210731705,
          7.456871797731707,
          7.461592633487805,
          7.455107496731707,
          7.421795322609756,
          7.434468252999999,
          7.511572183707317,
          7.493238341317074,
          7.483081536365853,
          7.48387702519512,
          7.478868199170733,
          7.499883492585366,
          7.453299349536585,
          7.459938439195121,
          7.4424663281219505,
          7.456737675878049,
          7.45880221795122,
          7.444892171341463,
          7.4211553535365855,
          7.352348592756098,
          7.311999854439025,
          7.3008505546829285,
          7.232293969390245,
          7.203304890780489,
          7.1827975822195125,
          7.156098499463416,
          7.091036950951219,
          7.063377578170733,
          6.963623260268292,
          6.912467525243902,
          6.862480314585365,
          6.8493010891219495,
          6.846579497731707,
          6.816176984390244,
          6.459650362780487,
          5.980017177585366,
          4.3471455267560986,
          3.386287187390244,
          1.6351182274634146,
          0.6119482572756098
         ],
         "yaxis": "y5"
        },
        {
         "line": {
          "color": "blue"
         },
         "marker": {
          "size": 7
         },
         "mode": "lines",
         "name": "KW-ASCII",
         "showlegend": false,
         "type": "scatter",
         "x": [
          0.004006314799649237,
          0.0040352372597983,
          0.0040745715880638675,
          0.0041224168547903855,
          0.004197246922197193,
          0.0043297926523386265,
          0.004383763322137084,
          0.00441758708968725,
          0.004684582411255817,
          0.005038135810475703,
          0.005391689176567628,
          0.005745242764973886,
          0.006098796131242592,
          0.006275572888623232,
          0.006629126304247997,
          0.0069826796704813435,
          0.007336233069559842,
          0.00768978640287743,
          0.00804333978544502,
          0.008396893184629623,
          0.008750446550863036,
          0.009103999950047608,
          0.009457553349055414,
          0.0098111067317644,
          0.010164660147389213,
          0.010518213497182396,
          0.010871766879891406,
          0.011225320509486752,
          0.011755650353192556,
          0.01210920380176863,
          0.012462757250344576,
          0.012816310501178213,
          0.013169864147319823,
          0.01352341723368041,
          0.013876970912631835,
          0.014230524001431863,
          0.014584077711637453,
          0.014937630862875013,
          0.015291184378272682,
          0.0156447376921448,
          0.015998291111022377,
          0.016351844494190988,
          0.016705397842711404,
          0.017058951289873232,
          0.017412504640161367,
          0.017766058089444557,
          0.01811961140473088,
          0.018473164822547832,
          0.01882671826970956,
          0.019180271552469097,
          0.019533825036046875,
          0.019887378384920863,
          0.020240931801677072,
          0.020594485150904583,
          0.02094803853301259,
          0.02130159204841018,
          0.021655145265762312,
          0.022008698814393927,
          0.02253902855839772,
          0.02289258161099391,
          0.02324613512568448,
          0.023599688968472525,
          0.02395324202177581,
          0.02430679507684696,
          0.02466034891963502,
          0.025013902370332342,
          0.025367455488335938,
          0.02572100867280761,
          0.0260745626495924,
          0.02642811589876428,
          0.02659080391924516,
          0.02659613272827404,
          0.026806008097805815,
          0.026945710417353986,
          0.02720748185686613,
          0.027399077473828932,
          0.027602724467226936,
          0.02780637013126422,
          0.02801001843988087,
          0.028213664103918144,
          0.028417312412534795,
          0.02862095807657207,
          0.028824603754751495,
          0.029028252049226003,
          0.02923189772740542,
          0.029435546021879932,
          0.029609125194454168,
          0.02981023941621481,
          0.029876612800332613,
          0.029924373083359924,
          0.029957561083566377,
          0.02998061540921242
         ],
         "xaxis": "x5",
         "y": [
          1.4556387588750002,
          1.4385497437,
          1.44422963045,
          1.4725333312,
          1.4911798868000001,
          1.5408497551,
          1.6270364852,
          1.6621846958000002,
          1.6316091863,
          1.6099777396500001,
          1.5695595813499998,
          1.53010233465,
          1.5027485131,
          1.4949428938,
          1.4876607053000002,
          1.4883958404,
          1.49411506405,
          1.5000410366499999,
          1.5021338221,
          1.50227507085,
          1.50864386095,
          1.5414002468,
          1.61242243855,
          1.66974959805,
          1.61819443625,
          1.4268868108000001,
          1.4407600133,
          1.92633403385,
          2.4315770398,
          2.52160178695,
          2.5857691222,
          2.63126723865,
          2.72515029685,
          2.95293985195,
          3.3088202681,
          3.705504898,
          4.0696468643,
          4.35730741435,
          4.5565231453,
          4.697858129649999,
          4.811508005199999,
          4.911439415249999,
          5.00396138515,
          5.0919887198,
          5.17717987235,
          5.26098834065,
          5.3452816862,
          5.43163065285,
          5.52033284205,
          5.61127768585,
          5.7048898911000006,
          5.801948820350001,
          5.903059692999999,
          6.00853164225,
          6.1187664598,
          6.2344562128,
          6.3550721892,
          6.47779297955,
          6.6616502214499995,
          6.7821895355,
          6.89861224285,
          7.0087595809500005,
          7.110977397249999,
          7.2034011731500005,
          7.284528094650001,
          7.35519801275,
          7.416794843949998,
          7.467830094350001,
          7.506059434500001,
          7.530544374550001,
          7.591905594399999,
          7.486570886299999,
          7.54537556805,
          7.544173650899999,
          7.526907390650001,
          7.504989129499999,
          7.47704987485,
          7.447549284400001,
          7.416272421249999,
          7.3776459965,
          7.323035835650001,
          7.246887718099999,
          7.151968247499998,
          7.0469260174,
          6.9462497613,
          6.871666954849999,
          6.806462948649999,
          6.6352394535500006,
          6.33037127285,
          5.5182192412,
          3.93464743685,
          1.9829291381
         ],
         "yaxis": "y5"
        },
        {
         "line": {
          "color": "black"
         },
         "marker": {
          "size": 7
         },
         "mode": "markers+lines",
         "name": "Experimental",
         "showlegend": false,
         "type": "scatter",
         "x": [
          0.008485280999999999,
          0.008909545,
          0.00933381,
          0.009758074,
          0.010182338,
          0.010606602,
          0.011030866,
          0.01145513,
          0.011879394,
          0.012303658,
          0.012727922,
          0.013152186000000001,
          0.01357645,
          0.014000714,
          0.014424978,
          0.014849242,
          0.015273506000000001,
          0.015697771,
          0.016122035,
          0.016546299,
          0.016970563,
          0.017394826999999998,
          0.017819091000000002,
          0.018243355,
          0.018667619,
          0.019091883,
          0.019516147,
          0.019940411,
          0.020364675,
          0.020788939,
          0.021213202999999996,
          0.021637467999999997,
          0.022061732,
          0.022485996,
          0.02291026,
          0.023334524,
          0.023758788,
          0.024183052000000003,
          0.024607316,
          0.02503158,
          0.025455844,
          0.025880108,
          0.026304372000000003,
          0.026728636,
          0.0271529,
          0.027577163999999998,
          0.028001428999999998,
          0.028425693,
          0.028849957000000002,
          0.029274221,
          0.029698485
         ],
         "xaxis": "x5",
         "y": [
          1.4290862030000002,
          1.304956016,
          1.3677885269999999,
          1.365288274,
          1.3631626680000002,
          1.395536198,
          1.503998937,
          1.7666735740000001,
          2.131084059,
          2.564652634,
          2.9573649,
          3.3135953910000002,
          3.610486085,
          3.8213131160000002,
          3.910514019,
          3.976263163,
          4.05031181,
          4.175811106,
          4.3381123939999995,
          4.565736372,
          4.794594996,
          4.987590166,
          5.179486734,
          5.34828983,
          5.556650452,
          5.721097751,
          5.866459835,
          5.9713360710000005,
          6.013008043999999,
          6.125078276,
          6.274260795,
          6.40723831,
          6.39907134,
          6.551348589,
          6.702272034,
          6.849695643,
          7.020861637,
          7.16965677,
          7.317306884,
          7.444685165,
          7.514078225,
          7.479776027000001,
          7.249534935,
          6.987652804,
          6.696612743999999,
          6.4708195470000005,
          6.36717822,
          6.338974905,
          6.350509296,
          6.098506782,
          4.525339649
         ],
         "yaxis": "y5"
        },
        {
         "line": {
          "color": "red"
         },
         "marker": {
          "size": 7,
          "symbol": "triangle-right"
         },
         "mode": "lines",
         "name": "SBES-ASCII",
         "showlegend": false,
         "type": "scatter",
         "x": [
          0.004006316264933156,
          0.004018581612294314,
          0.004035238361475839,
          0.004074572190748223,
          0.004096289350256054,
          0.0041224172639499615,
          0.00415386815373171,
          0.004197246955148368,
          0.004274593846671915,
          0.004326620294697583,
          0.004329833239789787,
          0.004383763256234732,
          0.004417587254443131,
          0.004507802062943135,
          0.004684582358032298,
          0.004861359054173951,
          0.0052149124464400285,
          0.005391689142616193,
          0.005568465887030811,
          0.005922019399850015,
          0.006098796083936366,
          0.0062755728002219565,
          0.006452349484325599,
          0.00680590286865834,
          0.006982679552813658,
          0.007159456244936938,
          0.007336232945114286,
          0.007689786329464279,
          0.007866563045629174,
          0.008043339737683449,
          0.008220116413750195,
          0.008573669814122206,
          0.008750446522336459,
          0.008927223198454955,
          0.009103999890509232,
          0.009457553282706406,
          0.009634329991110364,
          0.009811106683095658,
          0.009987883383462756,
          0.010341436767778284,
          0.010518213475854559,
          0.01069499016011343,
          0.01104854343196445,
          0.011225320332839465,
          0.011402097001007352,
          0.011578873636975963,
          0.011932427117578763,
          0.012109203753581894,
          0.012285980405641486,
          0.012462757153971157,
          0.01281631052205772,
          0.012993087190260063,
          0.013169863954577251,
          0.013346640606705882,
          0.013700193974775166,
          0.013876970723156568,
          0.01405374740731195,
          0.01423052406106172,
          0.014584077459760859,
          0.014760854208176716,
          0.014937630891745724,
          0.015114407560482747,
          0.015467960961423903,
          0.015644737675864166,
          0.015821514344601183,
          0.01599829104593408,
          0.016351844446012932,
          0.01652862111406008,
          0.016705397813840797,
          0.016882174529315848,
          0.017235727899903158,
          0.017412504629692804,
          0.0175892813301634,
          0.01776605799872794,
          0.01811961138138781,
          0.018296388083238115,
          0.018473164832171388,
          0.018649941467450176,
          0.01900349488339581,
          0.019180271535058788,
          0.01935704823501197,
          0.019533824968595848,
          0.01988737833590633,
          0.0200641550374117,
          0.02024093175288676,
          0.0204177084368007,
          0.020771261789279183,
          0.020948038537522584,
          0.021124815236441004,
          0.0213015918582675,
          0.02165514530577425,
          0.02183192200710717,
          0.02200869869033123,
          0.02218547511916932,
          0.0225390284861349,
          0.022715805057774083,
          0.02289258169270796,
          0.023069358393868408,
          0.023422911955202057,
          0.02359968868464676,
          0.023776465355625845,
          0.023953241959343542,
          0.024306795263359368,
          0.02448357199556352,
          0.02466034879123479,
          0.02483712555568991,
          0.025190678859878208,
          0.02536745552844277,
          0.025544232228913367,
          0.025721008863847226,
          0.02589778566124316,
          0.026251339029071025,
          0.026428115696945725,
          0.02659078295834419,
          0.026596132596752173,
          0.026728740430491543,
          0.02684491359020378,
          0.026926808007145732,
          0.027042867060864232,
          0.02710589677018657,
          0.027309835221962047,
          0.02741165724632677,
          0.02751348140063509,
          0.027615304783679632,
          0.02781895097511509,
          0.027920775115281283,
          0.028022598243077512,
          0.028124421050088718,
          0.02832806883130718,
          0.028429892215731438,
          0.028531714830271632,
          0.028633538533411336,
          0.02883718477693125,
          0.02893900873876855,
          0.029040831538536226,
          0.02914265530100392,
          0.029346302326480445,
          0.029550190729237938,
          0.02962996944371349,
          0.02970974288317244,
          0.029738049767694757,
          0.029844678656012712,
          0.029876062118678774,
          0.029902224915053982,
          0.029924033468596182,
          0.0299573687929483,
          0.02996999967167501,
          0.029980528491646875,
          0.029992959174301694
         ],
         "xaxis": "x6",
         "y": [
          1.463556064280488,
          1.468940070219512,
          1.4858983468292684,
          1.5153943927000002,
          1.5140404241463414,
          1.5002980564560977,
          1.4750145941268291,
          1.4828923437,
          1.448664337,
          1.3780497185,
          1.3992977157333333,
          1.37709317713,
          1.3721919305,
          1.4213116486619046,
          1.4397311607365857,
          1.4688764603804878,
          1.5028744736609756,
          1.4884323463146345,
          1.4576781428414636,
          1.2458654439756098,
          1.2222686529414637,
          1.233229704404878,
          1.2642715509951221,
          1.3808942408439024,
          1.4106933958756096,
          1.4232077889585366,
          1.4507828281341464,
          1.4753725783170732,
          1.4695539872439023,
          1.454362231302439,
          1.4832945447756098,
          1.719628903214634,
          1.8428639905439024,
          2.0085772752682933,
          2.178853668170732,
          2.5032315160487806,
          2.5970253239512195,
          2.778717783756097,
          3.003334895170732,
          3.1865834370975605,
          3.2686933424146343,
          3.32352019402439,
          3.473206609463414,
          3.5152777391463417,
          3.6853449712439033,
          3.8055228018292686,
          4.020561133878049,
          4.1533479475609765,
          4.193437525073171,
          4.263697425829268,
          4.435330443804878,
          4.4903227409512185,
          4.571204041756098,
          4.6442865012439025,
          4.782781970048781,
          4.852995161682927,
          4.926249410560977,
          4.987481937804878,
          5.151448232097561,
          5.227341701560976,
          5.287831242878049,
          5.3443077802682915,
          5.513518722804879,
          5.5773869555121935,
          5.654813440487803,
          5.744451810121952,
          5.93191921902439,
          6.005528506780487,
          6.081334455219513,
          6.156370562707317,
          6.3127694492195126,
          6.38021822,
          6.439738255390245,
          6.502093975707318,
          6.6462219375853655,
          6.708532833390242,
          6.756984894512193,
          6.834559670878049,
          7.011717978878049,
          7.085172102414634,
          7.158875473073171,
          7.2320120853902425,
          7.466705746341463,
          7.567982814414633,
          7.617738555536586,
          7.65825748902439,
          7.694468963170731,
          7.703518582341464,
          7.740382234731707,
          7.844081001585367,
          7.882569824609755,
          7.888282657146343,
          7.870174199121952,
          7.837683246121951,
          7.869618741634146,
          7.9175771372926835,
          7.898722625707317,
          7.858477758219513,
          7.9429196144878045,
          7.91380255695122,
          7.913984830317074,
          7.971871759243902,
          7.933032996878049,
          7.864764694585366,
          7.807724185121952,
          7.7594558110000005,
          7.708428176439026,
          7.641166086121951,
          7.623605867658536,
          7.600884760902439,
          7.599337456024392,
          7.250426476,
          7.055025149292683,
          6.969971477761905,
          6.916061525649999,
          6.873762558731706,
          6.749013670634147,
          6.5783984455609765,
          6.4325123463902445,
          6.307435273560976,
          6.1466946610731705,
          6.076060732024391,
          6.025576793439026,
          5.9809571629268286,
          5.951466489731708,
          5.95197012597561,
          5.949040626,
          5.931999248658537,
          5.9141255689268295,
          5.938540061146343,
          5.950079944024391,
          6.006117093097561,
          6.041883678707317,
          6.052215664512196,
          6.0605018280243925,
          6.088114508463415,
          6.130750467731708,
          6.1296836136829285,
          6.034093441317072,
          5.945874965,
          5.881384278317072,
          5.11908609685366,
          4.647790846585366,
          4.089306705682927,
          3.4598662081463414,
          2.148588014609756,
          1.546756381887805,
          1.0187934271902441,
          0.3791103996387805
         ],
         "yaxis": "y6"
        },
        {
         "line": {
          "color": "green"
         },
         "marker": {
          "size": 7,
          "symbol": "x"
         },
         "mode": "lines",
         "name": "IDDES-ASCII",
         "showlegend": false,
         "type": "scatter",
         "x": [
          0.0040063162609319655,
          0.004035238345402095,
          0.004056513278216275,
          0.0040962893623113636,
          0.004122417271986836,
          0.004206363439802267,
          0.004274593764647528,
          0.004326620294697583,
          0.0043298332711045094,
          0.0043837632232835546,
          0.0044175872214919564,
          0.004684582358032298,
          0.004861359054173951,
          0.0052149124464400285,
          0.005391689142616193,
          0.005745242707640523,
          0.005922019399850015,
          0.0062755728002219565,
          0.006452349484325599,
          0.00680590286865834,
          0.006982679552813658,
          0.007336232945114286,
          0.0075130096452744235,
          0.007866563045629174,
          0.008220116413750195,
          0.008396893114013811,
          0.008750446522336459,
          0.008927223198454955,
          0.009280776614814476,
          0.009457553282706406,
          0.009811106683095658,
          0.009987883383462756,
          0.010341436767778284,
          0.010518213475854559,
          0.010871766836111194,
          0.01104854343196445,
          0.011402097001007352,
          0.011578873636975963,
          0.011932427117578763,
          0.012109203753581894,
          0.012462757153971157,
          0.012639533854148562,
          0.012993087190260063,
          0.013169863954577251,
          0.013523417338823764,
          0.013700193974775166,
          0.01405374740731195,
          0.01423052406106172,
          0.014584077459760859,
          0.014760854208176716,
          0.015114407560482747,
          0.015291184213352975,
          0.015644737675864166,
          0.015821514344601183,
          0.016175067743817686,
          0.016351844446012932,
          0.016705397813840797,
          0.016882174529315848,
          0.017235727899903158,
          0.017412504629692804,
          0.01776605799872794,
          0.01794283468212448,
          0.018296388083238115,
          0.018473164832171388,
          0.018826718167575838,
          0.01900349488339581,
          0.019180271535058788,
          0.019533824968595848,
          0.01988737833590633,
          0.0200641550374117,
          0.0204177084368007,
          0.02059448510467537,
          0.020948038537522584,
          0.021124815236441004,
          0.0214783685902992,
          0.02165514530577425,
          0.02200869869033123,
          0.02218547511916932,
          0.0225390284861349,
          0.022715805057774083,
          0.023069358393868408,
          0.023246135189712167,
          0.02359968868464676,
          0.023776465355625845,
          0.024130018624976192,
          0.024306795263359368,
          0.02466034879123479,
          0.02483712555568991,
          0.025190678859878208,
          0.02536745552844277,
          0.025721008863847226,
          0.02589778566124316,
          0.026251339029071025,
          0.026428115696945725,
          0.026596132530991242,
          0.026728740494648545,
          0.02680606608220029,
          0.02692680755804669,
          0.027042866804236204,
          0.027208011324281748,
          0.027309835478590068,
          0.027513481207129282,
          0.027615302730655458,
          0.02781895097511509,
          0.027920775115281283,
          0.028124420857617703,
          0.028328069087935205,
          0.028429890611806306,
          0.02863353885592101,
          0.02873536306058913,
          0.02893900873876855,
          0.029040832893076875,
          0.02924447855711415,
          0.02934630271142248,
          0.029550190729237938,
          0.02962996944371349,
          0.029738049767694757,
          0.029792550913809262,
          0.029876062182835776,
          0.029902224915053982,
          0.029942214363256617,
          0.0299573687929483,
          0.029980528491646875,
          0.029992959174301694
         ],
         "xaxis": "x6",
         "y": [
          1.457958441012195,
          1.4718398929085366,
          1.4942702510926829,
          1.5078403246804881,
          1.5012764490292685,
          1.4519964356193549,
          1.5687811265,
          1.3520900822,
          1.474082931504762,
          1.6071672968,
          1.3418806823,
          1.4665181122146342,
          1.4277938397756098,
          1.4215181157390244,
          1.4221867494658538,
          1.3883051125951222,
          1.3704380066585369,
          1.3248379361,
          1.3578134149121952,
          1.4278890959243904,
          1.436086917907317,
          1.4340646298073172,
          1.3975696970804878,
          1.3981141863804878,
          1.445873179002439,
          1.4681563678585363,
          1.5892907311487807,
          1.7496585032365854,
          2.116710093507317,
          2.3259498932195117,
          2.6501162449756097,
          2.815174001146341,
          3.1061246826585367,
          3.1672631652926833,
          3.3183405536585364,
          3.3779601322926833,
          3.626685885609757,
          3.7106831232439017,
          3.941188898878049,
          4.098209924,
          4.278667554097561,
          4.3859624529268295,
          4.558187054439024,
          4.658551364707316,
          4.784512266634146,
          4.818332414463415,
          4.93314855695122,
          4.993491971268293,
          5.14256115997561,
          5.206836668682927,
          5.326763102634146,
          5.386678891731708,
          5.507564924512195,
          5.573839193609756,
          5.710709397243902,
          5.782868290707317,
          5.9542223275609745,
          6.043915887170732,
          6.220195851731707,
          6.320016508097561,
          6.482176027146343,
          6.5668716809268295,
          6.7575828264878055,
          6.855166095707316,
          7.010057193780487,
          7.092063067487805,
          7.166973549292682,
          7.279605795804878,
          7.4224237483170725,
          7.526541924609755,
          7.648051243292683,
          7.67833859812195,
          7.778910714268293,
          7.7830465059024405,
          7.809937287146343,
          7.8396885320243905,
          7.910331801463414,
          7.869200753170732,
          7.782243692731707,
          7.795227305414634,
          7.762684192,
          7.811289105512196,
          7.793074531268292,
          7.811865494414635,
          7.7733174907560985,
          7.755714299634147,
          7.766417532146341,
          7.766085277878048,
          7.698563701609756,
          7.636238418902439,
          7.5298850588048785,
          7.4136057262195125,
          7.120068634000001,
          6.9924089641463425,
          6.785253344599999,
          6.748179896243903,
          6.67183994095122,
          6.536096533024391,
          6.499012505634147,
          6.357140869804878,
          6.2891354447317065,
          6.17320574604878,
          6.1281275513658535,
          6.049364576073171,
          6.028217480487805,
          6.025597568707317,
          6.039984543195122,
          6.020568350682927,
          6.033551058682928,
          6.0711447137804875,
          6.171906459902438,
          6.203415085560977,
          6.196803008634147,
          6.191224441560976,
          6.214701054804879,
          6.158691095390244,
          6.037864992439023,
          5.773004648658537,
          4.683241464707319,
          4.0424156879268285,
          2.6766968200243904,
          2.035749051707317,
          0.9640579566707318,
          0.3602800626426829
         ],
         "yaxis": "y6"
        },
        {
         "line": {
          "color": "blue"
         },
         "marker": {
          "size": 7
         },
         "mode": "lines",
         "name": "KW-SST-ASCII",
         "showlegend": false,
         "type": "scatter",
         "x": [
          0.004018580273522146,
          0.004056512552654007,
          0.0040962888218092856,
          0.00415386775575994,
          0.004197246988099546,
          0.004274593764647528,
          0.004326620294697583,
          0.0043297926358630496,
          0.004383763256234732,
          0.0045151954534969,
          0.004861359102557256,
          0.005214912476993053,
          0.005568465991471341,
          0.005922019440047281,
          0.006275572888623232,
          0.006629126304247997,
          0.0069826796704813435,
          0.007336233053084247,
          0.007689786402912792,
          0.008043339768969442,
          0.008396893151713805,
          0.00875044656730328,
          0.00910399996648785,
          0.009457553349020074,
          0.00981110674820464,
          0.010164660114473405,
          0.010518213497182415,
          0.010871766846975595,
          0.011225320509486752,
          0.011578873629010666,
          0.01210920380176863,
          0.012462757250344576,
          0.012816310501178213,
          0.01316986411440402,
          0.013523417266631588,
          0.013876970912631835,
          0.014230523968551406,
          0.01458407764587654,
          0.01493763082999454,
          0.015291184345392244,
          0.0156447376921448,
          0.015998291143902856,
          0.016351844461310532,
          0.01670539787559188,
          0.017058951256992774,
          0.017412504673041847,
          0.017766058089798115,
          0.01811961143761136,
          0.0184731648554283,
          0.018826718237182672,
          0.019180271618230046,
          0.019533825003166427,
          0.0198873784181549,
          0.02024093176844307,
          0.020594485216665532,
          0.0209480385330126,
          0.021301592015176167,
          0.02165514523288186,
          0.022008698847274404,
          0.02236225209715345,
          0.022715805150456715,
          0.023069358137292068,
          0.0234229121798378,
          0.02377646549724549,
          0.02413001854807395,
          0.02448357186724946,
          0.024837125907673858,
          0.02519067895956294,
          0.025544232081809247,
          0.02589778566120001,
          0.02625133937317329,
          0.02659080391924516,
          0.02680600822932768,
          0.02684491359020378,
          0.027042866804236204,
          0.027208011324281745,
          0.027411656988319037,
          0.02761530266649845,
          0.02781895097511509,
          0.02802259663915237,
          0.028226242303189663,
          0.028429890611806306,
          0.028633538920422943,
          0.028837184584460232,
          0.02904083024849751,
          0.02924447855711416,
          0.029448124221151437,
          0.02962996944371348,
          0.02973804976769476,
          0.029844678656012712,
          0.029902224915053975,
          0.029942214363256617,
          0.029969999671675008,
          0.029992959174301687
         ],
         "xaxis": "x6",
         "y": [
          1.46730554395,
          1.4605388824,
          1.44097757405,
          1.41352403775,
          1.407093654,
          1.4117583286000002,
          1.4187459516,
          1.3860410063,
          1.4276333072,
          1.4365063846000001,
          1.43297013395,
          1.3469807880000002,
          1.240312941395,
          1.13000630131,
          1.0460386372750001,
          1.02060584122,
          1.07037251236,
          1.18080763985,
          1.24144596875,
          1.169986208755,
          1.240812017965,
          1.6922264336,
          2.2567228901500003,
          2.7182599841500004,
          3.0358385527499996,
          3.2388487433499997,
          3.4071007008,
          3.55513908075,
          3.71375283995,
          3.8920479364999996,
          4.1422236703,
          4.29347183845,
          4.442368314049999,
          4.582122185899999,
          4.7202346212,
          4.85888754395,
          4.9973516792,
          5.134854992999999,
          5.27160558285,
          5.40844992405,
          5.546230013350001,
          5.68628546375,
          5.8305372993,
          5.978785058450001,
          6.1300361069000004,
          6.2851242013999995,
          6.44338735985,
          6.6031361009500005,
          6.765209329799999,
          6.93045301225,
          7.098108684700001,
          7.26646833165,
          7.43155584055,
          7.585451084450001,
          7.7190796241,
          7.824830174550001,
          7.8958037450999985,
          7.936364009,
          7.950820316149999,
          7.934199041449999,
          7.899320705449999,
          7.87239508765,
          7.8417077435500016,
          7.8111045458,
          7.8046764838,
          7.8092047803,
          7.790113306649999,
          7.7426286975,
          7.674867464649999,
          7.576419639700002,
          7.407951622150001,
          7.1687728388,
          6.9676632338000015,
          6.879521771399999,
          6.76173855865,
          6.5871777675,
          6.41101990065,
          6.248463922899999,
          6.12095261575,
          6.04314533275,
          6.0168372208,
          6.0327180707000005,
          6.07618655975,
          6.1304877275,
          6.177693742050001,
          6.19701120835,
          6.137325090449999,
          5.904144930349999,
          5.7568120926,
          5.22330329855,
          4.443505745,
          3.2809770702500005,
          1.8830973455000002,
          0.4612897506925
         ],
         "yaxis": "y6"
        },
        {
         "line": {
          "color": "black"
         },
         "marker": {
          "size": 7
         },
         "mode": "markers+lines",
         "name": "Experimental",
         "showlegend": false,
         "type": "scatter",
         "x": [
          0.010606602,
          0.011030866,
          0.01145513,
          0.011879394,
          0.012303658,
          0.012727922,
          0.013152186000000001,
          0.01357645,
          0.014000714,
          0.014424978,
          0.014849242,
          0.015273506000000001,
          0.015697771,
          0.016122035,
          0.016546299,
          0.016970563,
          0.017394826999999998,
          0.017819091000000002,
          0.018243355,
          0.018667619,
          0.019091883,
          0.019516147,
          0.019940411,
          0.020364675,
          0.020788939,
          0.021213202999999996,
          0.021637467999999997,
          0.022061732,
          0.022485996,
          0.02291026,
          0.023334524,
          0.023758788,
          0.024183052000000003,
          0.024607316,
          0.02503158,
          0.025455844,
          0.025880108,
          0.026304372000000003,
          0.026728636,
          0.0271529,
          0.027577163999999998,
          0.028001428999999998,
          0.028425693,
          0.028849957000000002,
          0.029274221,
          0.029698485,
          0.030122749
         ],
         "xaxis": "x6",
         "y": [
          2.388529604,
          2.782821263,
          3.0487308810000004,
          3.300982443,
          3.5220561000000004,
          3.751692116,
          4.034038335,
          4.36277436,
          4.670491803,
          4.891481048999999,
          5.127681626,
          5.296215065,
          5.445017601,
          5.571099212999999,
          5.685633719,
          5.820896966,
          5.940701689,
          6.059609815,
          6.165522533,
          6.272161983999999,
          6.398504795,
          6.5297465820000005,
          6.663091559,
          6.803802676,
          6.942890342,
          7.090152623,
          7.240952375,
          7.397010836000001,
          7.539178199,
          7.633240036,
          7.715486218,
          7.76341337,
          7.76445379,
          7.714246068,
          7.5441227070000005,
          7.320170107,
          7.049112857999999,
          6.7161550320000005,
          6.353321145,
          6.218657845,
          6.1793274910000004,
          6.242483332999999,
          6.310694927,
          6.34820787,
          6.432506486,
          5.761625565,
          0.0
         ],
         "yaxis": "y6"
        }
       ],
       "layout": {
        "annotations": [
         {
          "font": {
           "size": 10
          },
          "showarrow": false,
          "text": "C1 Quadrant 1",
          "x": 0.245,
          "xanchor": "center",
          "xref": "paper",
          "y": 1.0,
          "yanchor": "bottom",
          "yref": "paper"
         },
         {
          "font": {
           "size": 10
          },
          "showarrow": false,
          "text": "C1 Quadrant 2",
          "x": 0.755,
          "xanchor": "center",
          "xref": "paper",
          "y": 1.0,
          "yanchor": "bottom",
          "yref": "paper"
         },
         {
          "font": {
           "size": 10
          },
          "showarrow": false,
          "text": "C4 Quadrant 1",
          "x": 0.245,
          "xanchor": "center",
          "xref": "paper",
          "y": 0.6433333333333333,
          "yanchor": "bottom",
          "yref": "paper"
         },
         {
          "font": {
           "size": 10
          },
          "showarrow": false,
          "text": "C4 Quadrant 2",
          "x": 0.755,
          "xanchor": "center",
          "xref": "paper",
          "y": 0.6433333333333333,
          "yanchor": "bottom",
          "yref": "paper"
         },
         {
          "font": {
           "size": 10
          },
          "showarrow": false,
          "text": "C5 Quadrant 1",
          "x": 0.245,
          "xanchor": "center",
          "xref": "paper",
          "y": 0.2866666666666667,
          "yanchor": "bottom",
          "yref": "paper"
         },
         {
          "font": {
           "size": 10
          },
          "showarrow": false,
          "text": "C5 Quadrant 2",
          "x": 0.755,
          "xanchor": "center",
          "xref": "paper",
          "y": 0.2866666666666667,
          "yanchor": "bottom",
          "yref": "paper"
         },
         {
          "font": {
           "size": 10
          },
          "showarrow": false,
          "text": "Radius (m)",
          "x": 0.5,
          "xanchor": "center",
          "xref": "paper",
          "y": 0,
          "yanchor": "top",
          "yref": "paper",
          "yshift": -30
         },
         {
          "font": {
           "size": 10
          },
          "showarrow": false,
          "text": "Velocity Magnitude (m/s)",
          "textangle": -90,
          "x": 0,
          "xanchor": "right",
          "xref": "paper",
          "xshift": -40,
          "y": 0.5,
          "yanchor": "middle",
          "yref": "paper"
         }
        ],
        "font": {
         "family": "Arial",
         "size": 12
        },
        "height": 800,
        "legend": {
         "itemsizing": "constant"
        },
        "template": {
         "data": {
          "bar": [
           {
            "error_x": {
             "color": "#2a3f5f"
            },
            "error_y": {
             "color": "#2a3f5f"
            },
            "marker": {
             "line": {
              "color": "#E5ECF6",
              "width": 0.5
             }
            },
            "type": "bar"
           }
          ],
          "barpolar": [
           {
            "marker": {
             "line": {
              "color": "#E5ECF6",
              "width": 0.5
             }
            },
            "type": "barpolar"
           }
          ],
          "carpet": [
           {
            "aaxis": {
             "endlinecolor": "#2a3f5f",
             "gridcolor": "white",
             "linecolor": "white",
             "minorgridcolor": "white",
             "startlinecolor": "#2a3f5f"
            },
            "baxis": {
             "endlinecolor": "#2a3f5f",
             "gridcolor": "white",
             "linecolor": "white",
             "minorgridcolor": "white",
             "startlinecolor": "#2a3f5f"
            },
            "type": "carpet"
           }
          ],
          "choropleth": [
           {
            "colorbar": {
             "outlinewidth": 0,
             "ticks": ""
            },
            "type": "choropleth"
           }
          ],
          "contour": [
           {
            "colorbar": {
             "outlinewidth": 0,
             "ticks": ""
            },
            "colorscale": [
             [
              0.0,
              "#0d0887"
             ],
             [
              0.1111111111111111,
              "#46039f"
             ],
             [
              0.2222222222222222,
              "#7201a8"
             ],
             [
              0.3333333333333333,
              "#9c179e"
             ],
             [
              0.4444444444444444,
              "#bd3786"
             ],
             [
              0.5555555555555556,
              "#d8576b"
             ],
             [
              0.6666666666666666,
              "#ed7953"
             ],
             [
              0.7777777777777778,
              "#fb9f3a"
             ],
             [
              0.8888888888888888,
              "#fdca26"
             ],
             [
              1.0,
              "#f0f921"
             ]
            ],
            "type": "contour"
           }
          ],
          "contourcarpet": [
           {
            "colorbar": {
             "outlinewidth": 0,
             "ticks": ""
            },
            "type": "contourcarpet"
           }
          ],
          "heatmap": [
           {
            "colorbar": {
             "outlinewidth": 0,
             "ticks": ""
            },
            "colorscale": [
             [
              0.0,
              "#0d0887"
             ],
             [
              0.1111111111111111,
              "#46039f"
             ],
             [
              0.2222222222222222,
              "#7201a8"
             ],
             [
              0.3333333333333333,
              "#9c179e"
             ],
             [
              0.4444444444444444,
              "#bd3786"
             ],
             [
              0.5555555555555556,
              "#d8576b"
             ],
             [
              0.6666666666666666,
              "#ed7953"
             ],
             [
              0.7777777777777778,
              "#fb9f3a"
             ],
             [
              0.8888888888888888,
              "#fdca26"
             ],
             [
              1.0,
              "#f0f921"
             ]
            ],
            "type": "heatmap"
           }
          ],
          "heatmapgl": [
           {
            "colorbar": {
             "outlinewidth": 0,
             "ticks": ""
            },
            "colorscale": [
             [
              0.0,
              "#0d0887"
             ],
             [
              0.1111111111111111,
              "#46039f"
             ],
             [
              0.2222222222222222,
              "#7201a8"
             ],
             [
              0.3333333333333333,
              "#9c179e"
             ],
             [
              0.4444444444444444,
              "#bd3786"
             ],
             [
              0.5555555555555556,
              "#d8576b"
             ],
             [
              0.6666666666666666,
              "#ed7953"
             ],
             [
              0.7777777777777778,
              "#fb9f3a"
             ],
             [
              0.8888888888888888,
              "#fdca26"
             ],
             [
              1.0,
              "#f0f921"
             ]
            ],
            "type": "heatmapgl"
           }
          ],
          "histogram": [
           {
            "marker": {
             "colorbar": {
              "outlinewidth": 0,
              "ticks": ""
             }
            },
            "type": "histogram"
           }
          ],
          "histogram2d": [
           {
            "colorbar": {
             "outlinewidth": 0,
             "ticks": ""
            },
            "colorscale": [
             [
              0.0,
              "#0d0887"
             ],
             [
              0.1111111111111111,
              "#46039f"
             ],
             [
              0.2222222222222222,
              "#7201a8"
             ],
             [
              0.3333333333333333,
              "#9c179e"
             ],
             [
              0.4444444444444444,
              "#bd3786"
             ],
             [
              0.5555555555555556,
              "#d8576b"
             ],
             [
              0.6666666666666666,
              "#ed7953"
             ],
             [
              0.7777777777777778,
              "#fb9f3a"
             ],
             [
              0.8888888888888888,
              "#fdca26"
             ],
             [
              1.0,
              "#f0f921"
             ]
            ],
            "type": "histogram2d"
           }
          ],
          "histogram2dcontour": [
           {
            "colorbar": {
             "outlinewidth": 0,
             "ticks": ""
            },
            "colorscale": [
             [
              0.0,
              "#0d0887"
             ],
             [
              0.1111111111111111,
              "#46039f"
             ],
             [
              0.2222222222222222,
              "#7201a8"
             ],
             [
              0.3333333333333333,
              "#9c179e"
             ],
             [
              0.4444444444444444,
              "#bd3786"
             ],
             [
              0.5555555555555556,
              "#d8576b"
             ],
             [
              0.6666666666666666,
              "#ed7953"
             ],
             [
              0.7777777777777778,
              "#fb9f3a"
             ],
             [
              0.8888888888888888,
              "#fdca26"
             ],
             [
              1.0,
              "#f0f921"
             ]
            ],
            "type": "histogram2dcontour"
           }
          ],
          "mesh3d": [
           {
            "colorbar": {
             "outlinewidth": 0,
             "ticks": ""
            },
            "type": "mesh3d"
           }
          ],
          "parcoords": [
           {
            "line": {
             "colorbar": {
              "outlinewidth": 0,
              "ticks": ""
             }
            },
            "type": "parcoords"
           }
          ],
          "pie": [
           {
            "automargin": true,
            "type": "pie"
           }
          ],
          "scatter": [
           {
            "marker": {
             "colorbar": {
              "outlinewidth": 0,
              "ticks": ""
             }
            },
            "type": "scatter"
           }
          ],
          "scatter3d": [
           {
            "line": {
             "colorbar": {
              "outlinewidth": 0,
              "ticks": ""
             }
            },
            "marker": {
             "colorbar": {
              "outlinewidth": 0,
              "ticks": ""
             }
            },
            "type": "scatter3d"
           }
          ],
          "scattercarpet": [
           {
            "marker": {
             "colorbar": {
              "outlinewidth": 0,
              "ticks": ""
             }
            },
            "type": "scattercarpet"
           }
          ],
          "scattergeo": [
           {
            "marker": {
             "colorbar": {
              "outlinewidth": 0,
              "ticks": ""
             }
            },
            "type": "scattergeo"
           }
          ],
          "scattergl": [
           {
            "marker": {
             "colorbar": {
              "outlinewidth": 0,
              "ticks": ""
             }
            },
            "type": "scattergl"
           }
          ],
          "scattermapbox": [
           {
            "marker": {
             "colorbar": {
              "outlinewidth": 0,
              "ticks": ""
             }
            },
            "type": "scattermapbox"
           }
          ],
          "scatterpolar": [
           {
            "marker": {
             "colorbar": {
              "outlinewidth": 0,
              "ticks": ""
             }
            },
            "type": "scatterpolar"
           }
          ],
          "scatterpolargl": [
           {
            "marker": {
             "colorbar": {
              "outlinewidth": 0,
              "ticks": ""
             }
            },
            "type": "scatterpolargl"
           }
          ],
          "scatterternary": [
           {
            "marker": {
             "colorbar": {
              "outlinewidth": 0,
              "ticks": ""
             }
            },
            "type": "scatterternary"
           }
          ],
          "surface": [
           {
            "colorbar": {
             "outlinewidth": 0,
             "ticks": ""
            },
            "colorscale": [
             [
              0.0,
              "#0d0887"
             ],
             [
              0.1111111111111111,
              "#46039f"
             ],
             [
              0.2222222222222222,
              "#7201a8"
             ],
             [
              0.3333333333333333,
              "#9c179e"
             ],
             [
              0.4444444444444444,
              "#bd3786"
             ],
             [
              0.5555555555555556,
              "#d8576b"
             ],
             [
              0.6666666666666666,
              "#ed7953"
             ],
             [
              0.7777777777777778,
              "#fb9f3a"
             ],
             [
              0.8888888888888888,
              "#fdca26"
             ],
             [
              1.0,
              "#f0f921"
             ]
            ],
            "type": "surface"
           }
          ],
          "table": [
           {
            "cells": {
             "fill": {
              "color": "#EBF0F8"
             },
             "line": {
              "color": "white"
             }
            },
            "header": {
             "fill": {
              "color": "#C8D4E3"
             },
             "line": {
              "color": "white"
             }
            },
            "type": "table"
           }
          ]
         },
         "layout": {
          "annotationdefaults": {
           "arrowcolor": "#2a3f5f",
           "arrowhead": 0,
           "arrowwidth": 1
          },
          "coloraxis": {
           "colorbar": {
            "outlinewidth": 0,
            "ticks": ""
           }
          },
          "colorscale": {
           "diverging": [
            [
             0,
             "#8e0152"
            ],
            [
             0.1,
             "#c51b7d"
            ],
            [
             0.2,
             "#de77ae"
            ],
            [
             0.3,
             "#f1b6da"
            ],
            [
             0.4,
             "#fde0ef"
            ],
            [
             0.5,
             "#f7f7f7"
            ],
            [
             0.6,
             "#e6f5d0"
            ],
            [
             0.7,
             "#b8e186"
            ],
            [
             0.8,
             "#7fbc41"
            ],
            [
             0.9,
             "#4d9221"
            ],
            [
             1,
             "#276419"
            ]
           ],
           "sequential": [
            [
             0.0,
             "#0d0887"
            ],
            [
             0.1111111111111111,
             "#46039f"
            ],
            [
             0.2222222222222222,
             "#7201a8"
            ],
            [
             0.3333333333333333,
             "#9c179e"
            ],
            [
             0.4444444444444444,
             "#bd3786"
            ],
            [
             0.5555555555555556,
             "#d8576b"
            ],
            [
             0.6666666666666666,
             "#ed7953"
            ],
            [
             0.7777777777777778,
             "#fb9f3a"
            ],
            [
             0.8888888888888888,
             "#fdca26"
            ],
            [
             1.0,
             "#f0f921"
            ]
           ],
           "sequentialminus": [
            [
             0.0,
             "#0d0887"
            ],
            [
             0.1111111111111111,
             "#46039f"
            ],
            [
             0.2222222222222222,
             "#7201a8"
            ],
            [
             0.3333333333333333,
             "#9c179e"
            ],
            [
             0.4444444444444444,
             "#bd3786"
            ],
            [
             0.5555555555555556,
             "#d8576b"
            ],
            [
             0.6666666666666666,
             "#ed7953"
            ],
            [
             0.7777777777777778,
             "#fb9f3a"
            ],
            [
             0.8888888888888888,
             "#fdca26"
            ],
            [
             1.0,
             "#f0f921"
            ]
           ]
          },
          "colorway": [
           "#636efa",
           "#EF553B",
           "#00cc96",
           "#ab63fa",
           "#FFA15A",
           "#19d3f3",
           "#FF6692",
           "#B6E880",
           "#FF97FF",
           "#FECB52"
          ],
          "font": {
           "color": "#2a3f5f"
          },
          "geo": {
           "bgcolor": "white",
           "lakecolor": "white",
           "landcolor": "#E5ECF6",
           "showlakes": true,
           "showland": true,
           "subunitcolor": "white"
          },
          "hoverlabel": {
           "align": "left"
          },
          "hovermode": "closest",
          "mapbox": {
           "style": "light"
          },
          "paper_bgcolor": "white",
          "plot_bgcolor": "#E5ECF6",
          "polar": {
           "angularaxis": {
            "gridcolor": "white",
            "linecolor": "white",
            "ticks": ""
           },
           "bgcolor": "#E5ECF6",
           "radialaxis": {
            "gridcolor": "white",
            "linecolor": "white",
            "ticks": ""
           }
          },
          "scene": {
           "xaxis": {
            "backgroundcolor": "#E5ECF6",
            "gridcolor": "white",
            "gridwidth": 2,
            "linecolor": "white",
            "showbackground": true,
            "ticks": "",
            "zerolinecolor": "white"
           },
           "yaxis": {
            "backgroundcolor": "#E5ECF6",
            "gridcolor": "white",
            "gridwidth": 2,
            "linecolor": "white",
            "showbackground": true,
            "ticks": "",
            "zerolinecolor": "white"
           },
           "zaxis": {
            "backgroundcolor": "#E5ECF6",
            "gridcolor": "white",
            "gridwidth": 2,
            "linecolor": "white",
            "showbackground": true,
            "ticks": "",
            "zerolinecolor": "white"
           }
          },
          "shapedefaults": {
           "line": {
            "color": "#2a3f5f"
           }
          },
          "ternary": {
           "aaxis": {
            "gridcolor": "white",
            "linecolor": "white",
            "ticks": ""
           },
           "baxis": {
            "gridcolor": "white",
            "linecolor": "white",
            "ticks": ""
           },
           "bgcolor": "#E5ECF6",
           "caxis": {
            "gridcolor": "white",
            "linecolor": "white",
            "ticks": ""
           }
          },
          "title": {
           "x": 0.05
          },
          "xaxis": {
           "automargin": true,
           "gridcolor": "white",
           "linecolor": "white",
           "ticks": "",
           "title": {
            "standoff": 15
           },
           "zerolinecolor": "white",
           "zerolinewidth": 2
          },
          "yaxis": {
           "automargin": true,
           "gridcolor": "white",
           "linecolor": "white",
           "ticks": "",
           "title": {
            "standoff": 15
           },
           "zerolinecolor": "white",
           "zerolinewidth": 2
          }
         }
        },
        "title": {
         "text": "Velocity Magnitude vs Experimental"
        },
        "width": 600,
        "xaxis": {
         "anchor": "y",
         "domain": [
          0.0,
          0.49
         ]
        },
        "xaxis2": {
         "anchor": "y2",
         "domain": [
          0.51,
          1.0
         ]
        },
        "xaxis3": {
         "anchor": "y3",
         "domain": [
          0.0,
          0.49
         ]
        },
        "xaxis4": {
         "anchor": "y4",
         "domain": [
          0.51,
          1.0
         ]
        },
        "xaxis5": {
         "anchor": "y5",
         "domain": [
          0.0,
          0.49
         ]
        },
        "xaxis6": {
         "anchor": "y6",
         "domain": [
          0.51,
          1.0
         ]
        },
        "yaxis": {
         "anchor": "x",
         "domain": [
          0.7133333333333334,
          1.0
         ]
        },
        "yaxis2": {
         "anchor": "x2",
         "domain": [
          0.7133333333333334,
          1.0
         ],
         "matches": "y",
         "showticklabels": false
        },
        "yaxis3": {
         "anchor": "x3",
         "domain": [
          0.3566666666666667,
          0.6433333333333333
         ]
        },
        "yaxis4": {
         "anchor": "x4",
         "domain": [
          0.3566666666666667,
          0.6433333333333333
         ],
         "matches": "y3",
         "showticklabels": false
        },
        "yaxis5": {
         "anchor": "x5",
         "domain": [
          0.0,
          0.2866666666666667
         ]
        },
        "yaxis6": {
         "anchor": "x6",
         "domain": [
          0.0,
          0.2866666666666667
         ],
         "matches": "y5",
         "showticklabels": false
        }
       }
      },
      "text/html": "<div>\n        \n        \n            <div id=\"60ddbebe-d135-4cc7-a500-b26eb9f0d657\" class=\"plotly-graph-div\" style=\"height:800px; width:600px;\"></div>\n            <script type=\"text/javascript\">\n                require([\"plotly\"], function(Plotly) {\n                    window.PLOTLYENV=window.PLOTLYENV || {};\n                    \n                if (document.getElementById(\"60ddbebe-d135-4cc7-a500-b26eb9f0d657\")) {\n                    Plotly.newPlot(\n                        '60ddbebe-d135-4cc7-a500-b26eb9f0d657',\n                        [{\"line\": {\"dash\": \"dash\"}, \"marker\": {\"color\": \"red\", \"line\": {\"color\": \"red\"}, \"size\": 7, \"symbol\": \"triangle-right\"}, \"mode\": \"lines\", \"name\": \"SBES-ASCII\", \"type\": \"scatter\", \"x\": [0.004006315132562008, 0.004035238232972117, 0.004056513976941254, 0.004074573523937696, 0.004096291446327512, 0.004153872578805947, 0.004197247054001896, 0.004206311818406912, 0.004326620294697583, 0.004329752003591482, 0.00438376319033238, 0.0044175871555896026, 0.004507801913979152, 0.004515195437021271, 0.0048613589778753385, 0.0050381356821401, 0.005214912374159849, 0.0053916890703532595, 0.005745242635343107, 0.005922019319550215, 0.0060987960116734435, 0.006452349396006181, 0.006629126112257259, 0.006805902796395414, 0.006982679480533487, 0.0073362328728513735, 0.00751300958103113, 0.007689786257166873, 0.007866562965329386, 0.008220116349506914, 0.008396893057790159, 0.008573669741859294, 0.008927223150250928, 0.009103999818229076, 0.009280776518423704, 0.009457553218463123, 0.00981110661083276, 0.009987883303145728, 0.010164660019241644, 0.010341436695498123, 0.010694990087833277, 0.010871766787907168, 0.011048543367721169, 0.011225320268596194, 0.011578873540602441, 0.011755650288949312, 0.01193242702120525, 0.01210920365720838, 0.012462757089710631, 0.012639533757775049, 0.012816310457814444, 0.012993087126016772, 0.013346640526388854, 0.013523417242467492, 0.013700193942679382, 0.013876970610743809, 0.014230524028983175, 0.014407300710655088, 0.014584077427682338, 0.014760854127980425, 0.01511440749615324, 0.015291184165235184, 0.015467960929345366, 0.01564473757945616, 0.015821514280444142, 0.015998290965737794, 0.01635184434960492, 0.016528621017652068, 0.016882174464986344, 0.01705895114907275, 0.017235727835573658, 0.01741250454932405, 0.017589281233927855, 0.017942834634006696, 0.018119611284979808, 0.018296388003041838, 0.018473164719724128, 0.018826718103246327, 0.01900349478698781, 0.01918027147090174, 0.019357048186894186, 0.019710601603874604, 0.01988737827140436, 0.020064154957042956, 0.020417708372471203, 0.02059448502447909, 0.020771261741161392, 0.02094803845715384, 0.02130159182618897, 0.021478368509930446, 0.021655145225405497, 0.02183192192673841, 0.022185475054839827, 0.022362251848614, 0.02253902845405636, 0.022715804993617063, 0.023069358265381902, 0.02324613506139813, 0.023422911826715544, 0.023599688652568226, 0.02395324189501406, 0.02413001852856821, 0.024306795199029882, 0.024483571899155523, 0.024837125491532858, 0.02501390209663029, 0.025190678763470208, 0.025367455432034773, 0.02572100876743922, 0.025897785532584188, 0.026074562330325044, 0.026251338964913988, 0.026590804313810768, 0.02659632068968135, 0.02672879009491241, 0.02680587886240017, 0.02685939366630038, 0.026945710417353986, 0.0270682154933973, 0.02729725464888133, 0.0273990761906888, 0.027500900312918616, 0.027602724467226936, 0.027806370131264226, 0.027908194285572542, 0.028010018439880862, 0.028111839949609824, 0.02831548825822646, 0.028417309846254575, 0.02851913392226375, 0.02862095807657207, 0.028824603754751495, 0.028926427894917683, 0.029028252049226006, 0.029130073637254107, 0.029333721881713737, 0.029435546021879932, 0.02953715153877151, 0.029609125194454168, 0.02981023941621481, 0.02984537145095264, 0.02987661280033262, 0.0299026595453081, 0.029942472577957305, 0.029957561083566377, 0.029970134021963427, 0.02998061540921242], \"xaxis\": \"x\", \"y\": [1.0452992086829267, 1.0377626866280487, 1.0273166387317074, 1.0148296744536585, 0.9961959928756096, 0.9361975280414634, 0.9340256218899999, 0.8645618239806451, 0.78682861052, 0.7390801472428572, 0.79834971951, 0.75734953366, 0.6560728911428572, 0.7254755997600001, 0.6380296684243904, 0.6308416509170731, 0.619883264607317, 0.6080387442951221, 0.6032594681512196, 0.6061787502512195, 0.6069584240536585, 0.6080309654609757, 0.6154426035390244, 0.6302363392585366, 0.6483376453390244, 0.6889963811390244, 0.7124973573341463, 0.7215021425170732, 0.7239385569243902, 0.7538683046390244, 0.7729064040682927, 0.7951577536609755, 0.8890605822390244, 0.8849288248999999, 0.8983559555487804, 0.9562138667463416, 1.2041458285487805, 1.3879374877902442, 1.5603415168439023, 1.7587032403414635, 2.0257468904780493, 2.1248886474439024, 2.210172365148781, 2.250507429365854, 2.2992291470243904, 2.3433710808536583, 2.3918052754146344, 2.462508040682927, 2.5533634733902444, 2.55843203202439, 2.5954438678536587, 2.6857927331951217, 2.811015019609756, 2.8569697434146337, 2.9087255969268293, 2.971458830829268, 3.0849663927317077, 3.1283803640487804, 3.1720263415121948, 3.2296179442195125, 3.3323121980487804, 3.3723750560975607, 3.4085379614390243, 3.442101546609756, 3.484891884268293, 3.534427275707317, 3.6506395206585367, 3.7064673852439034, 3.7946538030487797, 3.8402753542682926, 3.891091587219512, 3.94482197595122, 4.001037804390244, 4.119518002341463, 4.177939347463414, 4.231584523195122, 4.282765777195122, 4.387938336780486, 4.4365527665609745, 4.486141164878049, 4.53913883395122, 4.658339380682927, 4.718150372512195, 4.77829402897561, 4.905657898682927, 4.967386357024392, 5.026745715365854, 5.077461295341463, 5.166346596268292, 5.223156890487805, 5.267715308487804, 5.304853733463414, 5.345977262414634, 5.363743110853658, 5.377593713292684, 5.404438969902438, 5.444928305, 5.458413573585366, 5.483224539560974, 5.518787413292682, 5.5194330826829265, 5.5234465880731705, 5.504932774609755, 5.48402585, 5.480590460804878, 5.503343659170731, 5.491169562463415, 5.4419704484634135, 5.467511803317073, 5.461892769878047, 5.449522679268292, 5.39769047597561, 5.38438630355, 5.38060730152381, 5.360930895365853, 5.354606129146341, 5.323320509073171, 5.3056090607560975, 5.261457548170732, 5.222481686073171, 5.188189351804878, 5.149726878512196, 5.112556184024389, 5.032374761804879, 4.985883832902439, 4.951138055243902, 4.916709227878049, 4.86064080897561, 4.818005411780488, 4.790192035317073, 4.754975245853658, 4.6882319581951215, 4.658091996414634, 4.613843596707317, 4.602008438658536, 4.600431048097562, 4.6035492344878035, 4.613775693292683, 4.602177778804878, 4.423215877243902, 4.130215493951218, 3.774657503097561, 3.3014775279268296, 2.1955277996829268, 1.6649317410731703, 1.1914397144292683, 0.7830530778390243], \"yaxis\": \"y\"}, {\"line\": {\"dash\": \"dot\"}, \"marker\": {\"color\": \"green\", \"line\": {\"color\": \"green\"}, \"size\": 7, \"symbol\": \"x\"}, \"mode\": \"lines\", \"name\": \"IDDES-ASCII\", \"type\": \"scatter\", \"x\": [0.004006315132562008, 0.004035238224935244, 0.0040565139689043815, 0.004096291458382821, 0.004122420412127324, 0.004197247054001896, 0.004206311829036324, 0.004326620294697583, 0.004329752003591482, 0.00438376319033238, 0.004515195437021271, 0.004684582273714052, 0.0048613589778753385, 0.005214912374159849, 0.0053916890703532595, 0.005745242635343107, 0.005922019319550215, 0.006275572719922158, 0.006452349396006181, 0.006805902796395414, 0.006982679480533487, 0.0073362328728513735, 0.00751300958103113, 0.007866562965329386, 0.00804333965740091, 0.008396893057790159, 0.008750446433999805, 0.008927223150250928, 0.009280776518423704, 0.009457553218463123, 0.00981110661083276, 0.009987883303145728, 0.010341436695498123, 0.010518213395554782, 0.010871766787907168, 0.011048543367721169, 0.011402096920707571, 0.011578873540602441, 0.01193242702120525, 0.01210920365720838, 0.012462757089710631, 0.012639533757775049, 0.012993087126016772, 0.013169863890316729, 0.013523417242467492, 0.013700193942679382, 0.014053747326994931, 0.014230524028983175, 0.014584077427682338, 0.014760854127980425, 0.01511440749615324, 0.015291184165235184, 0.01564473757945616, 0.015821514280444142, 0.016175067679488175, 0.01635184434960492, 0.016705397749511294, 0.016882174464986344, 0.017235727835573658, 0.01741250454932405, 0.017766057918359182, 0.017942834634006696, 0.018296388003041838, 0.018473164719724128, 0.018826718103246327, 0.01900349478698781, 0.019357048186894186, 0.01953382487236031, 0.01988737827140436, 0.020064154957042956, 0.020417708372471203, 0.02059448502447909, 0.02094803845715384, 0.021124815188323216, 0.021478368509930446, 0.021655145225405497, 0.02200869859392324, 0.022185475054839827, 0.02253902845405636, 0.022715804993617063, 0.023069358265381902, 0.02324613506139813, 0.023599688652568226, 0.023776465291296348, 0.02413001852856821, 0.024306795199029882, 0.0246603487269053, 0.024837125491532858, 0.025190678763470208, 0.025367455432034773, 0.02572100876743922, 0.025897785532584188, 0.026251338964913988, 0.02642811566469473, 0.026728790030755404, 0.026805878926557173, 0.026945710417353986, 0.0270682154933973, 0.02729725464888133, 0.027500900312918616, 0.027602724467226936, 0.027806370131264226, 0.027908194285572542, 0.028111839949609824, 0.028213664103918144, 0.0284173124125348, 0.02851913392226375, 0.0287227822308804, 0.028824603754751495, 0.028926427894917683, 0.02913007613937732, 0.029231897727405424, 0.029435543391442706, 0.02953715153877151, 0.029726148487953626, 0.02981023941621481, 0.02987661280033262, 0.0299026595453081, 0.029942472513800288, 0.029957561083566377, 0.029980615473714355, 0.029992993419483107], \"xaxis\": \"x\", \"y\": [1.045636644707317, 1.0400184790097562, 1.0315560878853658, 1.0051559121487803, 0.9824071463219513, 0.95076125754, 0.881576957183871, 0.82138220382, 0.744401120047619, 0.75377136333, 0.6754142114849999, 0.6001017842634147, 0.5667411983146342, 0.5563314636780488, 0.5482999570243903, 0.5511764835756098, 0.5564034093975609, 0.5629055984439024, 0.5597226116146342, 0.5617797745512195, 0.5789178145560976, 0.6286457123731707, 0.6505895084804878, 0.7115938464878049, 0.7474935090390245, 0.785107970497561, 0.8068515430243903, 0.8146577241585365, 0.9562749492243902, 1.0450911969926828, 1.2511465556390244, 1.399134938392683, 1.7289048863219512, 1.8919935846146343, 2.0928113338609755, 2.176376794912195, 2.314112920097561, 2.350475776, 2.3707813114390244, 2.407808466, 2.552852279, 2.6478877201219517, 2.7586908735365854, 2.8059339112439026, 2.877516901195122, 2.926960585170732, 3.046007392707317, 3.095654623975609, 3.2009931292439027, 3.245619531536585, 3.3325516335121947, 3.366611194292682, 3.435868408560976, 3.479912204512195, 3.5608592655121947, 3.6028608547073167, 3.6858025770731695, 3.7297558396097563, 3.8496736312926827, 3.9169905206829267, 4.0358162990975615, 4.092321047292683, 4.20729075204878, 4.266868285170732, 4.3870221614146345, 4.446512374682927, 4.5609040324390255, 4.6141395809512185, 4.707780972390244, 4.757386834121951, 4.862863726634147, 4.923863129634147, 5.052073143487805, 5.101736208195122, 5.206911540609756, 5.266784197243903, 5.3604530413658535, 5.4006408057560975, 5.476517809951219, 5.508855264585367, 5.498271020853657, 5.472482395878049, 5.4839490945121945, 5.498325660829269, 5.5329853467317065, 5.530584207170732, 5.473172762097561, 5.435309576536587, 5.4362809538780485, 5.441556164, 5.401432990902438, 5.378328715853659, 5.331412680170732, 5.3006090378536594, 5.290754457097561, 5.293730854926829, 5.259471963243902, 5.242526665390244, 5.198569994634147, 5.176847974439024, 5.156464830707316, 5.056828103902438, 4.974707079804879, 4.8488562660975605, 4.836244478853659, 4.792305502097562, 4.754835743390244, 4.710361808634146, 4.693586132536585, 4.685953255414634, 4.6562048690731705, 4.640323827658537, 4.656963570512195, 4.686651692317073, 4.708201970756098, 4.629028062268293, 3.9427341043658535, 3.4362206219756097, 2.283000198902439, 1.7368052206268294, 0.8229099009780488, 0.30686585404085365], \"yaxis\": \"y\"}, {\"line\": {\"dash\": \"dashdot\"}, \"marker\": {\"color\": \"blue\", \"line\": {\"color\": \"blue\"}, \"size\": 7, \"symbol\": \"circle\"}, \"mode\": \"lines\", \"name\": \"KW-SST-ASCII\", \"type\": \"scatter\", \"x\": [0.004006314799649237, 0.0040352372597983, 0.0040745715880638675, 0.0041224168547903855, 0.004197246922197193, 0.0043297926523386265, 0.004383763322137084, 0.00441758708968725, 0.004684582411255817, 0.005038135810475703, 0.005391689176567628, 0.005745242764973886, 0.006098796131242592, 0.006275572888623232, 0.006629126304247997, 0.0069826796704813435, 0.007336233069559842, 0.00768978640287743, 0.00804333978544502, 0.008396893184629623, 0.008750446550863036, 0.009103999950047608, 0.009457553349055414, 0.0098111067317644, 0.010164660147389213, 0.010518213497182396, 0.010871766879891406, 0.011225320509486752, 0.011755650353192556, 0.01210920380176863, 0.012462757250344576, 0.012816310501178213, 0.013169864147319823, 0.01352341723368041, 0.013876970912631835, 0.014230524001431863, 0.014584077711637453, 0.014937630862875013, 0.015291184378272682, 0.0156447376921448, 0.015998291111022377, 0.016351844494190988, 0.016705397842711404, 0.017058951289873232, 0.017412504640161367, 0.017766058089444557, 0.01811961140473088, 0.018473164822547832, 0.01882671826970956, 0.019180271552469097, 0.019533825036046875, 0.019887378384920863, 0.020240931801677072, 0.020594485150904583, 0.02094803853301259, 0.02130159204841018, 0.021655145265762312, 0.022008698814393927, 0.02253902855839772, 0.02289258161099391, 0.02324613512568448, 0.023599688968472525, 0.02395324202177581, 0.02430679507684696, 0.02466034891963502, 0.025013902370332342, 0.025367455488335938, 0.02572100867280761, 0.0260745626495924, 0.02642811589876428, 0.02659080391924516, 0.02659613272827404, 0.026806008097805815, 0.026945710417353986, 0.02720748185686613, 0.027399077473828932, 0.027602724467226936, 0.02780637013126422, 0.02801001843988087, 0.028213664103918144, 0.028417312412534795, 0.02862095807657207, 0.028824603754751495, 0.029028252049226003, 0.02923189772740542, 0.029435546021879932, 0.029609125194454168, 0.02981023941621481, 0.029876612800332613, 0.029924373083359924, 0.029957561083566377, 0.02998061540921242], \"xaxis\": \"x\", \"y\": [1.0459018368500002, 1.04127792354, 1.02372391382, 0.987566293415, 0.9615004870799999, 0.8618913467399999, 0.86492043688, 0.8006489535600001, 0.771301635125, 0.728237353285, 0.691037075185, 0.66026150291, 0.6388981221600001, 0.631829067005, 0.6234825747449999, 0.622959771155, 0.6313558435000001, 0.648130025215, 0.6683827714249999, 0.686932298425, 0.7207910920049999, 0.71290893902, 0.872645181165, 1.19826214329, 1.508313084, 1.8540024403, 2.13053611845, 2.3010088249000002, 2.4069811553, 2.52911183565, 2.65201284325, 2.7846105571, 2.9384921679, 3.04064571355, 3.1073741530500003, 3.1633290725, 3.2184172130999995, 3.2782694366000005, 3.34981539255, 3.4342912459500003, 3.5248413336, 3.61829901085, 3.7157990199, 3.81822965125, 3.9251830914999997, 4.0364591498, 4.15558247125, 4.2836149394000005, 4.4129457332, 4.53737386, 4.6524687181000015, 4.7613612272, 4.87045051675, 4.9734375550499985, 5.075422113749998, 5.1721427467500005, 5.26958757315, 5.369717970700001, 5.5163785883, 5.5750658842, 5.59275641595, 5.584305716549999, 5.5555658459, 5.5028575144500005, 5.431056255750001, 5.3495656705000005, 5.2697018495000005, 5.21113297575, 5.165747952, 5.131765458349999, 5.0084031586, 5.2325394555, 5.1102734959500005, 5.10625499255, 5.1002503032, 5.09357579035, 5.07709624005, 5.049834103, 5.0116702071, 4.9611256117, 4.89504480225, 4.8120023678, 4.7133276220499996, 4.6069133822, 4.5075506225, 4.4184974807, 4.29261037225, 4.0523844261500015, 3.6044592232999997, 2.80758965105, 1.7821881122, 0.8490285302749999], \"yaxis\": \"y\"}, {\"marker\": {\"color\": \"black\", \"line\": {\"color\": \"black\"}, \"size\": 7, \"symbol\": \"circle\"}, \"mode\": \"markers+lines\", \"name\": \"Experimental\", \"type\": \"scatter\", \"x\": [0.008485280999999999, 0.008909545, 0.00933381, 0.009758074, 0.010182338, 0.010606602, 0.011030866, 0.01145513, 0.011879394, 0.012303658, 0.012727922, 0.013152186000000001, 0.01357645, 0.014000714, 0.014424978, 0.014849242, 0.015273506000000001, 0.015697771, 0.016122035, 0.016546299, 0.016970563, 0.017394826999999998, 0.017819091000000002, 0.018243355, 0.018667619, 0.019091883, 0.019516147, 0.019940411, 0.020364675, 0.020788939, 0.021213202999999996, 0.021637467999999997, 0.022061732, 0.022485996, 0.02291026, 0.023334524, 0.023758788, 0.024183052000000003, 0.024607316, 0.02503158, 0.025455844, 0.025880108, 0.026304372000000003, 0.026728636, 0.0271529, 0.027577163999999998, 0.028001428999999998, 0.028425693, 0.028849957000000002, 0.029274221, 0.029698485], \"xaxis\": \"x\", \"y\": [0.772596471, 0.8215334790000001, 0.9620875740000001, 1.145936736, 1.364265425, 1.5914059569999999, 1.838319438, 2.100484186, 2.311572186, 2.45438738, 2.583415753, 2.7079352460000004, 2.836396872, 2.976140931, 3.127551713, 3.2629951910000004, 3.398366031, 3.51651674, 3.626573576, 3.7459481119999998, 3.857344414, 3.946734535, 4.01807317, 4.113099691, 4.231007553, 4.339557142, 4.417160236, 4.4499874319999995, 4.502662314, 4.58027178, 4.673343609, 4.721134329, 4.781326548, 4.839278, 4.909591092, 5.02074711, 5.1493596219999995, 5.269731581, 5.357850011, 5.406321827999999, 5.40030105, 5.314902668999999, 5.1150325610000005, 4.861499968, 4.644570132, 4.497446114, 4.453832278999999, 4.480541552, 4.565164788, 4.388353222, 3.277908052], \"yaxis\": \"y\"}, {\"marker\": {\"color\": \"red\", \"line\": {\"color\": \"red\"}, \"size\": 7, \"symbol\": \"triangle-right\"}, \"mode\": \"lines\", \"name\": \"SBES-ASCII\", \"showlegend\": false, \"type\": \"scatter\", \"x\": [0.004018581608275877, 0.004035238347411313, 0.004056513334474382, 0.004074572158600734, 0.004122417296097451, 0.004153868169736469, 0.004197247021050721, 0.004206363439802267, 0.004274593797457283, 0.004326620294697583, 0.004329833239789787, 0.00438376319033238, 0.0044175872214919564, 0.004684582358032298, 0.004861359054173951, 0.005038135746383409, 0.0052149124464400285, 0.005568465887030811, 0.005745242707640523, 0.005922019399850015, 0.006098796083936366, 0.006452349484325599, 0.006629126184537433, 0.00680590286865834, 0.006982679552813658, 0.007336232945114286, 0.0075130096452744235, 0.007689786329464279, 0.007866563045629174, 0.008220116413750195, 0.008396893114013811, 0.008573669814122206, 0.008750446522336459, 0.008927223198454955, 0.009280776614814476, 0.009457553282706406, 0.009634329991110364, 0.009811106683095658, 0.010164660067445671, 0.010341436767778284, 0.010518213475854559, 0.01069499016011343, 0.01104854343196445, 0.011225320332839465, 0.011402097001007352, 0.011578873636975963, 0.011932427117578763, 0.012109203753581894, 0.012285980405641486, 0.012462757153971157, 0.01281631052205772, 0.012993087190260063, 0.013169863954577251, 0.013346640606705882, 0.013700193974775166, 0.013876970723156568, 0.01405374740731195, 0.01423052406106172, 0.014584077459760859, 0.014760854208176716, 0.014937630891745724, 0.015114407560482747, 0.015467960961423903, 0.015644737675864166, 0.015821514344601183, 0.01599829104593408, 0.016351844446012932, 0.01652862111406008, 0.016705397813840797, 0.016882174529315848, 0.01705895121322979, 0.017235727899903158, 0.017412504629692804, 0.0175892813301634, 0.01794283468212448, 0.01811961138138781, 0.018296388083238115, 0.018473164832171388, 0.018826718167575838, 0.01900349488339581, 0.019180271535058788, 0.01935704823501197, 0.019710601668204108, 0.01988737833590633, 0.0200641550374117, 0.02024093175288676, 0.02059448510467537, 0.020771261789279183, 0.020948038537522584, 0.021124815236441004, 0.0214783685902992, 0.02165514530577425, 0.02183192200710717, 0.02200869869033123, 0.02236225188069254, 0.0225390284861349, 0.022715805057774083, 0.02289258169270796, 0.023246135189712167, 0.023422911955202057, 0.02359968868464676, 0.023776465355625845, 0.024130018624976192, 0.024306795263359368, 0.02448357199556352, 0.02466034879123479, 0.02501390219303829, 0.02536745552844277, 0.025544232228913367, 0.025721008863847226, 0.02589778566124316, 0.026251339029071025, 0.026428115696945725, 0.026590782895714732, 0.026596132596752173, 0.026728740430491543, 0.02684491359020378, 0.02692681012432692, 0.027105894845476413, 0.027208011324281748, 0.027309835478590068, 0.02741165698831903, 0.02761530529693567, 0.027717126820806768, 0.02781895097511509, 0.027920775115281283, 0.0281244207934607, 0.028226244947769017, 0.028328069087935205, 0.02842989317808652, 0.028633538920422943, 0.02873536306058913, 0.028837184584460232, 0.02893900873876855, 0.029142654402805838, 0.02924447855711415, 0.02934630271142248, 0.029448124221151437, 0.02962996944371349, 0.02970974288317244, 0.029738049767694757, 0.029792550913809262, 0.029876062246992782, 0.029902224915053982, 0.029924033276125164, 0.029942214363256617, 0.02996999967167501, 0.029980528491646875, 0.029992959174301694], \"xaxis\": \"x2\", \"y\": [1.0005960333463415, 0.9622259558365852, 0.9137790479658536, 0.8735991630609756, 0.7762943226926828, 0.7228610088609756, 0.6499156774, 0.6542834848322581, 0.59061874717, 0.54774902213, 0.5688087427857142, 0.5344591830600001, 0.53290692508, 0.530936079797561, 0.5416764878536585, 0.5389516288560975, 0.532154490390244, 0.5316927754390244, 0.5351510514341463, 0.5427087157975611, 0.5512095429585365, 0.5827331074756098, 0.5968961711439025, 0.6041908946, 0.6093924779658537, 0.6314778637048779, 0.6301284894243903, 0.6547044614609756, 0.7084230083317072, 0.95889963817561, 1.0824918328804878, 1.2244343716658537, 1.4103684576365854, 1.5437920493487804, 1.8004832532682926, 1.911855470170732, 2.0221148107317077, 2.149525726414634, 2.33336830095122, 2.415002962268293, 2.495646755634146, 2.572676436634146, 2.6315667378048784, 2.6669446861219512, 2.7253968437804885, 2.7899492190487805, 2.879962785731707, 2.913784604, 2.933257514317073, 2.9629825900487807, 3.0330924855121952, 3.0859858878536586, 3.1597793649268286, 3.238885277756097, 3.3743122050487804, 3.424729001463415, 3.464927844170732, 3.513153157219512, 3.624827227219512, 3.686451408756097, 3.757599073097561, 3.826742710268293, 3.956337698390244, 4.017707537853658, 4.078381943707317, 4.140763179560976, 4.2594276707560965, 4.319488455487805, 4.3784851784146355, 4.434717999658536, 4.488444380292684, 4.5446326660487815, 4.606984022512195, 4.673661045365853, 4.80627077502439, 4.868961358609756, 4.929788183341462, 4.989605897780487, 5.099519589365854, 5.154315475853658, 5.214548253463415, 5.2739088255365845, 5.390973911634146, 5.438657274292684, 5.463396795292684, 5.490114767804878, 5.551704945390243, 5.588057077609756, 5.604588086487805, 5.61650342692683, 5.672663326292683, 5.664367485146341, 5.6530466570487805, 5.619369704682927, 5.642001917000001, 5.642368357951219, 5.674933602975608, 5.6760770772682925, 5.6973999305365846, 5.673389783756098, 5.644553679390245, 5.60683697404878, 5.551134944878048, 5.522591491902438, 5.472950947585366, 5.434351029853659, 5.476322887487805, 5.4896567321951215, 5.455776010390244, 5.385084507731707, 5.34019133102439, 5.17809343997561, 5.0929524574146345, 4.93498057852381, 4.95613940285, 4.880130836073171, 4.8237789334146335, 4.762051375121953, 4.63116474714634, 4.556789644756098, 4.5264213555853665, 4.486905327317073, 4.475069321146342, 4.472970095609756, 4.435891665048781, 4.415360881170731, 4.3478969429268295, 4.294739647463413, 4.259986298634146, 4.245023441829268, 4.294696118951219, 4.333612532121951, 4.372259588414634, 4.4093197239999995, 4.477209272487805, 4.4940771118536595, 4.508886930341464, 4.522282619170731, 4.394271718560976, 4.292867243634147, 4.263128066341464, 3.9826339948048783, 3.113988833487805, 2.660579074, 2.1911874304634145, 1.733423574904878, 0.9363431332414632, 0.6157776254268293, 0.2294841369963415], \"yaxis\": \"y2\"}, {\"marker\": {\"color\": \"green\", \"line\": {\"color\": \"green\"}, \"size\": 7, \"symbol\": \"x\"}, \"mode\": \"lines\", \"name\": \"IDDES-ASCII\", \"showlegend\": false, \"type\": \"scatter\", \"x\": [0.004006316252929586, 0.004018581660515546, 0.004056513334474382, 0.004074572174674478, 0.0041224172639499615, 0.0041538681617340895, 0.004197246988099546, 0.004274593764647528, 0.004326620294697583, 0.0043298332319442676, 0.0044175872214919564, 0.004507802062943135, 0.004515195437021271, 0.004861359054173951, 0.005038135746383409, 0.005391689142616193, 0.005568465887030811, 0.005922019399850015, 0.006098796083936366, 0.006452349484325599, 0.006629126184537433, 0.006982679552813658, 0.007159456244936938, 0.0075130096452744235, 0.007689786329464279, 0.008043339737683449, 0.008220116413750195, 0.008573669814122206, 0.008750446522336459, 0.009103999890509232, 0.009280776614814476, 0.009634329991110364, 0.009811106683095658, 0.010164660067445671, 0.010341436767778284, 0.01069499016011343, 0.010871766836111194, 0.011225320332839465, 0.011402097001007352, 0.011755650337153338, 0.011932427117578763, 0.012285980405641486, 0.012462757153971157, 0.01281631052205772, 0.012993087190260063, 0.013346640606705882, 0.013523417338823764, 0.013876970723156568, 0.01405374740731195, 0.014407300791023847, 0.014584077459760859, 0.014937630891745724, 0.015114407560482747, 0.015467960961423903, 0.015821514344601183, 0.01599829104593408, 0.016351844446012932, 0.01652862111406008, 0.016882174529315848, 0.01705895121322979, 0.017412504629692804, 0.0175892813301634, 0.01794283468212448, 0.01811961138138781, 0.018473164832171388, 0.018649941467450176, 0.01900349488339581, 0.019180271535058788, 0.019533824968595848, 0.019710601668204108, 0.0200641550374117, 0.02024093175288676, 0.02059448510467537, 0.020771261789279183, 0.021124815236441004, 0.0213015918582675, 0.02165514530577425, 0.02183192200710717, 0.02218547511916932, 0.02236225188069254, 0.022715805057774083, 0.02289258169270796, 0.023246135189712167, 0.023422911955202057, 0.023776465355625845, 0.023953241959343542, 0.024306795263359368, 0.02448357199556352, 0.02483712555568991, 0.025190678859878208, 0.02536745552844277, 0.025721008863847226, 0.02589778566124316, 0.026251339029071025, 0.026590782895714732, 0.026728740558805555, 0.02684491359020378, 0.02692680755804669, 0.027105897411756633, 0.027208011324281748, 0.02741165698831903, 0.02751348114262735, 0.027717126820806768, 0.02781895097511509, 0.02802259663915237, 0.02812442342389793, 0.028328069087935205, 0.028429890611806306, 0.028633538920422943, 0.02873536306058913, 0.02893900873876855, 0.029040832893076875, 0.02924447855711415, 0.02934630008098525, 0.029550190729237938, 0.02962996944371349, 0.029738049767694757, 0.029792550913809262, 0.029876062246992782, 0.029902224915053982, 0.029942214363256617, 0.0299573687929483, 0.029980528491646875, 0.029992959174301694], \"xaxis\": \"x2\", \"y\": [1.0309015739219514, 1.0049775779902441, 0.9239456347829268, 0.8851790002121951, 0.788203630792683, 0.7334725698170732, 0.67347517249, 0.62432276009, 0.59959977155, 0.5537738949952381, 0.5646161405100001, 0.5374021000428572, 0.58060982447, 0.5715770721853659, 0.5516703962, 0.5320844461682928, 0.5290321338780488, 0.5388170606780488, 0.5570813425658536, 0.5902768142243903, 0.5951205908243902, 0.6038152356219512, 0.6058410783609756, 0.6289023592926829, 0.6556083178853659, 0.8179601309268292, 0.9355203530097559, 1.2886196397268297, 1.4955854058414637, 1.8173158336341464, 1.9958075039512195, 2.068102320390244, 2.1092396220975607, 2.3197311250975607, 2.3756567316585366, 2.4757683164878053, 2.5389484325609755, 2.6630764334390244, 2.7293166836097558, 2.849982916512195, 2.9019649201951223, 2.986122217975609, 3.021721099707317, 3.06660240995122, 3.1053654123170733, 3.196102909512196, 3.2404092290731707, 3.340295351170732, 3.4020962308780485, 3.5293283490731704, 3.594966676463415, 3.7144164675365854, 3.7655800847073166, 3.89633296397561, 4.0362483111707315, 4.09778029490244, 4.225902992121951, 4.293270092268293, 4.4282176898292684, 4.493015307853658, 4.611366991219511, 4.666326569390244, 4.778777758487805, 4.839199164, 4.961220627390244, 5.0220004786829255, 5.145646550463415, 5.214848861804878, 5.356562780170732, 5.4178223587317085, 5.525952009829268, 5.569660099414634, 5.6341852090487805, 5.653296170926829, 5.67514974407317, 5.690041572268293, 5.7219070305365864, 5.731546985, 5.730694540268292, 5.6979224254146335, 5.704797001439025, 5.706362784780487, 5.682573078390244, 5.672191616439023, 5.6215744709756095, 5.587674342219511, 5.57089815302439, 5.556964829560976, 5.531426096463416, 5.469181921121951, 5.437833989463416, 5.3823003389999995, 5.314112906, 5.262100822829269, 5.1535041439523805, 4.993246062463415, 4.874817686902438, 4.823548952487805, 4.724472318707316, 4.666079141731708, 4.578782600268291, 4.5403791306829255, 4.4783550862682935, 4.448319049707316, 4.414710397487805, 4.408298470170732, 4.394925986219514, 4.3915231632682925, 4.385012720341464, 4.373950207560975, 4.360009978097561, 4.377997698560975, 4.428169028268293, 4.4500241024634155, 4.509675382097561, 4.4881824696829264, 4.3715556648780485, 4.128200782585366, 3.10101012497561, 2.5953544303658536, 1.6317986729756102, 1.224074720402439, 0.5741853246390244, 0.2141596887536585], \"yaxis\": \"y2\"}, {\"marker\": {\"color\": \"blue\", \"line\": {\"color\": \"blue\"}, \"size\": 7, \"symbol\": \"circle\"}, \"mode\": \"lines\", \"name\": \"KW-SST-ASCII\", \"showlegend\": false, \"type\": \"scatter\", \"x\": [0.004018580273522146, 0.004056512552654007, 0.0040962888218092856, 0.00415386775575994, 0.004197246988099546, 0.004274593764647528, 0.004326620294697583, 0.0043297926358630496, 0.004383763256234732, 0.0045151954534969, 0.004861359102557256, 0.005214912476993053, 0.005568465991471341, 0.005922019440047281, 0.006275572888623232, 0.006629126304247997, 0.0069826796704813435, 0.007336233053084247, 0.007689786402912792, 0.008043339768969442, 0.008396893151713805, 0.00875044656730328, 0.00910399996648785, 0.009457553349020074, 0.00981110674820464, 0.010164660114473405, 0.010518213497182415, 0.010871766846975595, 0.011225320509486752, 0.011578873629010666, 0.01210920380176863, 0.012462757250344576, 0.012816310501178213, 0.01316986411440402, 0.013523417266631588, 0.013876970912631835, 0.014230523968551406, 0.01458407764587654, 0.01493763082999454, 0.015291184345392244, 0.0156447376921448, 0.015998291143902856, 0.016351844461310532, 0.01670539787559188, 0.017058951256992774, 0.017412504673041847, 0.017766058089798115, 0.01811961143761136, 0.0184731648554283, 0.018826718237182672, 0.019180271618230046, 0.019533825003166427, 0.0198873784181549, 0.02024093176844307, 0.020594485216665532, 0.0209480385330126, 0.021301592015176167, 0.02165514523288186, 0.022008698847274404, 0.02236225209715345, 0.022715805150456715, 0.023069358137292068, 0.0234229121798378, 0.02377646549724549, 0.02413001854807395, 0.02448357186724946, 0.024837125907673858, 0.02519067895956294, 0.025544232081809247, 0.02589778566120001, 0.02625133937317329, 0.02659080391924516, 0.02680600822932768, 0.02684491359020378, 0.027042866804236204, 0.027208011324281745, 0.027411656988319037, 0.02761530266649845, 0.02781895097511509, 0.02802259663915237, 0.028226242303189663, 0.028429890611806306, 0.028633538920422943, 0.028837184584460232, 0.02904083024849751, 0.02924447855711416, 0.029448124221151437, 0.02962996944371348, 0.02973804976769476, 0.029844678656012712, 0.029902224915053975, 0.029942214363256617, 0.029969999671675008, 0.029992959174301687], \"xaxis\": \"x2\", \"y\": [1.0062417670450001, 0.921873717535, 0.832242439265, 0.731827718425, 0.65053085768, 0.62842348328, 0.6426679239, 0.6710486074, 0.61743880964, 0.62782457464, 0.612306371385, 0.5758163642899999, 0.5440147134300001, 0.5208705217249999, 0.514459946115, 0.530702634395, 0.565511009575, 0.5919114695900001, 0.657035183575, 0.862965971405, 1.17980251561, 1.495529738, 1.7567362562500002, 1.97186714415, 2.1551346886, 2.30064311625, 2.4266531998, 2.54850188345, 2.67151116915, 2.8007194145499996, 2.9608982236, 3.0547486819, 3.1464954134500003, 3.2368877831500003, 3.3261578725, 3.4176121166000004, 3.5139059827, 3.6172786843, 3.7288808785, 3.8469704339999997, 3.9691792037, 4.0943609999, 4.22065521915, 4.34667661185, 4.4701491134, 4.59031345235, 4.708402647200001, 4.82542558345, 4.9410573947500005, 5.05472991355, 5.1644363331999985, 5.2685532313, 5.369036200449999, 5.468105617000001, 5.564498961749999, 5.651095654600001, 5.712283307100001, 5.7467209288, 5.7509280412, 5.7284711672, 5.677952704, 5.6165088536, 5.5649200814, 5.5108895648999985, 5.4398327716, 5.38289332335, 5.3527731332499995, 5.337468159849999, 5.31024198195, 5.2709019585000005, 5.1962679449, 5.0449380487, 5.0315704263, 4.9917586096, 4.9672919785500005, 4.8886184473, 4.7977629126, 4.70551717675, 4.6171708563000005, 4.5444573008999996, 4.5001174036, 4.481576717, 4.471211192149999, 4.4583934156, 4.45215507195, 4.4590359125, 4.431349729, 4.245023341, 4.10436406625, 3.5362381005000003, 2.7870772396, 1.8852649898500002, 1.01962139834, 0.24738993318875], \"yaxis\": \"y2\"}, {\"marker\": {\"color\": \"black\", \"line\": {\"color\": \"black\"}, \"size\": 7, \"symbol\": \"circle\"}, \"mode\": \"markers+lines\", \"name\": \"Experimental\", \"showlegend\": false, \"type\": \"scatter\", \"x\": [0.010606602, 0.011030866, 0.01145513, 0.011879394, 0.012303658, 0.012727922, 0.013152186000000001, 0.01357645, 0.014000714, 0.014424978, 0.014849242, 0.015273506000000001, 0.015697771, 0.016122035, 0.016546299, 0.016970563, 0.017394826999999998, 0.017819091000000002, 0.018243355, 0.018667619, 0.019091883, 0.019516147, 0.019940411, 0.020364675, 0.020788939, 0.021213202999999996, 0.021637467999999997, 0.022061732, 0.022485996, 0.02291026, 0.023334524, 0.023758788, 0.024183052000000003, 0.024607316, 0.02503158, 0.025455844, 0.025880108, 0.026304372000000003, 0.026728636, 0.0271529, 0.027577163999999998, 0.028001428999999998, 0.028425693, 0.028849957000000002, 0.029274221, 0.029698485], \"xaxis\": \"x2\", \"y\": [1.904601915, 2.1410532840000003, 2.3612684390000003, 2.64969466, 2.864849025, 3.093463991, 3.2772236919999997, 3.42025389, 3.5370279489999996, 3.6494544280000003, 3.7265784760000003, 3.8126290710000004, 3.9064331930000002, 3.98884387, 4.078029232, 4.165333372, 4.238932779, 4.332734868, 4.401796828, 4.468630182, 4.560200138, 4.652771999, 4.735189556, 4.837473074, 4.926447776, 5.027142815, 5.142777497, 5.260640789, 5.356033428, 5.443419115, 5.526075725, 5.571616242999999, 5.576385079, 5.543400900000001, 5.428239683999999, 5.2514070330000004, 5.0809561080000005, 4.762468431, 4.512566527, 4.3658854719999995, 4.358267324, 4.421385995, 4.495984258, 4.524589858, 4.592351896, 4.148073296000001], \"yaxis\": \"y2\"}, {\"line\": {\"color\": \"red\"}, \"marker\": {\"size\": 7, \"symbol\": \"triangle-right\"}, \"mode\": \"lines\", \"name\": \"SBES-ASCII\", \"showlegend\": false, \"type\": \"scatter\", \"x\": [0.004006315132562008, 0.004018580885474775, 0.0040352382229260275, 0.004074573523937696, 0.0040962914342722034, 0.004122420444274813, 0.004153872578805947, 0.004197247054001896, 0.0042745938302670376, 0.004326620294697583, 0.004329752003591482, 0.0044175871555896026, 0.004507801913979152, 0.004515195437021271, 0.004684582273714052, 0.0048613589778753385, 0.005214912374159849, 0.0053916890703532595, 0.00556846581475064, 0.005745242635343107, 0.005922019319550215, 0.006275572719922158, 0.006452349396006181, 0.006629126112257259, 0.006805902796395414, 0.007159456172656777, 0.0073362328728513735, 0.00751300958103113, 0.007689786257166873, 0.00804333965740091, 0.008220116349506914, 0.008396893057790159, 0.008573669741859294, 0.008927223150250928, 0.009103999818229076, 0.009280776518423704, 0.00963432991079334, 0.00981110661083276, 0.009987883303145728, 0.010164660019241644, 0.010518213395554782, 0.010694990087833277, 0.010871766787907168, 0.011048543367721169, 0.011402096920707571, 0.011578873540602441, 0.011755650288949312, 0.01193242702120525, 0.01210920365720838, 0.012285980341380969, 0.012462757089710631, 0.012816310457814444, 0.013169863890316729, 0.013346640526388854, 0.013523417242467492, 0.013700193942679382, 0.014053747326994931, 0.014230524028983175, 0.014407300710655088, 0.014584077427682338, 0.014937630811376971, 0.01511440749615324, 0.015291184165235184, 0.015467960929345366, 0.015821514280444142, 0.015998290965737794, 0.016175067679488175, 0.01635184434960492, 0.016705397749511294, 0.016882174464986344, 0.01705895114907275, 0.017235727835573658, 0.017589281233927855, 0.017766057918359182, 0.017942834634006696, 0.018119611284979808, 0.018473164719724128, 0.018649941403120672, 0.01900349478698781, 0.01918027147090174, 0.019357048186894186, 0.01953382487236031, 0.01988737827140436, 0.020064154957042956, 0.020240931656651213, 0.020417708372471203, 0.020771261741161392, 0.02094803845715384, 0.021124815188323216, 0.02130159182618897, 0.021655145225405497, 0.02183192192673841, 0.02200869859392324, 0.022185475054839827, 0.02253902845405636, 0.022715804993617063, 0.02289258159629995, 0.023069358265381902, 0.023422911826715544, 0.023599688652568226, 0.023776465291296348, 0.02395324189501406, 0.024306795199029882, 0.024483571899155523, 0.0246603487269053, 0.024837125491532858, 0.025190678763470208, 0.025367455432034773, 0.025544232164583867, 0.02572100876743922, 0.026074562330325044, 0.026251338964913988, 0.02642811566469473, 0.026590804313810768, 0.02659632068968135, 0.026805878926557173, 0.026945710417353986, 0.0270682154933973, 0.02720748185686614, 0.02729725464888133, 0.027500900312918616, 0.027602724467226936, 0.027704546041457837, 0.027806370131264226, 0.028010018439880862, 0.028111839949609824, 0.028213664103918144, 0.02831548825822646, 0.02851913392226375, 0.02862095807657207, 0.0287227822308804, 0.028824603754751495, 0.029028252049226006, 0.029130073573097093, 0.029231897727405424, 0.029333721881713737, 0.02953715153877151, 0.029609125194454168, 0.029726148487953626, 0.02981023941621481, 0.02987661280033262, 0.0299026595453081, 0.029924373083359924, 0.029942472513800288, 0.029970134021963427, 0.02998061540921242, 0.029992993419483107], \"xaxis\": \"x3\", \"y\": [1.035931570390244, 1.0252786586390243, 1.0235090454036586, 1.045862324514634, 1.0659311542829268, 1.093864154790244, 1.1263991562878048, 1.29498566452, 1.4649485968599998, 1.2513293460400001, 1.2506739404809524, 1.31927369977, 1.3801666284904757, 1.47330422002, 1.485971538202439, 1.4999919278512197, 1.4895440057536586, 1.4400253156243903, 1.4176064488365854, 1.448765216614634, 1.4566267436073168, 1.3976376574414633, 1.3892350484121951, 1.3577299360414634, 1.3410070153048779, 1.372829473868293, 1.3650539074024388, 1.3580737432365853, 1.348700266192683, 1.3615737688463416, 1.3745853257536589, 1.3804158186487805, 1.397921714853659, 1.4811817897195119, 1.5033123497878047, 1.5267162720073169, 1.6142441847097557, 1.667014712407317, 1.701469385509756, 1.7250313798536585, 1.7134258522926828, 1.7124684731609756, 1.7219083005097562, 1.6870322052634146, 1.6321117687634146, 1.6231265890317073, 1.621967149285366, 1.6235374742170734, 1.6572485282829268, 1.7400934175926832, 1.7659729650219511, 1.7873923830121952, 1.7911557855707316, 1.7853348679560976, 1.7822164388121953, 1.8193288422853655, 1.8938315396341463, 1.9877604942487803, 2.0072340033414635, 2.0612579456731708, 2.1290800116097564, 2.2144235200243902, 2.301236770780488, 2.3706033109487805, 2.6181649010243904, 2.742190334097561, 2.8135836660487805, 2.908061781292683, 3.1742648163658536, 3.2684606309268296, 3.3496307782439017, 3.4338985548536587, 3.640256335414634, 3.68699356002439, 3.7193030310731703, 3.736655723536585, 3.7747638045853664, 3.804227596170732, 3.8474981355853664, 3.8744053522195117, 3.9107007380487806, 3.9523391093414633, 4.029372823146342, 4.058984941780489, 4.091841736829268, 4.1248322255365855, 4.193273440853658, 4.227543126317073, 4.261083505268293, 4.293975987, 4.34508313497561, 4.368595380146342, 4.396944423268293, 4.423207734439026, 4.4950320852195125, 4.527930132658536, 4.549439513341464, 4.572345244536585, 4.674694967853658, 4.722725687682926, 4.77303533804878, 4.837474397634146, 4.939543764804878, 4.966814200902439, 4.982485126756098, 5.017386277975611, 5.089154694219513, 5.1227948076585355, 5.162864923902438, 5.1997246698536586, 5.223547206682927, 5.2203505001951225, 5.2266056463658535, 5.282997915299999, 5.200472252, 5.250537270609756, 5.230643219170731, 5.219947607195122, 5.215225037170732, 5.202187698536585, 5.188245981195122, 5.1790101809756095, 5.178309061756098, 5.166225939731707, 5.146209641268293, 5.144110197365854, 5.12945043985366, 5.1306200315609765, 5.129102016878049, 5.1144793613170725, 5.131652067317074, 5.110481739829268, 5.069824670634146, 5.033413788585365, 5.0160627562926825, 5.001320324121951, 4.99058621692683, 5.004483806829269, 4.999371497707316, 4.971403261512196, 4.6395713910000005, 4.257768239536585, 3.6994013042439033, 3.0339622825365846, 1.7029332489512194, 1.1290907595268294, 0.4229106535536585], \"yaxis\": \"y3\"}, {\"line\": {\"color\": \"green\"}, \"marker\": {\"size\": 7, \"symbol\": \"x\"}, \"mode\": \"lines\", \"name\": \"IDDES-ASCII\", \"showlegend\": false, \"type\": \"scatter\", \"x\": [0.004018580905566956, 0.0040352382229260275, 0.004074573515900824, 0.004096291450345947, 0.004153872562732202, 0.004197246988099546, 0.004206311882183381, 0.0042745938302670376, 0.004417587254443131, 0.004507801913979152, 0.004515195453496869, 0.004684582273714052, 0.0050381356821401, 0.005214912374159849, 0.00556846581475064, 0.005745242635343107, 0.0060987960116734435, 0.006275572719922158, 0.006629126112257259, 0.006805902796395414, 0.007159456172656777, 0.0073362328728513735, 0.007689786257166873, 0.007866562965329386, 0.00804333965740091, 0.008396893057790159, 0.008573669741859294, 0.008927223150250928, 0.009103999818229076, 0.009457553218463123, 0.00963432991079334, 0.009987883303145728, 0.010164660019241644, 0.010341436695498123, 0.010518213395554782, 0.010871766787907168, 0.011048543367721169, 0.011402096920707571, 0.011578873540602441, 0.01193242702120525, 0.01210920365720838, 0.012462757089710631, 0.012639533757775049, 0.012993087126016772, 0.013169863890316729, 0.013523417242467492, 0.013700193942679382, 0.014053747326994931, 0.014230524028983175, 0.014584077427682338, 0.014760854127980425, 0.01511440749615324, 0.015291184165235184, 0.01564473757945616, 0.015821514280444142, 0.016175067679488175, 0.01635184434960492, 0.016705397749511294, 0.016882174464986344, 0.017235727835573658, 0.01741250454932405, 0.017766057918359182, 0.017942834634006696, 0.018296388003041838, 0.018473164719724128, 0.018826718103246327, 0.01900349478698781, 0.019357048186894186, 0.019710601603874604, 0.01988737827140436, 0.020240931656651213, 0.020417708372471203, 0.020771261741161392, 0.02094803845715384, 0.02130159182618897, 0.021478368509930446, 0.02183192192673841, 0.02200869859392324, 0.022362251848614, 0.02253902845405636, 0.02289258159629995, 0.023069358265381902, 0.023422911826715544, 0.023599688652568226, 0.02395324189501406, 0.02413001852856821, 0.024483571899155523, 0.0246603487269053, 0.02501390209663029, 0.025190678763470208, 0.025544232164583867, 0.02572100876743922, 0.026074562330325044, 0.02642811566469473, 0.026590804445332638, 0.026805878413301128, 0.026945710417353986, 0.0270682154933973, 0.02729725464888133, 0.02739907615861029, 0.027602724467226936, 0.027704548621535263, 0.027908194285572542, 0.028010018439880862, 0.028213664103918144, 0.02831548825822646, 0.02851913392226375, 0.02862095807657207, 0.028824603754751495, 0.028926427894917683, 0.029028252049226006, 0.029231897727405424, 0.029333721881713737, 0.02953715153877151, 0.029609125194454168, 0.02981023941621481, 0.02984537145095264, 0.0299026595453081, 0.029924373083359924, 0.029957561083566377, 0.029970134021963427, 0.029992993419483107], \"xaxis\": \"x3\", \"y\": [1.038040173990244, 1.036577933335366, 1.0495578321707315, 1.063468436807317, 1.0991406639121952, 0.85158492889, 1.2197104629387097, 0.95694757289, 0.95595611275, 1.5160266361142856, 1.0106031987150002, 1.3296658303024391, 1.4317918145609756, 1.4459905253, 1.4665962570317073, 1.438003917373171, 1.3540058070512195, 1.3366988448609756, 1.3075097143170729, 1.2982301788463415, 1.319747065702439, 1.3518906562878048, 1.350692883714634, 1.3698857937146345, 1.3509050221097558, 1.3900151377536585, 1.4375181518268294, 1.5601749598487804, 1.5928378520243902, 1.5989038318536588, 1.5802124194121951, 1.5588258851707315, 1.5388889287682928, 1.5289395530341463, 1.5276044636756096, 1.602816540397561, 1.6006373195951218, 1.5053548840804878, 1.4571879687585367, 1.5510180196414634, 1.6079637374878049, 1.6051792672097558, 1.6359449340658538, 1.748893273392683, 1.7521736620756097, 1.7665950701390245, 1.8035060112219512, 1.9618444548073173, 2.044983447631707, 2.1452706107926827, 2.2092111773341463, 2.4339111379512195, 2.4349686986097563, 2.4705670616829267, 2.583170871195122, 2.8922463514390246, 2.992559280219512, 3.1528472974146338, 3.229896307512195, 3.4524666991219513, 3.5464262286829267, 3.6758650933170736, 3.7153354234146345, 3.7836616532682927, 3.8023606711951214, 3.863746380365853, 3.8999618853658538, 3.9574789046341454, 3.9908913390975607, 4.005428134731708, 4.074035080487805, 4.116617144902439, 4.180306129073172, 4.2133476613902445, 4.284821656560975, 4.297114817170732, 4.343410726609757, 4.3823137726097565, 4.4886859824146335, 4.538068597219512, 4.600492473268293, 4.634444509585366, 4.7147006635609765, 4.761891128268292, 4.851341783390244, 4.890644886658538, 4.976270824390244, 5.026618941829268, 5.082271012365854, 5.1005381055853665, 5.120464093902438, 5.144904127317074, 5.224728249463414, 5.283352821463415, 5.24708368005, 5.316024016268293, 5.288477834195122, 5.286920368878048, 5.270405327756097, 5.271873499341464, 5.251170069463416, 5.241559630999999, 5.256652562780488, 5.243891409317073, 5.223863539317073, 5.233622788439026, 5.197608483756097, 5.1693440412682925, 5.139987494780487, 5.1314452332195115, 5.097338477439026, 5.048565623195121, 5.029068948292683, 5.013519644682926, 5.012526910439023, 4.988606109926829, 4.855791826707319, 4.153913692414633, 3.558012059878049, 2.222476416317073, 1.606958899902439, 0.3983221056182927], \"yaxis\": \"y3\"}, {\"line\": {\"color\": \"blue\"}, \"marker\": {\"color\": \"blue\", \"line\": {\"color\": \"blue\"}, \"size\": 7, \"symbol\": \"circle\"}, \"mode\": \"lines\", \"name\": \"KW-SST-ASCII\", \"showlegend\": false, \"type\": \"scatter\", \"x\": [0.004006314799649237, 0.0040352372597983, 0.0040745715880638675, 0.0041224168547903855, 0.004197246922197193, 0.0043297926523386265, 0.004383763322137084, 0.00441758708968725, 0.004684582411255817, 0.005038135810475703, 0.005391689176567628, 0.005745242764973886, 0.006098796131242592, 0.006275572888623232, 0.006629126304247997, 0.0069826796704813435, 0.007336233069559842, 0.00768978640287743, 0.00804333978544502, 0.008396893184629623, 0.008750446550863036, 0.009103999950047608, 0.009457553349055414, 0.0098111067317644, 0.010164660147389213, 0.010518213497182396, 0.010871766879891406, 0.011225320509486752, 0.011755650353192556, 0.01210920380176863, 0.012462757250344576, 0.012816310501178213, 0.013169864147319823, 0.01352341723368041, 0.013876970912631835, 0.014230524001431863, 0.014584077711637453, 0.014937630862875013, 0.015291184378272682, 0.0156447376921448, 0.015998291111022377, 0.016351844494190988, 0.016705397842711404, 0.017058951289873232, 0.017412504640161367, 0.017766058089444557, 0.01811961140473088, 0.018473164822547832, 0.01882671826970956, 0.019180271552469097, 0.019533825036046875, 0.019887378384920863, 0.020240931801677072, 0.020594485150904583, 0.02094803853301259, 0.02130159204841018, 0.021655145265762312, 0.022008698814393927, 0.02253902855839772, 0.02289258161099391, 0.02324613512568448, 0.023599688968472525, 0.02395324202177581, 0.02430679507684696, 0.02466034891963502, 0.025013902370332342, 0.025367455488335938, 0.02572100867280761, 0.0260745626495924, 0.02642811589876428, 0.02659080391924516, 0.02659613272827404, 0.026806008097805815, 0.026945710417353986, 0.02720748185686613, 0.027399077473828932, 0.027602724467226936, 0.02780637013126422, 0.02801001843988087, 0.028213664103918144, 0.028417312412534795, 0.02862095807657207, 0.028824603754751495, 0.029028252049226003, 0.02923189772740542, 0.029435546021879932, 0.029609125194454168, 0.02981023941621481, 0.029876612800332613, 0.029924373083359924, 0.029957561083566377, 0.02998061540921242], \"xaxis\": \"x3\", \"y\": [1.0345689760475, 1.011267974615, 1.019362537005, 1.07346041765, 1.22962813006, 1.45780808999, 1.6516044023999998, 1.6147770257799998, 1.655105202325, 1.58139903081, 1.521283012235, 1.490507651365, 1.4435141540749998, 1.4171487718399998, 1.3818893522100002, 1.3743075025799998, 1.382499557515, 1.4010088978900002, 1.42330970136, 1.44292582635, 1.46224816965, 1.4828870163, 1.50381693795, 1.5288925106, 1.5516525154499998, 1.5514032065999999, 1.4914711852000002, 1.4169473457, 1.30671205889, 1.248224318375, 1.2866472855, 1.41866208865, 1.5286083270100002, 1.580045355225, 1.577822150395, 1.6193364306700002, 1.7628400176499999, 1.9966621821500001, 2.2600023030500003, 2.5363084221000003, 2.81211751625, 3.06626668895, 3.28436079635, 3.46018247415, 3.5918147945500003, 3.67820648095, 3.7424624294, 3.80142149525, 3.86236825945, 3.925938513, 3.98617468, 4.041352047149999, 4.0942364057, 4.1474931769, 4.20226411985, 4.2590934431999985, 4.3180739361, 4.3793679356, 4.4768694173000005, 4.545524449049999, 4.6156409122, 4.6862017699, 4.75738422335, 4.82910142875, 4.899975679500001, 4.96840595555, 5.03137968695, 5.08670762585, 5.13587032375, 5.18125002015, 5.1822832169, 5.2221675294, 5.2271802601, 5.241050281000001, 5.2638665002, 5.2796156451, 5.2917412195, 5.29875469645, 5.29888513325, 5.290709673549999, 5.2740646048, 5.250390631549999, 5.2212376805, 5.18903398645, 5.15937030345, 5.1372670971, 5.0972075214, 4.98295757155, 4.69581517185, 3.9391831888, 2.6455393592, 1.2890431034299998], \"yaxis\": \"y3\"}, {\"line\": {\"color\": \"black\"}, \"marker\": {\"size\": 7}, \"mode\": \"markers+lines\", \"name\": \"Experimental\", \"showlegend\": false, \"type\": \"scatter\", \"x\": [0.008485280999999999, 0.008909545, 0.00933381, 0.009758074, 0.010182338, 0.010606602, 0.011030866, 0.01145513, 0.011879394, 0.012303658, 0.012727922, 0.013152186000000001, 0.01357645, 0.014000714, 0.014424978, 0.014849242, 0.015273506000000001, 0.015697771, 0.016122035, 0.016546299, 0.016970563, 0.017394826999999998, 0.017819091000000002, 0.018243355, 0.018667619, 0.019091883, 0.019516147, 0.019940411, 0.020364675, 0.020788939, 0.021213202999999996, 0.021637467999999997, 0.022061732, 0.022485996, 0.02291026, 0.023334524, 0.023758788, 0.024183052000000003, 0.024607316, 0.02503158, 0.025455844, 0.025880108, 0.026304372000000003, 0.026728636, 0.0271529, 0.027577163999999998, 0.028001428999999998, 0.028425693, 0.028849957000000002, 0.029274221, 0.029698485], \"xaxis\": \"x3\", \"y\": [1.046595068, 1.086692123, 1.0833851559999998, 1.0973042179999999, 1.088244466, 1.081884321, 1.0775763040000002, 1.139926645, 1.246521391, 1.3951152930000001, 1.574554365, 1.805665369, 2.045832191, 2.287213127, 2.480234896, 2.625898884, 2.7399622239999997, 2.822260586, 2.94075014, 3.0339202419999998, 3.131955356, 3.276820025, 3.387018248, 3.501799975, 3.656211952, 3.812492498, 3.918433678, 3.9520378110000003, 4.002921453, 4.070949939, 4.154816356, 4.236161388999999, 4.299845517, 4.345570081, 4.42039053, 4.4986365930000005, 4.626595695, 4.731078957, 4.84906331, 4.9675469869999995, 5.082629926, 5.161360118999999, 5.14227611, 5.075841845, 4.958755947, 4.844415142, 4.765155646, 4.72697701, 4.7343781730000005, 4.532225572, 3.461324238], \"yaxis\": \"y3\"}, {\"line\": {\"color\": \"red\"}, \"marker\": {\"size\": 7, \"symbol\": \"triangle-right\"}, \"mode\": \"lines\", \"name\": \"SBES-ASCII\", \"showlegend\": false, \"type\": \"scatter\", \"x\": [0.004006316252929586, 0.0040352383413836575, 0.004056513334474382, 0.004074572182711351, 0.004096289350256054, 0.0041538681617340895, 0.004206363471690502, 0.004274593764647528, 0.004326620294697583, 0.004329833239789787, 0.004383763256234732, 0.0044175872214919564, 0.004507802062943135, 0.004515195437021271, 0.004861359054173951, 0.005038135746383409, 0.0052149124464400285, 0.005391689142616193, 0.005745242707640523, 0.005922019399850015, 0.006098796083936366, 0.006452349484325599, 0.006629126184537433, 0.00680590286865834, 0.006982679552813658, 0.007336232945114286, 0.0075130096452744235, 0.007689786329464279, 0.007866563045629174, 0.008396893114013811, 0.008573669814122206, 0.008750446522336459, 0.008927223198454955, 0.009280776614814476, 0.009457553282706406, 0.009634329991110364, 0.009811106683095658, 0.010164660067445671, 0.010341436767778284, 0.010518213475854559, 0.01069499016011343, 0.01104854343196445, 0.011225320332839465, 0.011402097001007352, 0.011578873636975963, 0.011932427117578763, 0.012109203753581894, 0.012285980405641486, 0.012462757153971157, 0.012639533854148562, 0.01281631052205772, 0.012993087190260063, 0.013169863954577251, 0.013523417338823764, 0.013700193974775166, 0.013876970723156568, 0.01405374740731195, 0.014407300791023847, 0.014584077459760859, 0.014760854208176716, 0.014937630891745724, 0.015291184213352975, 0.015467960961423903, 0.015644737675864166, 0.015821514344601183, 0.016175067743817686, 0.016351844446012932, 0.01652862111406008, 0.016705397813840797, 0.01705895121322979, 0.017235727899903158, 0.017412504629692804, 0.0175892813301634, 0.01794283468212448, 0.01811961138138781, 0.018296388083238115, 0.018473164832171388, 0.018649941467450176, 0.018826718167575838, 0.01900349488339581, 0.01935704823501197, 0.019533824968595848, 0.019710601668204108, 0.01988737833590633, 0.02024093175288676, 0.0204177084368007, 0.02059448510467537, 0.020771261789279183, 0.021124815236441004, 0.0213015918582675, 0.0214783685902992, 0.02165514530577425, 0.02200869869033123, 0.02218547511916932, 0.02236225188069254, 0.0225390284861349, 0.02289258169270796, 0.023069358393868408, 0.023246135189712167, 0.023422911955202057, 0.023776465355625845, 0.023953241959343542, 0.024130018624976192, 0.024306795263359368, 0.02466034879123479, 0.02483712555568991, 0.02501390219303829, 0.025190678859878208, 0.025544232228913367, 0.025721008863847226, 0.02589778566124316, 0.0260745624265606, 0.026428115696945725, 0.026590782895714732, 0.026596132596752173, 0.026728740558805555, 0.02680606621051431, 0.02684491359020378, 0.02692680755804669, 0.027042866804236204, 0.027208011324281748, 0.027309835478590068, 0.02741165698831903, 0.02751348114262735, 0.027717126820806768, 0.02781895097511509, 0.027920775115281283, 0.02802259670330938, 0.028226244947769017, 0.028328069087935205, 0.028429890611806306, 0.028531714766114626, 0.02873536049430891, 0.02893900873876855, 0.02904083031299945, 0.029142654402805838, 0.02924447855711415, 0.029448124285653368, 0.029550190729237938, 0.02962996944371349, 0.02970974288317244, 0.029792550913809262, 0.029844678656012712, 0.02987605968071257, 0.029902224915053982, 0.029942214363256617, 0.0299573687929483, 0.02996999967167501, 0.029980528491646875], \"xaxis\": \"x4\", \"y\": [1.0666672952182927, 1.2006775601500002, 1.3041777431560977, 1.374704845546341, 1.437070124309756, 1.5260640810317074, 1.6044550415580645, 1.5140542517, 1.5448301866, 1.6421076138238095, 1.5716623149000002, 1.5218112338999998, 1.6284062375238095, 1.5619338318, 1.6439831429731708, 1.6667439298048783, 1.6473806691707316, 1.604877574785366, 1.5524269428926831, 1.477107936285366, 1.420010622197561, 1.351225211187805, 1.4031476025829268, 1.4946107854390245, 1.539179531092683, 1.4880820273634148, 1.4628679602634145, 1.4447698676658536, 1.4349853676487805, 1.309322267582927, 1.2725944243560976, 1.2488711723219512, 1.2545254278634146, 1.419266935192683, 1.50140659662439, 1.6068301670073173, 1.7551130437804878, 2.0454989363902443, 2.17882061895122, 2.278165552146341, 2.3590941844146345, 2.4125955469512195, 2.460621791097561, 2.5044921740243904, 2.5659161075853656, 2.6499586216829267, 2.708179457560976, 2.807179959512195, 2.86891696797561, 2.9342817518780486, 3.0141694534634147, 3.112406530268293, 3.225055114121952, 3.3283951987073173, 3.3977293582195114, 3.463306765731707, 3.5226235694390247, 3.6009460473170734, 3.6483785249756098, 3.696784662146341, 3.752056267512195, 3.8567391433170735, 3.890178725439025, 3.9302526726585367, 3.969600968829268, 4.078939260951221, 4.135846070780488, 4.176760119902439, 4.220514748902439, 4.339089388707317, 4.397321455707317, 4.450438339487805, 4.511750905878048, 4.644141350390244, 4.690690066121952, 4.736821672024392, 4.786992937365854, 4.831105620487804, 4.8767615260487815, 4.9298872367073185, 5.038567690365853, 5.0835983123658535, 5.134522307097561, 5.185554857902439, 5.275950484707316, 5.3222463968780485, 5.347745800365853, 5.379097164536585, 5.444616393195123, 5.452692384756098, 5.459061223390244, 5.475707545243902, 5.570489055317073, 5.597066410365853, 5.630014143243903, 5.619940634463415, 5.573091163341463, 5.533608734414633, 5.5643242417317085, 5.582873966829269, 5.5707676262682915, 5.592083169560976, 5.6422010600731705, 5.673795046682928, 5.70669388995122, 5.6799723146341465, 5.6566991106097575, 5.648716888341464, 5.53160209295122, 5.487334833682927, 5.4053373529268285, 5.327121129780488, 5.197214646634147, 5.038822300619048, 5.1553814942, 4.991087583512195, 4.946171343658536, 4.83867088695122, 4.776093666731708, 4.749907127609756, 4.583845050658537, 4.504299318731706, 4.424475565463415, 4.370456189317073, 4.303244719341464, 4.264985047926829, 4.2246991833902445, 4.199718995560977, 4.170720606585366, 4.171679912609757, 4.203084346731707, 4.234800511658538, 4.299871047609757, 4.332809005292683, 4.355907459097561, 4.357149672682927, 4.349984712317073, 4.31533095802439, 4.282293096121951, 4.176275013390244, 4.063592050512194, 3.751294130487805, 3.3309798816341467, 2.9475442017317075, 2.5241795808536587, 1.6413404806268292, 1.2402339408292684, 0.8872873053634146, 0.5842574307829269], \"yaxis\": \"y4\"}, {\"line\": {\"color\": \"green\"}, \"marker\": {\"size\": 7, \"symbol\": \"x\"}, \"mode\": \"lines\", \"name\": \"IDDES-ASCII\", \"showlegend\": false, \"type\": \"scatter\", \"x\": [0.0040063162609319655, 0.004035238349420532, 0.004056513278216275, 0.004096289358292926, 0.004122417239839346, 0.0042063634823199135, 0.004274593764647528, 0.004326620294697583, 0.0043298332711045094, 0.0043837632232835546, 0.004417587254443131, 0.004684582358032298, 0.004861359054173951, 0.0052149124464400285, 0.005391689142616193, 0.005745242707640523, 0.005922019399850015, 0.0062755728002219565, 0.006452349484325599, 0.00680590286865834, 0.006982679552813658, 0.007336232945114286, 0.0075130096452744235, 0.007866563045629174, 0.008220116413750195, 0.008396893114013811, 0.008750446522336459, 0.008927223198454955, 0.009280776614814476, 0.009457553282706406, 0.009811106683095658, 0.009987883383462756, 0.010341436767778284, 0.010518213475854559, 0.010871766836111194, 0.01104854343196445, 0.011402097001007352, 0.011578873636975963, 0.011932427117578763, 0.012109203753581894, 0.012462757153971157, 0.012639533854148562, 0.012993087190260063, 0.013169863954577251, 0.013523417338823764, 0.013700193974775166, 0.01405374740731195, 0.01423052406106172, 0.014584077459760859, 0.014760854208176716, 0.015114407560482747, 0.015291184213352975, 0.015644737675864166, 0.015821514344601183, 0.016175067743817686, 0.016351844446012932, 0.016705397813840797, 0.016882174529315848, 0.017235727899903158, 0.017412504629692804, 0.01776605799872794, 0.01794283468212448, 0.018296388083238115, 0.018473164832171388, 0.018826718167575838, 0.01900349488339581, 0.019180271535058788, 0.019533824968595848, 0.01988737833590633, 0.0200641550374117, 0.0204177084368007, 0.02059448510467537, 0.020948038537522584, 0.021124815236441004, 0.0214783685902992, 0.02165514530577425, 0.02200869869033123, 0.02218547511916932, 0.0225390284861349, 0.022715805057774083, 0.023069358393868408, 0.023246135189712167, 0.02359968868464676, 0.023776465355625845, 0.024130018624976192, 0.024306795263359368, 0.02466034879123479, 0.02483712555568991, 0.025190678859878208, 0.02536745552844277, 0.025721008863847226, 0.02589778566124316, 0.026251339029071025, 0.026428115696945725, 0.026596132531344786, 0.026728740558805555, 0.026806065761415268, 0.02692680755804669, 0.027042866804236204, 0.027208011324281748, 0.027309835478590068, 0.027513481207129282, 0.02761530529693567, 0.02781895097511509, 0.027920775115281283, 0.028124420857617703, 0.028328069087935205, 0.028429890611806306, 0.02863353885592101, 0.02873536306058913, 0.02893900873876855, 0.029040832893076875, 0.02924447855711415, 0.02934630014514226, 0.029550190729237938, 0.02962996944371349, 0.029738049767694757, 0.029792550913809262, 0.029876062182835776, 0.029902224915053982, 0.029942214363256617, 0.0299573687929483, 0.029980528491646875, 0.029992959174301694], \"xaxis\": \"x4\", \"y\": [1.0591711376926831, 1.1986684195463415, 1.319983282985366, 1.4625794494341464, 1.5038612460390244, 1.605184820222581, 1.4019894011, 1.6721658598000002, 1.6219943400571428, 1.4643609468999998, 1.6873072650999998, 1.6156424126585367, 1.5844668399024389, 1.5421753638170732, 1.5063737459243902, 1.4197896837268291, 1.380943002302439, 1.4621691227634146, 1.5107404798926831, 1.5692185272170731, 1.5643768817024388, 1.578250386487805, 1.5471378360390244, 1.4563385434268292, 1.3535187490439025, 1.2944991026536583, 1.2779629836756101, 1.2966751662365854, 1.4288138497878051, 1.5576968779317073, 1.7515092220243902, 1.8771926023170733, 2.1596864880243904, 2.2715544819512195, 2.3829580115121947, 2.3966093662195123, 2.504040841317073, 2.572833920512195, 2.7336809438780487, 2.805650419414634, 2.9559735631463417, 3.0300307890731717, 3.1411861483658536, 3.184857565390244, 3.3383027001951224, 3.401960522195122, 3.5219133940731706, 3.5920583135853663, 3.6918560545121952, 3.726563168, 3.8058912, 3.840695472926829, 3.894541794780488, 3.938205161951219, 4.047456642292683, 4.09840156902439, 4.206025741585366, 4.266276648902439, 4.386181450073171, 4.463408568170732, 4.599613385512195, 4.6618222984390245, 4.779995612609756, 4.830233780463415, 4.933216419439026, 4.980527285097561, 5.027200318609756, 5.129566368317073, 5.2167233827073165, 5.249837692658536, 5.292680120195122, 5.312250303731707, 5.371963970024391, 5.411105267463415, 5.4534217553170725, 5.45646305714634, 5.488672747097561, 5.513298893390244, 5.559189531585367, 5.5989300625853655, 5.651623714317073, 5.65724864602439, 5.664870238512195, 5.678794694219513, 5.669182702585366, 5.622661212219511, 5.657034680121951, 5.6375454396585365, 5.520302813560977, 5.497086891243902, 5.398693749731708, 5.342776286146342, 5.247663112121951, 5.116858113682927, 4.930035171, 4.954793916268294, 4.919917679317074, 4.81831356502439, 4.773304195414633, 4.614140699146342, 4.545505820853658, 4.4112663834878045, 4.3573274445853665, 4.280406687682927, 4.254390544585366, 4.227770388756098, 4.22139139307317, 4.225706357, 4.2567023183658526, 4.2664698409268285, 4.263496297878048, 4.270874841609756, 4.323822384463415, 4.368005683731707, 4.405776021073169, 4.327320830951218, 4.200702424780488, 3.9713420596097566, 3.0546780973902434, 2.5697190792926827, 1.639665561390244, 1.2375793825097559, 0.5864551907170732, 0.22018155208963416], \"yaxis\": \"y4\"}, {\"line\": {\"color\": \"blue\"}, \"marker\": {\"size\": 7}, \"mode\": \"lines\", \"name\": \"KW-SST-ASCII\", \"showlegend\": false, \"type\": \"scatter\", \"x\": [0.004018580273522146, 0.004056512552654007, 0.0040962888218092856, 0.00415386775575994, 0.004197246988099546, 0.004274593764647528, 0.004326620294697583, 0.0043297926358630496, 0.004383763256234732, 0.0045151954534969, 0.004861359102557256, 0.005214912476993053, 0.005568465991471341, 0.005922019440047281, 0.006275572888623232, 0.006629126304247997, 0.0069826796704813435, 0.007336233053084247, 0.007689786402912792, 0.008043339768969442, 0.008396893151713805, 0.00875044656730328, 0.00910399996648785, 0.009457553349020074, 0.00981110674820464, 0.010164660114473405, 0.010518213497182415, 0.010871766846975595, 0.011225320509486752, 0.011578873629010666, 0.01210920380176863, 0.012462757250344576, 0.012816310501178213, 0.01316986411440402, 0.013523417266631588, 0.013876970912631835, 0.014230523968551406, 0.01458407764587654, 0.01493763082999454, 0.015291184345392244, 0.0156447376921448, 0.015998291143902856, 0.016351844461310532, 0.01670539787559188, 0.017058951256992774, 0.017412504673041847, 0.017766058089798115, 0.01811961143761136, 0.0184731648554283, 0.018826718237182672, 0.019180271618230046, 0.019533825003166427, 0.0198873784181549, 0.02024093176844307, 0.020594485216665532, 0.0209480385330126, 0.021301592015176167, 0.02165514523288186, 0.022008698847274404, 0.02236225209715345, 0.022715805150456715, 0.023069358137292068, 0.0234229121798378, 0.02377646549724549, 0.02413001854807395, 0.02448357186724946, 0.024837125907673858, 0.02519067895956294, 0.025544232081809247, 0.02589778566120001, 0.02625133937317329, 0.02659080391924516, 0.02680600822932768, 0.02684491359020378, 0.027042866804236204, 0.027208011324281745, 0.027411656988319037, 0.02761530266649845, 0.02781895097511509, 0.02802259663915237, 0.028226242303189663, 0.028429890611806306, 0.028633538920422943, 0.028837184584460232, 0.02904083024849751, 0.02924447855711416, 0.029448124221151437, 0.02962996944371348, 0.02973804976769476, 0.029844678656012712, 0.029902224915053975, 0.029942214363256617, 0.029969999671675008, 0.029992959174301687], \"xaxis\": \"x4\", \"y\": [1.0918217100799998, 1.18966804504, 1.273340874075, 1.36392987493, 1.459129005, 1.5118024582, 1.5012589778, 1.5983681240999998, 1.5632657952000002, 1.5823939337, 1.6364078048, 1.4727598861000002, 1.2828458009550001, 1.126647819725, 1.0489535373999999, 1.0723821827700002, 1.1714760749350002, 1.2973334918000001, 1.3612701636000002, 1.24941845009, 1.0549960000749998, 1.113253458565, 1.3208092143, 1.5888917729499998, 1.8674519389, 2.1165905609, 2.31061091585, 2.45939285845, 2.57719970455, 2.6728835795, 2.8405353252000003, 2.9751508906999997, 3.10350825295, 3.22761333545, 3.35289582275, 3.47350889815, 3.5841449231999998, 3.68926112925, 3.7934225315499996, 3.89809259175, 4.0032448293, 4.1081007285, 4.2119940164, 4.3144203689000005, 4.4148731589, 4.51329974555, 4.61009141625, 4.705637161, 4.8000532323, 4.8931292783, 4.98421623425, 5.07210902895, 5.15520827815, 5.23198765075, 5.3015453561, 5.3632056026, 5.4157768161, 5.4578151335000005, 5.48890952015, 5.510553326599999, 5.5271210859, 5.54556455, 5.56791258095, 5.594253382050001, 5.6211601577999994, 5.63909137685, 5.636207559600001, 5.6094791313000005, 5.5712445588, 5.52850624255, 5.4444625126, 5.3111343679999985, 5.0520032459, 4.96757326935, 4.8666088205500015, 4.7176283967, 4.604598827, 4.520483238300001, 4.44978032215, 4.3864261464, 4.330191773999999, 4.28320455205, 4.248117998550001, 4.22441146115, 4.208426397799999, 4.19190885355, 4.14172031615, 3.9799712704, 3.8768803548000004, 3.45136659545, 2.8142970637999998, 1.94053924045, 1.05968461535, 0.258259105522], \"yaxis\": \"y4\"}, {\"line\": {\"color\": \"black\"}, \"marker\": {\"size\": 7}, \"mode\": \"markers+lines\", \"name\": \"Experimental\", \"showlegend\": false, \"type\": \"scatter\", \"x\": [0.010606602, 0.011030866, 0.01145513, 0.011879394, 0.012303658, 0.012727922, 0.013152186000000001, 0.01357645, 0.014000714, 0.014424978, 0.014849242, 0.015273506000000001, 0.015697771, 0.016122035, 0.016546299, 0.016970563, 0.017394826999999998, 0.017819091000000002, 0.018243355, 0.018667619, 0.019091883, 0.019516147, 0.019940411, 0.020364675, 0.020788939, 0.021213202999999996, 0.021637467999999997, 0.022061732, 0.022485996, 0.02291026, 0.023334524, 0.023758788, 0.024183052000000003, 0.024607316, 0.02503158, 0.025455844, 0.025880108, 0.026304372000000003, 0.026728636, 0.0271529, 0.027577163999999998, 0.028001428999999998, 0.028425693, 0.028849957000000002, 0.029274221, 0.029698485], \"xaxis\": \"x4\", \"y\": [1.47032772, 1.689174954, 1.894064756, 2.1264871430000003, 2.272784263, 2.401318668, 2.539667012, 2.702462469, 2.9061367989999995, 3.119637635, 3.3210095739999996, 3.474365057, 3.635859025, 3.738272228, 3.8512608860000004, 3.940958453, 4.027355506, 4.093390321, 4.171549409, 4.233102482, 4.309599319, 4.382101112, 4.472128745, 4.571983234, 4.643674635, 4.753780094, 4.874157148, 5.011895485, 5.137635037, 5.231361781, 5.326111497, 5.411827194, 5.449271872000001, 5.471819192000001, 5.403731552999999, 5.253643708, 5.073704115, 4.867885108, 4.68587519, 4.525651246, 4.473294948, 4.484477779, 4.507906786, 4.520033153, 4.604753542, 3.9764802830000003], \"yaxis\": \"y4\"}, {\"line\": {\"color\": \"red\"}, \"marker\": {\"size\": 7, \"symbol\": \"triangle-right\"}, \"mode\": \"lines\", \"name\": \"SBES-ASCII\", \"showlegend\": false, \"type\": \"scatter\", \"x\": [0.0040063151325965005, 0.004018580921640699, 0.004035238218890343, 0.004056513928720021, 0.004096291466419692, 0.004122420412127324, 0.004153872578805947, 0.004197247054001896, 0.004206311860924559, 0.004326620294697583, 0.00438376319033238, 0.004417587188540779, 0.004507801913979152, 0.004515195445259068, 0.004684582273714052, 0.0048613589778753385, 0.0050381356821401, 0.0053916890703532595, 0.00556846581475064, 0.005745242635343107, 0.005922019319550215, 0.006275572719922158, 0.006452349396006181, 0.006629126112257259, 0.006805902796395414, 0.007159456172656777, 0.0073362328728513735, 0.00751300958103113, 0.007689786257166873, 0.00804333965740091, 0.008220116349506914, 0.008396893057790159, 0.008573669741859294, 0.008927223150250928, 0.009103999818229076, 0.009280776518423704, 0.009457553218463123, 0.00981110661083276, 0.009987883303145728, 0.010164660019241644, 0.010341436695498123, 0.010518213395554782, 0.010871766787907168, 0.011048543367721169, 0.011225320268596194, 0.011402096920707571, 0.011755650288949312, 0.01193242702120525, 0.01210920365720838, 0.012285980341380969, 0.012639533757775049, 0.012816310457814444, 0.012993087126016772, 0.013169863890316729, 0.013523417242467492, 0.013700193942679382, 0.013876970610743809, 0.014053747326994931, 0.014407300710655088, 0.014584077427682338, 0.014760854127980425, 0.014937630811376971, 0.015291184165235184, 0.015467960929345366, 0.015821514280444142, 0.015998290965737794, 0.016175067679488175, 0.01635184434960492, 0.016705397749511294, 0.016882174464986344, 0.01705895114907275, 0.017235727835573658, 0.017589281233927855, 0.017766057918359182, 0.017942834634006696, 0.018119611284979808, 0.018473164719724128, 0.018649941403120672, 0.018826718103246327, 0.01900349478698781, 0.019357048186894186, 0.01953382487236031, 0.019710601603874604, 0.01988737827140436, 0.020240931656651213, 0.020417708372471203, 0.02059448502447909, 0.020771261741161392, 0.021124815188323216, 0.02130159182618897, 0.021478368509930446, 0.021655145225405497, 0.02200869859392324, 0.022185475054839827, 0.022362251848614, 0.02253902845405636, 0.02289258159629995, 0.023069358265381902, 0.02324613506139813, 0.023422911826715544, 0.023599688652568226, 0.02395324189501406, 0.02413001852856821, 0.024306795199029882, 0.024483571899155523, 0.024837125491532858, 0.025190678763470208, 0.025367455432034773, 0.025544232164583867, 0.02572100876743922, 0.026074562330325044, 0.026251338964913988, 0.02642811566469473, 0.026590804445332638, 0.02659632068968135, 0.02680587879824316, 0.02685939366630038, 0.026945710417353986, 0.0270682154933973, 0.02729725464888133, 0.027399076511473837, 0.027500900312918616, 0.027602724467226936, 0.027806370131264226, 0.027908194285572542, 0.028010018439880862, 0.028111840014111763, 0.02831548825822646, 0.028417311386022708, 0.02851913392226375, 0.0287227822308804, 0.028824603754751495, 0.028926427894917683, 0.029028252049226006, 0.029231897727405424, 0.029333721881713737, 0.029435545059524844, 0.02953715153877151, 0.02972614745592265, 0.02981023941621481, 0.02984537145095264, 0.02987661280033262, 0.029924373083359924, 0.029942472513800288, 0.029957561083566377, 0.029970134021963427, 0.029992993419483107], \"xaxis\": \"x5\", \"y\": [1.453493437390244, 1.4396894711463415, 1.4304578082329267, 1.426662977912195, 1.428101933195122, 1.4281485948195125, 1.420292005712195, 1.4016789931, 1.4166877253612904, 1.24654197697, 1.4833612133899998, 1.25395503437, 1.5793840679714284, 1.3882653314700002, 1.5534322603804878, 1.563302582890244, 1.5405997697414633, 1.4540717236975609, 1.4280992283146339, 1.4180874685634146, 1.4096023381, 1.3602831521048782, 1.3618763109756098, 1.3775069492756096, 1.359698773887805, 1.3446511333878048, 1.3650941738878049, 1.4105076392170732, 1.4569281771146338, 1.465517543207317, 1.47496387347561, 1.4996402996902438, 1.5250777072634147, 1.5810405087682928, 1.5907408132682923, 1.6033321691414637, 1.5968799444658537, 1.6228864937829268, 1.6323651262414631, 1.6383658564585366, 1.6324875851073168, 1.601577998453659, 1.7585925752609757, 1.8513904390219516, 1.930207731880488, 2.045432330875609, 2.188787683917073, 2.2549564831780486, 2.3932509479926827, 2.5819944535439023, 2.9058079040487805, 3.0342559612926827, 3.0912921977073173, 3.166314035170732, 3.4423092672926834, 3.5429570059512194, 3.6394245254146336, 3.768932281536585, 3.8597139289268285, 3.9293739998292687, 3.9844604812195117, 4.056982544585367, 4.323036263317073, 4.460075785536586, 4.607613687878049, 4.664870337097561, 4.7301168129024385, 4.8151625646341465, 4.9880506023658535, 5.0526698195609745, 5.108318447878049, 5.165947338048781, 5.26715450604878, 5.308363246731708, 5.34487888104878, 5.385931000292684, 5.473646590853659, 5.527193439195122, 5.581273170146341, 5.636357871780487, 5.779067207317072, 5.848774930951219, 5.895679974, 5.934929482487805, 6.0551937694390245, 6.1105528758780485, 6.157860503146344, 6.216607195097562, 6.336029086512196, 6.3995884200000015, 6.456093045536585, 6.507067833951219, 6.591930510902438, 6.659102190878049, 6.7356493660975625, 6.813164614756098, 6.949728274390244, 7.013302651731707, 7.079176327560977, 7.130252068195121, 7.1853391945853655, 7.282419909243902, 7.306030601439023, 7.3561602657073175, 7.406451569390245, 7.460903652585365, 7.4883655035853645, 7.498153818951219, 7.4640354706097565, 7.4754994513170745, 7.493008811804877, 7.467946250390245, 7.469843451268293, 7.49169389755, 7.4836409712857135, 7.5135101120731695, 7.480265423365854, 7.454430863268293, 7.419584135219511, 7.449890669780487, 7.451399226707318, 7.408125419341463, 7.391585083585366, 7.332548478463415, 7.315879899146342, 7.270675224414633, 7.273737673292682, 7.226418979073171, 7.181617778512195, 7.149996574243902, 7.077735858682928, 7.053236733682928, 7.073103775243903, 7.048105717926829, 6.938751359707317, 6.881081429878049, 6.8141590408780495, 6.815023737512195, 6.735406629756098, 6.686314674731707, 6.573913233804878, 6.349117282073171, 5.237850153243902, 4.3481428357804885, 3.387028993707317, 2.4631967579756098, 0.6111111827365854], \"yaxis\": \"y5\"}, {\"line\": {\"color\": \"green\"}, \"marker\": {\"size\": 7, \"symbol\": \"x\"}, \"mode\": \"lines\", \"name\": \"IDDES-ASCII\", \"showlegend\": false, \"type\": \"scatter\", \"x\": [0.004018580905566956, 0.004035238238982524, 0.004074573511882389, 0.004096291454364384, 0.004153872598811895, 0.004197247054001896, 0.0042063118715539695, 0.0042745938302670376, 0.0044175871555896026, 0.004507801913979152, 0.004515195437021271, 0.004684582273714052, 0.0050381356821401, 0.005214912374159849, 0.00556846581475064, 0.005745242635343107, 0.0060987960116734435, 0.006275572719922158, 0.006805902796395414, 0.006982679480533487, 0.0073362328728513735, 0.00751300958103113, 0.007689786257166873, 0.007866562965329386, 0.008220116349506914, 0.008396893057790159, 0.008750446433999805, 0.008927223150250928, 0.009280776518423704, 0.009457553218463123, 0.00981110661083276, 0.009987883303145728, 0.010341436695498123, 0.010518213395554782, 0.010871766787907168, 0.011048543367721169, 0.011402096920707571, 0.011578873540602441, 0.01193242702120525, 0.01210920365720838, 0.012462757089710631, 0.012639533757775049, 0.012993087126016772, 0.013169863890316729, 0.013523417242467492, 0.013700193942679382, 0.014053747326994931, 0.014230524028983175, 0.014584077427682338, 0.014760854127980425, 0.01511440749615324, 0.015291184165235184, 0.01564473757945616, 0.015821514280444142, 0.016175067679488175, 0.01635184434960492, 0.016705397749511294, 0.016882174464986344, 0.017235727835573658, 0.01741250454932405, 0.017766057918359182, 0.017942834634006696, 0.018296388003041838, 0.018473164719724128, 0.018826718103246327, 0.01900349478698781, 0.019357048186894186, 0.01953382487236031, 0.01988737827140436, 0.020064154957042956, 0.020417708372471203, 0.02059448502447909, 0.02094803845715384, 0.021124815188323216, 0.021478368509930446, 0.021655145225405497, 0.02200869859392324, 0.022185475054839827, 0.02253902845405636, 0.022715804993617063, 0.023069358265381902, 0.02324613506139813, 0.023599688652568226, 0.023776465291296348, 0.02413001852856821, 0.024306795199029882, 0.0246603487269053, 0.024837125491532858, 0.025190678763470208, 0.025367455432034773, 0.02572100876743922, 0.025897785532584188, 0.026251338964913988, 0.02642811566469473, 0.026728790223226426, 0.02680587886240017, 0.02685939366630038, 0.0270682154933973, 0.02720748185686614, 0.02739907744175044, 0.027500900312918616, 0.027704548621535263, 0.027908194285572542, 0.028010018439880862, 0.028213664103918144, 0.02831548825822646, 0.02851913392226375, 0.02862095807657207, 0.028824603754751495, 0.028926427894917683, 0.02913007613937732, 0.029231897727405424, 0.029435543455599705, 0.02953715153877151, 0.029726148487953626, 0.02981023941621481, 0.02987661280033262, 0.0299026595453081, 0.029942472513800288, 0.029957561083566377, 0.02998061798928984, 0.029992993419483107], \"xaxis\": \"x5\", \"y\": [1.4471682668536583, 1.4415380150853658, 1.4406835322756095, 1.4415067301829267, 1.4459861064536583, 1.64824156958, 1.392720750545161, 1.7784921113499998, 1.45926781103, 1.3579761328857145, 1.61011880372, 1.4770154983146342, 1.4318743374707317, 1.3957344939341465, 1.3003855908951218, 1.3122035250512196, 1.3219292316707316, 1.2979412376609756, 1.3329853478292684, 1.2959365545560977, 1.2623329582439025, 1.282859609585366, 1.3119334798731708, 1.3454927881414631, 1.4439281970536586, 1.5014633543780491, 1.5809115769512194, 1.6153092080585365, 1.6400683216073169, 1.6258593497634146, 1.7303717027317072, 1.7175435474878047, 1.7049462434146343, 1.6938503410658536, 1.719196699014634, 1.7766375735024391, 1.9889633937512197, 2.0896517185317074, 2.3518750837097557, 2.440257480260976, 2.593155483146341, 2.7375415417073166, 3.1028010252439024, 3.2793521148536584, 3.4797481919268294, 3.5485273944634153, 3.707500969512195, 3.7976789558048782, 4.03141424097561, 4.151010311902439, 4.341048811317073, 4.442886418195122, 4.601329402756098, 4.674769212121951, 4.870253013414634, 4.943595922170731, 5.0600130193658535, 5.108434309926829, 5.186248796512196, 5.2282918235609745, 5.316609478780489, 5.350478619512195, 5.442835256926829, 5.486586491634146, 5.555611593975611, 5.577002770585366, 5.6795464296585365, 5.726817522365852, 5.8490902164634155, 5.91571120785366, 6.049204447707317, 6.1155239347073165, 6.240437384756098, 6.315327420073169, 6.485181323170733, 6.563186391658538, 6.696582993243903, 6.74610396185366, 6.932585526414634, 7.036693912780487, 7.182940619170733, 7.252468682536587, 7.4156913210731705, 7.456871797731707, 7.461592633487805, 7.455107496731707, 7.421795322609756, 7.434468252999999, 7.511572183707317, 7.493238341317074, 7.483081536365853, 7.48387702519512, 7.478868199170733, 7.499883492585366, 7.453299349536585, 7.459938439195121, 7.4424663281219505, 7.456737675878049, 7.45880221795122, 7.444892171341463, 7.4211553535365855, 7.352348592756098, 7.311999854439025, 7.3008505546829285, 7.232293969390245, 7.203304890780489, 7.1827975822195125, 7.156098499463416, 7.091036950951219, 7.063377578170733, 6.963623260268292, 6.912467525243902, 6.862480314585365, 6.8493010891219495, 6.846579497731707, 6.816176984390244, 6.459650362780487, 5.980017177585366, 4.3471455267560986, 3.386287187390244, 1.6351182274634146, 0.6119482572756098], \"yaxis\": \"y5\"}, {\"line\": {\"color\": \"blue\"}, \"marker\": {\"size\": 7}, \"mode\": \"lines\", \"name\": \"KW-ASCII\", \"showlegend\": false, \"type\": \"scatter\", \"x\": [0.004006314799649237, 0.0040352372597983, 0.0040745715880638675, 0.0041224168547903855, 0.004197246922197193, 0.0043297926523386265, 0.004383763322137084, 0.00441758708968725, 0.004684582411255817, 0.005038135810475703, 0.005391689176567628, 0.005745242764973886, 0.006098796131242592, 0.006275572888623232, 0.006629126304247997, 0.0069826796704813435, 0.007336233069559842, 0.00768978640287743, 0.00804333978544502, 0.008396893184629623, 0.008750446550863036, 0.009103999950047608, 0.009457553349055414, 0.0098111067317644, 0.010164660147389213, 0.010518213497182396, 0.010871766879891406, 0.011225320509486752, 0.011755650353192556, 0.01210920380176863, 0.012462757250344576, 0.012816310501178213, 0.013169864147319823, 0.01352341723368041, 0.013876970912631835, 0.014230524001431863, 0.014584077711637453, 0.014937630862875013, 0.015291184378272682, 0.0156447376921448, 0.015998291111022377, 0.016351844494190988, 0.016705397842711404, 0.017058951289873232, 0.017412504640161367, 0.017766058089444557, 0.01811961140473088, 0.018473164822547832, 0.01882671826970956, 0.019180271552469097, 0.019533825036046875, 0.019887378384920863, 0.020240931801677072, 0.020594485150904583, 0.02094803853301259, 0.02130159204841018, 0.021655145265762312, 0.022008698814393927, 0.02253902855839772, 0.02289258161099391, 0.02324613512568448, 0.023599688968472525, 0.02395324202177581, 0.02430679507684696, 0.02466034891963502, 0.025013902370332342, 0.025367455488335938, 0.02572100867280761, 0.0260745626495924, 0.02642811589876428, 0.02659080391924516, 0.02659613272827404, 0.026806008097805815, 0.026945710417353986, 0.02720748185686613, 0.027399077473828932, 0.027602724467226936, 0.02780637013126422, 0.02801001843988087, 0.028213664103918144, 0.028417312412534795, 0.02862095807657207, 0.028824603754751495, 0.029028252049226003, 0.02923189772740542, 0.029435546021879932, 0.029609125194454168, 0.02981023941621481, 0.029876612800332613, 0.029924373083359924, 0.029957561083566377, 0.02998061540921242], \"xaxis\": \"x5\", \"y\": [1.4556387588750002, 1.4385497437, 1.44422963045, 1.4725333312, 1.4911798868000001, 1.5408497551, 1.6270364852, 1.6621846958000002, 1.6316091863, 1.6099777396500001, 1.5695595813499998, 1.53010233465, 1.5027485131, 1.4949428938, 1.4876607053000002, 1.4883958404, 1.49411506405, 1.5000410366499999, 1.5021338221, 1.50227507085, 1.50864386095, 1.5414002468, 1.61242243855, 1.66974959805, 1.61819443625, 1.4268868108000001, 1.4407600133, 1.92633403385, 2.4315770398, 2.52160178695, 2.5857691222, 2.63126723865, 2.72515029685, 2.95293985195, 3.3088202681, 3.705504898, 4.0696468643, 4.35730741435, 4.5565231453, 4.697858129649999, 4.811508005199999, 4.911439415249999, 5.00396138515, 5.0919887198, 5.17717987235, 5.26098834065, 5.3452816862, 5.43163065285, 5.52033284205, 5.61127768585, 5.7048898911000006, 5.801948820350001, 5.903059692999999, 6.00853164225, 6.1187664598, 6.2344562128, 6.3550721892, 6.47779297955, 6.6616502214499995, 6.7821895355, 6.89861224285, 7.0087595809500005, 7.110977397249999, 7.2034011731500005, 7.284528094650001, 7.35519801275, 7.416794843949998, 7.467830094350001, 7.506059434500001, 7.530544374550001, 7.591905594399999, 7.486570886299999, 7.54537556805, 7.544173650899999, 7.526907390650001, 7.504989129499999, 7.47704987485, 7.447549284400001, 7.416272421249999, 7.3776459965, 7.323035835650001, 7.246887718099999, 7.151968247499998, 7.0469260174, 6.9462497613, 6.871666954849999, 6.806462948649999, 6.6352394535500006, 6.33037127285, 5.5182192412, 3.93464743685, 1.9829291381], \"yaxis\": \"y5\"}, {\"line\": {\"color\": \"black\"}, \"marker\": {\"size\": 7}, \"mode\": \"markers+lines\", \"name\": \"Experimental\", \"showlegend\": false, \"type\": \"scatter\", \"x\": [0.008485280999999999, 0.008909545, 0.00933381, 0.009758074, 0.010182338, 0.010606602, 0.011030866, 0.01145513, 0.011879394, 0.012303658, 0.012727922, 0.013152186000000001, 0.01357645, 0.014000714, 0.014424978, 0.014849242, 0.015273506000000001, 0.015697771, 0.016122035, 0.016546299, 0.016970563, 0.017394826999999998, 0.017819091000000002, 0.018243355, 0.018667619, 0.019091883, 0.019516147, 0.019940411, 0.020364675, 0.020788939, 0.021213202999999996, 0.021637467999999997, 0.022061732, 0.022485996, 0.02291026, 0.023334524, 0.023758788, 0.024183052000000003, 0.024607316, 0.02503158, 0.025455844, 0.025880108, 0.026304372000000003, 0.026728636, 0.0271529, 0.027577163999999998, 0.028001428999999998, 0.028425693, 0.028849957000000002, 0.029274221, 0.029698485], \"xaxis\": \"x5\", \"y\": [1.4290862030000002, 1.304956016, 1.3677885269999999, 1.365288274, 1.3631626680000002, 1.395536198, 1.503998937, 1.7666735740000001, 2.131084059, 2.564652634, 2.9573649, 3.3135953910000002, 3.610486085, 3.8213131160000002, 3.910514019, 3.976263163, 4.05031181, 4.175811106, 4.3381123939999995, 4.565736372, 4.794594996, 4.987590166, 5.179486734, 5.34828983, 5.556650452, 5.721097751, 5.866459835, 5.9713360710000005, 6.013008043999999, 6.125078276, 6.274260795, 6.40723831, 6.39907134, 6.551348589, 6.702272034, 6.849695643, 7.020861637, 7.16965677, 7.317306884, 7.444685165, 7.514078225, 7.479776027000001, 7.249534935, 6.987652804, 6.696612743999999, 6.4708195470000005, 6.36717822, 6.338974905, 6.350509296, 6.098506782, 4.525339649], \"yaxis\": \"y5\"}, {\"line\": {\"color\": \"red\"}, \"marker\": {\"size\": 7, \"symbol\": \"triangle-right\"}, \"mode\": \"lines\", \"name\": \"SBES-ASCII\", \"showlegend\": false, \"type\": \"scatter\", \"x\": [0.004006316264933156, 0.004018581612294314, 0.004035238361475839, 0.004074572190748223, 0.004096289350256054, 0.0041224172639499615, 0.00415386815373171, 0.004197246955148368, 0.004274593846671915, 0.004326620294697583, 0.004329833239789787, 0.004383763256234732, 0.004417587254443131, 0.004507802062943135, 0.004684582358032298, 0.004861359054173951, 0.0052149124464400285, 0.005391689142616193, 0.005568465887030811, 0.005922019399850015, 0.006098796083936366, 0.0062755728002219565, 0.006452349484325599, 0.00680590286865834, 0.006982679552813658, 0.007159456244936938, 0.007336232945114286, 0.007689786329464279, 0.007866563045629174, 0.008043339737683449, 0.008220116413750195, 0.008573669814122206, 0.008750446522336459, 0.008927223198454955, 0.009103999890509232, 0.009457553282706406, 0.009634329991110364, 0.009811106683095658, 0.009987883383462756, 0.010341436767778284, 0.010518213475854559, 0.01069499016011343, 0.01104854343196445, 0.011225320332839465, 0.011402097001007352, 0.011578873636975963, 0.011932427117578763, 0.012109203753581894, 0.012285980405641486, 0.012462757153971157, 0.01281631052205772, 0.012993087190260063, 0.013169863954577251, 0.013346640606705882, 0.013700193974775166, 0.013876970723156568, 0.01405374740731195, 0.01423052406106172, 0.014584077459760859, 0.014760854208176716, 0.014937630891745724, 0.015114407560482747, 0.015467960961423903, 0.015644737675864166, 0.015821514344601183, 0.01599829104593408, 0.016351844446012932, 0.01652862111406008, 0.016705397813840797, 0.016882174529315848, 0.017235727899903158, 0.017412504629692804, 0.0175892813301634, 0.01776605799872794, 0.01811961138138781, 0.018296388083238115, 0.018473164832171388, 0.018649941467450176, 0.01900349488339581, 0.019180271535058788, 0.01935704823501197, 0.019533824968595848, 0.01988737833590633, 0.0200641550374117, 0.02024093175288676, 0.0204177084368007, 0.020771261789279183, 0.020948038537522584, 0.021124815236441004, 0.0213015918582675, 0.02165514530577425, 0.02183192200710717, 0.02200869869033123, 0.02218547511916932, 0.0225390284861349, 0.022715805057774083, 0.02289258169270796, 0.023069358393868408, 0.023422911955202057, 0.02359968868464676, 0.023776465355625845, 0.023953241959343542, 0.024306795263359368, 0.02448357199556352, 0.02466034879123479, 0.02483712555568991, 0.025190678859878208, 0.02536745552844277, 0.025544232228913367, 0.025721008863847226, 0.02589778566124316, 0.026251339029071025, 0.026428115696945725, 0.02659078295834419, 0.026596132596752173, 0.026728740430491543, 0.02684491359020378, 0.026926808007145732, 0.027042867060864232, 0.02710589677018657, 0.027309835221962047, 0.02741165724632677, 0.02751348140063509, 0.027615304783679632, 0.02781895097511509, 0.027920775115281283, 0.028022598243077512, 0.028124421050088718, 0.02832806883130718, 0.028429892215731438, 0.028531714830271632, 0.028633538533411336, 0.02883718477693125, 0.02893900873876855, 0.029040831538536226, 0.02914265530100392, 0.029346302326480445, 0.029550190729237938, 0.02962996944371349, 0.02970974288317244, 0.029738049767694757, 0.029844678656012712, 0.029876062118678774, 0.029902224915053982, 0.029924033468596182, 0.0299573687929483, 0.02996999967167501, 0.029980528491646875, 0.029992959174301694], \"xaxis\": \"x6\", \"y\": [1.463556064280488, 1.468940070219512, 1.4858983468292684, 1.5153943927000002, 1.5140404241463414, 1.5002980564560977, 1.4750145941268291, 1.4828923437, 1.448664337, 1.3780497185, 1.3992977157333333, 1.37709317713, 1.3721919305, 1.4213116486619046, 1.4397311607365857, 1.4688764603804878, 1.5028744736609756, 1.4884323463146345, 1.4576781428414636, 1.2458654439756098, 1.2222686529414637, 1.233229704404878, 1.2642715509951221, 1.3808942408439024, 1.4106933958756096, 1.4232077889585366, 1.4507828281341464, 1.4753725783170732, 1.4695539872439023, 1.454362231302439, 1.4832945447756098, 1.719628903214634, 1.8428639905439024, 2.0085772752682933, 2.178853668170732, 2.5032315160487806, 2.5970253239512195, 2.778717783756097, 3.003334895170732, 3.1865834370975605, 3.2686933424146343, 3.32352019402439, 3.473206609463414, 3.5152777391463417, 3.6853449712439033, 3.8055228018292686, 4.020561133878049, 4.1533479475609765, 4.193437525073171, 4.263697425829268, 4.435330443804878, 4.4903227409512185, 4.571204041756098, 4.6442865012439025, 4.782781970048781, 4.852995161682927, 4.926249410560977, 4.987481937804878, 5.151448232097561, 5.227341701560976, 5.287831242878049, 5.3443077802682915, 5.513518722804879, 5.5773869555121935, 5.654813440487803, 5.744451810121952, 5.93191921902439, 6.005528506780487, 6.081334455219513, 6.156370562707317, 6.3127694492195126, 6.38021822, 6.439738255390245, 6.502093975707318, 6.6462219375853655, 6.708532833390242, 6.756984894512193, 6.834559670878049, 7.011717978878049, 7.085172102414634, 7.158875473073171, 7.2320120853902425, 7.466705746341463, 7.567982814414633, 7.617738555536586, 7.65825748902439, 7.694468963170731, 7.703518582341464, 7.740382234731707, 7.844081001585367, 7.882569824609755, 7.888282657146343, 7.870174199121952, 7.837683246121951, 7.869618741634146, 7.9175771372926835, 7.898722625707317, 7.858477758219513, 7.9429196144878045, 7.91380255695122, 7.913984830317074, 7.971871759243902, 7.933032996878049, 7.864764694585366, 7.807724185121952, 7.7594558110000005, 7.708428176439026, 7.641166086121951, 7.623605867658536, 7.600884760902439, 7.599337456024392, 7.250426476, 7.055025149292683, 6.969971477761905, 6.916061525649999, 6.873762558731706, 6.749013670634147, 6.5783984455609765, 6.4325123463902445, 6.307435273560976, 6.1466946610731705, 6.076060732024391, 6.025576793439026, 5.9809571629268286, 5.951466489731708, 5.95197012597561, 5.949040626, 5.931999248658537, 5.9141255689268295, 5.938540061146343, 5.950079944024391, 6.006117093097561, 6.041883678707317, 6.052215664512196, 6.0605018280243925, 6.088114508463415, 6.130750467731708, 6.1296836136829285, 6.034093441317072, 5.945874965, 5.881384278317072, 5.11908609685366, 4.647790846585366, 4.089306705682927, 3.4598662081463414, 2.148588014609756, 1.546756381887805, 1.0187934271902441, 0.3791103996387805], \"yaxis\": \"y6\"}, {\"line\": {\"color\": \"green\"}, \"marker\": {\"size\": 7, \"symbol\": \"x\"}, \"mode\": \"lines\", \"name\": \"IDDES-ASCII\", \"showlegend\": false, \"type\": \"scatter\", \"x\": [0.0040063162609319655, 0.004035238345402095, 0.004056513278216275, 0.0040962893623113636, 0.004122417271986836, 0.004206363439802267, 0.004274593764647528, 0.004326620294697583, 0.0043298332711045094, 0.0043837632232835546, 0.0044175872214919564, 0.004684582358032298, 0.004861359054173951, 0.0052149124464400285, 0.005391689142616193, 0.005745242707640523, 0.005922019399850015, 0.0062755728002219565, 0.006452349484325599, 0.00680590286865834, 0.006982679552813658, 0.007336232945114286, 0.0075130096452744235, 0.007866563045629174, 0.008220116413750195, 0.008396893114013811, 0.008750446522336459, 0.008927223198454955, 0.009280776614814476, 0.009457553282706406, 0.009811106683095658, 0.009987883383462756, 0.010341436767778284, 0.010518213475854559, 0.010871766836111194, 0.01104854343196445, 0.011402097001007352, 0.011578873636975963, 0.011932427117578763, 0.012109203753581894, 0.012462757153971157, 0.012639533854148562, 0.012993087190260063, 0.013169863954577251, 0.013523417338823764, 0.013700193974775166, 0.01405374740731195, 0.01423052406106172, 0.014584077459760859, 0.014760854208176716, 0.015114407560482747, 0.015291184213352975, 0.015644737675864166, 0.015821514344601183, 0.016175067743817686, 0.016351844446012932, 0.016705397813840797, 0.016882174529315848, 0.017235727899903158, 0.017412504629692804, 0.01776605799872794, 0.01794283468212448, 0.018296388083238115, 0.018473164832171388, 0.018826718167575838, 0.01900349488339581, 0.019180271535058788, 0.019533824968595848, 0.01988737833590633, 0.0200641550374117, 0.0204177084368007, 0.02059448510467537, 0.020948038537522584, 0.021124815236441004, 0.0214783685902992, 0.02165514530577425, 0.02200869869033123, 0.02218547511916932, 0.0225390284861349, 0.022715805057774083, 0.023069358393868408, 0.023246135189712167, 0.02359968868464676, 0.023776465355625845, 0.024130018624976192, 0.024306795263359368, 0.02466034879123479, 0.02483712555568991, 0.025190678859878208, 0.02536745552844277, 0.025721008863847226, 0.02589778566124316, 0.026251339029071025, 0.026428115696945725, 0.026596132530991242, 0.026728740494648545, 0.02680606608220029, 0.02692680755804669, 0.027042866804236204, 0.027208011324281748, 0.027309835478590068, 0.027513481207129282, 0.027615302730655458, 0.02781895097511509, 0.027920775115281283, 0.028124420857617703, 0.028328069087935205, 0.028429890611806306, 0.02863353885592101, 0.02873536306058913, 0.02893900873876855, 0.029040832893076875, 0.02924447855711415, 0.02934630271142248, 0.029550190729237938, 0.02962996944371349, 0.029738049767694757, 0.029792550913809262, 0.029876062182835776, 0.029902224915053982, 0.029942214363256617, 0.0299573687929483, 0.029980528491646875, 0.029992959174301694], \"xaxis\": \"x6\", \"y\": [1.457958441012195, 1.4718398929085366, 1.4942702510926829, 1.5078403246804881, 1.5012764490292685, 1.4519964356193549, 1.5687811265, 1.3520900822, 1.474082931504762, 1.6071672968, 1.3418806823, 1.4665181122146342, 1.4277938397756098, 1.4215181157390244, 1.4221867494658538, 1.3883051125951222, 1.3704380066585369, 1.3248379361, 1.3578134149121952, 1.4278890959243904, 1.436086917907317, 1.4340646298073172, 1.3975696970804878, 1.3981141863804878, 1.445873179002439, 1.4681563678585363, 1.5892907311487807, 1.7496585032365854, 2.116710093507317, 2.3259498932195117, 2.6501162449756097, 2.815174001146341, 3.1061246826585367, 3.1672631652926833, 3.3183405536585364, 3.3779601322926833, 3.626685885609757, 3.7106831232439017, 3.941188898878049, 4.098209924, 4.278667554097561, 4.3859624529268295, 4.558187054439024, 4.658551364707316, 4.784512266634146, 4.818332414463415, 4.93314855695122, 4.993491971268293, 5.14256115997561, 5.206836668682927, 5.326763102634146, 5.386678891731708, 5.507564924512195, 5.573839193609756, 5.710709397243902, 5.782868290707317, 5.9542223275609745, 6.043915887170732, 6.220195851731707, 6.320016508097561, 6.482176027146343, 6.5668716809268295, 6.7575828264878055, 6.855166095707316, 7.010057193780487, 7.092063067487805, 7.166973549292682, 7.279605795804878, 7.4224237483170725, 7.526541924609755, 7.648051243292683, 7.67833859812195, 7.778910714268293, 7.7830465059024405, 7.809937287146343, 7.8396885320243905, 7.910331801463414, 7.869200753170732, 7.782243692731707, 7.795227305414634, 7.762684192, 7.811289105512196, 7.793074531268292, 7.811865494414635, 7.7733174907560985, 7.755714299634147, 7.766417532146341, 7.766085277878048, 7.698563701609756, 7.636238418902439, 7.5298850588048785, 7.4136057262195125, 7.120068634000001, 6.9924089641463425, 6.785253344599999, 6.748179896243903, 6.67183994095122, 6.536096533024391, 6.499012505634147, 6.357140869804878, 6.2891354447317065, 6.17320574604878, 6.1281275513658535, 6.049364576073171, 6.028217480487805, 6.025597568707317, 6.039984543195122, 6.020568350682927, 6.033551058682928, 6.0711447137804875, 6.171906459902438, 6.203415085560977, 6.196803008634147, 6.191224441560976, 6.214701054804879, 6.158691095390244, 6.037864992439023, 5.773004648658537, 4.683241464707319, 4.0424156879268285, 2.6766968200243904, 2.035749051707317, 0.9640579566707318, 0.3602800626426829], \"yaxis\": \"y6\"}, {\"line\": {\"color\": \"blue\"}, \"marker\": {\"size\": 7}, \"mode\": \"lines\", \"name\": \"KW-SST-ASCII\", \"showlegend\": false, \"type\": \"scatter\", \"x\": [0.004018580273522146, 0.004056512552654007, 0.0040962888218092856, 0.00415386775575994, 0.004197246988099546, 0.004274593764647528, 0.004326620294697583, 0.0043297926358630496, 0.004383763256234732, 0.0045151954534969, 0.004861359102557256, 0.005214912476993053, 0.005568465991471341, 0.005922019440047281, 0.006275572888623232, 0.006629126304247997, 0.0069826796704813435, 0.007336233053084247, 0.007689786402912792, 0.008043339768969442, 0.008396893151713805, 0.00875044656730328, 0.00910399996648785, 0.009457553349020074, 0.00981110674820464, 0.010164660114473405, 0.010518213497182415, 0.010871766846975595, 0.011225320509486752, 0.011578873629010666, 0.01210920380176863, 0.012462757250344576, 0.012816310501178213, 0.01316986411440402, 0.013523417266631588, 0.013876970912631835, 0.014230523968551406, 0.01458407764587654, 0.01493763082999454, 0.015291184345392244, 0.0156447376921448, 0.015998291143902856, 0.016351844461310532, 0.01670539787559188, 0.017058951256992774, 0.017412504673041847, 0.017766058089798115, 0.01811961143761136, 0.0184731648554283, 0.018826718237182672, 0.019180271618230046, 0.019533825003166427, 0.0198873784181549, 0.02024093176844307, 0.020594485216665532, 0.0209480385330126, 0.021301592015176167, 0.02165514523288186, 0.022008698847274404, 0.02236225209715345, 0.022715805150456715, 0.023069358137292068, 0.0234229121798378, 0.02377646549724549, 0.02413001854807395, 0.02448357186724946, 0.024837125907673858, 0.02519067895956294, 0.025544232081809247, 0.02589778566120001, 0.02625133937317329, 0.02659080391924516, 0.02680600822932768, 0.02684491359020378, 0.027042866804236204, 0.027208011324281745, 0.027411656988319037, 0.02761530266649845, 0.02781895097511509, 0.02802259663915237, 0.028226242303189663, 0.028429890611806306, 0.028633538920422943, 0.028837184584460232, 0.02904083024849751, 0.02924447855711416, 0.029448124221151437, 0.02962996944371348, 0.02973804976769476, 0.029844678656012712, 0.029902224915053975, 0.029942214363256617, 0.029969999671675008, 0.029992959174301687], \"xaxis\": \"x6\", \"y\": [1.46730554395, 1.4605388824, 1.44097757405, 1.41352403775, 1.407093654, 1.4117583286000002, 1.4187459516, 1.3860410063, 1.4276333072, 1.4365063846000001, 1.43297013395, 1.3469807880000002, 1.240312941395, 1.13000630131, 1.0460386372750001, 1.02060584122, 1.07037251236, 1.18080763985, 1.24144596875, 1.169986208755, 1.240812017965, 1.6922264336, 2.2567228901500003, 2.7182599841500004, 3.0358385527499996, 3.2388487433499997, 3.4071007008, 3.55513908075, 3.71375283995, 3.8920479364999996, 4.1422236703, 4.29347183845, 4.442368314049999, 4.582122185899999, 4.7202346212, 4.85888754395, 4.9973516792, 5.134854992999999, 5.27160558285, 5.40844992405, 5.546230013350001, 5.68628546375, 5.8305372993, 5.978785058450001, 6.1300361069000004, 6.2851242013999995, 6.44338735985, 6.6031361009500005, 6.765209329799999, 6.93045301225, 7.098108684700001, 7.26646833165, 7.43155584055, 7.585451084450001, 7.7190796241, 7.824830174550001, 7.8958037450999985, 7.936364009, 7.950820316149999, 7.934199041449999, 7.899320705449999, 7.87239508765, 7.8417077435500016, 7.8111045458, 7.8046764838, 7.8092047803, 7.790113306649999, 7.7426286975, 7.674867464649999, 7.576419639700002, 7.407951622150001, 7.1687728388, 6.9676632338000015, 6.879521771399999, 6.76173855865, 6.5871777675, 6.41101990065, 6.248463922899999, 6.12095261575, 6.04314533275, 6.0168372208, 6.0327180707000005, 6.07618655975, 6.1304877275, 6.177693742050001, 6.19701120835, 6.137325090449999, 5.904144930349999, 5.7568120926, 5.22330329855, 4.443505745, 3.2809770702500005, 1.8830973455000002, 0.4612897506925], \"yaxis\": \"y6\"}, {\"line\": {\"color\": \"black\"}, \"marker\": {\"size\": 7}, \"mode\": \"markers+lines\", \"name\": \"Experimental\", \"showlegend\": false, \"type\": \"scatter\", \"x\": [0.010606602, 0.011030866, 0.01145513, 0.011879394, 0.012303658, 0.012727922, 0.013152186000000001, 0.01357645, 0.014000714, 0.014424978, 0.014849242, 0.015273506000000001, 0.015697771, 0.016122035, 0.016546299, 0.016970563, 0.017394826999999998, 0.017819091000000002, 0.018243355, 0.018667619, 0.019091883, 0.019516147, 0.019940411, 0.020364675, 0.020788939, 0.021213202999999996, 0.021637467999999997, 0.022061732, 0.022485996, 0.02291026, 0.023334524, 0.023758788, 0.024183052000000003, 0.024607316, 0.02503158, 0.025455844, 0.025880108, 0.026304372000000003, 0.026728636, 0.0271529, 0.027577163999999998, 0.028001428999999998, 0.028425693, 0.028849957000000002, 0.029274221, 0.029698485, 0.030122749], \"xaxis\": \"x6\", \"y\": [2.388529604, 2.782821263, 3.0487308810000004, 3.300982443, 3.5220561000000004, 3.751692116, 4.034038335, 4.36277436, 4.670491803, 4.891481048999999, 5.127681626, 5.296215065, 5.445017601, 5.571099212999999, 5.685633719, 5.820896966, 5.940701689, 6.059609815, 6.165522533, 6.272161983999999, 6.398504795, 6.5297465820000005, 6.663091559, 6.803802676, 6.942890342, 7.090152623, 7.240952375, 7.397010836000001, 7.539178199, 7.633240036, 7.715486218, 7.76341337, 7.76445379, 7.714246068, 7.5441227070000005, 7.320170107, 7.049112857999999, 6.7161550320000005, 6.353321145, 6.218657845, 6.1793274910000004, 6.242483332999999, 6.310694927, 6.34820787, 6.432506486, 5.761625565, 0.0], \"yaxis\": \"y6\"}],\n                        {\"annotations\": [{\"font\": {\"size\": 10}, \"showarrow\": false, \"text\": \"C1 Quadrant 1\", \"x\": 0.245, \"xanchor\": \"center\", \"xref\": \"paper\", \"y\": 1.0, \"yanchor\": \"bottom\", \"yref\": \"paper\"}, {\"font\": {\"size\": 10}, \"showarrow\": false, \"text\": \"C1 Quadrant 2\", \"x\": 0.755, \"xanchor\": \"center\", \"xref\": \"paper\", \"y\": 1.0, \"yanchor\": \"bottom\", \"yref\": \"paper\"}, {\"font\": {\"size\": 10}, \"showarrow\": false, \"text\": \"C4 Quadrant 1\", \"x\": 0.245, \"xanchor\": \"center\", \"xref\": \"paper\", \"y\": 0.6433333333333333, \"yanchor\": \"bottom\", \"yref\": \"paper\"}, {\"font\": {\"size\": 10}, \"showarrow\": false, \"text\": \"C4 Quadrant 2\", \"x\": 0.755, \"xanchor\": \"center\", \"xref\": \"paper\", \"y\": 0.6433333333333333, \"yanchor\": \"bottom\", \"yref\": \"paper\"}, {\"font\": {\"size\": 10}, \"showarrow\": false, \"text\": \"C5 Quadrant 1\", \"x\": 0.245, \"xanchor\": \"center\", \"xref\": \"paper\", \"y\": 0.2866666666666667, \"yanchor\": \"bottom\", \"yref\": \"paper\"}, {\"font\": {\"size\": 10}, \"showarrow\": false, \"text\": \"C5 Quadrant 2\", \"x\": 0.755, \"xanchor\": \"center\", \"xref\": \"paper\", \"y\": 0.2866666666666667, \"yanchor\": \"bottom\", \"yref\": \"paper\"}, {\"font\": {\"size\": 10}, \"showarrow\": false, \"text\": \"Radius (m)\", \"x\": 0.5, \"xanchor\": \"center\", \"xref\": \"paper\", \"y\": 0, \"yanchor\": \"top\", \"yref\": \"paper\", \"yshift\": -30}, {\"font\": {\"size\": 10}, \"showarrow\": false, \"text\": \"Velocity Magnitude (m/s)\", \"textangle\": -90, \"x\": 0, \"xanchor\": \"right\", \"xref\": \"paper\", \"xshift\": -40, \"y\": 0.5, \"yanchor\": \"middle\", \"yref\": \"paper\"}], \"font\": {\"family\": \"Arial\", \"size\": 12}, \"height\": 800, \"legend\": {\"itemsizing\": \"constant\"}, \"template\": {\"data\": {\"bar\": [{\"error_x\": {\"color\": \"#2a3f5f\"}, \"error_y\": {\"color\": \"#2a3f5f\"}, \"marker\": {\"line\": {\"color\": \"#E5ECF6\", \"width\": 0.5}}, \"type\": \"bar\"}], \"barpolar\": [{\"marker\": {\"line\": {\"color\": \"#E5ECF6\", \"width\": 0.5}}, \"type\": \"barpolar\"}], \"carpet\": [{\"aaxis\": {\"endlinecolor\": \"#2a3f5f\", \"gridcolor\": \"white\", \"linecolor\": \"white\", \"minorgridcolor\": \"white\", \"startlinecolor\": \"#2a3f5f\"}, \"baxis\": {\"endlinecolor\": \"#2a3f5f\", \"gridcolor\": \"white\", \"linecolor\": \"white\", \"minorgridcolor\": \"white\", \"startlinecolor\": \"#2a3f5f\"}, \"type\": \"carpet\"}], \"choropleth\": [{\"colorbar\": {\"outlinewidth\": 0, \"ticks\": \"\"}, \"type\": \"choropleth\"}], \"contour\": [{\"colorbar\": {\"outlinewidth\": 0, \"ticks\": \"\"}, \"colorscale\": [[0.0, \"#0d0887\"], [0.1111111111111111, \"#46039f\"], [0.2222222222222222, \"#7201a8\"], [0.3333333333333333, \"#9c179e\"], [0.4444444444444444, \"#bd3786\"], [0.5555555555555556, \"#d8576b\"], [0.6666666666666666, \"#ed7953\"], [0.7777777777777778, \"#fb9f3a\"], [0.8888888888888888, \"#fdca26\"], [1.0, \"#f0f921\"]], \"type\": \"contour\"}], \"contourcarpet\": [{\"colorbar\": {\"outlinewidth\": 0, \"ticks\": \"\"}, \"type\": \"contourcarpet\"}], \"heatmap\": [{\"colorbar\": {\"outlinewidth\": 0, \"ticks\": \"\"}, \"colorscale\": [[0.0, \"#0d0887\"], [0.1111111111111111, \"#46039f\"], [0.2222222222222222, \"#7201a8\"], [0.3333333333333333, \"#9c179e\"], [0.4444444444444444, \"#bd3786\"], [0.5555555555555556, \"#d8576b\"], [0.6666666666666666, \"#ed7953\"], [0.7777777777777778, \"#fb9f3a\"], [0.8888888888888888, \"#fdca26\"], [1.0, \"#f0f921\"]], \"type\": \"heatmap\"}], \"heatmapgl\": [{\"colorbar\": {\"outlinewidth\": 0, \"ticks\": \"\"}, \"colorscale\": [[0.0, \"#0d0887\"], [0.1111111111111111, \"#46039f\"], [0.2222222222222222, \"#7201a8\"], [0.3333333333333333, \"#9c179e\"], [0.4444444444444444, \"#bd3786\"], [0.5555555555555556, \"#d8576b\"], [0.6666666666666666, \"#ed7953\"], [0.7777777777777778, \"#fb9f3a\"], [0.8888888888888888, \"#fdca26\"], [1.0, \"#f0f921\"]], \"type\": \"heatmapgl\"}], \"histogram\": [{\"marker\": {\"colorbar\": {\"outlinewidth\": 0, \"ticks\": \"\"}}, \"type\": \"histogram\"}], \"histogram2d\": [{\"colorbar\": {\"outlinewidth\": 0, \"ticks\": \"\"}, \"colorscale\": [[0.0, \"#0d0887\"], [0.1111111111111111, \"#46039f\"], [0.2222222222222222, \"#7201a8\"], [0.3333333333333333, \"#9c179e\"], [0.4444444444444444, \"#bd3786\"], [0.5555555555555556, \"#d8576b\"], [0.6666666666666666, \"#ed7953\"], [0.7777777777777778, \"#fb9f3a\"], [0.8888888888888888, \"#fdca26\"], [1.0, \"#f0f921\"]], \"type\": \"histogram2d\"}], \"histogram2dcontour\": [{\"colorbar\": {\"outlinewidth\": 0, \"ticks\": \"\"}, \"colorscale\": [[0.0, \"#0d0887\"], [0.1111111111111111, \"#46039f\"], [0.2222222222222222, \"#7201a8\"], [0.3333333333333333, \"#9c179e\"], [0.4444444444444444, \"#bd3786\"], [0.5555555555555556, \"#d8576b\"], [0.6666666666666666, \"#ed7953\"], [0.7777777777777778, \"#fb9f3a\"], [0.8888888888888888, \"#fdca26\"], [1.0, \"#f0f921\"]], \"type\": \"histogram2dcontour\"}], \"mesh3d\": [{\"colorbar\": {\"outlinewidth\": 0, \"ticks\": \"\"}, \"type\": \"mesh3d\"}], \"parcoords\": [{\"line\": {\"colorbar\": {\"outlinewidth\": 0, \"ticks\": \"\"}}, \"type\": \"parcoords\"}], \"pie\": [{\"automargin\": true, \"type\": \"pie\"}], \"scatter\": [{\"marker\": {\"colorbar\": {\"outlinewidth\": 0, \"ticks\": \"\"}}, \"type\": \"scatter\"}], \"scatter3d\": [{\"line\": {\"colorbar\": {\"outlinewidth\": 0, \"ticks\": \"\"}}, \"marker\": {\"colorbar\": {\"outlinewidth\": 0, \"ticks\": \"\"}}, \"type\": \"scatter3d\"}], \"scattercarpet\": [{\"marker\": {\"colorbar\": {\"outlinewidth\": 0, \"ticks\": \"\"}}, \"type\": \"scattercarpet\"}], \"scattergeo\": [{\"marker\": {\"colorbar\": {\"outlinewidth\": 0, \"ticks\": \"\"}}, \"type\": \"scattergeo\"}], \"scattergl\": [{\"marker\": {\"colorbar\": {\"outlinewidth\": 0, \"ticks\": \"\"}}, \"type\": \"scattergl\"}], \"scattermapbox\": [{\"marker\": {\"colorbar\": {\"outlinewidth\": 0, \"ticks\": \"\"}}, \"type\": \"scattermapbox\"}], \"scatterpolar\": [{\"marker\": {\"colorbar\": {\"outlinewidth\": 0, \"ticks\": \"\"}}, \"type\": \"scatterpolar\"}], \"scatterpolargl\": [{\"marker\": {\"colorbar\": {\"outlinewidth\": 0, \"ticks\": \"\"}}, \"type\": \"scatterpolargl\"}], \"scatterternary\": [{\"marker\": {\"colorbar\": {\"outlinewidth\": 0, \"ticks\": \"\"}}, \"type\": \"scatterternary\"}], \"surface\": [{\"colorbar\": {\"outlinewidth\": 0, \"ticks\": \"\"}, \"colorscale\": [[0.0, \"#0d0887\"], [0.1111111111111111, \"#46039f\"], [0.2222222222222222, \"#7201a8\"], [0.3333333333333333, \"#9c179e\"], [0.4444444444444444, \"#bd3786\"], [0.5555555555555556, \"#d8576b\"], [0.6666666666666666, \"#ed7953\"], [0.7777777777777778, \"#fb9f3a\"], [0.8888888888888888, \"#fdca26\"], [1.0, \"#f0f921\"]], \"type\": \"surface\"}], \"table\": [{\"cells\": {\"fill\": {\"color\": \"#EBF0F8\"}, \"line\": {\"color\": \"white\"}}, \"header\": {\"fill\": {\"color\": \"#C8D4E3\"}, \"line\": {\"color\": \"white\"}}, \"type\": \"table\"}]}, \"layout\": {\"annotationdefaults\": {\"arrowcolor\": \"#2a3f5f\", \"arrowhead\": 0, \"arrowwidth\": 1}, \"coloraxis\": {\"colorbar\": {\"outlinewidth\": 0, \"ticks\": \"\"}}, \"colorscale\": {\"diverging\": [[0, \"#8e0152\"], [0.1, \"#c51b7d\"], [0.2, \"#de77ae\"], [0.3, \"#f1b6da\"], [0.4, \"#fde0ef\"], [0.5, \"#f7f7f7\"], [0.6, \"#e6f5d0\"], [0.7, \"#b8e186\"], [0.8, \"#7fbc41\"], [0.9, \"#4d9221\"], [1, \"#276419\"]], \"sequential\": [[0.0, \"#0d0887\"], [0.1111111111111111, \"#46039f\"], [0.2222222222222222, \"#7201a8\"], [0.3333333333333333, \"#9c179e\"], [0.4444444444444444, \"#bd3786\"], [0.5555555555555556, \"#d8576b\"], [0.6666666666666666, \"#ed7953\"], [0.7777777777777778, \"#fb9f3a\"], [0.8888888888888888, \"#fdca26\"], [1.0, \"#f0f921\"]], \"sequentialminus\": [[0.0, \"#0d0887\"], [0.1111111111111111, \"#46039f\"], [0.2222222222222222, \"#7201a8\"], [0.3333333333333333, \"#9c179e\"], [0.4444444444444444, \"#bd3786\"], [0.5555555555555556, \"#d8576b\"], [0.6666666666666666, \"#ed7953\"], [0.7777777777777778, \"#fb9f3a\"], [0.8888888888888888, \"#fdca26\"], [1.0, \"#f0f921\"]]}, \"colorway\": [\"#636efa\", \"#EF553B\", \"#00cc96\", \"#ab63fa\", \"#FFA15A\", \"#19d3f3\", \"#FF6692\", \"#B6E880\", \"#FF97FF\", \"#FECB52\"], \"font\": {\"color\": \"#2a3f5f\"}, \"geo\": {\"bgcolor\": \"white\", \"lakecolor\": \"white\", \"landcolor\": \"#E5ECF6\", \"showlakes\": true, \"showland\": true, \"subunitcolor\": \"white\"}, \"hoverlabel\": {\"align\": \"left\"}, \"hovermode\": \"closest\", \"mapbox\": {\"style\": \"light\"}, \"paper_bgcolor\": \"white\", \"plot_bgcolor\": \"#E5ECF6\", \"polar\": {\"angularaxis\": {\"gridcolor\": \"white\", \"linecolor\": \"white\", \"ticks\": \"\"}, \"bgcolor\": \"#E5ECF6\", \"radialaxis\": {\"gridcolor\": \"white\", \"linecolor\": \"white\", \"ticks\": \"\"}}, \"scene\": {\"xaxis\": {\"backgroundcolor\": \"#E5ECF6\", \"gridcolor\": \"white\", \"gridwidth\": 2, \"linecolor\": \"white\", \"showbackground\": true, \"ticks\": \"\", \"zerolinecolor\": \"white\"}, \"yaxis\": {\"backgroundcolor\": \"#E5ECF6\", \"gridcolor\": \"white\", \"gridwidth\": 2, \"linecolor\": \"white\", \"showbackground\": true, \"ticks\": \"\", \"zerolinecolor\": \"white\"}, \"zaxis\": {\"backgroundcolor\": \"#E5ECF6\", \"gridcolor\": \"white\", \"gridwidth\": 2, \"linecolor\": \"white\", \"showbackground\": true, \"ticks\": \"\", \"zerolinecolor\": \"white\"}}, \"shapedefaults\": {\"line\": {\"color\": \"#2a3f5f\"}}, \"ternary\": {\"aaxis\": {\"gridcolor\": \"white\", \"linecolor\": \"white\", \"ticks\": \"\"}, \"baxis\": {\"gridcolor\": \"white\", \"linecolor\": \"white\", \"ticks\": \"\"}, \"bgcolor\": \"#E5ECF6\", \"caxis\": {\"gridcolor\": \"white\", \"linecolor\": \"white\", \"ticks\": \"\"}}, \"title\": {\"x\": 0.05}, \"xaxis\": {\"automargin\": true, \"gridcolor\": \"white\", \"linecolor\": \"white\", \"ticks\": \"\", \"title\": {\"standoff\": 15}, \"zerolinecolor\": \"white\", \"zerolinewidth\": 2}, \"yaxis\": {\"automargin\": true, \"gridcolor\": \"white\", \"linecolor\": \"white\", \"ticks\": \"\", \"title\": {\"standoff\": 15}, \"zerolinecolor\": \"white\", \"zerolinewidth\": 2}}}, \"title\": {\"text\": \"Velocity Magnitude vs Experimental\"}, \"width\": 600, \"xaxis\": {\"anchor\": \"y\", \"domain\": [0.0, 0.49]}, \"xaxis2\": {\"anchor\": \"y2\", \"domain\": [0.51, 1.0]}, \"xaxis3\": {\"anchor\": \"y3\", \"domain\": [0.0, 0.49]}, \"xaxis4\": {\"anchor\": \"y4\", \"domain\": [0.51, 1.0]}, \"xaxis5\": {\"anchor\": \"y5\", \"domain\": [0.0, 0.49]}, \"xaxis6\": {\"anchor\": \"y6\", \"domain\": [0.51, 1.0]}, \"yaxis\": {\"anchor\": \"x\", \"domain\": [0.7133333333333334, 1.0]}, \"yaxis2\": {\"anchor\": \"x2\", \"domain\": [0.7133333333333334, 1.0], \"matches\": \"y\", \"showticklabels\": false}, \"yaxis3\": {\"anchor\": \"x3\", \"domain\": [0.3566666666666667, 0.6433333333333333]}, \"yaxis4\": {\"anchor\": \"x4\", \"domain\": [0.3566666666666667, 0.6433333333333333], \"matches\": \"y3\", \"showticklabels\": false}, \"yaxis5\": {\"anchor\": \"x5\", \"domain\": [0.0, 0.2866666666666667]}, \"yaxis6\": {\"anchor\": \"x6\", \"domain\": [0.0, 0.2866666666666667], \"matches\": \"y5\", \"showticklabels\": false}},\n                        {\"responsive\": true}\n                    ).then(function(){\n                            \nvar gd = document.getElementById('60ddbebe-d135-4cc7-a500-b26eb9f0d657');\nvar x = new MutationObserver(function (mutations, observer) {{\n        var display = window.getComputedStyle(gd).display;\n        if (!display || display === 'none') {{\n            console.log([gd, 'removed!']);\n            Plotly.purge(gd);\n            observer.disconnect();\n        }}\n}});\n\n// Listen for the removal of the full notebook cells\nvar notebookContainer = gd.closest('#notebook-container');\nif (notebookContainer) {{\n    x.observe(notebookContainer, {childList: true});\n}}\n\n// Listen for the clearing of the current output cell\nvar outputEl = gd.closest('.output');\nif (outputEl) {{\n    x.observe(outputEl, {childList: true});\n}}\n\n                        })\n                };\n                });\n            </script>\n        </div>"
     },
     "metadata": {},
     "output_type": "display_data"
    }
   ],
   "source": [
    "\n",
    "fig = make_subplots(\n",
    "    rows=3,\n",
    "    cols=2,\n",
    "    shared_yaxes=True,\n",
    "    x_title=\"Radius (m)\",\n",
    "    y_title=\"Velocity Magnitude (m/s)\",\n",
    "    subplot_titles=(\n",
    "    \"C1 Quadrant 1\", \"C1 Quadrant 2\", \"C4 Quadrant 1\", \"C4 Quadrant 2\", \"C5 Quadrant 1\", \"C5 Quadrant 2\"),\n",
    "    vertical_spacing=.07, horizontal_spacing=.02)\n",
    "\n",
    "fig.add_trace(go.Scatter(x=quad_ascii[\"C1_SBES\"]['Q1']['radius_bin_mean'],\n",
    "                         y=quad_ascii[\"C1_SBES\"]['Q1']['velocity-magnitude_bin_mean'],\n",
    "                         mode='lines',\n",
    "                         name='SBES-ASCII',\n",
    "                         marker=dict(\n",
    "                             color='red',\n",
    "                             size=7,\n",
    "                             line=dict(color='red'),\n",
    "                             symbol='triangle-right'),\n",
    "                         line=dict(dash='dash'),\n",
    "                         ),\n",
    "              row=1, col=1)\n",
    "\n",
    "fig.add_trace(go.Scatter(x=quad_ascii[\"C1_IDDES\"]['Q1']['radius_bin_mean'],\n",
    "                         y=quad_ascii[\"C1_IDDES\"]['Q1']['velocity-magnitude_bin_mean'],\n",
    "                         mode='lines',\n",
    "                         name='IDDES-ASCII',\n",
    "                         marker=dict(\n",
    "                             color='green',\n",
    "                             size=7,\n",
    "                             line=dict(color='green'),\n",
    "                             symbol='x'),\n",
    "                         line=dict(dash='dot'),\n",
    "                         ),\n",
    "              row=1, col=1)\n",
    "\n",
    "fig.add_trace(go.Scatter(x=quad_ascii[\"C1_KW\"]['Q1']['radius_bin_mean'],\n",
    "                         y=quad_ascii[\"C1_KW\"]['Q1']['velocity-magnitude_bin_mean'],\n",
    "                         mode='lines',\n",
    "                         name='KW-SST-ASCII',\n",
    "                         marker=dict(\n",
    "                             color='blue',\n",
    "                             size=7,\n",
    "                             line=dict(color='blue'),\n",
    "                             symbol='circle'),\n",
    "                         line=dict(dash='dashdot'),\n",
    "                         ),\n",
    "              row=1, col=1)\n",
    "\n",
    "fig.add_trace(go.Scatter(x=C1_Experimental[\"Q1\"]['radius'],\n",
    "                         y=C1_Experimental[\"Q1\"]['Velocity_Magnitude'],\n",
    "                         mode='markers+lines',\n",
    "                         name='Experimental',\n",
    "                         marker=dict(\n",
    "                             color='black',\n",
    "                             size=7,\n",
    "                             line=dict(color='black'),\n",
    "                             symbol='circle')\n",
    "                         ),\n",
    "              row=1, col=1)\n",
    "\n",
    "fig.add_trace(go.Scatter(x=quad_ascii[\"C1_SBES\"]['Q2']['radius_bin_mean'],\n",
    "                         y=quad_ascii[\"C1_SBES\"]['Q2']['velocity-magnitude_bin_mean'],\n",
    "                         mode='lines',\n",
    "                         name='SBES-ASCII',\n",
    "                         marker=dict(\n",
    "                             color='red',\n",
    "                             size=7,\n",
    "                             line=dict(color='red'),\n",
    "                             symbol='triangle-right'),\n",
    "                         showlegend=False\n",
    "                         ),\n",
    "              row=1, col=2)\n",
    "\n",
    "fig.add_trace(go.Scatter(x=quad_ascii[\"C1_IDDES\"]['Q2']['radius_bin_mean'],\n",
    "                         y=quad_ascii[\"C1_IDDES\"]['Q2']['velocity-magnitude_bin_mean'],\n",
    "                         mode='lines',\n",
    "                         name='IDDES-ASCII',\n",
    "                         marker=dict(\n",
    "                             color='green',\n",
    "                             size=7,\n",
    "                             line=dict(color='green'),\n",
    "                             symbol='x'),\n",
    "                         showlegend=False\n",
    "                         ),\n",
    "              row=1, col=2)\n",
    "\n",
    "fig.add_trace(go.Scatter(x=quad_ascii[\"C1_KW\"]['Q2']['radius_bin_mean'],\n",
    "                         y=quad_ascii[\"C1_KW\"]['Q2']['velocity-magnitude_bin_mean'],\n",
    "                         mode='lines',\n",
    "                         name='KW-SST-ASCII',\n",
    "                         marker=dict(\n",
    "                             color='blue',\n",
    "                             size=7,\n",
    "                             line=dict(color='blue'),\n",
    "                             symbol='circle'),\n",
    "                         showlegend=False\n",
    "                         ),\n",
    "              row=1, col=2)\n",
    "\n",
    "fig.add_trace(go.Scatter(x=C1_Experimental[\"Q2\"]['radius'],\n",
    "                         y=C1_Experimental[\"Q2\"]['Velocity_Magnitude'],\n",
    "                         mode='markers+lines',\n",
    "                         name='Experimental',\n",
    "                         marker=dict(\n",
    "                             color='black',\n",
    "                             size=7,\n",
    "                             line=dict(color='black'),\n",
    "                             symbol='circle'),\n",
    "                         showlegend=False),\n",
    "\n",
    "              row=1, col=2)\n",
    "\n",
    "fig.add_trace(go.Scatter(x=quad_ascii[\"C4_SBES\"]['Q1']['radius_bin_mean'],\n",
    "                         y=quad_ascii[\"C4_SBES\"]['Q1']['velocity-magnitude_bin_mean'],\n",
    "                         mode='lines',\n",
    "                         name='SBES-ASCII',\n",
    "                         marker=dict(\n",
    "                             size=7,\n",
    "                             symbol='triangle-right', ),\n",
    "                         line=dict(color='red'),\n",
    "                         showlegend=False),\n",
    "              row=2, col=1)\n",
    "\n",
    "fig.add_trace(go.Scatter(x=quad_ascii[\"C4_IDDES\"]['Q1']['radius_bin_mean'],\n",
    "                         y=quad_ascii[\"C4_IDDES\"]['Q1']['velocity-magnitude_bin_mean'],\n",
    "                         mode='lines',\n",
    "                         name='IDDES-ASCII',\n",
    "                         marker=dict(\n",
    "                             size=7,\n",
    "                             symbol='x'),\n",
    "                         line=dict(color='green'),\n",
    "                         showlegend=False),\n",
    "              row=2, col=1)\n",
    "fig.add_trace(go.Scatter(x=quad_ascii[\"C4_KW\"]['Q1']['radius_bin_mean'],\n",
    "                         y=quad_ascii[\"C4_KW\"]['Q1']['velocity-magnitude_bin_mean'],\n",
    "                         mode='lines',\n",
    "                         marker=dict(\n",
    "                             color='blue',\n",
    "                             size=7,\n",
    "                             line=dict(color='blue'),\n",
    "                             symbol='circle'),\n",
    "                         name='KW-SST-ASCII',\n",
    "                         line=dict(color='blue'),\n",
    "                         showlegend=False),\n",
    "              row=2, col=1)\n",
    "\n",
    "fig.add_trace(go.Scatter(x=C4_Experimental[\"Q1\"]['radius'],\n",
    "                         y=C4_Experimental[\"Q1\"]['Velocity_Magnitude'],\n",
    "                         mode='markers+lines',\n",
    "                         marker=dict(\n",
    "                             size=7\n",
    "                         ),\n",
    "                         name='Experimental',\n",
    "                         line=dict(color='black'),\n",
    "                         showlegend=False),\n",
    "              row=2, col=1)\n",
    "\n",
    "fig.add_trace(go.Scatter(x=quad_ascii[\"C4_SBES\"]['Q2']['radius_bin_mean'],\n",
    "                         y=quad_ascii[\"C4_SBES\"]['Q2']['velocity-magnitude_bin_mean'],\n",
    "                         mode='lines',\n",
    "                         name='SBES-ASCII',\n",
    "                         marker=dict(\n",
    "                             size=7,\n",
    "                             symbol='triangle-right'),\n",
    "                         line=dict(color='red'),\n",
    "                         showlegend=False),\n",
    "              row=2, col=2)\n",
    "\n",
    "fig.add_trace(go.Scatter(x=quad_ascii[\"C4_IDDES\"]['Q2']['radius_bin_mean'],\n",
    "                         y=quad_ascii[\"C4_IDDES\"]['Q2']['velocity-magnitude_bin_mean'],\n",
    "                         mode='lines',\n",
    "                         name='IDDES-ASCII',\n",
    "                         marker=dict(\n",
    "                             size=7,\n",
    "                             symbol='x'),\n",
    "                         line=dict(color='green'),\n",
    "                         showlegend=False),\n",
    "              row=2, col=2)\n",
    "\n",
    "fig.add_trace(go.Scatter(x=quad_ascii[\"C4_KW\"]['Q2']['radius_bin_mean'],\n",
    "                         y=quad_ascii[\"C4_KW\"]['Q2']['velocity-magnitude_bin_mean'],\n",
    "                         mode='lines',\n",
    "                         name='KW-SST-ASCII',\n",
    "                         marker=dict(\n",
    "                             size=7\n",
    "                         ),\n",
    "                         line=dict(color='blue'),\n",
    "                         showlegend=False),\n",
    "              row=2, col=2)\n",
    "\n",
    "fig.add_trace(go.Scatter(x=C4_Experimental[\"Q2\"]['radius'],\n",
    "                         y=C4_Experimental[\"Q2\"]['Velocity_Magnitude'],\n",
    "                         mode='markers+lines',\n",
    "                         name='Experimental',\n",
    "                         marker=dict(\n",
    "                             size=7\n",
    "                         ),\n",
    "                         line=dict(color='black'),\n",
    "                         showlegend=False),\n",
    "              row=2, col=2)\n",
    "\n",
    "fig.add_trace(go.Scatter(x=quad_ascii[\"C5_SBES\"]['Q1']['radius_bin_mean'],\n",
    "                         y=quad_ascii[\"C5_SBES\"]['Q1']['velocity-magnitude_bin_mean'],\n",
    "                         mode='lines',\n",
    "                         name='SBES-ASCII',\n",
    "                         marker=dict(\n",
    "                             size=7,\n",
    "                             symbol='triangle-right'),\n",
    "                         line=dict(color='red'),\n",
    "                         showlegend=False),\n",
    "              row=3, col=1)\n",
    "\n",
    "fig.add_trace(go.Scatter(x=quad_ascii[\"C5_IDDES\"]['Q1']['radius_bin_mean'],\n",
    "                         y=quad_ascii[\"C5_IDDES\"]['Q1']['velocity-magnitude_bin_mean'],\n",
    "                         mode='lines',\n",
    "                         name='IDDES-ASCII',\n",
    "                         marker=dict(\n",
    "                             size=7,\n",
    "                             symbol='x'),\n",
    "                         line=dict(color='green'),\n",
    "                         showlegend=False),\n",
    "              row=3, col=1)\n",
    "\n",
    "fig.add_trace(go.Scatter(x=quad_ascii[\"C5_KW\"]['Q1']['radius_bin_mean'],\n",
    "                         y=quad_ascii[\"C5_KW\"]['Q1']['velocity-magnitude_bin_mean'],\n",
    "                         mode='lines',\n",
    "                         name='KW-ASCII',\n",
    "                         marker=dict(\n",
    "                             size=7\n",
    "                         ),\n",
    "                         line=dict(color='blue'),\n",
    "                         showlegend=False),\n",
    "              row=3, col=1)\n",
    "\n",
    "fig.add_trace(go.Scatter(x=C5_Experimental[\"Q1\"]['radius'],\n",
    "                         y=C5_Experimental[\"Q1\"]['Velocity_Magnitude'],\n",
    "                         mode='markers+lines',\n",
    "                         name='Experimental',\n",
    "                         marker=dict(\n",
    "                             size=7\n",
    "                         ),\n",
    "\n",
    "                         line=dict(color='black'),\n",
    "                         showlegend=False),\n",
    "\n",
    "              row=3, col=1)\n",
    "\n",
    "fig.add_trace(go.Scatter(x=quad_ascii[\"C5_SBES\"]['Q2']['radius_bin_mean'],\n",
    "                         y=quad_ascii[\"C5_SBES\"]['Q2']['velocity-magnitude_bin_mean'],\n",
    "                         mode='lines',\n",
    "                         name='SBES-ASCII',\n",
    "                         marker=dict(\n",
    "                             size=7,\n",
    "                             symbol='triangle-right'),\n",
    "                         line=dict(color='red'),\n",
    "                         showlegend=False),\n",
    "              row=3, col=2)\n",
    "\n",
    "fig.add_trace(go.Scatter(x=quad_ascii[\"C5_IDDES\"]['Q2']['radius_bin_mean'],\n",
    "                         y=quad_ascii[\"C5_IDDES\"]['Q2']['velocity-magnitude_bin_mean'],\n",
    "                         mode='lines',\n",
    "                         name='IDDES-ASCII',\n",
    "                         marker=dict(\n",
    "                             size=7,\n",
    "                             symbol='x'),\n",
    "                         line=dict(color='green'),\n",
    "                         showlegend=False),\n",
    "              row=3, col=2)\n",
    "\n",
    "fig.add_trace(go.Scatter(x=quad_ascii[\"C5_KW\"]['Q2']['radius_bin_mean'],\n",
    "                         y=quad_ascii[\"C5_KW\"]['Q2']['velocity-magnitude_bin_mean'],\n",
    "                         mode='lines',\n",
    "                         marker=dict(\n",
    "                             size=7),\n",
    "                         name='KW-SST-ASCII',\n",
    "                         line=dict(color='blue'),\n",
    "                         showlegend=False),\n",
    "              row=3, col=2)\n",
    "\n",
    "fig.add_trace(go.Scatter(x=C5_Experimental[\"Q2\"]['radius'],\n",
    "                         y=C5_Experimental[\"Q2\"]['Velocity_Magnitude'],\n",
    "                         mode='markers+lines',\n",
    "                         marker=dict(\n",
    "                             size=7),\n",
    "                         name='Experimental',\n",
    "                         line=dict(color='black'),\n",
    "                         showlegend=False),\n",
    "              row=3, col=2)\n",
    "\n",
    "fig.update_layout(height=800, width=600,\n",
    "                  title_text=\"Velocity Magnitude vs Experimental\",\n",
    "                  font=dict(\n",
    "                      family=\"Arial\",\n",
    "                      size=12),\n",
    "                  )\n",
    "\n",
    "fig.update_annotations(font_size=10)\n",
    "fig.update_layout(legend={'itemsizing': 'constant'})\n",
    "fig.show()\n",
    "# fig.write_image(r\"C:\\Users\\jtarriela\\Documents\\GitHub\\FDA_Blood_Pump\\postpro\\case_comparison\\images\\velomag.png\")"
   ],
   "metadata": {
    "collapsed": false,
    "pycharm": {
     "name": "#%%\n"
    }
   }
  },
  {
   "cell_type": "code",
   "execution_count": 57,
   "outputs": [
    {
     "data": {
      "application/vnd.plotly.v1+json": {
       "config": {
        "plotlyServerURL": "https://plot.ly"
       },
       "data": [
        {
         "line": {
          "dash": "dash",
          "width": 5
         },
         "marker": {
          "color": "red",
          "line": {
           "color": "red"
          },
          "size": 7,
          "symbol": "triangle-right"
         },
         "mode": "lines",
         "name": "SBES-ASCII",
         "showlegend": false,
         "type": "scatter",
         "x": [
          0.004006315132562008,
          0.004035238232972117,
          0.004056513976941254,
          0.004074573523937696,
          0.004096291446327512,
          0.004153872578805947,
          0.004197247054001896,
          0.004206311818406912,
          0.004326620294697583,
          0.004329752003591482,
          0.00438376319033238,
          0.0044175871555896026,
          0.004507801913979152,
          0.004515195437021271,
          0.0048613589778753385,
          0.0050381356821401,
          0.005214912374159849,
          0.0053916890703532595,
          0.005745242635343107,
          0.005922019319550215,
          0.0060987960116734435,
          0.006452349396006181,
          0.006629126112257259,
          0.006805902796395414,
          0.006982679480533487,
          0.0073362328728513735,
          0.00751300958103113,
          0.007689786257166873,
          0.007866562965329386,
          0.008220116349506914,
          0.008396893057790159,
          0.008573669741859294,
          0.008927223150250928,
          0.009103999818229076,
          0.009280776518423704,
          0.009457553218463123,
          0.00981110661083276,
          0.009987883303145728,
          0.010164660019241644,
          0.010341436695498123,
          0.010694990087833277,
          0.010871766787907168,
          0.011048543367721169,
          0.011225320268596194,
          0.011578873540602441,
          0.011755650288949312,
          0.01193242702120525,
          0.01210920365720838,
          0.012462757089710631,
          0.012639533757775049,
          0.012816310457814444,
          0.012993087126016772,
          0.013346640526388854,
          0.013523417242467492,
          0.013700193942679382,
          0.013876970610743809,
          0.014230524028983175,
          0.014407300710655088,
          0.014584077427682338,
          0.014760854127980425,
          0.01511440749615324,
          0.015291184165235184,
          0.015467960929345366,
          0.01564473757945616,
          0.015821514280444142,
          0.015998290965737794,
          0.01635184434960492,
          0.016528621017652068,
          0.016882174464986344,
          0.01705895114907275,
          0.017235727835573658,
          0.01741250454932405,
          0.017589281233927855,
          0.017942834634006696,
          0.018119611284979808,
          0.018296388003041838,
          0.018473164719724128,
          0.018826718103246327,
          0.01900349478698781,
          0.01918027147090174,
          0.019357048186894186,
          0.019710601603874604,
          0.01988737827140436,
          0.020064154957042956,
          0.020417708372471203,
          0.02059448502447909,
          0.020771261741161392,
          0.02094803845715384,
          0.02130159182618897,
          0.021478368509930446,
          0.021655145225405497,
          0.02183192192673841,
          0.022185475054839827,
          0.022362251848614,
          0.02253902845405636,
          0.022715804993617063,
          0.023069358265381902,
          0.02324613506139813,
          0.023422911826715544,
          0.023599688652568226,
          0.02395324189501406,
          0.02413001852856821,
          0.024306795199029882,
          0.024483571899155523,
          0.024837125491532858,
          0.02501390209663029,
          0.025190678763470208,
          0.025367455432034773,
          0.02572100876743922,
          0.025897785532584188,
          0.026074562330325044,
          0.026251338964913988,
          0.026590804313810768,
          0.02659632068968135,
          0.02672879009491241,
          0.02680587886240017,
          0.02685939366630038,
          0.026945710417353986,
          0.0270682154933973,
          0.02729725464888133,
          0.0273990761906888,
          0.027500900312918616,
          0.027602724467226936,
          0.027806370131264226,
          0.027908194285572542,
          0.028010018439880862,
          0.028111839949609824,
          0.02831548825822646,
          0.028417309846254575,
          0.02851913392226375,
          0.02862095807657207,
          0.028824603754751495,
          0.028926427894917683,
          0.029028252049226006,
          0.029130073637254107,
          0.029333721881713737,
          0.029435546021879932,
          0.02953715153877151,
          0.029609125194454168,
          0.02981023941621481,
          0.02984537145095264,
          0.02987661280033262,
          0.0299026595453081,
          0.029942472577957305,
          0.029957561083566377,
          0.029970134021963427,
          0.02998061540921242
         ],
         "xaxis": "x",
         "y": [
          1.0452992086829267,
          1.0377626866280487,
          1.0273166387317074,
          1.0148296744536585,
          0.9961959928756096,
          0.9361975280414634,
          0.9340256218899999,
          0.8645618239806451,
          0.78682861052,
          0.7390801472428572,
          0.79834971951,
          0.75734953366,
          0.6560728911428572,
          0.7254755997600001,
          0.6380296684243904,
          0.6308416509170731,
          0.619883264607317,
          0.6080387442951221,
          0.6032594681512196,
          0.6061787502512195,
          0.6069584240536585,
          0.6080309654609757,
          0.6154426035390244,
          0.6302363392585366,
          0.6483376453390244,
          0.6889963811390244,
          0.7124973573341463,
          0.7215021425170732,
          0.7239385569243902,
          0.7538683046390244,
          0.7729064040682927,
          0.7951577536609755,
          0.8890605822390244,
          0.8849288248999999,
          0.8983559555487804,
          0.9562138667463416,
          1.2041458285487805,
          1.3879374877902442,
          1.5603415168439023,
          1.7587032403414635,
          2.0257468904780493,
          2.1248886474439024,
          2.210172365148781,
          2.250507429365854,
          2.2992291470243904,
          2.3433710808536583,
          2.3918052754146344,
          2.462508040682927,
          2.5533634733902444,
          2.55843203202439,
          2.5954438678536587,
          2.6857927331951217,
          2.811015019609756,
          2.8569697434146337,
          2.9087255969268293,
          2.971458830829268,
          3.0849663927317077,
          3.1283803640487804,
          3.1720263415121948,
          3.2296179442195125,
          3.3323121980487804,
          3.3723750560975607,
          3.4085379614390243,
          3.442101546609756,
          3.484891884268293,
          3.534427275707317,
          3.6506395206585367,
          3.7064673852439034,
          3.7946538030487797,
          3.8402753542682926,
          3.891091587219512,
          3.94482197595122,
          4.001037804390244,
          4.119518002341463,
          4.177939347463414,
          4.231584523195122,
          4.282765777195122,
          4.387938336780486,
          4.4365527665609745,
          4.486141164878049,
          4.53913883395122,
          4.658339380682927,
          4.718150372512195,
          4.77829402897561,
          4.905657898682927,
          4.967386357024392,
          5.026745715365854,
          5.077461295341463,
          5.166346596268292,
          5.223156890487805,
          5.267715308487804,
          5.304853733463414,
          5.345977262414634,
          5.363743110853658,
          5.377593713292684,
          5.404438969902438,
          5.444928305,
          5.458413573585366,
          5.483224539560974,
          5.518787413292682,
          5.5194330826829265,
          5.5234465880731705,
          5.504932774609755,
          5.48402585,
          5.480590460804878,
          5.503343659170731,
          5.491169562463415,
          5.4419704484634135,
          5.467511803317073,
          5.461892769878047,
          5.449522679268292,
          5.39769047597561,
          5.38438630355,
          5.38060730152381,
          5.360930895365853,
          5.354606129146341,
          5.323320509073171,
          5.3056090607560975,
          5.261457548170732,
          5.222481686073171,
          5.188189351804878,
          5.149726878512196,
          5.112556184024389,
          5.032374761804879,
          4.985883832902439,
          4.951138055243902,
          4.916709227878049,
          4.86064080897561,
          4.818005411780488,
          4.790192035317073,
          4.754975245853658,
          4.6882319581951215,
          4.658091996414634,
          4.613843596707317,
          4.602008438658536,
          4.600431048097562,
          4.6035492344878035,
          4.613775693292683,
          4.602177778804878,
          4.423215877243902,
          4.130215493951218,
          3.774657503097561,
          3.3014775279268296,
          2.1955277996829268,
          1.6649317410731703,
          1.1914397144292683,
          0.7830530778390243
         ],
         "yaxis": "y"
        },
        {
         "line": {
          "dash": "dot",
          "width": 5
         },
         "marker": {
          "color": "green",
          "line": {
           "color": "green"
          },
          "size": 7,
          "symbol": "x"
         },
         "mode": "lines",
         "name": "IDDES-ASCII",
         "showlegend": false,
         "type": "scatter",
         "x": [
          0.004006315132562008,
          0.004035238224935244,
          0.0040565139689043815,
          0.004096291458382821,
          0.004122420412127324,
          0.004197247054001896,
          0.004206311829036324,
          0.004326620294697583,
          0.004329752003591482,
          0.00438376319033238,
          0.004515195437021271,
          0.004684582273714052,
          0.0048613589778753385,
          0.005214912374159849,
          0.0053916890703532595,
          0.005745242635343107,
          0.005922019319550215,
          0.006275572719922158,
          0.006452349396006181,
          0.006805902796395414,
          0.006982679480533487,
          0.0073362328728513735,
          0.00751300958103113,
          0.007866562965329386,
          0.00804333965740091,
          0.008396893057790159,
          0.008750446433999805,
          0.008927223150250928,
          0.009280776518423704,
          0.009457553218463123,
          0.00981110661083276,
          0.009987883303145728,
          0.010341436695498123,
          0.010518213395554782,
          0.010871766787907168,
          0.011048543367721169,
          0.011402096920707571,
          0.011578873540602441,
          0.01193242702120525,
          0.01210920365720838,
          0.012462757089710631,
          0.012639533757775049,
          0.012993087126016772,
          0.013169863890316729,
          0.013523417242467492,
          0.013700193942679382,
          0.014053747326994931,
          0.014230524028983175,
          0.014584077427682338,
          0.014760854127980425,
          0.01511440749615324,
          0.015291184165235184,
          0.01564473757945616,
          0.015821514280444142,
          0.016175067679488175,
          0.01635184434960492,
          0.016705397749511294,
          0.016882174464986344,
          0.017235727835573658,
          0.01741250454932405,
          0.017766057918359182,
          0.017942834634006696,
          0.018296388003041838,
          0.018473164719724128,
          0.018826718103246327,
          0.01900349478698781,
          0.019357048186894186,
          0.01953382487236031,
          0.01988737827140436,
          0.020064154957042956,
          0.020417708372471203,
          0.02059448502447909,
          0.02094803845715384,
          0.021124815188323216,
          0.021478368509930446,
          0.021655145225405497,
          0.02200869859392324,
          0.022185475054839827,
          0.02253902845405636,
          0.022715804993617063,
          0.023069358265381902,
          0.02324613506139813,
          0.023599688652568226,
          0.023776465291296348,
          0.02413001852856821,
          0.024306795199029882,
          0.0246603487269053,
          0.024837125491532858,
          0.025190678763470208,
          0.025367455432034773,
          0.02572100876743922,
          0.025897785532584188,
          0.026251338964913988,
          0.02642811566469473,
          0.026728790030755404,
          0.026805878926557173,
          0.026945710417353986,
          0.0270682154933973,
          0.02729725464888133,
          0.027500900312918616,
          0.027602724467226936,
          0.027806370131264226,
          0.027908194285572542,
          0.028111839949609824,
          0.028213664103918144,
          0.0284173124125348,
          0.02851913392226375,
          0.0287227822308804,
          0.028824603754751495,
          0.028926427894917683,
          0.02913007613937732,
          0.029231897727405424,
          0.029435543391442706,
          0.02953715153877151,
          0.029726148487953626,
          0.02981023941621481,
          0.02987661280033262,
          0.0299026595453081,
          0.029942472513800288,
          0.029957561083566377,
          0.029980615473714355,
          0.029992993419483107
         ],
         "xaxis": "x",
         "y": [
          1.045636644707317,
          1.0400184790097562,
          1.0315560878853658,
          1.0051559121487803,
          0.9824071463219513,
          0.95076125754,
          0.881576957183871,
          0.82138220382,
          0.744401120047619,
          0.75377136333,
          0.6754142114849999,
          0.6001017842634147,
          0.5667411983146342,
          0.5563314636780488,
          0.5482999570243903,
          0.5511764835756098,
          0.5564034093975609,
          0.5629055984439024,
          0.5597226116146342,
          0.5617797745512195,
          0.5789178145560976,
          0.6286457123731707,
          0.6505895084804878,
          0.7115938464878049,
          0.7474935090390245,
          0.785107970497561,
          0.8068515430243903,
          0.8146577241585365,
          0.9562749492243902,
          1.0450911969926828,
          1.2511465556390244,
          1.399134938392683,
          1.7289048863219512,
          1.8919935846146343,
          2.0928113338609755,
          2.176376794912195,
          2.314112920097561,
          2.350475776,
          2.3707813114390244,
          2.407808466,
          2.552852279,
          2.6478877201219517,
          2.7586908735365854,
          2.8059339112439026,
          2.877516901195122,
          2.926960585170732,
          3.046007392707317,
          3.095654623975609,
          3.2009931292439027,
          3.245619531536585,
          3.3325516335121947,
          3.366611194292682,
          3.435868408560976,
          3.479912204512195,
          3.5608592655121947,
          3.6028608547073167,
          3.6858025770731695,
          3.7297558396097563,
          3.8496736312926827,
          3.9169905206829267,
          4.0358162990975615,
          4.092321047292683,
          4.20729075204878,
          4.266868285170732,
          4.3870221614146345,
          4.446512374682927,
          4.5609040324390255,
          4.6141395809512185,
          4.707780972390244,
          4.757386834121951,
          4.862863726634147,
          4.923863129634147,
          5.052073143487805,
          5.101736208195122,
          5.206911540609756,
          5.266784197243903,
          5.3604530413658535,
          5.4006408057560975,
          5.476517809951219,
          5.508855264585367,
          5.498271020853657,
          5.472482395878049,
          5.4839490945121945,
          5.498325660829269,
          5.5329853467317065,
          5.530584207170732,
          5.473172762097561,
          5.435309576536587,
          5.4362809538780485,
          5.441556164,
          5.401432990902438,
          5.378328715853659,
          5.331412680170732,
          5.3006090378536594,
          5.290754457097561,
          5.293730854926829,
          5.259471963243902,
          5.242526665390244,
          5.198569994634147,
          5.176847974439024,
          5.156464830707316,
          5.056828103902438,
          4.974707079804879,
          4.8488562660975605,
          4.836244478853659,
          4.792305502097562,
          4.754835743390244,
          4.710361808634146,
          4.693586132536585,
          4.685953255414634,
          4.6562048690731705,
          4.640323827658537,
          4.656963570512195,
          4.686651692317073,
          4.708201970756098,
          4.629028062268293,
          3.9427341043658535,
          3.4362206219756097,
          2.283000198902439,
          1.7368052206268294,
          0.8229099009780488,
          0.30686585404085365
         ],
         "yaxis": "y"
        },
        {
         "line": {
          "dash": "dashdot",
          "width": 5
         },
         "marker": {
          "color": "blue",
          "line": {
           "color": "blue"
          },
          "size": 7,
          "symbol": "circle"
         },
         "mode": "lines",
         "name": "KW-SST-ASCII",
         "showlegend": false,
         "type": "scatter",
         "x": [
          0.004006314799649237,
          0.0040352372597983,
          0.0040745715880638675,
          0.0041224168547903855,
          0.004197246922197193,
          0.0043297926523386265,
          0.004383763322137084,
          0.00441758708968725,
          0.004684582411255817,
          0.005038135810475703,
          0.005391689176567628,
          0.005745242764973886,
          0.006098796131242592,
          0.006275572888623232,
          0.006629126304247997,
          0.0069826796704813435,
          0.007336233069559842,
          0.00768978640287743,
          0.00804333978544502,
          0.008396893184629623,
          0.008750446550863036,
          0.009103999950047608,
          0.009457553349055414,
          0.0098111067317644,
          0.010164660147389213,
          0.010518213497182396,
          0.010871766879891406,
          0.011225320509486752,
          0.011755650353192556,
          0.01210920380176863,
          0.012462757250344576,
          0.012816310501178213,
          0.013169864147319823,
          0.01352341723368041,
          0.013876970912631835,
          0.014230524001431863,
          0.014584077711637453,
          0.014937630862875013,
          0.015291184378272682,
          0.0156447376921448,
          0.015998291111022377,
          0.016351844494190988,
          0.016705397842711404,
          0.017058951289873232,
          0.017412504640161367,
          0.017766058089444557,
          0.01811961140473088,
          0.018473164822547832,
          0.01882671826970956,
          0.019180271552469097,
          0.019533825036046875,
          0.019887378384920863,
          0.020240931801677072,
          0.020594485150904583,
          0.02094803853301259,
          0.02130159204841018,
          0.021655145265762312,
          0.022008698814393927,
          0.02253902855839772,
          0.02289258161099391,
          0.02324613512568448,
          0.023599688968472525,
          0.02395324202177581,
          0.02430679507684696,
          0.02466034891963502,
          0.025013902370332342,
          0.025367455488335938,
          0.02572100867280761,
          0.0260745626495924,
          0.02642811589876428,
          0.02659080391924516,
          0.02659613272827404,
          0.026806008097805815,
          0.026945710417353986,
          0.02720748185686613,
          0.027399077473828932,
          0.027602724467226936,
          0.02780637013126422,
          0.02801001843988087,
          0.028213664103918144,
          0.028417312412534795,
          0.02862095807657207,
          0.028824603754751495,
          0.029028252049226003,
          0.02923189772740542,
          0.029435546021879932,
          0.029609125194454168,
          0.02981023941621481,
          0.029876612800332613,
          0.029924373083359924,
          0.029957561083566377,
          0.02998061540921242
         ],
         "xaxis": "x",
         "y": [
          1.0459018368500002,
          1.04127792354,
          1.02372391382,
          0.987566293415,
          0.9615004870799999,
          0.8618913467399999,
          0.86492043688,
          0.8006489535600001,
          0.771301635125,
          0.728237353285,
          0.691037075185,
          0.66026150291,
          0.6388981221600001,
          0.631829067005,
          0.6234825747449999,
          0.622959771155,
          0.6313558435000001,
          0.648130025215,
          0.6683827714249999,
          0.686932298425,
          0.7207910920049999,
          0.71290893902,
          0.872645181165,
          1.19826214329,
          1.508313084,
          1.8540024403,
          2.13053611845,
          2.3010088249000002,
          2.4069811553,
          2.52911183565,
          2.65201284325,
          2.7846105571,
          2.9384921679,
          3.04064571355,
          3.1073741530500003,
          3.1633290725,
          3.2184172130999995,
          3.2782694366000005,
          3.34981539255,
          3.4342912459500003,
          3.5248413336,
          3.61829901085,
          3.7157990199,
          3.81822965125,
          3.9251830914999997,
          4.0364591498,
          4.15558247125,
          4.2836149394000005,
          4.4129457332,
          4.53737386,
          4.6524687181000015,
          4.7613612272,
          4.87045051675,
          4.9734375550499985,
          5.075422113749998,
          5.1721427467500005,
          5.26958757315,
          5.369717970700001,
          5.5163785883,
          5.5750658842,
          5.59275641595,
          5.584305716549999,
          5.5555658459,
          5.5028575144500005,
          5.431056255750001,
          5.3495656705000005,
          5.2697018495000005,
          5.21113297575,
          5.165747952,
          5.131765458349999,
          5.0084031586,
          5.2325394555,
          5.1102734959500005,
          5.10625499255,
          5.1002503032,
          5.09357579035,
          5.07709624005,
          5.049834103,
          5.0116702071,
          4.9611256117,
          4.89504480225,
          4.8120023678,
          4.7133276220499996,
          4.6069133822,
          4.5075506225,
          4.4184974807,
          4.29261037225,
          4.0523844261500015,
          3.6044592232999997,
          2.80758965105,
          1.7821881122,
          0.8490285302749999
         ],
         "yaxis": "y"
        },
        {
         "marker": {
          "color": "black",
          "line": {
           "color": "black",
           "width": 5
          },
          "size": 7,
          "symbol": "circle"
         },
         "mode": "markers+lines",
         "name": "Experimental-Mean",
         "showlegend": false,
         "type": "scatter",
         "x": [
          0.008485280999999999,
          0.008909545,
          0.00933381,
          0.009758074,
          0.010182338,
          0.010606602,
          0.011030866,
          0.01145513,
          0.011879394,
          0.012303658,
          0.012727922,
          0.013152186000000001,
          0.01357645,
          0.014000714,
          0.014424978,
          0.014849242,
          0.015273506000000001,
          0.015697771,
          0.016122035,
          0.016546299,
          0.016970563,
          0.017394826999999998,
          0.017819091000000002,
          0.018243355,
          0.018667619,
          0.019091883,
          0.019516147,
          0.019940411,
          0.020364675,
          0.020788939,
          0.021213202999999996,
          0.021637467999999997,
          0.022061732,
          0.022485996,
          0.02291026,
          0.023334524,
          0.023758788,
          0.024183052000000003,
          0.024607316,
          0.02503158,
          0.025455844,
          0.025880108,
          0.026304372000000003,
          0.026728636,
          0.0271529,
          0.027577163999999998,
          0.028001428999999998,
          0.028425693,
          0.028849957000000002,
          0.029274221,
          0.029698485
         ],
         "xaxis": "x",
         "y": [
          0.772596471,
          0.8215334790000001,
          0.9620875740000001,
          1.145936736,
          1.364265425,
          1.5914059569999999,
          1.838319438,
          2.100484186,
          2.311572186,
          2.45438738,
          2.583415753,
          2.7079352460000004,
          2.836396872,
          2.976140931,
          3.127551713,
          3.2629951910000004,
          3.398366031,
          3.51651674,
          3.626573576,
          3.7459481119999998,
          3.857344414,
          3.946734535,
          4.01807317,
          4.113099691,
          4.231007553,
          4.339557142,
          4.417160236,
          4.4499874319999995,
          4.502662314,
          4.58027178,
          4.673343609,
          4.721134329,
          4.781326548,
          4.839278,
          4.909591092,
          5.02074711,
          5.1493596219999995,
          5.269731581,
          5.357850011,
          5.406321827999999,
          5.40030105,
          5.314902668999999,
          5.1150325610000005,
          4.861499968,
          4.644570132,
          4.497446114,
          4.453832278999999,
          4.480541552,
          4.565164788,
          4.388353222,
          3.277908052
         ],
         "yaxis": "y"
        },
        {
         "line": {
          "dash": "dash",
          "width": 5
         },
         "marker": {
          "color": "red",
          "line": {
           "color": "red"
          },
          "size": 7,
          "symbol": "triangle-right"
         },
         "mode": "lines",
         "name": "SBES-ASCII",
         "showlegend": false,
         "type": "scatter",
         "x": [
          0.004018581608275877,
          0.004035238347411313,
          0.004056513334474382,
          0.004074572158600734,
          0.004122417296097451,
          0.004153868169736469,
          0.004197247021050721,
          0.004206363439802267,
          0.004274593797457283,
          0.004326620294697583,
          0.004329833239789787,
          0.00438376319033238,
          0.0044175872214919564,
          0.004684582358032298,
          0.004861359054173951,
          0.005038135746383409,
          0.0052149124464400285,
          0.005568465887030811,
          0.005745242707640523,
          0.005922019399850015,
          0.006098796083936366,
          0.006452349484325599,
          0.006629126184537433,
          0.00680590286865834,
          0.006982679552813658,
          0.007336232945114286,
          0.0075130096452744235,
          0.007689786329464279,
          0.007866563045629174,
          0.008220116413750195,
          0.008396893114013811,
          0.008573669814122206,
          0.008750446522336459,
          0.008927223198454955,
          0.009280776614814476,
          0.009457553282706406,
          0.009634329991110364,
          0.009811106683095658,
          0.010164660067445671,
          0.010341436767778284,
          0.010518213475854559,
          0.01069499016011343,
          0.01104854343196445,
          0.011225320332839465,
          0.011402097001007352,
          0.011578873636975963,
          0.011932427117578763,
          0.012109203753581894,
          0.012285980405641486,
          0.012462757153971157,
          0.01281631052205772,
          0.012993087190260063,
          0.013169863954577251,
          0.013346640606705882,
          0.013700193974775166,
          0.013876970723156568,
          0.01405374740731195,
          0.01423052406106172,
          0.014584077459760859,
          0.014760854208176716,
          0.014937630891745724,
          0.015114407560482747,
          0.015467960961423903,
          0.015644737675864166,
          0.015821514344601183,
          0.01599829104593408,
          0.016351844446012932,
          0.01652862111406008,
          0.016705397813840797,
          0.016882174529315848,
          0.01705895121322979,
          0.017235727899903158,
          0.017412504629692804,
          0.0175892813301634,
          0.01794283468212448,
          0.01811961138138781,
          0.018296388083238115,
          0.018473164832171388,
          0.018826718167575838,
          0.01900349488339581,
          0.019180271535058788,
          0.01935704823501197,
          0.019710601668204108,
          0.01988737833590633,
          0.0200641550374117,
          0.02024093175288676,
          0.02059448510467537,
          0.020771261789279183,
          0.020948038537522584,
          0.021124815236441004,
          0.0214783685902992,
          0.02165514530577425,
          0.02183192200710717,
          0.02200869869033123,
          0.02236225188069254,
          0.0225390284861349,
          0.022715805057774083,
          0.02289258169270796,
          0.023246135189712167,
          0.023422911955202057,
          0.02359968868464676,
          0.023776465355625845,
          0.024130018624976192,
          0.024306795263359368,
          0.02448357199556352,
          0.02466034879123479,
          0.02501390219303829,
          0.02536745552844277,
          0.025544232228913367,
          0.025721008863847226,
          0.02589778566124316,
          0.026251339029071025,
          0.026428115696945725,
          0.026590782895714732,
          0.026596132596752173,
          0.026728740430491543,
          0.02684491359020378,
          0.02692681012432692,
          0.027105894845476413,
          0.027208011324281748,
          0.027309835478590068,
          0.02741165698831903,
          0.02761530529693567,
          0.027717126820806768,
          0.02781895097511509,
          0.027920775115281283,
          0.0281244207934607,
          0.028226244947769017,
          0.028328069087935205,
          0.02842989317808652,
          0.028633538920422943,
          0.02873536306058913,
          0.028837184584460232,
          0.02893900873876855,
          0.029142654402805838,
          0.02924447855711415,
          0.02934630271142248,
          0.029448124221151437,
          0.02962996944371349,
          0.02970974288317244,
          0.029738049767694757,
          0.029792550913809262,
          0.029876062246992782,
          0.029902224915053982,
          0.029924033276125164,
          0.029942214363256617,
          0.02996999967167501,
          0.029980528491646875,
          0.029992959174301694
         ],
         "xaxis": "x2",
         "y": [
          1.0005960333463415,
          0.9622259558365852,
          0.9137790479658536,
          0.8735991630609756,
          0.7762943226926828,
          0.7228610088609756,
          0.6499156774,
          0.6542834848322581,
          0.59061874717,
          0.54774902213,
          0.5688087427857142,
          0.5344591830600001,
          0.53290692508,
          0.530936079797561,
          0.5416764878536585,
          0.5389516288560975,
          0.532154490390244,
          0.5316927754390244,
          0.5351510514341463,
          0.5427087157975611,
          0.5512095429585365,
          0.5827331074756098,
          0.5968961711439025,
          0.6041908946,
          0.6093924779658537,
          0.6314778637048779,
          0.6301284894243903,
          0.6547044614609756,
          0.7084230083317072,
          0.95889963817561,
          1.0824918328804878,
          1.2244343716658537,
          1.4103684576365854,
          1.5437920493487804,
          1.8004832532682926,
          1.911855470170732,
          2.0221148107317077,
          2.149525726414634,
          2.33336830095122,
          2.415002962268293,
          2.495646755634146,
          2.572676436634146,
          2.6315667378048784,
          2.6669446861219512,
          2.7253968437804885,
          2.7899492190487805,
          2.879962785731707,
          2.913784604,
          2.933257514317073,
          2.9629825900487807,
          3.0330924855121952,
          3.0859858878536586,
          3.1597793649268286,
          3.238885277756097,
          3.3743122050487804,
          3.424729001463415,
          3.464927844170732,
          3.513153157219512,
          3.624827227219512,
          3.686451408756097,
          3.757599073097561,
          3.826742710268293,
          3.956337698390244,
          4.017707537853658,
          4.078381943707317,
          4.140763179560976,
          4.2594276707560965,
          4.319488455487805,
          4.3784851784146355,
          4.434717999658536,
          4.488444380292684,
          4.5446326660487815,
          4.606984022512195,
          4.673661045365853,
          4.80627077502439,
          4.868961358609756,
          4.929788183341462,
          4.989605897780487,
          5.099519589365854,
          5.154315475853658,
          5.214548253463415,
          5.2739088255365845,
          5.390973911634146,
          5.438657274292684,
          5.463396795292684,
          5.490114767804878,
          5.551704945390243,
          5.588057077609756,
          5.604588086487805,
          5.61650342692683,
          5.672663326292683,
          5.664367485146341,
          5.6530466570487805,
          5.619369704682927,
          5.642001917000001,
          5.642368357951219,
          5.674933602975608,
          5.6760770772682925,
          5.6973999305365846,
          5.673389783756098,
          5.644553679390245,
          5.60683697404878,
          5.551134944878048,
          5.522591491902438,
          5.472950947585366,
          5.434351029853659,
          5.476322887487805,
          5.4896567321951215,
          5.455776010390244,
          5.385084507731707,
          5.34019133102439,
          5.17809343997561,
          5.0929524574146345,
          4.93498057852381,
          4.95613940285,
          4.880130836073171,
          4.8237789334146335,
          4.762051375121953,
          4.63116474714634,
          4.556789644756098,
          4.5264213555853665,
          4.486905327317073,
          4.475069321146342,
          4.472970095609756,
          4.435891665048781,
          4.415360881170731,
          4.3478969429268295,
          4.294739647463413,
          4.259986298634146,
          4.245023441829268,
          4.294696118951219,
          4.333612532121951,
          4.372259588414634,
          4.4093197239999995,
          4.477209272487805,
          4.4940771118536595,
          4.508886930341464,
          4.522282619170731,
          4.394271718560976,
          4.292867243634147,
          4.263128066341464,
          3.9826339948048783,
          3.113988833487805,
          2.660579074,
          2.1911874304634145,
          1.733423574904878,
          0.9363431332414632,
          0.6157776254268293,
          0.2294841369963415
         ],
         "yaxis": "y2"
        },
        {
         "line": {
          "dash": "dot",
          "width": 5
         },
         "marker": {
          "color": "green",
          "line": {
           "color": "green"
          },
          "size": 7,
          "symbol": "x"
         },
         "mode": "lines",
         "name": "IDDES-ASCII",
         "showlegend": false,
         "type": "scatter",
         "x": [
          0.004006316252929586,
          0.004018581660515546,
          0.004056513334474382,
          0.004074572174674478,
          0.0041224172639499615,
          0.0041538681617340895,
          0.004197246988099546,
          0.004274593764647528,
          0.004326620294697583,
          0.0043298332319442676,
          0.0044175872214919564,
          0.004507802062943135,
          0.004515195437021271,
          0.004861359054173951,
          0.005038135746383409,
          0.005391689142616193,
          0.005568465887030811,
          0.005922019399850015,
          0.006098796083936366,
          0.006452349484325599,
          0.006629126184537433,
          0.006982679552813658,
          0.007159456244936938,
          0.0075130096452744235,
          0.007689786329464279,
          0.008043339737683449,
          0.008220116413750195,
          0.008573669814122206,
          0.008750446522336459,
          0.009103999890509232,
          0.009280776614814476,
          0.009634329991110364,
          0.009811106683095658,
          0.010164660067445671,
          0.010341436767778284,
          0.01069499016011343,
          0.010871766836111194,
          0.011225320332839465,
          0.011402097001007352,
          0.011755650337153338,
          0.011932427117578763,
          0.012285980405641486,
          0.012462757153971157,
          0.01281631052205772,
          0.012993087190260063,
          0.013346640606705882,
          0.013523417338823764,
          0.013876970723156568,
          0.01405374740731195,
          0.014407300791023847,
          0.014584077459760859,
          0.014937630891745724,
          0.015114407560482747,
          0.015467960961423903,
          0.015821514344601183,
          0.01599829104593408,
          0.016351844446012932,
          0.01652862111406008,
          0.016882174529315848,
          0.01705895121322979,
          0.017412504629692804,
          0.0175892813301634,
          0.01794283468212448,
          0.01811961138138781,
          0.018473164832171388,
          0.018649941467450176,
          0.01900349488339581,
          0.019180271535058788,
          0.019533824968595848,
          0.019710601668204108,
          0.0200641550374117,
          0.02024093175288676,
          0.02059448510467537,
          0.020771261789279183,
          0.021124815236441004,
          0.0213015918582675,
          0.02165514530577425,
          0.02183192200710717,
          0.02218547511916932,
          0.02236225188069254,
          0.022715805057774083,
          0.02289258169270796,
          0.023246135189712167,
          0.023422911955202057,
          0.023776465355625845,
          0.023953241959343542,
          0.024306795263359368,
          0.02448357199556352,
          0.02483712555568991,
          0.025190678859878208,
          0.02536745552844277,
          0.025721008863847226,
          0.02589778566124316,
          0.026251339029071025,
          0.026590782895714732,
          0.026728740558805555,
          0.02684491359020378,
          0.02692680755804669,
          0.027105897411756633,
          0.027208011324281748,
          0.02741165698831903,
          0.02751348114262735,
          0.027717126820806768,
          0.02781895097511509,
          0.02802259663915237,
          0.02812442342389793,
          0.028328069087935205,
          0.028429890611806306,
          0.028633538920422943,
          0.02873536306058913,
          0.02893900873876855,
          0.029040832893076875,
          0.02924447855711415,
          0.02934630008098525,
          0.029550190729237938,
          0.02962996944371349,
          0.029738049767694757,
          0.029792550913809262,
          0.029876062246992782,
          0.029902224915053982,
          0.029942214363256617,
          0.0299573687929483,
          0.029980528491646875,
          0.029992959174301694
         ],
         "xaxis": "x2",
         "y": [
          1.0309015739219514,
          1.0049775779902441,
          0.9239456347829268,
          0.8851790002121951,
          0.788203630792683,
          0.7334725698170732,
          0.67347517249,
          0.62432276009,
          0.59959977155,
          0.5537738949952381,
          0.5646161405100001,
          0.5374021000428572,
          0.58060982447,
          0.5715770721853659,
          0.5516703962,
          0.5320844461682928,
          0.5290321338780488,
          0.5388170606780488,
          0.5570813425658536,
          0.5902768142243903,
          0.5951205908243902,
          0.6038152356219512,
          0.6058410783609756,
          0.6289023592926829,
          0.6556083178853659,
          0.8179601309268292,
          0.9355203530097559,
          1.2886196397268297,
          1.4955854058414637,
          1.8173158336341464,
          1.9958075039512195,
          2.068102320390244,
          2.1092396220975607,
          2.3197311250975607,
          2.3756567316585366,
          2.4757683164878053,
          2.5389484325609755,
          2.6630764334390244,
          2.7293166836097558,
          2.849982916512195,
          2.9019649201951223,
          2.986122217975609,
          3.021721099707317,
          3.06660240995122,
          3.1053654123170733,
          3.196102909512196,
          3.2404092290731707,
          3.340295351170732,
          3.4020962308780485,
          3.5293283490731704,
          3.594966676463415,
          3.7144164675365854,
          3.7655800847073166,
          3.89633296397561,
          4.0362483111707315,
          4.09778029490244,
          4.225902992121951,
          4.293270092268293,
          4.4282176898292684,
          4.493015307853658,
          4.611366991219511,
          4.666326569390244,
          4.778777758487805,
          4.839199164,
          4.961220627390244,
          5.0220004786829255,
          5.145646550463415,
          5.214848861804878,
          5.356562780170732,
          5.4178223587317085,
          5.525952009829268,
          5.569660099414634,
          5.6341852090487805,
          5.653296170926829,
          5.67514974407317,
          5.690041572268293,
          5.7219070305365864,
          5.731546985,
          5.730694540268292,
          5.6979224254146335,
          5.704797001439025,
          5.706362784780487,
          5.682573078390244,
          5.672191616439023,
          5.6215744709756095,
          5.587674342219511,
          5.57089815302439,
          5.556964829560976,
          5.531426096463416,
          5.469181921121951,
          5.437833989463416,
          5.3823003389999995,
          5.314112906,
          5.262100822829269,
          5.1535041439523805,
          4.993246062463415,
          4.874817686902438,
          4.823548952487805,
          4.724472318707316,
          4.666079141731708,
          4.578782600268291,
          4.5403791306829255,
          4.4783550862682935,
          4.448319049707316,
          4.414710397487805,
          4.408298470170732,
          4.394925986219514,
          4.3915231632682925,
          4.385012720341464,
          4.373950207560975,
          4.360009978097561,
          4.377997698560975,
          4.428169028268293,
          4.4500241024634155,
          4.509675382097561,
          4.4881824696829264,
          4.3715556648780485,
          4.128200782585366,
          3.10101012497561,
          2.5953544303658536,
          1.6317986729756102,
          1.224074720402439,
          0.5741853246390244,
          0.2141596887536585
         ],
         "yaxis": "y2"
        },
        {
         "line": {
          "dash": "dashdot",
          "width": 5
         },
         "marker": {
          "color": "blue",
          "line": {
           "color": "blue"
          },
          "size": 7,
          "symbol": "circle"
         },
         "mode": "lines",
         "name": "KW-SST-ASCII",
         "showlegend": false,
         "type": "scatter",
         "x": [
          0.004018580273522146,
          0.004056512552654007,
          0.0040962888218092856,
          0.00415386775575994,
          0.004197246988099546,
          0.004274593764647528,
          0.004326620294697583,
          0.0043297926358630496,
          0.004383763256234732,
          0.0045151954534969,
          0.004861359102557256,
          0.005214912476993053,
          0.005568465991471341,
          0.005922019440047281,
          0.006275572888623232,
          0.006629126304247997,
          0.0069826796704813435,
          0.007336233053084247,
          0.007689786402912792,
          0.008043339768969442,
          0.008396893151713805,
          0.00875044656730328,
          0.00910399996648785,
          0.009457553349020074,
          0.00981110674820464,
          0.010164660114473405,
          0.010518213497182415,
          0.010871766846975595,
          0.011225320509486752,
          0.011578873629010666,
          0.01210920380176863,
          0.012462757250344576,
          0.012816310501178213,
          0.01316986411440402,
          0.013523417266631588,
          0.013876970912631835,
          0.014230523968551406,
          0.01458407764587654,
          0.01493763082999454,
          0.015291184345392244,
          0.0156447376921448,
          0.015998291143902856,
          0.016351844461310532,
          0.01670539787559188,
          0.017058951256992774,
          0.017412504673041847,
          0.017766058089798115,
          0.01811961143761136,
          0.0184731648554283,
          0.018826718237182672,
          0.019180271618230046,
          0.019533825003166427,
          0.0198873784181549,
          0.02024093176844307,
          0.020594485216665532,
          0.0209480385330126,
          0.021301592015176167,
          0.02165514523288186,
          0.022008698847274404,
          0.02236225209715345,
          0.022715805150456715,
          0.023069358137292068,
          0.0234229121798378,
          0.02377646549724549,
          0.02413001854807395,
          0.02448357186724946,
          0.024837125907673858,
          0.02519067895956294,
          0.025544232081809247,
          0.02589778566120001,
          0.02625133937317329,
          0.02659080391924516,
          0.02680600822932768,
          0.02684491359020378,
          0.027042866804236204,
          0.027208011324281745,
          0.027411656988319037,
          0.02761530266649845,
          0.02781895097511509,
          0.02802259663915237,
          0.028226242303189663,
          0.028429890611806306,
          0.028633538920422943,
          0.028837184584460232,
          0.02904083024849751,
          0.02924447855711416,
          0.029448124221151437,
          0.02962996944371348,
          0.02973804976769476,
          0.029844678656012712,
          0.029902224915053975,
          0.029942214363256617,
          0.029969999671675008,
          0.029992959174301687
         ],
         "xaxis": "x2",
         "y": [
          1.0062417670450001,
          0.921873717535,
          0.832242439265,
          0.731827718425,
          0.65053085768,
          0.62842348328,
          0.6426679239,
          0.6710486074,
          0.61743880964,
          0.62782457464,
          0.612306371385,
          0.5758163642899999,
          0.5440147134300001,
          0.5208705217249999,
          0.514459946115,
          0.530702634395,
          0.565511009575,
          0.5919114695900001,
          0.657035183575,
          0.862965971405,
          1.17980251561,
          1.495529738,
          1.7567362562500002,
          1.97186714415,
          2.1551346886,
          2.30064311625,
          2.4266531998,
          2.54850188345,
          2.67151116915,
          2.8007194145499996,
          2.9608982236,
          3.0547486819,
          3.1464954134500003,
          3.2368877831500003,
          3.3261578725,
          3.4176121166000004,
          3.5139059827,
          3.6172786843,
          3.7288808785,
          3.8469704339999997,
          3.9691792037,
          4.0943609999,
          4.22065521915,
          4.34667661185,
          4.4701491134,
          4.59031345235,
          4.708402647200001,
          4.82542558345,
          4.9410573947500005,
          5.05472991355,
          5.1644363331999985,
          5.2685532313,
          5.369036200449999,
          5.468105617000001,
          5.564498961749999,
          5.651095654600001,
          5.712283307100001,
          5.7467209288,
          5.7509280412,
          5.7284711672,
          5.677952704,
          5.6165088536,
          5.5649200814,
          5.5108895648999985,
          5.4398327716,
          5.38289332335,
          5.3527731332499995,
          5.337468159849999,
          5.31024198195,
          5.2709019585000005,
          5.1962679449,
          5.0449380487,
          5.0315704263,
          4.9917586096,
          4.9672919785500005,
          4.8886184473,
          4.7977629126,
          4.70551717675,
          4.6171708563000005,
          4.5444573008999996,
          4.5001174036,
          4.481576717,
          4.471211192149999,
          4.4583934156,
          4.45215507195,
          4.4590359125,
          4.431349729,
          4.245023341,
          4.10436406625,
          3.5362381005000003,
          2.7870772396,
          1.8852649898500002,
          1.01962139834,
          0.24738993318875
         ],
         "yaxis": "y2"
        },
        {
         "marker": {
          "color": "black",
          "line": {
           "color": "black",
           "width": 5
          },
          "size": 7,
          "symbol": "circle"
         },
         "mode": "markers+lines",
         "name": "Experimental",
         "showlegend": false,
         "type": "scatter",
         "x": [
          0.010606602,
          0.011030866,
          0.01145513,
          0.011879394,
          0.012303658,
          0.012727922,
          0.013152186000000001,
          0.01357645,
          0.014000714,
          0.014424978,
          0.014849242,
          0.015273506000000001,
          0.015697771,
          0.016122035,
          0.016546299,
          0.016970563,
          0.017394826999999998,
          0.017819091000000002,
          0.018243355,
          0.018667619,
          0.019091883,
          0.019516147,
          0.019940411,
          0.020364675,
          0.020788939,
          0.021213202999999996,
          0.021637467999999997,
          0.022061732,
          0.022485996,
          0.02291026,
          0.023334524,
          0.023758788,
          0.024183052000000003,
          0.024607316,
          0.02503158,
          0.025455844,
          0.025880108,
          0.026304372000000003,
          0.026728636,
          0.0271529,
          0.027577163999999998,
          0.028001428999999998,
          0.028425693,
          0.028849957000000002,
          0.029274221,
          0.029698485
         ],
         "xaxis": "x2",
         "y": [
          1.904601915,
          2.1410532840000003,
          2.3612684390000003,
          2.64969466,
          2.864849025,
          3.093463991,
          3.2772236919999997,
          3.42025389,
          3.5370279489999996,
          3.6494544280000003,
          3.7265784760000003,
          3.8126290710000004,
          3.9064331930000002,
          3.98884387,
          4.078029232,
          4.165333372,
          4.238932779,
          4.332734868,
          4.401796828,
          4.468630182,
          4.560200138,
          4.652771999,
          4.735189556,
          4.837473074,
          4.926447776,
          5.027142815,
          5.142777497,
          5.260640789,
          5.356033428,
          5.443419115,
          5.526075725,
          5.571616242999999,
          5.576385079,
          5.543400900000001,
          5.428239683999999,
          5.2514070330000004,
          5.0809561080000005,
          4.762468431,
          4.512566527,
          4.3658854719999995,
          4.358267324,
          4.421385995,
          4.495984258,
          4.524589858,
          4.592351896,
          4.148073296000001
         ],
         "yaxis": "y2"
        }
       ],
       "layout": {
        "font": {
         "family": "Arial",
         "size": 32
        },
        "height": 600,
        "legend": {
         "itemsizing": "constant"
        },
        "template": {
         "data": {
          "bar": [
           {
            "error_x": {
             "color": "#2a3f5f"
            },
            "error_y": {
             "color": "#2a3f5f"
            },
            "marker": {
             "line": {
              "color": "#E5ECF6",
              "width": 0.5
             }
            },
            "type": "bar"
           }
          ],
          "barpolar": [
           {
            "marker": {
             "line": {
              "color": "#E5ECF6",
              "width": 0.5
             }
            },
            "type": "barpolar"
           }
          ],
          "carpet": [
           {
            "aaxis": {
             "endlinecolor": "#2a3f5f",
             "gridcolor": "white",
             "linecolor": "white",
             "minorgridcolor": "white",
             "startlinecolor": "#2a3f5f"
            },
            "baxis": {
             "endlinecolor": "#2a3f5f",
             "gridcolor": "white",
             "linecolor": "white",
             "minorgridcolor": "white",
             "startlinecolor": "#2a3f5f"
            },
            "type": "carpet"
           }
          ],
          "choropleth": [
           {
            "colorbar": {
             "outlinewidth": 0,
             "ticks": ""
            },
            "type": "choropleth"
           }
          ],
          "contour": [
           {
            "colorbar": {
             "outlinewidth": 0,
             "ticks": ""
            },
            "colorscale": [
             [
              0.0,
              "#0d0887"
             ],
             [
              0.1111111111111111,
              "#46039f"
             ],
             [
              0.2222222222222222,
              "#7201a8"
             ],
             [
              0.3333333333333333,
              "#9c179e"
             ],
             [
              0.4444444444444444,
              "#bd3786"
             ],
             [
              0.5555555555555556,
              "#d8576b"
             ],
             [
              0.6666666666666666,
              "#ed7953"
             ],
             [
              0.7777777777777778,
              "#fb9f3a"
             ],
             [
              0.8888888888888888,
              "#fdca26"
             ],
             [
              1.0,
              "#f0f921"
             ]
            ],
            "type": "contour"
           }
          ],
          "contourcarpet": [
           {
            "colorbar": {
             "outlinewidth": 0,
             "ticks": ""
            },
            "type": "contourcarpet"
           }
          ],
          "heatmap": [
           {
            "colorbar": {
             "outlinewidth": 0,
             "ticks": ""
            },
            "colorscale": [
             [
              0.0,
              "#0d0887"
             ],
             [
              0.1111111111111111,
              "#46039f"
             ],
             [
              0.2222222222222222,
              "#7201a8"
             ],
             [
              0.3333333333333333,
              "#9c179e"
             ],
             [
              0.4444444444444444,
              "#bd3786"
             ],
             [
              0.5555555555555556,
              "#d8576b"
             ],
             [
              0.6666666666666666,
              "#ed7953"
             ],
             [
              0.7777777777777778,
              "#fb9f3a"
             ],
             [
              0.8888888888888888,
              "#fdca26"
             ],
             [
              1.0,
              "#f0f921"
             ]
            ],
            "type": "heatmap"
           }
          ],
          "heatmapgl": [
           {
            "colorbar": {
             "outlinewidth": 0,
             "ticks": ""
            },
            "colorscale": [
             [
              0.0,
              "#0d0887"
             ],
             [
              0.1111111111111111,
              "#46039f"
             ],
             [
              0.2222222222222222,
              "#7201a8"
             ],
             [
              0.3333333333333333,
              "#9c179e"
             ],
             [
              0.4444444444444444,
              "#bd3786"
             ],
             [
              0.5555555555555556,
              "#d8576b"
             ],
             [
              0.6666666666666666,
              "#ed7953"
             ],
             [
              0.7777777777777778,
              "#fb9f3a"
             ],
             [
              0.8888888888888888,
              "#fdca26"
             ],
             [
              1.0,
              "#f0f921"
             ]
            ],
            "type": "heatmapgl"
           }
          ],
          "histogram": [
           {
            "marker": {
             "colorbar": {
              "outlinewidth": 0,
              "ticks": ""
             }
            },
            "type": "histogram"
           }
          ],
          "histogram2d": [
           {
            "colorbar": {
             "outlinewidth": 0,
             "ticks": ""
            },
            "colorscale": [
             [
              0.0,
              "#0d0887"
             ],
             [
              0.1111111111111111,
              "#46039f"
             ],
             [
              0.2222222222222222,
              "#7201a8"
             ],
             [
              0.3333333333333333,
              "#9c179e"
             ],
             [
              0.4444444444444444,
              "#bd3786"
             ],
             [
              0.5555555555555556,
              "#d8576b"
             ],
             [
              0.6666666666666666,
              "#ed7953"
             ],
             [
              0.7777777777777778,
              "#fb9f3a"
             ],
             [
              0.8888888888888888,
              "#fdca26"
             ],
             [
              1.0,
              "#f0f921"
             ]
            ],
            "type": "histogram2d"
           }
          ],
          "histogram2dcontour": [
           {
            "colorbar": {
             "outlinewidth": 0,
             "ticks": ""
            },
            "colorscale": [
             [
              0.0,
              "#0d0887"
             ],
             [
              0.1111111111111111,
              "#46039f"
             ],
             [
              0.2222222222222222,
              "#7201a8"
             ],
             [
              0.3333333333333333,
              "#9c179e"
             ],
             [
              0.4444444444444444,
              "#bd3786"
             ],
             [
              0.5555555555555556,
              "#d8576b"
             ],
             [
              0.6666666666666666,
              "#ed7953"
             ],
             [
              0.7777777777777778,
              "#fb9f3a"
             ],
             [
              0.8888888888888888,
              "#fdca26"
             ],
             [
              1.0,
              "#f0f921"
             ]
            ],
            "type": "histogram2dcontour"
           }
          ],
          "mesh3d": [
           {
            "colorbar": {
             "outlinewidth": 0,
             "ticks": ""
            },
            "type": "mesh3d"
           }
          ],
          "parcoords": [
           {
            "line": {
             "colorbar": {
              "outlinewidth": 0,
              "ticks": ""
             }
            },
            "type": "parcoords"
           }
          ],
          "pie": [
           {
            "automargin": true,
            "type": "pie"
           }
          ],
          "scatter": [
           {
            "marker": {
             "colorbar": {
              "outlinewidth": 0,
              "ticks": ""
             }
            },
            "type": "scatter"
           }
          ],
          "scatter3d": [
           {
            "line": {
             "colorbar": {
              "outlinewidth": 0,
              "ticks": ""
             }
            },
            "marker": {
             "colorbar": {
              "outlinewidth": 0,
              "ticks": ""
             }
            },
            "type": "scatter3d"
           }
          ],
          "scattercarpet": [
           {
            "marker": {
             "colorbar": {
              "outlinewidth": 0,
              "ticks": ""
             }
            },
            "type": "scattercarpet"
           }
          ],
          "scattergeo": [
           {
            "marker": {
             "colorbar": {
              "outlinewidth": 0,
              "ticks": ""
             }
            },
            "type": "scattergeo"
           }
          ],
          "scattergl": [
           {
            "marker": {
             "colorbar": {
              "outlinewidth": 0,
              "ticks": ""
             }
            },
            "type": "scattergl"
           }
          ],
          "scattermapbox": [
           {
            "marker": {
             "colorbar": {
              "outlinewidth": 0,
              "ticks": ""
             }
            },
            "type": "scattermapbox"
           }
          ],
          "scatterpolar": [
           {
            "marker": {
             "colorbar": {
              "outlinewidth": 0,
              "ticks": ""
             }
            },
            "type": "scatterpolar"
           }
          ],
          "scatterpolargl": [
           {
            "marker": {
             "colorbar": {
              "outlinewidth": 0,
              "ticks": ""
             }
            },
            "type": "scatterpolargl"
           }
          ],
          "scatterternary": [
           {
            "marker": {
             "colorbar": {
              "outlinewidth": 0,
              "ticks": ""
             }
            },
            "type": "scatterternary"
           }
          ],
          "surface": [
           {
            "colorbar": {
             "outlinewidth": 0,
             "ticks": ""
            },
            "colorscale": [
             [
              0.0,
              "#0d0887"
             ],
             [
              0.1111111111111111,
              "#46039f"
             ],
             [
              0.2222222222222222,
              "#7201a8"
             ],
             [
              0.3333333333333333,
              "#9c179e"
             ],
             [
              0.4444444444444444,
              "#bd3786"
             ],
             [
              0.5555555555555556,
              "#d8576b"
             ],
             [
              0.6666666666666666,
              "#ed7953"
             ],
             [
              0.7777777777777778,
              "#fb9f3a"
             ],
             [
              0.8888888888888888,
              "#fdca26"
             ],
             [
              1.0,
              "#f0f921"
             ]
            ],
            "type": "surface"
           }
          ],
          "table": [
           {
            "cells": {
             "fill": {
              "color": "#EBF0F8"
             },
             "line": {
              "color": "white"
             }
            },
            "header": {
             "fill": {
              "color": "#C8D4E3"
             },
             "line": {
              "color": "white"
             }
            },
            "type": "table"
           }
          ]
         },
         "layout": {
          "annotationdefaults": {
           "arrowcolor": "#2a3f5f",
           "arrowhead": 0,
           "arrowwidth": 1
          },
          "coloraxis": {
           "colorbar": {
            "outlinewidth": 0,
            "ticks": ""
           }
          },
          "colorscale": {
           "diverging": [
            [
             0,
             "#8e0152"
            ],
            [
             0.1,
             "#c51b7d"
            ],
            [
             0.2,
             "#de77ae"
            ],
            [
             0.3,
             "#f1b6da"
            ],
            [
             0.4,
             "#fde0ef"
            ],
            [
             0.5,
             "#f7f7f7"
            ],
            [
             0.6,
             "#e6f5d0"
            ],
            [
             0.7,
             "#b8e186"
            ],
            [
             0.8,
             "#7fbc41"
            ],
            [
             0.9,
             "#4d9221"
            ],
            [
             1,
             "#276419"
            ]
           ],
           "sequential": [
            [
             0.0,
             "#0d0887"
            ],
            [
             0.1111111111111111,
             "#46039f"
            ],
            [
             0.2222222222222222,
             "#7201a8"
            ],
            [
             0.3333333333333333,
             "#9c179e"
            ],
            [
             0.4444444444444444,
             "#bd3786"
            ],
            [
             0.5555555555555556,
             "#d8576b"
            ],
            [
             0.6666666666666666,
             "#ed7953"
            ],
            [
             0.7777777777777778,
             "#fb9f3a"
            ],
            [
             0.8888888888888888,
             "#fdca26"
            ],
            [
             1.0,
             "#f0f921"
            ]
           ],
           "sequentialminus": [
            [
             0.0,
             "#0d0887"
            ],
            [
             0.1111111111111111,
             "#46039f"
            ],
            [
             0.2222222222222222,
             "#7201a8"
            ],
            [
             0.3333333333333333,
             "#9c179e"
            ],
            [
             0.4444444444444444,
             "#bd3786"
            ],
            [
             0.5555555555555556,
             "#d8576b"
            ],
            [
             0.6666666666666666,
             "#ed7953"
            ],
            [
             0.7777777777777778,
             "#fb9f3a"
            ],
            [
             0.8888888888888888,
             "#fdca26"
            ],
            [
             1.0,
             "#f0f921"
            ]
           ]
          },
          "colorway": [
           "#636efa",
           "#EF553B",
           "#00cc96",
           "#ab63fa",
           "#FFA15A",
           "#19d3f3",
           "#FF6692",
           "#B6E880",
           "#FF97FF",
           "#FECB52"
          ],
          "font": {
           "color": "#2a3f5f"
          },
          "geo": {
           "bgcolor": "white",
           "lakecolor": "white",
           "landcolor": "#E5ECF6",
           "showlakes": true,
           "showland": true,
           "subunitcolor": "white"
          },
          "hoverlabel": {
           "align": "left"
          },
          "hovermode": "closest",
          "mapbox": {
           "style": "light"
          },
          "paper_bgcolor": "white",
          "plot_bgcolor": "#E5ECF6",
          "polar": {
           "angularaxis": {
            "gridcolor": "white",
            "linecolor": "white",
            "ticks": ""
           },
           "bgcolor": "#E5ECF6",
           "radialaxis": {
            "gridcolor": "white",
            "linecolor": "white",
            "ticks": ""
           }
          },
          "scene": {
           "xaxis": {
            "backgroundcolor": "#E5ECF6",
            "gridcolor": "white",
            "gridwidth": 2,
            "linecolor": "white",
            "showbackground": true,
            "ticks": "",
            "zerolinecolor": "white"
           },
           "yaxis": {
            "backgroundcolor": "#E5ECF6",
            "gridcolor": "white",
            "gridwidth": 2,
            "linecolor": "white",
            "showbackground": true,
            "ticks": "",
            "zerolinecolor": "white"
           },
           "zaxis": {
            "backgroundcolor": "#E5ECF6",
            "gridcolor": "white",
            "gridwidth": 2,
            "linecolor": "white",
            "showbackground": true,
            "ticks": "",
            "zerolinecolor": "white"
           }
          },
          "shapedefaults": {
           "line": {
            "color": "#2a3f5f"
           }
          },
          "ternary": {
           "aaxis": {
            "gridcolor": "white",
            "linecolor": "white",
            "ticks": ""
           },
           "baxis": {
            "gridcolor": "white",
            "linecolor": "white",
            "ticks": ""
           },
           "bgcolor": "#E5ECF6",
           "caxis": {
            "gridcolor": "white",
            "linecolor": "white",
            "ticks": ""
           }
          },
          "title": {
           "x": 0.05
          },
          "xaxis": {
           "automargin": true,
           "gridcolor": "white",
           "linecolor": "white",
           "ticks": "",
           "title": {
            "standoff": 15
           },
           "zerolinecolor": "white",
           "zerolinewidth": 2
          },
          "yaxis": {
           "automargin": true,
           "gridcolor": "white",
           "linecolor": "white",
           "ticks": "",
           "title": {
            "standoff": 15
           },
           "zerolinecolor": "white",
           "zerolinewidth": 2
          }
         }
        },
        "title": {
         "text": "Velocity Magnitude vs Experimental"
        },
        "width": 1605,
        "xaxis": {
         "anchor": "y",
         "domain": [
          0.0,
          0.475
         ]
        },
        "xaxis2": {
         "anchor": "y2",
         "domain": [
          0.525,
          1.0
         ]
        },
        "yaxis": {
         "anchor": "x",
         "domain": [
          0.0,
          1.0
         ]
        },
        "yaxis2": {
         "anchor": "x2",
         "domain": [
          0.0,
          1.0
         ],
         "matches": "y",
         "showticklabels": false
        }
       }
      },
      "text/html": "<div>\n        \n        \n            <div id=\"cca95c00-391a-4426-9d00-ff6d77ba3892\" class=\"plotly-graph-div\" style=\"height:600px; width:1605px;\"></div>\n            <script type=\"text/javascript\">\n                require([\"plotly\"], function(Plotly) {\n                    window.PLOTLYENV=window.PLOTLYENV || {};\n                    \n                if (document.getElementById(\"cca95c00-391a-4426-9d00-ff6d77ba3892\")) {\n                    Plotly.newPlot(\n                        'cca95c00-391a-4426-9d00-ff6d77ba3892',\n                        [{\"line\": {\"dash\": \"dash\", \"width\": 5}, \"marker\": {\"color\": \"red\", \"line\": {\"color\": \"red\"}, \"size\": 7, \"symbol\": \"triangle-right\"}, \"mode\": \"lines\", \"name\": \"SBES-ASCII\", \"showlegend\": false, \"type\": \"scatter\", \"x\": [0.004006315132562008, 0.004035238232972117, 0.004056513976941254, 0.004074573523937696, 0.004096291446327512, 0.004153872578805947, 0.004197247054001896, 0.004206311818406912, 0.004326620294697583, 0.004329752003591482, 0.00438376319033238, 0.0044175871555896026, 0.004507801913979152, 0.004515195437021271, 0.0048613589778753385, 0.0050381356821401, 0.005214912374159849, 0.0053916890703532595, 0.005745242635343107, 0.005922019319550215, 0.0060987960116734435, 0.006452349396006181, 0.006629126112257259, 0.006805902796395414, 0.006982679480533487, 0.0073362328728513735, 0.00751300958103113, 0.007689786257166873, 0.007866562965329386, 0.008220116349506914, 0.008396893057790159, 0.008573669741859294, 0.008927223150250928, 0.009103999818229076, 0.009280776518423704, 0.009457553218463123, 0.00981110661083276, 0.009987883303145728, 0.010164660019241644, 0.010341436695498123, 0.010694990087833277, 0.010871766787907168, 0.011048543367721169, 0.011225320268596194, 0.011578873540602441, 0.011755650288949312, 0.01193242702120525, 0.01210920365720838, 0.012462757089710631, 0.012639533757775049, 0.012816310457814444, 0.012993087126016772, 0.013346640526388854, 0.013523417242467492, 0.013700193942679382, 0.013876970610743809, 0.014230524028983175, 0.014407300710655088, 0.014584077427682338, 0.014760854127980425, 0.01511440749615324, 0.015291184165235184, 0.015467960929345366, 0.01564473757945616, 0.015821514280444142, 0.015998290965737794, 0.01635184434960492, 0.016528621017652068, 0.016882174464986344, 0.01705895114907275, 0.017235727835573658, 0.01741250454932405, 0.017589281233927855, 0.017942834634006696, 0.018119611284979808, 0.018296388003041838, 0.018473164719724128, 0.018826718103246327, 0.01900349478698781, 0.01918027147090174, 0.019357048186894186, 0.019710601603874604, 0.01988737827140436, 0.020064154957042956, 0.020417708372471203, 0.02059448502447909, 0.020771261741161392, 0.02094803845715384, 0.02130159182618897, 0.021478368509930446, 0.021655145225405497, 0.02183192192673841, 0.022185475054839827, 0.022362251848614, 0.02253902845405636, 0.022715804993617063, 0.023069358265381902, 0.02324613506139813, 0.023422911826715544, 0.023599688652568226, 0.02395324189501406, 0.02413001852856821, 0.024306795199029882, 0.024483571899155523, 0.024837125491532858, 0.02501390209663029, 0.025190678763470208, 0.025367455432034773, 0.02572100876743922, 0.025897785532584188, 0.026074562330325044, 0.026251338964913988, 0.026590804313810768, 0.02659632068968135, 0.02672879009491241, 0.02680587886240017, 0.02685939366630038, 0.026945710417353986, 0.0270682154933973, 0.02729725464888133, 0.0273990761906888, 0.027500900312918616, 0.027602724467226936, 0.027806370131264226, 0.027908194285572542, 0.028010018439880862, 0.028111839949609824, 0.02831548825822646, 0.028417309846254575, 0.02851913392226375, 0.02862095807657207, 0.028824603754751495, 0.028926427894917683, 0.029028252049226006, 0.029130073637254107, 0.029333721881713737, 0.029435546021879932, 0.02953715153877151, 0.029609125194454168, 0.02981023941621481, 0.02984537145095264, 0.02987661280033262, 0.0299026595453081, 0.029942472577957305, 0.029957561083566377, 0.029970134021963427, 0.02998061540921242], \"xaxis\": \"x\", \"y\": [1.0452992086829267, 1.0377626866280487, 1.0273166387317074, 1.0148296744536585, 0.9961959928756096, 0.9361975280414634, 0.9340256218899999, 0.8645618239806451, 0.78682861052, 0.7390801472428572, 0.79834971951, 0.75734953366, 0.6560728911428572, 0.7254755997600001, 0.6380296684243904, 0.6308416509170731, 0.619883264607317, 0.6080387442951221, 0.6032594681512196, 0.6061787502512195, 0.6069584240536585, 0.6080309654609757, 0.6154426035390244, 0.6302363392585366, 0.6483376453390244, 0.6889963811390244, 0.7124973573341463, 0.7215021425170732, 0.7239385569243902, 0.7538683046390244, 0.7729064040682927, 0.7951577536609755, 0.8890605822390244, 0.8849288248999999, 0.8983559555487804, 0.9562138667463416, 1.2041458285487805, 1.3879374877902442, 1.5603415168439023, 1.7587032403414635, 2.0257468904780493, 2.1248886474439024, 2.210172365148781, 2.250507429365854, 2.2992291470243904, 2.3433710808536583, 2.3918052754146344, 2.462508040682927, 2.5533634733902444, 2.55843203202439, 2.5954438678536587, 2.6857927331951217, 2.811015019609756, 2.8569697434146337, 2.9087255969268293, 2.971458830829268, 3.0849663927317077, 3.1283803640487804, 3.1720263415121948, 3.2296179442195125, 3.3323121980487804, 3.3723750560975607, 3.4085379614390243, 3.442101546609756, 3.484891884268293, 3.534427275707317, 3.6506395206585367, 3.7064673852439034, 3.7946538030487797, 3.8402753542682926, 3.891091587219512, 3.94482197595122, 4.001037804390244, 4.119518002341463, 4.177939347463414, 4.231584523195122, 4.282765777195122, 4.387938336780486, 4.4365527665609745, 4.486141164878049, 4.53913883395122, 4.658339380682927, 4.718150372512195, 4.77829402897561, 4.905657898682927, 4.967386357024392, 5.026745715365854, 5.077461295341463, 5.166346596268292, 5.223156890487805, 5.267715308487804, 5.304853733463414, 5.345977262414634, 5.363743110853658, 5.377593713292684, 5.404438969902438, 5.444928305, 5.458413573585366, 5.483224539560974, 5.518787413292682, 5.5194330826829265, 5.5234465880731705, 5.504932774609755, 5.48402585, 5.480590460804878, 5.503343659170731, 5.491169562463415, 5.4419704484634135, 5.467511803317073, 5.461892769878047, 5.449522679268292, 5.39769047597561, 5.38438630355, 5.38060730152381, 5.360930895365853, 5.354606129146341, 5.323320509073171, 5.3056090607560975, 5.261457548170732, 5.222481686073171, 5.188189351804878, 5.149726878512196, 5.112556184024389, 5.032374761804879, 4.985883832902439, 4.951138055243902, 4.916709227878049, 4.86064080897561, 4.818005411780488, 4.790192035317073, 4.754975245853658, 4.6882319581951215, 4.658091996414634, 4.613843596707317, 4.602008438658536, 4.600431048097562, 4.6035492344878035, 4.613775693292683, 4.602177778804878, 4.423215877243902, 4.130215493951218, 3.774657503097561, 3.3014775279268296, 2.1955277996829268, 1.6649317410731703, 1.1914397144292683, 0.7830530778390243], \"yaxis\": \"y\"}, {\"line\": {\"dash\": \"dot\", \"width\": 5}, \"marker\": {\"color\": \"green\", \"line\": {\"color\": \"green\"}, \"size\": 7, \"symbol\": \"x\"}, \"mode\": \"lines\", \"name\": \"IDDES-ASCII\", \"showlegend\": false, \"type\": \"scatter\", \"x\": [0.004006315132562008, 0.004035238224935244, 0.0040565139689043815, 0.004096291458382821, 0.004122420412127324, 0.004197247054001896, 0.004206311829036324, 0.004326620294697583, 0.004329752003591482, 0.00438376319033238, 0.004515195437021271, 0.004684582273714052, 0.0048613589778753385, 0.005214912374159849, 0.0053916890703532595, 0.005745242635343107, 0.005922019319550215, 0.006275572719922158, 0.006452349396006181, 0.006805902796395414, 0.006982679480533487, 0.0073362328728513735, 0.00751300958103113, 0.007866562965329386, 0.00804333965740091, 0.008396893057790159, 0.008750446433999805, 0.008927223150250928, 0.009280776518423704, 0.009457553218463123, 0.00981110661083276, 0.009987883303145728, 0.010341436695498123, 0.010518213395554782, 0.010871766787907168, 0.011048543367721169, 0.011402096920707571, 0.011578873540602441, 0.01193242702120525, 0.01210920365720838, 0.012462757089710631, 0.012639533757775049, 0.012993087126016772, 0.013169863890316729, 0.013523417242467492, 0.013700193942679382, 0.014053747326994931, 0.014230524028983175, 0.014584077427682338, 0.014760854127980425, 0.01511440749615324, 0.015291184165235184, 0.01564473757945616, 0.015821514280444142, 0.016175067679488175, 0.01635184434960492, 0.016705397749511294, 0.016882174464986344, 0.017235727835573658, 0.01741250454932405, 0.017766057918359182, 0.017942834634006696, 0.018296388003041838, 0.018473164719724128, 0.018826718103246327, 0.01900349478698781, 0.019357048186894186, 0.01953382487236031, 0.01988737827140436, 0.020064154957042956, 0.020417708372471203, 0.02059448502447909, 0.02094803845715384, 0.021124815188323216, 0.021478368509930446, 0.021655145225405497, 0.02200869859392324, 0.022185475054839827, 0.02253902845405636, 0.022715804993617063, 0.023069358265381902, 0.02324613506139813, 0.023599688652568226, 0.023776465291296348, 0.02413001852856821, 0.024306795199029882, 0.0246603487269053, 0.024837125491532858, 0.025190678763470208, 0.025367455432034773, 0.02572100876743922, 0.025897785532584188, 0.026251338964913988, 0.02642811566469473, 0.026728790030755404, 0.026805878926557173, 0.026945710417353986, 0.0270682154933973, 0.02729725464888133, 0.027500900312918616, 0.027602724467226936, 0.027806370131264226, 0.027908194285572542, 0.028111839949609824, 0.028213664103918144, 0.0284173124125348, 0.02851913392226375, 0.0287227822308804, 0.028824603754751495, 0.028926427894917683, 0.02913007613937732, 0.029231897727405424, 0.029435543391442706, 0.02953715153877151, 0.029726148487953626, 0.02981023941621481, 0.02987661280033262, 0.0299026595453081, 0.029942472513800288, 0.029957561083566377, 0.029980615473714355, 0.029992993419483107], \"xaxis\": \"x\", \"y\": [1.045636644707317, 1.0400184790097562, 1.0315560878853658, 1.0051559121487803, 0.9824071463219513, 0.95076125754, 0.881576957183871, 0.82138220382, 0.744401120047619, 0.75377136333, 0.6754142114849999, 0.6001017842634147, 0.5667411983146342, 0.5563314636780488, 0.5482999570243903, 0.5511764835756098, 0.5564034093975609, 0.5629055984439024, 0.5597226116146342, 0.5617797745512195, 0.5789178145560976, 0.6286457123731707, 0.6505895084804878, 0.7115938464878049, 0.7474935090390245, 0.785107970497561, 0.8068515430243903, 0.8146577241585365, 0.9562749492243902, 1.0450911969926828, 1.2511465556390244, 1.399134938392683, 1.7289048863219512, 1.8919935846146343, 2.0928113338609755, 2.176376794912195, 2.314112920097561, 2.350475776, 2.3707813114390244, 2.407808466, 2.552852279, 2.6478877201219517, 2.7586908735365854, 2.8059339112439026, 2.877516901195122, 2.926960585170732, 3.046007392707317, 3.095654623975609, 3.2009931292439027, 3.245619531536585, 3.3325516335121947, 3.366611194292682, 3.435868408560976, 3.479912204512195, 3.5608592655121947, 3.6028608547073167, 3.6858025770731695, 3.7297558396097563, 3.8496736312926827, 3.9169905206829267, 4.0358162990975615, 4.092321047292683, 4.20729075204878, 4.266868285170732, 4.3870221614146345, 4.446512374682927, 4.5609040324390255, 4.6141395809512185, 4.707780972390244, 4.757386834121951, 4.862863726634147, 4.923863129634147, 5.052073143487805, 5.101736208195122, 5.206911540609756, 5.266784197243903, 5.3604530413658535, 5.4006408057560975, 5.476517809951219, 5.508855264585367, 5.498271020853657, 5.472482395878049, 5.4839490945121945, 5.498325660829269, 5.5329853467317065, 5.530584207170732, 5.473172762097561, 5.435309576536587, 5.4362809538780485, 5.441556164, 5.401432990902438, 5.378328715853659, 5.331412680170732, 5.3006090378536594, 5.290754457097561, 5.293730854926829, 5.259471963243902, 5.242526665390244, 5.198569994634147, 5.176847974439024, 5.156464830707316, 5.056828103902438, 4.974707079804879, 4.8488562660975605, 4.836244478853659, 4.792305502097562, 4.754835743390244, 4.710361808634146, 4.693586132536585, 4.685953255414634, 4.6562048690731705, 4.640323827658537, 4.656963570512195, 4.686651692317073, 4.708201970756098, 4.629028062268293, 3.9427341043658535, 3.4362206219756097, 2.283000198902439, 1.7368052206268294, 0.8229099009780488, 0.30686585404085365], \"yaxis\": \"y\"}, {\"line\": {\"dash\": \"dashdot\", \"width\": 5}, \"marker\": {\"color\": \"blue\", \"line\": {\"color\": \"blue\"}, \"size\": 7, \"symbol\": \"circle\"}, \"mode\": \"lines\", \"name\": \"KW-SST-ASCII\", \"showlegend\": false, \"type\": \"scatter\", \"x\": [0.004006314799649237, 0.0040352372597983, 0.0040745715880638675, 0.0041224168547903855, 0.004197246922197193, 0.0043297926523386265, 0.004383763322137084, 0.00441758708968725, 0.004684582411255817, 0.005038135810475703, 0.005391689176567628, 0.005745242764973886, 0.006098796131242592, 0.006275572888623232, 0.006629126304247997, 0.0069826796704813435, 0.007336233069559842, 0.00768978640287743, 0.00804333978544502, 0.008396893184629623, 0.008750446550863036, 0.009103999950047608, 0.009457553349055414, 0.0098111067317644, 0.010164660147389213, 0.010518213497182396, 0.010871766879891406, 0.011225320509486752, 0.011755650353192556, 0.01210920380176863, 0.012462757250344576, 0.012816310501178213, 0.013169864147319823, 0.01352341723368041, 0.013876970912631835, 0.014230524001431863, 0.014584077711637453, 0.014937630862875013, 0.015291184378272682, 0.0156447376921448, 0.015998291111022377, 0.016351844494190988, 0.016705397842711404, 0.017058951289873232, 0.017412504640161367, 0.017766058089444557, 0.01811961140473088, 0.018473164822547832, 0.01882671826970956, 0.019180271552469097, 0.019533825036046875, 0.019887378384920863, 0.020240931801677072, 0.020594485150904583, 0.02094803853301259, 0.02130159204841018, 0.021655145265762312, 0.022008698814393927, 0.02253902855839772, 0.02289258161099391, 0.02324613512568448, 0.023599688968472525, 0.02395324202177581, 0.02430679507684696, 0.02466034891963502, 0.025013902370332342, 0.025367455488335938, 0.02572100867280761, 0.0260745626495924, 0.02642811589876428, 0.02659080391924516, 0.02659613272827404, 0.026806008097805815, 0.026945710417353986, 0.02720748185686613, 0.027399077473828932, 0.027602724467226936, 0.02780637013126422, 0.02801001843988087, 0.028213664103918144, 0.028417312412534795, 0.02862095807657207, 0.028824603754751495, 0.029028252049226003, 0.02923189772740542, 0.029435546021879932, 0.029609125194454168, 0.02981023941621481, 0.029876612800332613, 0.029924373083359924, 0.029957561083566377, 0.02998061540921242], \"xaxis\": \"x\", \"y\": [1.0459018368500002, 1.04127792354, 1.02372391382, 0.987566293415, 0.9615004870799999, 0.8618913467399999, 0.86492043688, 0.8006489535600001, 0.771301635125, 0.728237353285, 0.691037075185, 0.66026150291, 0.6388981221600001, 0.631829067005, 0.6234825747449999, 0.622959771155, 0.6313558435000001, 0.648130025215, 0.6683827714249999, 0.686932298425, 0.7207910920049999, 0.71290893902, 0.872645181165, 1.19826214329, 1.508313084, 1.8540024403, 2.13053611845, 2.3010088249000002, 2.4069811553, 2.52911183565, 2.65201284325, 2.7846105571, 2.9384921679, 3.04064571355, 3.1073741530500003, 3.1633290725, 3.2184172130999995, 3.2782694366000005, 3.34981539255, 3.4342912459500003, 3.5248413336, 3.61829901085, 3.7157990199, 3.81822965125, 3.9251830914999997, 4.0364591498, 4.15558247125, 4.2836149394000005, 4.4129457332, 4.53737386, 4.6524687181000015, 4.7613612272, 4.87045051675, 4.9734375550499985, 5.075422113749998, 5.1721427467500005, 5.26958757315, 5.369717970700001, 5.5163785883, 5.5750658842, 5.59275641595, 5.584305716549999, 5.5555658459, 5.5028575144500005, 5.431056255750001, 5.3495656705000005, 5.2697018495000005, 5.21113297575, 5.165747952, 5.131765458349999, 5.0084031586, 5.2325394555, 5.1102734959500005, 5.10625499255, 5.1002503032, 5.09357579035, 5.07709624005, 5.049834103, 5.0116702071, 4.9611256117, 4.89504480225, 4.8120023678, 4.7133276220499996, 4.6069133822, 4.5075506225, 4.4184974807, 4.29261037225, 4.0523844261500015, 3.6044592232999997, 2.80758965105, 1.7821881122, 0.8490285302749999], \"yaxis\": \"y\"}, {\"marker\": {\"color\": \"black\", \"line\": {\"color\": \"black\", \"width\": 5}, \"size\": 7, \"symbol\": \"circle\"}, \"mode\": \"markers+lines\", \"name\": \"Experimental-Mean\", \"showlegend\": false, \"type\": \"scatter\", \"x\": [0.008485280999999999, 0.008909545, 0.00933381, 0.009758074, 0.010182338, 0.010606602, 0.011030866, 0.01145513, 0.011879394, 0.012303658, 0.012727922, 0.013152186000000001, 0.01357645, 0.014000714, 0.014424978, 0.014849242, 0.015273506000000001, 0.015697771, 0.016122035, 0.016546299, 0.016970563, 0.017394826999999998, 0.017819091000000002, 0.018243355, 0.018667619, 0.019091883, 0.019516147, 0.019940411, 0.020364675, 0.020788939, 0.021213202999999996, 0.021637467999999997, 0.022061732, 0.022485996, 0.02291026, 0.023334524, 0.023758788, 0.024183052000000003, 0.024607316, 0.02503158, 0.025455844, 0.025880108, 0.026304372000000003, 0.026728636, 0.0271529, 0.027577163999999998, 0.028001428999999998, 0.028425693, 0.028849957000000002, 0.029274221, 0.029698485], \"xaxis\": \"x\", \"y\": [0.772596471, 0.8215334790000001, 0.9620875740000001, 1.145936736, 1.364265425, 1.5914059569999999, 1.838319438, 2.100484186, 2.311572186, 2.45438738, 2.583415753, 2.7079352460000004, 2.836396872, 2.976140931, 3.127551713, 3.2629951910000004, 3.398366031, 3.51651674, 3.626573576, 3.7459481119999998, 3.857344414, 3.946734535, 4.01807317, 4.113099691, 4.231007553, 4.339557142, 4.417160236, 4.4499874319999995, 4.502662314, 4.58027178, 4.673343609, 4.721134329, 4.781326548, 4.839278, 4.909591092, 5.02074711, 5.1493596219999995, 5.269731581, 5.357850011, 5.406321827999999, 5.40030105, 5.314902668999999, 5.1150325610000005, 4.861499968, 4.644570132, 4.497446114, 4.453832278999999, 4.480541552, 4.565164788, 4.388353222, 3.277908052], \"yaxis\": \"y\"}, {\"line\": {\"dash\": \"dash\", \"width\": 5}, \"marker\": {\"color\": \"red\", \"line\": {\"color\": \"red\"}, \"size\": 7, \"symbol\": \"triangle-right\"}, \"mode\": \"lines\", \"name\": \"SBES-ASCII\", \"showlegend\": false, \"type\": \"scatter\", \"x\": [0.004018581608275877, 0.004035238347411313, 0.004056513334474382, 0.004074572158600734, 0.004122417296097451, 0.004153868169736469, 0.004197247021050721, 0.004206363439802267, 0.004274593797457283, 0.004326620294697583, 0.004329833239789787, 0.00438376319033238, 0.0044175872214919564, 0.004684582358032298, 0.004861359054173951, 0.005038135746383409, 0.0052149124464400285, 0.005568465887030811, 0.005745242707640523, 0.005922019399850015, 0.006098796083936366, 0.006452349484325599, 0.006629126184537433, 0.00680590286865834, 0.006982679552813658, 0.007336232945114286, 0.0075130096452744235, 0.007689786329464279, 0.007866563045629174, 0.008220116413750195, 0.008396893114013811, 0.008573669814122206, 0.008750446522336459, 0.008927223198454955, 0.009280776614814476, 0.009457553282706406, 0.009634329991110364, 0.009811106683095658, 0.010164660067445671, 0.010341436767778284, 0.010518213475854559, 0.01069499016011343, 0.01104854343196445, 0.011225320332839465, 0.011402097001007352, 0.011578873636975963, 0.011932427117578763, 0.012109203753581894, 0.012285980405641486, 0.012462757153971157, 0.01281631052205772, 0.012993087190260063, 0.013169863954577251, 0.013346640606705882, 0.013700193974775166, 0.013876970723156568, 0.01405374740731195, 0.01423052406106172, 0.014584077459760859, 0.014760854208176716, 0.014937630891745724, 0.015114407560482747, 0.015467960961423903, 0.015644737675864166, 0.015821514344601183, 0.01599829104593408, 0.016351844446012932, 0.01652862111406008, 0.016705397813840797, 0.016882174529315848, 0.01705895121322979, 0.017235727899903158, 0.017412504629692804, 0.0175892813301634, 0.01794283468212448, 0.01811961138138781, 0.018296388083238115, 0.018473164832171388, 0.018826718167575838, 0.01900349488339581, 0.019180271535058788, 0.01935704823501197, 0.019710601668204108, 0.01988737833590633, 0.0200641550374117, 0.02024093175288676, 0.02059448510467537, 0.020771261789279183, 0.020948038537522584, 0.021124815236441004, 0.0214783685902992, 0.02165514530577425, 0.02183192200710717, 0.02200869869033123, 0.02236225188069254, 0.0225390284861349, 0.022715805057774083, 0.02289258169270796, 0.023246135189712167, 0.023422911955202057, 0.02359968868464676, 0.023776465355625845, 0.024130018624976192, 0.024306795263359368, 0.02448357199556352, 0.02466034879123479, 0.02501390219303829, 0.02536745552844277, 0.025544232228913367, 0.025721008863847226, 0.02589778566124316, 0.026251339029071025, 0.026428115696945725, 0.026590782895714732, 0.026596132596752173, 0.026728740430491543, 0.02684491359020378, 0.02692681012432692, 0.027105894845476413, 0.027208011324281748, 0.027309835478590068, 0.02741165698831903, 0.02761530529693567, 0.027717126820806768, 0.02781895097511509, 0.027920775115281283, 0.0281244207934607, 0.028226244947769017, 0.028328069087935205, 0.02842989317808652, 0.028633538920422943, 0.02873536306058913, 0.028837184584460232, 0.02893900873876855, 0.029142654402805838, 0.02924447855711415, 0.02934630271142248, 0.029448124221151437, 0.02962996944371349, 0.02970974288317244, 0.029738049767694757, 0.029792550913809262, 0.029876062246992782, 0.029902224915053982, 0.029924033276125164, 0.029942214363256617, 0.02996999967167501, 0.029980528491646875, 0.029992959174301694], \"xaxis\": \"x2\", \"y\": [1.0005960333463415, 0.9622259558365852, 0.9137790479658536, 0.8735991630609756, 0.7762943226926828, 0.7228610088609756, 0.6499156774, 0.6542834848322581, 0.59061874717, 0.54774902213, 0.5688087427857142, 0.5344591830600001, 0.53290692508, 0.530936079797561, 0.5416764878536585, 0.5389516288560975, 0.532154490390244, 0.5316927754390244, 0.5351510514341463, 0.5427087157975611, 0.5512095429585365, 0.5827331074756098, 0.5968961711439025, 0.6041908946, 0.6093924779658537, 0.6314778637048779, 0.6301284894243903, 0.6547044614609756, 0.7084230083317072, 0.95889963817561, 1.0824918328804878, 1.2244343716658537, 1.4103684576365854, 1.5437920493487804, 1.8004832532682926, 1.911855470170732, 2.0221148107317077, 2.149525726414634, 2.33336830095122, 2.415002962268293, 2.495646755634146, 2.572676436634146, 2.6315667378048784, 2.6669446861219512, 2.7253968437804885, 2.7899492190487805, 2.879962785731707, 2.913784604, 2.933257514317073, 2.9629825900487807, 3.0330924855121952, 3.0859858878536586, 3.1597793649268286, 3.238885277756097, 3.3743122050487804, 3.424729001463415, 3.464927844170732, 3.513153157219512, 3.624827227219512, 3.686451408756097, 3.757599073097561, 3.826742710268293, 3.956337698390244, 4.017707537853658, 4.078381943707317, 4.140763179560976, 4.2594276707560965, 4.319488455487805, 4.3784851784146355, 4.434717999658536, 4.488444380292684, 4.5446326660487815, 4.606984022512195, 4.673661045365853, 4.80627077502439, 4.868961358609756, 4.929788183341462, 4.989605897780487, 5.099519589365854, 5.154315475853658, 5.214548253463415, 5.2739088255365845, 5.390973911634146, 5.438657274292684, 5.463396795292684, 5.490114767804878, 5.551704945390243, 5.588057077609756, 5.604588086487805, 5.61650342692683, 5.672663326292683, 5.664367485146341, 5.6530466570487805, 5.619369704682927, 5.642001917000001, 5.642368357951219, 5.674933602975608, 5.6760770772682925, 5.6973999305365846, 5.673389783756098, 5.644553679390245, 5.60683697404878, 5.551134944878048, 5.522591491902438, 5.472950947585366, 5.434351029853659, 5.476322887487805, 5.4896567321951215, 5.455776010390244, 5.385084507731707, 5.34019133102439, 5.17809343997561, 5.0929524574146345, 4.93498057852381, 4.95613940285, 4.880130836073171, 4.8237789334146335, 4.762051375121953, 4.63116474714634, 4.556789644756098, 4.5264213555853665, 4.486905327317073, 4.475069321146342, 4.472970095609756, 4.435891665048781, 4.415360881170731, 4.3478969429268295, 4.294739647463413, 4.259986298634146, 4.245023441829268, 4.294696118951219, 4.333612532121951, 4.372259588414634, 4.4093197239999995, 4.477209272487805, 4.4940771118536595, 4.508886930341464, 4.522282619170731, 4.394271718560976, 4.292867243634147, 4.263128066341464, 3.9826339948048783, 3.113988833487805, 2.660579074, 2.1911874304634145, 1.733423574904878, 0.9363431332414632, 0.6157776254268293, 0.2294841369963415], \"yaxis\": \"y2\"}, {\"line\": {\"dash\": \"dot\", \"width\": 5}, \"marker\": {\"color\": \"green\", \"line\": {\"color\": \"green\"}, \"size\": 7, \"symbol\": \"x\"}, \"mode\": \"lines\", \"name\": \"IDDES-ASCII\", \"showlegend\": false, \"type\": \"scatter\", \"x\": [0.004006316252929586, 0.004018581660515546, 0.004056513334474382, 0.004074572174674478, 0.0041224172639499615, 0.0041538681617340895, 0.004197246988099546, 0.004274593764647528, 0.004326620294697583, 0.0043298332319442676, 0.0044175872214919564, 0.004507802062943135, 0.004515195437021271, 0.004861359054173951, 0.005038135746383409, 0.005391689142616193, 0.005568465887030811, 0.005922019399850015, 0.006098796083936366, 0.006452349484325599, 0.006629126184537433, 0.006982679552813658, 0.007159456244936938, 0.0075130096452744235, 0.007689786329464279, 0.008043339737683449, 0.008220116413750195, 0.008573669814122206, 0.008750446522336459, 0.009103999890509232, 0.009280776614814476, 0.009634329991110364, 0.009811106683095658, 0.010164660067445671, 0.010341436767778284, 0.01069499016011343, 0.010871766836111194, 0.011225320332839465, 0.011402097001007352, 0.011755650337153338, 0.011932427117578763, 0.012285980405641486, 0.012462757153971157, 0.01281631052205772, 0.012993087190260063, 0.013346640606705882, 0.013523417338823764, 0.013876970723156568, 0.01405374740731195, 0.014407300791023847, 0.014584077459760859, 0.014937630891745724, 0.015114407560482747, 0.015467960961423903, 0.015821514344601183, 0.01599829104593408, 0.016351844446012932, 0.01652862111406008, 0.016882174529315848, 0.01705895121322979, 0.017412504629692804, 0.0175892813301634, 0.01794283468212448, 0.01811961138138781, 0.018473164832171388, 0.018649941467450176, 0.01900349488339581, 0.019180271535058788, 0.019533824968595848, 0.019710601668204108, 0.0200641550374117, 0.02024093175288676, 0.02059448510467537, 0.020771261789279183, 0.021124815236441004, 0.0213015918582675, 0.02165514530577425, 0.02183192200710717, 0.02218547511916932, 0.02236225188069254, 0.022715805057774083, 0.02289258169270796, 0.023246135189712167, 0.023422911955202057, 0.023776465355625845, 0.023953241959343542, 0.024306795263359368, 0.02448357199556352, 0.02483712555568991, 0.025190678859878208, 0.02536745552844277, 0.025721008863847226, 0.02589778566124316, 0.026251339029071025, 0.026590782895714732, 0.026728740558805555, 0.02684491359020378, 0.02692680755804669, 0.027105897411756633, 0.027208011324281748, 0.02741165698831903, 0.02751348114262735, 0.027717126820806768, 0.02781895097511509, 0.02802259663915237, 0.02812442342389793, 0.028328069087935205, 0.028429890611806306, 0.028633538920422943, 0.02873536306058913, 0.02893900873876855, 0.029040832893076875, 0.02924447855711415, 0.02934630008098525, 0.029550190729237938, 0.02962996944371349, 0.029738049767694757, 0.029792550913809262, 0.029876062246992782, 0.029902224915053982, 0.029942214363256617, 0.0299573687929483, 0.029980528491646875, 0.029992959174301694], \"xaxis\": \"x2\", \"y\": [1.0309015739219514, 1.0049775779902441, 0.9239456347829268, 0.8851790002121951, 0.788203630792683, 0.7334725698170732, 0.67347517249, 0.62432276009, 0.59959977155, 0.5537738949952381, 0.5646161405100001, 0.5374021000428572, 0.58060982447, 0.5715770721853659, 0.5516703962, 0.5320844461682928, 0.5290321338780488, 0.5388170606780488, 0.5570813425658536, 0.5902768142243903, 0.5951205908243902, 0.6038152356219512, 0.6058410783609756, 0.6289023592926829, 0.6556083178853659, 0.8179601309268292, 0.9355203530097559, 1.2886196397268297, 1.4955854058414637, 1.8173158336341464, 1.9958075039512195, 2.068102320390244, 2.1092396220975607, 2.3197311250975607, 2.3756567316585366, 2.4757683164878053, 2.5389484325609755, 2.6630764334390244, 2.7293166836097558, 2.849982916512195, 2.9019649201951223, 2.986122217975609, 3.021721099707317, 3.06660240995122, 3.1053654123170733, 3.196102909512196, 3.2404092290731707, 3.340295351170732, 3.4020962308780485, 3.5293283490731704, 3.594966676463415, 3.7144164675365854, 3.7655800847073166, 3.89633296397561, 4.0362483111707315, 4.09778029490244, 4.225902992121951, 4.293270092268293, 4.4282176898292684, 4.493015307853658, 4.611366991219511, 4.666326569390244, 4.778777758487805, 4.839199164, 4.961220627390244, 5.0220004786829255, 5.145646550463415, 5.214848861804878, 5.356562780170732, 5.4178223587317085, 5.525952009829268, 5.569660099414634, 5.6341852090487805, 5.653296170926829, 5.67514974407317, 5.690041572268293, 5.7219070305365864, 5.731546985, 5.730694540268292, 5.6979224254146335, 5.704797001439025, 5.706362784780487, 5.682573078390244, 5.672191616439023, 5.6215744709756095, 5.587674342219511, 5.57089815302439, 5.556964829560976, 5.531426096463416, 5.469181921121951, 5.437833989463416, 5.3823003389999995, 5.314112906, 5.262100822829269, 5.1535041439523805, 4.993246062463415, 4.874817686902438, 4.823548952487805, 4.724472318707316, 4.666079141731708, 4.578782600268291, 4.5403791306829255, 4.4783550862682935, 4.448319049707316, 4.414710397487805, 4.408298470170732, 4.394925986219514, 4.3915231632682925, 4.385012720341464, 4.373950207560975, 4.360009978097561, 4.377997698560975, 4.428169028268293, 4.4500241024634155, 4.509675382097561, 4.4881824696829264, 4.3715556648780485, 4.128200782585366, 3.10101012497561, 2.5953544303658536, 1.6317986729756102, 1.224074720402439, 0.5741853246390244, 0.2141596887536585], \"yaxis\": \"y2\"}, {\"line\": {\"dash\": \"dashdot\", \"width\": 5}, \"marker\": {\"color\": \"blue\", \"line\": {\"color\": \"blue\"}, \"size\": 7, \"symbol\": \"circle\"}, \"mode\": \"lines\", \"name\": \"KW-SST-ASCII\", \"showlegend\": false, \"type\": \"scatter\", \"x\": [0.004018580273522146, 0.004056512552654007, 0.0040962888218092856, 0.00415386775575994, 0.004197246988099546, 0.004274593764647528, 0.004326620294697583, 0.0043297926358630496, 0.004383763256234732, 0.0045151954534969, 0.004861359102557256, 0.005214912476993053, 0.005568465991471341, 0.005922019440047281, 0.006275572888623232, 0.006629126304247997, 0.0069826796704813435, 0.007336233053084247, 0.007689786402912792, 0.008043339768969442, 0.008396893151713805, 0.00875044656730328, 0.00910399996648785, 0.009457553349020074, 0.00981110674820464, 0.010164660114473405, 0.010518213497182415, 0.010871766846975595, 0.011225320509486752, 0.011578873629010666, 0.01210920380176863, 0.012462757250344576, 0.012816310501178213, 0.01316986411440402, 0.013523417266631588, 0.013876970912631835, 0.014230523968551406, 0.01458407764587654, 0.01493763082999454, 0.015291184345392244, 0.0156447376921448, 0.015998291143902856, 0.016351844461310532, 0.01670539787559188, 0.017058951256992774, 0.017412504673041847, 0.017766058089798115, 0.01811961143761136, 0.0184731648554283, 0.018826718237182672, 0.019180271618230046, 0.019533825003166427, 0.0198873784181549, 0.02024093176844307, 0.020594485216665532, 0.0209480385330126, 0.021301592015176167, 0.02165514523288186, 0.022008698847274404, 0.02236225209715345, 0.022715805150456715, 0.023069358137292068, 0.0234229121798378, 0.02377646549724549, 0.02413001854807395, 0.02448357186724946, 0.024837125907673858, 0.02519067895956294, 0.025544232081809247, 0.02589778566120001, 0.02625133937317329, 0.02659080391924516, 0.02680600822932768, 0.02684491359020378, 0.027042866804236204, 0.027208011324281745, 0.027411656988319037, 0.02761530266649845, 0.02781895097511509, 0.02802259663915237, 0.028226242303189663, 0.028429890611806306, 0.028633538920422943, 0.028837184584460232, 0.02904083024849751, 0.02924447855711416, 0.029448124221151437, 0.02962996944371348, 0.02973804976769476, 0.029844678656012712, 0.029902224915053975, 0.029942214363256617, 0.029969999671675008, 0.029992959174301687], \"xaxis\": \"x2\", \"y\": [1.0062417670450001, 0.921873717535, 0.832242439265, 0.731827718425, 0.65053085768, 0.62842348328, 0.6426679239, 0.6710486074, 0.61743880964, 0.62782457464, 0.612306371385, 0.5758163642899999, 0.5440147134300001, 0.5208705217249999, 0.514459946115, 0.530702634395, 0.565511009575, 0.5919114695900001, 0.657035183575, 0.862965971405, 1.17980251561, 1.495529738, 1.7567362562500002, 1.97186714415, 2.1551346886, 2.30064311625, 2.4266531998, 2.54850188345, 2.67151116915, 2.8007194145499996, 2.9608982236, 3.0547486819, 3.1464954134500003, 3.2368877831500003, 3.3261578725, 3.4176121166000004, 3.5139059827, 3.6172786843, 3.7288808785, 3.8469704339999997, 3.9691792037, 4.0943609999, 4.22065521915, 4.34667661185, 4.4701491134, 4.59031345235, 4.708402647200001, 4.82542558345, 4.9410573947500005, 5.05472991355, 5.1644363331999985, 5.2685532313, 5.369036200449999, 5.468105617000001, 5.564498961749999, 5.651095654600001, 5.712283307100001, 5.7467209288, 5.7509280412, 5.7284711672, 5.677952704, 5.6165088536, 5.5649200814, 5.5108895648999985, 5.4398327716, 5.38289332335, 5.3527731332499995, 5.337468159849999, 5.31024198195, 5.2709019585000005, 5.1962679449, 5.0449380487, 5.0315704263, 4.9917586096, 4.9672919785500005, 4.8886184473, 4.7977629126, 4.70551717675, 4.6171708563000005, 4.5444573008999996, 4.5001174036, 4.481576717, 4.471211192149999, 4.4583934156, 4.45215507195, 4.4590359125, 4.431349729, 4.245023341, 4.10436406625, 3.5362381005000003, 2.7870772396, 1.8852649898500002, 1.01962139834, 0.24738993318875], \"yaxis\": \"y2\"}, {\"marker\": {\"color\": \"black\", \"line\": {\"color\": \"black\", \"width\": 5}, \"size\": 7, \"symbol\": \"circle\"}, \"mode\": \"markers+lines\", \"name\": \"Experimental\", \"showlegend\": false, \"type\": \"scatter\", \"x\": [0.010606602, 0.011030866, 0.01145513, 0.011879394, 0.012303658, 0.012727922, 0.013152186000000001, 0.01357645, 0.014000714, 0.014424978, 0.014849242, 0.015273506000000001, 0.015697771, 0.016122035, 0.016546299, 0.016970563, 0.017394826999999998, 0.017819091000000002, 0.018243355, 0.018667619, 0.019091883, 0.019516147, 0.019940411, 0.020364675, 0.020788939, 0.021213202999999996, 0.021637467999999997, 0.022061732, 0.022485996, 0.02291026, 0.023334524, 0.023758788, 0.024183052000000003, 0.024607316, 0.02503158, 0.025455844, 0.025880108, 0.026304372000000003, 0.026728636, 0.0271529, 0.027577163999999998, 0.028001428999999998, 0.028425693, 0.028849957000000002, 0.029274221, 0.029698485], \"xaxis\": \"x2\", \"y\": [1.904601915, 2.1410532840000003, 2.3612684390000003, 2.64969466, 2.864849025, 3.093463991, 3.2772236919999997, 3.42025389, 3.5370279489999996, 3.6494544280000003, 3.7265784760000003, 3.8126290710000004, 3.9064331930000002, 3.98884387, 4.078029232, 4.165333372, 4.238932779, 4.332734868, 4.401796828, 4.468630182, 4.560200138, 4.652771999, 4.735189556, 4.837473074, 4.926447776, 5.027142815, 5.142777497, 5.260640789, 5.356033428, 5.443419115, 5.526075725, 5.571616242999999, 5.576385079, 5.543400900000001, 5.428239683999999, 5.2514070330000004, 5.0809561080000005, 4.762468431, 4.512566527, 4.3658854719999995, 4.358267324, 4.421385995, 4.495984258, 4.524589858, 4.592351896, 4.148073296000001], \"yaxis\": \"y2\"}],\n                        {\"font\": {\"family\": \"Arial\", \"size\": 32}, \"height\": 600, \"legend\": {\"itemsizing\": \"constant\"}, \"template\": {\"data\": {\"bar\": [{\"error_x\": {\"color\": \"#2a3f5f\"}, \"error_y\": {\"color\": \"#2a3f5f\"}, \"marker\": {\"line\": {\"color\": \"#E5ECF6\", \"width\": 0.5}}, \"type\": \"bar\"}], \"barpolar\": [{\"marker\": {\"line\": {\"color\": \"#E5ECF6\", \"width\": 0.5}}, \"type\": \"barpolar\"}], \"carpet\": [{\"aaxis\": {\"endlinecolor\": \"#2a3f5f\", \"gridcolor\": \"white\", \"linecolor\": \"white\", \"minorgridcolor\": \"white\", \"startlinecolor\": \"#2a3f5f\"}, \"baxis\": {\"endlinecolor\": \"#2a3f5f\", \"gridcolor\": \"white\", \"linecolor\": \"white\", \"minorgridcolor\": \"white\", \"startlinecolor\": \"#2a3f5f\"}, \"type\": \"carpet\"}], \"choropleth\": [{\"colorbar\": {\"outlinewidth\": 0, \"ticks\": \"\"}, \"type\": \"choropleth\"}], \"contour\": [{\"colorbar\": {\"outlinewidth\": 0, \"ticks\": \"\"}, \"colorscale\": [[0.0, \"#0d0887\"], [0.1111111111111111, \"#46039f\"], [0.2222222222222222, \"#7201a8\"], [0.3333333333333333, \"#9c179e\"], [0.4444444444444444, \"#bd3786\"], [0.5555555555555556, \"#d8576b\"], [0.6666666666666666, \"#ed7953\"], [0.7777777777777778, \"#fb9f3a\"], [0.8888888888888888, \"#fdca26\"], [1.0, \"#f0f921\"]], \"type\": \"contour\"}], \"contourcarpet\": [{\"colorbar\": {\"outlinewidth\": 0, \"ticks\": \"\"}, \"type\": \"contourcarpet\"}], \"heatmap\": [{\"colorbar\": {\"outlinewidth\": 0, \"ticks\": \"\"}, \"colorscale\": [[0.0, \"#0d0887\"], [0.1111111111111111, \"#46039f\"], [0.2222222222222222, \"#7201a8\"], [0.3333333333333333, \"#9c179e\"], [0.4444444444444444, \"#bd3786\"], [0.5555555555555556, \"#d8576b\"], [0.6666666666666666, \"#ed7953\"], [0.7777777777777778, \"#fb9f3a\"], [0.8888888888888888, \"#fdca26\"], [1.0, \"#f0f921\"]], \"type\": \"heatmap\"}], \"heatmapgl\": [{\"colorbar\": {\"outlinewidth\": 0, \"ticks\": \"\"}, \"colorscale\": [[0.0, \"#0d0887\"], [0.1111111111111111, \"#46039f\"], [0.2222222222222222, \"#7201a8\"], [0.3333333333333333, \"#9c179e\"], [0.4444444444444444, \"#bd3786\"], [0.5555555555555556, \"#d8576b\"], [0.6666666666666666, \"#ed7953\"], [0.7777777777777778, \"#fb9f3a\"], [0.8888888888888888, \"#fdca26\"], [1.0, \"#f0f921\"]], \"type\": \"heatmapgl\"}], \"histogram\": [{\"marker\": {\"colorbar\": {\"outlinewidth\": 0, \"ticks\": \"\"}}, \"type\": \"histogram\"}], \"histogram2d\": [{\"colorbar\": {\"outlinewidth\": 0, \"ticks\": \"\"}, \"colorscale\": [[0.0, \"#0d0887\"], [0.1111111111111111, \"#46039f\"], [0.2222222222222222, \"#7201a8\"], [0.3333333333333333, \"#9c179e\"], [0.4444444444444444, \"#bd3786\"], [0.5555555555555556, \"#d8576b\"], [0.6666666666666666, \"#ed7953\"], [0.7777777777777778, \"#fb9f3a\"], [0.8888888888888888, \"#fdca26\"], [1.0, \"#f0f921\"]], \"type\": \"histogram2d\"}], \"histogram2dcontour\": [{\"colorbar\": {\"outlinewidth\": 0, \"ticks\": \"\"}, \"colorscale\": [[0.0, \"#0d0887\"], [0.1111111111111111, \"#46039f\"], [0.2222222222222222, \"#7201a8\"], [0.3333333333333333, \"#9c179e\"], [0.4444444444444444, \"#bd3786\"], [0.5555555555555556, \"#d8576b\"], [0.6666666666666666, \"#ed7953\"], [0.7777777777777778, \"#fb9f3a\"], [0.8888888888888888, \"#fdca26\"], [1.0, \"#f0f921\"]], \"type\": \"histogram2dcontour\"}], \"mesh3d\": [{\"colorbar\": {\"outlinewidth\": 0, \"ticks\": \"\"}, \"type\": \"mesh3d\"}], \"parcoords\": [{\"line\": {\"colorbar\": {\"outlinewidth\": 0, \"ticks\": \"\"}}, \"type\": \"parcoords\"}], \"pie\": [{\"automargin\": true, \"type\": \"pie\"}], \"scatter\": [{\"marker\": {\"colorbar\": {\"outlinewidth\": 0, \"ticks\": \"\"}}, \"type\": \"scatter\"}], \"scatter3d\": [{\"line\": {\"colorbar\": {\"outlinewidth\": 0, \"ticks\": \"\"}}, \"marker\": {\"colorbar\": {\"outlinewidth\": 0, \"ticks\": \"\"}}, \"type\": \"scatter3d\"}], \"scattercarpet\": [{\"marker\": {\"colorbar\": {\"outlinewidth\": 0, \"ticks\": \"\"}}, \"type\": \"scattercarpet\"}], \"scattergeo\": [{\"marker\": {\"colorbar\": {\"outlinewidth\": 0, \"ticks\": \"\"}}, \"type\": \"scattergeo\"}], \"scattergl\": [{\"marker\": {\"colorbar\": {\"outlinewidth\": 0, \"ticks\": \"\"}}, \"type\": \"scattergl\"}], \"scattermapbox\": [{\"marker\": {\"colorbar\": {\"outlinewidth\": 0, \"ticks\": \"\"}}, \"type\": \"scattermapbox\"}], \"scatterpolar\": [{\"marker\": {\"colorbar\": {\"outlinewidth\": 0, \"ticks\": \"\"}}, \"type\": \"scatterpolar\"}], \"scatterpolargl\": [{\"marker\": {\"colorbar\": {\"outlinewidth\": 0, \"ticks\": \"\"}}, \"type\": \"scatterpolargl\"}], \"scatterternary\": [{\"marker\": {\"colorbar\": {\"outlinewidth\": 0, \"ticks\": \"\"}}, \"type\": \"scatterternary\"}], \"surface\": [{\"colorbar\": {\"outlinewidth\": 0, \"ticks\": \"\"}, \"colorscale\": [[0.0, \"#0d0887\"], [0.1111111111111111, \"#46039f\"], [0.2222222222222222, \"#7201a8\"], [0.3333333333333333, \"#9c179e\"], [0.4444444444444444, \"#bd3786\"], [0.5555555555555556, \"#d8576b\"], [0.6666666666666666, \"#ed7953\"], [0.7777777777777778, \"#fb9f3a\"], [0.8888888888888888, \"#fdca26\"], [1.0, \"#f0f921\"]], \"type\": \"surface\"}], \"table\": [{\"cells\": {\"fill\": {\"color\": \"#EBF0F8\"}, \"line\": {\"color\": \"white\"}}, \"header\": {\"fill\": {\"color\": \"#C8D4E3\"}, \"line\": {\"color\": \"white\"}}, \"type\": \"table\"}]}, \"layout\": {\"annotationdefaults\": {\"arrowcolor\": \"#2a3f5f\", \"arrowhead\": 0, \"arrowwidth\": 1}, \"coloraxis\": {\"colorbar\": {\"outlinewidth\": 0, \"ticks\": \"\"}}, \"colorscale\": {\"diverging\": [[0, \"#8e0152\"], [0.1, \"#c51b7d\"], [0.2, \"#de77ae\"], [0.3, \"#f1b6da\"], [0.4, \"#fde0ef\"], [0.5, \"#f7f7f7\"], [0.6, \"#e6f5d0\"], [0.7, \"#b8e186\"], [0.8, \"#7fbc41\"], [0.9, \"#4d9221\"], [1, \"#276419\"]], \"sequential\": [[0.0, \"#0d0887\"], [0.1111111111111111, \"#46039f\"], [0.2222222222222222, \"#7201a8\"], [0.3333333333333333, \"#9c179e\"], [0.4444444444444444, \"#bd3786\"], [0.5555555555555556, \"#d8576b\"], [0.6666666666666666, \"#ed7953\"], [0.7777777777777778, \"#fb9f3a\"], [0.8888888888888888, \"#fdca26\"], [1.0, \"#f0f921\"]], \"sequentialminus\": [[0.0, \"#0d0887\"], [0.1111111111111111, \"#46039f\"], [0.2222222222222222, \"#7201a8\"], [0.3333333333333333, \"#9c179e\"], [0.4444444444444444, \"#bd3786\"], [0.5555555555555556, \"#d8576b\"], [0.6666666666666666, \"#ed7953\"], [0.7777777777777778, \"#fb9f3a\"], [0.8888888888888888, \"#fdca26\"], [1.0, \"#f0f921\"]]}, \"colorway\": [\"#636efa\", \"#EF553B\", \"#00cc96\", \"#ab63fa\", \"#FFA15A\", \"#19d3f3\", \"#FF6692\", \"#B6E880\", \"#FF97FF\", \"#FECB52\"], \"font\": {\"color\": \"#2a3f5f\"}, \"geo\": {\"bgcolor\": \"white\", \"lakecolor\": \"white\", \"landcolor\": \"#E5ECF6\", \"showlakes\": true, \"showland\": true, \"subunitcolor\": \"white\"}, \"hoverlabel\": {\"align\": \"left\"}, \"hovermode\": \"closest\", \"mapbox\": {\"style\": \"light\"}, \"paper_bgcolor\": \"white\", \"plot_bgcolor\": \"#E5ECF6\", \"polar\": {\"angularaxis\": {\"gridcolor\": \"white\", \"linecolor\": \"white\", \"ticks\": \"\"}, \"bgcolor\": \"#E5ECF6\", \"radialaxis\": {\"gridcolor\": \"white\", \"linecolor\": \"white\", \"ticks\": \"\"}}, \"scene\": {\"xaxis\": {\"backgroundcolor\": \"#E5ECF6\", \"gridcolor\": \"white\", \"gridwidth\": 2, \"linecolor\": \"white\", \"showbackground\": true, \"ticks\": \"\", \"zerolinecolor\": \"white\"}, \"yaxis\": {\"backgroundcolor\": \"#E5ECF6\", \"gridcolor\": \"white\", \"gridwidth\": 2, \"linecolor\": \"white\", \"showbackground\": true, \"ticks\": \"\", \"zerolinecolor\": \"white\"}, \"zaxis\": {\"backgroundcolor\": \"#E5ECF6\", \"gridcolor\": \"white\", \"gridwidth\": 2, \"linecolor\": \"white\", \"showbackground\": true, \"ticks\": \"\", \"zerolinecolor\": \"white\"}}, \"shapedefaults\": {\"line\": {\"color\": \"#2a3f5f\"}}, \"ternary\": {\"aaxis\": {\"gridcolor\": \"white\", \"linecolor\": \"white\", \"ticks\": \"\"}, \"baxis\": {\"gridcolor\": \"white\", \"linecolor\": \"white\", \"ticks\": \"\"}, \"bgcolor\": \"#E5ECF6\", \"caxis\": {\"gridcolor\": \"white\", \"linecolor\": \"white\", \"ticks\": \"\"}}, \"title\": {\"x\": 0.05}, \"xaxis\": {\"automargin\": true, \"gridcolor\": \"white\", \"linecolor\": \"white\", \"ticks\": \"\", \"title\": {\"standoff\": 15}, \"zerolinecolor\": \"white\", \"zerolinewidth\": 2}, \"yaxis\": {\"automargin\": true, \"gridcolor\": \"white\", \"linecolor\": \"white\", \"ticks\": \"\", \"title\": {\"standoff\": 15}, \"zerolinecolor\": \"white\", \"zerolinewidth\": 2}}}, \"title\": {\"text\": \"Velocity Magnitude vs Experimental\"}, \"width\": 1605, \"xaxis\": {\"anchor\": \"y\", \"domain\": [0.0, 0.475]}, \"xaxis2\": {\"anchor\": \"y2\", \"domain\": [0.525, 1.0]}, \"yaxis\": {\"anchor\": \"x\", \"domain\": [0.0, 1.0]}, \"yaxis2\": {\"anchor\": \"x2\", \"domain\": [0.0, 1.0], \"matches\": \"y\", \"showticklabels\": false}},\n                        {\"responsive\": true}\n                    ).then(function(){\n                            \nvar gd = document.getElementById('cca95c00-391a-4426-9d00-ff6d77ba3892');\nvar x = new MutationObserver(function (mutations, observer) {{\n        var display = window.getComputedStyle(gd).display;\n        if (!display || display === 'none') {{\n            console.log([gd, 'removed!']);\n            Plotly.purge(gd);\n            observer.disconnect();\n        }}\n}});\n\n// Listen for the removal of the full notebook cells\nvar notebookContainer = gd.closest('#notebook-container');\nif (notebookContainer) {{\n    x.observe(notebookContainer, {childList: true});\n}}\n\n// Listen for the clearing of the current output cell\nvar outputEl = gd.closest('.output');\nif (outputEl) {{\n    x.observe(outputEl, {childList: true});\n}}\n\n                        })\n                };\n                });\n            </script>\n        </div>"
     },
     "metadata": {},
     "output_type": "display_data"
    }
   ],
   "source": [
    "\n",
    "fig = make_subplots(\n",
    "    rows=1,\n",
    "    cols=2,\n",
    "    shared_yaxes=True,\n",
    "    # x_title=\"Radius (m)\",\n",
    "    # y_title=\"Velocity Magnitude (m/s)\",\n",
    "    # subplot_titles=(\n",
    "    # \"C5 Quadrant 1\", \"C1 Quadrant 2\"),\n",
    "    vertical_spacing=.07, horizontal_spacing=.05)\n",
    "\n",
    "marker_size = 7\n",
    "line_size = 5\n",
    "\n",
    "\n",
    "fig.add_trace(go.Scatter(x=quad_ascii[\"C1_SBES\"]['Q1']['radius_bin_mean'],\n",
    "                         y=quad_ascii[\"C1_SBES\"]['Q1']['velocity-magnitude_bin_mean'],\n",
    "                         mode='lines',\n",
    "                         name='SBES-ASCII',\n",
    "                         marker=dict(\n",
    "                             color='red',\n",
    "                             size=marker_size,\n",
    "                             line=dict(color='red'),\n",
    "                             symbol='triangle-right'),\n",
    "                         line=dict(dash='dash',\n",
    "                                   width=line_size),\n",
    "                         showlegend=False\n",
    "                         ),\n",
    "              row=1, col=1)\n",
    "\n",
    "fig.add_trace(go.Scatter(x=quad_ascii[\"C1_IDDES\"]['Q1']['radius_bin_mean'],\n",
    "                         y=quad_ascii[\"C1_IDDES\"]['Q1']['velocity-magnitude_bin_mean'],\n",
    "                         mode='lines',\n",
    "                         name='IDDES-ASCII',\n",
    "                         marker=dict(\n",
    "                             color='green',\n",
    "                             size=marker_size,\n",
    "                             line=dict(color='green'),\n",
    "                             symbol='x'),\n",
    "                         line=dict(dash='dot',\n",
    "                                   width=line_size),\n",
    "                         showlegend=False\n",
    "                         ),\n",
    "              row=1, col=1)\n",
    "\n",
    "fig.add_trace(go.Scatter(x=quad_ascii[\"C1_KW\"]['Q1']['radius_bin_mean'],\n",
    "                         y=quad_ascii[\"C1_KW\"]['Q1']['velocity-magnitude_bin_mean'],\n",
    "                         mode='lines',\n",
    "                         name='KW-SST-ASCII',\n",
    "                         marker=dict(\n",
    "                             color='blue',\n",
    "                             size=marker_size,\n",
    "                             line=dict(color='blue'),\n",
    "                             symbol='circle'),\n",
    "                         line=dict(dash='dashdot',\n",
    "                                   width=line_size),\n",
    "                         showlegend=False\n",
    "                         ),\n",
    "              row=1, col=1)\n",
    "\n",
    "fig.add_trace(go.Scatter(x=C1_Experimental[\"Q1\"]['radius'],\n",
    "                         y=C1_Experimental[\"Q1\"]['Velocity_Magnitude'],\n",
    "                         mode='markers+lines',\n",
    "                         name='Experimental-Mean',\n",
    "                         showlegend=False,\n",
    "                         marker=dict(\n",
    "                             color='black',\n",
    "                             size=marker_size,\n",
    "                             line=dict(color='black',\n",
    "                                       width=line_size),\n",
    "                             symbol='circle')\n",
    "                         ),\n",
    "              row=1, col=1)\n",
    "\n",
    "# fig.add_trace(go.Scatter(x=C5_Lab_1['radius'],\n",
    "#                          y=C5_Lab_1['velocity'],\n",
    "#                          mode='markers+lines',\n",
    "#                          name='Experimental-Lab-1',\n",
    "#                          marker=dict(\n",
    "#                              color='purple',\n",
    "#                              size=marker_size,\n",
    "#                              line=dict(color='purple',\n",
    "#                                        width=line_size),\n",
    "#                              symbol='square')\n",
    "#                          ),\n",
    "#               row=1, col=1)\n",
    "#\n",
    "# fig.add_trace(go.Scatter(x=C5_Lab_2['radius'],\n",
    "#                          y=C5_Lab_2['velocity'],\n",
    "#                          mode='markers+lines',\n",
    "#                          name='Experimental-Lab-2',\n",
    "#                          marker=dict(\n",
    "#                              color='red',\n",
    "#                              size=marker_size,\n",
    "#                              line=dict(color='red',\n",
    "#                                        width=line_size),\n",
    "#                              symbol='star-dot')\n",
    "#                          ),\n",
    "#               row=1, col=1)\n",
    "\n",
    "\n",
    "fig.add_trace(go.Scatter(x=quad_ascii[\"C1_SBES\"]['Q2']['radius_bin_mean'],\n",
    "                         y=quad_ascii[\"C1_SBES\"]['Q2']['velocity-magnitude_bin_mean'],\n",
    "                         mode='lines',\n",
    "                         name='SBES-ASCII',\n",
    "                         marker=dict(\n",
    "                             color='red',\n",
    "                             size=marker_size,\n",
    "                             line=dict(color='red'),\n",
    "                             symbol='triangle-right'),\n",
    "                         line=dict(dash='dash',\n",
    "                                   width=line_size),\n",
    "                         showlegend=False\n",
    "                         ),\n",
    "              row=1, col=2)\n",
    "\n",
    "fig.add_trace(go.Scatter(x=quad_ascii[\"C1_IDDES\"]['Q2']['radius_bin_mean'],\n",
    "                         y=quad_ascii[\"C1_IDDES\"]['Q2']['velocity-magnitude_bin_mean'],\n",
    "                         mode='lines',\n",
    "                         name='IDDES-ASCII',\n",
    "                         marker=dict(\n",
    "                             color='green',\n",
    "                             size=marker_size,\n",
    "                             line=dict(color='green'),\n",
    "                             symbol='x'),\n",
    "                         line=dict(dash='dot',\n",
    "                                   width=line_size),\n",
    "                         showlegend=False\n",
    "                         ),\n",
    "              row=1, col=2)\n",
    "\n",
    "fig.add_trace(go.Scatter(x=quad_ascii[\"C1_KW\"]['Q2']['radius_bin_mean'],\n",
    "                         y=quad_ascii[\"C1_KW\"]['Q2']['velocity-magnitude_bin_mean'],\n",
    "                         mode='lines',\n",
    "                         name='KW-SST-ASCII',\n",
    "                         marker=dict(\n",
    "                             color='blue',\n",
    "                             size=marker_size,\n",
    "                             line=dict(color='blue'),\n",
    "                             symbol='circle'),\n",
    "                         line=dict(dash='dashdot',\n",
    "                                   width=line_size),\n",
    "                         showlegend=False\n",
    "                         ),\n",
    "              row=1, col=2)\n",
    "\n",
    "fig.add_trace(go.Scatter(x=C1_Experimental[\"Q2\"]['radius'],\n",
    "                         y=C1_Experimental[\"Q2\"]['Velocity_Magnitude'],\n",
    "                         mode='markers+lines',\n",
    "                         name='Experimental',\n",
    "                         marker=dict(\n",
    "                             color='black',\n",
    "                             size=marker_size,\n",
    "                             line=dict(color='black',\n",
    "                                       width=line_size),\n",
    "                             symbol='circle'),\n",
    "                         showlegend=False),\n",
    "\n",
    "              row=1, col=2)\n",
    "\n",
    "fig.update_layout(height=600, width=1605,\n",
    "                  title_text=\"Velocity Magnitude vs Experimental\",\n",
    "                  font=dict(\n",
    "                      family=\"Arial\",\n",
    "                      size=32),\n",
    "                  )\n",
    "fig.update_annotations(font_size=32)\n",
    "fig.update_layout(legend={'itemsizing': 'constant'})\n",
    "fig.show()\n",
    "\n",
    "fig.write_image(r\"C:\\Users\\Joseph Tarriela\\Documents\\GitHub\\FDA_Blood_Pump\\postpro\\images\\C1-quad-nolegend.png\")"
   ],
   "metadata": {
    "collapsed": false,
    "pycharm": {
     "name": "#%% condition 4\n"
    }
   }
  },
  {
   "cell_type": "code",
   "execution_count": 56,
   "outputs": [
    {
     "data": {
      "application/vnd.plotly.v1+json": {
       "config": {
        "plotlyServerURL": "https://plot.ly"
       },
       "data": [
        {
         "line": {
          "dash": "dash",
          "width": 5
         },
         "marker": {
          "color": "red",
          "line": {
           "color": "red"
          },
          "size": 7,
          "symbol": "triangle-right"
         },
         "mode": "lines",
         "name": "SBES-ASCII",
         "showlegend": false,
         "type": "scatter",
         "x": [
          0.004006315132562008,
          0.004018580885474775,
          0.0040352382229260275,
          0.004074573523937696,
          0.0040962914342722034,
          0.004122420444274813,
          0.004153872578805947,
          0.004197247054001896,
          0.0042745938302670376,
          0.004326620294697583,
          0.004329752003591482,
          0.0044175871555896026,
          0.004507801913979152,
          0.004515195437021271,
          0.004684582273714052,
          0.0048613589778753385,
          0.005214912374159849,
          0.0053916890703532595,
          0.00556846581475064,
          0.005745242635343107,
          0.005922019319550215,
          0.006275572719922158,
          0.006452349396006181,
          0.006629126112257259,
          0.006805902796395414,
          0.007159456172656777,
          0.0073362328728513735,
          0.00751300958103113,
          0.007689786257166873,
          0.00804333965740091,
          0.008220116349506914,
          0.008396893057790159,
          0.008573669741859294,
          0.008927223150250928,
          0.009103999818229076,
          0.009280776518423704,
          0.00963432991079334,
          0.00981110661083276,
          0.009987883303145728,
          0.010164660019241644,
          0.010518213395554782,
          0.010694990087833277,
          0.010871766787907168,
          0.011048543367721169,
          0.011402096920707571,
          0.011578873540602441,
          0.011755650288949312,
          0.01193242702120525,
          0.01210920365720838,
          0.012285980341380969,
          0.012462757089710631,
          0.012816310457814444,
          0.013169863890316729,
          0.013346640526388854,
          0.013523417242467492,
          0.013700193942679382,
          0.014053747326994931,
          0.014230524028983175,
          0.014407300710655088,
          0.014584077427682338,
          0.014937630811376971,
          0.01511440749615324,
          0.015291184165235184,
          0.015467960929345366,
          0.015821514280444142,
          0.015998290965737794,
          0.016175067679488175,
          0.01635184434960492,
          0.016705397749511294,
          0.016882174464986344,
          0.01705895114907275,
          0.017235727835573658,
          0.017589281233927855,
          0.017766057918359182,
          0.017942834634006696,
          0.018119611284979808,
          0.018473164719724128,
          0.018649941403120672,
          0.01900349478698781,
          0.01918027147090174,
          0.019357048186894186,
          0.01953382487236031,
          0.01988737827140436,
          0.020064154957042956,
          0.020240931656651213,
          0.020417708372471203,
          0.020771261741161392,
          0.02094803845715384,
          0.021124815188323216,
          0.02130159182618897,
          0.021655145225405497,
          0.02183192192673841,
          0.02200869859392324,
          0.022185475054839827,
          0.02253902845405636,
          0.022715804993617063,
          0.02289258159629995,
          0.023069358265381902,
          0.023422911826715544,
          0.023599688652568226,
          0.023776465291296348,
          0.02395324189501406,
          0.024306795199029882,
          0.024483571899155523,
          0.0246603487269053,
          0.024837125491532858,
          0.025190678763470208,
          0.025367455432034773,
          0.025544232164583867,
          0.02572100876743922,
          0.026074562330325044,
          0.026251338964913988,
          0.02642811566469473,
          0.026590804313810768,
          0.02659632068968135,
          0.026805878926557173,
          0.026945710417353986,
          0.0270682154933973,
          0.02720748185686614,
          0.02729725464888133,
          0.027500900312918616,
          0.027602724467226936,
          0.027704546041457837,
          0.027806370131264226,
          0.028010018439880862,
          0.028111839949609824,
          0.028213664103918144,
          0.02831548825822646,
          0.02851913392226375,
          0.02862095807657207,
          0.0287227822308804,
          0.028824603754751495,
          0.029028252049226006,
          0.029130073573097093,
          0.029231897727405424,
          0.029333721881713737,
          0.02953715153877151,
          0.029609125194454168,
          0.029726148487953626,
          0.02981023941621481,
          0.02987661280033262,
          0.0299026595453081,
          0.029924373083359924,
          0.029942472513800288,
          0.029970134021963427,
          0.02998061540921242,
          0.029992993419483107
         ],
         "xaxis": "x",
         "y": [
          1.035931570390244,
          1.0252786586390243,
          1.0235090454036586,
          1.045862324514634,
          1.0659311542829268,
          1.093864154790244,
          1.1263991562878048,
          1.29498566452,
          1.4649485968599998,
          1.2513293460400001,
          1.2506739404809524,
          1.31927369977,
          1.3801666284904757,
          1.47330422002,
          1.485971538202439,
          1.4999919278512197,
          1.4895440057536586,
          1.4400253156243903,
          1.4176064488365854,
          1.448765216614634,
          1.4566267436073168,
          1.3976376574414633,
          1.3892350484121951,
          1.3577299360414634,
          1.3410070153048779,
          1.372829473868293,
          1.3650539074024388,
          1.3580737432365853,
          1.348700266192683,
          1.3615737688463416,
          1.3745853257536589,
          1.3804158186487805,
          1.397921714853659,
          1.4811817897195119,
          1.5033123497878047,
          1.5267162720073169,
          1.6142441847097557,
          1.667014712407317,
          1.701469385509756,
          1.7250313798536585,
          1.7134258522926828,
          1.7124684731609756,
          1.7219083005097562,
          1.6870322052634146,
          1.6321117687634146,
          1.6231265890317073,
          1.621967149285366,
          1.6235374742170734,
          1.6572485282829268,
          1.7400934175926832,
          1.7659729650219511,
          1.7873923830121952,
          1.7911557855707316,
          1.7853348679560976,
          1.7822164388121953,
          1.8193288422853655,
          1.8938315396341463,
          1.9877604942487803,
          2.0072340033414635,
          2.0612579456731708,
          2.1290800116097564,
          2.2144235200243902,
          2.301236770780488,
          2.3706033109487805,
          2.6181649010243904,
          2.742190334097561,
          2.8135836660487805,
          2.908061781292683,
          3.1742648163658536,
          3.2684606309268296,
          3.3496307782439017,
          3.4338985548536587,
          3.640256335414634,
          3.68699356002439,
          3.7193030310731703,
          3.736655723536585,
          3.7747638045853664,
          3.804227596170732,
          3.8474981355853664,
          3.8744053522195117,
          3.9107007380487806,
          3.9523391093414633,
          4.029372823146342,
          4.058984941780489,
          4.091841736829268,
          4.1248322255365855,
          4.193273440853658,
          4.227543126317073,
          4.261083505268293,
          4.293975987,
          4.34508313497561,
          4.368595380146342,
          4.396944423268293,
          4.423207734439026,
          4.4950320852195125,
          4.527930132658536,
          4.549439513341464,
          4.572345244536585,
          4.674694967853658,
          4.722725687682926,
          4.77303533804878,
          4.837474397634146,
          4.939543764804878,
          4.966814200902439,
          4.982485126756098,
          5.017386277975611,
          5.089154694219513,
          5.1227948076585355,
          5.162864923902438,
          5.1997246698536586,
          5.223547206682927,
          5.2203505001951225,
          5.2266056463658535,
          5.282997915299999,
          5.200472252,
          5.250537270609756,
          5.230643219170731,
          5.219947607195122,
          5.215225037170732,
          5.202187698536585,
          5.188245981195122,
          5.1790101809756095,
          5.178309061756098,
          5.166225939731707,
          5.146209641268293,
          5.144110197365854,
          5.12945043985366,
          5.1306200315609765,
          5.129102016878049,
          5.1144793613170725,
          5.131652067317074,
          5.110481739829268,
          5.069824670634146,
          5.033413788585365,
          5.0160627562926825,
          5.001320324121951,
          4.99058621692683,
          5.004483806829269,
          4.999371497707316,
          4.971403261512196,
          4.6395713910000005,
          4.257768239536585,
          3.6994013042439033,
          3.0339622825365846,
          1.7029332489512194,
          1.1290907595268294,
          0.4229106535536585
         ],
         "yaxis": "y"
        },
        {
         "line": {
          "dash": "dot",
          "width": 5
         },
         "marker": {
          "color": "green",
          "line": {
           "color": "green"
          },
          "size": 7,
          "symbol": "x"
         },
         "mode": "lines",
         "name": "IDDES-ASCII",
         "showlegend": false,
         "type": "scatter",
         "x": [
          0.004018580905566956,
          0.0040352382229260275,
          0.004074573515900824,
          0.004096291450345947,
          0.004153872562732202,
          0.004197246988099546,
          0.004206311882183381,
          0.0042745938302670376,
          0.004417587254443131,
          0.004507801913979152,
          0.004515195453496869,
          0.004684582273714052,
          0.0050381356821401,
          0.005214912374159849,
          0.00556846581475064,
          0.005745242635343107,
          0.0060987960116734435,
          0.006275572719922158,
          0.006629126112257259,
          0.006805902796395414,
          0.007159456172656777,
          0.0073362328728513735,
          0.007689786257166873,
          0.007866562965329386,
          0.00804333965740091,
          0.008396893057790159,
          0.008573669741859294,
          0.008927223150250928,
          0.009103999818229076,
          0.009457553218463123,
          0.00963432991079334,
          0.009987883303145728,
          0.010164660019241644,
          0.010341436695498123,
          0.010518213395554782,
          0.010871766787907168,
          0.011048543367721169,
          0.011402096920707571,
          0.011578873540602441,
          0.01193242702120525,
          0.01210920365720838,
          0.012462757089710631,
          0.012639533757775049,
          0.012993087126016772,
          0.013169863890316729,
          0.013523417242467492,
          0.013700193942679382,
          0.014053747326994931,
          0.014230524028983175,
          0.014584077427682338,
          0.014760854127980425,
          0.01511440749615324,
          0.015291184165235184,
          0.01564473757945616,
          0.015821514280444142,
          0.016175067679488175,
          0.01635184434960492,
          0.016705397749511294,
          0.016882174464986344,
          0.017235727835573658,
          0.01741250454932405,
          0.017766057918359182,
          0.017942834634006696,
          0.018296388003041838,
          0.018473164719724128,
          0.018826718103246327,
          0.01900349478698781,
          0.019357048186894186,
          0.019710601603874604,
          0.01988737827140436,
          0.020240931656651213,
          0.020417708372471203,
          0.020771261741161392,
          0.02094803845715384,
          0.02130159182618897,
          0.021478368509930446,
          0.02183192192673841,
          0.02200869859392324,
          0.022362251848614,
          0.02253902845405636,
          0.02289258159629995,
          0.023069358265381902,
          0.023422911826715544,
          0.023599688652568226,
          0.02395324189501406,
          0.02413001852856821,
          0.024483571899155523,
          0.0246603487269053,
          0.02501390209663029,
          0.025190678763470208,
          0.025544232164583867,
          0.02572100876743922,
          0.026074562330325044,
          0.02642811566469473,
          0.026590804445332638,
          0.026805878413301128,
          0.026945710417353986,
          0.0270682154933973,
          0.02729725464888133,
          0.02739907615861029,
          0.027602724467226936,
          0.027704548621535263,
          0.027908194285572542,
          0.028010018439880862,
          0.028213664103918144,
          0.02831548825822646,
          0.02851913392226375,
          0.02862095807657207,
          0.028824603754751495,
          0.028926427894917683,
          0.029028252049226006,
          0.029231897727405424,
          0.029333721881713737,
          0.02953715153877151,
          0.029609125194454168,
          0.02981023941621481,
          0.02984537145095264,
          0.0299026595453081,
          0.029924373083359924,
          0.029957561083566377,
          0.029970134021963427,
          0.029992993419483107
         ],
         "xaxis": "x",
         "y": [
          1.038040173990244,
          1.036577933335366,
          1.0495578321707315,
          1.063468436807317,
          1.0991406639121952,
          0.85158492889,
          1.2197104629387097,
          0.95694757289,
          0.95595611275,
          1.5160266361142856,
          1.0106031987150002,
          1.3296658303024391,
          1.4317918145609756,
          1.4459905253,
          1.4665962570317073,
          1.438003917373171,
          1.3540058070512195,
          1.3366988448609756,
          1.3075097143170729,
          1.2982301788463415,
          1.319747065702439,
          1.3518906562878048,
          1.350692883714634,
          1.3698857937146345,
          1.3509050221097558,
          1.3900151377536585,
          1.4375181518268294,
          1.5601749598487804,
          1.5928378520243902,
          1.5989038318536588,
          1.5802124194121951,
          1.5588258851707315,
          1.5388889287682928,
          1.5289395530341463,
          1.5276044636756096,
          1.602816540397561,
          1.6006373195951218,
          1.5053548840804878,
          1.4571879687585367,
          1.5510180196414634,
          1.6079637374878049,
          1.6051792672097558,
          1.6359449340658538,
          1.748893273392683,
          1.7521736620756097,
          1.7665950701390245,
          1.8035060112219512,
          1.9618444548073173,
          2.044983447631707,
          2.1452706107926827,
          2.2092111773341463,
          2.4339111379512195,
          2.4349686986097563,
          2.4705670616829267,
          2.583170871195122,
          2.8922463514390246,
          2.992559280219512,
          3.1528472974146338,
          3.229896307512195,
          3.4524666991219513,
          3.5464262286829267,
          3.6758650933170736,
          3.7153354234146345,
          3.7836616532682927,
          3.8023606711951214,
          3.863746380365853,
          3.8999618853658538,
          3.9574789046341454,
          3.9908913390975607,
          4.005428134731708,
          4.074035080487805,
          4.116617144902439,
          4.180306129073172,
          4.2133476613902445,
          4.284821656560975,
          4.297114817170732,
          4.343410726609757,
          4.3823137726097565,
          4.4886859824146335,
          4.538068597219512,
          4.600492473268293,
          4.634444509585366,
          4.7147006635609765,
          4.761891128268292,
          4.851341783390244,
          4.890644886658538,
          4.976270824390244,
          5.026618941829268,
          5.082271012365854,
          5.1005381055853665,
          5.120464093902438,
          5.144904127317074,
          5.224728249463414,
          5.283352821463415,
          5.24708368005,
          5.316024016268293,
          5.288477834195122,
          5.286920368878048,
          5.270405327756097,
          5.271873499341464,
          5.251170069463416,
          5.241559630999999,
          5.256652562780488,
          5.243891409317073,
          5.223863539317073,
          5.233622788439026,
          5.197608483756097,
          5.1693440412682925,
          5.139987494780487,
          5.1314452332195115,
          5.097338477439026,
          5.048565623195121,
          5.029068948292683,
          5.013519644682926,
          5.012526910439023,
          4.988606109926829,
          4.855791826707319,
          4.153913692414633,
          3.558012059878049,
          2.222476416317073,
          1.606958899902439,
          0.3983221056182927
         ],
         "yaxis": "y"
        },
        {
         "line": {
          "dash": "dashdot",
          "width": 5
         },
         "marker": {
          "color": "blue",
          "line": {
           "color": "blue"
          },
          "size": 7,
          "symbol": "circle"
         },
         "mode": "lines",
         "name": "KW-SST-ASCII",
         "showlegend": false,
         "type": "scatter",
         "x": [
          0.004006314799649237,
          0.0040352372597983,
          0.0040745715880638675,
          0.0041224168547903855,
          0.004197246922197193,
          0.0043297926523386265,
          0.004383763322137084,
          0.00441758708968725,
          0.004684582411255817,
          0.005038135810475703,
          0.005391689176567628,
          0.005745242764973886,
          0.006098796131242592,
          0.006275572888623232,
          0.006629126304247997,
          0.0069826796704813435,
          0.007336233069559842,
          0.00768978640287743,
          0.00804333978544502,
          0.008396893184629623,
          0.008750446550863036,
          0.009103999950047608,
          0.009457553349055414,
          0.0098111067317644,
          0.010164660147389213,
          0.010518213497182396,
          0.010871766879891406,
          0.011225320509486752,
          0.011755650353192556,
          0.01210920380176863,
          0.012462757250344576,
          0.012816310501178213,
          0.013169864147319823,
          0.01352341723368041,
          0.013876970912631835,
          0.014230524001431863,
          0.014584077711637453,
          0.014937630862875013,
          0.015291184378272682,
          0.0156447376921448,
          0.015998291111022377,
          0.016351844494190988,
          0.016705397842711404,
          0.017058951289873232,
          0.017412504640161367,
          0.017766058089444557,
          0.01811961140473088,
          0.018473164822547832,
          0.01882671826970956,
          0.019180271552469097,
          0.019533825036046875,
          0.019887378384920863,
          0.020240931801677072,
          0.020594485150904583,
          0.02094803853301259,
          0.02130159204841018,
          0.021655145265762312,
          0.022008698814393927,
          0.02253902855839772,
          0.02289258161099391,
          0.02324613512568448,
          0.023599688968472525,
          0.02395324202177581,
          0.02430679507684696,
          0.02466034891963502,
          0.025013902370332342,
          0.025367455488335938,
          0.02572100867280761,
          0.0260745626495924,
          0.02642811589876428,
          0.02659080391924516,
          0.02659613272827404,
          0.026806008097805815,
          0.026945710417353986,
          0.02720748185686613,
          0.027399077473828932,
          0.027602724467226936,
          0.02780637013126422,
          0.02801001843988087,
          0.028213664103918144,
          0.028417312412534795,
          0.02862095807657207,
          0.028824603754751495,
          0.029028252049226003,
          0.02923189772740542,
          0.029435546021879932,
          0.029609125194454168,
          0.02981023941621481,
          0.029876612800332613,
          0.029924373083359924,
          0.029957561083566377,
          0.02998061540921242
         ],
         "xaxis": "x",
         "y": [
          1.0345689760475,
          1.011267974615,
          1.019362537005,
          1.07346041765,
          1.22962813006,
          1.45780808999,
          1.6516044023999998,
          1.6147770257799998,
          1.655105202325,
          1.58139903081,
          1.521283012235,
          1.490507651365,
          1.4435141540749998,
          1.4171487718399998,
          1.3818893522100002,
          1.3743075025799998,
          1.382499557515,
          1.4010088978900002,
          1.42330970136,
          1.44292582635,
          1.46224816965,
          1.4828870163,
          1.50381693795,
          1.5288925106,
          1.5516525154499998,
          1.5514032065999999,
          1.4914711852000002,
          1.4169473457,
          1.30671205889,
          1.248224318375,
          1.2866472855,
          1.41866208865,
          1.5286083270100002,
          1.580045355225,
          1.577822150395,
          1.6193364306700002,
          1.7628400176499999,
          1.9966621821500001,
          2.2600023030500003,
          2.5363084221000003,
          2.81211751625,
          3.06626668895,
          3.28436079635,
          3.46018247415,
          3.5918147945500003,
          3.67820648095,
          3.7424624294,
          3.80142149525,
          3.86236825945,
          3.925938513,
          3.98617468,
          4.041352047149999,
          4.0942364057,
          4.1474931769,
          4.20226411985,
          4.2590934431999985,
          4.3180739361,
          4.3793679356,
          4.4768694173000005,
          4.545524449049999,
          4.6156409122,
          4.6862017699,
          4.75738422335,
          4.82910142875,
          4.899975679500001,
          4.96840595555,
          5.03137968695,
          5.08670762585,
          5.13587032375,
          5.18125002015,
          5.1822832169,
          5.2221675294,
          5.2271802601,
          5.241050281000001,
          5.2638665002,
          5.2796156451,
          5.2917412195,
          5.29875469645,
          5.29888513325,
          5.290709673549999,
          5.2740646048,
          5.250390631549999,
          5.2212376805,
          5.18903398645,
          5.15937030345,
          5.1372670971,
          5.0972075214,
          4.98295757155,
          4.69581517185,
          3.9391831888,
          2.6455393592,
          1.2890431034299998
         ],
         "yaxis": "y"
        },
        {
         "marker": {
          "color": "black",
          "line": {
           "color": "black",
           "width": 5
          },
          "size": 7,
          "symbol": "circle"
         },
         "mode": "markers+lines",
         "name": "Experimental-Mean",
         "showlegend": false,
         "type": "scatter",
         "x": [
          0.008485280999999999,
          0.008909545,
          0.00933381,
          0.009758074,
          0.010182338,
          0.010606602,
          0.011030866,
          0.01145513,
          0.011879394,
          0.012303658,
          0.012727922,
          0.013152186000000001,
          0.01357645,
          0.014000714,
          0.014424978,
          0.014849242,
          0.015273506000000001,
          0.015697771,
          0.016122035,
          0.016546299,
          0.016970563,
          0.017394826999999998,
          0.017819091000000002,
          0.018243355,
          0.018667619,
          0.019091883,
          0.019516147,
          0.019940411,
          0.020364675,
          0.020788939,
          0.021213202999999996,
          0.021637467999999997,
          0.022061732,
          0.022485996,
          0.02291026,
          0.023334524,
          0.023758788,
          0.024183052000000003,
          0.024607316,
          0.02503158,
          0.025455844,
          0.025880108,
          0.026304372000000003,
          0.026728636,
          0.0271529,
          0.027577163999999998,
          0.028001428999999998,
          0.028425693,
          0.028849957000000002,
          0.029274221,
          0.029698485
         ],
         "xaxis": "x",
         "y": [
          1.046595068,
          1.086692123,
          1.0833851559999998,
          1.0973042179999999,
          1.088244466,
          1.081884321,
          1.0775763040000002,
          1.139926645,
          1.246521391,
          1.3951152930000001,
          1.574554365,
          1.805665369,
          2.045832191,
          2.287213127,
          2.480234896,
          2.625898884,
          2.7399622239999997,
          2.822260586,
          2.94075014,
          3.0339202419999998,
          3.131955356,
          3.276820025,
          3.387018248,
          3.501799975,
          3.656211952,
          3.812492498,
          3.918433678,
          3.9520378110000003,
          4.002921453,
          4.070949939,
          4.154816356,
          4.236161388999999,
          4.299845517,
          4.345570081,
          4.42039053,
          4.4986365930000005,
          4.626595695,
          4.731078957,
          4.84906331,
          4.9675469869999995,
          5.082629926,
          5.161360118999999,
          5.14227611,
          5.075841845,
          4.958755947,
          4.844415142,
          4.765155646,
          4.72697701,
          4.7343781730000005,
          4.532225572,
          3.461324238
         ],
         "yaxis": "y"
        },
        {
         "line": {
          "dash": "dash",
          "width": 5
         },
         "marker": {
          "color": "red",
          "line": {
           "color": "red"
          },
          "size": 7,
          "symbol": "triangle-right"
         },
         "mode": "lines",
         "name": "SBES-ASCII",
         "showlegend": false,
         "type": "scatter",
         "x": [
          0.004006316252929586,
          0.0040352383413836575,
          0.004056513334474382,
          0.004074572182711351,
          0.004096289350256054,
          0.0041538681617340895,
          0.004206363471690502,
          0.004274593764647528,
          0.004326620294697583,
          0.004329833239789787,
          0.004383763256234732,
          0.0044175872214919564,
          0.004507802062943135,
          0.004515195437021271,
          0.004861359054173951,
          0.005038135746383409,
          0.0052149124464400285,
          0.005391689142616193,
          0.005745242707640523,
          0.005922019399850015,
          0.006098796083936366,
          0.006452349484325599,
          0.006629126184537433,
          0.00680590286865834,
          0.006982679552813658,
          0.007336232945114286,
          0.0075130096452744235,
          0.007689786329464279,
          0.007866563045629174,
          0.008396893114013811,
          0.008573669814122206,
          0.008750446522336459,
          0.008927223198454955,
          0.009280776614814476,
          0.009457553282706406,
          0.009634329991110364,
          0.009811106683095658,
          0.010164660067445671,
          0.010341436767778284,
          0.010518213475854559,
          0.01069499016011343,
          0.01104854343196445,
          0.011225320332839465,
          0.011402097001007352,
          0.011578873636975963,
          0.011932427117578763,
          0.012109203753581894,
          0.012285980405641486,
          0.012462757153971157,
          0.012639533854148562,
          0.01281631052205772,
          0.012993087190260063,
          0.013169863954577251,
          0.013523417338823764,
          0.013700193974775166,
          0.013876970723156568,
          0.01405374740731195,
          0.014407300791023847,
          0.014584077459760859,
          0.014760854208176716,
          0.014937630891745724,
          0.015291184213352975,
          0.015467960961423903,
          0.015644737675864166,
          0.015821514344601183,
          0.016175067743817686,
          0.016351844446012932,
          0.01652862111406008,
          0.016705397813840797,
          0.01705895121322979,
          0.017235727899903158,
          0.017412504629692804,
          0.0175892813301634,
          0.01794283468212448,
          0.01811961138138781,
          0.018296388083238115,
          0.018473164832171388,
          0.018649941467450176,
          0.018826718167575838,
          0.01900349488339581,
          0.01935704823501197,
          0.019533824968595848,
          0.019710601668204108,
          0.01988737833590633,
          0.02024093175288676,
          0.0204177084368007,
          0.02059448510467537,
          0.020771261789279183,
          0.021124815236441004,
          0.0213015918582675,
          0.0214783685902992,
          0.02165514530577425,
          0.02200869869033123,
          0.02218547511916932,
          0.02236225188069254,
          0.0225390284861349,
          0.02289258169270796,
          0.023069358393868408,
          0.023246135189712167,
          0.023422911955202057,
          0.023776465355625845,
          0.023953241959343542,
          0.024130018624976192,
          0.024306795263359368,
          0.02466034879123479,
          0.02483712555568991,
          0.02501390219303829,
          0.025190678859878208,
          0.025544232228913367,
          0.025721008863847226,
          0.02589778566124316,
          0.0260745624265606,
          0.026428115696945725,
          0.026590782895714732,
          0.026596132596752173,
          0.026728740558805555,
          0.02680606621051431,
          0.02684491359020378,
          0.02692680755804669,
          0.027042866804236204,
          0.027208011324281748,
          0.027309835478590068,
          0.02741165698831903,
          0.02751348114262735,
          0.027717126820806768,
          0.02781895097511509,
          0.027920775115281283,
          0.02802259670330938,
          0.028226244947769017,
          0.028328069087935205,
          0.028429890611806306,
          0.028531714766114626,
          0.02873536049430891,
          0.02893900873876855,
          0.02904083031299945,
          0.029142654402805838,
          0.02924447855711415,
          0.029448124285653368,
          0.029550190729237938,
          0.02962996944371349,
          0.02970974288317244,
          0.029792550913809262,
          0.029844678656012712,
          0.02987605968071257,
          0.029902224915053982,
          0.029942214363256617,
          0.0299573687929483,
          0.02996999967167501,
          0.029980528491646875
         ],
         "xaxis": "x2",
         "y": [
          1.0666672952182927,
          1.2006775601500002,
          1.3041777431560977,
          1.374704845546341,
          1.437070124309756,
          1.5260640810317074,
          1.6044550415580645,
          1.5140542517,
          1.5448301866,
          1.6421076138238095,
          1.5716623149000002,
          1.5218112338999998,
          1.6284062375238095,
          1.5619338318,
          1.6439831429731708,
          1.6667439298048783,
          1.6473806691707316,
          1.604877574785366,
          1.5524269428926831,
          1.477107936285366,
          1.420010622197561,
          1.351225211187805,
          1.4031476025829268,
          1.4946107854390245,
          1.539179531092683,
          1.4880820273634148,
          1.4628679602634145,
          1.4447698676658536,
          1.4349853676487805,
          1.309322267582927,
          1.2725944243560976,
          1.2488711723219512,
          1.2545254278634146,
          1.419266935192683,
          1.50140659662439,
          1.6068301670073173,
          1.7551130437804878,
          2.0454989363902443,
          2.17882061895122,
          2.278165552146341,
          2.3590941844146345,
          2.4125955469512195,
          2.460621791097561,
          2.5044921740243904,
          2.5659161075853656,
          2.6499586216829267,
          2.708179457560976,
          2.807179959512195,
          2.86891696797561,
          2.9342817518780486,
          3.0141694534634147,
          3.112406530268293,
          3.225055114121952,
          3.3283951987073173,
          3.3977293582195114,
          3.463306765731707,
          3.5226235694390247,
          3.6009460473170734,
          3.6483785249756098,
          3.696784662146341,
          3.752056267512195,
          3.8567391433170735,
          3.890178725439025,
          3.9302526726585367,
          3.969600968829268,
          4.078939260951221,
          4.135846070780488,
          4.176760119902439,
          4.220514748902439,
          4.339089388707317,
          4.397321455707317,
          4.450438339487805,
          4.511750905878048,
          4.644141350390244,
          4.690690066121952,
          4.736821672024392,
          4.786992937365854,
          4.831105620487804,
          4.8767615260487815,
          4.9298872367073185,
          5.038567690365853,
          5.0835983123658535,
          5.134522307097561,
          5.185554857902439,
          5.275950484707316,
          5.3222463968780485,
          5.347745800365853,
          5.379097164536585,
          5.444616393195123,
          5.452692384756098,
          5.459061223390244,
          5.475707545243902,
          5.570489055317073,
          5.597066410365853,
          5.630014143243903,
          5.619940634463415,
          5.573091163341463,
          5.533608734414633,
          5.5643242417317085,
          5.582873966829269,
          5.5707676262682915,
          5.592083169560976,
          5.6422010600731705,
          5.673795046682928,
          5.70669388995122,
          5.6799723146341465,
          5.6566991106097575,
          5.648716888341464,
          5.53160209295122,
          5.487334833682927,
          5.4053373529268285,
          5.327121129780488,
          5.197214646634147,
          5.038822300619048,
          5.1553814942,
          4.991087583512195,
          4.946171343658536,
          4.83867088695122,
          4.776093666731708,
          4.749907127609756,
          4.583845050658537,
          4.504299318731706,
          4.424475565463415,
          4.370456189317073,
          4.303244719341464,
          4.264985047926829,
          4.2246991833902445,
          4.199718995560977,
          4.170720606585366,
          4.171679912609757,
          4.203084346731707,
          4.234800511658538,
          4.299871047609757,
          4.332809005292683,
          4.355907459097561,
          4.357149672682927,
          4.349984712317073,
          4.31533095802439,
          4.282293096121951,
          4.176275013390244,
          4.063592050512194,
          3.751294130487805,
          3.3309798816341467,
          2.9475442017317075,
          2.5241795808536587,
          1.6413404806268292,
          1.2402339408292684,
          0.8872873053634146,
          0.5842574307829269
         ],
         "yaxis": "y2"
        },
        {
         "line": {
          "dash": "dot",
          "width": 5
         },
         "marker": {
          "color": "green",
          "line": {
           "color": "green"
          },
          "size": 7,
          "symbol": "x"
         },
         "mode": "lines",
         "name": "IDDES-ASCII",
         "showlegend": false,
         "type": "scatter",
         "x": [
          0.0040063162609319655,
          0.004035238349420532,
          0.004056513278216275,
          0.004096289358292926,
          0.004122417239839346,
          0.0042063634823199135,
          0.004274593764647528,
          0.004326620294697583,
          0.0043298332711045094,
          0.0043837632232835546,
          0.004417587254443131,
          0.004684582358032298,
          0.004861359054173951,
          0.0052149124464400285,
          0.005391689142616193,
          0.005745242707640523,
          0.005922019399850015,
          0.0062755728002219565,
          0.006452349484325599,
          0.00680590286865834,
          0.006982679552813658,
          0.007336232945114286,
          0.0075130096452744235,
          0.007866563045629174,
          0.008220116413750195,
          0.008396893114013811,
          0.008750446522336459,
          0.008927223198454955,
          0.009280776614814476,
          0.009457553282706406,
          0.009811106683095658,
          0.009987883383462756,
          0.010341436767778284,
          0.010518213475854559,
          0.010871766836111194,
          0.01104854343196445,
          0.011402097001007352,
          0.011578873636975963,
          0.011932427117578763,
          0.012109203753581894,
          0.012462757153971157,
          0.012639533854148562,
          0.012993087190260063,
          0.013169863954577251,
          0.013523417338823764,
          0.013700193974775166,
          0.01405374740731195,
          0.01423052406106172,
          0.014584077459760859,
          0.014760854208176716,
          0.015114407560482747,
          0.015291184213352975,
          0.015644737675864166,
          0.015821514344601183,
          0.016175067743817686,
          0.016351844446012932,
          0.016705397813840797,
          0.016882174529315848,
          0.017235727899903158,
          0.017412504629692804,
          0.01776605799872794,
          0.01794283468212448,
          0.018296388083238115,
          0.018473164832171388,
          0.018826718167575838,
          0.01900349488339581,
          0.019180271535058788,
          0.019533824968595848,
          0.01988737833590633,
          0.0200641550374117,
          0.0204177084368007,
          0.02059448510467537,
          0.020948038537522584,
          0.021124815236441004,
          0.0214783685902992,
          0.02165514530577425,
          0.02200869869033123,
          0.02218547511916932,
          0.0225390284861349,
          0.022715805057774083,
          0.023069358393868408,
          0.023246135189712167,
          0.02359968868464676,
          0.023776465355625845,
          0.024130018624976192,
          0.024306795263359368,
          0.02466034879123479,
          0.02483712555568991,
          0.025190678859878208,
          0.02536745552844277,
          0.025721008863847226,
          0.02589778566124316,
          0.026251339029071025,
          0.026428115696945725,
          0.026596132531344786,
          0.026728740558805555,
          0.026806065761415268,
          0.02692680755804669,
          0.027042866804236204,
          0.027208011324281748,
          0.027309835478590068,
          0.027513481207129282,
          0.02761530529693567,
          0.02781895097511509,
          0.027920775115281283,
          0.028124420857617703,
          0.028328069087935205,
          0.028429890611806306,
          0.02863353885592101,
          0.02873536306058913,
          0.02893900873876855,
          0.029040832893076875,
          0.02924447855711415,
          0.02934630014514226,
          0.029550190729237938,
          0.02962996944371349,
          0.029738049767694757,
          0.029792550913809262,
          0.029876062182835776,
          0.029902224915053982,
          0.029942214363256617,
          0.0299573687929483,
          0.029980528491646875,
          0.029992959174301694
         ],
         "xaxis": "x2",
         "y": [
          1.0591711376926831,
          1.1986684195463415,
          1.319983282985366,
          1.4625794494341464,
          1.5038612460390244,
          1.605184820222581,
          1.4019894011,
          1.6721658598000002,
          1.6219943400571428,
          1.4643609468999998,
          1.6873072650999998,
          1.6156424126585367,
          1.5844668399024389,
          1.5421753638170732,
          1.5063737459243902,
          1.4197896837268291,
          1.380943002302439,
          1.4621691227634146,
          1.5107404798926831,
          1.5692185272170731,
          1.5643768817024388,
          1.578250386487805,
          1.5471378360390244,
          1.4563385434268292,
          1.3535187490439025,
          1.2944991026536583,
          1.2779629836756101,
          1.2966751662365854,
          1.4288138497878051,
          1.5576968779317073,
          1.7515092220243902,
          1.8771926023170733,
          2.1596864880243904,
          2.2715544819512195,
          2.3829580115121947,
          2.3966093662195123,
          2.504040841317073,
          2.572833920512195,
          2.7336809438780487,
          2.805650419414634,
          2.9559735631463417,
          3.0300307890731717,
          3.1411861483658536,
          3.184857565390244,
          3.3383027001951224,
          3.401960522195122,
          3.5219133940731706,
          3.5920583135853663,
          3.6918560545121952,
          3.726563168,
          3.8058912,
          3.840695472926829,
          3.894541794780488,
          3.938205161951219,
          4.047456642292683,
          4.09840156902439,
          4.206025741585366,
          4.266276648902439,
          4.386181450073171,
          4.463408568170732,
          4.599613385512195,
          4.6618222984390245,
          4.779995612609756,
          4.830233780463415,
          4.933216419439026,
          4.980527285097561,
          5.027200318609756,
          5.129566368317073,
          5.2167233827073165,
          5.249837692658536,
          5.292680120195122,
          5.312250303731707,
          5.371963970024391,
          5.411105267463415,
          5.4534217553170725,
          5.45646305714634,
          5.488672747097561,
          5.513298893390244,
          5.559189531585367,
          5.5989300625853655,
          5.651623714317073,
          5.65724864602439,
          5.664870238512195,
          5.678794694219513,
          5.669182702585366,
          5.622661212219511,
          5.657034680121951,
          5.6375454396585365,
          5.520302813560977,
          5.497086891243902,
          5.398693749731708,
          5.342776286146342,
          5.247663112121951,
          5.116858113682927,
          4.930035171,
          4.954793916268294,
          4.919917679317074,
          4.81831356502439,
          4.773304195414633,
          4.614140699146342,
          4.545505820853658,
          4.4112663834878045,
          4.3573274445853665,
          4.280406687682927,
          4.254390544585366,
          4.227770388756098,
          4.22139139307317,
          4.225706357,
          4.2567023183658526,
          4.2664698409268285,
          4.263496297878048,
          4.270874841609756,
          4.323822384463415,
          4.368005683731707,
          4.405776021073169,
          4.327320830951218,
          4.200702424780488,
          3.9713420596097566,
          3.0546780973902434,
          2.5697190792926827,
          1.639665561390244,
          1.2375793825097559,
          0.5864551907170732,
          0.22018155208963416
         ],
         "yaxis": "y2"
        },
        {
         "line": {
          "dash": "dashdot",
          "width": 5
         },
         "marker": {
          "color": "blue",
          "line": {
           "color": "blue"
          },
          "size": 7,
          "symbol": "circle"
         },
         "mode": "lines",
         "name": "KW-SST-ASCII",
         "showlegend": false,
         "type": "scatter",
         "x": [
          0.004018580273522146,
          0.004056512552654007,
          0.0040962888218092856,
          0.00415386775575994,
          0.004197246988099546,
          0.004274593764647528,
          0.004326620294697583,
          0.0043297926358630496,
          0.004383763256234732,
          0.0045151954534969,
          0.004861359102557256,
          0.005214912476993053,
          0.005568465991471341,
          0.005922019440047281,
          0.006275572888623232,
          0.006629126304247997,
          0.0069826796704813435,
          0.007336233053084247,
          0.007689786402912792,
          0.008043339768969442,
          0.008396893151713805,
          0.00875044656730328,
          0.00910399996648785,
          0.009457553349020074,
          0.00981110674820464,
          0.010164660114473405,
          0.010518213497182415,
          0.010871766846975595,
          0.011225320509486752,
          0.011578873629010666,
          0.01210920380176863,
          0.012462757250344576,
          0.012816310501178213,
          0.01316986411440402,
          0.013523417266631588,
          0.013876970912631835,
          0.014230523968551406,
          0.01458407764587654,
          0.01493763082999454,
          0.015291184345392244,
          0.0156447376921448,
          0.015998291143902856,
          0.016351844461310532,
          0.01670539787559188,
          0.017058951256992774,
          0.017412504673041847,
          0.017766058089798115,
          0.01811961143761136,
          0.0184731648554283,
          0.018826718237182672,
          0.019180271618230046,
          0.019533825003166427,
          0.0198873784181549,
          0.02024093176844307,
          0.020594485216665532,
          0.0209480385330126,
          0.021301592015176167,
          0.02165514523288186,
          0.022008698847274404,
          0.02236225209715345,
          0.022715805150456715,
          0.023069358137292068,
          0.0234229121798378,
          0.02377646549724549,
          0.02413001854807395,
          0.02448357186724946,
          0.024837125907673858,
          0.02519067895956294,
          0.025544232081809247,
          0.02589778566120001,
          0.02625133937317329,
          0.02659080391924516,
          0.02680600822932768,
          0.02684491359020378,
          0.027042866804236204,
          0.027208011324281745,
          0.027411656988319037,
          0.02761530266649845,
          0.02781895097511509,
          0.02802259663915237,
          0.028226242303189663,
          0.028429890611806306,
          0.028633538920422943,
          0.028837184584460232,
          0.02904083024849751,
          0.02924447855711416,
          0.029448124221151437,
          0.02962996944371348,
          0.02973804976769476,
          0.029844678656012712,
          0.029902224915053975,
          0.029942214363256617,
          0.029969999671675008,
          0.029992959174301687
         ],
         "xaxis": "x2",
         "y": [
          1.0918217100799998,
          1.18966804504,
          1.273340874075,
          1.36392987493,
          1.459129005,
          1.5118024582,
          1.5012589778,
          1.5983681240999998,
          1.5632657952000002,
          1.5823939337,
          1.6364078048,
          1.4727598861000002,
          1.2828458009550001,
          1.126647819725,
          1.0489535373999999,
          1.0723821827700002,
          1.1714760749350002,
          1.2973334918000001,
          1.3612701636000002,
          1.24941845009,
          1.0549960000749998,
          1.113253458565,
          1.3208092143,
          1.5888917729499998,
          1.8674519389,
          2.1165905609,
          2.31061091585,
          2.45939285845,
          2.57719970455,
          2.6728835795,
          2.8405353252000003,
          2.9751508906999997,
          3.10350825295,
          3.22761333545,
          3.35289582275,
          3.47350889815,
          3.5841449231999998,
          3.68926112925,
          3.7934225315499996,
          3.89809259175,
          4.0032448293,
          4.1081007285,
          4.2119940164,
          4.3144203689000005,
          4.4148731589,
          4.51329974555,
          4.61009141625,
          4.705637161,
          4.8000532323,
          4.8931292783,
          4.98421623425,
          5.07210902895,
          5.15520827815,
          5.23198765075,
          5.3015453561,
          5.3632056026,
          5.4157768161,
          5.4578151335000005,
          5.48890952015,
          5.510553326599999,
          5.5271210859,
          5.54556455,
          5.56791258095,
          5.594253382050001,
          5.6211601577999994,
          5.63909137685,
          5.636207559600001,
          5.6094791313000005,
          5.5712445588,
          5.52850624255,
          5.4444625126,
          5.3111343679999985,
          5.0520032459,
          4.96757326935,
          4.8666088205500015,
          4.7176283967,
          4.604598827,
          4.520483238300001,
          4.44978032215,
          4.3864261464,
          4.330191773999999,
          4.28320455205,
          4.248117998550001,
          4.22441146115,
          4.208426397799999,
          4.19190885355,
          4.14172031615,
          3.9799712704,
          3.8768803548000004,
          3.45136659545,
          2.8142970637999998,
          1.94053924045,
          1.05968461535,
          0.258259105522
         ],
         "yaxis": "y2"
        },
        {
         "marker": {
          "color": "black",
          "line": {
           "color": "black",
           "width": 5
          },
          "size": 7,
          "symbol": "circle"
         },
         "mode": "markers+lines",
         "name": "Experimental",
         "showlegend": false,
         "type": "scatter",
         "x": [
          0.010606602,
          0.011030866,
          0.01145513,
          0.011879394,
          0.012303658,
          0.012727922,
          0.013152186000000001,
          0.01357645,
          0.014000714,
          0.014424978,
          0.014849242,
          0.015273506000000001,
          0.015697771,
          0.016122035,
          0.016546299,
          0.016970563,
          0.017394826999999998,
          0.017819091000000002,
          0.018243355,
          0.018667619,
          0.019091883,
          0.019516147,
          0.019940411,
          0.020364675,
          0.020788939,
          0.021213202999999996,
          0.021637467999999997,
          0.022061732,
          0.022485996,
          0.02291026,
          0.023334524,
          0.023758788,
          0.024183052000000003,
          0.024607316,
          0.02503158,
          0.025455844,
          0.025880108,
          0.026304372000000003,
          0.026728636,
          0.0271529,
          0.027577163999999998,
          0.028001428999999998,
          0.028425693,
          0.028849957000000002,
          0.029274221,
          0.029698485
         ],
         "xaxis": "x2",
         "y": [
          1.47032772,
          1.689174954,
          1.894064756,
          2.1264871430000003,
          2.272784263,
          2.401318668,
          2.539667012,
          2.702462469,
          2.9061367989999995,
          3.119637635,
          3.3210095739999996,
          3.474365057,
          3.635859025,
          3.738272228,
          3.8512608860000004,
          3.940958453,
          4.027355506,
          4.093390321,
          4.171549409,
          4.233102482,
          4.309599319,
          4.382101112,
          4.472128745,
          4.571983234,
          4.643674635,
          4.753780094,
          4.874157148,
          5.011895485,
          5.137635037,
          5.231361781,
          5.326111497,
          5.411827194,
          5.449271872000001,
          5.471819192000001,
          5.403731552999999,
          5.253643708,
          5.073704115,
          4.867885108,
          4.68587519,
          4.525651246,
          4.473294948,
          4.484477779,
          4.507906786,
          4.520033153,
          4.604753542,
          3.9764802830000003
         ],
         "yaxis": "y2"
        }
       ],
       "layout": {
        "font": {
         "family": "Arial",
         "size": 32
        },
        "height": 600,
        "legend": {
         "itemsizing": "constant"
        },
        "template": {
         "data": {
          "bar": [
           {
            "error_x": {
             "color": "#2a3f5f"
            },
            "error_y": {
             "color": "#2a3f5f"
            },
            "marker": {
             "line": {
              "color": "#E5ECF6",
              "width": 0.5
             }
            },
            "type": "bar"
           }
          ],
          "barpolar": [
           {
            "marker": {
             "line": {
              "color": "#E5ECF6",
              "width": 0.5
             }
            },
            "type": "barpolar"
           }
          ],
          "carpet": [
           {
            "aaxis": {
             "endlinecolor": "#2a3f5f",
             "gridcolor": "white",
             "linecolor": "white",
             "minorgridcolor": "white",
             "startlinecolor": "#2a3f5f"
            },
            "baxis": {
             "endlinecolor": "#2a3f5f",
             "gridcolor": "white",
             "linecolor": "white",
             "minorgridcolor": "white",
             "startlinecolor": "#2a3f5f"
            },
            "type": "carpet"
           }
          ],
          "choropleth": [
           {
            "colorbar": {
             "outlinewidth": 0,
             "ticks": ""
            },
            "type": "choropleth"
           }
          ],
          "contour": [
           {
            "colorbar": {
             "outlinewidth": 0,
             "ticks": ""
            },
            "colorscale": [
             [
              0.0,
              "#0d0887"
             ],
             [
              0.1111111111111111,
              "#46039f"
             ],
             [
              0.2222222222222222,
              "#7201a8"
             ],
             [
              0.3333333333333333,
              "#9c179e"
             ],
             [
              0.4444444444444444,
              "#bd3786"
             ],
             [
              0.5555555555555556,
              "#d8576b"
             ],
             [
              0.6666666666666666,
              "#ed7953"
             ],
             [
              0.7777777777777778,
              "#fb9f3a"
             ],
             [
              0.8888888888888888,
              "#fdca26"
             ],
             [
              1.0,
              "#f0f921"
             ]
            ],
            "type": "contour"
           }
          ],
          "contourcarpet": [
           {
            "colorbar": {
             "outlinewidth": 0,
             "ticks": ""
            },
            "type": "contourcarpet"
           }
          ],
          "heatmap": [
           {
            "colorbar": {
             "outlinewidth": 0,
             "ticks": ""
            },
            "colorscale": [
             [
              0.0,
              "#0d0887"
             ],
             [
              0.1111111111111111,
              "#46039f"
             ],
             [
              0.2222222222222222,
              "#7201a8"
             ],
             [
              0.3333333333333333,
              "#9c179e"
             ],
             [
              0.4444444444444444,
              "#bd3786"
             ],
             [
              0.5555555555555556,
              "#d8576b"
             ],
             [
              0.6666666666666666,
              "#ed7953"
             ],
             [
              0.7777777777777778,
              "#fb9f3a"
             ],
             [
              0.8888888888888888,
              "#fdca26"
             ],
             [
              1.0,
              "#f0f921"
             ]
            ],
            "type": "heatmap"
           }
          ],
          "heatmapgl": [
           {
            "colorbar": {
             "outlinewidth": 0,
             "ticks": ""
            },
            "colorscale": [
             [
              0.0,
              "#0d0887"
             ],
             [
              0.1111111111111111,
              "#46039f"
             ],
             [
              0.2222222222222222,
              "#7201a8"
             ],
             [
              0.3333333333333333,
              "#9c179e"
             ],
             [
              0.4444444444444444,
              "#bd3786"
             ],
             [
              0.5555555555555556,
              "#d8576b"
             ],
             [
              0.6666666666666666,
              "#ed7953"
             ],
             [
              0.7777777777777778,
              "#fb9f3a"
             ],
             [
              0.8888888888888888,
              "#fdca26"
             ],
             [
              1.0,
              "#f0f921"
             ]
            ],
            "type": "heatmapgl"
           }
          ],
          "histogram": [
           {
            "marker": {
             "colorbar": {
              "outlinewidth": 0,
              "ticks": ""
             }
            },
            "type": "histogram"
           }
          ],
          "histogram2d": [
           {
            "colorbar": {
             "outlinewidth": 0,
             "ticks": ""
            },
            "colorscale": [
             [
              0.0,
              "#0d0887"
             ],
             [
              0.1111111111111111,
              "#46039f"
             ],
             [
              0.2222222222222222,
              "#7201a8"
             ],
             [
              0.3333333333333333,
              "#9c179e"
             ],
             [
              0.4444444444444444,
              "#bd3786"
             ],
             [
              0.5555555555555556,
              "#d8576b"
             ],
             [
              0.6666666666666666,
              "#ed7953"
             ],
             [
              0.7777777777777778,
              "#fb9f3a"
             ],
             [
              0.8888888888888888,
              "#fdca26"
             ],
             [
              1.0,
              "#f0f921"
             ]
            ],
            "type": "histogram2d"
           }
          ],
          "histogram2dcontour": [
           {
            "colorbar": {
             "outlinewidth": 0,
             "ticks": ""
            },
            "colorscale": [
             [
              0.0,
              "#0d0887"
             ],
             [
              0.1111111111111111,
              "#46039f"
             ],
             [
              0.2222222222222222,
              "#7201a8"
             ],
             [
              0.3333333333333333,
              "#9c179e"
             ],
             [
              0.4444444444444444,
              "#bd3786"
             ],
             [
              0.5555555555555556,
              "#d8576b"
             ],
             [
              0.6666666666666666,
              "#ed7953"
             ],
             [
              0.7777777777777778,
              "#fb9f3a"
             ],
             [
              0.8888888888888888,
              "#fdca26"
             ],
             [
              1.0,
              "#f0f921"
             ]
            ],
            "type": "histogram2dcontour"
           }
          ],
          "mesh3d": [
           {
            "colorbar": {
             "outlinewidth": 0,
             "ticks": ""
            },
            "type": "mesh3d"
           }
          ],
          "parcoords": [
           {
            "line": {
             "colorbar": {
              "outlinewidth": 0,
              "ticks": ""
             }
            },
            "type": "parcoords"
           }
          ],
          "pie": [
           {
            "automargin": true,
            "type": "pie"
           }
          ],
          "scatter": [
           {
            "marker": {
             "colorbar": {
              "outlinewidth": 0,
              "ticks": ""
             }
            },
            "type": "scatter"
           }
          ],
          "scatter3d": [
           {
            "line": {
             "colorbar": {
              "outlinewidth": 0,
              "ticks": ""
             }
            },
            "marker": {
             "colorbar": {
              "outlinewidth": 0,
              "ticks": ""
             }
            },
            "type": "scatter3d"
           }
          ],
          "scattercarpet": [
           {
            "marker": {
             "colorbar": {
              "outlinewidth": 0,
              "ticks": ""
             }
            },
            "type": "scattercarpet"
           }
          ],
          "scattergeo": [
           {
            "marker": {
             "colorbar": {
              "outlinewidth": 0,
              "ticks": ""
             }
            },
            "type": "scattergeo"
           }
          ],
          "scattergl": [
           {
            "marker": {
             "colorbar": {
              "outlinewidth": 0,
              "ticks": ""
             }
            },
            "type": "scattergl"
           }
          ],
          "scattermapbox": [
           {
            "marker": {
             "colorbar": {
              "outlinewidth": 0,
              "ticks": ""
             }
            },
            "type": "scattermapbox"
           }
          ],
          "scatterpolar": [
           {
            "marker": {
             "colorbar": {
              "outlinewidth": 0,
              "ticks": ""
             }
            },
            "type": "scatterpolar"
           }
          ],
          "scatterpolargl": [
           {
            "marker": {
             "colorbar": {
              "outlinewidth": 0,
              "ticks": ""
             }
            },
            "type": "scatterpolargl"
           }
          ],
          "scatterternary": [
           {
            "marker": {
             "colorbar": {
              "outlinewidth": 0,
              "ticks": ""
             }
            },
            "type": "scatterternary"
           }
          ],
          "surface": [
           {
            "colorbar": {
             "outlinewidth": 0,
             "ticks": ""
            },
            "colorscale": [
             [
              0.0,
              "#0d0887"
             ],
             [
              0.1111111111111111,
              "#46039f"
             ],
             [
              0.2222222222222222,
              "#7201a8"
             ],
             [
              0.3333333333333333,
              "#9c179e"
             ],
             [
              0.4444444444444444,
              "#bd3786"
             ],
             [
              0.5555555555555556,
              "#d8576b"
             ],
             [
              0.6666666666666666,
              "#ed7953"
             ],
             [
              0.7777777777777778,
              "#fb9f3a"
             ],
             [
              0.8888888888888888,
              "#fdca26"
             ],
             [
              1.0,
              "#f0f921"
             ]
            ],
            "type": "surface"
           }
          ],
          "table": [
           {
            "cells": {
             "fill": {
              "color": "#EBF0F8"
             },
             "line": {
              "color": "white"
             }
            },
            "header": {
             "fill": {
              "color": "#C8D4E3"
             },
             "line": {
              "color": "white"
             }
            },
            "type": "table"
           }
          ]
         },
         "layout": {
          "annotationdefaults": {
           "arrowcolor": "#2a3f5f",
           "arrowhead": 0,
           "arrowwidth": 1
          },
          "coloraxis": {
           "colorbar": {
            "outlinewidth": 0,
            "ticks": ""
           }
          },
          "colorscale": {
           "diverging": [
            [
             0,
             "#8e0152"
            ],
            [
             0.1,
             "#c51b7d"
            ],
            [
             0.2,
             "#de77ae"
            ],
            [
             0.3,
             "#f1b6da"
            ],
            [
             0.4,
             "#fde0ef"
            ],
            [
             0.5,
             "#f7f7f7"
            ],
            [
             0.6,
             "#e6f5d0"
            ],
            [
             0.7,
             "#b8e186"
            ],
            [
             0.8,
             "#7fbc41"
            ],
            [
             0.9,
             "#4d9221"
            ],
            [
             1,
             "#276419"
            ]
           ],
           "sequential": [
            [
             0.0,
             "#0d0887"
            ],
            [
             0.1111111111111111,
             "#46039f"
            ],
            [
             0.2222222222222222,
             "#7201a8"
            ],
            [
             0.3333333333333333,
             "#9c179e"
            ],
            [
             0.4444444444444444,
             "#bd3786"
            ],
            [
             0.5555555555555556,
             "#d8576b"
            ],
            [
             0.6666666666666666,
             "#ed7953"
            ],
            [
             0.7777777777777778,
             "#fb9f3a"
            ],
            [
             0.8888888888888888,
             "#fdca26"
            ],
            [
             1.0,
             "#f0f921"
            ]
           ],
           "sequentialminus": [
            [
             0.0,
             "#0d0887"
            ],
            [
             0.1111111111111111,
             "#46039f"
            ],
            [
             0.2222222222222222,
             "#7201a8"
            ],
            [
             0.3333333333333333,
             "#9c179e"
            ],
            [
             0.4444444444444444,
             "#bd3786"
            ],
            [
             0.5555555555555556,
             "#d8576b"
            ],
            [
             0.6666666666666666,
             "#ed7953"
            ],
            [
             0.7777777777777778,
             "#fb9f3a"
            ],
            [
             0.8888888888888888,
             "#fdca26"
            ],
            [
             1.0,
             "#f0f921"
            ]
           ]
          },
          "colorway": [
           "#636efa",
           "#EF553B",
           "#00cc96",
           "#ab63fa",
           "#FFA15A",
           "#19d3f3",
           "#FF6692",
           "#B6E880",
           "#FF97FF",
           "#FECB52"
          ],
          "font": {
           "color": "#2a3f5f"
          },
          "geo": {
           "bgcolor": "white",
           "lakecolor": "white",
           "landcolor": "#E5ECF6",
           "showlakes": true,
           "showland": true,
           "subunitcolor": "white"
          },
          "hoverlabel": {
           "align": "left"
          },
          "hovermode": "closest",
          "mapbox": {
           "style": "light"
          },
          "paper_bgcolor": "white",
          "plot_bgcolor": "#E5ECF6",
          "polar": {
           "angularaxis": {
            "gridcolor": "white",
            "linecolor": "white",
            "ticks": ""
           },
           "bgcolor": "#E5ECF6",
           "radialaxis": {
            "gridcolor": "white",
            "linecolor": "white",
            "ticks": ""
           }
          },
          "scene": {
           "xaxis": {
            "backgroundcolor": "#E5ECF6",
            "gridcolor": "white",
            "gridwidth": 2,
            "linecolor": "white",
            "showbackground": true,
            "ticks": "",
            "zerolinecolor": "white"
           },
           "yaxis": {
            "backgroundcolor": "#E5ECF6",
            "gridcolor": "white",
            "gridwidth": 2,
            "linecolor": "white",
            "showbackground": true,
            "ticks": "",
            "zerolinecolor": "white"
           },
           "zaxis": {
            "backgroundcolor": "#E5ECF6",
            "gridcolor": "white",
            "gridwidth": 2,
            "linecolor": "white",
            "showbackground": true,
            "ticks": "",
            "zerolinecolor": "white"
           }
          },
          "shapedefaults": {
           "line": {
            "color": "#2a3f5f"
           }
          },
          "ternary": {
           "aaxis": {
            "gridcolor": "white",
            "linecolor": "white",
            "ticks": ""
           },
           "baxis": {
            "gridcolor": "white",
            "linecolor": "white",
            "ticks": ""
           },
           "bgcolor": "#E5ECF6",
           "caxis": {
            "gridcolor": "white",
            "linecolor": "white",
            "ticks": ""
           }
          },
          "title": {
           "x": 0.05
          },
          "xaxis": {
           "automargin": true,
           "gridcolor": "white",
           "linecolor": "white",
           "ticks": "",
           "title": {
            "standoff": 15
           },
           "zerolinecolor": "white",
           "zerolinewidth": 2
          },
          "yaxis": {
           "automargin": true,
           "gridcolor": "white",
           "linecolor": "white",
           "ticks": "",
           "title": {
            "standoff": 15
           },
           "zerolinecolor": "white",
           "zerolinewidth": 2
          }
         }
        },
        "title": {
         "text": "Velocity Magnitude vs Experimental"
        },
        "width": 1605,
        "xaxis": {
         "anchor": "y",
         "domain": [
          0.0,
          0.475
         ]
        },
        "xaxis2": {
         "anchor": "y2",
         "domain": [
          0.525,
          1.0
         ]
        },
        "yaxis": {
         "anchor": "x",
         "domain": [
          0.0,
          1.0
         ]
        },
        "yaxis2": {
         "anchor": "x2",
         "domain": [
          0.0,
          1.0
         ],
         "matches": "y",
         "showticklabels": false
        }
       }
      },
      "text/html": "<div>\n        \n        \n            <div id=\"3718a1a4-a7e8-4ed9-9119-50abdb435fb0\" class=\"plotly-graph-div\" style=\"height:600px; width:1605px;\"></div>\n            <script type=\"text/javascript\">\n                require([\"plotly\"], function(Plotly) {\n                    window.PLOTLYENV=window.PLOTLYENV || {};\n                    \n                if (document.getElementById(\"3718a1a4-a7e8-4ed9-9119-50abdb435fb0\")) {\n                    Plotly.newPlot(\n                        '3718a1a4-a7e8-4ed9-9119-50abdb435fb0',\n                        [{\"line\": {\"dash\": \"dash\", \"width\": 5}, \"marker\": {\"color\": \"red\", \"line\": {\"color\": \"red\"}, \"size\": 7, \"symbol\": \"triangle-right\"}, \"mode\": \"lines\", \"name\": \"SBES-ASCII\", \"showlegend\": false, \"type\": \"scatter\", \"x\": [0.004006315132562008, 0.004018580885474775, 0.0040352382229260275, 0.004074573523937696, 0.0040962914342722034, 0.004122420444274813, 0.004153872578805947, 0.004197247054001896, 0.0042745938302670376, 0.004326620294697583, 0.004329752003591482, 0.0044175871555896026, 0.004507801913979152, 0.004515195437021271, 0.004684582273714052, 0.0048613589778753385, 0.005214912374159849, 0.0053916890703532595, 0.00556846581475064, 0.005745242635343107, 0.005922019319550215, 0.006275572719922158, 0.006452349396006181, 0.006629126112257259, 0.006805902796395414, 0.007159456172656777, 0.0073362328728513735, 0.00751300958103113, 0.007689786257166873, 0.00804333965740091, 0.008220116349506914, 0.008396893057790159, 0.008573669741859294, 0.008927223150250928, 0.009103999818229076, 0.009280776518423704, 0.00963432991079334, 0.00981110661083276, 0.009987883303145728, 0.010164660019241644, 0.010518213395554782, 0.010694990087833277, 0.010871766787907168, 0.011048543367721169, 0.011402096920707571, 0.011578873540602441, 0.011755650288949312, 0.01193242702120525, 0.01210920365720838, 0.012285980341380969, 0.012462757089710631, 0.012816310457814444, 0.013169863890316729, 0.013346640526388854, 0.013523417242467492, 0.013700193942679382, 0.014053747326994931, 0.014230524028983175, 0.014407300710655088, 0.014584077427682338, 0.014937630811376971, 0.01511440749615324, 0.015291184165235184, 0.015467960929345366, 0.015821514280444142, 0.015998290965737794, 0.016175067679488175, 0.01635184434960492, 0.016705397749511294, 0.016882174464986344, 0.01705895114907275, 0.017235727835573658, 0.017589281233927855, 0.017766057918359182, 0.017942834634006696, 0.018119611284979808, 0.018473164719724128, 0.018649941403120672, 0.01900349478698781, 0.01918027147090174, 0.019357048186894186, 0.01953382487236031, 0.01988737827140436, 0.020064154957042956, 0.020240931656651213, 0.020417708372471203, 0.020771261741161392, 0.02094803845715384, 0.021124815188323216, 0.02130159182618897, 0.021655145225405497, 0.02183192192673841, 0.02200869859392324, 0.022185475054839827, 0.02253902845405636, 0.022715804993617063, 0.02289258159629995, 0.023069358265381902, 0.023422911826715544, 0.023599688652568226, 0.023776465291296348, 0.02395324189501406, 0.024306795199029882, 0.024483571899155523, 0.0246603487269053, 0.024837125491532858, 0.025190678763470208, 0.025367455432034773, 0.025544232164583867, 0.02572100876743922, 0.026074562330325044, 0.026251338964913988, 0.02642811566469473, 0.026590804313810768, 0.02659632068968135, 0.026805878926557173, 0.026945710417353986, 0.0270682154933973, 0.02720748185686614, 0.02729725464888133, 0.027500900312918616, 0.027602724467226936, 0.027704546041457837, 0.027806370131264226, 0.028010018439880862, 0.028111839949609824, 0.028213664103918144, 0.02831548825822646, 0.02851913392226375, 0.02862095807657207, 0.0287227822308804, 0.028824603754751495, 0.029028252049226006, 0.029130073573097093, 0.029231897727405424, 0.029333721881713737, 0.02953715153877151, 0.029609125194454168, 0.029726148487953626, 0.02981023941621481, 0.02987661280033262, 0.0299026595453081, 0.029924373083359924, 0.029942472513800288, 0.029970134021963427, 0.02998061540921242, 0.029992993419483107], \"xaxis\": \"x\", \"y\": [1.035931570390244, 1.0252786586390243, 1.0235090454036586, 1.045862324514634, 1.0659311542829268, 1.093864154790244, 1.1263991562878048, 1.29498566452, 1.4649485968599998, 1.2513293460400001, 1.2506739404809524, 1.31927369977, 1.3801666284904757, 1.47330422002, 1.485971538202439, 1.4999919278512197, 1.4895440057536586, 1.4400253156243903, 1.4176064488365854, 1.448765216614634, 1.4566267436073168, 1.3976376574414633, 1.3892350484121951, 1.3577299360414634, 1.3410070153048779, 1.372829473868293, 1.3650539074024388, 1.3580737432365853, 1.348700266192683, 1.3615737688463416, 1.3745853257536589, 1.3804158186487805, 1.397921714853659, 1.4811817897195119, 1.5033123497878047, 1.5267162720073169, 1.6142441847097557, 1.667014712407317, 1.701469385509756, 1.7250313798536585, 1.7134258522926828, 1.7124684731609756, 1.7219083005097562, 1.6870322052634146, 1.6321117687634146, 1.6231265890317073, 1.621967149285366, 1.6235374742170734, 1.6572485282829268, 1.7400934175926832, 1.7659729650219511, 1.7873923830121952, 1.7911557855707316, 1.7853348679560976, 1.7822164388121953, 1.8193288422853655, 1.8938315396341463, 1.9877604942487803, 2.0072340033414635, 2.0612579456731708, 2.1290800116097564, 2.2144235200243902, 2.301236770780488, 2.3706033109487805, 2.6181649010243904, 2.742190334097561, 2.8135836660487805, 2.908061781292683, 3.1742648163658536, 3.2684606309268296, 3.3496307782439017, 3.4338985548536587, 3.640256335414634, 3.68699356002439, 3.7193030310731703, 3.736655723536585, 3.7747638045853664, 3.804227596170732, 3.8474981355853664, 3.8744053522195117, 3.9107007380487806, 3.9523391093414633, 4.029372823146342, 4.058984941780489, 4.091841736829268, 4.1248322255365855, 4.193273440853658, 4.227543126317073, 4.261083505268293, 4.293975987, 4.34508313497561, 4.368595380146342, 4.396944423268293, 4.423207734439026, 4.4950320852195125, 4.527930132658536, 4.549439513341464, 4.572345244536585, 4.674694967853658, 4.722725687682926, 4.77303533804878, 4.837474397634146, 4.939543764804878, 4.966814200902439, 4.982485126756098, 5.017386277975611, 5.089154694219513, 5.1227948076585355, 5.162864923902438, 5.1997246698536586, 5.223547206682927, 5.2203505001951225, 5.2266056463658535, 5.282997915299999, 5.200472252, 5.250537270609756, 5.230643219170731, 5.219947607195122, 5.215225037170732, 5.202187698536585, 5.188245981195122, 5.1790101809756095, 5.178309061756098, 5.166225939731707, 5.146209641268293, 5.144110197365854, 5.12945043985366, 5.1306200315609765, 5.129102016878049, 5.1144793613170725, 5.131652067317074, 5.110481739829268, 5.069824670634146, 5.033413788585365, 5.0160627562926825, 5.001320324121951, 4.99058621692683, 5.004483806829269, 4.999371497707316, 4.971403261512196, 4.6395713910000005, 4.257768239536585, 3.6994013042439033, 3.0339622825365846, 1.7029332489512194, 1.1290907595268294, 0.4229106535536585], \"yaxis\": \"y\"}, {\"line\": {\"dash\": \"dot\", \"width\": 5}, \"marker\": {\"color\": \"green\", \"line\": {\"color\": \"green\"}, \"size\": 7, \"symbol\": \"x\"}, \"mode\": \"lines\", \"name\": \"IDDES-ASCII\", \"showlegend\": false, \"type\": \"scatter\", \"x\": [0.004018580905566956, 0.0040352382229260275, 0.004074573515900824, 0.004096291450345947, 0.004153872562732202, 0.004197246988099546, 0.004206311882183381, 0.0042745938302670376, 0.004417587254443131, 0.004507801913979152, 0.004515195453496869, 0.004684582273714052, 0.0050381356821401, 0.005214912374159849, 0.00556846581475064, 0.005745242635343107, 0.0060987960116734435, 0.006275572719922158, 0.006629126112257259, 0.006805902796395414, 0.007159456172656777, 0.0073362328728513735, 0.007689786257166873, 0.007866562965329386, 0.00804333965740091, 0.008396893057790159, 0.008573669741859294, 0.008927223150250928, 0.009103999818229076, 0.009457553218463123, 0.00963432991079334, 0.009987883303145728, 0.010164660019241644, 0.010341436695498123, 0.010518213395554782, 0.010871766787907168, 0.011048543367721169, 0.011402096920707571, 0.011578873540602441, 0.01193242702120525, 0.01210920365720838, 0.012462757089710631, 0.012639533757775049, 0.012993087126016772, 0.013169863890316729, 0.013523417242467492, 0.013700193942679382, 0.014053747326994931, 0.014230524028983175, 0.014584077427682338, 0.014760854127980425, 0.01511440749615324, 0.015291184165235184, 0.01564473757945616, 0.015821514280444142, 0.016175067679488175, 0.01635184434960492, 0.016705397749511294, 0.016882174464986344, 0.017235727835573658, 0.01741250454932405, 0.017766057918359182, 0.017942834634006696, 0.018296388003041838, 0.018473164719724128, 0.018826718103246327, 0.01900349478698781, 0.019357048186894186, 0.019710601603874604, 0.01988737827140436, 0.020240931656651213, 0.020417708372471203, 0.020771261741161392, 0.02094803845715384, 0.02130159182618897, 0.021478368509930446, 0.02183192192673841, 0.02200869859392324, 0.022362251848614, 0.02253902845405636, 0.02289258159629995, 0.023069358265381902, 0.023422911826715544, 0.023599688652568226, 0.02395324189501406, 0.02413001852856821, 0.024483571899155523, 0.0246603487269053, 0.02501390209663029, 0.025190678763470208, 0.025544232164583867, 0.02572100876743922, 0.026074562330325044, 0.02642811566469473, 0.026590804445332638, 0.026805878413301128, 0.026945710417353986, 0.0270682154933973, 0.02729725464888133, 0.02739907615861029, 0.027602724467226936, 0.027704548621535263, 0.027908194285572542, 0.028010018439880862, 0.028213664103918144, 0.02831548825822646, 0.02851913392226375, 0.02862095807657207, 0.028824603754751495, 0.028926427894917683, 0.029028252049226006, 0.029231897727405424, 0.029333721881713737, 0.02953715153877151, 0.029609125194454168, 0.02981023941621481, 0.02984537145095264, 0.0299026595453081, 0.029924373083359924, 0.029957561083566377, 0.029970134021963427, 0.029992993419483107], \"xaxis\": \"x\", \"y\": [1.038040173990244, 1.036577933335366, 1.0495578321707315, 1.063468436807317, 1.0991406639121952, 0.85158492889, 1.2197104629387097, 0.95694757289, 0.95595611275, 1.5160266361142856, 1.0106031987150002, 1.3296658303024391, 1.4317918145609756, 1.4459905253, 1.4665962570317073, 1.438003917373171, 1.3540058070512195, 1.3366988448609756, 1.3075097143170729, 1.2982301788463415, 1.319747065702439, 1.3518906562878048, 1.350692883714634, 1.3698857937146345, 1.3509050221097558, 1.3900151377536585, 1.4375181518268294, 1.5601749598487804, 1.5928378520243902, 1.5989038318536588, 1.5802124194121951, 1.5588258851707315, 1.5388889287682928, 1.5289395530341463, 1.5276044636756096, 1.602816540397561, 1.6006373195951218, 1.5053548840804878, 1.4571879687585367, 1.5510180196414634, 1.6079637374878049, 1.6051792672097558, 1.6359449340658538, 1.748893273392683, 1.7521736620756097, 1.7665950701390245, 1.8035060112219512, 1.9618444548073173, 2.044983447631707, 2.1452706107926827, 2.2092111773341463, 2.4339111379512195, 2.4349686986097563, 2.4705670616829267, 2.583170871195122, 2.8922463514390246, 2.992559280219512, 3.1528472974146338, 3.229896307512195, 3.4524666991219513, 3.5464262286829267, 3.6758650933170736, 3.7153354234146345, 3.7836616532682927, 3.8023606711951214, 3.863746380365853, 3.8999618853658538, 3.9574789046341454, 3.9908913390975607, 4.005428134731708, 4.074035080487805, 4.116617144902439, 4.180306129073172, 4.2133476613902445, 4.284821656560975, 4.297114817170732, 4.343410726609757, 4.3823137726097565, 4.4886859824146335, 4.538068597219512, 4.600492473268293, 4.634444509585366, 4.7147006635609765, 4.761891128268292, 4.851341783390244, 4.890644886658538, 4.976270824390244, 5.026618941829268, 5.082271012365854, 5.1005381055853665, 5.120464093902438, 5.144904127317074, 5.224728249463414, 5.283352821463415, 5.24708368005, 5.316024016268293, 5.288477834195122, 5.286920368878048, 5.270405327756097, 5.271873499341464, 5.251170069463416, 5.241559630999999, 5.256652562780488, 5.243891409317073, 5.223863539317073, 5.233622788439026, 5.197608483756097, 5.1693440412682925, 5.139987494780487, 5.1314452332195115, 5.097338477439026, 5.048565623195121, 5.029068948292683, 5.013519644682926, 5.012526910439023, 4.988606109926829, 4.855791826707319, 4.153913692414633, 3.558012059878049, 2.222476416317073, 1.606958899902439, 0.3983221056182927], \"yaxis\": \"y\"}, {\"line\": {\"dash\": \"dashdot\", \"width\": 5}, \"marker\": {\"color\": \"blue\", \"line\": {\"color\": \"blue\"}, \"size\": 7, \"symbol\": \"circle\"}, \"mode\": \"lines\", \"name\": \"KW-SST-ASCII\", \"showlegend\": false, \"type\": \"scatter\", \"x\": [0.004006314799649237, 0.0040352372597983, 0.0040745715880638675, 0.0041224168547903855, 0.004197246922197193, 0.0043297926523386265, 0.004383763322137084, 0.00441758708968725, 0.004684582411255817, 0.005038135810475703, 0.005391689176567628, 0.005745242764973886, 0.006098796131242592, 0.006275572888623232, 0.006629126304247997, 0.0069826796704813435, 0.007336233069559842, 0.00768978640287743, 0.00804333978544502, 0.008396893184629623, 0.008750446550863036, 0.009103999950047608, 0.009457553349055414, 0.0098111067317644, 0.010164660147389213, 0.010518213497182396, 0.010871766879891406, 0.011225320509486752, 0.011755650353192556, 0.01210920380176863, 0.012462757250344576, 0.012816310501178213, 0.013169864147319823, 0.01352341723368041, 0.013876970912631835, 0.014230524001431863, 0.014584077711637453, 0.014937630862875013, 0.015291184378272682, 0.0156447376921448, 0.015998291111022377, 0.016351844494190988, 0.016705397842711404, 0.017058951289873232, 0.017412504640161367, 0.017766058089444557, 0.01811961140473088, 0.018473164822547832, 0.01882671826970956, 0.019180271552469097, 0.019533825036046875, 0.019887378384920863, 0.020240931801677072, 0.020594485150904583, 0.02094803853301259, 0.02130159204841018, 0.021655145265762312, 0.022008698814393927, 0.02253902855839772, 0.02289258161099391, 0.02324613512568448, 0.023599688968472525, 0.02395324202177581, 0.02430679507684696, 0.02466034891963502, 0.025013902370332342, 0.025367455488335938, 0.02572100867280761, 0.0260745626495924, 0.02642811589876428, 0.02659080391924516, 0.02659613272827404, 0.026806008097805815, 0.026945710417353986, 0.02720748185686613, 0.027399077473828932, 0.027602724467226936, 0.02780637013126422, 0.02801001843988087, 0.028213664103918144, 0.028417312412534795, 0.02862095807657207, 0.028824603754751495, 0.029028252049226003, 0.02923189772740542, 0.029435546021879932, 0.029609125194454168, 0.02981023941621481, 0.029876612800332613, 0.029924373083359924, 0.029957561083566377, 0.02998061540921242], \"xaxis\": \"x\", \"y\": [1.0345689760475, 1.011267974615, 1.019362537005, 1.07346041765, 1.22962813006, 1.45780808999, 1.6516044023999998, 1.6147770257799998, 1.655105202325, 1.58139903081, 1.521283012235, 1.490507651365, 1.4435141540749998, 1.4171487718399998, 1.3818893522100002, 1.3743075025799998, 1.382499557515, 1.4010088978900002, 1.42330970136, 1.44292582635, 1.46224816965, 1.4828870163, 1.50381693795, 1.5288925106, 1.5516525154499998, 1.5514032065999999, 1.4914711852000002, 1.4169473457, 1.30671205889, 1.248224318375, 1.2866472855, 1.41866208865, 1.5286083270100002, 1.580045355225, 1.577822150395, 1.6193364306700002, 1.7628400176499999, 1.9966621821500001, 2.2600023030500003, 2.5363084221000003, 2.81211751625, 3.06626668895, 3.28436079635, 3.46018247415, 3.5918147945500003, 3.67820648095, 3.7424624294, 3.80142149525, 3.86236825945, 3.925938513, 3.98617468, 4.041352047149999, 4.0942364057, 4.1474931769, 4.20226411985, 4.2590934431999985, 4.3180739361, 4.3793679356, 4.4768694173000005, 4.545524449049999, 4.6156409122, 4.6862017699, 4.75738422335, 4.82910142875, 4.899975679500001, 4.96840595555, 5.03137968695, 5.08670762585, 5.13587032375, 5.18125002015, 5.1822832169, 5.2221675294, 5.2271802601, 5.241050281000001, 5.2638665002, 5.2796156451, 5.2917412195, 5.29875469645, 5.29888513325, 5.290709673549999, 5.2740646048, 5.250390631549999, 5.2212376805, 5.18903398645, 5.15937030345, 5.1372670971, 5.0972075214, 4.98295757155, 4.69581517185, 3.9391831888, 2.6455393592, 1.2890431034299998], \"yaxis\": \"y\"}, {\"marker\": {\"color\": \"black\", \"line\": {\"color\": \"black\", \"width\": 5}, \"size\": 7, \"symbol\": \"circle\"}, \"mode\": \"markers+lines\", \"name\": \"Experimental-Mean\", \"showlegend\": false, \"type\": \"scatter\", \"x\": [0.008485280999999999, 0.008909545, 0.00933381, 0.009758074, 0.010182338, 0.010606602, 0.011030866, 0.01145513, 0.011879394, 0.012303658, 0.012727922, 0.013152186000000001, 0.01357645, 0.014000714, 0.014424978, 0.014849242, 0.015273506000000001, 0.015697771, 0.016122035, 0.016546299, 0.016970563, 0.017394826999999998, 0.017819091000000002, 0.018243355, 0.018667619, 0.019091883, 0.019516147, 0.019940411, 0.020364675, 0.020788939, 0.021213202999999996, 0.021637467999999997, 0.022061732, 0.022485996, 0.02291026, 0.023334524, 0.023758788, 0.024183052000000003, 0.024607316, 0.02503158, 0.025455844, 0.025880108, 0.026304372000000003, 0.026728636, 0.0271529, 0.027577163999999998, 0.028001428999999998, 0.028425693, 0.028849957000000002, 0.029274221, 0.029698485], \"xaxis\": \"x\", \"y\": [1.046595068, 1.086692123, 1.0833851559999998, 1.0973042179999999, 1.088244466, 1.081884321, 1.0775763040000002, 1.139926645, 1.246521391, 1.3951152930000001, 1.574554365, 1.805665369, 2.045832191, 2.287213127, 2.480234896, 2.625898884, 2.7399622239999997, 2.822260586, 2.94075014, 3.0339202419999998, 3.131955356, 3.276820025, 3.387018248, 3.501799975, 3.656211952, 3.812492498, 3.918433678, 3.9520378110000003, 4.002921453, 4.070949939, 4.154816356, 4.236161388999999, 4.299845517, 4.345570081, 4.42039053, 4.4986365930000005, 4.626595695, 4.731078957, 4.84906331, 4.9675469869999995, 5.082629926, 5.161360118999999, 5.14227611, 5.075841845, 4.958755947, 4.844415142, 4.765155646, 4.72697701, 4.7343781730000005, 4.532225572, 3.461324238], \"yaxis\": \"y\"}, {\"line\": {\"dash\": \"dash\", \"width\": 5}, \"marker\": {\"color\": \"red\", \"line\": {\"color\": \"red\"}, \"size\": 7, \"symbol\": \"triangle-right\"}, \"mode\": \"lines\", \"name\": \"SBES-ASCII\", \"showlegend\": false, \"type\": \"scatter\", \"x\": [0.004006316252929586, 0.0040352383413836575, 0.004056513334474382, 0.004074572182711351, 0.004096289350256054, 0.0041538681617340895, 0.004206363471690502, 0.004274593764647528, 0.004326620294697583, 0.004329833239789787, 0.004383763256234732, 0.0044175872214919564, 0.004507802062943135, 0.004515195437021271, 0.004861359054173951, 0.005038135746383409, 0.0052149124464400285, 0.005391689142616193, 0.005745242707640523, 0.005922019399850015, 0.006098796083936366, 0.006452349484325599, 0.006629126184537433, 0.00680590286865834, 0.006982679552813658, 0.007336232945114286, 0.0075130096452744235, 0.007689786329464279, 0.007866563045629174, 0.008396893114013811, 0.008573669814122206, 0.008750446522336459, 0.008927223198454955, 0.009280776614814476, 0.009457553282706406, 0.009634329991110364, 0.009811106683095658, 0.010164660067445671, 0.010341436767778284, 0.010518213475854559, 0.01069499016011343, 0.01104854343196445, 0.011225320332839465, 0.011402097001007352, 0.011578873636975963, 0.011932427117578763, 0.012109203753581894, 0.012285980405641486, 0.012462757153971157, 0.012639533854148562, 0.01281631052205772, 0.012993087190260063, 0.013169863954577251, 0.013523417338823764, 0.013700193974775166, 0.013876970723156568, 0.01405374740731195, 0.014407300791023847, 0.014584077459760859, 0.014760854208176716, 0.014937630891745724, 0.015291184213352975, 0.015467960961423903, 0.015644737675864166, 0.015821514344601183, 0.016175067743817686, 0.016351844446012932, 0.01652862111406008, 0.016705397813840797, 0.01705895121322979, 0.017235727899903158, 0.017412504629692804, 0.0175892813301634, 0.01794283468212448, 0.01811961138138781, 0.018296388083238115, 0.018473164832171388, 0.018649941467450176, 0.018826718167575838, 0.01900349488339581, 0.01935704823501197, 0.019533824968595848, 0.019710601668204108, 0.01988737833590633, 0.02024093175288676, 0.0204177084368007, 0.02059448510467537, 0.020771261789279183, 0.021124815236441004, 0.0213015918582675, 0.0214783685902992, 0.02165514530577425, 0.02200869869033123, 0.02218547511916932, 0.02236225188069254, 0.0225390284861349, 0.02289258169270796, 0.023069358393868408, 0.023246135189712167, 0.023422911955202057, 0.023776465355625845, 0.023953241959343542, 0.024130018624976192, 0.024306795263359368, 0.02466034879123479, 0.02483712555568991, 0.02501390219303829, 0.025190678859878208, 0.025544232228913367, 0.025721008863847226, 0.02589778566124316, 0.0260745624265606, 0.026428115696945725, 0.026590782895714732, 0.026596132596752173, 0.026728740558805555, 0.02680606621051431, 0.02684491359020378, 0.02692680755804669, 0.027042866804236204, 0.027208011324281748, 0.027309835478590068, 0.02741165698831903, 0.02751348114262735, 0.027717126820806768, 0.02781895097511509, 0.027920775115281283, 0.02802259670330938, 0.028226244947769017, 0.028328069087935205, 0.028429890611806306, 0.028531714766114626, 0.02873536049430891, 0.02893900873876855, 0.02904083031299945, 0.029142654402805838, 0.02924447855711415, 0.029448124285653368, 0.029550190729237938, 0.02962996944371349, 0.02970974288317244, 0.029792550913809262, 0.029844678656012712, 0.02987605968071257, 0.029902224915053982, 0.029942214363256617, 0.0299573687929483, 0.02996999967167501, 0.029980528491646875], \"xaxis\": \"x2\", \"y\": [1.0666672952182927, 1.2006775601500002, 1.3041777431560977, 1.374704845546341, 1.437070124309756, 1.5260640810317074, 1.6044550415580645, 1.5140542517, 1.5448301866, 1.6421076138238095, 1.5716623149000002, 1.5218112338999998, 1.6284062375238095, 1.5619338318, 1.6439831429731708, 1.6667439298048783, 1.6473806691707316, 1.604877574785366, 1.5524269428926831, 1.477107936285366, 1.420010622197561, 1.351225211187805, 1.4031476025829268, 1.4946107854390245, 1.539179531092683, 1.4880820273634148, 1.4628679602634145, 1.4447698676658536, 1.4349853676487805, 1.309322267582927, 1.2725944243560976, 1.2488711723219512, 1.2545254278634146, 1.419266935192683, 1.50140659662439, 1.6068301670073173, 1.7551130437804878, 2.0454989363902443, 2.17882061895122, 2.278165552146341, 2.3590941844146345, 2.4125955469512195, 2.460621791097561, 2.5044921740243904, 2.5659161075853656, 2.6499586216829267, 2.708179457560976, 2.807179959512195, 2.86891696797561, 2.9342817518780486, 3.0141694534634147, 3.112406530268293, 3.225055114121952, 3.3283951987073173, 3.3977293582195114, 3.463306765731707, 3.5226235694390247, 3.6009460473170734, 3.6483785249756098, 3.696784662146341, 3.752056267512195, 3.8567391433170735, 3.890178725439025, 3.9302526726585367, 3.969600968829268, 4.078939260951221, 4.135846070780488, 4.176760119902439, 4.220514748902439, 4.339089388707317, 4.397321455707317, 4.450438339487805, 4.511750905878048, 4.644141350390244, 4.690690066121952, 4.736821672024392, 4.786992937365854, 4.831105620487804, 4.8767615260487815, 4.9298872367073185, 5.038567690365853, 5.0835983123658535, 5.134522307097561, 5.185554857902439, 5.275950484707316, 5.3222463968780485, 5.347745800365853, 5.379097164536585, 5.444616393195123, 5.452692384756098, 5.459061223390244, 5.475707545243902, 5.570489055317073, 5.597066410365853, 5.630014143243903, 5.619940634463415, 5.573091163341463, 5.533608734414633, 5.5643242417317085, 5.582873966829269, 5.5707676262682915, 5.592083169560976, 5.6422010600731705, 5.673795046682928, 5.70669388995122, 5.6799723146341465, 5.6566991106097575, 5.648716888341464, 5.53160209295122, 5.487334833682927, 5.4053373529268285, 5.327121129780488, 5.197214646634147, 5.038822300619048, 5.1553814942, 4.991087583512195, 4.946171343658536, 4.83867088695122, 4.776093666731708, 4.749907127609756, 4.583845050658537, 4.504299318731706, 4.424475565463415, 4.370456189317073, 4.303244719341464, 4.264985047926829, 4.2246991833902445, 4.199718995560977, 4.170720606585366, 4.171679912609757, 4.203084346731707, 4.234800511658538, 4.299871047609757, 4.332809005292683, 4.355907459097561, 4.357149672682927, 4.349984712317073, 4.31533095802439, 4.282293096121951, 4.176275013390244, 4.063592050512194, 3.751294130487805, 3.3309798816341467, 2.9475442017317075, 2.5241795808536587, 1.6413404806268292, 1.2402339408292684, 0.8872873053634146, 0.5842574307829269], \"yaxis\": \"y2\"}, {\"line\": {\"dash\": \"dot\", \"width\": 5}, \"marker\": {\"color\": \"green\", \"line\": {\"color\": \"green\"}, \"size\": 7, \"symbol\": \"x\"}, \"mode\": \"lines\", \"name\": \"IDDES-ASCII\", \"showlegend\": false, \"type\": \"scatter\", \"x\": [0.0040063162609319655, 0.004035238349420532, 0.004056513278216275, 0.004096289358292926, 0.004122417239839346, 0.0042063634823199135, 0.004274593764647528, 0.004326620294697583, 0.0043298332711045094, 0.0043837632232835546, 0.004417587254443131, 0.004684582358032298, 0.004861359054173951, 0.0052149124464400285, 0.005391689142616193, 0.005745242707640523, 0.005922019399850015, 0.0062755728002219565, 0.006452349484325599, 0.00680590286865834, 0.006982679552813658, 0.007336232945114286, 0.0075130096452744235, 0.007866563045629174, 0.008220116413750195, 0.008396893114013811, 0.008750446522336459, 0.008927223198454955, 0.009280776614814476, 0.009457553282706406, 0.009811106683095658, 0.009987883383462756, 0.010341436767778284, 0.010518213475854559, 0.010871766836111194, 0.01104854343196445, 0.011402097001007352, 0.011578873636975963, 0.011932427117578763, 0.012109203753581894, 0.012462757153971157, 0.012639533854148562, 0.012993087190260063, 0.013169863954577251, 0.013523417338823764, 0.013700193974775166, 0.01405374740731195, 0.01423052406106172, 0.014584077459760859, 0.014760854208176716, 0.015114407560482747, 0.015291184213352975, 0.015644737675864166, 0.015821514344601183, 0.016175067743817686, 0.016351844446012932, 0.016705397813840797, 0.016882174529315848, 0.017235727899903158, 0.017412504629692804, 0.01776605799872794, 0.01794283468212448, 0.018296388083238115, 0.018473164832171388, 0.018826718167575838, 0.01900349488339581, 0.019180271535058788, 0.019533824968595848, 0.01988737833590633, 0.0200641550374117, 0.0204177084368007, 0.02059448510467537, 0.020948038537522584, 0.021124815236441004, 0.0214783685902992, 0.02165514530577425, 0.02200869869033123, 0.02218547511916932, 0.0225390284861349, 0.022715805057774083, 0.023069358393868408, 0.023246135189712167, 0.02359968868464676, 0.023776465355625845, 0.024130018624976192, 0.024306795263359368, 0.02466034879123479, 0.02483712555568991, 0.025190678859878208, 0.02536745552844277, 0.025721008863847226, 0.02589778566124316, 0.026251339029071025, 0.026428115696945725, 0.026596132531344786, 0.026728740558805555, 0.026806065761415268, 0.02692680755804669, 0.027042866804236204, 0.027208011324281748, 0.027309835478590068, 0.027513481207129282, 0.02761530529693567, 0.02781895097511509, 0.027920775115281283, 0.028124420857617703, 0.028328069087935205, 0.028429890611806306, 0.02863353885592101, 0.02873536306058913, 0.02893900873876855, 0.029040832893076875, 0.02924447855711415, 0.02934630014514226, 0.029550190729237938, 0.02962996944371349, 0.029738049767694757, 0.029792550913809262, 0.029876062182835776, 0.029902224915053982, 0.029942214363256617, 0.0299573687929483, 0.029980528491646875, 0.029992959174301694], \"xaxis\": \"x2\", \"y\": [1.0591711376926831, 1.1986684195463415, 1.319983282985366, 1.4625794494341464, 1.5038612460390244, 1.605184820222581, 1.4019894011, 1.6721658598000002, 1.6219943400571428, 1.4643609468999998, 1.6873072650999998, 1.6156424126585367, 1.5844668399024389, 1.5421753638170732, 1.5063737459243902, 1.4197896837268291, 1.380943002302439, 1.4621691227634146, 1.5107404798926831, 1.5692185272170731, 1.5643768817024388, 1.578250386487805, 1.5471378360390244, 1.4563385434268292, 1.3535187490439025, 1.2944991026536583, 1.2779629836756101, 1.2966751662365854, 1.4288138497878051, 1.5576968779317073, 1.7515092220243902, 1.8771926023170733, 2.1596864880243904, 2.2715544819512195, 2.3829580115121947, 2.3966093662195123, 2.504040841317073, 2.572833920512195, 2.7336809438780487, 2.805650419414634, 2.9559735631463417, 3.0300307890731717, 3.1411861483658536, 3.184857565390244, 3.3383027001951224, 3.401960522195122, 3.5219133940731706, 3.5920583135853663, 3.6918560545121952, 3.726563168, 3.8058912, 3.840695472926829, 3.894541794780488, 3.938205161951219, 4.047456642292683, 4.09840156902439, 4.206025741585366, 4.266276648902439, 4.386181450073171, 4.463408568170732, 4.599613385512195, 4.6618222984390245, 4.779995612609756, 4.830233780463415, 4.933216419439026, 4.980527285097561, 5.027200318609756, 5.129566368317073, 5.2167233827073165, 5.249837692658536, 5.292680120195122, 5.312250303731707, 5.371963970024391, 5.411105267463415, 5.4534217553170725, 5.45646305714634, 5.488672747097561, 5.513298893390244, 5.559189531585367, 5.5989300625853655, 5.651623714317073, 5.65724864602439, 5.664870238512195, 5.678794694219513, 5.669182702585366, 5.622661212219511, 5.657034680121951, 5.6375454396585365, 5.520302813560977, 5.497086891243902, 5.398693749731708, 5.342776286146342, 5.247663112121951, 5.116858113682927, 4.930035171, 4.954793916268294, 4.919917679317074, 4.81831356502439, 4.773304195414633, 4.614140699146342, 4.545505820853658, 4.4112663834878045, 4.3573274445853665, 4.280406687682927, 4.254390544585366, 4.227770388756098, 4.22139139307317, 4.225706357, 4.2567023183658526, 4.2664698409268285, 4.263496297878048, 4.270874841609756, 4.323822384463415, 4.368005683731707, 4.405776021073169, 4.327320830951218, 4.200702424780488, 3.9713420596097566, 3.0546780973902434, 2.5697190792926827, 1.639665561390244, 1.2375793825097559, 0.5864551907170732, 0.22018155208963416], \"yaxis\": \"y2\"}, {\"line\": {\"dash\": \"dashdot\", \"width\": 5}, \"marker\": {\"color\": \"blue\", \"line\": {\"color\": \"blue\"}, \"size\": 7, \"symbol\": \"circle\"}, \"mode\": \"lines\", \"name\": \"KW-SST-ASCII\", \"showlegend\": false, \"type\": \"scatter\", \"x\": [0.004018580273522146, 0.004056512552654007, 0.0040962888218092856, 0.00415386775575994, 0.004197246988099546, 0.004274593764647528, 0.004326620294697583, 0.0043297926358630496, 0.004383763256234732, 0.0045151954534969, 0.004861359102557256, 0.005214912476993053, 0.005568465991471341, 0.005922019440047281, 0.006275572888623232, 0.006629126304247997, 0.0069826796704813435, 0.007336233053084247, 0.007689786402912792, 0.008043339768969442, 0.008396893151713805, 0.00875044656730328, 0.00910399996648785, 0.009457553349020074, 0.00981110674820464, 0.010164660114473405, 0.010518213497182415, 0.010871766846975595, 0.011225320509486752, 0.011578873629010666, 0.01210920380176863, 0.012462757250344576, 0.012816310501178213, 0.01316986411440402, 0.013523417266631588, 0.013876970912631835, 0.014230523968551406, 0.01458407764587654, 0.01493763082999454, 0.015291184345392244, 0.0156447376921448, 0.015998291143902856, 0.016351844461310532, 0.01670539787559188, 0.017058951256992774, 0.017412504673041847, 0.017766058089798115, 0.01811961143761136, 0.0184731648554283, 0.018826718237182672, 0.019180271618230046, 0.019533825003166427, 0.0198873784181549, 0.02024093176844307, 0.020594485216665532, 0.0209480385330126, 0.021301592015176167, 0.02165514523288186, 0.022008698847274404, 0.02236225209715345, 0.022715805150456715, 0.023069358137292068, 0.0234229121798378, 0.02377646549724549, 0.02413001854807395, 0.02448357186724946, 0.024837125907673858, 0.02519067895956294, 0.025544232081809247, 0.02589778566120001, 0.02625133937317329, 0.02659080391924516, 0.02680600822932768, 0.02684491359020378, 0.027042866804236204, 0.027208011324281745, 0.027411656988319037, 0.02761530266649845, 0.02781895097511509, 0.02802259663915237, 0.028226242303189663, 0.028429890611806306, 0.028633538920422943, 0.028837184584460232, 0.02904083024849751, 0.02924447855711416, 0.029448124221151437, 0.02962996944371348, 0.02973804976769476, 0.029844678656012712, 0.029902224915053975, 0.029942214363256617, 0.029969999671675008, 0.029992959174301687], \"xaxis\": \"x2\", \"y\": [1.0918217100799998, 1.18966804504, 1.273340874075, 1.36392987493, 1.459129005, 1.5118024582, 1.5012589778, 1.5983681240999998, 1.5632657952000002, 1.5823939337, 1.6364078048, 1.4727598861000002, 1.2828458009550001, 1.126647819725, 1.0489535373999999, 1.0723821827700002, 1.1714760749350002, 1.2973334918000001, 1.3612701636000002, 1.24941845009, 1.0549960000749998, 1.113253458565, 1.3208092143, 1.5888917729499998, 1.8674519389, 2.1165905609, 2.31061091585, 2.45939285845, 2.57719970455, 2.6728835795, 2.8405353252000003, 2.9751508906999997, 3.10350825295, 3.22761333545, 3.35289582275, 3.47350889815, 3.5841449231999998, 3.68926112925, 3.7934225315499996, 3.89809259175, 4.0032448293, 4.1081007285, 4.2119940164, 4.3144203689000005, 4.4148731589, 4.51329974555, 4.61009141625, 4.705637161, 4.8000532323, 4.8931292783, 4.98421623425, 5.07210902895, 5.15520827815, 5.23198765075, 5.3015453561, 5.3632056026, 5.4157768161, 5.4578151335000005, 5.48890952015, 5.510553326599999, 5.5271210859, 5.54556455, 5.56791258095, 5.594253382050001, 5.6211601577999994, 5.63909137685, 5.636207559600001, 5.6094791313000005, 5.5712445588, 5.52850624255, 5.4444625126, 5.3111343679999985, 5.0520032459, 4.96757326935, 4.8666088205500015, 4.7176283967, 4.604598827, 4.520483238300001, 4.44978032215, 4.3864261464, 4.330191773999999, 4.28320455205, 4.248117998550001, 4.22441146115, 4.208426397799999, 4.19190885355, 4.14172031615, 3.9799712704, 3.8768803548000004, 3.45136659545, 2.8142970637999998, 1.94053924045, 1.05968461535, 0.258259105522], \"yaxis\": \"y2\"}, {\"marker\": {\"color\": \"black\", \"line\": {\"color\": \"black\", \"width\": 5}, \"size\": 7, \"symbol\": \"circle\"}, \"mode\": \"markers+lines\", \"name\": \"Experimental\", \"showlegend\": false, \"type\": \"scatter\", \"x\": [0.010606602, 0.011030866, 0.01145513, 0.011879394, 0.012303658, 0.012727922, 0.013152186000000001, 0.01357645, 0.014000714, 0.014424978, 0.014849242, 0.015273506000000001, 0.015697771, 0.016122035, 0.016546299, 0.016970563, 0.017394826999999998, 0.017819091000000002, 0.018243355, 0.018667619, 0.019091883, 0.019516147, 0.019940411, 0.020364675, 0.020788939, 0.021213202999999996, 0.021637467999999997, 0.022061732, 0.022485996, 0.02291026, 0.023334524, 0.023758788, 0.024183052000000003, 0.024607316, 0.02503158, 0.025455844, 0.025880108, 0.026304372000000003, 0.026728636, 0.0271529, 0.027577163999999998, 0.028001428999999998, 0.028425693, 0.028849957000000002, 0.029274221, 0.029698485], \"xaxis\": \"x2\", \"y\": [1.47032772, 1.689174954, 1.894064756, 2.1264871430000003, 2.272784263, 2.401318668, 2.539667012, 2.702462469, 2.9061367989999995, 3.119637635, 3.3210095739999996, 3.474365057, 3.635859025, 3.738272228, 3.8512608860000004, 3.940958453, 4.027355506, 4.093390321, 4.171549409, 4.233102482, 4.309599319, 4.382101112, 4.472128745, 4.571983234, 4.643674635, 4.753780094, 4.874157148, 5.011895485, 5.137635037, 5.231361781, 5.326111497, 5.411827194, 5.449271872000001, 5.471819192000001, 5.403731552999999, 5.253643708, 5.073704115, 4.867885108, 4.68587519, 4.525651246, 4.473294948, 4.484477779, 4.507906786, 4.520033153, 4.604753542, 3.9764802830000003], \"yaxis\": \"y2\"}],\n                        {\"font\": {\"family\": \"Arial\", \"size\": 32}, \"height\": 600, \"legend\": {\"itemsizing\": \"constant\"}, \"template\": {\"data\": {\"bar\": [{\"error_x\": {\"color\": \"#2a3f5f\"}, \"error_y\": {\"color\": \"#2a3f5f\"}, \"marker\": {\"line\": {\"color\": \"#E5ECF6\", \"width\": 0.5}}, \"type\": \"bar\"}], \"barpolar\": [{\"marker\": {\"line\": {\"color\": \"#E5ECF6\", \"width\": 0.5}}, \"type\": \"barpolar\"}], \"carpet\": [{\"aaxis\": {\"endlinecolor\": \"#2a3f5f\", \"gridcolor\": \"white\", \"linecolor\": \"white\", \"minorgridcolor\": \"white\", \"startlinecolor\": \"#2a3f5f\"}, \"baxis\": {\"endlinecolor\": \"#2a3f5f\", \"gridcolor\": \"white\", \"linecolor\": \"white\", \"minorgridcolor\": \"white\", \"startlinecolor\": \"#2a3f5f\"}, \"type\": \"carpet\"}], \"choropleth\": [{\"colorbar\": {\"outlinewidth\": 0, \"ticks\": \"\"}, \"type\": \"choropleth\"}], \"contour\": [{\"colorbar\": {\"outlinewidth\": 0, \"ticks\": \"\"}, \"colorscale\": [[0.0, \"#0d0887\"], [0.1111111111111111, \"#46039f\"], [0.2222222222222222, \"#7201a8\"], [0.3333333333333333, \"#9c179e\"], [0.4444444444444444, \"#bd3786\"], [0.5555555555555556, \"#d8576b\"], [0.6666666666666666, \"#ed7953\"], [0.7777777777777778, \"#fb9f3a\"], [0.8888888888888888, \"#fdca26\"], [1.0, \"#f0f921\"]], \"type\": \"contour\"}], \"contourcarpet\": [{\"colorbar\": {\"outlinewidth\": 0, \"ticks\": \"\"}, \"type\": \"contourcarpet\"}], \"heatmap\": [{\"colorbar\": {\"outlinewidth\": 0, \"ticks\": \"\"}, \"colorscale\": [[0.0, \"#0d0887\"], [0.1111111111111111, \"#46039f\"], [0.2222222222222222, \"#7201a8\"], [0.3333333333333333, \"#9c179e\"], [0.4444444444444444, \"#bd3786\"], [0.5555555555555556, \"#d8576b\"], [0.6666666666666666, \"#ed7953\"], [0.7777777777777778, \"#fb9f3a\"], [0.8888888888888888, \"#fdca26\"], [1.0, \"#f0f921\"]], \"type\": \"heatmap\"}], \"heatmapgl\": [{\"colorbar\": {\"outlinewidth\": 0, \"ticks\": \"\"}, \"colorscale\": [[0.0, \"#0d0887\"], [0.1111111111111111, \"#46039f\"], [0.2222222222222222, \"#7201a8\"], [0.3333333333333333, \"#9c179e\"], [0.4444444444444444, \"#bd3786\"], [0.5555555555555556, \"#d8576b\"], [0.6666666666666666, \"#ed7953\"], [0.7777777777777778, \"#fb9f3a\"], [0.8888888888888888, \"#fdca26\"], [1.0, \"#f0f921\"]], \"type\": \"heatmapgl\"}], \"histogram\": [{\"marker\": {\"colorbar\": {\"outlinewidth\": 0, \"ticks\": \"\"}}, \"type\": \"histogram\"}], \"histogram2d\": [{\"colorbar\": {\"outlinewidth\": 0, \"ticks\": \"\"}, \"colorscale\": [[0.0, \"#0d0887\"], [0.1111111111111111, \"#46039f\"], [0.2222222222222222, \"#7201a8\"], [0.3333333333333333, \"#9c179e\"], [0.4444444444444444, \"#bd3786\"], [0.5555555555555556, \"#d8576b\"], [0.6666666666666666, \"#ed7953\"], [0.7777777777777778, \"#fb9f3a\"], [0.8888888888888888, \"#fdca26\"], [1.0, \"#f0f921\"]], \"type\": \"histogram2d\"}], \"histogram2dcontour\": [{\"colorbar\": {\"outlinewidth\": 0, \"ticks\": \"\"}, \"colorscale\": [[0.0, \"#0d0887\"], [0.1111111111111111, \"#46039f\"], [0.2222222222222222, \"#7201a8\"], [0.3333333333333333, \"#9c179e\"], [0.4444444444444444, \"#bd3786\"], [0.5555555555555556, \"#d8576b\"], [0.6666666666666666, \"#ed7953\"], [0.7777777777777778, \"#fb9f3a\"], [0.8888888888888888, \"#fdca26\"], [1.0, \"#f0f921\"]], \"type\": \"histogram2dcontour\"}], \"mesh3d\": [{\"colorbar\": {\"outlinewidth\": 0, \"ticks\": \"\"}, \"type\": \"mesh3d\"}], \"parcoords\": [{\"line\": {\"colorbar\": {\"outlinewidth\": 0, \"ticks\": \"\"}}, \"type\": \"parcoords\"}], \"pie\": [{\"automargin\": true, \"type\": \"pie\"}], \"scatter\": [{\"marker\": {\"colorbar\": {\"outlinewidth\": 0, \"ticks\": \"\"}}, \"type\": \"scatter\"}], \"scatter3d\": [{\"line\": {\"colorbar\": {\"outlinewidth\": 0, \"ticks\": \"\"}}, \"marker\": {\"colorbar\": {\"outlinewidth\": 0, \"ticks\": \"\"}}, \"type\": \"scatter3d\"}], \"scattercarpet\": [{\"marker\": {\"colorbar\": {\"outlinewidth\": 0, \"ticks\": \"\"}}, \"type\": \"scattercarpet\"}], \"scattergeo\": [{\"marker\": {\"colorbar\": {\"outlinewidth\": 0, \"ticks\": \"\"}}, \"type\": \"scattergeo\"}], \"scattergl\": [{\"marker\": {\"colorbar\": {\"outlinewidth\": 0, \"ticks\": \"\"}}, \"type\": \"scattergl\"}], \"scattermapbox\": [{\"marker\": {\"colorbar\": {\"outlinewidth\": 0, \"ticks\": \"\"}}, \"type\": \"scattermapbox\"}], \"scatterpolar\": [{\"marker\": {\"colorbar\": {\"outlinewidth\": 0, \"ticks\": \"\"}}, \"type\": \"scatterpolar\"}], \"scatterpolargl\": [{\"marker\": {\"colorbar\": {\"outlinewidth\": 0, \"ticks\": \"\"}}, \"type\": \"scatterpolargl\"}], \"scatterternary\": [{\"marker\": {\"colorbar\": {\"outlinewidth\": 0, \"ticks\": \"\"}}, \"type\": \"scatterternary\"}], \"surface\": [{\"colorbar\": {\"outlinewidth\": 0, \"ticks\": \"\"}, \"colorscale\": [[0.0, \"#0d0887\"], [0.1111111111111111, \"#46039f\"], [0.2222222222222222, \"#7201a8\"], [0.3333333333333333, \"#9c179e\"], [0.4444444444444444, \"#bd3786\"], [0.5555555555555556, \"#d8576b\"], [0.6666666666666666, \"#ed7953\"], [0.7777777777777778, \"#fb9f3a\"], [0.8888888888888888, \"#fdca26\"], [1.0, \"#f0f921\"]], \"type\": \"surface\"}], \"table\": [{\"cells\": {\"fill\": {\"color\": \"#EBF0F8\"}, \"line\": {\"color\": \"white\"}}, \"header\": {\"fill\": {\"color\": \"#C8D4E3\"}, \"line\": {\"color\": \"white\"}}, \"type\": \"table\"}]}, \"layout\": {\"annotationdefaults\": {\"arrowcolor\": \"#2a3f5f\", \"arrowhead\": 0, \"arrowwidth\": 1}, \"coloraxis\": {\"colorbar\": {\"outlinewidth\": 0, \"ticks\": \"\"}}, \"colorscale\": {\"diverging\": [[0, \"#8e0152\"], [0.1, \"#c51b7d\"], [0.2, \"#de77ae\"], [0.3, \"#f1b6da\"], [0.4, \"#fde0ef\"], [0.5, \"#f7f7f7\"], [0.6, \"#e6f5d0\"], [0.7, \"#b8e186\"], [0.8, \"#7fbc41\"], [0.9, \"#4d9221\"], [1, \"#276419\"]], \"sequential\": [[0.0, \"#0d0887\"], [0.1111111111111111, \"#46039f\"], [0.2222222222222222, \"#7201a8\"], [0.3333333333333333, \"#9c179e\"], [0.4444444444444444, \"#bd3786\"], [0.5555555555555556, \"#d8576b\"], [0.6666666666666666, \"#ed7953\"], [0.7777777777777778, \"#fb9f3a\"], [0.8888888888888888, \"#fdca26\"], [1.0, \"#f0f921\"]], \"sequentialminus\": [[0.0, \"#0d0887\"], [0.1111111111111111, \"#46039f\"], [0.2222222222222222, \"#7201a8\"], [0.3333333333333333, \"#9c179e\"], [0.4444444444444444, \"#bd3786\"], [0.5555555555555556, \"#d8576b\"], [0.6666666666666666, \"#ed7953\"], [0.7777777777777778, \"#fb9f3a\"], [0.8888888888888888, \"#fdca26\"], [1.0, \"#f0f921\"]]}, \"colorway\": [\"#636efa\", \"#EF553B\", \"#00cc96\", \"#ab63fa\", \"#FFA15A\", \"#19d3f3\", \"#FF6692\", \"#B6E880\", \"#FF97FF\", \"#FECB52\"], \"font\": {\"color\": \"#2a3f5f\"}, \"geo\": {\"bgcolor\": \"white\", \"lakecolor\": \"white\", \"landcolor\": \"#E5ECF6\", \"showlakes\": true, \"showland\": true, \"subunitcolor\": \"white\"}, \"hoverlabel\": {\"align\": \"left\"}, \"hovermode\": \"closest\", \"mapbox\": {\"style\": \"light\"}, \"paper_bgcolor\": \"white\", \"plot_bgcolor\": \"#E5ECF6\", \"polar\": {\"angularaxis\": {\"gridcolor\": \"white\", \"linecolor\": \"white\", \"ticks\": \"\"}, \"bgcolor\": \"#E5ECF6\", \"radialaxis\": {\"gridcolor\": \"white\", \"linecolor\": \"white\", \"ticks\": \"\"}}, \"scene\": {\"xaxis\": {\"backgroundcolor\": \"#E5ECF6\", \"gridcolor\": \"white\", \"gridwidth\": 2, \"linecolor\": \"white\", \"showbackground\": true, \"ticks\": \"\", \"zerolinecolor\": \"white\"}, \"yaxis\": {\"backgroundcolor\": \"#E5ECF6\", \"gridcolor\": \"white\", \"gridwidth\": 2, \"linecolor\": \"white\", \"showbackground\": true, \"ticks\": \"\", \"zerolinecolor\": \"white\"}, \"zaxis\": {\"backgroundcolor\": \"#E5ECF6\", \"gridcolor\": \"white\", \"gridwidth\": 2, \"linecolor\": \"white\", \"showbackground\": true, \"ticks\": \"\", \"zerolinecolor\": \"white\"}}, \"shapedefaults\": {\"line\": {\"color\": \"#2a3f5f\"}}, \"ternary\": {\"aaxis\": {\"gridcolor\": \"white\", \"linecolor\": \"white\", \"ticks\": \"\"}, \"baxis\": {\"gridcolor\": \"white\", \"linecolor\": \"white\", \"ticks\": \"\"}, \"bgcolor\": \"#E5ECF6\", \"caxis\": {\"gridcolor\": \"white\", \"linecolor\": \"white\", \"ticks\": \"\"}}, \"title\": {\"x\": 0.05}, \"xaxis\": {\"automargin\": true, \"gridcolor\": \"white\", \"linecolor\": \"white\", \"ticks\": \"\", \"title\": {\"standoff\": 15}, \"zerolinecolor\": \"white\", \"zerolinewidth\": 2}, \"yaxis\": {\"automargin\": true, \"gridcolor\": \"white\", \"linecolor\": \"white\", \"ticks\": \"\", \"title\": {\"standoff\": 15}, \"zerolinecolor\": \"white\", \"zerolinewidth\": 2}}}, \"title\": {\"text\": \"Velocity Magnitude vs Experimental\"}, \"width\": 1605, \"xaxis\": {\"anchor\": \"y\", \"domain\": [0.0, 0.475]}, \"xaxis2\": {\"anchor\": \"y2\", \"domain\": [0.525, 1.0]}, \"yaxis\": {\"anchor\": \"x\", \"domain\": [0.0, 1.0]}, \"yaxis2\": {\"anchor\": \"x2\", \"domain\": [0.0, 1.0], \"matches\": \"y\", \"showticklabels\": false}},\n                        {\"responsive\": true}\n                    ).then(function(){\n                            \nvar gd = document.getElementById('3718a1a4-a7e8-4ed9-9119-50abdb435fb0');\nvar x = new MutationObserver(function (mutations, observer) {{\n        var display = window.getComputedStyle(gd).display;\n        if (!display || display === 'none') {{\n            console.log([gd, 'removed!']);\n            Plotly.purge(gd);\n            observer.disconnect();\n        }}\n}});\n\n// Listen for the removal of the full notebook cells\nvar notebookContainer = gd.closest('#notebook-container');\nif (notebookContainer) {{\n    x.observe(notebookContainer, {childList: true});\n}}\n\n// Listen for the clearing of the current output cell\nvar outputEl = gd.closest('.output');\nif (outputEl) {{\n    x.observe(outputEl, {childList: true});\n}}\n\n                        })\n                };\n                });\n            </script>\n        </div>"
     },
     "metadata": {},
     "output_type": "display_data"
    }
   ],
   "source": [
    "\n",
    "fig = make_subplots(\n",
    "    rows=1,\n",
    "    cols=2,\n",
    "    shared_yaxes=True,\n",
    "    # x_title=\"Radius (m)\",\n",
    "    # y_title=\"Velocity Magnitude (m/s)\",\n",
    "    # subplot_titles=(\n",
    "    # \"C5 Quadrant 1\", \"C1 Quadrant 2\"),\n",
    "    vertical_spacing=.07, horizontal_spacing=.05)\n",
    "\n",
    "marker_size = 7\n",
    "line_size = 5\n",
    "\n",
    "\n",
    "fig.add_trace(go.Scatter(x=quad_ascii[\"C4_SBES\"]['Q1']['radius_bin_mean'],\n",
    "                         y=quad_ascii[\"C4_SBES\"]['Q1']['velocity-magnitude_bin_mean'],\n",
    "                         mode='lines',\n",
    "                         name='SBES-ASCII',\n",
    "                         marker=dict(\n",
    "                             color='red',\n",
    "                             size=marker_size,\n",
    "                             line=dict(color='red'),\n",
    "                             symbol='triangle-right'),\n",
    "                         line=dict(dash='dash',\n",
    "                                   width=line_size),\n",
    "                         showlegend=False\n",
    "                         ),\n",
    "              row=1, col=1)\n",
    "\n",
    "fig.add_trace(go.Scatter(x=quad_ascii[\"C4_IDDES\"]['Q1']['radius_bin_mean'],\n",
    "                         y=quad_ascii[\"C4_IDDES\"]['Q1']['velocity-magnitude_bin_mean'],\n",
    "                         mode='lines',\n",
    "                         name='IDDES-ASCII',\n",
    "                         marker=dict(\n",
    "                             color='green',\n",
    "                             size=marker_size,\n",
    "                             line=dict(color='green'),\n",
    "                             symbol='x'),\n",
    "                         line=dict(dash='dot',\n",
    "                                   width=line_size),\n",
    "                         showlegend=False\n",
    "                         ),\n",
    "              row=1, col=1)\n",
    "\n",
    "fig.add_trace(go.Scatter(x=quad_ascii[\"C4_KW\"]['Q1']['radius_bin_mean'],\n",
    "                         y=quad_ascii[\"C4_KW\"]['Q1']['velocity-magnitude_bin_mean'],\n",
    "                         mode='lines',\n",
    "                         name='KW-SST-ASCII',\n",
    "                         marker=dict(\n",
    "                             color='blue',\n",
    "                             size=marker_size,\n",
    "                             line=dict(color='blue'),\n",
    "                             symbol='circle'),\n",
    "                         showlegend=False,\n",
    "                         line=dict(dash='dashdot',\n",
    "                                   width=line_size),\n",
    "                         ),\n",
    "              row=1, col=1)\n",
    "\n",
    "fig.add_trace(go.Scatter(x=C4_Experimental[\"Q1\"]['radius'],\n",
    "                         y=C4_Experimental[\"Q1\"]['Velocity_Magnitude'],\n",
    "                         mode='markers+lines',\n",
    "                         name='Experimental-Mean',\n",
    "                         marker=dict(\n",
    "                             color='black',\n",
    "                             size=marker_size,\n",
    "                             line=dict(color='black',\n",
    "                                       width=line_size),\n",
    "                             symbol='circle'),\n",
    "                         showlegend=False\n",
    "                         ),\n",
    "              row=1, col=1)\n",
    "\n",
    "\n",
    "\n",
    "fig.add_trace(go.Scatter(x=quad_ascii[\"C4_SBES\"]['Q2']['radius_bin_mean'],\n",
    "                         y=quad_ascii[\"C4_SBES\"]['Q2']['velocity-magnitude_bin_mean'],\n",
    "                         mode='lines',\n",
    "                         name='SBES-ASCII',\n",
    "                         marker=dict(\n",
    "                             color='red',\n",
    "                             size=marker_size,\n",
    "                             line=dict(color='red'),\n",
    "                             symbol='triangle-right'),\n",
    "                         line=dict(dash='dash',\n",
    "                                   width=line_size),\n",
    "                         showlegend=False\n",
    "                         ),\n",
    "              row=1, col=2)\n",
    "\n",
    "fig.add_trace(go.Scatter(x=quad_ascii[\"C4_IDDES\"]['Q2']['radius_bin_mean'],\n",
    "                         y=quad_ascii[\"C4_IDDES\"]['Q2']['velocity-magnitude_bin_mean'],\n",
    "                         mode='lines',\n",
    "                         name='IDDES-ASCII',\n",
    "                         marker=dict(\n",
    "                             color='green',\n",
    "                             size=marker_size,\n",
    "                             line=dict(color='green'),\n",
    "                             symbol='x'),\n",
    "                         line=dict(dash='dot',\n",
    "                                   width=line_size),\n",
    "                         showlegend=False\n",
    "                         ),\n",
    "              row=1, col=2)\n",
    "\n",
    "fig.add_trace(go.Scatter(x=quad_ascii[\"C4_KW\"]['Q2']['radius_bin_mean'],\n",
    "                         y=quad_ascii[\"C4_KW\"]['Q2']['velocity-magnitude_bin_mean'],\n",
    "                         mode='lines',\n",
    "                         name='KW-SST-ASCII',\n",
    "                         marker=dict(\n",
    "                             color='blue',\n",
    "                             size=marker_size,\n",
    "                             line=dict(color='blue'),\n",
    "                             symbol='circle'),\n",
    "                         line=dict(dash='dashdot',\n",
    "                                   width=line_size),\n",
    "                         showlegend=False\n",
    "                         ),\n",
    "              row=1, col=2)\n",
    "\n",
    "fig.add_trace(go.Scatter(x=C4_Experimental[\"Q2\"]['radius'],\n",
    "                         y=C4_Experimental[\"Q2\"]['Velocity_Magnitude'],\n",
    "                         mode='markers+lines',\n",
    "                         name='Experimental',\n",
    "                         marker=dict(\n",
    "                             color='black',\n",
    "                             size=marker_size,\n",
    "                             line=dict(color='black',\n",
    "                                       width=line_size),\n",
    "                             symbol='circle'),\n",
    "                         showlegend=False),\n",
    "\n",
    "              row=1, col=2)\n",
    "\n",
    "fig.update_layout(height=600, width=1605,\n",
    "                  title_text=\"Velocity Magnitude vs Experimental\",\n",
    "                  font=dict(\n",
    "                      family=\"Arial\",\n",
    "                      size=32),\n",
    "                  )\n",
    "fig.update_annotations(font_size=32)\n",
    "fig.update_layout(legend={'itemsizing': 'constant'})\n",
    "fig.show()\n",
    "\n",
    "fig.write_image(r\"C:\\Users\\Joseph Tarriela\\Documents\\GitHub\\FDA_Blood_Pump\\postpro\\images\\C4-quad.png\")"
   ],
   "metadata": {
    "collapsed": false,
    "pycharm": {
     "name": "#%%\n"
    }
   }
  },
  {
   "cell_type": "code",
   "execution_count": 122,
   "outputs": [
    {
     "data": {
      "application/vnd.plotly.v1+json": {
       "config": {
        "plotlyServerURL": "https://plot.ly"
       },
       "data": [
        {
         "line": {
          "dash": "dash",
          "width": 5
         },
         "marker": {
          "color": "red",
          "line": {
           "color": "red"
          },
          "size": 7,
          "symbol": "triangle-right"
         },
         "mode": "lines",
         "name": "SBES-ASCII",
         "showlegend": false,
         "type": "scatter",
         "x": [
          0.0040063151325965005,
          0.004018580921640699,
          0.004035238218890343,
          0.004056513928720021,
          0.004096291466419692,
          0.004122420412127324,
          0.004153872578805947,
          0.004197247054001896,
          0.004206311860924559,
          0.004326620294697583,
          0.00438376319033238,
          0.004417587188540779,
          0.004507801913979152,
          0.004515195445259068,
          0.004684582273714052,
          0.0048613589778753385,
          0.0050381356821401,
          0.0053916890703532595,
          0.00556846581475064,
          0.005745242635343107,
          0.005922019319550215,
          0.006275572719922158,
          0.006452349396006181,
          0.006629126112257259,
          0.006805902796395414,
          0.007159456172656777,
          0.0073362328728513735,
          0.00751300958103113,
          0.007689786257166873,
          0.00804333965740091,
          0.008220116349506914,
          0.008396893057790159,
          0.008573669741859294,
          0.008927223150250928,
          0.009103999818229076,
          0.009280776518423704,
          0.009457553218463123,
          0.00981110661083276,
          0.009987883303145728,
          0.010164660019241644,
          0.010341436695498123,
          0.010518213395554782,
          0.010871766787907168,
          0.011048543367721169,
          0.011225320268596194,
          0.011402096920707571,
          0.011755650288949312,
          0.01193242702120525,
          0.01210920365720838,
          0.012285980341380969,
          0.012639533757775049,
          0.012816310457814444,
          0.012993087126016772,
          0.013169863890316729,
          0.013523417242467492,
          0.013700193942679382,
          0.013876970610743809,
          0.014053747326994931,
          0.014407300710655088,
          0.014584077427682338,
          0.014760854127980425,
          0.014937630811376971,
          0.015291184165235184,
          0.015467960929345366,
          0.015821514280444142,
          0.015998290965737794,
          0.016175067679488175,
          0.01635184434960492,
          0.016705397749511294,
          0.016882174464986344,
          0.01705895114907275,
          0.017235727835573658,
          0.017589281233927855,
          0.017766057918359182,
          0.017942834634006696,
          0.018119611284979808,
          0.018473164719724128,
          0.018649941403120672,
          0.018826718103246327,
          0.01900349478698781,
          0.019357048186894186,
          0.01953382487236031,
          0.019710601603874604,
          0.01988737827140436,
          0.020240931656651213,
          0.020417708372471203,
          0.02059448502447909,
          0.020771261741161392,
          0.021124815188323216,
          0.02130159182618897,
          0.021478368509930446,
          0.021655145225405497,
          0.02200869859392324,
          0.022185475054839827,
          0.022362251848614,
          0.02253902845405636,
          0.02289258159629995,
          0.023069358265381902,
          0.02324613506139813,
          0.023422911826715544,
          0.023599688652568226,
          0.02395324189501406,
          0.02413001852856821,
          0.024306795199029882,
          0.024483571899155523,
          0.024837125491532858,
          0.025190678763470208,
          0.025367455432034773,
          0.025544232164583867,
          0.02572100876743922,
          0.026074562330325044,
          0.026251338964913988,
          0.02642811566469473,
          0.026590804445332638,
          0.02659632068968135,
          0.02680587879824316,
          0.02685939366630038,
          0.026945710417353986,
          0.0270682154933973,
          0.02729725464888133,
          0.027399076511473837,
          0.027500900312918616,
          0.027602724467226936,
          0.027806370131264226,
          0.027908194285572542,
          0.028010018439880862,
          0.028111840014111763,
          0.02831548825822646,
          0.028417311386022708,
          0.02851913392226375,
          0.0287227822308804,
          0.028824603754751495,
          0.028926427894917683,
          0.029028252049226006,
          0.029231897727405424,
          0.029333721881713737,
          0.029435545059524844,
          0.02953715153877151,
          0.02972614745592265,
          0.02981023941621481,
          0.02984537145095264,
          0.02987661280033262,
          0.029924373083359924,
          0.029942472513800288,
          0.029957561083566377,
          0.029970134021963427,
          0.029992993419483107
         ],
         "xaxis": "x",
         "y": [
          1.453493437390244,
          1.4396894711463415,
          1.4304578082329267,
          1.426662977912195,
          1.428101933195122,
          1.4281485948195125,
          1.420292005712195,
          1.4016789931,
          1.4166877253612904,
          1.24654197697,
          1.4833612133899998,
          1.25395503437,
          1.5793840679714284,
          1.3882653314700002,
          1.5534322603804878,
          1.563302582890244,
          1.5405997697414633,
          1.4540717236975609,
          1.4280992283146339,
          1.4180874685634146,
          1.4096023381,
          1.3602831521048782,
          1.3618763109756098,
          1.3775069492756096,
          1.359698773887805,
          1.3446511333878048,
          1.3650941738878049,
          1.4105076392170732,
          1.4569281771146338,
          1.465517543207317,
          1.47496387347561,
          1.4996402996902438,
          1.5250777072634147,
          1.5810405087682928,
          1.5907408132682923,
          1.6033321691414637,
          1.5968799444658537,
          1.6228864937829268,
          1.6323651262414631,
          1.6383658564585366,
          1.6324875851073168,
          1.601577998453659,
          1.7585925752609757,
          1.8513904390219516,
          1.930207731880488,
          2.045432330875609,
          2.188787683917073,
          2.2549564831780486,
          2.3932509479926827,
          2.5819944535439023,
          2.9058079040487805,
          3.0342559612926827,
          3.0912921977073173,
          3.166314035170732,
          3.4423092672926834,
          3.5429570059512194,
          3.6394245254146336,
          3.768932281536585,
          3.8597139289268285,
          3.9293739998292687,
          3.9844604812195117,
          4.056982544585367,
          4.323036263317073,
          4.460075785536586,
          4.607613687878049,
          4.664870337097561,
          4.7301168129024385,
          4.8151625646341465,
          4.9880506023658535,
          5.0526698195609745,
          5.108318447878049,
          5.165947338048781,
          5.26715450604878,
          5.308363246731708,
          5.34487888104878,
          5.385931000292684,
          5.473646590853659,
          5.527193439195122,
          5.581273170146341,
          5.636357871780487,
          5.779067207317072,
          5.848774930951219,
          5.895679974,
          5.934929482487805,
          6.0551937694390245,
          6.1105528758780485,
          6.157860503146344,
          6.216607195097562,
          6.336029086512196,
          6.3995884200000015,
          6.456093045536585,
          6.507067833951219,
          6.591930510902438,
          6.659102190878049,
          6.7356493660975625,
          6.813164614756098,
          6.949728274390244,
          7.013302651731707,
          7.079176327560977,
          7.130252068195121,
          7.1853391945853655,
          7.282419909243902,
          7.306030601439023,
          7.3561602657073175,
          7.406451569390245,
          7.460903652585365,
          7.4883655035853645,
          7.498153818951219,
          7.4640354706097565,
          7.4754994513170745,
          7.493008811804877,
          7.467946250390245,
          7.469843451268293,
          7.49169389755,
          7.4836409712857135,
          7.5135101120731695,
          7.480265423365854,
          7.454430863268293,
          7.419584135219511,
          7.449890669780487,
          7.451399226707318,
          7.408125419341463,
          7.391585083585366,
          7.332548478463415,
          7.315879899146342,
          7.270675224414633,
          7.273737673292682,
          7.226418979073171,
          7.181617778512195,
          7.149996574243902,
          7.077735858682928,
          7.053236733682928,
          7.073103775243903,
          7.048105717926829,
          6.938751359707317,
          6.881081429878049,
          6.8141590408780495,
          6.815023737512195,
          6.735406629756098,
          6.686314674731707,
          6.573913233804878,
          6.349117282073171,
          5.237850153243902,
          4.3481428357804885,
          3.387028993707317,
          2.4631967579756098,
          0.6111111827365854
         ],
         "yaxis": "y"
        },
        {
         "line": {
          "dash": "dot",
          "width": 5
         },
         "marker": {
          "color": "green",
          "line": {
           "color": "green"
          },
          "size": 7,
          "symbol": "x"
         },
         "mode": "lines",
         "name": "IDDES-ASCII",
         "showlegend": false,
         "type": "scatter",
         "x": [
          0.004018580905566956,
          0.004035238238982524,
          0.004074573511882389,
          0.004096291454364384,
          0.004153872598811895,
          0.004197247054001896,
          0.0042063118715539695,
          0.0042745938302670376,
          0.0044175871555896026,
          0.004507801913979152,
          0.004515195437021271,
          0.004684582273714052,
          0.0050381356821401,
          0.005214912374159849,
          0.00556846581475064,
          0.005745242635343107,
          0.0060987960116734435,
          0.006275572719922158,
          0.006805902796395414,
          0.006982679480533487,
          0.0073362328728513735,
          0.00751300958103113,
          0.007689786257166873,
          0.007866562965329386,
          0.008220116349506914,
          0.008396893057790159,
          0.008750446433999805,
          0.008927223150250928,
          0.009280776518423704,
          0.009457553218463123,
          0.00981110661083276,
          0.009987883303145728,
          0.010341436695498123,
          0.010518213395554782,
          0.010871766787907168,
          0.011048543367721169,
          0.011402096920707571,
          0.011578873540602441,
          0.01193242702120525,
          0.01210920365720838,
          0.012462757089710631,
          0.012639533757775049,
          0.012993087126016772,
          0.013169863890316729,
          0.013523417242467492,
          0.013700193942679382,
          0.014053747326994931,
          0.014230524028983175,
          0.014584077427682338,
          0.014760854127980425,
          0.01511440749615324,
          0.015291184165235184,
          0.01564473757945616,
          0.015821514280444142,
          0.016175067679488175,
          0.01635184434960492,
          0.016705397749511294,
          0.016882174464986344,
          0.017235727835573658,
          0.01741250454932405,
          0.017766057918359182,
          0.017942834634006696,
          0.018296388003041838,
          0.018473164719724128,
          0.018826718103246327,
          0.01900349478698781,
          0.019357048186894186,
          0.01953382487236031,
          0.01988737827140436,
          0.020064154957042956,
          0.020417708372471203,
          0.02059448502447909,
          0.02094803845715384,
          0.021124815188323216,
          0.021478368509930446,
          0.021655145225405497,
          0.02200869859392324,
          0.022185475054839827,
          0.02253902845405636,
          0.022715804993617063,
          0.023069358265381902,
          0.02324613506139813,
          0.023599688652568226,
          0.023776465291296348,
          0.02413001852856821,
          0.024306795199029882,
          0.0246603487269053,
          0.024837125491532858,
          0.025190678763470208,
          0.025367455432034773,
          0.02572100876743922,
          0.025897785532584188,
          0.026251338964913988,
          0.02642811566469473,
          0.026728790223226426,
          0.02680587886240017,
          0.02685939366630038,
          0.0270682154933973,
          0.02720748185686614,
          0.02739907744175044,
          0.027500900312918616,
          0.027704548621535263,
          0.027908194285572542,
          0.028010018439880862,
          0.028213664103918144,
          0.02831548825822646,
          0.02851913392226375,
          0.02862095807657207,
          0.028824603754751495,
          0.028926427894917683,
          0.02913007613937732,
          0.029231897727405424,
          0.029435543455599705,
          0.02953715153877151,
          0.029726148487953626,
          0.02981023941621481,
          0.02987661280033262,
          0.0299026595453081,
          0.029942472513800288,
          0.029957561083566377,
          0.02998061798928984,
          0.029992993419483107
         ],
         "xaxis": "x",
         "y": [
          1.4471682668536583,
          1.4415380150853658,
          1.4406835322756095,
          1.4415067301829267,
          1.4459861064536583,
          1.64824156958,
          1.392720750545161,
          1.7784921113499998,
          1.45926781103,
          1.3579761328857145,
          1.61011880372,
          1.4770154983146342,
          1.4318743374707317,
          1.3957344939341465,
          1.3003855908951218,
          1.3122035250512196,
          1.3219292316707316,
          1.2979412376609756,
          1.3329853478292684,
          1.2959365545560977,
          1.2623329582439025,
          1.282859609585366,
          1.3119334798731708,
          1.3454927881414631,
          1.4439281970536586,
          1.5014633543780491,
          1.5809115769512194,
          1.6153092080585365,
          1.6400683216073169,
          1.6258593497634146,
          1.7303717027317072,
          1.7175435474878047,
          1.7049462434146343,
          1.6938503410658536,
          1.719196699014634,
          1.7766375735024391,
          1.9889633937512197,
          2.0896517185317074,
          2.3518750837097557,
          2.440257480260976,
          2.593155483146341,
          2.7375415417073166,
          3.1028010252439024,
          3.2793521148536584,
          3.4797481919268294,
          3.5485273944634153,
          3.707500969512195,
          3.7976789558048782,
          4.03141424097561,
          4.151010311902439,
          4.341048811317073,
          4.442886418195122,
          4.601329402756098,
          4.674769212121951,
          4.870253013414634,
          4.943595922170731,
          5.0600130193658535,
          5.108434309926829,
          5.186248796512196,
          5.2282918235609745,
          5.316609478780489,
          5.350478619512195,
          5.442835256926829,
          5.486586491634146,
          5.555611593975611,
          5.577002770585366,
          5.6795464296585365,
          5.726817522365852,
          5.8490902164634155,
          5.91571120785366,
          6.049204447707317,
          6.1155239347073165,
          6.240437384756098,
          6.315327420073169,
          6.485181323170733,
          6.563186391658538,
          6.696582993243903,
          6.74610396185366,
          6.932585526414634,
          7.036693912780487,
          7.182940619170733,
          7.252468682536587,
          7.4156913210731705,
          7.456871797731707,
          7.461592633487805,
          7.455107496731707,
          7.421795322609756,
          7.434468252999999,
          7.511572183707317,
          7.493238341317074,
          7.483081536365853,
          7.48387702519512,
          7.478868199170733,
          7.499883492585366,
          7.453299349536585,
          7.459938439195121,
          7.4424663281219505,
          7.456737675878049,
          7.45880221795122,
          7.444892171341463,
          7.4211553535365855,
          7.352348592756098,
          7.311999854439025,
          7.3008505546829285,
          7.232293969390245,
          7.203304890780489,
          7.1827975822195125,
          7.156098499463416,
          7.091036950951219,
          7.063377578170733,
          6.963623260268292,
          6.912467525243902,
          6.862480314585365,
          6.8493010891219495,
          6.846579497731707,
          6.816176984390244,
          6.459650362780487,
          5.980017177585366,
          4.3471455267560986,
          3.386287187390244,
          1.6351182274634146,
          0.6119482572756098
         ],
         "yaxis": "y"
        },
        {
         "line": {
          "dash": "dashdot",
          "width": 5
         },
         "marker": {
          "color": "blue",
          "line": {
           "color": "blue"
          },
          "size": 7,
          "symbol": "circle"
         },
         "mode": "lines",
         "name": "KW-SST-ASCII",
         "showlegend": false,
         "type": "scatter",
         "x": [
          0.004006314799649237,
          0.0040352372597983,
          0.0040745715880638675,
          0.0041224168547903855,
          0.004197246922197193,
          0.0043297926523386265,
          0.004383763322137084,
          0.00441758708968725,
          0.004684582411255817,
          0.005038135810475703,
          0.005391689176567628,
          0.005745242764973886,
          0.006098796131242592,
          0.006275572888623232,
          0.006629126304247997,
          0.0069826796704813435,
          0.007336233069559842,
          0.00768978640287743,
          0.00804333978544502,
          0.008396893184629623,
          0.008750446550863036,
          0.009103999950047608,
          0.009457553349055414,
          0.0098111067317644,
          0.010164660147389213,
          0.010518213497182396,
          0.010871766879891406,
          0.011225320509486752,
          0.011755650353192556,
          0.01210920380176863,
          0.012462757250344576,
          0.012816310501178213,
          0.013169864147319823,
          0.01352341723368041,
          0.013876970912631835,
          0.014230524001431863,
          0.014584077711637453,
          0.014937630862875013,
          0.015291184378272682,
          0.0156447376921448,
          0.015998291111022377,
          0.016351844494190988,
          0.016705397842711404,
          0.017058951289873232,
          0.017412504640161367,
          0.017766058089444557,
          0.01811961140473088,
          0.018473164822547832,
          0.01882671826970956,
          0.019180271552469097,
          0.019533825036046875,
          0.019887378384920863,
          0.020240931801677072,
          0.020594485150904583,
          0.02094803853301259,
          0.02130159204841018,
          0.021655145265762312,
          0.022008698814393927,
          0.02253902855839772,
          0.02289258161099391,
          0.02324613512568448,
          0.023599688968472525,
          0.02395324202177581,
          0.02430679507684696,
          0.02466034891963502,
          0.025013902370332342,
          0.025367455488335938,
          0.02572100867280761,
          0.0260745626495924,
          0.02642811589876428,
          0.02659080391924516,
          0.02659613272827404,
          0.026806008097805815,
          0.026945710417353986,
          0.02720748185686613,
          0.027399077473828932,
          0.027602724467226936,
          0.02780637013126422,
          0.02801001843988087,
          0.028213664103918144,
          0.028417312412534795,
          0.02862095807657207,
          0.028824603754751495,
          0.029028252049226003,
          0.02923189772740542,
          0.029435546021879932,
          0.029609125194454168,
          0.02981023941621481,
          0.029876612800332613,
          0.029924373083359924,
          0.029957561083566377,
          0.02998061540921242
         ],
         "xaxis": "x",
         "y": [
          1.4556387588750002,
          1.4385497437,
          1.44422963045,
          1.4725333312,
          1.4911798868000001,
          1.5408497551,
          1.6270364852,
          1.6621846958000002,
          1.6316091863,
          1.6099777396500001,
          1.5695595813499998,
          1.53010233465,
          1.5027485131,
          1.4949428938,
          1.4876607053000002,
          1.4883958404,
          1.49411506405,
          1.5000410366499999,
          1.5021338221,
          1.50227507085,
          1.50864386095,
          1.5414002468,
          1.61242243855,
          1.66974959805,
          1.61819443625,
          1.4268868108000001,
          1.4407600133,
          1.92633403385,
          2.4315770398,
          2.52160178695,
          2.5857691222,
          2.63126723865,
          2.72515029685,
          2.95293985195,
          3.3088202681,
          3.705504898,
          4.0696468643,
          4.35730741435,
          4.5565231453,
          4.697858129649999,
          4.811508005199999,
          4.911439415249999,
          5.00396138515,
          5.0919887198,
          5.17717987235,
          5.26098834065,
          5.3452816862,
          5.43163065285,
          5.52033284205,
          5.61127768585,
          5.7048898911000006,
          5.801948820350001,
          5.903059692999999,
          6.00853164225,
          6.1187664598,
          6.2344562128,
          6.3550721892,
          6.47779297955,
          6.6616502214499995,
          6.7821895355,
          6.89861224285,
          7.0087595809500005,
          7.110977397249999,
          7.2034011731500005,
          7.284528094650001,
          7.35519801275,
          7.416794843949998,
          7.467830094350001,
          7.506059434500001,
          7.530544374550001,
          7.591905594399999,
          7.486570886299999,
          7.54537556805,
          7.544173650899999,
          7.526907390650001,
          7.504989129499999,
          7.47704987485,
          7.447549284400001,
          7.416272421249999,
          7.3776459965,
          7.323035835650001,
          7.246887718099999,
          7.151968247499998,
          7.0469260174,
          6.9462497613,
          6.871666954849999,
          6.806462948649999,
          6.6352394535500006,
          6.33037127285,
          5.5182192412,
          3.93464743685,
          1.9829291381
         ],
         "yaxis": "y"
        },
        {
         "marker": {
          "color": "black",
          "line": {
           "color": "black",
           "width": 5
          },
          "size": 7,
          "symbol": "circle"
         },
         "mode": "markers+lines",
         "name": "Experimental-Mean",
         "showlegend": false,
         "type": "scatter",
         "x": [
          0.008485280999999999,
          0.008909545,
          0.00933381,
          0.009758074,
          0.010182338,
          0.010606602,
          0.011030866,
          0.01145513,
          0.011879394,
          0.012303658,
          0.012727922,
          0.013152186000000001,
          0.01357645,
          0.014000714,
          0.014424978,
          0.014849242,
          0.015273506000000001,
          0.015697771,
          0.016122035,
          0.016546299,
          0.016970563,
          0.017394826999999998,
          0.017819091000000002,
          0.018243355,
          0.018667619,
          0.019091883,
          0.019516147,
          0.019940411,
          0.020364675,
          0.020788939,
          0.021213202999999996,
          0.021637467999999997,
          0.022061732,
          0.022485996,
          0.02291026,
          0.023334524,
          0.023758788,
          0.024183052000000003,
          0.024607316,
          0.02503158,
          0.025455844,
          0.025880108,
          0.026304372000000003,
          0.026728636,
          0.0271529,
          0.027577163999999998,
          0.028001428999999998,
          0.028425693,
          0.028849957000000002,
          0.029274221,
          0.029698485
         ],
         "xaxis": "x",
         "y": [
          1.4290862030000002,
          1.304956016,
          1.3677885269999999,
          1.365288274,
          1.3631626680000002,
          1.395536198,
          1.503998937,
          1.7666735740000001,
          2.131084059,
          2.564652634,
          2.9573649,
          3.3135953910000002,
          3.610486085,
          3.8213131160000002,
          3.910514019,
          3.976263163,
          4.05031181,
          4.175811106,
          4.3381123939999995,
          4.565736372,
          4.794594996,
          4.987590166,
          5.179486734,
          5.34828983,
          5.556650452,
          5.721097751,
          5.866459835,
          5.9713360710000005,
          6.013008043999999,
          6.125078276,
          6.274260795,
          6.40723831,
          6.39907134,
          6.551348589,
          6.702272034,
          6.849695643,
          7.020861637,
          7.16965677,
          7.317306884,
          7.444685165,
          7.514078225,
          7.479776027000001,
          7.249534935,
          6.987652804,
          6.696612743999999,
          6.4708195470000005,
          6.36717822,
          6.338974905,
          6.350509296,
          6.098506782,
          4.525339649
         ],
         "yaxis": "y"
        },
        {
         "line": {
          "dash": "dash",
          "width": 5
         },
         "marker": {
          "color": "red",
          "line": {
           "color": "red"
          },
          "size": 7,
          "symbol": "triangle-right"
         },
         "mode": "lines",
         "name": "SBES-ASCII",
         "showlegend": false,
         "type": "scatter",
         "x": [
          0.004006316264933156,
          0.004018581612294314,
          0.004035238361475839,
          0.004074572190748223,
          0.004096289350256054,
          0.0041224172639499615,
          0.00415386815373171,
          0.004197246955148368,
          0.004274593846671915,
          0.004326620294697583,
          0.004329833239789787,
          0.004383763256234732,
          0.004417587254443131,
          0.004507802062943135,
          0.004684582358032298,
          0.004861359054173951,
          0.0052149124464400285,
          0.005391689142616193,
          0.005568465887030811,
          0.005922019399850015,
          0.006098796083936366,
          0.0062755728002219565,
          0.006452349484325599,
          0.00680590286865834,
          0.006982679552813658,
          0.007159456244936938,
          0.007336232945114286,
          0.007689786329464279,
          0.007866563045629174,
          0.008043339737683449,
          0.008220116413750195,
          0.008573669814122206,
          0.008750446522336459,
          0.008927223198454955,
          0.009103999890509232,
          0.009457553282706406,
          0.009634329991110364,
          0.009811106683095658,
          0.009987883383462756,
          0.010341436767778284,
          0.010518213475854559,
          0.01069499016011343,
          0.01104854343196445,
          0.011225320332839465,
          0.011402097001007352,
          0.011578873636975963,
          0.011932427117578763,
          0.012109203753581894,
          0.012285980405641486,
          0.012462757153971157,
          0.01281631052205772,
          0.012993087190260063,
          0.013169863954577251,
          0.013346640606705882,
          0.013700193974775166,
          0.013876970723156568,
          0.01405374740731195,
          0.01423052406106172,
          0.014584077459760859,
          0.014760854208176716,
          0.014937630891745724,
          0.015114407560482747,
          0.015467960961423903,
          0.015644737675864166,
          0.015821514344601183,
          0.01599829104593408,
          0.016351844446012932,
          0.01652862111406008,
          0.016705397813840797,
          0.016882174529315848,
          0.017235727899903158,
          0.017412504629692804,
          0.0175892813301634,
          0.01776605799872794,
          0.01811961138138781,
          0.018296388083238115,
          0.018473164832171388,
          0.018649941467450176,
          0.01900349488339581,
          0.019180271535058788,
          0.01935704823501197,
          0.019533824968595848,
          0.01988737833590633,
          0.0200641550374117,
          0.02024093175288676,
          0.0204177084368007,
          0.020771261789279183,
          0.020948038537522584,
          0.021124815236441004,
          0.0213015918582675,
          0.02165514530577425,
          0.02183192200710717,
          0.02200869869033123,
          0.02218547511916932,
          0.0225390284861349,
          0.022715805057774083,
          0.02289258169270796,
          0.023069358393868408,
          0.023422911955202057,
          0.02359968868464676,
          0.023776465355625845,
          0.023953241959343542,
          0.024306795263359368,
          0.02448357199556352,
          0.02466034879123479,
          0.02483712555568991,
          0.025190678859878208,
          0.02536745552844277,
          0.025544232228913367,
          0.025721008863847226,
          0.02589778566124316,
          0.026251339029071025,
          0.026428115696945725,
          0.02659078295834419,
          0.026596132596752173,
          0.026728740430491543,
          0.02684491359020378,
          0.026926808007145732,
          0.027042867060864232,
          0.02710589677018657,
          0.027309835221962047,
          0.02741165724632677,
          0.02751348140063509,
          0.027615304783679632,
          0.02781895097511509,
          0.027920775115281283,
          0.028022598243077512,
          0.028124421050088718,
          0.02832806883130718,
          0.028429892215731438,
          0.028531714830271632,
          0.028633538533411336,
          0.02883718477693125,
          0.02893900873876855,
          0.029040831538536226,
          0.02914265530100392,
          0.029346302326480445,
          0.029550190729237938,
          0.02962996944371349,
          0.02970974288317244,
          0.029738049767694757,
          0.029844678656012712,
          0.029876062118678774,
          0.029902224915053982,
          0.029924033468596182,
          0.0299573687929483,
          0.02996999967167501,
          0.029980528491646875,
          0.029992959174301694
         ],
         "xaxis": "x2",
         "y": [
          1.463556064280488,
          1.468940070219512,
          1.4858983468292684,
          1.5153943927000002,
          1.5140404241463414,
          1.5002980564560977,
          1.4750145941268291,
          1.4828923437,
          1.448664337,
          1.3780497185,
          1.3992977157333333,
          1.37709317713,
          1.3721919305,
          1.4213116486619046,
          1.4397311607365857,
          1.4688764603804878,
          1.5028744736609756,
          1.4884323463146345,
          1.4576781428414636,
          1.2458654439756098,
          1.2222686529414637,
          1.233229704404878,
          1.2642715509951221,
          1.3808942408439024,
          1.4106933958756096,
          1.4232077889585366,
          1.4507828281341464,
          1.4753725783170732,
          1.4695539872439023,
          1.454362231302439,
          1.4832945447756098,
          1.719628903214634,
          1.8428639905439024,
          2.0085772752682933,
          2.178853668170732,
          2.5032315160487806,
          2.5970253239512195,
          2.778717783756097,
          3.003334895170732,
          3.1865834370975605,
          3.2686933424146343,
          3.32352019402439,
          3.473206609463414,
          3.5152777391463417,
          3.6853449712439033,
          3.8055228018292686,
          4.020561133878049,
          4.1533479475609765,
          4.193437525073171,
          4.263697425829268,
          4.435330443804878,
          4.4903227409512185,
          4.571204041756098,
          4.6442865012439025,
          4.782781970048781,
          4.852995161682927,
          4.926249410560977,
          4.987481937804878,
          5.151448232097561,
          5.227341701560976,
          5.287831242878049,
          5.3443077802682915,
          5.513518722804879,
          5.5773869555121935,
          5.654813440487803,
          5.744451810121952,
          5.93191921902439,
          6.005528506780487,
          6.081334455219513,
          6.156370562707317,
          6.3127694492195126,
          6.38021822,
          6.439738255390245,
          6.502093975707318,
          6.6462219375853655,
          6.708532833390242,
          6.756984894512193,
          6.834559670878049,
          7.011717978878049,
          7.085172102414634,
          7.158875473073171,
          7.2320120853902425,
          7.466705746341463,
          7.567982814414633,
          7.617738555536586,
          7.65825748902439,
          7.694468963170731,
          7.703518582341464,
          7.740382234731707,
          7.844081001585367,
          7.882569824609755,
          7.888282657146343,
          7.870174199121952,
          7.837683246121951,
          7.869618741634146,
          7.9175771372926835,
          7.898722625707317,
          7.858477758219513,
          7.9429196144878045,
          7.91380255695122,
          7.913984830317074,
          7.971871759243902,
          7.933032996878049,
          7.864764694585366,
          7.807724185121952,
          7.7594558110000005,
          7.708428176439026,
          7.641166086121951,
          7.623605867658536,
          7.600884760902439,
          7.599337456024392,
          7.250426476,
          7.055025149292683,
          6.969971477761905,
          6.916061525649999,
          6.873762558731706,
          6.749013670634147,
          6.5783984455609765,
          6.4325123463902445,
          6.307435273560976,
          6.1466946610731705,
          6.076060732024391,
          6.025576793439026,
          5.9809571629268286,
          5.951466489731708,
          5.95197012597561,
          5.949040626,
          5.931999248658537,
          5.9141255689268295,
          5.938540061146343,
          5.950079944024391,
          6.006117093097561,
          6.041883678707317,
          6.052215664512196,
          6.0605018280243925,
          6.088114508463415,
          6.130750467731708,
          6.1296836136829285,
          6.034093441317072,
          5.945874965,
          5.881384278317072,
          5.11908609685366,
          4.647790846585366,
          4.089306705682927,
          3.4598662081463414,
          2.148588014609756,
          1.546756381887805,
          1.0187934271902441,
          0.3791103996387805
         ],
         "yaxis": "y2"
        },
        {
         "line": {
          "dash": "dot",
          "width": 5
         },
         "marker": {
          "color": "green",
          "line": {
           "color": "green"
          },
          "size": 7,
          "symbol": "x"
         },
         "mode": "lines",
         "name": "IDDES-ASCII",
         "showlegend": false,
         "type": "scatter",
         "x": [
          0.0040063162609319655,
          0.004035238345402095,
          0.004056513278216275,
          0.0040962893623113636,
          0.004122417271986836,
          0.004206363439802267,
          0.004274593764647528,
          0.004326620294697583,
          0.0043298332711045094,
          0.0043837632232835546,
          0.0044175872214919564,
          0.004684582358032298,
          0.004861359054173951,
          0.0052149124464400285,
          0.005391689142616193,
          0.005745242707640523,
          0.005922019399850015,
          0.0062755728002219565,
          0.006452349484325599,
          0.00680590286865834,
          0.006982679552813658,
          0.007336232945114286,
          0.0075130096452744235,
          0.007866563045629174,
          0.008220116413750195,
          0.008396893114013811,
          0.008750446522336459,
          0.008927223198454955,
          0.009280776614814476,
          0.009457553282706406,
          0.009811106683095658,
          0.009987883383462756,
          0.010341436767778284,
          0.010518213475854559,
          0.010871766836111194,
          0.01104854343196445,
          0.011402097001007352,
          0.011578873636975963,
          0.011932427117578763,
          0.012109203753581894,
          0.012462757153971157,
          0.012639533854148562,
          0.012993087190260063,
          0.013169863954577251,
          0.013523417338823764,
          0.013700193974775166,
          0.01405374740731195,
          0.01423052406106172,
          0.014584077459760859,
          0.014760854208176716,
          0.015114407560482747,
          0.015291184213352975,
          0.015644737675864166,
          0.015821514344601183,
          0.016175067743817686,
          0.016351844446012932,
          0.016705397813840797,
          0.016882174529315848,
          0.017235727899903158,
          0.017412504629692804,
          0.01776605799872794,
          0.01794283468212448,
          0.018296388083238115,
          0.018473164832171388,
          0.018826718167575838,
          0.01900349488339581,
          0.019180271535058788,
          0.019533824968595848,
          0.01988737833590633,
          0.0200641550374117,
          0.0204177084368007,
          0.02059448510467537,
          0.020948038537522584,
          0.021124815236441004,
          0.0214783685902992,
          0.02165514530577425,
          0.02200869869033123,
          0.02218547511916932,
          0.0225390284861349,
          0.022715805057774083,
          0.023069358393868408,
          0.023246135189712167,
          0.02359968868464676,
          0.023776465355625845,
          0.024130018624976192,
          0.024306795263359368,
          0.02466034879123479,
          0.02483712555568991,
          0.025190678859878208,
          0.02536745552844277,
          0.025721008863847226,
          0.02589778566124316,
          0.026251339029071025,
          0.026428115696945725,
          0.026596132530991242,
          0.026728740494648545,
          0.02680606608220029,
          0.02692680755804669,
          0.027042866804236204,
          0.027208011324281748,
          0.027309835478590068,
          0.027513481207129282,
          0.027615302730655458,
          0.02781895097511509,
          0.027920775115281283,
          0.028124420857617703,
          0.028328069087935205,
          0.028429890611806306,
          0.02863353885592101,
          0.02873536306058913,
          0.02893900873876855,
          0.029040832893076875,
          0.02924447855711415,
          0.02934630271142248,
          0.029550190729237938,
          0.02962996944371349,
          0.029738049767694757,
          0.029792550913809262,
          0.029876062182835776,
          0.029902224915053982,
          0.029942214363256617,
          0.0299573687929483,
          0.029980528491646875,
          0.029992959174301694
         ],
         "xaxis": "x2",
         "y": [
          1.457958441012195,
          1.4718398929085366,
          1.4942702510926829,
          1.5078403246804881,
          1.5012764490292685,
          1.4519964356193549,
          1.5687811265,
          1.3520900822,
          1.474082931504762,
          1.6071672968,
          1.3418806823,
          1.4665181122146342,
          1.4277938397756098,
          1.4215181157390244,
          1.4221867494658538,
          1.3883051125951222,
          1.3704380066585369,
          1.3248379361,
          1.3578134149121952,
          1.4278890959243904,
          1.436086917907317,
          1.4340646298073172,
          1.3975696970804878,
          1.3981141863804878,
          1.445873179002439,
          1.4681563678585363,
          1.5892907311487807,
          1.7496585032365854,
          2.116710093507317,
          2.3259498932195117,
          2.6501162449756097,
          2.815174001146341,
          3.1061246826585367,
          3.1672631652926833,
          3.3183405536585364,
          3.3779601322926833,
          3.626685885609757,
          3.7106831232439017,
          3.941188898878049,
          4.098209924,
          4.278667554097561,
          4.3859624529268295,
          4.558187054439024,
          4.658551364707316,
          4.784512266634146,
          4.818332414463415,
          4.93314855695122,
          4.993491971268293,
          5.14256115997561,
          5.206836668682927,
          5.326763102634146,
          5.386678891731708,
          5.507564924512195,
          5.573839193609756,
          5.710709397243902,
          5.782868290707317,
          5.9542223275609745,
          6.043915887170732,
          6.220195851731707,
          6.320016508097561,
          6.482176027146343,
          6.5668716809268295,
          6.7575828264878055,
          6.855166095707316,
          7.010057193780487,
          7.092063067487805,
          7.166973549292682,
          7.279605795804878,
          7.4224237483170725,
          7.526541924609755,
          7.648051243292683,
          7.67833859812195,
          7.778910714268293,
          7.7830465059024405,
          7.809937287146343,
          7.8396885320243905,
          7.910331801463414,
          7.869200753170732,
          7.782243692731707,
          7.795227305414634,
          7.762684192,
          7.811289105512196,
          7.793074531268292,
          7.811865494414635,
          7.7733174907560985,
          7.755714299634147,
          7.766417532146341,
          7.766085277878048,
          7.698563701609756,
          7.636238418902439,
          7.5298850588048785,
          7.4136057262195125,
          7.120068634000001,
          6.9924089641463425,
          6.785253344599999,
          6.748179896243903,
          6.67183994095122,
          6.536096533024391,
          6.499012505634147,
          6.357140869804878,
          6.2891354447317065,
          6.17320574604878,
          6.1281275513658535,
          6.049364576073171,
          6.028217480487805,
          6.025597568707317,
          6.039984543195122,
          6.020568350682927,
          6.033551058682928,
          6.0711447137804875,
          6.171906459902438,
          6.203415085560977,
          6.196803008634147,
          6.191224441560976,
          6.214701054804879,
          6.158691095390244,
          6.037864992439023,
          5.773004648658537,
          4.683241464707319,
          4.0424156879268285,
          2.6766968200243904,
          2.035749051707317,
          0.9640579566707318,
          0.3602800626426829
         ],
         "yaxis": "y2"
        },
        {
         "line": {
          "dash": "dashdot",
          "width": 5
         },
         "marker": {
          "color": "blue",
          "line": {
           "color": "blue"
          },
          "size": 7,
          "symbol": "circle"
         },
         "mode": "lines",
         "name": "KW-SST-ASCII",
         "showlegend": false,
         "type": "scatter",
         "x": [
          0.004018580273522146,
          0.004056512552654007,
          0.0040962888218092856,
          0.00415386775575994,
          0.004197246988099546,
          0.004274593764647528,
          0.004326620294697583,
          0.0043297926358630496,
          0.004383763256234732,
          0.0045151954534969,
          0.004861359102557256,
          0.005214912476993053,
          0.005568465991471341,
          0.005922019440047281,
          0.006275572888623232,
          0.006629126304247997,
          0.0069826796704813435,
          0.007336233053084247,
          0.007689786402912792,
          0.008043339768969442,
          0.008396893151713805,
          0.00875044656730328,
          0.00910399996648785,
          0.009457553349020074,
          0.00981110674820464,
          0.010164660114473405,
          0.010518213497182415,
          0.010871766846975595,
          0.011225320509486752,
          0.011578873629010666,
          0.01210920380176863,
          0.012462757250344576,
          0.012816310501178213,
          0.01316986411440402,
          0.013523417266631588,
          0.013876970912631835,
          0.014230523968551406,
          0.01458407764587654,
          0.01493763082999454,
          0.015291184345392244,
          0.0156447376921448,
          0.015998291143902856,
          0.016351844461310532,
          0.01670539787559188,
          0.017058951256992774,
          0.017412504673041847,
          0.017766058089798115,
          0.01811961143761136,
          0.0184731648554283,
          0.018826718237182672,
          0.019180271618230046,
          0.019533825003166427,
          0.0198873784181549,
          0.02024093176844307,
          0.020594485216665532,
          0.0209480385330126,
          0.021301592015176167,
          0.02165514523288186,
          0.022008698847274404,
          0.02236225209715345,
          0.022715805150456715,
          0.023069358137292068,
          0.0234229121798378,
          0.02377646549724549,
          0.02413001854807395,
          0.02448357186724946,
          0.024837125907673858,
          0.02519067895956294,
          0.025544232081809247,
          0.02589778566120001,
          0.02625133937317329,
          0.02659080391924516,
          0.02680600822932768,
          0.02684491359020378,
          0.027042866804236204,
          0.027208011324281745,
          0.027411656988319037,
          0.02761530266649845,
          0.02781895097511509,
          0.02802259663915237,
          0.028226242303189663,
          0.028429890611806306,
          0.028633538920422943,
          0.028837184584460232,
          0.02904083024849751,
          0.02924447855711416,
          0.029448124221151437,
          0.02962996944371348,
          0.02973804976769476,
          0.029844678656012712,
          0.029902224915053975,
          0.029942214363256617,
          0.029969999671675008,
          0.029992959174301687
         ],
         "xaxis": "x2",
         "y": [
          1.46730554395,
          1.4605388824,
          1.44097757405,
          1.41352403775,
          1.407093654,
          1.4117583286000002,
          1.4187459516,
          1.3860410063,
          1.4276333072,
          1.4365063846000001,
          1.43297013395,
          1.3469807880000002,
          1.240312941395,
          1.13000630131,
          1.0460386372750001,
          1.02060584122,
          1.07037251236,
          1.18080763985,
          1.24144596875,
          1.169986208755,
          1.240812017965,
          1.6922264336,
          2.2567228901500003,
          2.7182599841500004,
          3.0358385527499996,
          3.2388487433499997,
          3.4071007008,
          3.55513908075,
          3.71375283995,
          3.8920479364999996,
          4.1422236703,
          4.29347183845,
          4.442368314049999,
          4.582122185899999,
          4.7202346212,
          4.85888754395,
          4.9973516792,
          5.134854992999999,
          5.27160558285,
          5.40844992405,
          5.546230013350001,
          5.68628546375,
          5.8305372993,
          5.978785058450001,
          6.1300361069000004,
          6.2851242013999995,
          6.44338735985,
          6.6031361009500005,
          6.765209329799999,
          6.93045301225,
          7.098108684700001,
          7.26646833165,
          7.43155584055,
          7.585451084450001,
          7.7190796241,
          7.824830174550001,
          7.8958037450999985,
          7.936364009,
          7.950820316149999,
          7.934199041449999,
          7.899320705449999,
          7.87239508765,
          7.8417077435500016,
          7.8111045458,
          7.8046764838,
          7.8092047803,
          7.790113306649999,
          7.7426286975,
          7.674867464649999,
          7.576419639700002,
          7.407951622150001,
          7.1687728388,
          6.9676632338000015,
          6.879521771399999,
          6.76173855865,
          6.5871777675,
          6.41101990065,
          6.248463922899999,
          6.12095261575,
          6.04314533275,
          6.0168372208,
          6.0327180707000005,
          6.07618655975,
          6.1304877275,
          6.177693742050001,
          6.19701120835,
          6.137325090449999,
          5.904144930349999,
          5.7568120926,
          5.22330329855,
          4.443505745,
          3.2809770702500005,
          1.8830973455000002,
          0.4612897506925
         ],
         "yaxis": "y2"
        },
        {
         "marker": {
          "color": "black",
          "line": {
           "color": "black",
           "width": 5
          },
          "size": 7,
          "symbol": "circle"
         },
         "mode": "markers+lines",
         "name": "Experimental",
         "showlegend": false,
         "type": "scatter",
         "x": [
          0.010606602,
          0.011030866,
          0.01145513,
          0.011879394,
          0.012303658,
          0.012727922,
          0.013152186000000001,
          0.01357645,
          0.014000714,
          0.014424978,
          0.014849242,
          0.015273506000000001,
          0.015697771,
          0.016122035,
          0.016546299,
          0.016970563,
          0.017394826999999998,
          0.017819091000000002,
          0.018243355,
          0.018667619,
          0.019091883,
          0.019516147,
          0.019940411,
          0.020364675,
          0.020788939,
          0.021213202999999996,
          0.021637467999999997,
          0.022061732,
          0.022485996,
          0.02291026,
          0.023334524,
          0.023758788,
          0.024183052000000003,
          0.024607316,
          0.02503158,
          0.025455844,
          0.025880108,
          0.026304372000000003,
          0.026728636,
          0.0271529,
          0.027577163999999998,
          0.028001428999999998,
          0.028425693,
          0.028849957000000002,
          0.029274221,
          0.029698485,
          0.030122749
         ],
         "xaxis": "x2",
         "y": [
          2.388529604,
          2.782821263,
          3.0487308810000004,
          3.300982443,
          3.5220561000000004,
          3.751692116,
          4.034038335,
          4.36277436,
          4.670491803,
          4.891481048999999,
          5.127681626,
          5.296215065,
          5.445017601,
          5.571099212999999,
          5.685633719,
          5.820896966,
          5.940701689,
          6.059609815,
          6.165522533,
          6.272161983999999,
          6.398504795,
          6.5297465820000005,
          6.663091559,
          6.803802676,
          6.942890342,
          7.090152623,
          7.240952375,
          7.397010836000001,
          7.539178199,
          7.633240036,
          7.715486218,
          7.76341337,
          7.76445379,
          7.714246068,
          7.5441227070000005,
          7.320170107,
          7.049112857999999,
          6.7161550320000005,
          6.353321145,
          6.218657845,
          6.1793274910000004,
          6.242483332999999,
          6.310694927,
          6.34820787,
          6.432506486,
          5.761625565,
          0.0
         ],
         "yaxis": "y2"
        }
       ],
       "layout": {
        "font": {
         "family": "Arial",
         "size": 32
        },
        "height": 500,
        "legend": {
         "itemsizing": "constant"
        },
        "template": {
         "data": {
          "bar": [
           {
            "error_x": {
             "color": "#2a3f5f"
            },
            "error_y": {
             "color": "#2a3f5f"
            },
            "marker": {
             "line": {
              "color": "#E5ECF6",
              "width": 0.5
             }
            },
            "type": "bar"
           }
          ],
          "barpolar": [
           {
            "marker": {
             "line": {
              "color": "#E5ECF6",
              "width": 0.5
             }
            },
            "type": "barpolar"
           }
          ],
          "carpet": [
           {
            "aaxis": {
             "endlinecolor": "#2a3f5f",
             "gridcolor": "white",
             "linecolor": "white",
             "minorgridcolor": "white",
             "startlinecolor": "#2a3f5f"
            },
            "baxis": {
             "endlinecolor": "#2a3f5f",
             "gridcolor": "white",
             "linecolor": "white",
             "minorgridcolor": "white",
             "startlinecolor": "#2a3f5f"
            },
            "type": "carpet"
           }
          ],
          "choropleth": [
           {
            "colorbar": {
             "outlinewidth": 0,
             "ticks": ""
            },
            "type": "choropleth"
           }
          ],
          "contour": [
           {
            "colorbar": {
             "outlinewidth": 0,
             "ticks": ""
            },
            "colorscale": [
             [
              0.0,
              "#0d0887"
             ],
             [
              0.1111111111111111,
              "#46039f"
             ],
             [
              0.2222222222222222,
              "#7201a8"
             ],
             [
              0.3333333333333333,
              "#9c179e"
             ],
             [
              0.4444444444444444,
              "#bd3786"
             ],
             [
              0.5555555555555556,
              "#d8576b"
             ],
             [
              0.6666666666666666,
              "#ed7953"
             ],
             [
              0.7777777777777778,
              "#fb9f3a"
             ],
             [
              0.8888888888888888,
              "#fdca26"
             ],
             [
              1.0,
              "#f0f921"
             ]
            ],
            "type": "contour"
           }
          ],
          "contourcarpet": [
           {
            "colorbar": {
             "outlinewidth": 0,
             "ticks": ""
            },
            "type": "contourcarpet"
           }
          ],
          "heatmap": [
           {
            "colorbar": {
             "outlinewidth": 0,
             "ticks": ""
            },
            "colorscale": [
             [
              0.0,
              "#0d0887"
             ],
             [
              0.1111111111111111,
              "#46039f"
             ],
             [
              0.2222222222222222,
              "#7201a8"
             ],
             [
              0.3333333333333333,
              "#9c179e"
             ],
             [
              0.4444444444444444,
              "#bd3786"
             ],
             [
              0.5555555555555556,
              "#d8576b"
             ],
             [
              0.6666666666666666,
              "#ed7953"
             ],
             [
              0.7777777777777778,
              "#fb9f3a"
             ],
             [
              0.8888888888888888,
              "#fdca26"
             ],
             [
              1.0,
              "#f0f921"
             ]
            ],
            "type": "heatmap"
           }
          ],
          "heatmapgl": [
           {
            "colorbar": {
             "outlinewidth": 0,
             "ticks": ""
            },
            "colorscale": [
             [
              0.0,
              "#0d0887"
             ],
             [
              0.1111111111111111,
              "#46039f"
             ],
             [
              0.2222222222222222,
              "#7201a8"
             ],
             [
              0.3333333333333333,
              "#9c179e"
             ],
             [
              0.4444444444444444,
              "#bd3786"
             ],
             [
              0.5555555555555556,
              "#d8576b"
             ],
             [
              0.6666666666666666,
              "#ed7953"
             ],
             [
              0.7777777777777778,
              "#fb9f3a"
             ],
             [
              0.8888888888888888,
              "#fdca26"
             ],
             [
              1.0,
              "#f0f921"
             ]
            ],
            "type": "heatmapgl"
           }
          ],
          "histogram": [
           {
            "marker": {
             "colorbar": {
              "outlinewidth": 0,
              "ticks": ""
             }
            },
            "type": "histogram"
           }
          ],
          "histogram2d": [
           {
            "colorbar": {
             "outlinewidth": 0,
             "ticks": ""
            },
            "colorscale": [
             [
              0.0,
              "#0d0887"
             ],
             [
              0.1111111111111111,
              "#46039f"
             ],
             [
              0.2222222222222222,
              "#7201a8"
             ],
             [
              0.3333333333333333,
              "#9c179e"
             ],
             [
              0.4444444444444444,
              "#bd3786"
             ],
             [
              0.5555555555555556,
              "#d8576b"
             ],
             [
              0.6666666666666666,
              "#ed7953"
             ],
             [
              0.7777777777777778,
              "#fb9f3a"
             ],
             [
              0.8888888888888888,
              "#fdca26"
             ],
             [
              1.0,
              "#f0f921"
             ]
            ],
            "type": "histogram2d"
           }
          ],
          "histogram2dcontour": [
           {
            "colorbar": {
             "outlinewidth": 0,
             "ticks": ""
            },
            "colorscale": [
             [
              0.0,
              "#0d0887"
             ],
             [
              0.1111111111111111,
              "#46039f"
             ],
             [
              0.2222222222222222,
              "#7201a8"
             ],
             [
              0.3333333333333333,
              "#9c179e"
             ],
             [
              0.4444444444444444,
              "#bd3786"
             ],
             [
              0.5555555555555556,
              "#d8576b"
             ],
             [
              0.6666666666666666,
              "#ed7953"
             ],
             [
              0.7777777777777778,
              "#fb9f3a"
             ],
             [
              0.8888888888888888,
              "#fdca26"
             ],
             [
              1.0,
              "#f0f921"
             ]
            ],
            "type": "histogram2dcontour"
           }
          ],
          "mesh3d": [
           {
            "colorbar": {
             "outlinewidth": 0,
             "ticks": ""
            },
            "type": "mesh3d"
           }
          ],
          "parcoords": [
           {
            "line": {
             "colorbar": {
              "outlinewidth": 0,
              "ticks": ""
             }
            },
            "type": "parcoords"
           }
          ],
          "pie": [
           {
            "automargin": true,
            "type": "pie"
           }
          ],
          "scatter": [
           {
            "marker": {
             "colorbar": {
              "outlinewidth": 0,
              "ticks": ""
             }
            },
            "type": "scatter"
           }
          ],
          "scatter3d": [
           {
            "line": {
             "colorbar": {
              "outlinewidth": 0,
              "ticks": ""
             }
            },
            "marker": {
             "colorbar": {
              "outlinewidth": 0,
              "ticks": ""
             }
            },
            "type": "scatter3d"
           }
          ],
          "scattercarpet": [
           {
            "marker": {
             "colorbar": {
              "outlinewidth": 0,
              "ticks": ""
             }
            },
            "type": "scattercarpet"
           }
          ],
          "scattergeo": [
           {
            "marker": {
             "colorbar": {
              "outlinewidth": 0,
              "ticks": ""
             }
            },
            "type": "scattergeo"
           }
          ],
          "scattergl": [
           {
            "marker": {
             "colorbar": {
              "outlinewidth": 0,
              "ticks": ""
             }
            },
            "type": "scattergl"
           }
          ],
          "scattermapbox": [
           {
            "marker": {
             "colorbar": {
              "outlinewidth": 0,
              "ticks": ""
             }
            },
            "type": "scattermapbox"
           }
          ],
          "scatterpolar": [
           {
            "marker": {
             "colorbar": {
              "outlinewidth": 0,
              "ticks": ""
             }
            },
            "type": "scatterpolar"
           }
          ],
          "scatterpolargl": [
           {
            "marker": {
             "colorbar": {
              "outlinewidth": 0,
              "ticks": ""
             }
            },
            "type": "scatterpolargl"
           }
          ],
          "scatterternary": [
           {
            "marker": {
             "colorbar": {
              "outlinewidth": 0,
              "ticks": ""
             }
            },
            "type": "scatterternary"
           }
          ],
          "surface": [
           {
            "colorbar": {
             "outlinewidth": 0,
             "ticks": ""
            },
            "colorscale": [
             [
              0.0,
              "#0d0887"
             ],
             [
              0.1111111111111111,
              "#46039f"
             ],
             [
              0.2222222222222222,
              "#7201a8"
             ],
             [
              0.3333333333333333,
              "#9c179e"
             ],
             [
              0.4444444444444444,
              "#bd3786"
             ],
             [
              0.5555555555555556,
              "#d8576b"
             ],
             [
              0.6666666666666666,
              "#ed7953"
             ],
             [
              0.7777777777777778,
              "#fb9f3a"
             ],
             [
              0.8888888888888888,
              "#fdca26"
             ],
             [
              1.0,
              "#f0f921"
             ]
            ],
            "type": "surface"
           }
          ],
          "table": [
           {
            "cells": {
             "fill": {
              "color": "#EBF0F8"
             },
             "line": {
              "color": "white"
             }
            },
            "header": {
             "fill": {
              "color": "#C8D4E3"
             },
             "line": {
              "color": "white"
             }
            },
            "type": "table"
           }
          ]
         },
         "layout": {
          "annotationdefaults": {
           "arrowcolor": "#2a3f5f",
           "arrowhead": 0,
           "arrowwidth": 1
          },
          "coloraxis": {
           "colorbar": {
            "outlinewidth": 0,
            "ticks": ""
           }
          },
          "colorscale": {
           "diverging": [
            [
             0,
             "#8e0152"
            ],
            [
             0.1,
             "#c51b7d"
            ],
            [
             0.2,
             "#de77ae"
            ],
            [
             0.3,
             "#f1b6da"
            ],
            [
             0.4,
             "#fde0ef"
            ],
            [
             0.5,
             "#f7f7f7"
            ],
            [
             0.6,
             "#e6f5d0"
            ],
            [
             0.7,
             "#b8e186"
            ],
            [
             0.8,
             "#7fbc41"
            ],
            [
             0.9,
             "#4d9221"
            ],
            [
             1,
             "#276419"
            ]
           ],
           "sequential": [
            [
             0.0,
             "#0d0887"
            ],
            [
             0.1111111111111111,
             "#46039f"
            ],
            [
             0.2222222222222222,
             "#7201a8"
            ],
            [
             0.3333333333333333,
             "#9c179e"
            ],
            [
             0.4444444444444444,
             "#bd3786"
            ],
            [
             0.5555555555555556,
             "#d8576b"
            ],
            [
             0.6666666666666666,
             "#ed7953"
            ],
            [
             0.7777777777777778,
             "#fb9f3a"
            ],
            [
             0.8888888888888888,
             "#fdca26"
            ],
            [
             1.0,
             "#f0f921"
            ]
           ],
           "sequentialminus": [
            [
             0.0,
             "#0d0887"
            ],
            [
             0.1111111111111111,
             "#46039f"
            ],
            [
             0.2222222222222222,
             "#7201a8"
            ],
            [
             0.3333333333333333,
             "#9c179e"
            ],
            [
             0.4444444444444444,
             "#bd3786"
            ],
            [
             0.5555555555555556,
             "#d8576b"
            ],
            [
             0.6666666666666666,
             "#ed7953"
            ],
            [
             0.7777777777777778,
             "#fb9f3a"
            ],
            [
             0.8888888888888888,
             "#fdca26"
            ],
            [
             1.0,
             "#f0f921"
            ]
           ]
          },
          "colorway": [
           "#636efa",
           "#EF553B",
           "#00cc96",
           "#ab63fa",
           "#FFA15A",
           "#19d3f3",
           "#FF6692",
           "#B6E880",
           "#FF97FF",
           "#FECB52"
          ],
          "font": {
           "color": "#2a3f5f"
          },
          "geo": {
           "bgcolor": "white",
           "lakecolor": "white",
           "landcolor": "#E5ECF6",
           "showlakes": true,
           "showland": true,
           "subunitcolor": "white"
          },
          "hoverlabel": {
           "align": "left"
          },
          "hovermode": "closest",
          "mapbox": {
           "style": "light"
          },
          "paper_bgcolor": "white",
          "plot_bgcolor": "#E5ECF6",
          "polar": {
           "angularaxis": {
            "gridcolor": "white",
            "linecolor": "white",
            "ticks": ""
           },
           "bgcolor": "#E5ECF6",
           "radialaxis": {
            "gridcolor": "white",
            "linecolor": "white",
            "ticks": ""
           }
          },
          "scene": {
           "xaxis": {
            "backgroundcolor": "#E5ECF6",
            "gridcolor": "white",
            "gridwidth": 2,
            "linecolor": "white",
            "showbackground": true,
            "ticks": "",
            "zerolinecolor": "white"
           },
           "yaxis": {
            "backgroundcolor": "#E5ECF6",
            "gridcolor": "white",
            "gridwidth": 2,
            "linecolor": "white",
            "showbackground": true,
            "ticks": "",
            "zerolinecolor": "white"
           },
           "zaxis": {
            "backgroundcolor": "#E5ECF6",
            "gridcolor": "white",
            "gridwidth": 2,
            "linecolor": "white",
            "showbackground": true,
            "ticks": "",
            "zerolinecolor": "white"
           }
          },
          "shapedefaults": {
           "line": {
            "color": "#2a3f5f"
           }
          },
          "ternary": {
           "aaxis": {
            "gridcolor": "white",
            "linecolor": "white",
            "ticks": ""
           },
           "baxis": {
            "gridcolor": "white",
            "linecolor": "white",
            "ticks": ""
           },
           "bgcolor": "#E5ECF6",
           "caxis": {
            "gridcolor": "white",
            "linecolor": "white",
            "ticks": ""
           }
          },
          "title": {
           "x": 0.05
          },
          "xaxis": {
           "automargin": true,
           "gridcolor": "white",
           "linecolor": "white",
           "ticks": "",
           "title": {
            "standoff": 15
           },
           "zerolinecolor": "white",
           "zerolinewidth": 2
          },
          "yaxis": {
           "automargin": true,
           "gridcolor": "white",
           "linecolor": "white",
           "ticks": "",
           "title": {
            "standoff": 15
           },
           "zerolinecolor": "white",
           "zerolinewidth": 2
          }
         }
        },
        "title": {
         "text": "Velocity Magnitude vs Experimental"
        },
        "width": 1605,
        "xaxis": {
         "anchor": "y",
         "domain": [
          0.0,
          0.475
         ]
        },
        "xaxis2": {
         "anchor": "y2",
         "domain": [
          0.525,
          1.0
         ]
        },
        "yaxis": {
         "anchor": "x",
         "domain": [
          0.0,
          1.0
         ]
        },
        "yaxis2": {
         "anchor": "x2",
         "domain": [
          0.0,
          1.0
         ],
         "matches": "y",
         "showticklabels": false
        }
       }
      },
      "text/html": "<div>\n        \n        \n            <div id=\"dbf9a768-5ba1-4843-8e15-8d8134e6723a\" class=\"plotly-graph-div\" style=\"height:500px; width:1605px;\"></div>\n            <script type=\"text/javascript\">\n                require([\"plotly\"], function(Plotly) {\n                    window.PLOTLYENV=window.PLOTLYENV || {};\n                    \n                if (document.getElementById(\"dbf9a768-5ba1-4843-8e15-8d8134e6723a\")) {\n                    Plotly.newPlot(\n                        'dbf9a768-5ba1-4843-8e15-8d8134e6723a',\n                        [{\"line\": {\"dash\": \"dash\", \"width\": 5}, \"marker\": {\"color\": \"red\", \"line\": {\"color\": \"red\"}, \"size\": 7, \"symbol\": \"triangle-right\"}, \"mode\": \"lines\", \"name\": \"SBES-ASCII\", \"showlegend\": false, \"type\": \"scatter\", \"x\": [0.0040063151325965005, 0.004018580921640699, 0.004035238218890343, 0.004056513928720021, 0.004096291466419692, 0.004122420412127324, 0.004153872578805947, 0.004197247054001896, 0.004206311860924559, 0.004326620294697583, 0.00438376319033238, 0.004417587188540779, 0.004507801913979152, 0.004515195445259068, 0.004684582273714052, 0.0048613589778753385, 0.0050381356821401, 0.0053916890703532595, 0.00556846581475064, 0.005745242635343107, 0.005922019319550215, 0.006275572719922158, 0.006452349396006181, 0.006629126112257259, 0.006805902796395414, 0.007159456172656777, 0.0073362328728513735, 0.00751300958103113, 0.007689786257166873, 0.00804333965740091, 0.008220116349506914, 0.008396893057790159, 0.008573669741859294, 0.008927223150250928, 0.009103999818229076, 0.009280776518423704, 0.009457553218463123, 0.00981110661083276, 0.009987883303145728, 0.010164660019241644, 0.010341436695498123, 0.010518213395554782, 0.010871766787907168, 0.011048543367721169, 0.011225320268596194, 0.011402096920707571, 0.011755650288949312, 0.01193242702120525, 0.01210920365720838, 0.012285980341380969, 0.012639533757775049, 0.012816310457814444, 0.012993087126016772, 0.013169863890316729, 0.013523417242467492, 0.013700193942679382, 0.013876970610743809, 0.014053747326994931, 0.014407300710655088, 0.014584077427682338, 0.014760854127980425, 0.014937630811376971, 0.015291184165235184, 0.015467960929345366, 0.015821514280444142, 0.015998290965737794, 0.016175067679488175, 0.01635184434960492, 0.016705397749511294, 0.016882174464986344, 0.01705895114907275, 0.017235727835573658, 0.017589281233927855, 0.017766057918359182, 0.017942834634006696, 0.018119611284979808, 0.018473164719724128, 0.018649941403120672, 0.018826718103246327, 0.01900349478698781, 0.019357048186894186, 0.01953382487236031, 0.019710601603874604, 0.01988737827140436, 0.020240931656651213, 0.020417708372471203, 0.02059448502447909, 0.020771261741161392, 0.021124815188323216, 0.02130159182618897, 0.021478368509930446, 0.021655145225405497, 0.02200869859392324, 0.022185475054839827, 0.022362251848614, 0.02253902845405636, 0.02289258159629995, 0.023069358265381902, 0.02324613506139813, 0.023422911826715544, 0.023599688652568226, 0.02395324189501406, 0.02413001852856821, 0.024306795199029882, 0.024483571899155523, 0.024837125491532858, 0.025190678763470208, 0.025367455432034773, 0.025544232164583867, 0.02572100876743922, 0.026074562330325044, 0.026251338964913988, 0.02642811566469473, 0.026590804445332638, 0.02659632068968135, 0.02680587879824316, 0.02685939366630038, 0.026945710417353986, 0.0270682154933973, 0.02729725464888133, 0.027399076511473837, 0.027500900312918616, 0.027602724467226936, 0.027806370131264226, 0.027908194285572542, 0.028010018439880862, 0.028111840014111763, 0.02831548825822646, 0.028417311386022708, 0.02851913392226375, 0.0287227822308804, 0.028824603754751495, 0.028926427894917683, 0.029028252049226006, 0.029231897727405424, 0.029333721881713737, 0.029435545059524844, 0.02953715153877151, 0.02972614745592265, 0.02981023941621481, 0.02984537145095264, 0.02987661280033262, 0.029924373083359924, 0.029942472513800288, 0.029957561083566377, 0.029970134021963427, 0.029992993419483107], \"xaxis\": \"x\", \"y\": [1.453493437390244, 1.4396894711463415, 1.4304578082329267, 1.426662977912195, 1.428101933195122, 1.4281485948195125, 1.420292005712195, 1.4016789931, 1.4166877253612904, 1.24654197697, 1.4833612133899998, 1.25395503437, 1.5793840679714284, 1.3882653314700002, 1.5534322603804878, 1.563302582890244, 1.5405997697414633, 1.4540717236975609, 1.4280992283146339, 1.4180874685634146, 1.4096023381, 1.3602831521048782, 1.3618763109756098, 1.3775069492756096, 1.359698773887805, 1.3446511333878048, 1.3650941738878049, 1.4105076392170732, 1.4569281771146338, 1.465517543207317, 1.47496387347561, 1.4996402996902438, 1.5250777072634147, 1.5810405087682928, 1.5907408132682923, 1.6033321691414637, 1.5968799444658537, 1.6228864937829268, 1.6323651262414631, 1.6383658564585366, 1.6324875851073168, 1.601577998453659, 1.7585925752609757, 1.8513904390219516, 1.930207731880488, 2.045432330875609, 2.188787683917073, 2.2549564831780486, 2.3932509479926827, 2.5819944535439023, 2.9058079040487805, 3.0342559612926827, 3.0912921977073173, 3.166314035170732, 3.4423092672926834, 3.5429570059512194, 3.6394245254146336, 3.768932281536585, 3.8597139289268285, 3.9293739998292687, 3.9844604812195117, 4.056982544585367, 4.323036263317073, 4.460075785536586, 4.607613687878049, 4.664870337097561, 4.7301168129024385, 4.8151625646341465, 4.9880506023658535, 5.0526698195609745, 5.108318447878049, 5.165947338048781, 5.26715450604878, 5.308363246731708, 5.34487888104878, 5.385931000292684, 5.473646590853659, 5.527193439195122, 5.581273170146341, 5.636357871780487, 5.779067207317072, 5.848774930951219, 5.895679974, 5.934929482487805, 6.0551937694390245, 6.1105528758780485, 6.157860503146344, 6.216607195097562, 6.336029086512196, 6.3995884200000015, 6.456093045536585, 6.507067833951219, 6.591930510902438, 6.659102190878049, 6.7356493660975625, 6.813164614756098, 6.949728274390244, 7.013302651731707, 7.079176327560977, 7.130252068195121, 7.1853391945853655, 7.282419909243902, 7.306030601439023, 7.3561602657073175, 7.406451569390245, 7.460903652585365, 7.4883655035853645, 7.498153818951219, 7.4640354706097565, 7.4754994513170745, 7.493008811804877, 7.467946250390245, 7.469843451268293, 7.49169389755, 7.4836409712857135, 7.5135101120731695, 7.480265423365854, 7.454430863268293, 7.419584135219511, 7.449890669780487, 7.451399226707318, 7.408125419341463, 7.391585083585366, 7.332548478463415, 7.315879899146342, 7.270675224414633, 7.273737673292682, 7.226418979073171, 7.181617778512195, 7.149996574243902, 7.077735858682928, 7.053236733682928, 7.073103775243903, 7.048105717926829, 6.938751359707317, 6.881081429878049, 6.8141590408780495, 6.815023737512195, 6.735406629756098, 6.686314674731707, 6.573913233804878, 6.349117282073171, 5.237850153243902, 4.3481428357804885, 3.387028993707317, 2.4631967579756098, 0.6111111827365854], \"yaxis\": \"y\"}, {\"line\": {\"dash\": \"dot\", \"width\": 5}, \"marker\": {\"color\": \"green\", \"line\": {\"color\": \"green\"}, \"size\": 7, \"symbol\": \"x\"}, \"mode\": \"lines\", \"name\": \"IDDES-ASCII\", \"showlegend\": false, \"type\": \"scatter\", \"x\": [0.004018580905566956, 0.004035238238982524, 0.004074573511882389, 0.004096291454364384, 0.004153872598811895, 0.004197247054001896, 0.0042063118715539695, 0.0042745938302670376, 0.0044175871555896026, 0.004507801913979152, 0.004515195437021271, 0.004684582273714052, 0.0050381356821401, 0.005214912374159849, 0.00556846581475064, 0.005745242635343107, 0.0060987960116734435, 0.006275572719922158, 0.006805902796395414, 0.006982679480533487, 0.0073362328728513735, 0.00751300958103113, 0.007689786257166873, 0.007866562965329386, 0.008220116349506914, 0.008396893057790159, 0.008750446433999805, 0.008927223150250928, 0.009280776518423704, 0.009457553218463123, 0.00981110661083276, 0.009987883303145728, 0.010341436695498123, 0.010518213395554782, 0.010871766787907168, 0.011048543367721169, 0.011402096920707571, 0.011578873540602441, 0.01193242702120525, 0.01210920365720838, 0.012462757089710631, 0.012639533757775049, 0.012993087126016772, 0.013169863890316729, 0.013523417242467492, 0.013700193942679382, 0.014053747326994931, 0.014230524028983175, 0.014584077427682338, 0.014760854127980425, 0.01511440749615324, 0.015291184165235184, 0.01564473757945616, 0.015821514280444142, 0.016175067679488175, 0.01635184434960492, 0.016705397749511294, 0.016882174464986344, 0.017235727835573658, 0.01741250454932405, 0.017766057918359182, 0.017942834634006696, 0.018296388003041838, 0.018473164719724128, 0.018826718103246327, 0.01900349478698781, 0.019357048186894186, 0.01953382487236031, 0.01988737827140436, 0.020064154957042956, 0.020417708372471203, 0.02059448502447909, 0.02094803845715384, 0.021124815188323216, 0.021478368509930446, 0.021655145225405497, 0.02200869859392324, 0.022185475054839827, 0.02253902845405636, 0.022715804993617063, 0.023069358265381902, 0.02324613506139813, 0.023599688652568226, 0.023776465291296348, 0.02413001852856821, 0.024306795199029882, 0.0246603487269053, 0.024837125491532858, 0.025190678763470208, 0.025367455432034773, 0.02572100876743922, 0.025897785532584188, 0.026251338964913988, 0.02642811566469473, 0.026728790223226426, 0.02680587886240017, 0.02685939366630038, 0.0270682154933973, 0.02720748185686614, 0.02739907744175044, 0.027500900312918616, 0.027704548621535263, 0.027908194285572542, 0.028010018439880862, 0.028213664103918144, 0.02831548825822646, 0.02851913392226375, 0.02862095807657207, 0.028824603754751495, 0.028926427894917683, 0.02913007613937732, 0.029231897727405424, 0.029435543455599705, 0.02953715153877151, 0.029726148487953626, 0.02981023941621481, 0.02987661280033262, 0.0299026595453081, 0.029942472513800288, 0.029957561083566377, 0.02998061798928984, 0.029992993419483107], \"xaxis\": \"x\", \"y\": [1.4471682668536583, 1.4415380150853658, 1.4406835322756095, 1.4415067301829267, 1.4459861064536583, 1.64824156958, 1.392720750545161, 1.7784921113499998, 1.45926781103, 1.3579761328857145, 1.61011880372, 1.4770154983146342, 1.4318743374707317, 1.3957344939341465, 1.3003855908951218, 1.3122035250512196, 1.3219292316707316, 1.2979412376609756, 1.3329853478292684, 1.2959365545560977, 1.2623329582439025, 1.282859609585366, 1.3119334798731708, 1.3454927881414631, 1.4439281970536586, 1.5014633543780491, 1.5809115769512194, 1.6153092080585365, 1.6400683216073169, 1.6258593497634146, 1.7303717027317072, 1.7175435474878047, 1.7049462434146343, 1.6938503410658536, 1.719196699014634, 1.7766375735024391, 1.9889633937512197, 2.0896517185317074, 2.3518750837097557, 2.440257480260976, 2.593155483146341, 2.7375415417073166, 3.1028010252439024, 3.2793521148536584, 3.4797481919268294, 3.5485273944634153, 3.707500969512195, 3.7976789558048782, 4.03141424097561, 4.151010311902439, 4.341048811317073, 4.442886418195122, 4.601329402756098, 4.674769212121951, 4.870253013414634, 4.943595922170731, 5.0600130193658535, 5.108434309926829, 5.186248796512196, 5.2282918235609745, 5.316609478780489, 5.350478619512195, 5.442835256926829, 5.486586491634146, 5.555611593975611, 5.577002770585366, 5.6795464296585365, 5.726817522365852, 5.8490902164634155, 5.91571120785366, 6.049204447707317, 6.1155239347073165, 6.240437384756098, 6.315327420073169, 6.485181323170733, 6.563186391658538, 6.696582993243903, 6.74610396185366, 6.932585526414634, 7.036693912780487, 7.182940619170733, 7.252468682536587, 7.4156913210731705, 7.456871797731707, 7.461592633487805, 7.455107496731707, 7.421795322609756, 7.434468252999999, 7.511572183707317, 7.493238341317074, 7.483081536365853, 7.48387702519512, 7.478868199170733, 7.499883492585366, 7.453299349536585, 7.459938439195121, 7.4424663281219505, 7.456737675878049, 7.45880221795122, 7.444892171341463, 7.4211553535365855, 7.352348592756098, 7.311999854439025, 7.3008505546829285, 7.232293969390245, 7.203304890780489, 7.1827975822195125, 7.156098499463416, 7.091036950951219, 7.063377578170733, 6.963623260268292, 6.912467525243902, 6.862480314585365, 6.8493010891219495, 6.846579497731707, 6.816176984390244, 6.459650362780487, 5.980017177585366, 4.3471455267560986, 3.386287187390244, 1.6351182274634146, 0.6119482572756098], \"yaxis\": \"y\"}, {\"line\": {\"dash\": \"dashdot\", \"width\": 5}, \"marker\": {\"color\": \"blue\", \"line\": {\"color\": \"blue\"}, \"size\": 7, \"symbol\": \"circle\"}, \"mode\": \"lines\", \"name\": \"KW-SST-ASCII\", \"showlegend\": false, \"type\": \"scatter\", \"x\": [0.004006314799649237, 0.0040352372597983, 0.0040745715880638675, 0.0041224168547903855, 0.004197246922197193, 0.0043297926523386265, 0.004383763322137084, 0.00441758708968725, 0.004684582411255817, 0.005038135810475703, 0.005391689176567628, 0.005745242764973886, 0.006098796131242592, 0.006275572888623232, 0.006629126304247997, 0.0069826796704813435, 0.007336233069559842, 0.00768978640287743, 0.00804333978544502, 0.008396893184629623, 0.008750446550863036, 0.009103999950047608, 0.009457553349055414, 0.0098111067317644, 0.010164660147389213, 0.010518213497182396, 0.010871766879891406, 0.011225320509486752, 0.011755650353192556, 0.01210920380176863, 0.012462757250344576, 0.012816310501178213, 0.013169864147319823, 0.01352341723368041, 0.013876970912631835, 0.014230524001431863, 0.014584077711637453, 0.014937630862875013, 0.015291184378272682, 0.0156447376921448, 0.015998291111022377, 0.016351844494190988, 0.016705397842711404, 0.017058951289873232, 0.017412504640161367, 0.017766058089444557, 0.01811961140473088, 0.018473164822547832, 0.01882671826970956, 0.019180271552469097, 0.019533825036046875, 0.019887378384920863, 0.020240931801677072, 0.020594485150904583, 0.02094803853301259, 0.02130159204841018, 0.021655145265762312, 0.022008698814393927, 0.02253902855839772, 0.02289258161099391, 0.02324613512568448, 0.023599688968472525, 0.02395324202177581, 0.02430679507684696, 0.02466034891963502, 0.025013902370332342, 0.025367455488335938, 0.02572100867280761, 0.0260745626495924, 0.02642811589876428, 0.02659080391924516, 0.02659613272827404, 0.026806008097805815, 0.026945710417353986, 0.02720748185686613, 0.027399077473828932, 0.027602724467226936, 0.02780637013126422, 0.02801001843988087, 0.028213664103918144, 0.028417312412534795, 0.02862095807657207, 0.028824603754751495, 0.029028252049226003, 0.02923189772740542, 0.029435546021879932, 0.029609125194454168, 0.02981023941621481, 0.029876612800332613, 0.029924373083359924, 0.029957561083566377, 0.02998061540921242], \"xaxis\": \"x\", \"y\": [1.4556387588750002, 1.4385497437, 1.44422963045, 1.4725333312, 1.4911798868000001, 1.5408497551, 1.6270364852, 1.6621846958000002, 1.6316091863, 1.6099777396500001, 1.5695595813499998, 1.53010233465, 1.5027485131, 1.4949428938, 1.4876607053000002, 1.4883958404, 1.49411506405, 1.5000410366499999, 1.5021338221, 1.50227507085, 1.50864386095, 1.5414002468, 1.61242243855, 1.66974959805, 1.61819443625, 1.4268868108000001, 1.4407600133, 1.92633403385, 2.4315770398, 2.52160178695, 2.5857691222, 2.63126723865, 2.72515029685, 2.95293985195, 3.3088202681, 3.705504898, 4.0696468643, 4.35730741435, 4.5565231453, 4.697858129649999, 4.811508005199999, 4.911439415249999, 5.00396138515, 5.0919887198, 5.17717987235, 5.26098834065, 5.3452816862, 5.43163065285, 5.52033284205, 5.61127768585, 5.7048898911000006, 5.801948820350001, 5.903059692999999, 6.00853164225, 6.1187664598, 6.2344562128, 6.3550721892, 6.47779297955, 6.6616502214499995, 6.7821895355, 6.89861224285, 7.0087595809500005, 7.110977397249999, 7.2034011731500005, 7.284528094650001, 7.35519801275, 7.416794843949998, 7.467830094350001, 7.506059434500001, 7.530544374550001, 7.591905594399999, 7.486570886299999, 7.54537556805, 7.544173650899999, 7.526907390650001, 7.504989129499999, 7.47704987485, 7.447549284400001, 7.416272421249999, 7.3776459965, 7.323035835650001, 7.246887718099999, 7.151968247499998, 7.0469260174, 6.9462497613, 6.871666954849999, 6.806462948649999, 6.6352394535500006, 6.33037127285, 5.5182192412, 3.93464743685, 1.9829291381], \"yaxis\": \"y\"}, {\"marker\": {\"color\": \"black\", \"line\": {\"color\": \"black\", \"width\": 5}, \"size\": 7, \"symbol\": \"circle\"}, \"mode\": \"markers+lines\", \"name\": \"Experimental-Mean\", \"showlegend\": false, \"type\": \"scatter\", \"x\": [0.008485280999999999, 0.008909545, 0.00933381, 0.009758074, 0.010182338, 0.010606602, 0.011030866, 0.01145513, 0.011879394, 0.012303658, 0.012727922, 0.013152186000000001, 0.01357645, 0.014000714, 0.014424978, 0.014849242, 0.015273506000000001, 0.015697771, 0.016122035, 0.016546299, 0.016970563, 0.017394826999999998, 0.017819091000000002, 0.018243355, 0.018667619, 0.019091883, 0.019516147, 0.019940411, 0.020364675, 0.020788939, 0.021213202999999996, 0.021637467999999997, 0.022061732, 0.022485996, 0.02291026, 0.023334524, 0.023758788, 0.024183052000000003, 0.024607316, 0.02503158, 0.025455844, 0.025880108, 0.026304372000000003, 0.026728636, 0.0271529, 0.027577163999999998, 0.028001428999999998, 0.028425693, 0.028849957000000002, 0.029274221, 0.029698485], \"xaxis\": \"x\", \"y\": [1.4290862030000002, 1.304956016, 1.3677885269999999, 1.365288274, 1.3631626680000002, 1.395536198, 1.503998937, 1.7666735740000001, 2.131084059, 2.564652634, 2.9573649, 3.3135953910000002, 3.610486085, 3.8213131160000002, 3.910514019, 3.976263163, 4.05031181, 4.175811106, 4.3381123939999995, 4.565736372, 4.794594996, 4.987590166, 5.179486734, 5.34828983, 5.556650452, 5.721097751, 5.866459835, 5.9713360710000005, 6.013008043999999, 6.125078276, 6.274260795, 6.40723831, 6.39907134, 6.551348589, 6.702272034, 6.849695643, 7.020861637, 7.16965677, 7.317306884, 7.444685165, 7.514078225, 7.479776027000001, 7.249534935, 6.987652804, 6.696612743999999, 6.4708195470000005, 6.36717822, 6.338974905, 6.350509296, 6.098506782, 4.525339649], \"yaxis\": \"y\"}, {\"line\": {\"dash\": \"dash\", \"width\": 5}, \"marker\": {\"color\": \"red\", \"line\": {\"color\": \"red\"}, \"size\": 7, \"symbol\": \"triangle-right\"}, \"mode\": \"lines\", \"name\": \"SBES-ASCII\", \"showlegend\": false, \"type\": \"scatter\", \"x\": [0.004006316264933156, 0.004018581612294314, 0.004035238361475839, 0.004074572190748223, 0.004096289350256054, 0.0041224172639499615, 0.00415386815373171, 0.004197246955148368, 0.004274593846671915, 0.004326620294697583, 0.004329833239789787, 0.004383763256234732, 0.004417587254443131, 0.004507802062943135, 0.004684582358032298, 0.004861359054173951, 0.0052149124464400285, 0.005391689142616193, 0.005568465887030811, 0.005922019399850015, 0.006098796083936366, 0.0062755728002219565, 0.006452349484325599, 0.00680590286865834, 0.006982679552813658, 0.007159456244936938, 0.007336232945114286, 0.007689786329464279, 0.007866563045629174, 0.008043339737683449, 0.008220116413750195, 0.008573669814122206, 0.008750446522336459, 0.008927223198454955, 0.009103999890509232, 0.009457553282706406, 0.009634329991110364, 0.009811106683095658, 0.009987883383462756, 0.010341436767778284, 0.010518213475854559, 0.01069499016011343, 0.01104854343196445, 0.011225320332839465, 0.011402097001007352, 0.011578873636975963, 0.011932427117578763, 0.012109203753581894, 0.012285980405641486, 0.012462757153971157, 0.01281631052205772, 0.012993087190260063, 0.013169863954577251, 0.013346640606705882, 0.013700193974775166, 0.013876970723156568, 0.01405374740731195, 0.01423052406106172, 0.014584077459760859, 0.014760854208176716, 0.014937630891745724, 0.015114407560482747, 0.015467960961423903, 0.015644737675864166, 0.015821514344601183, 0.01599829104593408, 0.016351844446012932, 0.01652862111406008, 0.016705397813840797, 0.016882174529315848, 0.017235727899903158, 0.017412504629692804, 0.0175892813301634, 0.01776605799872794, 0.01811961138138781, 0.018296388083238115, 0.018473164832171388, 0.018649941467450176, 0.01900349488339581, 0.019180271535058788, 0.01935704823501197, 0.019533824968595848, 0.01988737833590633, 0.0200641550374117, 0.02024093175288676, 0.0204177084368007, 0.020771261789279183, 0.020948038537522584, 0.021124815236441004, 0.0213015918582675, 0.02165514530577425, 0.02183192200710717, 0.02200869869033123, 0.02218547511916932, 0.0225390284861349, 0.022715805057774083, 0.02289258169270796, 0.023069358393868408, 0.023422911955202057, 0.02359968868464676, 0.023776465355625845, 0.023953241959343542, 0.024306795263359368, 0.02448357199556352, 0.02466034879123479, 0.02483712555568991, 0.025190678859878208, 0.02536745552844277, 0.025544232228913367, 0.025721008863847226, 0.02589778566124316, 0.026251339029071025, 0.026428115696945725, 0.02659078295834419, 0.026596132596752173, 0.026728740430491543, 0.02684491359020378, 0.026926808007145732, 0.027042867060864232, 0.02710589677018657, 0.027309835221962047, 0.02741165724632677, 0.02751348140063509, 0.027615304783679632, 0.02781895097511509, 0.027920775115281283, 0.028022598243077512, 0.028124421050088718, 0.02832806883130718, 0.028429892215731438, 0.028531714830271632, 0.028633538533411336, 0.02883718477693125, 0.02893900873876855, 0.029040831538536226, 0.02914265530100392, 0.029346302326480445, 0.029550190729237938, 0.02962996944371349, 0.02970974288317244, 0.029738049767694757, 0.029844678656012712, 0.029876062118678774, 0.029902224915053982, 0.029924033468596182, 0.0299573687929483, 0.02996999967167501, 0.029980528491646875, 0.029992959174301694], \"xaxis\": \"x2\", \"y\": [1.463556064280488, 1.468940070219512, 1.4858983468292684, 1.5153943927000002, 1.5140404241463414, 1.5002980564560977, 1.4750145941268291, 1.4828923437, 1.448664337, 1.3780497185, 1.3992977157333333, 1.37709317713, 1.3721919305, 1.4213116486619046, 1.4397311607365857, 1.4688764603804878, 1.5028744736609756, 1.4884323463146345, 1.4576781428414636, 1.2458654439756098, 1.2222686529414637, 1.233229704404878, 1.2642715509951221, 1.3808942408439024, 1.4106933958756096, 1.4232077889585366, 1.4507828281341464, 1.4753725783170732, 1.4695539872439023, 1.454362231302439, 1.4832945447756098, 1.719628903214634, 1.8428639905439024, 2.0085772752682933, 2.178853668170732, 2.5032315160487806, 2.5970253239512195, 2.778717783756097, 3.003334895170732, 3.1865834370975605, 3.2686933424146343, 3.32352019402439, 3.473206609463414, 3.5152777391463417, 3.6853449712439033, 3.8055228018292686, 4.020561133878049, 4.1533479475609765, 4.193437525073171, 4.263697425829268, 4.435330443804878, 4.4903227409512185, 4.571204041756098, 4.6442865012439025, 4.782781970048781, 4.852995161682927, 4.926249410560977, 4.987481937804878, 5.151448232097561, 5.227341701560976, 5.287831242878049, 5.3443077802682915, 5.513518722804879, 5.5773869555121935, 5.654813440487803, 5.744451810121952, 5.93191921902439, 6.005528506780487, 6.081334455219513, 6.156370562707317, 6.3127694492195126, 6.38021822, 6.439738255390245, 6.502093975707318, 6.6462219375853655, 6.708532833390242, 6.756984894512193, 6.834559670878049, 7.011717978878049, 7.085172102414634, 7.158875473073171, 7.2320120853902425, 7.466705746341463, 7.567982814414633, 7.617738555536586, 7.65825748902439, 7.694468963170731, 7.703518582341464, 7.740382234731707, 7.844081001585367, 7.882569824609755, 7.888282657146343, 7.870174199121952, 7.837683246121951, 7.869618741634146, 7.9175771372926835, 7.898722625707317, 7.858477758219513, 7.9429196144878045, 7.91380255695122, 7.913984830317074, 7.971871759243902, 7.933032996878049, 7.864764694585366, 7.807724185121952, 7.7594558110000005, 7.708428176439026, 7.641166086121951, 7.623605867658536, 7.600884760902439, 7.599337456024392, 7.250426476, 7.055025149292683, 6.969971477761905, 6.916061525649999, 6.873762558731706, 6.749013670634147, 6.5783984455609765, 6.4325123463902445, 6.307435273560976, 6.1466946610731705, 6.076060732024391, 6.025576793439026, 5.9809571629268286, 5.951466489731708, 5.95197012597561, 5.949040626, 5.931999248658537, 5.9141255689268295, 5.938540061146343, 5.950079944024391, 6.006117093097561, 6.041883678707317, 6.052215664512196, 6.0605018280243925, 6.088114508463415, 6.130750467731708, 6.1296836136829285, 6.034093441317072, 5.945874965, 5.881384278317072, 5.11908609685366, 4.647790846585366, 4.089306705682927, 3.4598662081463414, 2.148588014609756, 1.546756381887805, 1.0187934271902441, 0.3791103996387805], \"yaxis\": \"y2\"}, {\"line\": {\"dash\": \"dot\", \"width\": 5}, \"marker\": {\"color\": \"green\", \"line\": {\"color\": \"green\"}, \"size\": 7, \"symbol\": \"x\"}, \"mode\": \"lines\", \"name\": \"IDDES-ASCII\", \"showlegend\": false, \"type\": \"scatter\", \"x\": [0.0040063162609319655, 0.004035238345402095, 0.004056513278216275, 0.0040962893623113636, 0.004122417271986836, 0.004206363439802267, 0.004274593764647528, 0.004326620294697583, 0.0043298332711045094, 0.0043837632232835546, 0.0044175872214919564, 0.004684582358032298, 0.004861359054173951, 0.0052149124464400285, 0.005391689142616193, 0.005745242707640523, 0.005922019399850015, 0.0062755728002219565, 0.006452349484325599, 0.00680590286865834, 0.006982679552813658, 0.007336232945114286, 0.0075130096452744235, 0.007866563045629174, 0.008220116413750195, 0.008396893114013811, 0.008750446522336459, 0.008927223198454955, 0.009280776614814476, 0.009457553282706406, 0.009811106683095658, 0.009987883383462756, 0.010341436767778284, 0.010518213475854559, 0.010871766836111194, 0.01104854343196445, 0.011402097001007352, 0.011578873636975963, 0.011932427117578763, 0.012109203753581894, 0.012462757153971157, 0.012639533854148562, 0.012993087190260063, 0.013169863954577251, 0.013523417338823764, 0.013700193974775166, 0.01405374740731195, 0.01423052406106172, 0.014584077459760859, 0.014760854208176716, 0.015114407560482747, 0.015291184213352975, 0.015644737675864166, 0.015821514344601183, 0.016175067743817686, 0.016351844446012932, 0.016705397813840797, 0.016882174529315848, 0.017235727899903158, 0.017412504629692804, 0.01776605799872794, 0.01794283468212448, 0.018296388083238115, 0.018473164832171388, 0.018826718167575838, 0.01900349488339581, 0.019180271535058788, 0.019533824968595848, 0.01988737833590633, 0.0200641550374117, 0.0204177084368007, 0.02059448510467537, 0.020948038537522584, 0.021124815236441004, 0.0214783685902992, 0.02165514530577425, 0.02200869869033123, 0.02218547511916932, 0.0225390284861349, 0.022715805057774083, 0.023069358393868408, 0.023246135189712167, 0.02359968868464676, 0.023776465355625845, 0.024130018624976192, 0.024306795263359368, 0.02466034879123479, 0.02483712555568991, 0.025190678859878208, 0.02536745552844277, 0.025721008863847226, 0.02589778566124316, 0.026251339029071025, 0.026428115696945725, 0.026596132530991242, 0.026728740494648545, 0.02680606608220029, 0.02692680755804669, 0.027042866804236204, 0.027208011324281748, 0.027309835478590068, 0.027513481207129282, 0.027615302730655458, 0.02781895097511509, 0.027920775115281283, 0.028124420857617703, 0.028328069087935205, 0.028429890611806306, 0.02863353885592101, 0.02873536306058913, 0.02893900873876855, 0.029040832893076875, 0.02924447855711415, 0.02934630271142248, 0.029550190729237938, 0.02962996944371349, 0.029738049767694757, 0.029792550913809262, 0.029876062182835776, 0.029902224915053982, 0.029942214363256617, 0.0299573687929483, 0.029980528491646875, 0.029992959174301694], \"xaxis\": \"x2\", \"y\": [1.457958441012195, 1.4718398929085366, 1.4942702510926829, 1.5078403246804881, 1.5012764490292685, 1.4519964356193549, 1.5687811265, 1.3520900822, 1.474082931504762, 1.6071672968, 1.3418806823, 1.4665181122146342, 1.4277938397756098, 1.4215181157390244, 1.4221867494658538, 1.3883051125951222, 1.3704380066585369, 1.3248379361, 1.3578134149121952, 1.4278890959243904, 1.436086917907317, 1.4340646298073172, 1.3975696970804878, 1.3981141863804878, 1.445873179002439, 1.4681563678585363, 1.5892907311487807, 1.7496585032365854, 2.116710093507317, 2.3259498932195117, 2.6501162449756097, 2.815174001146341, 3.1061246826585367, 3.1672631652926833, 3.3183405536585364, 3.3779601322926833, 3.626685885609757, 3.7106831232439017, 3.941188898878049, 4.098209924, 4.278667554097561, 4.3859624529268295, 4.558187054439024, 4.658551364707316, 4.784512266634146, 4.818332414463415, 4.93314855695122, 4.993491971268293, 5.14256115997561, 5.206836668682927, 5.326763102634146, 5.386678891731708, 5.507564924512195, 5.573839193609756, 5.710709397243902, 5.782868290707317, 5.9542223275609745, 6.043915887170732, 6.220195851731707, 6.320016508097561, 6.482176027146343, 6.5668716809268295, 6.7575828264878055, 6.855166095707316, 7.010057193780487, 7.092063067487805, 7.166973549292682, 7.279605795804878, 7.4224237483170725, 7.526541924609755, 7.648051243292683, 7.67833859812195, 7.778910714268293, 7.7830465059024405, 7.809937287146343, 7.8396885320243905, 7.910331801463414, 7.869200753170732, 7.782243692731707, 7.795227305414634, 7.762684192, 7.811289105512196, 7.793074531268292, 7.811865494414635, 7.7733174907560985, 7.755714299634147, 7.766417532146341, 7.766085277878048, 7.698563701609756, 7.636238418902439, 7.5298850588048785, 7.4136057262195125, 7.120068634000001, 6.9924089641463425, 6.785253344599999, 6.748179896243903, 6.67183994095122, 6.536096533024391, 6.499012505634147, 6.357140869804878, 6.2891354447317065, 6.17320574604878, 6.1281275513658535, 6.049364576073171, 6.028217480487805, 6.025597568707317, 6.039984543195122, 6.020568350682927, 6.033551058682928, 6.0711447137804875, 6.171906459902438, 6.203415085560977, 6.196803008634147, 6.191224441560976, 6.214701054804879, 6.158691095390244, 6.037864992439023, 5.773004648658537, 4.683241464707319, 4.0424156879268285, 2.6766968200243904, 2.035749051707317, 0.9640579566707318, 0.3602800626426829], \"yaxis\": \"y2\"}, {\"line\": {\"dash\": \"dashdot\", \"width\": 5}, \"marker\": {\"color\": \"blue\", \"line\": {\"color\": \"blue\"}, \"size\": 7, \"symbol\": \"circle\"}, \"mode\": \"lines\", \"name\": \"KW-SST-ASCII\", \"showlegend\": false, \"type\": \"scatter\", \"x\": [0.004018580273522146, 0.004056512552654007, 0.0040962888218092856, 0.00415386775575994, 0.004197246988099546, 0.004274593764647528, 0.004326620294697583, 0.0043297926358630496, 0.004383763256234732, 0.0045151954534969, 0.004861359102557256, 0.005214912476993053, 0.005568465991471341, 0.005922019440047281, 0.006275572888623232, 0.006629126304247997, 0.0069826796704813435, 0.007336233053084247, 0.007689786402912792, 0.008043339768969442, 0.008396893151713805, 0.00875044656730328, 0.00910399996648785, 0.009457553349020074, 0.00981110674820464, 0.010164660114473405, 0.010518213497182415, 0.010871766846975595, 0.011225320509486752, 0.011578873629010666, 0.01210920380176863, 0.012462757250344576, 0.012816310501178213, 0.01316986411440402, 0.013523417266631588, 0.013876970912631835, 0.014230523968551406, 0.01458407764587654, 0.01493763082999454, 0.015291184345392244, 0.0156447376921448, 0.015998291143902856, 0.016351844461310532, 0.01670539787559188, 0.017058951256992774, 0.017412504673041847, 0.017766058089798115, 0.01811961143761136, 0.0184731648554283, 0.018826718237182672, 0.019180271618230046, 0.019533825003166427, 0.0198873784181549, 0.02024093176844307, 0.020594485216665532, 0.0209480385330126, 0.021301592015176167, 0.02165514523288186, 0.022008698847274404, 0.02236225209715345, 0.022715805150456715, 0.023069358137292068, 0.0234229121798378, 0.02377646549724549, 0.02413001854807395, 0.02448357186724946, 0.024837125907673858, 0.02519067895956294, 0.025544232081809247, 0.02589778566120001, 0.02625133937317329, 0.02659080391924516, 0.02680600822932768, 0.02684491359020378, 0.027042866804236204, 0.027208011324281745, 0.027411656988319037, 0.02761530266649845, 0.02781895097511509, 0.02802259663915237, 0.028226242303189663, 0.028429890611806306, 0.028633538920422943, 0.028837184584460232, 0.02904083024849751, 0.02924447855711416, 0.029448124221151437, 0.02962996944371348, 0.02973804976769476, 0.029844678656012712, 0.029902224915053975, 0.029942214363256617, 0.029969999671675008, 0.029992959174301687], \"xaxis\": \"x2\", \"y\": [1.46730554395, 1.4605388824, 1.44097757405, 1.41352403775, 1.407093654, 1.4117583286000002, 1.4187459516, 1.3860410063, 1.4276333072, 1.4365063846000001, 1.43297013395, 1.3469807880000002, 1.240312941395, 1.13000630131, 1.0460386372750001, 1.02060584122, 1.07037251236, 1.18080763985, 1.24144596875, 1.169986208755, 1.240812017965, 1.6922264336, 2.2567228901500003, 2.7182599841500004, 3.0358385527499996, 3.2388487433499997, 3.4071007008, 3.55513908075, 3.71375283995, 3.8920479364999996, 4.1422236703, 4.29347183845, 4.442368314049999, 4.582122185899999, 4.7202346212, 4.85888754395, 4.9973516792, 5.134854992999999, 5.27160558285, 5.40844992405, 5.546230013350001, 5.68628546375, 5.8305372993, 5.978785058450001, 6.1300361069000004, 6.2851242013999995, 6.44338735985, 6.6031361009500005, 6.765209329799999, 6.93045301225, 7.098108684700001, 7.26646833165, 7.43155584055, 7.585451084450001, 7.7190796241, 7.824830174550001, 7.8958037450999985, 7.936364009, 7.950820316149999, 7.934199041449999, 7.899320705449999, 7.87239508765, 7.8417077435500016, 7.8111045458, 7.8046764838, 7.8092047803, 7.790113306649999, 7.7426286975, 7.674867464649999, 7.576419639700002, 7.407951622150001, 7.1687728388, 6.9676632338000015, 6.879521771399999, 6.76173855865, 6.5871777675, 6.41101990065, 6.248463922899999, 6.12095261575, 6.04314533275, 6.0168372208, 6.0327180707000005, 6.07618655975, 6.1304877275, 6.177693742050001, 6.19701120835, 6.137325090449999, 5.904144930349999, 5.7568120926, 5.22330329855, 4.443505745, 3.2809770702500005, 1.8830973455000002, 0.4612897506925], \"yaxis\": \"y2\"}, {\"marker\": {\"color\": \"black\", \"line\": {\"color\": \"black\", \"width\": 5}, \"size\": 7, \"symbol\": \"circle\"}, \"mode\": \"markers+lines\", \"name\": \"Experimental\", \"showlegend\": false, \"type\": \"scatter\", \"x\": [0.010606602, 0.011030866, 0.01145513, 0.011879394, 0.012303658, 0.012727922, 0.013152186000000001, 0.01357645, 0.014000714, 0.014424978, 0.014849242, 0.015273506000000001, 0.015697771, 0.016122035, 0.016546299, 0.016970563, 0.017394826999999998, 0.017819091000000002, 0.018243355, 0.018667619, 0.019091883, 0.019516147, 0.019940411, 0.020364675, 0.020788939, 0.021213202999999996, 0.021637467999999997, 0.022061732, 0.022485996, 0.02291026, 0.023334524, 0.023758788, 0.024183052000000003, 0.024607316, 0.02503158, 0.025455844, 0.025880108, 0.026304372000000003, 0.026728636, 0.0271529, 0.027577163999999998, 0.028001428999999998, 0.028425693, 0.028849957000000002, 0.029274221, 0.029698485, 0.030122749], \"xaxis\": \"x2\", \"y\": [2.388529604, 2.782821263, 3.0487308810000004, 3.300982443, 3.5220561000000004, 3.751692116, 4.034038335, 4.36277436, 4.670491803, 4.891481048999999, 5.127681626, 5.296215065, 5.445017601, 5.571099212999999, 5.685633719, 5.820896966, 5.940701689, 6.059609815, 6.165522533, 6.272161983999999, 6.398504795, 6.5297465820000005, 6.663091559, 6.803802676, 6.942890342, 7.090152623, 7.240952375, 7.397010836000001, 7.539178199, 7.633240036, 7.715486218, 7.76341337, 7.76445379, 7.714246068, 7.5441227070000005, 7.320170107, 7.049112857999999, 6.7161550320000005, 6.353321145, 6.218657845, 6.1793274910000004, 6.242483332999999, 6.310694927, 6.34820787, 6.432506486, 5.761625565, 0.0], \"yaxis\": \"y2\"}],\n                        {\"font\": {\"family\": \"Arial\", \"size\": 32}, \"height\": 500, \"legend\": {\"itemsizing\": \"constant\"}, \"template\": {\"data\": {\"bar\": [{\"error_x\": {\"color\": \"#2a3f5f\"}, \"error_y\": {\"color\": \"#2a3f5f\"}, \"marker\": {\"line\": {\"color\": \"#E5ECF6\", \"width\": 0.5}}, \"type\": \"bar\"}], \"barpolar\": [{\"marker\": {\"line\": {\"color\": \"#E5ECF6\", \"width\": 0.5}}, \"type\": \"barpolar\"}], \"carpet\": [{\"aaxis\": {\"endlinecolor\": \"#2a3f5f\", \"gridcolor\": \"white\", \"linecolor\": \"white\", \"minorgridcolor\": \"white\", \"startlinecolor\": \"#2a3f5f\"}, \"baxis\": {\"endlinecolor\": \"#2a3f5f\", \"gridcolor\": \"white\", \"linecolor\": \"white\", \"minorgridcolor\": \"white\", \"startlinecolor\": \"#2a3f5f\"}, \"type\": \"carpet\"}], \"choropleth\": [{\"colorbar\": {\"outlinewidth\": 0, \"ticks\": \"\"}, \"type\": \"choropleth\"}], \"contour\": [{\"colorbar\": {\"outlinewidth\": 0, \"ticks\": \"\"}, \"colorscale\": [[0.0, \"#0d0887\"], [0.1111111111111111, \"#46039f\"], [0.2222222222222222, \"#7201a8\"], [0.3333333333333333, \"#9c179e\"], [0.4444444444444444, \"#bd3786\"], [0.5555555555555556, \"#d8576b\"], [0.6666666666666666, \"#ed7953\"], [0.7777777777777778, \"#fb9f3a\"], [0.8888888888888888, \"#fdca26\"], [1.0, \"#f0f921\"]], \"type\": \"contour\"}], \"contourcarpet\": [{\"colorbar\": {\"outlinewidth\": 0, \"ticks\": \"\"}, \"type\": \"contourcarpet\"}], \"heatmap\": [{\"colorbar\": {\"outlinewidth\": 0, \"ticks\": \"\"}, \"colorscale\": [[0.0, \"#0d0887\"], [0.1111111111111111, \"#46039f\"], [0.2222222222222222, \"#7201a8\"], [0.3333333333333333, \"#9c179e\"], [0.4444444444444444, \"#bd3786\"], [0.5555555555555556, \"#d8576b\"], [0.6666666666666666, \"#ed7953\"], [0.7777777777777778, \"#fb9f3a\"], [0.8888888888888888, \"#fdca26\"], [1.0, \"#f0f921\"]], \"type\": \"heatmap\"}], \"heatmapgl\": [{\"colorbar\": {\"outlinewidth\": 0, \"ticks\": \"\"}, \"colorscale\": [[0.0, \"#0d0887\"], [0.1111111111111111, \"#46039f\"], [0.2222222222222222, \"#7201a8\"], [0.3333333333333333, \"#9c179e\"], [0.4444444444444444, \"#bd3786\"], [0.5555555555555556, \"#d8576b\"], [0.6666666666666666, \"#ed7953\"], [0.7777777777777778, \"#fb9f3a\"], [0.8888888888888888, \"#fdca26\"], [1.0, \"#f0f921\"]], \"type\": \"heatmapgl\"}], \"histogram\": [{\"marker\": {\"colorbar\": {\"outlinewidth\": 0, \"ticks\": \"\"}}, \"type\": \"histogram\"}], \"histogram2d\": [{\"colorbar\": {\"outlinewidth\": 0, \"ticks\": \"\"}, \"colorscale\": [[0.0, \"#0d0887\"], [0.1111111111111111, \"#46039f\"], [0.2222222222222222, \"#7201a8\"], [0.3333333333333333, \"#9c179e\"], [0.4444444444444444, \"#bd3786\"], [0.5555555555555556, \"#d8576b\"], [0.6666666666666666, \"#ed7953\"], [0.7777777777777778, \"#fb9f3a\"], [0.8888888888888888, \"#fdca26\"], [1.0, \"#f0f921\"]], \"type\": \"histogram2d\"}], \"histogram2dcontour\": [{\"colorbar\": {\"outlinewidth\": 0, \"ticks\": \"\"}, \"colorscale\": [[0.0, \"#0d0887\"], [0.1111111111111111, \"#46039f\"], [0.2222222222222222, \"#7201a8\"], [0.3333333333333333, \"#9c179e\"], [0.4444444444444444, \"#bd3786\"], [0.5555555555555556, \"#d8576b\"], [0.6666666666666666, \"#ed7953\"], [0.7777777777777778, \"#fb9f3a\"], [0.8888888888888888, \"#fdca26\"], [1.0, \"#f0f921\"]], \"type\": \"histogram2dcontour\"}], \"mesh3d\": [{\"colorbar\": {\"outlinewidth\": 0, \"ticks\": \"\"}, \"type\": \"mesh3d\"}], \"parcoords\": [{\"line\": {\"colorbar\": {\"outlinewidth\": 0, \"ticks\": \"\"}}, \"type\": \"parcoords\"}], \"pie\": [{\"automargin\": true, \"type\": \"pie\"}], \"scatter\": [{\"marker\": {\"colorbar\": {\"outlinewidth\": 0, \"ticks\": \"\"}}, \"type\": \"scatter\"}], \"scatter3d\": [{\"line\": {\"colorbar\": {\"outlinewidth\": 0, \"ticks\": \"\"}}, \"marker\": {\"colorbar\": {\"outlinewidth\": 0, \"ticks\": \"\"}}, \"type\": \"scatter3d\"}], \"scattercarpet\": [{\"marker\": {\"colorbar\": {\"outlinewidth\": 0, \"ticks\": \"\"}}, \"type\": \"scattercarpet\"}], \"scattergeo\": [{\"marker\": {\"colorbar\": {\"outlinewidth\": 0, \"ticks\": \"\"}}, \"type\": \"scattergeo\"}], \"scattergl\": [{\"marker\": {\"colorbar\": {\"outlinewidth\": 0, \"ticks\": \"\"}}, \"type\": \"scattergl\"}], \"scattermapbox\": [{\"marker\": {\"colorbar\": {\"outlinewidth\": 0, \"ticks\": \"\"}}, \"type\": \"scattermapbox\"}], \"scatterpolar\": [{\"marker\": {\"colorbar\": {\"outlinewidth\": 0, \"ticks\": \"\"}}, \"type\": \"scatterpolar\"}], \"scatterpolargl\": [{\"marker\": {\"colorbar\": {\"outlinewidth\": 0, \"ticks\": \"\"}}, \"type\": \"scatterpolargl\"}], \"scatterternary\": [{\"marker\": {\"colorbar\": {\"outlinewidth\": 0, \"ticks\": \"\"}}, \"type\": \"scatterternary\"}], \"surface\": [{\"colorbar\": {\"outlinewidth\": 0, \"ticks\": \"\"}, \"colorscale\": [[0.0, \"#0d0887\"], [0.1111111111111111, \"#46039f\"], [0.2222222222222222, \"#7201a8\"], [0.3333333333333333, \"#9c179e\"], [0.4444444444444444, \"#bd3786\"], [0.5555555555555556, \"#d8576b\"], [0.6666666666666666, \"#ed7953\"], [0.7777777777777778, \"#fb9f3a\"], [0.8888888888888888, \"#fdca26\"], [1.0, \"#f0f921\"]], \"type\": \"surface\"}], \"table\": [{\"cells\": {\"fill\": {\"color\": \"#EBF0F8\"}, \"line\": {\"color\": \"white\"}}, \"header\": {\"fill\": {\"color\": \"#C8D4E3\"}, \"line\": {\"color\": \"white\"}}, \"type\": \"table\"}]}, \"layout\": {\"annotationdefaults\": {\"arrowcolor\": \"#2a3f5f\", \"arrowhead\": 0, \"arrowwidth\": 1}, \"coloraxis\": {\"colorbar\": {\"outlinewidth\": 0, \"ticks\": \"\"}}, \"colorscale\": {\"diverging\": [[0, \"#8e0152\"], [0.1, \"#c51b7d\"], [0.2, \"#de77ae\"], [0.3, \"#f1b6da\"], [0.4, \"#fde0ef\"], [0.5, \"#f7f7f7\"], [0.6, \"#e6f5d0\"], [0.7, \"#b8e186\"], [0.8, \"#7fbc41\"], [0.9, \"#4d9221\"], [1, \"#276419\"]], \"sequential\": [[0.0, \"#0d0887\"], [0.1111111111111111, \"#46039f\"], [0.2222222222222222, \"#7201a8\"], [0.3333333333333333, \"#9c179e\"], [0.4444444444444444, \"#bd3786\"], [0.5555555555555556, \"#d8576b\"], [0.6666666666666666, \"#ed7953\"], [0.7777777777777778, \"#fb9f3a\"], [0.8888888888888888, \"#fdca26\"], [1.0, \"#f0f921\"]], \"sequentialminus\": [[0.0, \"#0d0887\"], [0.1111111111111111, \"#46039f\"], [0.2222222222222222, \"#7201a8\"], [0.3333333333333333, \"#9c179e\"], [0.4444444444444444, \"#bd3786\"], [0.5555555555555556, \"#d8576b\"], [0.6666666666666666, \"#ed7953\"], [0.7777777777777778, \"#fb9f3a\"], [0.8888888888888888, \"#fdca26\"], [1.0, \"#f0f921\"]]}, \"colorway\": [\"#636efa\", \"#EF553B\", \"#00cc96\", \"#ab63fa\", \"#FFA15A\", \"#19d3f3\", \"#FF6692\", \"#B6E880\", \"#FF97FF\", \"#FECB52\"], \"font\": {\"color\": \"#2a3f5f\"}, \"geo\": {\"bgcolor\": \"white\", \"lakecolor\": \"white\", \"landcolor\": \"#E5ECF6\", \"showlakes\": true, \"showland\": true, \"subunitcolor\": \"white\"}, \"hoverlabel\": {\"align\": \"left\"}, \"hovermode\": \"closest\", \"mapbox\": {\"style\": \"light\"}, \"paper_bgcolor\": \"white\", \"plot_bgcolor\": \"#E5ECF6\", \"polar\": {\"angularaxis\": {\"gridcolor\": \"white\", \"linecolor\": \"white\", \"ticks\": \"\"}, \"bgcolor\": \"#E5ECF6\", \"radialaxis\": {\"gridcolor\": \"white\", \"linecolor\": \"white\", \"ticks\": \"\"}}, \"scene\": {\"xaxis\": {\"backgroundcolor\": \"#E5ECF6\", \"gridcolor\": \"white\", \"gridwidth\": 2, \"linecolor\": \"white\", \"showbackground\": true, \"ticks\": \"\", \"zerolinecolor\": \"white\"}, \"yaxis\": {\"backgroundcolor\": \"#E5ECF6\", \"gridcolor\": \"white\", \"gridwidth\": 2, \"linecolor\": \"white\", \"showbackground\": true, \"ticks\": \"\", \"zerolinecolor\": \"white\"}, \"zaxis\": {\"backgroundcolor\": \"#E5ECF6\", \"gridcolor\": \"white\", \"gridwidth\": 2, \"linecolor\": \"white\", \"showbackground\": true, \"ticks\": \"\", \"zerolinecolor\": \"white\"}}, \"shapedefaults\": {\"line\": {\"color\": \"#2a3f5f\"}}, \"ternary\": {\"aaxis\": {\"gridcolor\": \"white\", \"linecolor\": \"white\", \"ticks\": \"\"}, \"baxis\": {\"gridcolor\": \"white\", \"linecolor\": \"white\", \"ticks\": \"\"}, \"bgcolor\": \"#E5ECF6\", \"caxis\": {\"gridcolor\": \"white\", \"linecolor\": \"white\", \"ticks\": \"\"}}, \"title\": {\"x\": 0.05}, \"xaxis\": {\"automargin\": true, \"gridcolor\": \"white\", \"linecolor\": \"white\", \"ticks\": \"\", \"title\": {\"standoff\": 15}, \"zerolinecolor\": \"white\", \"zerolinewidth\": 2}, \"yaxis\": {\"automargin\": true, \"gridcolor\": \"white\", \"linecolor\": \"white\", \"ticks\": \"\", \"title\": {\"standoff\": 15}, \"zerolinecolor\": \"white\", \"zerolinewidth\": 2}}}, \"title\": {\"text\": \"Velocity Magnitude vs Experimental\"}, \"width\": 1605, \"xaxis\": {\"anchor\": \"y\", \"domain\": [0.0, 0.475]}, \"xaxis2\": {\"anchor\": \"y2\", \"domain\": [0.525, 1.0]}, \"yaxis\": {\"anchor\": \"x\", \"domain\": [0.0, 1.0]}, \"yaxis2\": {\"anchor\": \"x2\", \"domain\": [0.0, 1.0], \"matches\": \"y\", \"showticklabels\": false}},\n                        {\"responsive\": true}\n                    ).then(function(){\n                            \nvar gd = document.getElementById('dbf9a768-5ba1-4843-8e15-8d8134e6723a');\nvar x = new MutationObserver(function (mutations, observer) {{\n        var display = window.getComputedStyle(gd).display;\n        if (!display || display === 'none') {{\n            console.log([gd, 'removed!']);\n            Plotly.purge(gd);\n            observer.disconnect();\n        }}\n}});\n\n// Listen for the removal of the full notebook cells\nvar notebookContainer = gd.closest('#notebook-container');\nif (notebookContainer) {{\n    x.observe(notebookContainer, {childList: true});\n}}\n\n// Listen for the clearing of the current output cell\nvar outputEl = gd.closest('.output');\nif (outputEl) {{\n    x.observe(outputEl, {childList: true});\n}}\n\n                        })\n                };\n                });\n            </script>\n        </div>"
     },
     "metadata": {},
     "output_type": "display_data"
    }
   ],
   "source": [
    "\n",
    "fig = make_subplots(\n",
    "    rows=1,\n",
    "    cols=2,\n",
    "    shared_yaxes=True,\n",
    "    # x_title=\"Radius (m)\",\n",
    "    # y_title=\"Velocity Magnitude (m/s)\",\n",
    "    # subplot_titles=(\n",
    "    # \"C5 Quadrant 1\", \"C1 Quadrant 2\"),\n",
    "    vertical_spacing=.07, horizontal_spacing=.05)\n",
    "\n",
    "marker_size = 7\n",
    "line_size = 5\n",
    "\n",
    "\n",
    "fig.add_trace(go.Scatter(x=quad_ascii[\"C5_SBES\"]['Q1']['radius_bin_mean'],\n",
    "                         y=quad_ascii[\"C5_SBES\"]['Q1']['velocity-magnitude_bin_mean'],\n",
    "                         mode='lines',\n",
    "                         name='SBES-ASCII',\n",
    "                         marker=dict(\n",
    "                             color='red',\n",
    "                             size=marker_size,\n",
    "                             line=dict(color='red'),\n",
    "                             symbol='triangle-right'),\n",
    "                         line=dict(dash='dash',\n",
    "                                   width=line_size),\n",
    "                         showlegend=False\n",
    "                         ),\n",
    "              row=1, col=1)\n",
    "\n",
    "fig.add_trace(go.Scatter(x=quad_ascii[\"C5_IDDES\"]['Q1']['radius_bin_mean'],\n",
    "                         y=quad_ascii[\"C5_IDDES\"]['Q1']['velocity-magnitude_bin_mean'],\n",
    "                         mode='lines',\n",
    "                         name='IDDES-ASCII',\n",
    "                         marker=dict(\n",
    "                             color='green',\n",
    "                             size=marker_size,\n",
    "                             line=dict(color='green'),\n",
    "                             symbol='x'),\n",
    "                         line=dict(dash='dot',\n",
    "                                   width=line_size),\n",
    "                         showlegend=False\n",
    "                         ),\n",
    "              row=1, col=1)\n",
    "\n",
    "fig.add_trace(go.Scatter(x=quad_ascii[\"C5_KW\"]['Q1']['radius_bin_mean'],\n",
    "                         y=quad_ascii[\"C5_KW\"]['Q1']['velocity-magnitude_bin_mean'],\n",
    "                         mode='lines',\n",
    "                         name='KW-SST-ASCII',\n",
    "                         marker=dict(\n",
    "                             color='blue',\n",
    "                             size=marker_size,\n",
    "                             line=dict(color='blue'),\n",
    "                             symbol='circle'),\n",
    "                         showlegend=False,\n",
    "                         line=dict(dash='dashdot',\n",
    "                                   width=line_size),\n",
    "                         ),\n",
    "              row=1, col=1)\n",
    "\n",
    "fig.add_trace(go.Scatter(x=C5_Experimental[\"Q1\"]['radius'],\n",
    "                         y=C5_Experimental[\"Q1\"]['Velocity_Magnitude'],\n",
    "                         mode='markers+lines',\n",
    "                         name='Experimental-Mean',\n",
    "                         marker=dict(\n",
    "                             color='black',\n",
    "                             size=marker_size,\n",
    "                             line=dict(color='black',\n",
    "                                       width=line_size),\n",
    "                             symbol='circle'),\n",
    "                         showlegend=False\n",
    "                         ),\n",
    "              row=1, col=1)\n",
    "\n",
    "\n",
    "\n",
    "fig.add_trace(go.Scatter(x=quad_ascii[\"C5_SBES\"]['Q2']['radius_bin_mean'],\n",
    "                         y=quad_ascii[\"C5_SBES\"]['Q2']['velocity-magnitude_bin_mean'],\n",
    "                         mode='lines',\n",
    "                         name='SBES-ASCII',\n",
    "                         marker=dict(\n",
    "                             color='red',\n",
    "                             size=marker_size,\n",
    "                             line=dict(color='red'),\n",
    "                             symbol='triangle-right'),\n",
    "                         line=dict(dash='dash',\n",
    "                                   width=line_size),\n",
    "                         showlegend=False\n",
    "                         ),\n",
    "              row=1, col=2)\n",
    "\n",
    "fig.add_trace(go.Scatter(x=quad_ascii[\"C5_IDDES\"]['Q2']['radius_bin_mean'],\n",
    "                         y=quad_ascii[\"C5_IDDES\"]['Q2']['velocity-magnitude_bin_mean'],\n",
    "                         mode='lines',\n",
    "                         name='IDDES-ASCII',\n",
    "                         marker=dict(\n",
    "                             color='green',\n",
    "                             size=marker_size,\n",
    "                             line=dict(color='green'),\n",
    "                             symbol='x'),\n",
    "                         line=dict(dash='dot',\n",
    "                                   width=line_size),\n",
    "                         showlegend=False\n",
    "                         ),\n",
    "              row=1, col=2)\n",
    "\n",
    "fig.add_trace(go.Scatter(x=quad_ascii[\"C5_KW\"]['Q2']['radius_bin_mean'],\n",
    "                         y=quad_ascii[\"C5_KW\"]['Q2']['velocity-magnitude_bin_mean'],\n",
    "                         mode='lines',\n",
    "                         name='KW-SST-ASCII',\n",
    "                         marker=dict(\n",
    "                             color='blue',\n",
    "                             size=marker_size,\n",
    "                             line=dict(color='blue'),\n",
    "                             symbol='circle'),\n",
    "                         line=dict(dash='dashdot',\n",
    "                                   width=line_size),\n",
    "                         showlegend=False\n",
    "                         ),\n",
    "              row=1, col=2)\n",
    "\n",
    "fig.add_trace(go.Scatter(x=C5_Experimental[\"Q2\"]['radius'],\n",
    "                         y=C5_Experimental[\"Q2\"]['Velocity_Magnitude'],\n",
    "                         mode='markers+lines',\n",
    "                         name='Experimental',\n",
    "                         marker=dict(\n",
    "                             color='black',\n",
    "                             size=marker_size,\n",
    "                             line=dict(color='black',\n",
    "                                       width=line_size),\n",
    "                             symbol='circle'),\n",
    "                         showlegend=False),\n",
    "\n",
    "              row=1, col=2)\n",
    "\n",
    "fig.update_layout(height=600, width=1605,\n",
    "                  title_text=\"Velocity Magnitude vs Experimental\",\n",
    "                  font=dict(\n",
    "                      family=\"Arial\",\n",
    "                      size=32),\n",
    "                  )\n",
    "# fig.update_layout(height=600, width=1605,\n",
    "#                   title_text=\"Velocity Magnitude vs Experimental\",\n",
    "#                   font=dict(\n",
    "#                       family=\"Arial\",\n",
    "#                       size=32),\n",
    "#                   )\n",
    "fig.update_annotations(font_size=32)\n",
    "fig.update_layout(legend={'itemsizing': 'constant'})\n",
    "fig.show()\n",
    "\n",
    "fig.write_image(r\"C:\\Users\\Joseph Tarriela\\Documents\\GitHub\\FDA_Blood_Pump\\postpro\\images\\C5-quad.png\")"
   ],
   "metadata": {
    "collapsed": false,
    "pycharm": {
     "name": "#%%\n"
    }
   }
  },
  {
   "cell_type": "code",
   "execution_count": 78,
   "outputs": [
    {
     "data": {
      "application/vnd.plotly.v1+json": {
       "config": {
        "plotlyServerURL": "https://plot.ly"
       },
       "data": [
        {
         "line": {
          "dash": "dash",
          "width": 5
         },
         "marker": {
          "color": "red",
          "line": {
           "color": "red"
          },
          "size": 10,
          "symbol": "triangle-right"
         },
         "mode": "lines",
         "name": "SBES-ASCII",
         "showlegend": false,
         "type": "scatter",
         "x": [
          0.7212319459853658,
          0.7522803329853658,
          0.8045765423512196,
          0.8515061135292683,
          0.8903826360024392,
          0.9694223898317073,
          1.027428268880488,
          1.101752081102439,
          1.1469954883609756,
          1.1620869468658537,
          1.2648871362121952,
          1.398277122326829,
          1.5253468771439025,
          1.6092939932463417,
          1.6798777860975609,
          1.7941684081585365,
          1.9352602218048782,
          2.0656821131219507,
          2.1273053299390243,
          2.184401918321951,
          2.288292819017073,
          2.410682928585366,
          2.4945434746585367,
          2.5494293849024388,
          2.623139150756097,
          2.6640556239512194,
          2.635118984121952,
          2.625032944531707,
          2.644535629295122,
          2.6400134578292684,
          2.5990968313170733,
          2.540006102073171,
          2.470257319,
          2.375369421895122,
          2.271092787204878,
          2.1867594893707314,
          2.0910502438219507,
          2.001880028919512,
          1.9864555935560977,
          1.958991862919512,
          1.848446287295122,
          1.7284688806707316,
          1.6402629303341465,
          1.4983212754682929,
          1.3777881924121953,
          1.2982198843634143,
          1.2200983715609757,
          1.1327427968195118,
          1.0889223586487806,
          1.012970121729268,
          0.9416381682829268,
          0.8994148720243902,
          0.8857585544780489,
          0.7807936431297561,
          0.6835614476390244
         ],
         "xaxis": "x",
         "y": [
          -0.0314563252,
          -0.031335849310000004,
          -0.03119704314,
          -0.0310530439,
          -0.030909042810000006,
          -0.030765043569999997,
          -0.03062104429463415,
          -0.03047704324,
          -0.03033304401,
          -0.03018904291,
          -0.030045043680000005,
          -0.029901042579999995,
          -0.029757043349999998,
          -0.029613044110000007,
          -0.029469043019999995,
          -0.02932504378,
          -0.02918104269,
          -0.02903704345,
          -0.028893044219999997,
          -0.02874904312,
          -0.02860504389,
          -0.028461042789999995,
          -0.02831704356,
          -0.02817304427463415,
          -0.02802904323,
          -0.027885043990000004,
          -0.027741042899999995,
          -0.027597043660000004,
          -0.02745304257,
          -0.02730904333,
          -0.0271650441,
          -0.027021043,
          -0.026877043769999998,
          -0.02673304267,
          -0.02658904344,
          -0.0264450442,
          -0.02630104311,
          -0.02615704387,
          -0.026013042779999995,
          -0.025869043540000004,
          -0.025725042450000003,
          -0.02558104321,
          -0.02543704398,
          -0.02529304288,
          -0.02514904365,
          -0.02500504255,
          -0.02486104332,
          -0.02471704409,
          -0.024573042990000002,
          -0.02442904375,
          -0.02429169975,
          -0.02420346625,
          -0.02412424795,
          -0.024040918799999998,
          -0.02401195839
         ],
         "yaxis": "y"
        },
        {
         "line": {
          "dash": "dot",
          "width": 5
         },
         "marker": {
          "color": "green",
          "line": {
           "color": "green"
          },
          "size": 10,
          "symbol": "x"
         },
         "mode": "lines",
         "name": "IDDES-ASCII",
         "showlegend": false,
         "type": "scatter",
         "x": [
          0.5822123468804878,
          0.6410174513712195,
          0.6874701977219512,
          0.7145088360902441,
          0.7276962348421951,
          0.799727841897561,
          0.8936472540853659,
          0.9840228335390244,
          1.0780493812219514,
          1.1944919609780489,
          1.3212837146268293,
          1.4544743872463417,
          1.5762348803902435,
          1.7058051450707317,
          1.8647839802853656,
          1.988536697009756,
          2.0836049491292683,
          2.163399719112195,
          2.2186611849682927,
          2.2956537772926833,
          2.359625113560976,
          2.408368145048781,
          2.454577766195122,
          2.4906032250487806,
          2.524025449097561,
          2.527577910609756,
          2.501140227102439,
          2.4585619878219513,
          2.445378894780488,
          2.4390606351951223,
          2.4177658860731706,
          2.397070698146341,
          2.3401682821560974,
          2.2565724796268296,
          2.197552152734146,
          2.1309646436048784,
          2.054159371112195,
          1.9676365526170727,
          1.9054946009926832,
          1.8269322434365856,
          1.7224248952756098,
          1.6439415409341462,
          1.5335930368243902,
          1.4471866912439024,
          1.344641469568293,
          1.2683044521634146,
          1.1890991338658536,
          1.1142805011853658,
          1.0376950788195125,
          0.9784830390926831,
          0.9135880769121952,
          0.8397443078097561,
          0.7608797873682926,
          0.6512899204275611,
          0.5898860671239025
         ],
         "xaxis": "x",
         "y": [
          -0.03145632893,
          -0.031335849310000004,
          -0.03119704314,
          -0.0310530439,
          -0.030909042810000006,
          -0.030765043569999997,
          -0.030621042480000003,
          -0.03047704324,
          -0.03033304401,
          -0.03018904291,
          -0.030045043680000005,
          -0.029901042579999995,
          -0.029757043349999998,
          -0.029613044110000007,
          -0.029469043019999995,
          -0.02932504378,
          -0.02918104269,
          -0.02903704345,
          -0.028893044219999997,
          -0.02874904312,
          -0.02860504389,
          -0.028461042789999995,
          -0.02831704356,
          -0.028173042505365856,
          -0.02802904323,
          -0.027885043990000004,
          -0.027741042899999995,
          -0.027597043660000004,
          -0.02745304257,
          -0.02730904333,
          -0.0271650441,
          -0.027021043,
          -0.026877043769999998,
          -0.02673304267,
          -0.02658904344,
          -0.0264450442,
          -0.02630104311,
          -0.02615704387,
          -0.026013042779999995,
          -0.025869043540000004,
          -0.025725042450000003,
          -0.02558104321,
          -0.02543704398,
          -0.02529304288,
          -0.02514904365,
          -0.02500504255,
          -0.02486104332,
          -0.02471704409,
          -0.024573042990000002,
          -0.02442904375,
          -0.02429169975,
          -0.02420346625,
          -0.024124249774390243,
          -0.024040918799999998,
          -0.02401195839
         ],
         "yaxis": "y"
        },
        {
         "line": {
          "dash": "dashdot",
          "width": 5
         },
         "marker": {
          "color": "blue",
          "line": {
           "color": "blue"
          },
          "size": 10,
          "symbol": "circle"
         },
         "mode": "lines",
         "name": "KW-SST-ASCII",
         "showlegend": false,
         "type": "scatter",
         "x": [
          0.510313136625,
          0.59166301018,
          0.61709639193,
          0.615835336785,
          0.601583173345,
          0.5768595736100001,
          0.540703318585,
          0.49150679041999995,
          0.4281049927,
          0.35139183946,
          0.2700236307955,
          0.236398420395,
          0.286920691915,
          0.40376434725500004,
          0.5744216618,
          0.7882836720049999,
          1.026666365205,
          1.273616868325,
          1.519241873355,
          1.75820289704,
          1.9880912494,
          2.2106066459,
          2.4259137872500003,
          2.6300287708,
          2.8165063989999997,
          2.9776907281000002,
          3.1063420467,
          3.1964739618,
          3.2505360532,
          3.2779057646,
          3.28785541,
          3.2871526901999997,
          3.2789408483499995,
          3.2652577659000004,
          3.24768343295,
          3.2272541882,
          3.20449406615,
          3.1794060696499997,
          3.15152092445,
          3.11959457465,
          3.08085705,
          3.0301877703500004,
          2.9597980156,
          2.8623263729,
          2.7342484663,
          2.5725365533,
          2.375487197,
          2.1513887827250002,
          1.91903804408,
          1.695323994425,
          1.48490664584,
          1.301395699615,
          1.18342859099,
          1.036280889675,
          0.8970110695800001
         ],
         "xaxis": "x",
         "y": [
          -0.03145632893,
          -0.031335849310000004,
          -0.03119704314,
          -0.0310530439,
          -0.030909042810000006,
          -0.030765043569999997,
          -0.030621042480000003,
          -0.030477043239999994,
          -0.03033304401,
          -0.03018904291,
          -0.03004504368,
          -0.02990104258,
          -0.029757043349999998,
          -0.02961304411,
          -0.029469043019999995,
          -0.02932504378,
          -0.02918104269,
          -0.02903704345,
          -0.028893044220000007,
          -0.028749043119999998,
          -0.028605043890000008,
          -0.028461042789999995,
          -0.02831704356,
          -0.028173042460000002,
          -0.02802904323,
          -0.027885043990000004,
          -0.0277410429,
          -0.02759704366,
          -0.02745304257,
          -0.02730904333,
          -0.0271650441,
          -0.027021042999999998,
          -0.026877043770000004,
          -0.02673304267,
          -0.02658904344,
          -0.0264450442,
          -0.02630104311,
          -0.02615704387,
          -0.02601304278,
          -0.025869043540000004,
          -0.025725042450000003,
          -0.02558104321,
          -0.02543704398,
          -0.02529304288,
          -0.02514904365,
          -0.02500504255,
          -0.024861043319999998,
          -0.02471704409,
          -0.024573042990000002,
          -0.02442904375,
          -0.02429169975,
          -0.02420346625,
          -0.02412424982,
          -0.024040918799999998,
          -0.02401195839
         ],
         "yaxis": "y"
        },
        {
         "marker": {
          "color": "black",
          "line": {
           "color": "black"
          },
          "size": 10,
          "symbol": "circle"
         },
         "mode": "markers+lines",
         "name": "Experimental",
         "showlegend": false,
         "type": "scatter",
         "x": [
          0.662238358,
          0.777926654,
          0.9232866590000001,
          1.064801684,
          1.186931414,
          1.305617352,
          1.426232776,
          1.5429785440000001,
          1.664814084,
          1.790096687,
          1.911657269,
          2.025567279,
          2.131113923,
          2.2399388119999997,
          2.304341859,
          2.367472336,
          2.41247491,
          2.449740415,
          2.475972865,
          2.487820954,
          2.4845389730000003,
          2.469554551,
          2.437850952,
          2.397077911,
          2.3415351269999998,
          2.267521881,
          2.187585689,
          2.095973657,
          1.9770237080000002,
          1.8585783280000001,
          1.728467952,
          1.5884200069999999,
          1.443802623,
          1.297774311,
          1.140590707,
          0.994971345,
          0.846214737,
          0.698943933,
          0.5725298360000001,
          0.444839969,
          0.333078595,
          0.229246124,
          0.158926649,
          0.10651698,
          0.101970425,
          0.142524423,
          0.179258759,
          0.19728495699999998,
          0.198498612,
          0.18924325,
          0.156990309
         ],
         "xaxis": "x",
         "y": [
          -0.02401,
          -0.02416,
          -0.02431,
          -0.02446,
          -0.02461,
          -0.02476,
          -0.024909999999999998,
          -0.02506,
          -0.02521,
          -0.02536,
          -0.025509999999999998,
          -0.025660000000000002,
          -0.025810000000000003,
          -0.025960000000000004,
          -0.02611,
          -0.026260000000000002,
          -0.026410000000000003,
          -0.026560000000000004,
          -0.02671,
          -0.026860000000000002,
          -0.027010000000000003,
          -0.027160000000000004,
          -0.02731,
          -0.027460000000000002,
          -0.027610000000000003,
          -0.027760000000000003,
          -0.02791,
          -0.02806,
          -0.028210000000000002,
          -0.028360000000000003,
          -0.02851,
          -0.02866,
          -0.028810000000000002,
          -0.028960000000000003,
          -0.029110000000000004,
          -0.02926,
          -0.029410000000000002,
          -0.029560000000000003,
          -0.029710000000000004,
          -0.02986,
          -0.030010000000000002,
          -0.030160000000000003,
          -0.030310000000000004,
          -0.03046,
          -0.030610000000000002,
          -0.030760000000000003,
          -0.030910000000000003,
          -0.03106,
          -0.03121,
          -0.03136,
          -0.03151
         ],
         "yaxis": "y"
        },
        {
         "line": {
          "dash": "dash",
          "width": 5
         },
         "marker": {
          "color": "red",
          "line": {
           "color": "red"
          },
          "size": 10,
          "symbol": "triangle-right"
         },
         "mode": "lines",
         "name": "SBES-ASCII",
         "showlegend": false,
         "type": "scatter",
         "x": [
          1.3542237585756096,
          1.4573413369560977,
          1.5516645714487804,
          1.6591699728585363,
          1.893619537268293,
          2.1953376399,
          2.459593777192683,
          2.6529750417170734,
          2.9306080079121952,
          3.2760313272682917,
          3.630826085253658,
          3.9688598691951222,
          4.182038889512195,
          4.366931880317074,
          4.629290139682927,
          4.906635765878049,
          5.004017254317073,
          5.154846099365853,
          5.322656362390244,
          5.422602985317073,
          5.530857251292684,
          5.5733973004146335,
          5.618360602999999,
          5.677641074414634,
          5.711068598097562,
          5.7353691751707325,
          5.769324768463415,
          5.802761379024391,
          5.782545652682928,
          5.802842286121953,
          5.840555302780488,
          5.789859031097561,
          5.6468614750000015,
          5.5176458177560965,
          5.411263558,
          5.276202126536585,
          5.135937078463415,
          5.000701864926829,
          4.631309747048782,
          4.223469295512195,
          3.920586338560976,
          3.6516523160170733,
          3.399148991056097,
          3.0837483277439026,
          2.8602078872195125,
          2.614062169980488,
          2.398291222619513,
          2.261914445307317,
          2.220389838714634,
          2.2245832876487803,
          2.1434279628390245,
          2.027962414217073,
          2.004079554085366,
          1.8181586836121952,
          1.6386184778146342
         ],
         "xaxis": "x2",
         "y": [
          -0.031456326291707325,
          -0.031335849310000004,
          -0.03119704314,
          -0.0310530439,
          -0.030909042810000006,
          -0.030765043569999997,
          -0.03062104293365853,
          -0.03047704324,
          -0.03033304401,
          -0.03018904291,
          -0.030045043680000005,
          -0.029901042579999995,
          -0.029757043349999998,
          -0.029613044110000007,
          -0.029469043019999995,
          -0.02932504378,
          -0.02918104269,
          -0.02903704345,
          -0.028893044219999997,
          -0.02874904312,
          -0.02860504389,
          -0.028461042789999995,
          -0.02831704356,
          -0.028173042777560976,
          -0.02802904323,
          -0.027885043990000004,
          -0.027741042899999995,
          -0.027597043660000004,
          -0.02745304257,
          -0.02730904333,
          -0.0271650441,
          -0.027021043,
          -0.026877043769999998,
          -0.02673304267,
          -0.02658904344,
          -0.0264450442,
          -0.02630104311,
          -0.02615704387,
          -0.026013042779999995,
          -0.025869043540000004,
          -0.025725042586097563,
          -0.02558104321,
          -0.02543704398,
          -0.02529304288,
          -0.02514904365,
          -0.02500504255,
          -0.02486104332,
          -0.02471704409,
          -0.024573042990000002,
          -0.02442904375,
          -0.02429169975,
          -0.02420346625,
          -0.0241242486797561,
          -0.024040918799999998,
          -0.02401195839
         ],
         "yaxis": "y2"
        },
        {
         "line": {
          "dash": "dot",
          "width": 5
         },
         "marker": {
          "color": "green",
          "line": {
           "color": "green"
          },
          "size": 10,
          "symbol": "x"
         },
         "mode": "lines",
         "name": "IDDES-ASCII",
         "showlegend": false,
         "type": "scatter",
         "x": [
          1.7480679233365852,
          1.9003924400048784,
          1.958224634690244,
          2.1903593081439023,
          2.5404658351512195,
          2.8326327270780487,
          2.9114432133658537,
          2.998683274690244,
          3.180561275831708,
          3.392522119478049,
          3.4799058054658536,
          3.66716160577561,
          3.7942609007317074,
          3.9631235114731695,
          4.1284693140560975,
          4.355053013780489,
          4.557558380829269,
          4.716628616170731,
          4.882597906585366,
          4.974049102975608,
          5.059108274682926,
          5.13864099804878,
          5.2035159694414626,
          5.255291185634146,
          5.331949231414634,
          5.497557649512196,
          5.671868188585366,
          5.7422553128536595,
          5.737265844585366,
          5.715025232170732,
          5.659237808731708,
          5.556695151390244,
          5.453586768707316,
          5.324797087390244,
          5.177818990243902,
          5.007059390756098,
          4.726967677919512,
          4.4534861700682935,
          4.037925386892683,
          3.591117394268293,
          3.2136704025853664,
          2.9920463192926827,
          2.8286781077097567,
          2.720719647014634,
          2.449298708392683,
          2.239971104980488,
          2.1372328425780487,
          2.03369781157561,
          1.9111215814073168,
          1.6308903704999995,
          1.6092252861048781,
          1.5827670830170733,
          1.4740844100853658,
          1.401193473392683,
          1.3285980123609755
         ],
         "xaxis": "x2",
         "y": [
          -0.03145632893,
          -0.031335849310000004,
          -0.03119704314,
          -0.0310530439,
          -0.030909042810000006,
          -0.030765043569999997,
          -0.030621042480000003,
          -0.03047704324,
          -0.03033304401,
          -0.03018904291,
          -0.030045043680000005,
          -0.029901042579999995,
          -0.029757043349999998,
          -0.029613044110000007,
          -0.029469043019999995,
          -0.02932504378,
          -0.02918104269,
          -0.02903704345,
          -0.028893044219999997,
          -0.02874904312,
          -0.02860504389,
          -0.028461042789999995,
          -0.02831704356,
          -0.028173042459999995,
          -0.02802904323,
          -0.027885043990000004,
          -0.027741042899999995,
          -0.027597043660000004,
          -0.02745304257,
          -0.02730904333,
          -0.0271650441,
          -0.027021043,
          -0.026877043769999998,
          -0.02673304267,
          -0.02658904344,
          -0.0264450442,
          -0.02630104311,
          -0.02615704387,
          -0.026013042779999995,
          -0.025869043540000004,
          -0.025725042450000003,
          -0.02558104321,
          -0.02543704398,
          -0.02529304288,
          -0.02514904365,
          -0.02500504255,
          -0.02486104332,
          -0.02471704409,
          -0.024573042990000002,
          -0.02442904375,
          -0.02429169975,
          -0.02420346625,
          -0.024124249774390243,
          -0.024040918799999998,
          -0.02401195839
         ],
         "yaxis": "y2"
        },
        {
         "line": {
          "dash": "dashdot",
          "width": 5
         },
         "marker": {
          "color": "blue",
          "line": {
           "color": "blue"
          },
          "size": 10,
          "symbol": "circle"
         },
         "mode": "lines",
         "name": "KW-SST-ASCII",
         "showlegend": false,
         "type": "scatter",
         "x": [
          0.5688766780100001,
          0.71382542415,
          0.8606864252449999,
          1.050639610825,
          1.2962586040700002,
          1.6208940983000002,
          2.0436031512,
          2.5581804845500002,
          3.1221319229000004,
          3.6757243044,
          4.17683390515,
          4.6134984788,
          4.97594718305,
          5.2513337365499995,
          5.4448875152500005,
          5.574529405599999,
          5.6579839073,
          5.708339471,
          5.734293312799999,
          5.7415453425,
          5.734142150399999,
          5.7150391555499995,
          5.686454552100001,
          5.65020380095,
          5.6076355308500005,
          5.5588875427,
          5.502558802849999,
          5.4356847812,
          5.3542969117500006,
          5.254145637250001,
          5.13147323225,
          4.9819658762,
          4.7997924884500005,
          4.580155282350001,
          4.3197509635000015,
          4.01888101105,
          3.6826914319,
          3.3162170738,
          2.9203945955,
          2.497551438885,
          2.062865880425,
          1.64311064714,
          1.26775089205,
          0.959125092085,
          0.72780069793,
          0.57450426945,
          0.49266488037,
          0.46528070443,
          0.468728422165,
          0.485929558275,
          0.505544021695,
          0.525732345385,
          0.5399272545699999,
          0.5173882918899999,
          0.4917475127
         ],
         "xaxis": "x2",
         "y": [
          -0.03145632893,
          -0.031335849310000004,
          -0.03119704314,
          -0.0310530439,
          -0.030909042810000006,
          -0.030765043569999997,
          -0.030621042480000003,
          -0.030477043239999994,
          -0.03033304401,
          -0.03018904291,
          -0.03004504368,
          -0.02990104258,
          -0.029757043349999998,
          -0.02961304411,
          -0.029469043019999995,
          -0.02932504378,
          -0.02918104269,
          -0.02903704345,
          -0.028893044220000007,
          -0.028749043119999998,
          -0.028605043890000008,
          -0.028461042789999995,
          -0.02831704356,
          -0.028173042460000002,
          -0.02802904323,
          -0.027885043990000004,
          -0.0277410429,
          -0.02759704366,
          -0.02745304257,
          -0.02730904333,
          -0.0271650441,
          -0.027021042999999998,
          -0.026877043770000004,
          -0.02673304267,
          -0.02658904344,
          -0.0264450442,
          -0.02630104311,
          -0.02615704387,
          -0.02601304278,
          -0.025869043540000004,
          -0.025725042450000003,
          -0.02558104321,
          -0.02543704398,
          -0.02529304288,
          -0.02514904365,
          -0.02500504255,
          -0.024861043319999998,
          -0.02471704409,
          -0.024573042990000002,
          -0.02442904375,
          -0.02429169975,
          -0.02420346625,
          -0.02412424982,
          -0.024040918799999998,
          -0.02401195839
         ],
         "yaxis": "y2"
        },
        {
         "marker": {
          "color": "black",
          "line": {
           "color": "black"
          },
          "size": 10,
          "symbol": "circle"
         },
         "mode": "markers+lines",
         "name": "Experimental",
         "showlegend": false,
         "type": "scatter",
         "x": [
          0.53052,
          0.5423100000000001,
          0.54068,
          0.52653,
          0.50625,
          0.53947,
          0.61387,
          0.6914899999999999,
          0.7943100000000001,
          0.905,
          1.09103,
          1.2746899999999999,
          1.4747299999999999,
          1.6854799999999999,
          1.89868,
          2.15576,
          2.3910299999999998,
          2.65804,
          2.88821,
          3.12508,
          3.3778,
          3.61164,
          3.82251,
          4.02064,
          4.20383,
          4.3649,
          4.49949,
          4.60637,
          4.66247,
          4.72149,
          4.71364,
          4.68845,
          4.61461,
          4.57943,
          4.50087,
          4.39011,
          4.26685,
          4.08652,
          3.9104099999999997,
          3.70051,
          3.480932488,
          3.219334996,
          2.9405598569999998,
          2.671257492,
          2.3899760430000003,
          2.130672852,
          1.8796939069999998,
          1.6295049169999998,
          1.408515499,
          1.255905636,
          1.024761094
         ],
         "xaxis": "x2",
         "y": [
          -0.02401,
          -0.02416,
          -0.02431,
          -0.02446,
          -0.02461,
          -0.02476,
          -0.024909999999999998,
          -0.02506,
          -0.02521,
          -0.02536,
          -0.025509999999999998,
          -0.025660000000000002,
          -0.025810000000000003,
          -0.025960000000000004,
          -0.02611,
          -0.026260000000000002,
          -0.026410000000000003,
          -0.026560000000000004,
          -0.02671,
          -0.026860000000000002,
          -0.027010000000000003,
          -0.027160000000000004,
          -0.02731,
          -0.027460000000000002,
          -0.027610000000000003,
          -0.027760000000000003,
          -0.02791,
          -0.02806,
          -0.028210000000000002,
          -0.028360000000000003,
          -0.02851,
          -0.02866,
          -0.028810000000000002,
          -0.028960000000000003,
          -0.029110000000000004,
          -0.02926,
          -0.029410000000000002,
          -0.029560000000000003,
          -0.029710000000000004,
          -0.02986,
          -0.030010000000000002,
          -0.030160000000000003,
          -0.030310000000000004,
          -0.03046,
          -0.030610000000000002,
          -0.030760000000000003,
          -0.030910000000000003,
          -0.03106,
          -0.03121,
          -0.03136,
          -0.03151
         ],
         "yaxis": "y2"
        }
       ],
       "layout": {
        "font": {
         "family": "Arial",
         "size": 32
        },
        "height": 600,
        "legend": {
         "itemsizing": "constant"
        },
        "template": {
         "data": {
          "bar": [
           {
            "error_x": {
             "color": "#2a3f5f"
            },
            "error_y": {
             "color": "#2a3f5f"
            },
            "marker": {
             "line": {
              "color": "#E5ECF6",
              "width": 0.5
             }
            },
            "type": "bar"
           }
          ],
          "barpolar": [
           {
            "marker": {
             "line": {
              "color": "#E5ECF6",
              "width": 0.5
             }
            },
            "type": "barpolar"
           }
          ],
          "carpet": [
           {
            "aaxis": {
             "endlinecolor": "#2a3f5f",
             "gridcolor": "white",
             "linecolor": "white",
             "minorgridcolor": "white",
             "startlinecolor": "#2a3f5f"
            },
            "baxis": {
             "endlinecolor": "#2a3f5f",
             "gridcolor": "white",
             "linecolor": "white",
             "minorgridcolor": "white",
             "startlinecolor": "#2a3f5f"
            },
            "type": "carpet"
           }
          ],
          "choropleth": [
           {
            "colorbar": {
             "outlinewidth": 0,
             "ticks": ""
            },
            "type": "choropleth"
           }
          ],
          "contour": [
           {
            "colorbar": {
             "outlinewidth": 0,
             "ticks": ""
            },
            "colorscale": [
             [
              0.0,
              "#0d0887"
             ],
             [
              0.1111111111111111,
              "#46039f"
             ],
             [
              0.2222222222222222,
              "#7201a8"
             ],
             [
              0.3333333333333333,
              "#9c179e"
             ],
             [
              0.4444444444444444,
              "#bd3786"
             ],
             [
              0.5555555555555556,
              "#d8576b"
             ],
             [
              0.6666666666666666,
              "#ed7953"
             ],
             [
              0.7777777777777778,
              "#fb9f3a"
             ],
             [
              0.8888888888888888,
              "#fdca26"
             ],
             [
              1.0,
              "#f0f921"
             ]
            ],
            "type": "contour"
           }
          ],
          "contourcarpet": [
           {
            "colorbar": {
             "outlinewidth": 0,
             "ticks": ""
            },
            "type": "contourcarpet"
           }
          ],
          "heatmap": [
           {
            "colorbar": {
             "outlinewidth": 0,
             "ticks": ""
            },
            "colorscale": [
             [
              0.0,
              "#0d0887"
             ],
             [
              0.1111111111111111,
              "#46039f"
             ],
             [
              0.2222222222222222,
              "#7201a8"
             ],
             [
              0.3333333333333333,
              "#9c179e"
             ],
             [
              0.4444444444444444,
              "#bd3786"
             ],
             [
              0.5555555555555556,
              "#d8576b"
             ],
             [
              0.6666666666666666,
              "#ed7953"
             ],
             [
              0.7777777777777778,
              "#fb9f3a"
             ],
             [
              0.8888888888888888,
              "#fdca26"
             ],
             [
              1.0,
              "#f0f921"
             ]
            ],
            "type": "heatmap"
           }
          ],
          "heatmapgl": [
           {
            "colorbar": {
             "outlinewidth": 0,
             "ticks": ""
            },
            "colorscale": [
             [
              0.0,
              "#0d0887"
             ],
             [
              0.1111111111111111,
              "#46039f"
             ],
             [
              0.2222222222222222,
              "#7201a8"
             ],
             [
              0.3333333333333333,
              "#9c179e"
             ],
             [
              0.4444444444444444,
              "#bd3786"
             ],
             [
              0.5555555555555556,
              "#d8576b"
             ],
             [
              0.6666666666666666,
              "#ed7953"
             ],
             [
              0.7777777777777778,
              "#fb9f3a"
             ],
             [
              0.8888888888888888,
              "#fdca26"
             ],
             [
              1.0,
              "#f0f921"
             ]
            ],
            "type": "heatmapgl"
           }
          ],
          "histogram": [
           {
            "marker": {
             "colorbar": {
              "outlinewidth": 0,
              "ticks": ""
             }
            },
            "type": "histogram"
           }
          ],
          "histogram2d": [
           {
            "colorbar": {
             "outlinewidth": 0,
             "ticks": ""
            },
            "colorscale": [
             [
              0.0,
              "#0d0887"
             ],
             [
              0.1111111111111111,
              "#46039f"
             ],
             [
              0.2222222222222222,
              "#7201a8"
             ],
             [
              0.3333333333333333,
              "#9c179e"
             ],
             [
              0.4444444444444444,
              "#bd3786"
             ],
             [
              0.5555555555555556,
              "#d8576b"
             ],
             [
              0.6666666666666666,
              "#ed7953"
             ],
             [
              0.7777777777777778,
              "#fb9f3a"
             ],
             [
              0.8888888888888888,
              "#fdca26"
             ],
             [
              1.0,
              "#f0f921"
             ]
            ],
            "type": "histogram2d"
           }
          ],
          "histogram2dcontour": [
           {
            "colorbar": {
             "outlinewidth": 0,
             "ticks": ""
            },
            "colorscale": [
             [
              0.0,
              "#0d0887"
             ],
             [
              0.1111111111111111,
              "#46039f"
             ],
             [
              0.2222222222222222,
              "#7201a8"
             ],
             [
              0.3333333333333333,
              "#9c179e"
             ],
             [
              0.4444444444444444,
              "#bd3786"
             ],
             [
              0.5555555555555556,
              "#d8576b"
             ],
             [
              0.6666666666666666,
              "#ed7953"
             ],
             [
              0.7777777777777778,
              "#fb9f3a"
             ],
             [
              0.8888888888888888,
              "#fdca26"
             ],
             [
              1.0,
              "#f0f921"
             ]
            ],
            "type": "histogram2dcontour"
           }
          ],
          "mesh3d": [
           {
            "colorbar": {
             "outlinewidth": 0,
             "ticks": ""
            },
            "type": "mesh3d"
           }
          ],
          "parcoords": [
           {
            "line": {
             "colorbar": {
              "outlinewidth": 0,
              "ticks": ""
             }
            },
            "type": "parcoords"
           }
          ],
          "pie": [
           {
            "automargin": true,
            "type": "pie"
           }
          ],
          "scatter": [
           {
            "marker": {
             "colorbar": {
              "outlinewidth": 0,
              "ticks": ""
             }
            },
            "type": "scatter"
           }
          ],
          "scatter3d": [
           {
            "line": {
             "colorbar": {
              "outlinewidth": 0,
              "ticks": ""
             }
            },
            "marker": {
             "colorbar": {
              "outlinewidth": 0,
              "ticks": ""
             }
            },
            "type": "scatter3d"
           }
          ],
          "scattercarpet": [
           {
            "marker": {
             "colorbar": {
              "outlinewidth": 0,
              "ticks": ""
             }
            },
            "type": "scattercarpet"
           }
          ],
          "scattergeo": [
           {
            "marker": {
             "colorbar": {
              "outlinewidth": 0,
              "ticks": ""
             }
            },
            "type": "scattergeo"
           }
          ],
          "scattergl": [
           {
            "marker": {
             "colorbar": {
              "outlinewidth": 0,
              "ticks": ""
             }
            },
            "type": "scattergl"
           }
          ],
          "scattermapbox": [
           {
            "marker": {
             "colorbar": {
              "outlinewidth": 0,
              "ticks": ""
             }
            },
            "type": "scattermapbox"
           }
          ],
          "scatterpolar": [
           {
            "marker": {
             "colorbar": {
              "outlinewidth": 0,
              "ticks": ""
             }
            },
            "type": "scatterpolar"
           }
          ],
          "scatterpolargl": [
           {
            "marker": {
             "colorbar": {
              "outlinewidth": 0,
              "ticks": ""
             }
            },
            "type": "scatterpolargl"
           }
          ],
          "scatterternary": [
           {
            "marker": {
             "colorbar": {
              "outlinewidth": 0,
              "ticks": ""
             }
            },
            "type": "scatterternary"
           }
          ],
          "surface": [
           {
            "colorbar": {
             "outlinewidth": 0,
             "ticks": ""
            },
            "colorscale": [
             [
              0.0,
              "#0d0887"
             ],
             [
              0.1111111111111111,
              "#46039f"
             ],
             [
              0.2222222222222222,
              "#7201a8"
             ],
             [
              0.3333333333333333,
              "#9c179e"
             ],
             [
              0.4444444444444444,
              "#bd3786"
             ],
             [
              0.5555555555555556,
              "#d8576b"
             ],
             [
              0.6666666666666666,
              "#ed7953"
             ],
             [
              0.7777777777777778,
              "#fb9f3a"
             ],
             [
              0.8888888888888888,
              "#fdca26"
             ],
             [
              1.0,
              "#f0f921"
             ]
            ],
            "type": "surface"
           }
          ],
          "table": [
           {
            "cells": {
             "fill": {
              "color": "#EBF0F8"
             },
             "line": {
              "color": "white"
             }
            },
            "header": {
             "fill": {
              "color": "#C8D4E3"
             },
             "line": {
              "color": "white"
             }
            },
            "type": "table"
           }
          ]
         },
         "layout": {
          "annotationdefaults": {
           "arrowcolor": "#2a3f5f",
           "arrowhead": 0,
           "arrowwidth": 1
          },
          "coloraxis": {
           "colorbar": {
            "outlinewidth": 0,
            "ticks": ""
           }
          },
          "colorscale": {
           "diverging": [
            [
             0,
             "#8e0152"
            ],
            [
             0.1,
             "#c51b7d"
            ],
            [
             0.2,
             "#de77ae"
            ],
            [
             0.3,
             "#f1b6da"
            ],
            [
             0.4,
             "#fde0ef"
            ],
            [
             0.5,
             "#f7f7f7"
            ],
            [
             0.6,
             "#e6f5d0"
            ],
            [
             0.7,
             "#b8e186"
            ],
            [
             0.8,
             "#7fbc41"
            ],
            [
             0.9,
             "#4d9221"
            ],
            [
             1,
             "#276419"
            ]
           ],
           "sequential": [
            [
             0.0,
             "#0d0887"
            ],
            [
             0.1111111111111111,
             "#46039f"
            ],
            [
             0.2222222222222222,
             "#7201a8"
            ],
            [
             0.3333333333333333,
             "#9c179e"
            ],
            [
             0.4444444444444444,
             "#bd3786"
            ],
            [
             0.5555555555555556,
             "#d8576b"
            ],
            [
             0.6666666666666666,
             "#ed7953"
            ],
            [
             0.7777777777777778,
             "#fb9f3a"
            ],
            [
             0.8888888888888888,
             "#fdca26"
            ],
            [
             1.0,
             "#f0f921"
            ]
           ],
           "sequentialminus": [
            [
             0.0,
             "#0d0887"
            ],
            [
             0.1111111111111111,
             "#46039f"
            ],
            [
             0.2222222222222222,
             "#7201a8"
            ],
            [
             0.3333333333333333,
             "#9c179e"
            ],
            [
             0.4444444444444444,
             "#bd3786"
            ],
            [
             0.5555555555555556,
             "#d8576b"
            ],
            [
             0.6666666666666666,
             "#ed7953"
            ],
            [
             0.7777777777777778,
             "#fb9f3a"
            ],
            [
             0.8888888888888888,
             "#fdca26"
            ],
            [
             1.0,
             "#f0f921"
            ]
           ]
          },
          "colorway": [
           "#636efa",
           "#EF553B",
           "#00cc96",
           "#ab63fa",
           "#FFA15A",
           "#19d3f3",
           "#FF6692",
           "#B6E880",
           "#FF97FF",
           "#FECB52"
          ],
          "font": {
           "color": "#2a3f5f"
          },
          "geo": {
           "bgcolor": "white",
           "lakecolor": "white",
           "landcolor": "#E5ECF6",
           "showlakes": true,
           "showland": true,
           "subunitcolor": "white"
          },
          "hoverlabel": {
           "align": "left"
          },
          "hovermode": "closest",
          "mapbox": {
           "style": "light"
          },
          "paper_bgcolor": "white",
          "plot_bgcolor": "#E5ECF6",
          "polar": {
           "angularaxis": {
            "gridcolor": "white",
            "linecolor": "white",
            "ticks": ""
           },
           "bgcolor": "#E5ECF6",
           "radialaxis": {
            "gridcolor": "white",
            "linecolor": "white",
            "ticks": ""
           }
          },
          "scene": {
           "xaxis": {
            "backgroundcolor": "#E5ECF6",
            "gridcolor": "white",
            "gridwidth": 2,
            "linecolor": "white",
            "showbackground": true,
            "ticks": "",
            "zerolinecolor": "white"
           },
           "yaxis": {
            "backgroundcolor": "#E5ECF6",
            "gridcolor": "white",
            "gridwidth": 2,
            "linecolor": "white",
            "showbackground": true,
            "ticks": "",
            "zerolinecolor": "white"
           },
           "zaxis": {
            "backgroundcolor": "#E5ECF6",
            "gridcolor": "white",
            "gridwidth": 2,
            "linecolor": "white",
            "showbackground": true,
            "ticks": "",
            "zerolinecolor": "white"
           }
          },
          "shapedefaults": {
           "line": {
            "color": "#2a3f5f"
           }
          },
          "ternary": {
           "aaxis": {
            "gridcolor": "white",
            "linecolor": "white",
            "ticks": ""
           },
           "baxis": {
            "gridcolor": "white",
            "linecolor": "white",
            "ticks": ""
           },
           "bgcolor": "#E5ECF6",
           "caxis": {
            "gridcolor": "white",
            "linecolor": "white",
            "ticks": ""
           }
          },
          "title": {
           "x": 0.05
          },
          "xaxis": {
           "automargin": true,
           "gridcolor": "white",
           "linecolor": "white",
           "ticks": "",
           "title": {
            "standoff": 15
           },
           "zerolinecolor": "white",
           "zerolinewidth": 2
          },
          "yaxis": {
           "automargin": true,
           "gridcolor": "white",
           "linecolor": "white",
           "ticks": "",
           "title": {
            "standoff": 15
           },
           "zerolinecolor": "white",
           "zerolinewidth": 2
          }
         }
        },
        "title": {
         "text": "Velocity Magnitude vs Experimental"
        },
        "width": 1605,
        "xaxis": {
         "anchor": "y",
         "domain": [
          0.0,
          0.4825
         ]
        },
        "xaxis2": {
         "anchor": "y2",
         "domain": [
          0.5175,
          1.0
         ]
        },
        "yaxis": {
         "anchor": "x",
         "domain": [
          0.0,
          1.0
         ]
        },
        "yaxis2": {
         "anchor": "x2",
         "domain": [
          0.0,
          1.0
         ],
         "matches": "y",
         "showticklabels": false
        }
       }
      },
      "text/html": "<div>\n        \n        \n            <div id=\"314db141-b786-4815-aeb6-889b4c919064\" class=\"plotly-graph-div\" style=\"height:600px; width:1605px;\"></div>\n            <script type=\"text/javascript\">\n                require([\"plotly\"], function(Plotly) {\n                    window.PLOTLYENV=window.PLOTLYENV || {};\n                    \n                if (document.getElementById(\"314db141-b786-4815-aeb6-889b4c919064\")) {\n                    Plotly.newPlot(\n                        '314db141-b786-4815-aeb6-889b4c919064',\n                        [{\"line\": {\"dash\": \"dash\", \"width\": 5}, \"marker\": {\"color\": \"red\", \"line\": {\"color\": \"red\"}, \"size\": 10, \"symbol\": \"triangle-right\"}, \"mode\": \"lines\", \"name\": \"SBES-ASCII\", \"showlegend\": false, \"type\": \"scatter\", \"x\": [0.7212319459853658, 0.7522803329853658, 0.8045765423512196, 0.8515061135292683, 0.8903826360024392, 0.9694223898317073, 1.027428268880488, 1.101752081102439, 1.1469954883609756, 1.1620869468658537, 1.2648871362121952, 1.398277122326829, 1.5253468771439025, 1.6092939932463417, 1.6798777860975609, 1.7941684081585365, 1.9352602218048782, 2.0656821131219507, 2.1273053299390243, 2.184401918321951, 2.288292819017073, 2.410682928585366, 2.4945434746585367, 2.5494293849024388, 2.623139150756097, 2.6640556239512194, 2.635118984121952, 2.625032944531707, 2.644535629295122, 2.6400134578292684, 2.5990968313170733, 2.540006102073171, 2.470257319, 2.375369421895122, 2.271092787204878, 2.1867594893707314, 2.0910502438219507, 2.001880028919512, 1.9864555935560977, 1.958991862919512, 1.848446287295122, 1.7284688806707316, 1.6402629303341465, 1.4983212754682929, 1.3777881924121953, 1.2982198843634143, 1.2200983715609757, 1.1327427968195118, 1.0889223586487806, 1.012970121729268, 0.9416381682829268, 0.8994148720243902, 0.8857585544780489, 0.7807936431297561, 0.6835614476390244], \"xaxis\": \"x\", \"y\": [-0.0314563252, -0.031335849310000004, -0.03119704314, -0.0310530439, -0.030909042810000006, -0.030765043569999997, -0.03062104429463415, -0.03047704324, -0.03033304401, -0.03018904291, -0.030045043680000005, -0.029901042579999995, -0.029757043349999998, -0.029613044110000007, -0.029469043019999995, -0.02932504378, -0.02918104269, -0.02903704345, -0.028893044219999997, -0.02874904312, -0.02860504389, -0.028461042789999995, -0.02831704356, -0.02817304427463415, -0.02802904323, -0.027885043990000004, -0.027741042899999995, -0.027597043660000004, -0.02745304257, -0.02730904333, -0.0271650441, -0.027021043, -0.026877043769999998, -0.02673304267, -0.02658904344, -0.0264450442, -0.02630104311, -0.02615704387, -0.026013042779999995, -0.025869043540000004, -0.025725042450000003, -0.02558104321, -0.02543704398, -0.02529304288, -0.02514904365, -0.02500504255, -0.02486104332, -0.02471704409, -0.024573042990000002, -0.02442904375, -0.02429169975, -0.02420346625, -0.02412424795, -0.024040918799999998, -0.02401195839], \"yaxis\": \"y\"}, {\"line\": {\"dash\": \"dot\", \"width\": 5}, \"marker\": {\"color\": \"green\", \"line\": {\"color\": \"green\"}, \"size\": 10, \"symbol\": \"x\"}, \"mode\": \"lines\", \"name\": \"IDDES-ASCII\", \"showlegend\": false, \"type\": \"scatter\", \"x\": [0.5822123468804878, 0.6410174513712195, 0.6874701977219512, 0.7145088360902441, 0.7276962348421951, 0.799727841897561, 0.8936472540853659, 0.9840228335390244, 1.0780493812219514, 1.1944919609780489, 1.3212837146268293, 1.4544743872463417, 1.5762348803902435, 1.7058051450707317, 1.8647839802853656, 1.988536697009756, 2.0836049491292683, 2.163399719112195, 2.2186611849682927, 2.2956537772926833, 2.359625113560976, 2.408368145048781, 2.454577766195122, 2.4906032250487806, 2.524025449097561, 2.527577910609756, 2.501140227102439, 2.4585619878219513, 2.445378894780488, 2.4390606351951223, 2.4177658860731706, 2.397070698146341, 2.3401682821560974, 2.2565724796268296, 2.197552152734146, 2.1309646436048784, 2.054159371112195, 1.9676365526170727, 1.9054946009926832, 1.8269322434365856, 1.7224248952756098, 1.6439415409341462, 1.5335930368243902, 1.4471866912439024, 1.344641469568293, 1.2683044521634146, 1.1890991338658536, 1.1142805011853658, 1.0376950788195125, 0.9784830390926831, 0.9135880769121952, 0.8397443078097561, 0.7608797873682926, 0.6512899204275611, 0.5898860671239025], \"xaxis\": \"x\", \"y\": [-0.03145632893, -0.031335849310000004, -0.03119704314, -0.0310530439, -0.030909042810000006, -0.030765043569999997, -0.030621042480000003, -0.03047704324, -0.03033304401, -0.03018904291, -0.030045043680000005, -0.029901042579999995, -0.029757043349999998, -0.029613044110000007, -0.029469043019999995, -0.02932504378, -0.02918104269, -0.02903704345, -0.028893044219999997, -0.02874904312, -0.02860504389, -0.028461042789999995, -0.02831704356, -0.028173042505365856, -0.02802904323, -0.027885043990000004, -0.027741042899999995, -0.027597043660000004, -0.02745304257, -0.02730904333, -0.0271650441, -0.027021043, -0.026877043769999998, -0.02673304267, -0.02658904344, -0.0264450442, -0.02630104311, -0.02615704387, -0.026013042779999995, -0.025869043540000004, -0.025725042450000003, -0.02558104321, -0.02543704398, -0.02529304288, -0.02514904365, -0.02500504255, -0.02486104332, -0.02471704409, -0.024573042990000002, -0.02442904375, -0.02429169975, -0.02420346625, -0.024124249774390243, -0.024040918799999998, -0.02401195839], \"yaxis\": \"y\"}, {\"line\": {\"dash\": \"dashdot\", \"width\": 5}, \"marker\": {\"color\": \"blue\", \"line\": {\"color\": \"blue\"}, \"size\": 10, \"symbol\": \"circle\"}, \"mode\": \"lines\", \"name\": \"KW-SST-ASCII\", \"showlegend\": false, \"type\": \"scatter\", \"x\": [0.510313136625, 0.59166301018, 0.61709639193, 0.615835336785, 0.601583173345, 0.5768595736100001, 0.540703318585, 0.49150679041999995, 0.4281049927, 0.35139183946, 0.2700236307955, 0.236398420395, 0.286920691915, 0.40376434725500004, 0.5744216618, 0.7882836720049999, 1.026666365205, 1.273616868325, 1.519241873355, 1.75820289704, 1.9880912494, 2.2106066459, 2.4259137872500003, 2.6300287708, 2.8165063989999997, 2.9776907281000002, 3.1063420467, 3.1964739618, 3.2505360532, 3.2779057646, 3.28785541, 3.2871526901999997, 3.2789408483499995, 3.2652577659000004, 3.24768343295, 3.2272541882, 3.20449406615, 3.1794060696499997, 3.15152092445, 3.11959457465, 3.08085705, 3.0301877703500004, 2.9597980156, 2.8623263729, 2.7342484663, 2.5725365533, 2.375487197, 2.1513887827250002, 1.91903804408, 1.695323994425, 1.48490664584, 1.301395699615, 1.18342859099, 1.036280889675, 0.8970110695800001], \"xaxis\": \"x\", \"y\": [-0.03145632893, -0.031335849310000004, -0.03119704314, -0.0310530439, -0.030909042810000006, -0.030765043569999997, -0.030621042480000003, -0.030477043239999994, -0.03033304401, -0.03018904291, -0.03004504368, -0.02990104258, -0.029757043349999998, -0.02961304411, -0.029469043019999995, -0.02932504378, -0.02918104269, -0.02903704345, -0.028893044220000007, -0.028749043119999998, -0.028605043890000008, -0.028461042789999995, -0.02831704356, -0.028173042460000002, -0.02802904323, -0.027885043990000004, -0.0277410429, -0.02759704366, -0.02745304257, -0.02730904333, -0.0271650441, -0.027021042999999998, -0.026877043770000004, -0.02673304267, -0.02658904344, -0.0264450442, -0.02630104311, -0.02615704387, -0.02601304278, -0.025869043540000004, -0.025725042450000003, -0.02558104321, -0.02543704398, -0.02529304288, -0.02514904365, -0.02500504255, -0.024861043319999998, -0.02471704409, -0.024573042990000002, -0.02442904375, -0.02429169975, -0.02420346625, -0.02412424982, -0.024040918799999998, -0.02401195839], \"yaxis\": \"y\"}, {\"marker\": {\"color\": \"black\", \"line\": {\"color\": \"black\"}, \"size\": 10, \"symbol\": \"circle\"}, \"mode\": \"markers+lines\", \"name\": \"Experimental\", \"showlegend\": false, \"type\": \"scatter\", \"x\": [0.662238358, 0.777926654, 0.9232866590000001, 1.064801684, 1.186931414, 1.305617352, 1.426232776, 1.5429785440000001, 1.664814084, 1.790096687, 1.911657269, 2.025567279, 2.131113923, 2.2399388119999997, 2.304341859, 2.367472336, 2.41247491, 2.449740415, 2.475972865, 2.487820954, 2.4845389730000003, 2.469554551, 2.437850952, 2.397077911, 2.3415351269999998, 2.267521881, 2.187585689, 2.095973657, 1.9770237080000002, 1.8585783280000001, 1.728467952, 1.5884200069999999, 1.443802623, 1.297774311, 1.140590707, 0.994971345, 0.846214737, 0.698943933, 0.5725298360000001, 0.444839969, 0.333078595, 0.229246124, 0.158926649, 0.10651698, 0.101970425, 0.142524423, 0.179258759, 0.19728495699999998, 0.198498612, 0.18924325, 0.156990309], \"xaxis\": \"x\", \"y\": [-0.02401, -0.02416, -0.02431, -0.02446, -0.02461, -0.02476, -0.024909999999999998, -0.02506, -0.02521, -0.02536, -0.025509999999999998, -0.025660000000000002, -0.025810000000000003, -0.025960000000000004, -0.02611, -0.026260000000000002, -0.026410000000000003, -0.026560000000000004, -0.02671, -0.026860000000000002, -0.027010000000000003, -0.027160000000000004, -0.02731, -0.027460000000000002, -0.027610000000000003, -0.027760000000000003, -0.02791, -0.02806, -0.028210000000000002, -0.028360000000000003, -0.02851, -0.02866, -0.028810000000000002, -0.028960000000000003, -0.029110000000000004, -0.02926, -0.029410000000000002, -0.029560000000000003, -0.029710000000000004, -0.02986, -0.030010000000000002, -0.030160000000000003, -0.030310000000000004, -0.03046, -0.030610000000000002, -0.030760000000000003, -0.030910000000000003, -0.03106, -0.03121, -0.03136, -0.03151], \"yaxis\": \"y\"}, {\"line\": {\"dash\": \"dash\", \"width\": 5}, \"marker\": {\"color\": \"red\", \"line\": {\"color\": \"red\"}, \"size\": 10, \"symbol\": \"triangle-right\"}, \"mode\": \"lines\", \"name\": \"SBES-ASCII\", \"showlegend\": false, \"type\": \"scatter\", \"x\": [1.3542237585756096, 1.4573413369560977, 1.5516645714487804, 1.6591699728585363, 1.893619537268293, 2.1953376399, 2.459593777192683, 2.6529750417170734, 2.9306080079121952, 3.2760313272682917, 3.630826085253658, 3.9688598691951222, 4.182038889512195, 4.366931880317074, 4.629290139682927, 4.906635765878049, 5.004017254317073, 5.154846099365853, 5.322656362390244, 5.422602985317073, 5.530857251292684, 5.5733973004146335, 5.618360602999999, 5.677641074414634, 5.711068598097562, 5.7353691751707325, 5.769324768463415, 5.802761379024391, 5.782545652682928, 5.802842286121953, 5.840555302780488, 5.789859031097561, 5.6468614750000015, 5.5176458177560965, 5.411263558, 5.276202126536585, 5.135937078463415, 5.000701864926829, 4.631309747048782, 4.223469295512195, 3.920586338560976, 3.6516523160170733, 3.399148991056097, 3.0837483277439026, 2.8602078872195125, 2.614062169980488, 2.398291222619513, 2.261914445307317, 2.220389838714634, 2.2245832876487803, 2.1434279628390245, 2.027962414217073, 2.004079554085366, 1.8181586836121952, 1.6386184778146342], \"xaxis\": \"x2\", \"y\": [-0.031456326291707325, -0.031335849310000004, -0.03119704314, -0.0310530439, -0.030909042810000006, -0.030765043569999997, -0.03062104293365853, -0.03047704324, -0.03033304401, -0.03018904291, -0.030045043680000005, -0.029901042579999995, -0.029757043349999998, -0.029613044110000007, -0.029469043019999995, -0.02932504378, -0.02918104269, -0.02903704345, -0.028893044219999997, -0.02874904312, -0.02860504389, -0.028461042789999995, -0.02831704356, -0.028173042777560976, -0.02802904323, -0.027885043990000004, -0.027741042899999995, -0.027597043660000004, -0.02745304257, -0.02730904333, -0.0271650441, -0.027021043, -0.026877043769999998, -0.02673304267, -0.02658904344, -0.0264450442, -0.02630104311, -0.02615704387, -0.026013042779999995, -0.025869043540000004, -0.025725042586097563, -0.02558104321, -0.02543704398, -0.02529304288, -0.02514904365, -0.02500504255, -0.02486104332, -0.02471704409, -0.024573042990000002, -0.02442904375, -0.02429169975, -0.02420346625, -0.0241242486797561, -0.024040918799999998, -0.02401195839], \"yaxis\": \"y2\"}, {\"line\": {\"dash\": \"dot\", \"width\": 5}, \"marker\": {\"color\": \"green\", \"line\": {\"color\": \"green\"}, \"size\": 10, \"symbol\": \"x\"}, \"mode\": \"lines\", \"name\": \"IDDES-ASCII\", \"showlegend\": false, \"type\": \"scatter\", \"x\": [1.7480679233365852, 1.9003924400048784, 1.958224634690244, 2.1903593081439023, 2.5404658351512195, 2.8326327270780487, 2.9114432133658537, 2.998683274690244, 3.180561275831708, 3.392522119478049, 3.4799058054658536, 3.66716160577561, 3.7942609007317074, 3.9631235114731695, 4.1284693140560975, 4.355053013780489, 4.557558380829269, 4.716628616170731, 4.882597906585366, 4.974049102975608, 5.059108274682926, 5.13864099804878, 5.2035159694414626, 5.255291185634146, 5.331949231414634, 5.497557649512196, 5.671868188585366, 5.7422553128536595, 5.737265844585366, 5.715025232170732, 5.659237808731708, 5.556695151390244, 5.453586768707316, 5.324797087390244, 5.177818990243902, 5.007059390756098, 4.726967677919512, 4.4534861700682935, 4.037925386892683, 3.591117394268293, 3.2136704025853664, 2.9920463192926827, 2.8286781077097567, 2.720719647014634, 2.449298708392683, 2.239971104980488, 2.1372328425780487, 2.03369781157561, 1.9111215814073168, 1.6308903704999995, 1.6092252861048781, 1.5827670830170733, 1.4740844100853658, 1.401193473392683, 1.3285980123609755], \"xaxis\": \"x2\", \"y\": [-0.03145632893, -0.031335849310000004, -0.03119704314, -0.0310530439, -0.030909042810000006, -0.030765043569999997, -0.030621042480000003, -0.03047704324, -0.03033304401, -0.03018904291, -0.030045043680000005, -0.029901042579999995, -0.029757043349999998, -0.029613044110000007, -0.029469043019999995, -0.02932504378, -0.02918104269, -0.02903704345, -0.028893044219999997, -0.02874904312, -0.02860504389, -0.028461042789999995, -0.02831704356, -0.028173042459999995, -0.02802904323, -0.027885043990000004, -0.027741042899999995, -0.027597043660000004, -0.02745304257, -0.02730904333, -0.0271650441, -0.027021043, -0.026877043769999998, -0.02673304267, -0.02658904344, -0.0264450442, -0.02630104311, -0.02615704387, -0.026013042779999995, -0.025869043540000004, -0.025725042450000003, -0.02558104321, -0.02543704398, -0.02529304288, -0.02514904365, -0.02500504255, -0.02486104332, -0.02471704409, -0.024573042990000002, -0.02442904375, -0.02429169975, -0.02420346625, -0.024124249774390243, -0.024040918799999998, -0.02401195839], \"yaxis\": \"y2\"}, {\"line\": {\"dash\": \"dashdot\", \"width\": 5}, \"marker\": {\"color\": \"blue\", \"line\": {\"color\": \"blue\"}, \"size\": 10, \"symbol\": \"circle\"}, \"mode\": \"lines\", \"name\": \"KW-SST-ASCII\", \"showlegend\": false, \"type\": \"scatter\", \"x\": [0.5688766780100001, 0.71382542415, 0.8606864252449999, 1.050639610825, 1.2962586040700002, 1.6208940983000002, 2.0436031512, 2.5581804845500002, 3.1221319229000004, 3.6757243044, 4.17683390515, 4.6134984788, 4.97594718305, 5.2513337365499995, 5.4448875152500005, 5.574529405599999, 5.6579839073, 5.708339471, 5.734293312799999, 5.7415453425, 5.734142150399999, 5.7150391555499995, 5.686454552100001, 5.65020380095, 5.6076355308500005, 5.5588875427, 5.502558802849999, 5.4356847812, 5.3542969117500006, 5.254145637250001, 5.13147323225, 4.9819658762, 4.7997924884500005, 4.580155282350001, 4.3197509635000015, 4.01888101105, 3.6826914319, 3.3162170738, 2.9203945955, 2.497551438885, 2.062865880425, 1.64311064714, 1.26775089205, 0.959125092085, 0.72780069793, 0.57450426945, 0.49266488037, 0.46528070443, 0.468728422165, 0.485929558275, 0.505544021695, 0.525732345385, 0.5399272545699999, 0.5173882918899999, 0.4917475127], \"xaxis\": \"x2\", \"y\": [-0.03145632893, -0.031335849310000004, -0.03119704314, -0.0310530439, -0.030909042810000006, -0.030765043569999997, -0.030621042480000003, -0.030477043239999994, -0.03033304401, -0.03018904291, -0.03004504368, -0.02990104258, -0.029757043349999998, -0.02961304411, -0.029469043019999995, -0.02932504378, -0.02918104269, -0.02903704345, -0.028893044220000007, -0.028749043119999998, -0.028605043890000008, -0.028461042789999995, -0.02831704356, -0.028173042460000002, -0.02802904323, -0.027885043990000004, -0.0277410429, -0.02759704366, -0.02745304257, -0.02730904333, -0.0271650441, -0.027021042999999998, -0.026877043770000004, -0.02673304267, -0.02658904344, -0.0264450442, -0.02630104311, -0.02615704387, -0.02601304278, -0.025869043540000004, -0.025725042450000003, -0.02558104321, -0.02543704398, -0.02529304288, -0.02514904365, -0.02500504255, -0.024861043319999998, -0.02471704409, -0.024573042990000002, -0.02442904375, -0.02429169975, -0.02420346625, -0.02412424982, -0.024040918799999998, -0.02401195839], \"yaxis\": \"y2\"}, {\"marker\": {\"color\": \"black\", \"line\": {\"color\": \"black\"}, \"size\": 10, \"symbol\": \"circle\"}, \"mode\": \"markers+lines\", \"name\": \"Experimental\", \"showlegend\": false, \"type\": \"scatter\", \"x\": [0.53052, 0.5423100000000001, 0.54068, 0.52653, 0.50625, 0.53947, 0.61387, 0.6914899999999999, 0.7943100000000001, 0.905, 1.09103, 1.2746899999999999, 1.4747299999999999, 1.6854799999999999, 1.89868, 2.15576, 2.3910299999999998, 2.65804, 2.88821, 3.12508, 3.3778, 3.61164, 3.82251, 4.02064, 4.20383, 4.3649, 4.49949, 4.60637, 4.66247, 4.72149, 4.71364, 4.68845, 4.61461, 4.57943, 4.50087, 4.39011, 4.26685, 4.08652, 3.9104099999999997, 3.70051, 3.480932488, 3.219334996, 2.9405598569999998, 2.671257492, 2.3899760430000003, 2.130672852, 1.8796939069999998, 1.6295049169999998, 1.408515499, 1.255905636, 1.024761094], \"xaxis\": \"x2\", \"y\": [-0.02401, -0.02416, -0.02431, -0.02446, -0.02461, -0.02476, -0.024909999999999998, -0.02506, -0.02521, -0.02536, -0.025509999999999998, -0.025660000000000002, -0.025810000000000003, -0.025960000000000004, -0.02611, -0.026260000000000002, -0.026410000000000003, -0.026560000000000004, -0.02671, -0.026860000000000002, -0.027010000000000003, -0.027160000000000004, -0.02731, -0.027460000000000002, -0.027610000000000003, -0.027760000000000003, -0.02791, -0.02806, -0.028210000000000002, -0.028360000000000003, -0.02851, -0.02866, -0.028810000000000002, -0.028960000000000003, -0.029110000000000004, -0.02926, -0.029410000000000002, -0.029560000000000003, -0.029710000000000004, -0.02986, -0.030010000000000002, -0.030160000000000003, -0.030310000000000004, -0.03046, -0.030610000000000002, -0.030760000000000003, -0.030910000000000003, -0.03106, -0.03121, -0.03136, -0.03151], \"yaxis\": \"y2\"}],\n                        {\"font\": {\"family\": \"Arial\", \"size\": 32}, \"height\": 600, \"legend\": {\"itemsizing\": \"constant\"}, \"template\": {\"data\": {\"bar\": [{\"error_x\": {\"color\": \"#2a3f5f\"}, \"error_y\": {\"color\": \"#2a3f5f\"}, \"marker\": {\"line\": {\"color\": \"#E5ECF6\", \"width\": 0.5}}, \"type\": \"bar\"}], \"barpolar\": [{\"marker\": {\"line\": {\"color\": \"#E5ECF6\", \"width\": 0.5}}, \"type\": \"barpolar\"}], \"carpet\": [{\"aaxis\": {\"endlinecolor\": \"#2a3f5f\", \"gridcolor\": \"white\", \"linecolor\": \"white\", \"minorgridcolor\": \"white\", \"startlinecolor\": \"#2a3f5f\"}, \"baxis\": {\"endlinecolor\": \"#2a3f5f\", \"gridcolor\": \"white\", \"linecolor\": \"white\", \"minorgridcolor\": \"white\", \"startlinecolor\": \"#2a3f5f\"}, \"type\": \"carpet\"}], \"choropleth\": [{\"colorbar\": {\"outlinewidth\": 0, \"ticks\": \"\"}, \"type\": \"choropleth\"}], \"contour\": [{\"colorbar\": {\"outlinewidth\": 0, \"ticks\": \"\"}, \"colorscale\": [[0.0, \"#0d0887\"], [0.1111111111111111, \"#46039f\"], [0.2222222222222222, \"#7201a8\"], [0.3333333333333333, \"#9c179e\"], [0.4444444444444444, \"#bd3786\"], [0.5555555555555556, \"#d8576b\"], [0.6666666666666666, \"#ed7953\"], [0.7777777777777778, \"#fb9f3a\"], [0.8888888888888888, \"#fdca26\"], [1.0, \"#f0f921\"]], \"type\": \"contour\"}], \"contourcarpet\": [{\"colorbar\": {\"outlinewidth\": 0, \"ticks\": \"\"}, \"type\": \"contourcarpet\"}], \"heatmap\": [{\"colorbar\": {\"outlinewidth\": 0, \"ticks\": \"\"}, \"colorscale\": [[0.0, \"#0d0887\"], [0.1111111111111111, \"#46039f\"], [0.2222222222222222, \"#7201a8\"], [0.3333333333333333, \"#9c179e\"], [0.4444444444444444, \"#bd3786\"], [0.5555555555555556, \"#d8576b\"], [0.6666666666666666, \"#ed7953\"], [0.7777777777777778, \"#fb9f3a\"], [0.8888888888888888, \"#fdca26\"], [1.0, \"#f0f921\"]], \"type\": \"heatmap\"}], \"heatmapgl\": [{\"colorbar\": {\"outlinewidth\": 0, \"ticks\": \"\"}, \"colorscale\": [[0.0, \"#0d0887\"], [0.1111111111111111, \"#46039f\"], [0.2222222222222222, \"#7201a8\"], [0.3333333333333333, \"#9c179e\"], [0.4444444444444444, \"#bd3786\"], [0.5555555555555556, \"#d8576b\"], [0.6666666666666666, \"#ed7953\"], [0.7777777777777778, \"#fb9f3a\"], [0.8888888888888888, \"#fdca26\"], [1.0, \"#f0f921\"]], \"type\": \"heatmapgl\"}], \"histogram\": [{\"marker\": {\"colorbar\": {\"outlinewidth\": 0, \"ticks\": \"\"}}, \"type\": \"histogram\"}], \"histogram2d\": [{\"colorbar\": {\"outlinewidth\": 0, \"ticks\": \"\"}, \"colorscale\": [[0.0, \"#0d0887\"], [0.1111111111111111, \"#46039f\"], [0.2222222222222222, \"#7201a8\"], [0.3333333333333333, \"#9c179e\"], [0.4444444444444444, \"#bd3786\"], [0.5555555555555556, \"#d8576b\"], [0.6666666666666666, \"#ed7953\"], [0.7777777777777778, \"#fb9f3a\"], [0.8888888888888888, \"#fdca26\"], [1.0, \"#f0f921\"]], \"type\": \"histogram2d\"}], \"histogram2dcontour\": [{\"colorbar\": {\"outlinewidth\": 0, \"ticks\": \"\"}, \"colorscale\": [[0.0, \"#0d0887\"], [0.1111111111111111, \"#46039f\"], [0.2222222222222222, \"#7201a8\"], [0.3333333333333333, \"#9c179e\"], [0.4444444444444444, \"#bd3786\"], [0.5555555555555556, \"#d8576b\"], [0.6666666666666666, \"#ed7953\"], [0.7777777777777778, \"#fb9f3a\"], [0.8888888888888888, \"#fdca26\"], [1.0, \"#f0f921\"]], \"type\": \"histogram2dcontour\"}], \"mesh3d\": [{\"colorbar\": {\"outlinewidth\": 0, \"ticks\": \"\"}, \"type\": \"mesh3d\"}], \"parcoords\": [{\"line\": {\"colorbar\": {\"outlinewidth\": 0, \"ticks\": \"\"}}, \"type\": \"parcoords\"}], \"pie\": [{\"automargin\": true, \"type\": \"pie\"}], \"scatter\": [{\"marker\": {\"colorbar\": {\"outlinewidth\": 0, \"ticks\": \"\"}}, \"type\": \"scatter\"}], \"scatter3d\": [{\"line\": {\"colorbar\": {\"outlinewidth\": 0, \"ticks\": \"\"}}, \"marker\": {\"colorbar\": {\"outlinewidth\": 0, \"ticks\": \"\"}}, \"type\": \"scatter3d\"}], \"scattercarpet\": [{\"marker\": {\"colorbar\": {\"outlinewidth\": 0, \"ticks\": \"\"}}, \"type\": \"scattercarpet\"}], \"scattergeo\": [{\"marker\": {\"colorbar\": {\"outlinewidth\": 0, \"ticks\": \"\"}}, \"type\": \"scattergeo\"}], \"scattergl\": [{\"marker\": {\"colorbar\": {\"outlinewidth\": 0, \"ticks\": \"\"}}, \"type\": \"scattergl\"}], \"scattermapbox\": [{\"marker\": {\"colorbar\": {\"outlinewidth\": 0, \"ticks\": \"\"}}, \"type\": \"scattermapbox\"}], \"scatterpolar\": [{\"marker\": {\"colorbar\": {\"outlinewidth\": 0, \"ticks\": \"\"}}, \"type\": \"scatterpolar\"}], \"scatterpolargl\": [{\"marker\": {\"colorbar\": {\"outlinewidth\": 0, \"ticks\": \"\"}}, \"type\": \"scatterpolargl\"}], \"scatterternary\": [{\"marker\": {\"colorbar\": {\"outlinewidth\": 0, \"ticks\": \"\"}}, \"type\": \"scatterternary\"}], \"surface\": [{\"colorbar\": {\"outlinewidth\": 0, \"ticks\": \"\"}, \"colorscale\": [[0.0, \"#0d0887\"], [0.1111111111111111, \"#46039f\"], [0.2222222222222222, \"#7201a8\"], [0.3333333333333333, \"#9c179e\"], [0.4444444444444444, \"#bd3786\"], [0.5555555555555556, \"#d8576b\"], [0.6666666666666666, \"#ed7953\"], [0.7777777777777778, \"#fb9f3a\"], [0.8888888888888888, \"#fdca26\"], [1.0, \"#f0f921\"]], \"type\": \"surface\"}], \"table\": [{\"cells\": {\"fill\": {\"color\": \"#EBF0F8\"}, \"line\": {\"color\": \"white\"}}, \"header\": {\"fill\": {\"color\": \"#C8D4E3\"}, \"line\": {\"color\": \"white\"}}, \"type\": \"table\"}]}, \"layout\": {\"annotationdefaults\": {\"arrowcolor\": \"#2a3f5f\", \"arrowhead\": 0, \"arrowwidth\": 1}, \"coloraxis\": {\"colorbar\": {\"outlinewidth\": 0, \"ticks\": \"\"}}, \"colorscale\": {\"diverging\": [[0, \"#8e0152\"], [0.1, \"#c51b7d\"], [0.2, \"#de77ae\"], [0.3, \"#f1b6da\"], [0.4, \"#fde0ef\"], [0.5, \"#f7f7f7\"], [0.6, \"#e6f5d0\"], [0.7, \"#b8e186\"], [0.8, \"#7fbc41\"], [0.9, \"#4d9221\"], [1, \"#276419\"]], \"sequential\": [[0.0, \"#0d0887\"], [0.1111111111111111, \"#46039f\"], [0.2222222222222222, \"#7201a8\"], [0.3333333333333333, \"#9c179e\"], [0.4444444444444444, \"#bd3786\"], [0.5555555555555556, \"#d8576b\"], [0.6666666666666666, \"#ed7953\"], [0.7777777777777778, \"#fb9f3a\"], [0.8888888888888888, \"#fdca26\"], [1.0, \"#f0f921\"]], \"sequentialminus\": [[0.0, \"#0d0887\"], [0.1111111111111111, \"#46039f\"], [0.2222222222222222, \"#7201a8\"], [0.3333333333333333, \"#9c179e\"], [0.4444444444444444, \"#bd3786\"], [0.5555555555555556, \"#d8576b\"], [0.6666666666666666, \"#ed7953\"], [0.7777777777777778, \"#fb9f3a\"], [0.8888888888888888, \"#fdca26\"], [1.0, \"#f0f921\"]]}, \"colorway\": [\"#636efa\", \"#EF553B\", \"#00cc96\", \"#ab63fa\", \"#FFA15A\", \"#19d3f3\", \"#FF6692\", \"#B6E880\", \"#FF97FF\", \"#FECB52\"], \"font\": {\"color\": \"#2a3f5f\"}, \"geo\": {\"bgcolor\": \"white\", \"lakecolor\": \"white\", \"landcolor\": \"#E5ECF6\", \"showlakes\": true, \"showland\": true, \"subunitcolor\": \"white\"}, \"hoverlabel\": {\"align\": \"left\"}, \"hovermode\": \"closest\", \"mapbox\": {\"style\": \"light\"}, \"paper_bgcolor\": \"white\", \"plot_bgcolor\": \"#E5ECF6\", \"polar\": {\"angularaxis\": {\"gridcolor\": \"white\", \"linecolor\": \"white\", \"ticks\": \"\"}, \"bgcolor\": \"#E5ECF6\", \"radialaxis\": {\"gridcolor\": \"white\", \"linecolor\": \"white\", \"ticks\": \"\"}}, \"scene\": {\"xaxis\": {\"backgroundcolor\": \"#E5ECF6\", \"gridcolor\": \"white\", \"gridwidth\": 2, \"linecolor\": \"white\", \"showbackground\": true, \"ticks\": \"\", \"zerolinecolor\": \"white\"}, \"yaxis\": {\"backgroundcolor\": \"#E5ECF6\", \"gridcolor\": \"white\", \"gridwidth\": 2, \"linecolor\": \"white\", \"showbackground\": true, \"ticks\": \"\", \"zerolinecolor\": \"white\"}, \"zaxis\": {\"backgroundcolor\": \"#E5ECF6\", \"gridcolor\": \"white\", \"gridwidth\": 2, \"linecolor\": \"white\", \"showbackground\": true, \"ticks\": \"\", \"zerolinecolor\": \"white\"}}, \"shapedefaults\": {\"line\": {\"color\": \"#2a3f5f\"}}, \"ternary\": {\"aaxis\": {\"gridcolor\": \"white\", \"linecolor\": \"white\", \"ticks\": \"\"}, \"baxis\": {\"gridcolor\": \"white\", \"linecolor\": \"white\", \"ticks\": \"\"}, \"bgcolor\": \"#E5ECF6\", \"caxis\": {\"gridcolor\": \"white\", \"linecolor\": \"white\", \"ticks\": \"\"}}, \"title\": {\"x\": 0.05}, \"xaxis\": {\"automargin\": true, \"gridcolor\": \"white\", \"linecolor\": \"white\", \"ticks\": \"\", \"title\": {\"standoff\": 15}, \"zerolinecolor\": \"white\", \"zerolinewidth\": 2}, \"yaxis\": {\"automargin\": true, \"gridcolor\": \"white\", \"linecolor\": \"white\", \"ticks\": \"\", \"title\": {\"standoff\": 15}, \"zerolinecolor\": \"white\", \"zerolinewidth\": 2}}}, \"title\": {\"text\": \"Velocity Magnitude vs Experimental\"}, \"width\": 1605, \"xaxis\": {\"anchor\": \"y\", \"domain\": [0.0, 0.4825]}, \"xaxis2\": {\"anchor\": \"y2\", \"domain\": [0.5175, 1.0]}, \"yaxis\": {\"anchor\": \"x\", \"domain\": [0.0, 1.0]}, \"yaxis2\": {\"anchor\": \"x2\", \"domain\": [0.0, 1.0], \"matches\": \"y\", \"showticklabels\": false}},\n                        {\"responsive\": true}\n                    ).then(function(){\n                            \nvar gd = document.getElementById('314db141-b786-4815-aeb6-889b4c919064');\nvar x = new MutationObserver(function (mutations, observer) {{\n        var display = window.getComputedStyle(gd).display;\n        if (!display || display === 'none') {{\n            console.log([gd, 'removed!']);\n            Plotly.purge(gd);\n            observer.disconnect();\n        }}\n}});\n\n// Listen for the removal of the full notebook cells\nvar notebookContainer = gd.closest('#notebook-container');\nif (notebookContainer) {{\n    x.observe(notebookContainer, {childList: true});\n}}\n\n// Listen for the clearing of the current output cell\nvar outputEl = gd.closest('.output');\nif (outputEl) {{\n    x.observe(outputEl, {childList: true});\n}}\n\n                        })\n                };\n                });\n            </script>\n        </div>"
     },
     "metadata": {},
     "output_type": "display_data"
    }
   ],
   "source": [
    "marker_size = 10\n",
    "fig = make_subplots(\n",
    "    rows=1,\n",
    "    cols=2,\n",
    "    # shared_xaxes=True,\n",
    "    shared_yaxes=True,\n",
    "    # x_title=\"Velocity Magnitude (m/s)\",\n",
    "    # y_title=\"Velocity Magnitude (m/s)\",\n",
    "    # subplot_titles=(\"C1 X = 0.020m\", \"C5 X = 0.020m\",\"C1 X = 0.025m\",\"C5 X = 0.025m\", \"C1 X = 0.030m\",\"C5 X = 0.030m\", \"C1 X = 0.035m\", \"C5 X = 0.035m\"),\n",
    "    vertical_spacing=.05, horizontal_spacing=.035)\n",
    "\n",
    "# fig.add_annotation(dict(font=dict(color=\"black\",size=14),\n",
    "#                             x=-.1,\n",
    "#                             y=.5,\n",
    "#                             showarrow=False,\n",
    "#                             text=\"Y-Coordinate from Origin\",\n",
    "#                             textangle=-90,\n",
    "#                             xref=\"paper\",\n",
    "#                             yref=\"paper\"\n",
    "#                            )\n",
    "#                   )\n",
    "\n",
    "\n",
    "\n",
    "\n",
    "fig.add_trace(go.Scatter(x=diff_ascii[\"C1_SBES\"]['D3']['velocity-magnitude_bin_mean'],\n",
    "                         y=diff_ascii[\"C1_SBES\"][\"D3\"]['y-coordinate_bin_mean'],\n",
    "                         mode='lines',\n",
    "                         line=dict(dash='dash',\n",
    "                                   width=line_size),\n",
    "                         name='SBES-ASCII',\n",
    "                         showlegend=False,\n",
    "                         marker=dict(\n",
    "                              color='red',\n",
    "                              size=marker_size,\n",
    "                              line=dict(color='red'),\n",
    "                              symbol = 'triangle-right')),\n",
    "              row=1, col=1)\n",
    "\n",
    "fig.add_trace(go.Scatter(x=diff_ascii[\"C1_IDDES\"]['D3']['velocity-magnitude_bin_mean'],\n",
    "                         y=diff_ascii[\"C1_IDDES\"][\"D3\"]['y-coordinate_bin_mean'],\n",
    "                         mode='lines',\n",
    "                         line=dict(dash='dot',\n",
    "                                   width=line_size),\n",
    "                         showlegend=False,\n",
    "                         name='IDDES-ASCII',\n",
    "                          marker=dict(\n",
    "                              color='green',\n",
    "                              size=marker_size,\n",
    "                              line=dict(color='green'),\n",
    "                              symbol = 'x')\n",
    "                          ),\n",
    "              row=1, col=1)\n",
    "\n",
    "fig.add_trace(go.Scatter(x=diff_ascii[\"C1_KW\"]['D3']['velocity-magnitude_bin_mean'],\n",
    "                         y=diff_ascii[\"C1_KW\"][\"D3\"]['y-coordinate_bin_mean'],\n",
    "                         mode='lines',\n",
    "                         line=dict(dash='dashdot',\n",
    "                                   width=line_size),\n",
    "                         showlegend=False,\n",
    "                         name='KW-SST-ASCII',\n",
    "                          marker=dict(\n",
    "                              color='blue',\n",
    "                              size=marker_size,\n",
    "                              line=dict(color='blue'),\n",
    "                              symbol = 'circle')\n",
    "                          ),\n",
    "              row=1, col=1)\n",
    "\n",
    "\n",
    "fig.add_trace(go.Scatter(x=C1_Experimental[\"D3\"]['Velocity_Magnitude'],\n",
    "                         y=C1_Experimental[\"D3\"]['y-coord'],\n",
    "                         mode='markers+lines',\n",
    "                         showlegend=False,\n",
    "                         name='Experimental',\n",
    "                          marker=dict(\n",
    "                              color='black',\n",
    "                              size=marker_size,\n",
    "                              line=dict(color='black'),\n",
    "                              symbol = 'circle')\n",
    "                          ),\n",
    "              row=1, col=1)\n",
    "\n",
    "fig.add_trace(go.Scatter(x=diff_ascii[\"C5_SBES\"]['D3']['velocity-magnitude_bin_mean'],\n",
    "                         y=diff_ascii[\"C5_SBES\"][\"D3\"]['y-coordinate_bin_mean'],\n",
    "                         mode='lines',\n",
    "                         line=dict(dash='dash',\n",
    "                                   width=line_size),\n",
    "                         name='SBES-ASCII',\n",
    "                          marker=dict(\n",
    "                              color='red',\n",
    "                              size=marker_size,\n",
    "                              line=dict(color='red'),\n",
    "                              symbol = 'triangle-right'),\n",
    "                              showlegend=False),\n",
    "              row=1, col=2)\n",
    "\n",
    "fig.add_trace(go.Scatter(x=diff_ascii[\"C5_IDDES\"]['D3']['velocity-magnitude_bin_mean'],\n",
    "                         y=diff_ascii[\"C5_IDDES\"][\"D3\"]['y-coordinate_bin_mean'],\n",
    "                         mode='lines',\n",
    "\n",
    "                         line=dict(dash='dot',\n",
    "                                   width=line_size),\n",
    "                         name='IDDES-ASCII',\n",
    "                          marker=dict(\n",
    "                              color='green',\n",
    "                              size=marker_size,\n",
    "                              line=dict(color='green'),\n",
    "                              symbol = 'x'),\n",
    "                          showlegend=False),\n",
    "              row=1, col=2)\n",
    "\n",
    "fig.add_trace(go.Scatter(x=diff_ascii[\"C5_KW\"]['D3']['velocity-magnitude_bin_mean'],\n",
    "                         y=diff_ascii[\"C5_KW\"][\"D3\"]['y-coordinate_bin_mean'],\n",
    "                         mode='lines',\n",
    "                         line=dict(dash='dashdot',\n",
    "                                   width=line_size),\n",
    "                         name='KW-SST-ASCII',\n",
    "                          marker=dict(\n",
    "                              color='blue',\n",
    "                              size=marker_size,\n",
    "                              line=dict(color='blue'),\n",
    "                              symbol = 'circle'),\n",
    "                         showlegend=False),\n",
    "              row=1, col=2)\n",
    "\n",
    "\n",
    "fig.add_trace(go.Scatter(x=C5_Experimental[\"D3\"]['Velocity_Magnitude'],\n",
    "                         y=C5_Experimental[\"D3\"]['y-coord'],\n",
    "                         mode='markers+lines',\n",
    "                         name='Experimental',\n",
    "                          marker=dict(\n",
    "                              color='black',\n",
    "                              size=marker_size,\n",
    "                              line=dict(color='black'),\n",
    "                              symbol = 'circle'),\n",
    "                         showlegend=False),\n",
    "              row=1, col=2)\n",
    "\n",
    "fig.update_layout(height=600, width=1605,\n",
    "                  title_text=\"Velocity Magnitude vs Experimental\",\n",
    "                  font=dict(\n",
    "                      family=\"Arial\",\n",
    "                      size=32),\n",
    "                  )\n",
    "fig.update_annotations(font_size=32)\n",
    "fig.update_layout(legend={'itemsizing': 'constant'})\n",
    "fig.show()\n",
    "\n",
    "fig.write_image(r\"C:\\Users\\Joseph Tarriela\\Documents\\GitHub\\FDA_Blood_Pump\\postpro\\images\\D3.png\")"
   ],
   "metadata": {
    "collapsed": false,
    "pycharm": {
     "name": "#%%\n"
    }
   }
  }
 ],
 "metadata": {
  "kernelspec": {
   "name": "python3",
   "language": "python",
   "display_name": "Python 3"
  },
  "language_info": {
   "codemirror_mode": {
    "name": "ipython",
    "version": 2
   },
   "file_extension": ".py",
   "mimetype": "text/x-python",
   "name": "python",
   "nbconvert_exporter": "python",
   "pygments_lexer": "ipython2",
   "version": "2.7.6"
  }
 },
 "nbformat": 4,
 "nbformat_minor": 0
}